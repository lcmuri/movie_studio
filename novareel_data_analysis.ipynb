{
 "cells": [
  {
   "cell_type": "markdown",
   "metadata": {},
   "source": [
    "# Nova Reel Movie Studio"
   ]
  },
  {
   "cell_type": "markdown",
   "metadata": {},
   "source": [
    "### Exploratory Data Analysis (EDA)"
   ]
  },
  {
   "cell_type": "markdown",
   "metadata": {},
   "source": [
    "This is a crucial initial step in data analysis. \n",
    "EDA involves **investigating and summarizing the main characteristics of our dataset**. \n",
    "\n",
    "**Core Goals of EDA:**\n",
    "\n",
    "1. Understand the Data\n",
    "2. Identify Patterns and Trends\n",
    "3. Detect Anomalies and Outliers\n",
    "4. Assess Data Quality\n",
    "5. Communicate Insights"
   ]
  },
  {
   "cell_type": "markdown",
   "metadata": {},
   "source": [
    "### Data Understanding"
   ]
  },
  {
   "cell_type": "code",
   "execution_count": 1,
   "metadata": {},
   "outputs": [],
   "source": [
    "# Import standard packages\n",
    "import pandas as pd\n",
    "import numpy as np\n",
    "import matplotlib.pyplot as plt\n",
    "import seaborn as sns\n",
    "import sqlite3\n",
    "import zipfile\n",
    "import os\n",
    "\n",
    "%matplotlib inline"
   ]
  },
  {
   "cell_type": "markdown",
   "metadata": {},
   "source": [
    "### Fetch the required data\n",
    "\n",
    "To extract the im.db.zip file using Python, you can use the zipfile module. This will extract the contents of im.db.zip into the extractedData directory."
   ]
  },
  {
   "cell_type": "code",
   "execution_count": 2,
   "metadata": {},
   "outputs": [
    {
     "name": "stdout",
     "output_type": "stream",
     "text": [
      "Extraction complete.\n"
     ]
    }
   ],
   "source": [
    "# Define the path to the zip file and the extraction directory\n",
    "zip_file_path = './zippedData/im.db.zip'\n",
    "extraction_dir = './extractedData/'\n",
    "\n",
    "# Check if the file exists\n",
    "if os.path.exists(zip_file_path):\n",
    "    # Extract the zip file\n",
    "    with zipfile.ZipFile(zip_file_path, 'r') as zip_ref:\n",
    "        zip_ref.extractall(extraction_dir)\n",
    "    print(\"Extraction complete.\")\n",
    "else:\n",
    "    print(f\"File {zip_file_path} does not exist.\")"
   ]
  },
  {
   "cell_type": "markdown",
   "metadata": {},
   "source": [
    "This code connects to a SQLite database (im.db), creates a cursor, and then uses pandas to execute a query that gets and stores the names of all tables within that database."
   ]
  },
  {
   "cell_type": "code",
   "execution_count": 2,
   "metadata": {},
   "outputs": [
    {
     "data": {
      "text/html": [
       "<div>\n",
       "<style scoped>\n",
       "    .dataframe tbody tr th:only-of-type {\n",
       "        vertical-align: middle;\n",
       "    }\n",
       "\n",
       "    .dataframe tbody tr th {\n",
       "        vertical-align: top;\n",
       "    }\n",
       "\n",
       "    .dataframe thead th {\n",
       "        text-align: right;\n",
       "    }\n",
       "</style>\n",
       "<table border=\"1\" class=\"dataframe\">\n",
       "  <thead>\n",
       "    <tr style=\"text-align: right;\">\n",
       "      <th></th>\n",
       "      <th>name</th>\n",
       "    </tr>\n",
       "  </thead>\n",
       "  <tbody>\n",
       "    <tr>\n",
       "      <th>0</th>\n",
       "      <td>movie_basics</td>\n",
       "    </tr>\n",
       "    <tr>\n",
       "      <th>1</th>\n",
       "      <td>directors</td>\n",
       "    </tr>\n",
       "    <tr>\n",
       "      <th>2</th>\n",
       "      <td>known_for</td>\n",
       "    </tr>\n",
       "    <tr>\n",
       "      <th>3</th>\n",
       "      <td>movie_akas</td>\n",
       "    </tr>\n",
       "    <tr>\n",
       "      <th>4</th>\n",
       "      <td>movie_ratings</td>\n",
       "    </tr>\n",
       "    <tr>\n",
       "      <th>5</th>\n",
       "      <td>persons</td>\n",
       "    </tr>\n",
       "    <tr>\n",
       "      <th>6</th>\n",
       "      <td>principals</td>\n",
       "    </tr>\n",
       "    <tr>\n",
       "      <th>7</th>\n",
       "      <td>writers</td>\n",
       "    </tr>\n",
       "  </tbody>\n",
       "</table>\n",
       "</div>"
      ],
      "text/plain": [
       "            name\n",
       "0   movie_basics\n",
       "1      directors\n",
       "2      known_for\n",
       "3     movie_akas\n",
       "4  movie_ratings\n",
       "5        persons\n",
       "6     principals\n",
       "7        writers"
      ]
     },
     "execution_count": 2,
     "metadata": {},
     "output_type": "execute_result"
    }
   ],
   "source": [
    "conn = sqlite3.connect('./extractedData/im.db')\n",
    "cursor = conn.cursor()\n",
    "\n",
    "# Display table names\n",
    "table_names = pd.read_sql(\"\"\"SELECT name FROM sqlite_master WHERE type = 'table';\"\"\", conn)\n",
    "table_names"
   ]
  },
  {
   "cell_type": "markdown",
   "metadata": {},
   "source": [
    "We read all data from the movie_basics table in the connected SQLite database into a pandas DataFrame named movie_basics_df, and then we display a summary of this DataFrame's structure and contents."
   ]
  },
  {
   "cell_type": "code",
   "execution_count": 3,
   "metadata": {},
   "outputs": [
    {
     "name": "stdout",
     "output_type": "stream",
     "text": [
      "<class 'pandas.core.frame.DataFrame'>\n",
      "RangeIndex: 146144 entries, 0 to 146143\n",
      "Data columns (total 6 columns):\n",
      " #   Column           Non-Null Count   Dtype  \n",
      "---  ------           --------------   -----  \n",
      " 0   movie_id         146144 non-null  object \n",
      " 1   primary_title    146144 non-null  object \n",
      " 2   original_title   146123 non-null  object \n",
      " 3   start_year       146144 non-null  int64  \n",
      " 4   runtime_minutes  114405 non-null  float64\n",
      " 5   genres           140736 non-null  object \n",
      "dtypes: float64(1), int64(1), object(4)\n",
      "memory usage: 6.7+ MB\n"
     ]
    }
   ],
   "source": [
    "movie_basics_df = pd.read_sql(\"SELECT * FROM movie_basics;\", conn)\n",
    "movie_basics_df.info()"
   ]
  },
  {
   "cell_type": "code",
   "execution_count": 4,
   "metadata": {},
   "outputs": [
    {
     "name": "stdout",
     "output_type": "stream",
     "text": [
      "<class 'pandas.core.frame.DataFrame'>\n",
      "RangeIndex: 73856 entries, 0 to 73855\n",
      "Data columns (total 3 columns):\n",
      " #   Column         Non-Null Count  Dtype  \n",
      "---  ------         --------------  -----  \n",
      " 0   movie_id       73856 non-null  object \n",
      " 1   averagerating  73856 non-null  float64\n",
      " 2   numvotes       73856 non-null  int64  \n",
      "dtypes: float64(1), int64(1), object(1)\n",
      "memory usage: 1.7+ MB\n"
     ]
    }
   ],
   "source": [
    "movie_ratings_df = pd.read_sql(\"SELECT * FROM movie_ratings;\", conn)\n",
    "movie_ratings_df.info()"
   ]
  },
  {
   "cell_type": "code",
   "execution_count": 5,
   "metadata": {},
   "outputs": [],
   "source": [
    "# Close the connection\n",
    "conn.close()"
   ]
  },
  {
   "cell_type": "markdown",
   "metadata": {},
   "source": [
    "### Data Preparation"
   ]
  },
  {
   "cell_type": "markdown",
   "metadata": {},
   "source": [
    "Data preparation and cleaning is the crucial process of getting your raw, messy data into a usable and reliable format for analysis. It involves a series of steps to identify and correct errors, inconsistencies, and missing values, as well as transforming and structuring the data to make it suitable for your specific analytical goals."
   ]
  },
  {
   "cell_type": "markdown",
   "metadata": {},
   "source": [
    "#### Data Cleaning"
   ]
  },
  {
   "cell_type": "code",
   "execution_count": 6,
   "metadata": {},
   "outputs": [
    {
     "data": {
      "text/html": [
       "<div>\n",
       "<style scoped>\n",
       "    .dataframe tbody tr th:only-of-type {\n",
       "        vertical-align: middle;\n",
       "    }\n",
       "\n",
       "    .dataframe tbody tr th {\n",
       "        vertical-align: top;\n",
       "    }\n",
       "\n",
       "    .dataframe thead th {\n",
       "        text-align: right;\n",
       "    }\n",
       "</style>\n",
       "<table border=\"1\" class=\"dataframe\">\n",
       "  <thead>\n",
       "    <tr style=\"text-align: right;\">\n",
       "      <th></th>\n",
       "      <th>movie_id</th>\n",
       "      <th>primary_title</th>\n",
       "      <th>original_title</th>\n",
       "      <th>start_year</th>\n",
       "      <th>runtime_minutes</th>\n",
       "      <th>genres</th>\n",
       "    </tr>\n",
       "  </thead>\n",
       "  <tbody>\n",
       "    <tr>\n",
       "      <th>0</th>\n",
       "      <td>tt0063540</td>\n",
       "      <td>sunghursh</td>\n",
       "      <td>sunghursh</td>\n",
       "      <td>2013</td>\n",
       "      <td>175.0</td>\n",
       "      <td>action,crime,drama</td>\n",
       "    </tr>\n",
       "    <tr>\n",
       "      <th>1</th>\n",
       "      <td>tt0066787</td>\n",
       "      <td>one day before the rainy season</td>\n",
       "      <td>ashad ka ek din</td>\n",
       "      <td>2019</td>\n",
       "      <td>114.0</td>\n",
       "      <td>biography,drama</td>\n",
       "    </tr>\n",
       "    <tr>\n",
       "      <th>2</th>\n",
       "      <td>tt0069049</td>\n",
       "      <td>the other side of the wind</td>\n",
       "      <td>the other side of the wind</td>\n",
       "      <td>2018</td>\n",
       "      <td>122.0</td>\n",
       "      <td>drama</td>\n",
       "    </tr>\n",
       "    <tr>\n",
       "      <th>3</th>\n",
       "      <td>tt0069204</td>\n",
       "      <td>sabse bada sukh</td>\n",
       "      <td>sabse bada sukh</td>\n",
       "      <td>2018</td>\n",
       "      <td>NaN</td>\n",
       "      <td>comedy,drama</td>\n",
       "    </tr>\n",
       "    <tr>\n",
       "      <th>4</th>\n",
       "      <td>tt0100275</td>\n",
       "      <td>the wandering soap opera</td>\n",
       "      <td>la telenovela errante</td>\n",
       "      <td>2017</td>\n",
       "      <td>80.0</td>\n",
       "      <td>comedy,drama,fantasy</td>\n",
       "    </tr>\n",
       "  </tbody>\n",
       "</table>\n",
       "</div>"
      ],
      "text/plain": [
       "    movie_id                    primary_title              original_title  \\\n",
       "0  tt0063540                        sunghursh                   sunghursh   \n",
       "1  tt0066787  one day before the rainy season             ashad ka ek din   \n",
       "2  tt0069049       the other side of the wind  the other side of the wind   \n",
       "3  tt0069204                  sabse bada sukh             sabse bada sukh   \n",
       "4  tt0100275         the wandering soap opera       la telenovela errante   \n",
       "\n",
       "   start_year  runtime_minutes                genres  \n",
       "0        2013            175.0    action,crime,drama  \n",
       "1        2019            114.0       biography,drama  \n",
       "2        2018            122.0                 drama  \n",
       "3        2018              NaN          comedy,drama  \n",
       "4        2017             80.0  comedy,drama,fantasy  "
      ]
     },
     "execution_count": 6,
     "metadata": {},
     "output_type": "execute_result"
    }
   ],
   "source": [
    "# Standardize text columns (strip spaces and convert to lowercase)\n",
    "for col in movie_basics_df.select_dtypes(include=['object']).columns:\n",
    "    movie_basics_df[col] = movie_basics_df[col].str.strip().str.lower()\n",
    "\n",
    "# Display the updated DataFrame\n",
    "movie_basics_df.head()"
   ]
  },
  {
   "cell_type": "code",
   "execution_count": 7,
   "metadata": {},
   "outputs": [
    {
     "data": {
      "text/plain": [
       "movie_id               0\n",
       "primary_title          0\n",
       "original_title        21\n",
       "start_year             0\n",
       "runtime_minutes    31739\n",
       "genres              5408\n",
       "dtype: int64"
      ]
     },
     "execution_count": 7,
     "metadata": {},
     "output_type": "execute_result"
    }
   ],
   "source": [
    "# Check for missing values\n",
    "movie_basics_df.isna().sum()"
   ]
  },
  {
   "cell_type": "code",
   "execution_count": 8,
   "metadata": {},
   "outputs": [
    {
     "name": "stdout",
     "output_type": "stream",
     "text": [
      "(112232, 6)\n"
     ]
    }
   ],
   "source": [
    "# Remove rows with missing values in 'original_title', 'runtime_minutes' or 'genres'\n",
    "movie_basics_df = movie_basics_df.dropna(subset=['original_title', 'runtime_minutes', 'genres'])\n",
    "\n",
    "# Display the updated DataFrame\n",
    "print(movie_basics_df.shape)"
   ]
  },
  {
   "cell_type": "markdown",
   "metadata": {},
   "source": [
    "This code refines the movie_basics_df DataFrame in two key ways:\n",
    "\n",
    "1. It removes duplicate movie entries. \n",
    "    - It looks for rows that have the same value in both the 'primary_title' (the main title of the movie) and the 'start_year' (the year the movie was released). \n",
    "    - If it finds such duplicates, it keeps only the very first occurrence of that movie and year combination and discards any subsequent identical entries. \n",
    "    - This ensures that each unique movie release is represented only once in the dataset.\n",
    "\n",
    "2. it standardizes the 'runtime_minutes' column.\n",
    "    - It converts the data type of the values in this column to integers. \n",
    "    - By converting it to an integer type, the code ensures that the runtime is represented as whole numbers of minutes, which is the most logical and useful format for analysis, such as calculating averages or comparing durations."
   ]
  },
  {
   "cell_type": "code",
   "execution_count": 9,
   "metadata": {},
   "outputs": [
    {
     "name": "stdout",
     "output_type": "stream",
     "text": [
      "Shape after dropping duplicates: (110927, 6)\n"
     ]
    }
   ],
   "source": [
    "# Drop duplicates based on 'primary_title' and 'start_year'\n",
    "movie_basics_df = movie_basics_df.drop_duplicates(subset=['primary_title', 'start_year'], keep='first')\n",
    "\n",
    "# Convert 'runtime_minutes' to integer\n",
    "movie_basics_df['runtime_minutes'] = movie_basics_df['runtime_minutes'].astype(int)\n",
    "\n",
    "# Display the updated DataFrame\n",
    "print(f\"Shape after dropping duplicates: {movie_basics_df.shape}\")"
   ]
  },
  {
   "cell_type": "markdown",
   "metadata": {},
   "source": [
    "#### Calculate the runtime_minutes threshold"
   ]
  },
  {
   "cell_type": "markdown",
   "metadata": {},
   "source": [
    "* This calculates the average movie runtime and then removes movies with runtimes below this average.\n",
    "* The **ONLY RUN ONCE** comment is a crucial reminder to avoid unintended repeated filtering.\n",
    "* We remove rows that have runtime_minutes below 86.29 minutes"
   ]
  },
  {
   "cell_type": "code",
   "execution_count": 10,
   "metadata": {},
   "outputs": [
    {
     "name": "stdout",
     "output_type": "stream",
     "text": [
      "Shape after removing rows with runtime_minutes below 86.2930936561883: (56056, 6)\n"
     ]
    }
   ],
   "source": [
    "# Calculate the threshold (e.g., mean runtime)\n",
    "\n",
    "runtime_threshold = movie_basics_df['runtime_minutes'].mean()\n",
    "\n",
    "# Remove rows where 'runtime_minutes' is below the threshold\n",
    "# ONLY RUN ONCE\n",
    "# Uncomment the following line to remove rows with runtime_minutes below the threshold\n",
    "\n",
    "movie_basics_df = movie_basics_df[movie_basics_df['runtime_minutes'] >= runtime_threshold]\n",
    "\n",
    "# Display the updated DataFrame\n",
    "print(f\"Shape after removing rows with runtime_minutes below {runtime_threshold}: {movie_basics_df.shape}\")"
   ]
  },
  {
   "cell_type": "markdown",
   "metadata": {},
   "source": [
    "We focuse on identifying and displaying duplicate movie entries based on their primary title and genres.\n",
    "\n",
    "* First, we find all rows that have the same 'primary_title' and 'genres'. The keep=False argument ensures that all occurrences of the duplicates are flagged. These duplicate rows are stored in a new DataFrame called duplicated_movie_basics.\n",
    "\n",
    "* Next, we sort these identified duplicate entries alphabetically by 'primary_title' and then chronologically by 'start_year'. This makes it easier to visually inspect the duplicated movies.\n",
    "\n",
    "* This code helps us find and examine movies that share the same title and genre, allowing us to understand potential data inconsistencies or multiple entries for the same movie."
   ]
  },
  {
   "cell_type": "code",
   "execution_count": 11,
   "metadata": {},
   "outputs": [
    {
     "name": "stdout",
     "output_type": "stream",
     "text": [
      "Number of duplicate primary titles: 488\n",
      "Shape of movie_basics_df: (56056, 6)\n"
     ]
    }
   ],
   "source": [
    "# Check for duplicates in the 'primary_title' and 'genres' column\n",
    "duplicated_movie_basics = movie_basics_df[movie_basics_df.duplicated(subset=['primary_title', 'genres'], keep=False)]\n",
    "# sort in descending order by 'primary_title' and 'start_year'\n",
    "duplicated_movie_basics = duplicated_movie_basics.sort_values(by=['primary_title', 'start_year'], ascending=[True, True])\n",
    "# Display the number of duplicate rows and the duplicates\n",
    "print(f\"Number of duplicate primary titles: {duplicated_movie_basics.shape[0]}\")\n",
    "duplicated_movie_basics.tail()\n",
    "print(\"Shape of movie_basics_df:\", movie_basics_df.shape)"
   ]
  },
  {
   "cell_type": "code",
   "execution_count": 12,
   "metadata": {},
   "outputs": [
    {
     "name": "stdout",
     "output_type": "stream",
     "text": [
      "Shape after dropping duplicates: (55568, 6)\n"
     ]
    }
   ],
   "source": [
    "# Drop rows in movie_basics_df that match primary_title and genres in duplicated_movie_basics\n",
    "movie_basics_df = movie_basics_df[~movie_basics_df.set_index(['primary_title', 'genres']).index.isin(\n",
    "    duplicated_movie_basics.set_index(['primary_title', 'genres']).index\n",
    ")]\n",
    "\n",
    "# Display the updated DataFrame\n",
    "print(f\"Shape after dropping duplicates: {movie_basics_df.shape}\")"
   ]
  },
  {
   "cell_type": "markdown",
   "metadata": {},
   "source": [
    "This code snippet aims to **refine the `movie_basics_df` to keep only one entry for movies that are listed with multiple unique genres, and remove all other movie entries.**\n",
    "\n",
    "1.  It **identifies movie titles that have more than one unique genre** associated with them.\n",
    "2.  It then **selects the first occurrence of each of these multi-genre movies**.\n",
    "3.  A new DataFrame `df_final` is created containing only these first instances of multi-genre movies.\n",
    "4.  Finally, it **removes all rows from the original `movie_basics_df` that are also present in `df_final` based on both 'primary\\_title' and 'genres'**."
   ]
  },
  {
   "cell_type": "code",
   "execution_count": 13,
   "metadata": {},
   "outputs": [
    {
     "name": "stdout",
     "output_type": "stream",
     "text": [
      "Shape after removing rows in df_final: (54064, 6)\n"
     ]
    }
   ],
   "source": [
    "# Step 1: Find titles with multiple unique genres\n",
    "genre_counts_new = movie_basics_df.groupby('primary_title')['genres'].nunique()\n",
    "\n",
    "\n",
    "# Step 2: Identify titles with more than one genre\n",
    "titles_with_multiple_genres_new = genre_counts_new[genre_counts_new > 1].index\n",
    "\n",
    "# Step 3: Keep only the first instance of such titles\n",
    "basics_duplicates = movie_basics_df[movie_basics_df['primary_title'].isin(titles_with_multiple_genres_new)]\n",
    "basics_first_instances = basics_duplicates.drop_duplicates(subset='primary_title', keep='first')\n",
    "\n",
    "# Step 4: Remove all other titles (that do not have multiple genres)\n",
    "df_final = basics_first_instances.copy()\n",
    "\n",
    "# Remove rows in df_final from movie_basics_df\n",
    "movie_basics_df = movie_basics_df[~movie_basics_df.set_index(['primary_title', 'genres']).index.isin(\n",
    "    df_final.set_index(['primary_title', 'genres']).index\n",
    ")]\n",
    "\n",
    "# Display the updated DataFrame\n",
    "print(f\"Shape after removing rows in df_final: {movie_basics_df.shape}\")"
   ]
  },
  {
   "cell_type": "markdown",
   "metadata": {},
   "source": [
    "This snippet deals with **duplicate movie titles** in the `movie_basics_df`.\n",
    "\n",
    "First, it **identifies all rows where the 'primary\\_title' is duplicated**, keeping all occurrences of the duplicated titles.\n",
    "\n",
    "The number of duplicate primary titles is 532.\n",
    "\n",
    "Then, for these identified duplicate titles, it **modifies the 'primary\\_title' by appending the 'start\\_year' in parentheses**. This creates a more unique identifier for movies with the same title but different release years.\n",
    "\n",
    "It resolves duplicate movie titles by making them unique through the addition of their release year."
   ]
  },
  {
   "cell_type": "code",
   "execution_count": 14,
   "metadata": {},
   "outputs": [
    {
     "name": "stdout",
     "output_type": "stream",
     "text": [
      "Shape after updating duplicate primary_title: (54064, 6)\n"
     ]
    }
   ],
   "source": [
    "# Identify duplicate primary_title values\n",
    "duplicated_basics_title = movie_basics_df[movie_basics_df.duplicated(subset=['primary_title'], keep=False)]\n",
    "\n",
    "# Append start_year to primary_title for duplicates\n",
    "movie_basics_df.loc[duplicated_basics_title.index, 'primary_title'] = (\n",
    "    movie_basics_df.loc[duplicated_basics_title.index, 'primary_title'] + \n",
    "    \" (\" + movie_basics_df.loc[duplicated_basics_title.index, 'start_year'].astype(str) + \")\"\n",
    ")\n",
    "\n",
    "# Display the updated DataFrame\n",
    "print(f\"Shape after updating duplicate primary_title: {movie_basics_df.shape}\")"
   ]
  },
  {
   "cell_type": "code",
   "execution_count": 15,
   "metadata": {},
   "outputs": [
    {
     "name": "stdout",
     "output_type": "stream",
     "text": [
      "Number of duplicate primary titles: 0\n"
     ]
    }
   ],
   "source": [
    "# Identify duplicate primary_title values\n",
    "v = movie_basics_df[movie_basics_df.duplicated(subset=['primary_title'], keep=False)]\n",
    "\n",
    "# Display the duplicates\n",
    "print(f\"Number of duplicate primary titles: {v.shape[0]}\")"
   ]
  },
  {
   "cell_type": "code",
   "execution_count": 16,
   "metadata": {},
   "outputs": [
    {
     "name": "stdout",
     "output_type": "stream",
     "text": [
      "<class 'pandas.core.frame.DataFrame'>\n",
      "Int64Index: 54064 entries, 0 to 146139\n",
      "Data columns (total 6 columns):\n",
      " #   Column           Non-Null Count  Dtype \n",
      "---  ------           --------------  ----- \n",
      " 0   movie_id         54064 non-null  object\n",
      " 1   primary_title    54064 non-null  object\n",
      " 2   original_title   54064 non-null  object\n",
      " 3   start_year       54064 non-null  int64 \n",
      " 4   runtime_minutes  54064 non-null  int32 \n",
      " 5   genres           54064 non-null  object\n",
      "dtypes: int32(1), int64(1), object(4)\n",
      "memory usage: 5.2+ MB\n"
     ]
    }
   ],
   "source": [
    "# This is the final DataFrame after all the cleaning steps\n",
    "movie_basics_df.info()"
   ]
  },
  {
   "cell_type": "code",
   "execution_count": 17,
   "metadata": {},
   "outputs": [
    {
     "name": "stdout",
     "output_type": "stream",
     "text": [
      "DataFrames have been successfully saved to the 'extracted' folder.\n"
     ]
    }
   ],
   "source": [
    "# Save the cleaned DataFrame to a CSV file\n",
    "# Create 'cleaned_data' folder if it doesn't exist\n",
    "output_folder = './cleaned_data'\n",
    "os.makedirs(output_folder, exist_ok=True)\n",
    "\n",
    "# Save movie_basics_df to a CSV file\n",
    "movie_basics_df.to_csv(f'{output_folder}/movie_basics.csv', index=False)\n",
    "\n",
    "print(\"DataFrames have been successfully saved to the 'extracted' folder.\")"
   ]
  },
  {
   "cell_type": "markdown",
   "metadata": {},
   "source": [
    "In summary, the cleaning process for `movie_basics_df` involved several key steps to ensure data quality and consistency for further analysis:\n",
    "\n",
    "* **Duplicate Removal:** We eliminated exact duplicate movie entries based on their primary title and release year, retaining only the first occurrence.\n",
    "* **Runtime Conversion:** The 'runtime\\_minutes' column was converted to an integer data type for proper numerical handling.\n",
    "* **Runtime Filtering:** We explored filtering out movies with runtimes below the average, although this step might have been conditionally applied.\n",
    "* **Handling Multi-Genre Movies:** We addressed movies listed with multiple unique genres, potentially keeping only the first instance of such titles while removing others.\n",
    "* **Resolving Duplicate Titles:** For movies with the same primary title, we made them unique by appending their release year to the title.\n",
    "\n",
    "These steps collectively aimed to create a more reliable and standardized `movie_basics_df` by removing redundancies, ensuring correct data types, and addressing potential ambiguities in movie titles and genre information. The resulting DataFrame is now better prepared for subsequent merging with other datasets and for meaningful analysis."
   ]
  },
  {
   "cell_type": "markdown",
   "metadata": {},
   "source": [
    "## Movie Ratings"
   ]
  },
  {
   "cell_type": "markdown",
   "metadata": {},
   "source": [
    "### Introduction to Movie Ratings\n",
    "\n",
    "The **movie ratings** dataset provides valuable insights into audience preferences and perceptions of movies. It includes key metrics such as:\n",
    "\n",
    "1. **Average Ratings (`averagerating`)**: Represents the mean rating given by users, reflecting the overall quality or popularity of a movie.\n",
    "2. **Number of Votes (`numvotes`)**: Indicates the total number of user ratings, serving as a measure of a movie's reach or engagement.\n",
    "\n",
    "This dataset is crucial for understanding audience behavior, identifying top-rated movies, and analyzing trends in movie ratings. It can be used to filter and focus on highly-rated or widely-voted movies for further analysis."
   ]
  },
  {
   "cell_type": "code",
   "execution_count": 18,
   "metadata": {},
   "outputs": [
    {
     "name": "stdout",
     "output_type": "stream",
     "text": [
      "<class 'pandas.core.frame.DataFrame'>\n",
      "RangeIndex: 54064 entries, 0 to 54063\n",
      "Data columns (total 6 columns):\n",
      " #   Column           Non-Null Count  Dtype \n",
      "---  ------           --------------  ----- \n",
      " 0   movie_id         54064 non-null  object\n",
      " 1   primary_title    54064 non-null  object\n",
      " 2   original_title   54064 non-null  object\n",
      " 3   start_year       54064 non-null  int64 \n",
      " 4   runtime_minutes  54064 non-null  int64 \n",
      " 5   genres           54064 non-null  object\n",
      "dtypes: int64(2), object(4)\n",
      "memory usage: 2.5+ MB\n"
     ]
    }
   ],
   "source": [
    "# Read the cleaned DataFrame from the CSV file to verify\n",
    "cleaned_movie_basics_df = pd.read_csv(\"./cleaned_data/movie_basics.csv\")\n",
    "cleaned_movie_basics_df.info()"
   ]
  },
  {
   "cell_type": "code",
   "execution_count": 19,
   "metadata": {},
   "outputs": [
    {
     "name": "stdout",
     "output_type": "stream",
     "text": [
      "<class 'pandas.core.frame.DataFrame'>\n",
      "RangeIndex: 73856 entries, 0 to 73855\n",
      "Data columns (total 3 columns):\n",
      " #   Column         Non-Null Count  Dtype  \n",
      "---  ------         --------------  -----  \n",
      " 0   movie_id       73856 non-null  object \n",
      " 1   averagerating  73856 non-null  float64\n",
      " 2   numvotes       73856 non-null  int64  \n",
      "dtypes: float64(1), int64(1), object(1)\n",
      "memory usage: 1.7+ MB\n"
     ]
    }
   ],
   "source": [
    "# Get information about the movie_ratings_df DataFrame\n",
    "movie_ratings_df.info()"
   ]
  },
  {
   "cell_type": "markdown",
   "metadata": {},
   "source": [
    "\n",
    "\n",
    "This code performs an inner join on the `movie_id` column, ensuring that only rows with matching `movie_id` values in both DataFrames are included in the merged result. The merged DataFrame is then saved to a CSV file for further use."
   ]
  },
  {
   "cell_type": "code",
   "execution_count": 20,
   "metadata": {},
   "outputs": [
    {
     "name": "stdout",
     "output_type": "stream",
     "text": [
      "Shape of merged DataFrame: (40005, 8)\n",
      "Merged DataFrame saved successfully.\n"
     ]
    }
   ],
   "source": [
    "# Merge cleaned_movie_basics_df with movie_ratings_df on 'movie_id'\n",
    "merged_movie_data = pd.merge(\n",
    "    cleaned_movie_basics_df,\n",
    "    movie_ratings_df,\n",
    "    on='movie_id',\n",
    "    how='inner'\n",
    ")\n",
    "\n",
    "# Display the shape of the merged DataFrame\n",
    "print(f\"Shape of merged DataFrame: {merged_movie_data.shape}\")\n",
    "\n",
    "# Save the merged DataFrame to a new CSV file\n",
    "merged_movie_data.to_csv(\"./extractedData/merged_movie_data.csv\", index=False)\n",
    "\n",
    "print(\"Merged DataFrame saved successfully.\")"
   ]
  },
  {
   "cell_type": "code",
   "execution_count": 21,
   "metadata": {},
   "outputs": [
    {
     "name": "stdout",
     "output_type": "stream",
     "text": [
      "<class 'pandas.core.frame.DataFrame'>\n",
      "Int64Index: 40005 entries, 0 to 40004\n",
      "Data columns (total 8 columns):\n",
      " #   Column           Non-Null Count  Dtype  \n",
      "---  ------           --------------  -----  \n",
      " 0   movie_id         40005 non-null  object \n",
      " 1   primary_title    40005 non-null  object \n",
      " 2   original_title   40005 non-null  object \n",
      " 3   start_year       40005 non-null  int64  \n",
      " 4   runtime_minutes  40005 non-null  int64  \n",
      " 5   genres           40005 non-null  object \n",
      " 6   averagerating    40005 non-null  float64\n",
      " 7   numvotes         40005 non-null  int64  \n",
      "dtypes: float64(1), int64(3), object(4)\n",
      "memory usage: 2.7+ MB\n"
     ]
    }
   ],
   "source": [
    "# Check for missing values in the merged DataFrame\n",
    "merged_movie_data.info()"
   ]
  },
  {
   "cell_type": "markdown",
   "metadata": {},
   "source": [
    "### Get the 75th percentile of numvotes"
   ]
  },
  {
   "cell_type": "code",
   "execution_count": 22,
   "metadata": {},
   "outputs": [
    {
     "name": "stdout",
     "output_type": "stream",
     "text": [
      "75th percentile of numvotes: 619.0\n",
      "Number of movies with numvotes above the 75th percentile: 10010\n",
      "Filtered DataFrame shape: (10010, 8)\n"
     ]
    },
    {
     "data": {
      "text/html": [
       "<div>\n",
       "<style scoped>\n",
       "    .dataframe tbody tr th:only-of-type {\n",
       "        vertical-align: middle;\n",
       "    }\n",
       "\n",
       "    .dataframe tbody tr th {\n",
       "        vertical-align: top;\n",
       "    }\n",
       "\n",
       "    .dataframe thead th {\n",
       "        text-align: right;\n",
       "    }\n",
       "</style>\n",
       "<table border=\"1\" class=\"dataframe\">\n",
       "  <thead>\n",
       "    <tr style=\"text-align: right;\">\n",
       "      <th></th>\n",
       "      <th>movie_id</th>\n",
       "      <th>primary_title</th>\n",
       "      <th>original_title</th>\n",
       "      <th>start_year</th>\n",
       "      <th>runtime_minutes</th>\n",
       "      <th>genres</th>\n",
       "      <th>averagerating</th>\n",
       "      <th>numvotes</th>\n",
       "    </tr>\n",
       "  </thead>\n",
       "  <tbody>\n",
       "    <tr>\n",
       "      <th>2</th>\n",
       "      <td>tt0069049</td>\n",
       "      <td>the other side of the wind</td>\n",
       "      <td>the other side of the wind</td>\n",
       "      <td>2018</td>\n",
       "      <td>122</td>\n",
       "      <td>drama</td>\n",
       "      <td>6.9</td>\n",
       "      <td>4517</td>\n",
       "    </tr>\n",
       "    <tr>\n",
       "      <th>11</th>\n",
       "      <td>tt0249516</td>\n",
       "      <td>foodfight!</td>\n",
       "      <td>foodfight!</td>\n",
       "      <td>2012</td>\n",
       "      <td>91</td>\n",
       "      <td>action,animation,comedy</td>\n",
       "      <td>1.9</td>\n",
       "      <td>8248</td>\n",
       "    </tr>\n",
       "    <tr>\n",
       "      <th>14</th>\n",
       "      <td>tt0315642</td>\n",
       "      <td>wazir</td>\n",
       "      <td>wazir</td>\n",
       "      <td>2016</td>\n",
       "      <td>103</td>\n",
       "      <td>action,crime,drama</td>\n",
       "      <td>7.1</td>\n",
       "      <td>15378</td>\n",
       "    </tr>\n",
       "    <tr>\n",
       "      <th>15</th>\n",
       "      <td>tt0323808</td>\n",
       "      <td>the wicker tree</td>\n",
       "      <td>the wicker tree</td>\n",
       "      <td>2011</td>\n",
       "      <td>96</td>\n",
       "      <td>drama,horror</td>\n",
       "      <td>3.9</td>\n",
       "      <td>2328</td>\n",
       "    </tr>\n",
       "    <tr>\n",
       "      <th>16</th>\n",
       "      <td>tt0326965</td>\n",
       "      <td>in my sleep</td>\n",
       "      <td>in my sleep</td>\n",
       "      <td>2010</td>\n",
       "      <td>104</td>\n",
       "      <td>drama,mystery,thriller</td>\n",
       "      <td>5.5</td>\n",
       "      <td>1889</td>\n",
       "    </tr>\n",
       "  </tbody>\n",
       "</table>\n",
       "</div>"
      ],
      "text/plain": [
       "     movie_id               primary_title              original_title  \\\n",
       "2   tt0069049  the other side of the wind  the other side of the wind   \n",
       "11  tt0249516                  foodfight!                  foodfight!   \n",
       "14  tt0315642                       wazir                       wazir   \n",
       "15  tt0323808             the wicker tree             the wicker tree   \n",
       "16  tt0326965                 in my sleep                 in my sleep   \n",
       "\n",
       "    start_year  runtime_minutes                   genres  averagerating  \\\n",
       "2         2018              122                    drama            6.9   \n",
       "11        2012               91  action,animation,comedy            1.9   \n",
       "14        2016              103       action,crime,drama            7.1   \n",
       "15        2011               96             drama,horror            3.9   \n",
       "16        2010              104   drama,mystery,thriller            5.5   \n",
       "\n",
       "    numvotes  \n",
       "2       4517  \n",
       "11      8248  \n",
       "14     15378  \n",
       "15      2328  \n",
       "16      1889  "
      ]
     },
     "execution_count": 22,
     "metadata": {},
     "output_type": "execute_result"
    }
   ],
   "source": [
    "# Calculate the 75th percentile of numvotes\n",
    "percentile_75 = merged_movie_data['numvotes'].quantile(0.75)\n",
    "\n",
    "# Filter rows with numvotes above the 75th percentile\n",
    "movies_df = merged_movie_data[merged_movie_data['numvotes'] >= percentile_75]\n",
    "\n",
    "# Display the filtered DataFrame\n",
    "print(f\"75th percentile of numvotes: {percentile_75}\")\n",
    "print(f\"Number of movies with numvotes above the 75th percentile: {movies_df.shape[0]}\")\n",
    "print(f\"Filtered DataFrame shape: {movies_df.shape}\")\n",
    "movies_df.head()\n"
   ]
  },
  {
   "cell_type": "markdown",
   "metadata": {},
   "source": [
    "\n",
    "The variable `percentile_75` represents the **75th percentile** of the `numvotes` column in the `merged_movie_data` DataFrame. \n",
    "\n",
    "### What is the 75th Percentile?\n",
    "The 75th percentile (also known as the third quartile, Q3) is the value below which 75% of the data points in a dataset fall. \n",
    "In this case, it means that 75% of the movies in the `merged_movie_data` DataFrame have a number of votes (`numvotes`) less than or equal to this value, and the remaining 25% have more votes.\n",
    "\n",
    "### Why is it Useful?\n",
    "The 75th percentile is often used to identify the top-performing items in a dataset. For example:\n",
    "- In this context, it helps filter movies that are in the top 25% based on the number of votes, which could indicate higher popularity or relevance.\n",
    "\n",
    "After calculating `percentile_75`, the code filters the DataFrame to include only movies with `numvotes` greater than or equal to this value:\n",
    "\n",
    "`movies_df = merged_movie_data[merged_movie_data['numvotes'] >= percentile_75]`\n",
    "\n",
    "This creates a new DataFrame, `movies_df`, containing only the top 25% of movies based on the number of votes.\n",
    "\n"
   ]
  },
  {
   "cell_type": "code",
   "execution_count": 23,
   "metadata": {},
   "outputs": [],
   "source": [
    "# Drop the 'original_title' column from movies_df\n",
    "# This drop irrelevant columns in our dataframe\n",
    "movies_df = movies_df.drop(columns=['original_title'])"
   ]
  },
  {
   "cell_type": "markdown",
   "metadata": {},
   "source": [
    "The Kernel Density Estimate (KDE) visualization provides insights into the distribution of average ratings, helping us to understand audience preferences and rating trends."
   ]
  },
  {
   "cell_type": "code",
   "execution_count": 24,
   "metadata": {},
   "outputs": [
    {
     "data": {
      "text/plain": [
       "<AxesSubplot:xlabel='averagerating', ylabel='Count'>"
      ]
     },
     "execution_count": 24,
     "metadata": {},
     "output_type": "execute_result"
    },
    {
     "data": {
      "image/png": "[encoded data removed]",
      "text/plain": [
       "<Figure size 432x288 with 1 Axes>"
      ]
     },
     "metadata": {
      "needs_background": "light"
     },
     "output_type": "display_data"
    }
   ],
   "source": [
    "sns.histplot(data=movies_df, x='averagerating', bins=10, kde=True)"
   ]
  },
  {
   "cell_type": "code",
   "execution_count": 25,
   "metadata": {},
   "outputs": [
    {
     "data": {
      "text/html": [
       "<div>\n",
       "<style scoped>\n",
       "    .dataframe tbody tr th:only-of-type {\n",
       "        vertical-align: middle;\n",
       "    }\n",
       "\n",
       "    .dataframe tbody tr th {\n",
       "        vertical-align: top;\n",
       "    }\n",
       "\n",
       "    .dataframe thead th {\n",
       "        text-align: right;\n",
       "    }\n",
       "</style>\n",
       "<table border=\"1\" class=\"dataframe\">\n",
       "  <thead>\n",
       "    <tr style=\"text-align: right;\">\n",
       "      <th></th>\n",
       "      <th>movie_id</th>\n",
       "      <th>primary_title</th>\n",
       "      <th>start_year</th>\n",
       "      <th>runtime_minutes</th>\n",
       "      <th>genres</th>\n",
       "      <th>averagerating</th>\n",
       "      <th>numvotes</th>\n",
       "    </tr>\n",
       "  </thead>\n",
       "  <tbody>\n",
       "  </tbody>\n",
       "</table>\n",
       "</div>"
      ],
      "text/plain": [
       "Empty DataFrame\n",
       "Columns: [movie_id, primary_title, start_year, runtime_minutes, genres, averagerating, numvotes]\n",
       "Index: []"
      ]
     },
     "execution_count": 25,
     "metadata": {},
     "output_type": "execute_result"
    }
   ],
   "source": [
    "# Check for duplicate primary_title values\n",
    "duplicated_movies = movies_df[movies_df.duplicated(subset=['primary_title'], keep=False)]\n",
    "duplicated_movies.head(10)"
   ]
  },
  {
   "cell_type": "code",
   "execution_count": 26,
   "metadata": {},
   "outputs": [
    {
     "name": "stdout",
     "output_type": "stream",
     "text": [
      "DataFrames have been successfully saved to the 'extracted' folder.\n"
     ]
    }
   ],
   "source": [
    "# Create 'cleaned_data' folder if it doesn't exist\n",
    "output_folder = './cleaned_data'\n",
    "os.makedirs(output_folder, exist_ok=True)\n",
    "\n",
    "# Save movie_basics_df to a CSV file\n",
    "movies_df.to_csv(f'{output_folder}/movies_df.csv', index=False)\n",
    "\n",
    "print(\"DataFrames have been successfully saved to the 'extracted' folder.\")"
   ]
  },
  {
   "cell_type": "markdown",
   "metadata": {},
   "source": [
    "## Conclusion\n",
    "\n",
    "In this notebook, we performed the following key steps:\n",
    "\n",
    "1. **Data Extraction:** Extracted and loaded data from a SQLite database and CSV files.\n",
    "2. **Data Cleaning:**\n",
    "   - Standardized text columns and removed duplicates.\n",
    "   - Handled missing values by dropping rows with critical missing data.\n",
    "   - Filtered movies based on runtime and number of votes to focus on relevant data.\n",
    "   - Resolved duplicate movie titles by appending release years.\n",
    "3. **Data Transformation:**\n",
    "   - Merged datasets to create a comprehensive DataFrame for analysis.\n",
    "   - Filtered movies in the top 25% based on the number of votes.\n",
    "4. **Data Visualization:**\n",
    "   - Visualized the distribution of average ratings to understand audience preferences.\n",
    "\n",
    "The cleaned and processed data has been saved to CSV files for further analysis. These datasets are now ready to be used for exploratory data analysis, modeling, or other analytical tasks.\n",
    "\n",
    "### Next Steps\n",
    "- Perform exploratory data analysis (EDA) to uncover insights and trends in the movies.\n",
    "- Use the cleaned data for predictive modeling or other advanced analyses."
   ]
  },
  {
   "cell_type": "markdown",
   "id": "db098a3d",
   "metadata": {},
   "source": [
    "## MOVIE BUDGETS"
   ]
  },
  {
   "cell_type": "code",
   "execution_count": 27,
   "id": "2f99af4b",
   "metadata": {},
   "outputs": [
    {
     "name": "stdout",
     "output_type": "stream",
     "text": [
      "<class 'pandas.core.frame.DataFrame'>\n",
      "RangeIndex: 5782 entries, 0 to 5781\n",
      "Data columns (total 6 columns):\n",
      " #   Column             Non-Null Count  Dtype \n",
      "---  ------             --------------  ----- \n",
      " 0   id                 5782 non-null   int64 \n",
      " 1   release_date       5782 non-null   object\n",
      " 2   movie              5782 non-null   object\n",
      " 3   production_budget  5782 non-null   object\n",
      " 4   domestic_gross     5782 non-null   object\n",
      " 5   worldwide_gross    5782 non-null   object\n",
      "dtypes: int64(1), object(5)\n",
      "memory usage: 271.2+ KB\n"
     ]
    }
   ],
   "source": [
    "# load the data\n",
    "movie_budgets_df = pd.read_csv('./zippedData/tn.movie_budgets.csv.gz', encoding='utf-8')\n",
    "movie_budgets_df.info()"
   ]
  },
  {
   "cell_type": "markdown",
   "metadata": {},
   "source": [
    "### Introduction to Movie Budgets\n",
    "\n",
    "The **movie budgets** dataset provides critical financial insights into the production and revenue aspects of movies. It includes key metrics such as:\n",
    "\n",
    "1. **Production Budget**: The total cost incurred in creating the movie, including expenses for cast, crew, sets, and post-production.\n",
    "2. **Domestic Gross**: The revenue generated by the movie within its home country.\n",
    "3. **Worldwide Gross**: The total revenue earned globally, combining domestic and international earnings.\n",
    "\n",
    "This dataset is essential for analyzing:\n",
    "    - the financial performance of movies\n",
    "    - identifying profitable trends\n",
    "    - understanding the relationship between production budgets and revenue. \n",
    "    - It can also help in comparing the financial success of movies across different genres, release years, and regions."
   ]
  },
  {
   "cell_type": "markdown",
   "id": "80e3e8ea",
   "metadata": {},
   "source": [
    "## Data Preparation"
   ]
  },
  {
   "cell_type": "markdown",
   "id": "a9f6d737",
   "metadata": {},
   "source": [
    "### Data Cleaning"
   ]
  },
  {
   "cell_type": "markdown",
   "id": "f7731894",
   "metadata": {},
   "source": [
    "1. **Renaming Columns**:\n",
    "   - The column `movie` is renamed to `movie_name` for better clarity and consistency with other datasets.\n",
    "\n",
    "2. **Converting `release_date` to Datetime Format**:\n",
    "   - The `release_date` column is converted to a datetime format using `pd.to_datetime()`. This ensures that the column can be used for date-based operations, such as extracting the year or filtering by date.\n",
    "\n",
    "3. **Standardizing the `movie_name` Column**:\n",
    "   - The `movie_name` column is cleaned by:\n",
    "     - Stripping leading and trailing spaces using `.str.strip()`.\n",
    "     - Converting all text to lowercase using `.str.lower()`.\n",
    "   - This standardization ensures consistency in movie names, making it easier to identify duplicates or merge with other datasets."
   ]
  },
  {
   "cell_type": "code",
   "execution_count": 28,
   "id": "580ecd94",
   "metadata": {},
   "outputs": [
    {
     "name": "stdout",
     "output_type": "stream",
     "text": [
      "Index(['id', 'release_date', 'movie_name', 'production_budget',\n",
      "       'domestic_gross', 'worldwide_gross'],\n",
      "      dtype='object')\n",
      "id                            int64\n",
      "release_date         datetime64[ns]\n",
      "movie_name                   object\n",
      "production_budget            object\n",
      "domestic_gross               object\n",
      "worldwide_gross              object\n",
      "dtype: object\n"
     ]
    }
   ],
   "source": [
    "# Rename 'movie' column to 'movie_name'\n",
    "movie_budgets_df.rename(columns={'movie': 'movie_name'}, inplace=True)\n",
    "\n",
    "# Convert 'release_date' to datetime format\n",
    "movie_budgets_df['release_date'] = pd.to_datetime(movie_budgets_df['release_date'])\n",
    "\n",
    "# Standardize the 'movie_name' column\n",
    "movie_budgets_df['movie_name'] = movie_budgets_df['movie_name'].str.strip().str.lower()\n",
    "\n",
    "# Display the updated column names\n",
    "print(movie_budgets_df.columns)\n",
    "# Display the updated DataFrame\n",
    "print(movie_budgets_df.dtypes)"
   ]
  },
  {
   "cell_type": "code",
   "execution_count": 29,
   "id": "2354c77d",
   "metadata": {},
   "outputs": [
    {
     "data": {
      "text/plain": [
       "id                   0\n",
       "release_date         0\n",
       "movie_name           0\n",
       "production_budget    0\n",
       "domestic_gross       0\n",
       "worldwide_gross      0\n",
       "dtype: int64"
      ]
     },
     "execution_count": 29,
     "metadata": {},
     "output_type": "execute_result"
    }
   ],
   "source": [
    "# Check for missing and null values\n",
    "movie_budgets_df.isna().sum()"
   ]
  },
  {
   "cell_type": "markdown",
   "id": "71a26478",
   "metadata": {},
   "source": [
    "#### Data Transformation: \n",
    "\n",
    "Converting data into a more useful format \n",
    "1. **Extract Year**: The `dt.year` attribute extracts the year from the `release_date` column.\n",
    "2. **Identify Duplicates**: The `duplicated()` method identifies duplicate `movie_name` entries.\n",
    "\n",
    "    - It identifies rows with duplicate movie names and then modifies the 'movie_name' for these duplicates by appending their release year in parentheses. \n",
    "    - This is to distinguish between movies with the same title but different release dates, creating more unique identifiers.\n",
    "    \n",
    "3. **Update Names**: For duplicates, the `movie_name` is updated by appending the release year in parentheses.\n",
    "\n",
    "This ensures that duplicate movie names are uniquely identified by their release year."
   ]
  },
  {
   "cell_type": "code",
   "execution_count": 30,
   "id": "c3cd0a5b",
   "metadata": {},
   "outputs": [
    {
     "name": "stdout",
     "output_type": "stream",
     "text": [
      "(165, 6)\n"
     ]
    },
    {
     "data": {
      "text/html": [
       "<div>\n",
       "<style scoped>\n",
       "    .dataframe tbody tr th:only-of-type {\n",
       "        vertical-align: middle;\n",
       "    }\n",
       "\n",
       "    .dataframe tbody tr th {\n",
       "        vertical-align: top;\n",
       "    }\n",
       "\n",
       "    .dataframe thead th {\n",
       "        text-align: right;\n",
       "    }\n",
       "</style>\n",
       "<table border=\"1\" class=\"dataframe\">\n",
       "  <thead>\n",
       "    <tr style=\"text-align: right;\">\n",
       "      <th></th>\n",
       "      <th>id</th>\n",
       "      <th>release_date</th>\n",
       "      <th>movie_name</th>\n",
       "      <th>production_budget</th>\n",
       "      <th>domestic_gross</th>\n",
       "      <th>worldwide_gross</th>\n",
       "    </tr>\n",
       "  </thead>\n",
       "  <tbody>\n",
       "    <tr>\n",
       "      <th>4270</th>\n",
       "      <td>71</td>\n",
       "      <td>1954-12-23</td>\n",
       "      <td>20,000 leagues under the sea</td>\n",
       "      <td>$5,000,000</td>\n",
       "      <td>$28,200,000</td>\n",
       "      <td>$28,200,000</td>\n",
       "    </tr>\n",
       "    <tr>\n",
       "      <th>5614</th>\n",
       "      <td>15</td>\n",
       "      <td>1916-12-24</td>\n",
       "      <td>20,000 leagues under the sea</td>\n",
       "      <td>$200,000</td>\n",
       "      <td>$8,000,000</td>\n",
       "      <td>$8,000,000</td>\n",
       "    </tr>\n",
       "    <tr>\n",
       "      <th>1648</th>\n",
       "      <td>49</td>\n",
       "      <td>2010-04-30</td>\n",
       "      <td>a nightmare on elm street</td>\n",
       "      <td>$35,000,000</td>\n",
       "      <td>$63,075,011</td>\n",
       "      <td>$117,729,621</td>\n",
       "    </tr>\n",
       "    <tr>\n",
       "      <th>5016</th>\n",
       "      <td>17</td>\n",
       "      <td>1984-11-09</td>\n",
       "      <td>a nightmare on elm street</td>\n",
       "      <td>$1,800,000</td>\n",
       "      <td>$25,504,513</td>\n",
       "      <td>$25,504,513</td>\n",
       "    </tr>\n",
       "    <tr>\n",
       "      <th>2032</th>\n",
       "      <td>33</td>\n",
       "      <td>1992-11-11</td>\n",
       "      <td>aladdin</td>\n",
       "      <td>$28,000,000</td>\n",
       "      <td>$217,350,219</td>\n",
       "      <td>$504,050,219</td>\n",
       "    </tr>\n",
       "    <tr>\n",
       "      <th>80</th>\n",
       "      <td>81</td>\n",
       "      <td>2019-05-24</td>\n",
       "      <td>aladdin</td>\n",
       "      <td>$182,000,000</td>\n",
       "      <td>$246,734,314</td>\n",
       "      <td>$619,234,314</td>\n",
       "    </tr>\n",
       "    <tr>\n",
       "      <th>50</th>\n",
       "      <td>51</td>\n",
       "      <td>2010-03-05</td>\n",
       "      <td>alice in wonderland</td>\n",
       "      <td>$200,000,000</td>\n",
       "      <td>$334,191,110</td>\n",
       "      <td>$1,025,491,110</td>\n",
       "    </tr>\n",
       "    <tr>\n",
       "      <th>4759</th>\n",
       "      <td>60</td>\n",
       "      <td>1951-07-28</td>\n",
       "      <td>alice in wonderland</td>\n",
       "      <td>$3,000,000</td>\n",
       "      <td>$0</td>\n",
       "      <td>$0</td>\n",
       "    </tr>\n",
       "    <tr>\n",
       "      <th>4120</th>\n",
       "      <td>21</td>\n",
       "      <td>1956-10-17</td>\n",
       "      <td>around the world in 80 days</td>\n",
       "      <td>$6,000,000</td>\n",
       "      <td>$42,000,000</td>\n",
       "      <td>$42,000,000</td>\n",
       "    </tr>\n",
       "    <tr>\n",
       "      <th>340</th>\n",
       "      <td>41</td>\n",
       "      <td>2004-06-16</td>\n",
       "      <td>around the world in 80 days</td>\n",
       "      <td>$110,000,000</td>\n",
       "      <td>$24,004,159</td>\n",
       "      <td>$72,004,159</td>\n",
       "    </tr>\n",
       "  </tbody>\n",
       "</table>\n",
       "</div>"
      ],
      "text/plain": [
       "      id release_date                    movie_name production_budget  \\\n",
       "4270  71   1954-12-23  20,000 leagues under the sea        $5,000,000   \n",
       "5614  15   1916-12-24  20,000 leagues under the sea          $200,000   \n",
       "1648  49   2010-04-30     a nightmare on elm street       $35,000,000   \n",
       "5016  17   1984-11-09     a nightmare on elm street        $1,800,000   \n",
       "2032  33   1992-11-11                       aladdin       $28,000,000   \n",
       "80    81   2019-05-24                       aladdin      $182,000,000   \n",
       "50    51   2010-03-05           alice in wonderland      $200,000,000   \n",
       "4759  60   1951-07-28           alice in wonderland        $3,000,000   \n",
       "4120  21   1956-10-17   around the world in 80 days        $6,000,000   \n",
       "340   41   2004-06-16   around the world in 80 days      $110,000,000   \n",
       "\n",
       "     domestic_gross worldwide_gross  \n",
       "4270    $28,200,000     $28,200,000  \n",
       "5614     $8,000,000      $8,000,000  \n",
       "1648    $63,075,011    $117,729,621  \n",
       "5016    $25,504,513     $25,504,513  \n",
       "2032   $217,350,219    $504,050,219  \n",
       "80     $246,734,314    $619,234,314  \n",
       "50     $334,191,110  $1,025,491,110  \n",
       "4759             $0              $0  \n",
       "4120    $42,000,000     $42,000,000  \n",
       "340     $24,004,159     $72,004,159  "
      ]
     },
     "execution_count": 30,
     "metadata": {},
     "output_type": "execute_result"
    }
   ],
   "source": [
    "# check for duplicates using movie_name and release_date\n",
    "duplicates = movie_budgets_df[movie_budgets_df.duplicated(subset=['movie_name'], keep=False)]\n",
    "# Display duplicates sorted by movie_name in ascending order\n",
    "duplicates = duplicates.sort_values(by='movie_name', ascending=True)\n",
    "print(duplicates.shape)\n",
    "duplicates.head(10)"
   ]
  },
  {
   "cell_type": "markdown",
   "metadata": {},
   "source": [
    "### Append release_year to duplicate movie names\n",
    "\n",
    "1.  **Extracts the year:** It creates a new column called `release_year` by extracting the year from the `release_date` column.\n",
    "2.  **Identifies duplicates:** It checks for rows with duplicate values in the `movie_name` column, keeping all occurrences of the duplicates.\n",
    "3.  **Updates duplicate movie names:** For the identified duplicate movie names, it appends the release year in parentheses to the `movie_name` to make them unique.\n",
    "4.  **Displays the result:** Finally, it displays the first few rows of the updated DataFrame, showing only the `movie_name` and `release_year` columns."
   ]
  },
  {
   "cell_type": "code",
   "execution_count": 31,
   "id": "162bc5c5",
   "metadata": {},
   "outputs": [
    {
     "data": {
      "text/html": [
       "<div>\n",
       "<style scoped>\n",
       "    .dataframe tbody tr th:only-of-type {\n",
       "        vertical-align: middle;\n",
       "    }\n",
       "\n",
       "    .dataframe tbody tr th {\n",
       "        vertical-align: top;\n",
       "    }\n",
       "\n",
       "    .dataframe thead th {\n",
       "        text-align: right;\n",
       "    }\n",
       "</style>\n",
       "<table border=\"1\" class=\"dataframe\">\n",
       "  <thead>\n",
       "    <tr style=\"text-align: right;\">\n",
       "      <th></th>\n",
       "      <th>movie_name</th>\n",
       "      <th>release_year</th>\n",
       "    </tr>\n",
       "  </thead>\n",
       "  <tbody>\n",
       "    <tr>\n",
       "      <th>0</th>\n",
       "      <td>avatar</td>\n",
       "      <td>2009</td>\n",
       "    </tr>\n",
       "    <tr>\n",
       "      <th>1</th>\n",
       "      <td>pirates of the caribbean: on stranger tides</td>\n",
       "      <td>2011</td>\n",
       "    </tr>\n",
       "    <tr>\n",
       "      <th>2</th>\n",
       "      <td>dark phoenix</td>\n",
       "      <td>2019</td>\n",
       "    </tr>\n",
       "    <tr>\n",
       "      <th>3</th>\n",
       "      <td>avengers: age of ultron</td>\n",
       "      <td>2015</td>\n",
       "    </tr>\n",
       "    <tr>\n",
       "      <th>4</th>\n",
       "      <td>star wars ep. viii: the last jedi</td>\n",
       "      <td>2017</td>\n",
       "    </tr>\n",
       "  </tbody>\n",
       "</table>\n",
       "</div>"
      ],
      "text/plain": [
       "                                    movie_name  release_year\n",
       "0                                       avatar          2009\n",
       "1  pirates of the caribbean: on stranger tides          2011\n",
       "2                                 dark phoenix          2019\n",
       "3                      avengers: age of ultron          2015\n",
       "4            star wars ep. viii: the last jedi          2017"
      ]
     },
     "execution_count": 31,
     "metadata": {},
     "output_type": "execute_result"
    }
   ],
   "source": [
    "# Extract the year from the 'release_date' column\n",
    "movie_budgets_df['release_year'] = movie_budgets_df['release_date'].dt.year\n",
    "\n",
    "# Check for duplicates in 'movie_name'\n",
    "duplicates = movie_budgets_df[movie_budgets_df.duplicated(subset=['movie_name'], keep=False)]\n",
    "\n",
    "# Update 'movie_name' for duplicates by appending the release year\n",
    "movie_budgets_df.loc[duplicates.index, 'movie_name'] = (\n",
    "    movie_budgets_df.loc[duplicates.index, 'movie_name'] + \n",
    "    \" (\" + movie_budgets_df.loc[duplicates.index, 'release_year'].astype(str) + \")\"\n",
    ")\n",
    "\n",
    "# Display the updated DataFrame\n",
    "movie_budgets_df[['movie_name', 'release_year']].head()"
   ]
  },
  {
   "cell_type": "markdown",
   "metadata": {},
   "source": [
    "Essentially, we've cleaned and prepared the 'movie_name' column to handle potential duplicate entries by making them distinct using their release years. We've also added a separate 'release_year' column for easier access to the movie's release year"
   ]
  },
  {
   "cell_type": "code",
   "execution_count": 32,
   "id": "87fa8149",
   "metadata": {},
   "outputs": [
    {
     "name": "stdout",
     "output_type": "stream",
     "text": [
      "Number of movies with 'alice in wonderland' in the name: 2\n"
     ]
    },
    {
     "data": {
      "text/html": [
       "<div>\n",
       "<style scoped>\n",
       "    .dataframe tbody tr th:only-of-type {\n",
       "        vertical-align: middle;\n",
       "    }\n",
       "\n",
       "    .dataframe tbody tr th {\n",
       "        vertical-align: top;\n",
       "    }\n",
       "\n",
       "    .dataframe thead th {\n",
       "        text-align: right;\n",
       "    }\n",
       "</style>\n",
       "<table border=\"1\" class=\"dataframe\">\n",
       "  <thead>\n",
       "    <tr style=\"text-align: right;\">\n",
       "      <th></th>\n",
       "      <th>movie_name</th>\n",
       "      <th>release_year</th>\n",
       "    </tr>\n",
       "  </thead>\n",
       "  <tbody>\n",
       "    <tr>\n",
       "      <th>50</th>\n",
       "      <td>alice in wonderland (2010)</td>\n",
       "      <td>2010</td>\n",
       "    </tr>\n",
       "    <tr>\n",
       "      <th>4759</th>\n",
       "      <td>alice in wonderland (1951)</td>\n",
       "      <td>1951</td>\n",
       "    </tr>\n",
       "  </tbody>\n",
       "</table>\n",
       "</div>"
      ],
      "text/plain": [
       "                      movie_name  release_year\n",
       "50    alice in wonderland (2010)          2010\n",
       "4759  alice in wonderland (1951)          1951"
      ]
     },
     "execution_count": 32,
     "metadata": {},
     "output_type": "execute_result"
    }
   ],
   "source": [
    "# Filter movie names containing the word 'alice in wonderland'\n",
    "avenger_movies = movie_budgets_df[movie_budgets_df['movie_name'].str.contains('alice in wonderland', case=False, na=False)]\n",
    "\n",
    "# Display the filtered DataFrame\n",
    "print(f\"Number of movies with 'alice in wonderland' in the name: {avenger_movies.shape[0]}\")\n",
    "avenger_movies[['movie_name', 'release_year']].head()"
   ]
  },
  {
   "cell_type": "markdown",
   "id": "cfe5c607",
   "metadata": {},
   "source": [
    "### Standardization of 'production\\_budget', 'domestic\\_gross', and 'worldwide\\_gross' columns\n",
    "\n",
    "This focuses on **cleaning and converting financial columns** in the `movie_budgets_df` DataFrame.\n",
    "\n",
    "For each of the 'production\\_budget', 'domestic\\_gross', and 'worldwide\\_gross' columns, it performs the following actions:\n",
    "\n",
    "1.  **Removes special characters:** It converts the column to string format, then uses regular expressions to remove dollar signs (\\$) and commas (,).\n",
    "\n",
    "2.  **Converts to numeric:** It convertS the cleaned strings to a numeric format. The `errors='coerce'` argument ensures that any values that cannot be converted to numbers will be replaced with `NaN` (Not a Number).\n",
    "\n",
    "3.  **Converts to integer:** Finally, it converts the numeric data type to `Int64`, which is a pandas integer type that can handle missing values (represented by `NaN`).\n",
    "\n",
    "**This cleans the budget and gross revenue columns by removing formatting characters and converting them into a usable integer format that can handle potential missing data.**\n",
    "\n",
    "This is crucial for performing calculations and analysis on the financial aspects of the movies."
   ]
  },
  {
   "cell_type": "code",
   "execution_count": 33,
   "id": "7c9d1ffd",
   "metadata": {},
   "outputs": [
    {
     "name": "stdout",
     "output_type": "stream",
     "text": [
      "id                            int64\n",
      "release_date         datetime64[ns]\n",
      "movie_name                   object\n",
      "production_budget             Int64\n",
      "domestic_gross                Int64\n",
      "worldwide_gross               Int64\n",
      "release_year                  int64\n",
      "dtype: object\n"
     ]
    },
    {
     "data": {
      "text/html": [
       "<div>\n",
       "<style scoped>\n",
       "    .dataframe tbody tr th:only-of-type {\n",
       "        vertical-align: middle;\n",
       "    }\n",
       "\n",
       "    .dataframe tbody tr th {\n",
       "        vertical-align: top;\n",
       "    }\n",
       "\n",
       "    .dataframe thead th {\n",
       "        text-align: right;\n",
       "    }\n",
       "</style>\n",
       "<table border=\"1\" class=\"dataframe\">\n",
       "  <thead>\n",
       "    <tr style=\"text-align: right;\">\n",
       "      <th></th>\n",
       "      <th>id</th>\n",
       "      <th>release_date</th>\n",
       "      <th>movie_name</th>\n",
       "      <th>production_budget</th>\n",
       "      <th>domestic_gross</th>\n",
       "      <th>worldwide_gross</th>\n",
       "      <th>release_year</th>\n",
       "    </tr>\n",
       "  </thead>\n",
       "  <tbody>\n",
       "    <tr>\n",
       "      <th>0</th>\n",
       "      <td>1</td>\n",
       "      <td>2009-12-18</td>\n",
       "      <td>avatar</td>\n",
       "      <td>425000000</td>\n",
       "      <td>760507625</td>\n",
       "      <td>2776345279</td>\n",
       "      <td>2009</td>\n",
       "    </tr>\n",
       "    <tr>\n",
       "      <th>1</th>\n",
       "      <td>2</td>\n",
       "      <td>2011-05-20</td>\n",
       "      <td>pirates of the caribbean: on stranger tides</td>\n",
       "      <td>410600000</td>\n",
       "      <td>241063875</td>\n",
       "      <td>1045663875</td>\n",
       "      <td>2011</td>\n",
       "    </tr>\n",
       "    <tr>\n",
       "      <th>2</th>\n",
       "      <td>3</td>\n",
       "      <td>2019-06-07</td>\n",
       "      <td>dark phoenix</td>\n",
       "      <td>350000000</td>\n",
       "      <td>42762350</td>\n",
       "      <td>149762350</td>\n",
       "      <td>2019</td>\n",
       "    </tr>\n",
       "    <tr>\n",
       "      <th>3</th>\n",
       "      <td>4</td>\n",
       "      <td>2015-05-01</td>\n",
       "      <td>avengers: age of ultron</td>\n",
       "      <td>330600000</td>\n",
       "      <td>459005868</td>\n",
       "      <td>1403013963</td>\n",
       "      <td>2015</td>\n",
       "    </tr>\n",
       "    <tr>\n",
       "      <th>4</th>\n",
       "      <td>5</td>\n",
       "      <td>2017-12-15</td>\n",
       "      <td>star wars ep. viii: the last jedi</td>\n",
       "      <td>317000000</td>\n",
       "      <td>620181382</td>\n",
       "      <td>1316721747</td>\n",
       "      <td>2017</td>\n",
       "    </tr>\n",
       "  </tbody>\n",
       "</table>\n",
       "</div>"
      ],
      "text/plain": [
       "   id release_date                                   movie_name  \\\n",
       "0   1   2009-12-18                                       avatar   \n",
       "1   2   2011-05-20  pirates of the caribbean: on stranger tides   \n",
       "2   3   2019-06-07                                 dark phoenix   \n",
       "3   4   2015-05-01                      avengers: age of ultron   \n",
       "4   5   2017-12-15            star wars ep. viii: the last jedi   \n",
       "\n",
       "   production_budget  domestic_gross  worldwide_gross  release_year  \n",
       "0          425000000       760507625       2776345279          2009  \n",
       "1          410600000       241063875       1045663875          2011  \n",
       "2          350000000        42762350        149762350          2019  \n",
       "3          330600000       459005868       1403013963          2015  \n",
       "4          317000000       620181382       1316721747          2017  "
      ]
     },
     "execution_count": 33,
     "metadata": {},
     "output_type": "execute_result"
    }
   ],
   "source": [
    "# Remove special characters ('$' and ',') and convert to Int64\n",
    "movie_budgets_df['production_budget'] = pd.to_numeric(\n",
    "    movie_budgets_df['production_budget'].astype(str).str.replace('[\\$,]', '', regex=True), errors='coerce'\n",
    ").astype('Int64')\n",
    "\n",
    "movie_budgets_df['domestic_gross'] = pd.to_numeric(\n",
    "    movie_budgets_df['domestic_gross'].astype(str).str.replace('[\\$,]', '', regex=True), errors='coerce'\n",
    ").astype('Int64')\n",
    "\n",
    "movie_budgets_df['worldwide_gross'] = pd.to_numeric(\n",
    "    movie_budgets_df['worldwide_gross'].astype(str).str.replace('[\\$,]', '', regex=True), errors='coerce'\n",
    ").astype('Int64')\n",
    "\n",
    "# Display the updated DataFrame\n",
    "print(movie_budgets_df.dtypes)\n",
    "movie_budgets_df.head()"
   ]
  },
  {
   "cell_type": "markdown",
   "id": "f5de9371",
   "metadata": {},
   "source": [
    "**Identifying and removing columns from a DataFrame that are not necessary or useful for analysis.**\n",
    "\n",
    "This process streamlines the dataset by:\n",
    "\n",
    "* **Reducing dimensionality:** Making the DataFrame easier to work with and potentially improving the performance of analytical models.\n",
    "* **Removing noise:** Eliminating columns that don't contribute meaningful information and could even introduce confusion or bias.\n",
    "* **Focusing on relevant data:** Ensuring that subsequent analysis is concentrated on the variables that truly matter for the research questions or objectives."
   ]
  },
  {
   "cell_type": "code",
   "execution_count": 34,
   "id": "a636095b",
   "metadata": {},
   "outputs": [
    {
     "name": "stdout",
     "output_type": "stream",
     "text": [
      "Shape after dropping rows with zero gross: (5415, 7)\n"
     ]
    }
   ],
   "source": [
    "# Drop rows where both 'domestic_gross' and 'worldwide_gross' are 0\n",
    "movie_budgets_df = movie_budgets_df[\n",
    "    ~((movie_budgets_df['domestic_gross'] == 0) & (movie_budgets_df['worldwide_gross'] == 0))\n",
    "]\n",
    "\n",
    "# Display the updated DataFrame shape\n",
    "print(f\"Shape after dropping rows with zero gross: {movie_budgets_df.shape}\")"
   ]
  },
  {
   "cell_type": "code",
   "execution_count": 35,
   "id": "ec0e095d",
   "metadata": {},
   "outputs": [
    {
     "name": "stdout",
     "output_type": "stream",
     "text": [
      "DataFrames have been successfully saved to the 'extracted' folder.\n"
     ]
    }
   ],
   "source": [
    "output_folder = './extractedData'\n",
    "os.makedirs(output_folder, exist_ok=True)\n",
    "\n",
    "# Save movie_basics_df to a CSV file\n",
    "movie_budgets_df.to_csv(f'{output_folder}/cleaned_movie_budgets_df.csv', index=False)\n",
    "\n",
    "print(\"DataFrames have been successfully saved to the 'extracted' folder.\")"
   ]
  },
  {
   "cell_type": "markdown",
   "metadata": {},
   "source": [
    "- The **movie_budgets** dataset provides insights into the financial aspects of movies, including production costs, domestic revenue, and worldwide earnings. \n",
    "- It is cleaned by standardizing column names, handling duplicates, and converting financial data into numeric formats.\n",
    "- This dataset is crucial for analyzing profitability, trends, and the relationship between budgets and revenues."
   ]
  },
  {
   "cell_type": "markdown",
   "id": "7a9d40db",
   "metadata": {},
   "source": [
    "## COMBINE SQL DATA WITH MOVIE BUDGETS"
   ]
  },
  {
   "cell_type": "markdown",
   "metadata": {},
   "source": [
    "- To combine `movies_df.csv` and `movie_budgets_df`, the datasets are merged on the `movie_name` column using an inner join. \n",
    "- This ensures that only movies present in both datasets are included. The resulting combined dataset integrates movie details with budget and revenue information, enabling comprehensive analysis of financial performance and trends."
   ]
  },
  {
   "cell_type": "code",
   "execution_count": 36,
   "id": "9affff0d",
   "metadata": {},
   "outputs": [
    {
     "name": "stdout",
     "output_type": "stream",
     "text": [
      "<class 'pandas.core.frame.DataFrame'>\n",
      "RangeIndex: 10010 entries, 0 to 10009\n",
      "Data columns (total 7 columns):\n",
      " #   Column           Non-Null Count  Dtype  \n",
      "---  ------           --------------  -----  \n",
      " 0   movie_id         10010 non-null  object \n",
      " 1   primary_title    10010 non-null  object \n",
      " 2   start_year       10010 non-null  int64  \n",
      " 3   runtime_minutes  10010 non-null  int64  \n",
      " 4   genres           10010 non-null  object \n",
      " 5   averagerating    10010 non-null  float64\n",
      " 6   numvotes         10010 non-null  int64  \n",
      "dtypes: float64(1), int64(3), object(3)\n",
      "memory usage: 547.5+ KB\n",
      "----------------------------------------------------------------------------------------------------------------------------------------------------------------\n",
      "<class 'pandas.core.frame.DataFrame'>\n",
      "RangeIndex: 5415 entries, 0 to 5414\n",
      "Data columns (total 7 columns):\n",
      " #   Column             Non-Null Count  Dtype \n",
      "---  ------             --------------  ----- \n",
      " 0   id                 5415 non-null   int64 \n",
      " 1   release_date       5415 non-null   object\n",
      " 2   movie_name         5415 non-null   object\n",
      " 3   production_budget  5415 non-null   int64 \n",
      " 4   domestic_gross     5415 non-null   int64 \n",
      " 5   worldwide_gross    5415 non-null   int64 \n",
      " 6   release_year       5415 non-null   int64 \n",
      "dtypes: int64(5), object(2)\n",
      "memory usage: 296.3+ KB\n"
     ]
    }
   ],
   "source": [
    "# Load the cleaned movies_df.csv\n",
    "movies_df = pd.read_csv('./cleaned_data/movies_df.csv')\n",
    "movie_budgets_df = pd.read_csv('./extractedData/cleaned_movie_budgets_df.csv')\n",
    "\n",
    "movies_df.info()\n",
    "print('--------' * 20)\n",
    "movie_budgets_df.info()"
   ]
  },
  {
   "cell_type": "markdown",
   "id": "f2dde220",
   "metadata": {},
   "source": [
    "**Renaming columns and converting the release year to a datetime object** \n",
    "\n",
    "This standardizes the column names for 'movie\\_name' and 'release\\_year'"
   ]
  },
  {
   "cell_type": "code",
   "execution_count": 37,
   "id": "e48c97e0",
   "metadata": {},
   "outputs": [],
   "source": [
    "# change primary_title to movie_name, start_year to release_year\n",
    "movies_df.rename(columns={'primary_title': 'movie_name', 'start_year': 'release_year'}, inplace=True)\n"
   ]
  },
  {
   "cell_type": "markdown",
   "id": "8b9959e8",
   "metadata": {},
   "source": [
    "This combines movie details (from `movies_df`) with budget and revenue information (from `movie_budgets_df`) into a single DataFrame for further analysis. It ensures that only movies present in both datasets are included.\n",
    "1. **Merging DataFrames**:\n",
    "   - The `movies_df` and `movie_budgets_df` DataFrames are merged on the `movie_name` column.\n",
    "   - An **inner join** is used, meaning only rows with matching `movie_name` values in both DataFrames are included in the resulting `combined_data` DataFrame.\n",
    "\n",
    "2. **Adding Suffixes**:\n",
    "   - Suffixes `('_movies', '_budgets')` are added to distinguish columns with the same name in both DataFrames (e.g., `release_year_movies` and `release_year_budgets`).\n",
    "\n",
    "3. **Displaying Results**:\n",
    "   - The shape of the merged DataFrame (`combined_data`) is printed to show the number of rows and columns.\n",
    "   - The first few rows of the merged DataFrame are displayed using `.head()` to verify the merge."
   ]
  },
  {
   "cell_type": "code",
   "execution_count": 38,
   "id": "d76482e8",
   "metadata": {},
   "outputs": [
    {
     "name": "stdout",
     "output_type": "stream",
     "text": [
      "Shape of the combined DataFrame: (1426, 13)\n"
     ]
    },
    {
     "data": {
      "text/html": [
       "<div>\n",
       "<style scoped>\n",
       "    .dataframe tbody tr th:only-of-type {\n",
       "        vertical-align: middle;\n",
       "    }\n",
       "\n",
       "    .dataframe tbody tr th {\n",
       "        vertical-align: top;\n",
       "    }\n",
       "\n",
       "    .dataframe thead th {\n",
       "        text-align: right;\n",
       "    }\n",
       "</style>\n",
       "<table border=\"1\" class=\"dataframe\">\n",
       "  <thead>\n",
       "    <tr style=\"text-align: right;\">\n",
       "      <th></th>\n",
       "      <th>movie_id</th>\n",
       "      <th>movie_name</th>\n",
       "      <th>release_year_movies</th>\n",
       "      <th>runtime_minutes</th>\n",
       "      <th>genres</th>\n",
       "      <th>averagerating</th>\n",
       "      <th>numvotes</th>\n",
       "      <th>id</th>\n",
       "      <th>release_date</th>\n",
       "      <th>production_budget</th>\n",
       "      <th>domestic_gross</th>\n",
       "      <th>worldwide_gross</th>\n",
       "      <th>release_year_budgets</th>\n",
       "    </tr>\n",
       "  </thead>\n",
       "  <tbody>\n",
       "    <tr>\n",
       "      <th>0</th>\n",
       "      <td>tt0249516</td>\n",
       "      <td>foodfight!</td>\n",
       "      <td>2012</td>\n",
       "      <td>91</td>\n",
       "      <td>action,animation,comedy</td>\n",
       "      <td>1.9</td>\n",
       "      <td>8248</td>\n",
       "      <td>26</td>\n",
       "      <td>2012-12-31</td>\n",
       "      <td>45000000</td>\n",
       "      <td>0</td>\n",
       "      <td>73706</td>\n",
       "      <td>2012</td>\n",
       "    </tr>\n",
       "    <tr>\n",
       "      <th>1</th>\n",
       "      <td>tt0359950</td>\n",
       "      <td>the secret life of walter mitty</td>\n",
       "      <td>2013</td>\n",
       "      <td>114</td>\n",
       "      <td>adventure,comedy,drama</td>\n",
       "      <td>7.3</td>\n",
       "      <td>275300</td>\n",
       "      <td>37</td>\n",
       "      <td>2013-12-25</td>\n",
       "      <td>91000000</td>\n",
       "      <td>58236838</td>\n",
       "      <td>187861183</td>\n",
       "      <td>2013</td>\n",
       "    </tr>\n",
       "    <tr>\n",
       "      <th>2</th>\n",
       "      <td>tt0365907</td>\n",
       "      <td>a walk among the tombstones</td>\n",
       "      <td>2014</td>\n",
       "      <td>114</td>\n",
       "      <td>action,crime,drama</td>\n",
       "      <td>6.5</td>\n",
       "      <td>105116</td>\n",
       "      <td>67</td>\n",
       "      <td>2014-09-19</td>\n",
       "      <td>28000000</td>\n",
       "      <td>26017685</td>\n",
       "      <td>62108587</td>\n",
       "      <td>2014</td>\n",
       "    </tr>\n",
       "    <tr>\n",
       "      <th>3</th>\n",
       "      <td>tt0369610</td>\n",
       "      <td>jurassic world</td>\n",
       "      <td>2015</td>\n",
       "      <td>124</td>\n",
       "      <td>action,adventure,sci-fi</td>\n",
       "      <td>7.0</td>\n",
       "      <td>539338</td>\n",
       "      <td>34</td>\n",
       "      <td>2015-06-12</td>\n",
       "      <td>215000000</td>\n",
       "      <td>652270625</td>\n",
       "      <td>1648854864</td>\n",
       "      <td>2015</td>\n",
       "    </tr>\n",
       "    <tr>\n",
       "      <th>4</th>\n",
       "      <td>tt0376136</td>\n",
       "      <td>the rum diary</td>\n",
       "      <td>2011</td>\n",
       "      <td>119</td>\n",
       "      <td>comedy,drama</td>\n",
       "      <td>6.2</td>\n",
       "      <td>94787</td>\n",
       "      <td>16</td>\n",
       "      <td>2011-10-28</td>\n",
       "      <td>45000000</td>\n",
       "      <td>13109815</td>\n",
       "      <td>21544732</td>\n",
       "      <td>2011</td>\n",
       "    </tr>\n",
       "  </tbody>\n",
       "</table>\n",
       "</div>"
      ],
      "text/plain": [
       "    movie_id                       movie_name  release_year_movies  \\\n",
       "0  tt0249516                       foodfight!                 2012   \n",
       "1  tt0359950  the secret life of walter mitty                 2013   \n",
       "2  tt0365907      a walk among the tombstones                 2014   \n",
       "3  tt0369610                   jurassic world                 2015   \n",
       "4  tt0376136                    the rum diary                 2011   \n",
       "\n",
       "   runtime_minutes                   genres  averagerating  numvotes  id  \\\n",
       "0               91  action,animation,comedy            1.9      8248  26   \n",
       "1              114   adventure,comedy,drama            7.3    275300  37   \n",
       "2              114       action,crime,drama            6.5    105116  67   \n",
       "3              124  action,adventure,sci-fi            7.0    539338  34   \n",
       "4              119             comedy,drama            6.2     94787  16   \n",
       "\n",
       "  release_date  production_budget  domestic_gross  worldwide_gross  \\\n",
       "0   2012-12-31           45000000               0            73706   \n",
       "1   2013-12-25           91000000        58236838        187861183   \n",
       "2   2014-09-19           28000000        26017685         62108587   \n",
       "3   2015-06-12          215000000       652270625       1648854864   \n",
       "4   2011-10-28           45000000        13109815         21544732   \n",
       "\n",
       "   release_year_budgets  \n",
       "0                  2012  \n",
       "1                  2013  \n",
       "2                  2014  \n",
       "3                  2015  \n",
       "4                  2011  "
      ]
     },
     "execution_count": 38,
     "metadata": {},
     "output_type": "execute_result"
    }
   ],
   "source": [
    "# Merge movies_df and movie_budgets_df on 'movie_name'\n",
    "combined_data = pd.merge(\n",
    "    movies_df,\n",
    "    movie_budgets_df,\n",
    "    on='movie_name',\n",
    "    how='inner',  # Use 'inner' to keep only matching rows\n",
    "    suffixes=('_movies', '_budgets')  # Add suffixes to distinguish columns\n",
    ")\n",
    "\n",
    "# Display the shape and the first few rows of the combined DataFrame\n",
    "print(f\"Shape of the combined DataFrame: {combined_data.shape}\")\n",
    "combined_data.head()"
   ]
  },
  {
   "cell_type": "markdown",
   "id": "7065d6a9",
   "metadata": {},
   "source": [
    "To check if the release_year_movies and release_year_budgets columns do not match in the combined_data DataFrame\n",
    "\n",
    "1. **Filter Rows with Mismatched Years**:\n",
    "   - The condition `combined_data['release_year_movies'] != combined_data['release_year_budgets']` identifies rows where the release years in the two columns do not match.\n",
    "\n",
    "2. **Count Mismatched Rows**:\n",
    "   - `mismatched_years.shape[0]` gives the total number of rows with mismatched release years.\n",
    "\n",
    "3. **Display Results**:\n",
    "   - The `head()` method displays the first few rows of the mismatched data, showing the `movie_name`, `release_year_movies`, and `release_year_budgets` columns for inspection."
   ]
  },
  {
   "cell_type": "code",
   "execution_count": 39,
   "id": "e080fdf1",
   "metadata": {},
   "outputs": [
    {
     "name": "stdout",
     "output_type": "stream",
     "text": [
      "Number of rows with a year difference greater than 10: 45\n"
     ]
    },
    {
     "data": {
      "text/html": [
       "<div>\n",
       "<style scoped>\n",
       "    .dataframe tbody tr th:only-of-type {\n",
       "        vertical-align: middle;\n",
       "    }\n",
       "\n",
       "    .dataframe tbody tr th {\n",
       "        vertical-align: top;\n",
       "    }\n",
       "\n",
       "    .dataframe thead th {\n",
       "        text-align: right;\n",
       "    }\n",
       "</style>\n",
       "<table border=\"1\" class=\"dataframe\">\n",
       "  <thead>\n",
       "    <tr style=\"text-align: right;\">\n",
       "      <th></th>\n",
       "      <th>movie_name</th>\n",
       "      <th>release_year_movies</th>\n",
       "      <th>release_year_budgets</th>\n",
       "    </tr>\n",
       "  </thead>\n",
       "  <tbody>\n",
       "    <tr>\n",
       "      <th>8</th>\n",
       "      <td>action jackson</td>\n",
       "      <td>2014</td>\n",
       "      <td>1988</td>\n",
       "    </tr>\n",
       "    <tr>\n",
       "      <th>106</th>\n",
       "      <td>fair game</td>\n",
       "      <td>2010</td>\n",
       "      <td>1995</td>\n",
       "    </tr>\n",
       "    <tr>\n",
       "      <th>404</th>\n",
       "      <td>no man's land</td>\n",
       "      <td>2013</td>\n",
       "      <td>2001</td>\n",
       "    </tr>\n",
       "    <tr>\n",
       "      <th>433</th>\n",
       "      <td>vampires</td>\n",
       "      <td>2010</td>\n",
       "      <td>1998</td>\n",
       "    </tr>\n",
       "    <tr>\n",
       "      <th>464</th>\n",
       "      <td>playing for keeps</td>\n",
       "      <td>2012</td>\n",
       "      <td>1986</td>\n",
       "    </tr>\n",
       "  </tbody>\n",
       "</table>\n",
       "</div>"
      ],
      "text/plain": [
       "            movie_name  release_year_movies  release_year_budgets\n",
       "8       action jackson                 2014                  1988\n",
       "106          fair game                 2010                  1995\n",
       "404      no man's land                 2013                  2001\n",
       "433           vampires                 2010                  1998\n",
       "464  playing for keeps                 2012                  1986"
      ]
     },
     "execution_count": 39,
     "metadata": {},
     "output_type": "execute_result"
    }
   ],
   "source": [
    "# Filter rows where the absolute difference between release_year_movies and release_year_budgets is greater than 10\n",
    "large_mismatched_years = combined_data[\n",
    "    (combined_data['release_year_movies'] - combined_data['release_year_budgets']).abs() > 10\n",
    "]\n",
    "\n",
    "# Display the count and the mismatched rows\n",
    "print(f\"Number of rows with a year difference greater than 10: {large_mismatched_years.shape[0]}\")\n",
    "large_mismatched_years[['movie_name', 'release_year_movies', 'release_year_budgets']].head()"
   ]
  },
  {
   "cell_type": "code",
   "execution_count": 40,
   "id": "afa3ab58",
   "metadata": {},
   "outputs": [
    {
     "name": "stdout",
     "output_type": "stream",
     "text": [
      "Shape of the combined DataFrame before dropping rows: (1426, 13)\n",
      "Shape of the combined DataFrame after dropping rows: (1381, 13)\n"
     ]
    }
   ],
   "source": [
    "# Shape of the combined DataFrame before dropping rows\n",
    "print(f\"Shape of the combined DataFrame before dropping rows: {combined_data.shape}\")   \n",
    "\n",
    "# DROP ROWS WHERE THE YEAR DIFFERENCE IS GREATER THAN 10\n",
    "combined_data = combined_data[\n",
    "    (combined_data['release_year_movies'] - combined_data['release_year_budgets']).abs() <= 10\n",
    "]\n",
    "\n",
    "print(f\"Shape of the combined DataFrame after dropping rows: {combined_data.shape}\")"
   ]
  },
  {
   "cell_type": "code",
   "execution_count": 41,
   "id": "23149120",
   "metadata": {},
   "outputs": [
    {
     "name": "stdout",
     "output_type": "stream",
     "text": [
      "<class 'pandas.core.frame.DataFrame'>\n",
      "Int64Index: 1381 entries, 0 to 1425\n",
      "Data columns (total 13 columns):\n",
      " #   Column                Non-Null Count  Dtype  \n",
      "---  ------                --------------  -----  \n",
      " 0   movie_id              1381 non-null   object \n",
      " 1   movie_name            1381 non-null   object \n",
      " 2   release_year_movies   1381 non-null   int64  \n",
      " 3   runtime_minutes       1381 non-null   int64  \n",
      " 4   genres                1381 non-null   object \n",
      " 5   averagerating         1381 non-null   float64\n",
      " 6   numvotes              1381 non-null   int64  \n",
      " 7   id                    1381 non-null   int64  \n",
      " 8   release_date          1381 non-null   object \n",
      " 9   production_budget     1381 non-null   int64  \n",
      " 10  domestic_gross        1381 non-null   int64  \n",
      " 11  worldwide_gross       1381 non-null   int64  \n",
      " 12  release_year_budgets  1381 non-null   int64  \n",
      "dtypes: float64(1), int64(8), object(4)\n",
      "memory usage: 151.0+ KB\n"
     ]
    }
   ],
   "source": [
    "# We check if the data types are consistent across the combined DataFrame\n",
    "combined_data.info()"
   ]
  },
  {
   "cell_type": "code",
   "execution_count": 42,
   "id": "d6720deb",
   "metadata": {},
   "outputs": [
    {
     "data": {
      "text/html": [
       "<div>\n",
       "<style scoped>\n",
       "    .dataframe tbody tr th:only-of-type {\n",
       "        vertical-align: middle;\n",
       "    }\n",
       "\n",
       "    .dataframe tbody tr th {\n",
       "        vertical-align: top;\n",
       "    }\n",
       "\n",
       "    .dataframe thead th {\n",
       "        text-align: right;\n",
       "    }\n",
       "</style>\n",
       "<table border=\"1\" class=\"dataframe\">\n",
       "  <thead>\n",
       "    <tr style=\"text-align: right;\">\n",
       "      <th></th>\n",
       "      <th>movie_id</th>\n",
       "      <th>movie_name</th>\n",
       "      <th>release_year_movies</th>\n",
       "      <th>runtime_minutes</th>\n",
       "      <th>genres</th>\n",
       "      <th>averagerating</th>\n",
       "      <th>numvotes</th>\n",
       "      <th>id</th>\n",
       "      <th>release_date</th>\n",
       "      <th>production_budget</th>\n",
       "      <th>domestic_gross</th>\n",
       "      <th>worldwide_gross</th>\n",
       "      <th>release_year_budgets</th>\n",
       "    </tr>\n",
       "  </thead>\n",
       "  <tbody>\n",
       "  </tbody>\n",
       "</table>\n",
       "</div>"
      ],
      "text/plain": [
       "Empty DataFrame\n",
       "Columns: [movie_id, movie_name, release_year_movies, runtime_minutes, genres, averagerating, numvotes, id, release_date, production_budget, domestic_gross, worldwide_gross, release_year_budgets]\n",
       "Index: []"
      ]
     },
     "execution_count": 42,
     "metadata": {},
     "output_type": "execute_result"
    }
   ],
   "source": [
    "# check for duplicates in the combined DataFrame based on 'movie_name'\n",
    "duplicates_combined = combined_data[combined_data.duplicated(subset=['movie_name'], keep=False)]\n",
    "duplicates_combined"
   ]
  },
  {
   "cell_type": "code",
   "execution_count": 43,
   "id": "cc45fb1a",
   "metadata": {},
   "outputs": [],
   "source": [
    "# drop irelevant columns\n",
    "drop_columns = [ 'id', 'release_year_budgets']\n",
    "combined_data.drop(columns=drop_columns, inplace=True)\n",
    "\n",
    "# Rename release_year_movies to release_year\n",
    "combined_data.rename(columns={'release_year_movies': 'release_year'}, inplace=True)\n"
   ]
  },
  {
   "cell_type": "code",
   "execution_count": 44,
   "id": "c3a28bfb",
   "metadata": {},
   "outputs": [
    {
     "data": {
      "text/plain": [
       "movie_id              object\n",
       "movie_name            object\n",
       "release_year           int64\n",
       "runtime_minutes        int64\n",
       "genres                object\n",
       "averagerating        float64\n",
       "numvotes               int64\n",
       "release_date          object\n",
       "production_budget      int64\n",
       "domestic_gross         int64\n",
       "worldwide_gross        int64\n",
       "dtype: object"
      ]
     },
     "execution_count": 44,
     "metadata": {},
     "output_type": "execute_result"
    }
   ],
   "source": [
    "# This will display the data types of the remaining columns in the combined DataFrame\n",
    "combined_data.dtypes"
   ]
  },
  {
   "cell_type": "code",
   "execution_count": 45,
   "id": "603dc11c",
   "metadata": {},
   "outputs": [
    {
     "name": "stdout",
     "output_type": "stream",
     "text": [
      "movie_id                     object\n",
      "movie_name                   object\n",
      "release_year                  int64\n",
      "runtime_minutes               int64\n",
      "genres                       object\n",
      "averagerating               float64\n",
      "numvotes                      int64\n",
      "release_date         datetime64[ns]\n",
      "production_budget             int64\n",
      "domestic_gross                int64\n",
      "worldwide_gross               int64\n",
      "dtype: object\n"
     ]
    }
   ],
   "source": [
    "# Convert 'release_date' to datetime format\n",
    "combined_data['release_date'] = pd.to_datetime(combined_data['release_date'])\n",
    "\n",
    "# Display the updated DataFrame to confirm the change\n",
    "print(combined_data.dtypes)"
   ]
  },
  {
   "cell_type": "code",
   "execution_count": 46,
   "id": "5e9f8ee3",
   "metadata": {},
   "outputs": [
    {
     "name": "stdout",
     "output_type": "stream",
     "text": [
      "DataFrames have been successfully saved to the 'extracted' folder.\n"
     ]
    }
   ],
   "source": [
    "output_folder = './cleaned_data'\n",
    "os.makedirs(output_folder, exist_ok=True)\n",
    "\n",
    "# Save movie_basics_df to a CSV file\n",
    "combined_data.to_csv(f'{output_folder}/movie_budgets.csv', index=False)\n",
    "\n",
    "print(\"DataFrames have been successfully saved to the 'extracted' folder.\")"
   ]
  },
  {
   "cell_type": "markdown",
   "id": "04f5853a",
   "metadata": {},
   "source": [
    "### Conclusion:\n",
    "\n",
    "The `movie_budgets_df` dataset is successfully cleaned and prepared for analysis by:\n",
    " - renaming columns, \n",
    " - converting `release_date` to datetime format, \n",
    " - standardizing `movie_name`\n",
    " - cleaning financial columns. \n",
    " \n",
    "It is then merged with `movies_df` to create a combined dataset, ensuring only matching movies were included. \n",
    "This combined dataset is now ready for further analysis, with mismatched release years identified and irrelevant columns removed for clarity and focus."
   ]
  },
  {
   "cell_type": "markdown",
   "id": "206323cd",
   "metadata": {},
   "source": [
    "# Introduction `persons`, `writers`, `directors`, and `principals`\n",
    "\n",
    "This focuses on extracting, cleaning, and preparing data related to persons involved in movies, including writers, directors, and actors. The goal is to create a comprehensive dataset that combines information about movies, their budgets, and the individuals who contributed to their creation.\n",
    "\n",
    "### Objectives:\n",
    "1. **Data Extraction:**\n",
    "   - Extract data from a SQLite database and CSV files.\n",
    "   - Load tables such as `persons`, `writers`, `directors`, and `principals` into pandas DataFrames.\n",
    "\n",
    "2. **Data Cleaning:**\n",
    "   - Handle missing values and duplicates.\n",
    "   - Remove irrelevant columns and rows.\n",
    "   - Standardize and group data for clarity and consistency.\n",
    "\n",
    "3. **Data Transformation:**\n",
    "   - Merge datasets to link movies with their writers, directors, and actors.\n",
    "   - Aggregate and compress data to ensure unique and meaningful representations.\n",
    "\n",
    "4. **Data Export:**\n",
    "   - Save the cleaned and merged datasets to CSV files for further analysis.\n",
    "\n",
    "### Key Outputs:\n",
    "- A cleaned `persons_df` containing information about individuals involved in movies.\n",
    "- Merged datasets linking movies with their writers, directors, and actors.\n",
    "- A final dataset (`final_merged_df_2`) combining movie budgets, writers, directors, and actors for comprehensive analysis.\n",
    "\n",
    "This notebook serves as a critical step in preparing the data for exploratory data analysis (EDA) and modeling, ensuring that the datasets are clean, consistent, and ready for further use."
   ]
  },
  {
   "cell_type": "code",
   "execution_count": 47,
   "id": "f8a37386",
   "metadata": {},
   "outputs": [],
   "source": [
    "# connect to the SQLite database\n",
    "conn = sqlite3.connect('./extractedData/im.db')\n",
    "cursor = conn.cursor()"
   ]
  },
  {
   "cell_type": "code",
   "execution_count": 48,
   "id": "0c8b0d84",
   "metadata": {},
   "outputs": [
    {
     "name": "stdout",
     "output_type": "stream",
     "text": [
      "<class 'pandas.core.frame.DataFrame'>\n",
      "RangeIndex: 606648 entries, 0 to 606647\n",
      "Data columns (total 5 columns):\n",
      " #   Column              Non-Null Count   Dtype  \n",
      "---  ------              --------------   -----  \n",
      " 0   person_id           606648 non-null  object \n",
      " 1   primary_name        606648 non-null  object \n",
      " 2   birth_year          82736 non-null   float64\n",
      " 3   death_year          6783 non-null    float64\n",
      " 4   primary_profession  555308 non-null  object \n",
      "dtypes: float64(2), object(3)\n",
      "memory usage: 23.1+ MB\n"
     ]
    }
   ],
   "source": [
    "# read the persons table into a pandas DataFrame\n",
    "# and display its information\n",
    "persons_df = pd.read_sql(\"SELECT * FROM persons;\", conn)\n",
    "persons_df.info()\n"
   ]
  },
  {
   "cell_type": "code",
   "execution_count": 49,
   "id": "701cbf82",
   "metadata": {},
   "outputs": [
    {
     "data": {
      "text/plain": [
       "person_id                  0\n",
       "primary_name               0\n",
       "birth_year            523912\n",
       "death_year            599865\n",
       "primary_profession     51340\n",
       "dtype: int64"
      ]
     },
     "execution_count": 49,
     "metadata": {},
     "output_type": "execute_result"
    }
   ],
   "source": [
    "# Check for missing values\n",
    "persons_df.isnull().sum()"
   ]
  },
  {
   "cell_type": "markdown",
   "id": "4da953c2",
   "metadata": {},
   "source": [
    "## Data Preparation for Analysis\n",
    "### Data Cleaning\n",
    "\n",
    "   - Handle missing values and duplicates.\n",
    "   - Remove irrelevant columns and rows.\n",
    "   - Standardize and group data for clarity and consistency."
   ]
  },
  {
   "cell_type": "code",
   "execution_count": 50,
   "id": "a1881858",
   "metadata": {},
   "outputs": [],
   "source": [
    "# Drop rows where death_year is not null\n",
    "persons_df = persons_df[persons_df['death_year'].isna()]\n",
    "\n",
    "# Drop the 'birth_year', 'death_year' columns\n",
    "persons_df = persons_df.drop(columns=['birth_year', 'death_year'])\n",
    "\n",
    "# Reset the index of the DataFrame\n",
    "persons_df.reset_index(drop=True, inplace=True)\n"
   ]
  },
  {
   "cell_type": "code",
   "execution_count": 51,
   "id": "34529d46",
   "metadata": {},
   "outputs": [
    {
     "data": {
      "text/plain": [
       "person_id             object\n",
       "primary_name          object\n",
       "primary_profession    object\n",
       "dtype: object"
      ]
     },
     "execution_count": 51,
     "metadata": {},
     "output_type": "execute_result"
    }
   ],
   "source": [
    "# Display the updated DataFrame\n",
    "persons_df.dtypes"
   ]
  },
  {
   "cell_type": "markdown",
   "id": "eb76828c",
   "metadata": {},
   "source": [
    "duplicate_persons_primary_name helps identify and preview individuals with non-unique primary names in the dataset. We can say that many people can share the same name. We can not use primary_name to clean our data"
   ]
  },
  {
   "cell_type": "code",
   "execution_count": 52,
   "id": "cee5d9bc",
   "metadata": {},
   "outputs": [
    {
     "data": {
      "text/html": [
       "<div>\n",
       "<style scoped>\n",
       "    .dataframe tbody tr th:only-of-type {\n",
       "        vertical-align: middle;\n",
       "    }\n",
       "\n",
       "    .dataframe tbody tr th {\n",
       "        vertical-align: top;\n",
       "    }\n",
       "\n",
       "    .dataframe thead th {\n",
       "        text-align: right;\n",
       "    }\n",
       "</style>\n",
       "<table border=\"1\" class=\"dataframe\">\n",
       "  <thead>\n",
       "    <tr style=\"text-align: right;\">\n",
       "      <th></th>\n",
       "      <th>person_id</th>\n",
       "      <th>primary_name</th>\n",
       "      <th>primary_profession</th>\n",
       "    </tr>\n",
       "  </thead>\n",
       "  <tbody>\n",
       "    <tr>\n",
       "      <th>381053</th>\n",
       "      <td>nm8956236</td>\n",
       "      <td>A. Venkatesh</td>\n",
       "      <td>producer</td>\n",
       "    </tr>\n",
       "    <tr>\n",
       "      <th>151115</th>\n",
       "      <td>nm1701176</td>\n",
       "      <td>A. Venkatesh</td>\n",
       "      <td>cinematographer,camera_department,editor</td>\n",
       "    </tr>\n",
       "    <tr>\n",
       "      <th>124660</th>\n",
       "      <td>nm10275444</td>\n",
       "      <td>A. Venkatesh</td>\n",
       "      <td>director</td>\n",
       "    </tr>\n",
       "    <tr>\n",
       "      <th>273669</th>\n",
       "      <td>nm4062141</td>\n",
       "      <td>A. Venkatesh</td>\n",
       "      <td>director,actor,writer</td>\n",
       "    </tr>\n",
       "    <tr>\n",
       "      <th>429984</th>\n",
       "      <td>nm6758318</td>\n",
       "      <td>A.J. Khan</td>\n",
       "      <td>producer</td>\n",
       "    </tr>\n",
       "  </tbody>\n",
       "</table>\n",
       "</div>"
      ],
      "text/plain": [
       "         person_id  primary_name                        primary_profession\n",
       "381053   nm8956236  A. Venkatesh                                  producer\n",
       "151115   nm1701176  A. Venkatesh  cinematographer,camera_department,editor\n",
       "124660  nm10275444  A. Venkatesh                                  director\n",
       "273669   nm4062141  A. Venkatesh                     director,actor,writer\n",
       "429984   nm6758318     A.J. Khan                                  producer"
      ]
     },
     "execution_count": 52,
     "metadata": {},
     "output_type": "execute_result"
    }
   ],
   "source": [
    "# view duplicates using primary_name\n",
    "duplicate_persons_primary_name = persons_df[persons_df.duplicated(subset=['primary_name'], keep=False)]\n",
    "duplicate_persons_primary_name = duplicate_persons_primary_name.sort_values('primary_name')\n",
    "duplicate_persons_primary_name.head()"
   ]
  },
  {
   "cell_type": "code",
   "execution_count": 53,
   "id": "7d42061e",
   "metadata": {},
   "outputs": [
    {
     "name": "stdout",
     "output_type": "stream",
     "text": [
      "Shape after dropping rows with primary_profession as 'miscellaneous': (599028, 3)\n"
     ]
    }
   ],
   "source": [
    "# Drop rows where primary_profession is 'miscellaneous' only\n",
    "persons_df = persons_df[persons_df['primary_profession'].str.strip().str.lower() != 'miscellaneous']\n",
    "\n",
    "# Display the updated DataFrame\n",
    "print(f\"Shape after dropping rows with primary_profession as 'miscellaneous': {persons_df.shape}\")"
   ]
  },
  {
   "cell_type": "code",
   "execution_count": 54,
   "id": "a3124151",
   "metadata": {},
   "outputs": [
    {
     "data": {
      "text/plain": [
       "person_id                 0\n",
       "primary_name              0\n",
       "primary_profession    50548\n",
       "dtype: int64"
      ]
     },
     "execution_count": 54,
     "metadata": {},
     "output_type": "execute_result"
    }
   ],
   "source": [
    "# Check for missing values again\n",
    "persons_df.isna().sum()"
   ]
  },
  {
   "cell_type": "code",
   "execution_count": 55,
   "id": "f525dcf9",
   "metadata": {},
   "outputs": [
    {
     "name": "stdout",
     "output_type": "stream",
     "text": [
      "Updated DataFrame information after cleaning:\n",
      "<class 'pandas.core.frame.DataFrame'>\n",
      "Int64Index: 599028 entries, 0 to 599864\n",
      "Data columns (total 3 columns):\n",
      " #   Column              Non-Null Count   Dtype \n",
      "---  ------              --------------   ----- \n",
      " 0   person_id           599028 non-null  object\n",
      " 1   primary_name        599028 non-null  object\n",
      " 2   primary_profession  548480 non-null  object\n",
      "dtypes: object(3)\n",
      "memory usage: 18.3+ MB\n"
     ]
    }
   ],
   "source": [
    "# Display the updated DataFrame information\n",
    "print(\"Updated DataFrame information after cleaning:\")\n",
    "persons_df.info()"
   ]
  },
  {
   "cell_type": "code",
   "execution_count": 56,
   "id": "4a1161ff",
   "metadata": {},
   "outputs": [],
   "source": [
    "# close the database connection\n",
    "conn.close()"
   ]
  },
  {
   "cell_type": "code",
   "execution_count": 57,
   "id": "c01433a1",
   "metadata": {},
   "outputs": [
    {
     "name": "stdout",
     "output_type": "stream",
     "text": [
      "DataFrames have been successfully saved to the 'extracted' folder.\n"
     ]
    }
   ],
   "source": [
    "# Create 'extracted' folder if it doesn't exist\n",
    "output_folder = './cleaned_data'\n",
    "os.makedirs(output_folder, exist_ok=True)\n",
    "\n",
    "# Save persons_df to a CSV file\n",
    "persons_df.to_csv(f'{output_folder}/cleaned_persons_df.csv', index=False)\n",
    "\n",
    "print(\"DataFrames have been successfully saved to the 'extracted' folder.\")"
   ]
  },
  {
   "cell_type": "markdown",
   "id": "c7e2d2e6",
   "metadata": {},
   "source": [
    "## Introduction to Writers"
   ]
  },
  {
   "cell_type": "markdown",
   "metadata": {},
   "source": [
    "The **writers** dataset provides information about individuals who contributed to the writing of movies. \n",
    "\n",
    "It includes details such as `movie_id` and `person_id`, linking movies to their respective writers. \n",
    "\n",
    "This dataset is essential for analyzing the impact of writers on movie success and for merging with other datasets to create a comprehensive view of movie production."
   ]
  },
  {
   "cell_type": "code",
   "execution_count": 58,
   "id": "c5df995d",
   "metadata": {},
   "outputs": [],
   "source": [
    "conn = sqlite3.connect('./extractedData/im.db')\n",
    "cursor = conn.cursor()"
   ]
  },
  {
   "cell_type": "code",
   "execution_count": 59,
   "id": "ddf9bc9f",
   "metadata": {},
   "outputs": [
    {
     "name": "stdout",
     "output_type": "stream",
     "text": [
      "(255873, 2)\n"
     ]
    },
    {
     "data": {
      "text/html": [
       "<div>\n",
       "<style scoped>\n",
       "    .dataframe tbody tr th:only-of-type {\n",
       "        vertical-align: middle;\n",
       "    }\n",
       "\n",
       "    .dataframe tbody tr th {\n",
       "        vertical-align: top;\n",
       "    }\n",
       "\n",
       "    .dataframe thead th {\n",
       "        text-align: right;\n",
       "    }\n",
       "</style>\n",
       "<table border=\"1\" class=\"dataframe\">\n",
       "  <thead>\n",
       "    <tr style=\"text-align: right;\">\n",
       "      <th></th>\n",
       "      <th>movie_id</th>\n",
       "      <th>person_id</th>\n",
       "    </tr>\n",
       "  </thead>\n",
       "  <tbody>\n",
       "    <tr>\n",
       "      <th>0</th>\n",
       "      <td>tt0285252</td>\n",
       "      <td>nm0899854</td>\n",
       "    </tr>\n",
       "    <tr>\n",
       "      <th>1</th>\n",
       "      <td>tt0438973</td>\n",
       "      <td>nm0175726</td>\n",
       "    </tr>\n",
       "    <tr>\n",
       "      <th>2</th>\n",
       "      <td>tt0438973</td>\n",
       "      <td>nm1802864</td>\n",
       "    </tr>\n",
       "    <tr>\n",
       "      <th>3</th>\n",
       "      <td>tt0462036</td>\n",
       "      <td>nm1940585</td>\n",
       "    </tr>\n",
       "    <tr>\n",
       "      <th>4</th>\n",
       "      <td>tt0835418</td>\n",
       "      <td>nm0310087</td>\n",
       "    </tr>\n",
       "  </tbody>\n",
       "</table>\n",
       "</div>"
      ],
      "text/plain": [
       "    movie_id  person_id\n",
       "0  tt0285252  nm0899854\n",
       "1  tt0438973  nm0175726\n",
       "2  tt0438973  nm1802864\n",
       "3  tt0462036  nm1940585\n",
       "4  tt0835418  nm0310087"
      ]
     },
     "execution_count": 59,
     "metadata": {},
     "output_type": "execute_result"
    }
   ],
   "source": [
    "writers_df = pd.read_sql(\"SELECT * FROM writers;\", conn)\n",
    "print(writers_df.shape)\n",
    "writers_df.head()\n"
   ]
  },
  {
   "cell_type": "code",
   "execution_count": 60,
   "id": "438faf99",
   "metadata": {},
   "outputs": [
    {
     "data": {
      "text/plain": [
       "movie_id     0\n",
       "person_id    0\n",
       "dtype: int64"
      ]
     },
     "execution_count": 60,
     "metadata": {},
     "output_type": "execute_result"
    }
   ],
   "source": [
    "# Check for missing values\n",
    "writers_df.isna().sum()"
   ]
  },
  {
   "cell_type": "code",
   "execution_count": 61,
   "id": "2c3f674c",
   "metadata": {},
   "outputs": [
    {
     "data": {
      "text/plain": [
       "movie_id     104011\n",
       "person_id    104011\n",
       "dtype: int64"
      ]
     },
     "execution_count": 61,
     "metadata": {},
     "output_type": "execute_result"
    }
   ],
   "source": [
    "# view duplicates using movie_id and person_id\n",
    "\n",
    "duplicate_writers = writers_df[writers_df.duplicated(subset=['movie_id', 'person_id'], keep=False)]\n",
    "\n",
    "duplicate_writers.count()"
   ]
  },
  {
   "cell_type": "markdown",
   "id": "e97b6883",
   "metadata": {},
   "source": [
    "### Data Cleaning for Analysis"
   ]
  },
  {
   "cell_type": "markdown",
   "metadata": {},
   "source": [
    "The data preparation for the **writers** dataset involved extracting data from a SQLite database, removing duplicates, and ensuring unique entries for `movie_id` and `person_id`.\n",
    "\n",
    "This cleaned dataset was then saved for further analysis and merging with other datasets to link movies with their respective writers."
   ]
  },
  {
   "cell_type": "code",
   "execution_count": 62,
   "id": "1b812923",
   "metadata": {},
   "outputs": [
    {
     "data": {
      "text/plain": [
       "178352"
      ]
     },
     "execution_count": 62,
     "metadata": {},
     "output_type": "execute_result"
    }
   ],
   "source": [
    "# drop duplicates from the DataFrame. retain the first occurrence\n",
    "writers_df = writers_df.drop_duplicates(subset=['movie_id', 'person_id'], keep='first')\n",
    "\n",
    "# check for duplicates in the DataFrame\n",
    "duplicate_writers = writers_df.duplicated(subset=['movie_id', 'person_id'])\n",
    "\n",
    "# count the number of duplicates\n",
    "duplicate_writers.count()"
   ]
  },
  {
   "cell_type": "code",
   "execution_count": 63,
   "id": "06839dcc",
   "metadata": {},
   "outputs": [
    {
     "data": {
      "text/plain": [
       "(178352, 2)"
      ]
     },
     "execution_count": 63,
     "metadata": {},
     "output_type": "execute_result"
    }
   ],
   "source": [
    "writers_df.shape"
   ]
  },
  {
   "cell_type": "code",
   "execution_count": 64,
   "id": "77c3f9b2",
   "metadata": {},
   "outputs": [
    {
     "name": "stdout",
     "output_type": "stream",
     "text": [
      "writers_df has been successfully saved to the 'cleaned_data' folder.\n"
     ]
    }
   ],
   "source": [
    "# Create 'cleaned_data' folder if it doesn't exist\n",
    "output_folder = './cleaned_data'\n",
    "os.makedirs(output_folder, exist_ok=True)\n",
    "\n",
    "# Save writers_df to a CSV file\n",
    "writers_df.to_csv(f'{output_folder}/cleaned_writers_df.csv', index=False)\n",
    "\n",
    "print(\"writers_df has been successfully saved to the 'cleaned_data' folder.\")"
   ]
  },
  {
   "cell_type": "markdown",
   "id": "684d1d30",
   "metadata": {},
   "source": [
    "## Directors"
   ]
  },
  {
   "cell_type": "markdown",
   "metadata": {},
   "source": [
    "The **directors** dataset contains information linking movies to their respective directors using `movie_id` and `person_id`. \n",
    "\n",
    "The data preparation involved extracting it from a SQLite database, removing duplicates, and ensuring unique entries. \n",
    "\n",
    "This cleaned dataset was saved for further analysis and integration with other datasets to analyze the role of directors in movie production."
   ]
  },
  {
   "cell_type": "code",
   "execution_count": 65,
   "id": "0013689d",
   "metadata": {},
   "outputs": [
    {
     "name": "stdout",
     "output_type": "stream",
     "text": [
      "(291174, 2)\n"
     ]
    },
    {
     "data": {
      "text/html": [
       "<div>\n",
       "<style scoped>\n",
       "    .dataframe tbody tr th:only-of-type {\n",
       "        vertical-align: middle;\n",
       "    }\n",
       "\n",
       "    .dataframe tbody tr th {\n",
       "        vertical-align: top;\n",
       "    }\n",
       "\n",
       "    .dataframe thead th {\n",
       "        text-align: right;\n",
       "    }\n",
       "</style>\n",
       "<table border=\"1\" class=\"dataframe\">\n",
       "  <thead>\n",
       "    <tr style=\"text-align: right;\">\n",
       "      <th></th>\n",
       "      <th>movie_id</th>\n",
       "      <th>person_id</th>\n",
       "    </tr>\n",
       "  </thead>\n",
       "  <tbody>\n",
       "    <tr>\n",
       "      <th>0</th>\n",
       "      <td>tt0285252</td>\n",
       "      <td>nm0899854</td>\n",
       "    </tr>\n",
       "    <tr>\n",
       "      <th>1</th>\n",
       "      <td>tt0462036</td>\n",
       "      <td>nm1940585</td>\n",
       "    </tr>\n",
       "    <tr>\n",
       "      <th>2</th>\n",
       "      <td>tt0835418</td>\n",
       "      <td>nm0151540</td>\n",
       "    </tr>\n",
       "    <tr>\n",
       "      <th>3</th>\n",
       "      <td>tt0835418</td>\n",
       "      <td>nm0151540</td>\n",
       "    </tr>\n",
       "    <tr>\n",
       "      <th>4</th>\n",
       "      <td>tt0878654</td>\n",
       "      <td>nm0089502</td>\n",
       "    </tr>\n",
       "  </tbody>\n",
       "</table>\n",
       "</div>"
      ],
      "text/plain": [
       "    movie_id  person_id\n",
       "0  tt0285252  nm0899854\n",
       "1  tt0462036  nm1940585\n",
       "2  tt0835418  nm0151540\n",
       "3  tt0835418  nm0151540\n",
       "4  tt0878654  nm0089502"
      ]
     },
     "execution_count": 65,
     "metadata": {},
     "output_type": "execute_result"
    }
   ],
   "source": [
    "directors_df = pd.read_sql(\"SELECT * FROM directors;\", conn)\n",
    "print(directors_df.shape)\n",
    "directors_df.head()"
   ]
  },
  {
   "cell_type": "code",
   "execution_count": 66,
   "id": "ee390dc3",
   "metadata": {},
   "outputs": [
    {
     "data": {
      "text/plain": [
       "movie_id     0\n",
       "person_id    0\n",
       "dtype: int64"
      ]
     },
     "execution_count": 66,
     "metadata": {},
     "output_type": "execute_result"
    }
   ],
   "source": [
    "# Check for missing values\n",
    "directors_df.isna().sum()"
   ]
  },
  {
   "cell_type": "code",
   "execution_count": 67,
   "id": "6eb41e19",
   "metadata": {},
   "outputs": [
    {
     "data": {
      "text/plain": [
       "movie_id     127639\n",
       "person_id    127639\n",
       "dtype: int64"
      ]
     },
     "execution_count": 67,
     "metadata": {},
     "output_type": "execute_result"
    }
   ],
   "source": [
    "# view duplicates using movie_id and person_id\n",
    "\n",
    "duplicate_directors = directors_df[directors_df.duplicated(subset=['movie_id', 'person_id'], keep='first')]\n",
    "\n",
    "duplicate_directors.count()"
   ]
  },
  {
   "cell_type": "code",
   "execution_count": 68,
   "id": "1fee42c6",
   "metadata": {},
   "outputs": [
    {
     "data": {
      "text/plain": [
       "163535"
      ]
     },
     "execution_count": 68,
     "metadata": {},
     "output_type": "execute_result"
    }
   ],
   "source": [
    "# drop duplicates from the DataFrame\n",
    "directors_df = directors_df.drop_duplicates(subset=['movie_id', 'person_id'], keep='first')\n",
    "\n",
    "# check for duplicates in the DataFrame\n",
    "duplicate_directors = directors_df.duplicated(subset=['movie_id', 'person_id'])\n",
    "\n",
    "# count the number of duplicates\n",
    "duplicate_directors.count()"
   ]
  },
  {
   "cell_type": "code",
   "execution_count": 69,
   "id": "bcd47b58",
   "metadata": {},
   "outputs": [
    {
     "name": "stdout",
     "output_type": "stream",
     "text": [
      "directors_df has been successfully saved to the 'cleaned_data' folder.\n"
     ]
    }
   ],
   "source": [
    "# Create 'cleaned_data' folder if it doesn't exist\n",
    "output_folder = './cleaned_data'\n",
    "os.makedirs(output_folder, exist_ok=True)\n",
    "\n",
    "# Save writers_df to a CSV file\n",
    "directors_df.to_csv(f'{output_folder}/cleaned_directors_df.csv', index=False)\n",
    "\n",
    "print(\"directors_df has been successfully saved to the 'cleaned_data' folder.\")"
   ]
  },
  {
   "cell_type": "code",
   "execution_count": 70,
   "id": "31f2e397",
   "metadata": {},
   "outputs": [],
   "source": [
    "#  close the database connection\n",
    "conn.close()"
   ]
  },
  {
   "cell_type": "code",
   "execution_count": 71,
   "id": "cc74c5c8",
   "metadata": {},
   "outputs": [
    {
     "name": "stdout",
     "output_type": "stream",
     "text": [
      "<class 'pandas.core.frame.DataFrame'>\n",
      "RangeIndex: 599028 entries, 0 to 599027\n",
      "Data columns (total 3 columns):\n",
      " #   Column              Non-Null Count   Dtype \n",
      "---  ------              --------------   ----- \n",
      " 0   person_id           599028 non-null  object\n",
      " 1   primary_name        599028 non-null  object\n",
      " 2   primary_profession  548480 non-null  object\n",
      "dtypes: object(3)\n",
      "memory usage: 13.7+ MB\n"
     ]
    }
   ],
   "source": [
    "cleaned_persons_df = pd.read_csv('./cleaned_data/cleaned_persons_df.csv')\n",
    "cleaned_persons_df.info()"
   ]
  },
  {
   "cell_type": "code",
   "execution_count": 72,
   "id": "cb6a3434",
   "metadata": {},
   "outputs": [
    {
     "name": "stdout",
     "output_type": "stream",
     "text": [
      "<class 'pandas.core.frame.DataFrame'>\n",
      "RangeIndex: 178352 entries, 0 to 178351\n",
      "Data columns (total 2 columns):\n",
      " #   Column     Non-Null Count   Dtype \n",
      "---  ------     --------------   ----- \n",
      " 0   movie_id   178352 non-null  object\n",
      " 1   person_id  178352 non-null  object\n",
      "dtypes: object(2)\n",
      "memory usage: 2.7+ MB\n",
      "--------------------------------------------------------------------------------\n",
      "<class 'pandas.core.frame.DataFrame'>\n",
      "RangeIndex: 163535 entries, 0 to 163534\n",
      "Data columns (total 2 columns):\n",
      " #   Column     Non-Null Count   Dtype \n",
      "---  ------     --------------   ----- \n",
      " 0   movie_id   163535 non-null  object\n",
      " 1   person_id  163535 non-null  object\n",
      "dtypes: object(2)\n",
      "memory usage: 2.5+ MB\n"
     ]
    },
    {
     "data": {
      "text/plain": [
       "((178352, 2), (163535, 2))"
      ]
     },
     "execution_count": 72,
     "metadata": {},
     "output_type": "execute_result"
    }
   ],
   "source": [
    "# get cleaned writers_df and cleaned directors_df\n",
    "cleaned_writers_df = pd.read_csv('./cleaned_data/cleaned_writers_df.csv')\n",
    "cleaned_writers_df.info()\n",
    "\n",
    "print('----'*20)\n",
    "\n",
    "cleaned_directors_df = pd.read_csv('./cleaned_data/cleaned_directors_df.csv')\n",
    "cleaned_directors_df.info()\n",
    "# check the shape of cleaned_writers_df and cleaned_directors_df\n",
    "cleaned_writers_df.shape, cleaned_directors_df.shape"
   ]
  },
  {
   "cell_type": "markdown",
   "id": "bfdad4a8",
   "metadata": {},
   "source": [
    "### Fetch the movie_budgets and combine directors_details and writers_details "
   ]
  },
  {
   "cell_type": "markdown",
   "metadata": {},
   "source": [
    "To fetch the `movie_budgets` and combine `directors_details` and `writers_details`, the process involves:\n",
    "\n",
    "1. **Loading Cleaned Data**: The cleaned `movie_budgets.csv` file is loaded into a DataFrame.\n",
    "2. **Merging Director and Writer Details**: The `directors_details` and `writers_details` DataFrames are created by merging the `cleaned_directors_df` and `cleaned_writers_df` with `cleaned_persons_df` to include names and professions.\n",
    "3. **Combining All Data**: The `movie_budgets_df` is merged with `directors_details` and `writers_details` on the `movie_id` column to create a comprehensive dataset linking movies with their budgets, directors, and writers."
   ]
  },
  {
   "cell_type": "code",
   "execution_count": 73,
   "id": "2c39ed0e",
   "metadata": {},
   "outputs": [
    {
     "name": "stdout",
     "output_type": "stream",
     "text": [
      "<class 'pandas.core.frame.DataFrame'>\n",
      "RangeIndex: 1381 entries, 0 to 1380\n",
      "Data columns (total 11 columns):\n",
      " #   Column             Non-Null Count  Dtype  \n",
      "---  ------             --------------  -----  \n",
      " 0   movie_id           1381 non-null   object \n",
      " 1   movie_name         1381 non-null   object \n",
      " 2   release_year       1381 non-null   int64  \n",
      " 3   runtime_minutes    1381 non-null   int64  \n",
      " 4   genres             1381 non-null   object \n",
      " 5   averagerating      1381 non-null   float64\n",
      " 6   numvotes           1381 non-null   int64  \n",
      " 7   release_date       1381 non-null   object \n",
      " 8   production_budget  1381 non-null   int64  \n",
      " 9   domestic_gross     1381 non-null   int64  \n",
      " 10  worldwide_gross    1381 non-null   int64  \n",
      "dtypes: float64(1), int64(6), object(4)\n",
      "memory usage: 118.8+ KB\n"
     ]
    }
   ],
   "source": [
    "# combine movie_budgets, directors_details and writers_details\n",
    "movie_budgets_df = pd.read_csv('./cleaned_data/movie_budgets.csv')\n",
    "movie_budgets_df.info()"
   ]
  },
  {
   "cell_type": "markdown",
   "metadata": {},
   "source": [
    "To get director and writer names from `cleaned_persons_df`, you merge it with `cleaned_directors_df` and `cleaned_writers_df` on the `person_id` column as follows:\n",
    "\n",
    "1. **Merge Directors**:\n",
    "   - Merge `cleaned_directors_df` with `cleaned_persons_df` on the `person_id` column using an inner join.\n",
    "   - This adds the `primary_name` (director's name) and `primary_profession` (director's profession) columns to the `cleaned_directors_df`.\n",
    "\n",
    "2. **Merge Writers**:\n",
    "   - Similarly, merge `cleaned_writers_df` with `cleaned_persons_df` on the `person_id` column using an inner join.\n",
    "   - This adds the `primary_name` (writer's name) and `primary_profession` (writer's profession) columns to the `cleaned_writers_df`.\n",
    "\n",
    "3. **Result**:\n",
    "   - The resulting `directors_details` and `writers_details` DataFrames contain enriched information about directors and writers, including their names and professions, linked to their respective `movie_id`.\n",
    "\n",
    "This process ensures that the `person_id` in the directors and writers datasets is matched with the corresponding details in the `cleaned_persons_df`."
   ]
  },
  {
   "cell_type": "code",
   "execution_count": 74,
   "id": "cfd35816",
   "metadata": {},
   "outputs": [
    {
     "data": {
      "text/html": [
       "<div>\n",
       "<style scoped>\n",
       "    .dataframe tbody tr th:only-of-type {\n",
       "        vertical-align: middle;\n",
       "    }\n",
       "\n",
       "    .dataframe tbody tr th {\n",
       "        vertical-align: top;\n",
       "    }\n",
       "\n",
       "    .dataframe thead th {\n",
       "        text-align: right;\n",
       "    }\n",
       "</style>\n",
       "<table border=\"1\" class=\"dataframe\">\n",
       "  <thead>\n",
       "    <tr style=\"text-align: right;\">\n",
       "      <th></th>\n",
       "      <th>movie_id</th>\n",
       "      <th>person_id</th>\n",
       "      <th>primary_name</th>\n",
       "      <th>primary_profession</th>\n",
       "    </tr>\n",
       "  </thead>\n",
       "  <tbody>\n",
       "    <tr>\n",
       "      <th>0</th>\n",
       "      <td>tt0285252</td>\n",
       "      <td>nm0899854</td>\n",
       "      <td>Tony Vitale</td>\n",
       "      <td>producer,director,writer</td>\n",
       "    </tr>\n",
       "    <tr>\n",
       "      <th>1</th>\n",
       "      <td>tt0438973</td>\n",
       "      <td>nm0175726</td>\n",
       "      <td>Steve Conrad</td>\n",
       "      <td>writer,producer,director</td>\n",
       "    </tr>\n",
       "    <tr>\n",
       "      <th>2</th>\n",
       "      <td>tt2358925</td>\n",
       "      <td>nm0175726</td>\n",
       "      <td>Steve Conrad</td>\n",
       "      <td>writer,producer,director</td>\n",
       "    </tr>\n",
       "    <tr>\n",
       "      <th>3</th>\n",
       "      <td>tt2543472</td>\n",
       "      <td>nm0175726</td>\n",
       "      <td>Steve Conrad</td>\n",
       "      <td>writer,producer,director</td>\n",
       "    </tr>\n",
       "    <tr>\n",
       "      <th>4</th>\n",
       "      <td>tt0359950</td>\n",
       "      <td>nm0175726</td>\n",
       "      <td>Steve Conrad</td>\n",
       "      <td>writer,producer,director</td>\n",
       "    </tr>\n",
       "  </tbody>\n",
       "</table>\n",
       "</div>"
      ],
      "text/plain": [
       "    movie_id  person_id  primary_name        primary_profession\n",
       "0  tt0285252  nm0899854   Tony Vitale  producer,director,writer\n",
       "1  tt0438973  nm0175726  Steve Conrad  writer,producer,director\n",
       "2  tt2358925  nm0175726  Steve Conrad  writer,producer,director\n",
       "3  tt2543472  nm0175726  Steve Conrad  writer,producer,director\n",
       "4  tt0359950  nm0175726  Steve Conrad  writer,producer,director"
      ]
     },
     "execution_count": 74,
     "metadata": {},
     "output_type": "execute_result"
    }
   ],
   "source": [
    "# Merge cleaned_directors_df with cleaned_persons_df to get director names\n",
    "directors_details = pd.merge(cleaned_directors_df, cleaned_persons_df, on='person_id', how='inner')\n",
    "\n",
    "# Merge cleaned_writers_df with cleaned_persons_df to get writer names\n",
    "writers_details = pd.merge(cleaned_writers_df, cleaned_persons_df, on='person_id', how='inner')\n",
    "\n",
    "# Save the resulting DataFrames to CSV files\n",
    "output_folder = './cleaned_data'\n",
    "os.makedirs(output_folder, exist_ok=True)\n",
    "directors_details.to_csv(f'{output_folder}/directors_details.csv', index=False)\n",
    "writers_details.to_csv(f'{output_folder}/writers_details.csv', index=False)\n",
    "\n",
    "# Display the shapes and first few rows of the resulting DataFrames \n",
    "writers_details.head()"
   ]
  },
  {
   "cell_type": "markdown",
   "metadata": {},
   "source": [
    "To merge `movie_budgets_df`, `directors_details`, and `writers_details` on the `movie_id` column:\n",
    "\n",
    "1. **First Merge**:\n",
    "   - Merge `movie_budgets_df` with `directors_details` on the `movie_id` column using an **inner join**.\n",
    "   - This ensures that only rows with matching `movie_id` in both DataFrames are included.\n",
    "   - The result contains movie budget information along with director details.\n",
    "\n",
    "2. **Second Merge**:\n",
    "   - Merge the resulting `merged_df` with `writers_details` on the `movie_id` column using another **inner join**.\n",
    "   - This adds writer details to the dataset, ensuring that only movies with matching `movie_id` in all three DataFrames are included.\n",
    "\n",
    "3. **Column Renaming**:\n",
    "   - Rename columns for clarity, such as distinguishing between director and writer `person_id` or names.\n",
    "\n",
    "4. **Result**:\n",
    "   - The final `merged_df` contains combined information about movie budgets, directors, and writers, all linked by the `movie_id`.\n",
    "\n",
    "This process ensures a detailed dataset where each movie is enriched with its budget, director, and writer details."
   ]
  },
  {
   "cell_type": "code",
   "execution_count": 75,
   "id": "6362f9ed",
   "metadata": {},
   "outputs": [
    {
     "name": "stdout",
     "output_type": "stream",
     "text": [
      "Shape of the merged DataFrame: (3998, 17)\n"
     ]
    },
    {
     "data": {
      "text/html": [
       "<div>\n",
       "<style scoped>\n",
       "    .dataframe tbody tr th:only-of-type {\n",
       "        vertical-align: middle;\n",
       "    }\n",
       "\n",
       "    .dataframe tbody tr th {\n",
       "        vertical-align: top;\n",
       "    }\n",
       "\n",
       "    .dataframe thead th {\n",
       "        text-align: right;\n",
       "    }\n",
       "</style>\n",
       "<table border=\"1\" class=\"dataframe\">\n",
       "  <thead>\n",
       "    <tr style=\"text-align: right;\">\n",
       "      <th></th>\n",
       "      <th>movie_id</th>\n",
       "      <th>movie_name</th>\n",
       "      <th>release_year</th>\n",
       "      <th>runtime_minutes</th>\n",
       "      <th>genres</th>\n",
       "      <th>averagerating</th>\n",
       "      <th>numvotes</th>\n",
       "      <th>release_date</th>\n",
       "      <th>production_budget</th>\n",
       "      <th>domestic_gross</th>\n",
       "      <th>worldwide_gross</th>\n",
       "      <th>director_person_id</th>\n",
       "      <th>primary_name_x</th>\n",
       "      <th>primary_profession_x</th>\n",
       "      <th>writer_person_id</th>\n",
       "      <th>primary_name_y</th>\n",
       "      <th>primary_profession_y</th>\n",
       "    </tr>\n",
       "  </thead>\n",
       "  <tbody>\n",
       "    <tr>\n",
       "      <th>0</th>\n",
       "      <td>tt0249516</td>\n",
       "      <td>foodfight!</td>\n",
       "      <td>2012</td>\n",
       "      <td>91</td>\n",
       "      <td>action,animation,comedy</td>\n",
       "      <td>1.9</td>\n",
       "      <td>8248</td>\n",
       "      <td>2012-12-31</td>\n",
       "      <td>45000000</td>\n",
       "      <td>0</td>\n",
       "      <td>73706</td>\n",
       "      <td>nm0440415</td>\n",
       "      <td>Lawrence Kasanoff</td>\n",
       "      <td>producer,writer,director</td>\n",
       "      <td>nm0220297</td>\n",
       "      <td>Sean Catherine Derek</td>\n",
       "      <td>writer,miscellaneous,producer</td>\n",
       "    </tr>\n",
       "    <tr>\n",
       "      <th>1</th>\n",
       "      <td>tt0249516</td>\n",
       "      <td>foodfight!</td>\n",
       "      <td>2012</td>\n",
       "      <td>91</td>\n",
       "      <td>action,animation,comedy</td>\n",
       "      <td>1.9</td>\n",
       "      <td>8248</td>\n",
       "      <td>2012-12-31</td>\n",
       "      <td>45000000</td>\n",
       "      <td>0</td>\n",
       "      <td>73706</td>\n",
       "      <td>nm0440415</td>\n",
       "      <td>Lawrence Kasanoff</td>\n",
       "      <td>producer,writer,director</td>\n",
       "      <td>nm0440415</td>\n",
       "      <td>Lawrence Kasanoff</td>\n",
       "      <td>producer,writer,director</td>\n",
       "    </tr>\n",
       "    <tr>\n",
       "      <th>2</th>\n",
       "      <td>tt0249516</td>\n",
       "      <td>foodfight!</td>\n",
       "      <td>2012</td>\n",
       "      <td>91</td>\n",
       "      <td>action,animation,comedy</td>\n",
       "      <td>1.9</td>\n",
       "      <td>8248</td>\n",
       "      <td>2012-12-31</td>\n",
       "      <td>45000000</td>\n",
       "      <td>0</td>\n",
       "      <td>73706</td>\n",
       "      <td>nm0440415</td>\n",
       "      <td>Lawrence Kasanoff</td>\n",
       "      <td>producer,writer,director</td>\n",
       "      <td>nm0923312</td>\n",
       "      <td>Joshua Wexler</td>\n",
       "      <td>producer,writer,director</td>\n",
       "    </tr>\n",
       "    <tr>\n",
       "      <th>3</th>\n",
       "      <td>tt0249516</td>\n",
       "      <td>foodfight!</td>\n",
       "      <td>2012</td>\n",
       "      <td>91</td>\n",
       "      <td>action,animation,comedy</td>\n",
       "      <td>1.9</td>\n",
       "      <td>8248</td>\n",
       "      <td>2012-12-31</td>\n",
       "      <td>45000000</td>\n",
       "      <td>0</td>\n",
       "      <td>73706</td>\n",
       "      <td>nm0440415</td>\n",
       "      <td>Lawrence Kasanoff</td>\n",
       "      <td>producer,writer,director</td>\n",
       "      <td>nm0295165</td>\n",
       "      <td>Brent V. Friedman</td>\n",
       "      <td>producer,writer,director</td>\n",
       "    </tr>\n",
       "    <tr>\n",
       "      <th>4</th>\n",
       "      <td>tt0249516</td>\n",
       "      <td>foodfight!</td>\n",
       "      <td>2012</td>\n",
       "      <td>91</td>\n",
       "      <td>action,animation,comedy</td>\n",
       "      <td>1.9</td>\n",
       "      <td>8248</td>\n",
       "      <td>2012-12-31</td>\n",
       "      <td>45000000</td>\n",
       "      <td>0</td>\n",
       "      <td>73706</td>\n",
       "      <td>nm0440415</td>\n",
       "      <td>Lawrence Kasanoff</td>\n",
       "      <td>producer,writer,director</td>\n",
       "      <td>nm0841854</td>\n",
       "      <td>Rebecca Swanson</td>\n",
       "      <td>writer,miscellaneous</td>\n",
       "    </tr>\n",
       "  </tbody>\n",
       "</table>\n",
       "</div>"
      ],
      "text/plain": [
       "    movie_id  movie_name  release_year  runtime_minutes  \\\n",
       "0  tt0249516  foodfight!          2012               91   \n",
       "1  tt0249516  foodfight!          2012               91   \n",
       "2  tt0249516  foodfight!          2012               91   \n",
       "3  tt0249516  foodfight!          2012               91   \n",
       "4  tt0249516  foodfight!          2012               91   \n",
       "\n",
       "                    genres  averagerating  numvotes release_date  \\\n",
       "0  action,animation,comedy            1.9      8248   2012-12-31   \n",
       "1  action,animation,comedy            1.9      8248   2012-12-31   \n",
       "2  action,animation,comedy            1.9      8248   2012-12-31   \n",
       "3  action,animation,comedy            1.9      8248   2012-12-31   \n",
       "4  action,animation,comedy            1.9      8248   2012-12-31   \n",
       "\n",
       "   production_budget  domestic_gross  worldwide_gross director_person_id  \\\n",
       "0           45000000               0            73706          nm0440415   \n",
       "1           45000000               0            73706          nm0440415   \n",
       "2           45000000               0            73706          nm0440415   \n",
       "3           45000000               0            73706          nm0440415   \n",
       "4           45000000               0            73706          nm0440415   \n",
       "\n",
       "      primary_name_x      primary_profession_x writer_person_id  \\\n",
       "0  Lawrence Kasanoff  producer,writer,director        nm0220297   \n",
       "1  Lawrence Kasanoff  producer,writer,director        nm0440415   \n",
       "2  Lawrence Kasanoff  producer,writer,director        nm0923312   \n",
       "3  Lawrence Kasanoff  producer,writer,director        nm0295165   \n",
       "4  Lawrence Kasanoff  producer,writer,director        nm0841854   \n",
       "\n",
       "         primary_name_y           primary_profession_y  \n",
       "0  Sean Catherine Derek  writer,miscellaneous,producer  \n",
       "1     Lawrence Kasanoff       producer,writer,director  \n",
       "2         Joshua Wexler       producer,writer,director  \n",
       "3     Brent V. Friedman       producer,writer,director  \n",
       "4       Rebecca Swanson           writer,miscellaneous  "
      ]
     },
     "execution_count": 75,
     "metadata": {},
     "output_type": "execute_result"
    }
   ],
   "source": [
    "# Merge movie_budgets_df, directors_details, and writers_details on 'movie_id'\n",
    "merged_df = pd.merge(movie_budgets_df, directors_details, on='movie_id', how='inner')\n",
    "merged_df = pd.merge(merged_df, writers_details, on='movie_id', how='inner')\n",
    "\n",
    "# Rename columns for clarity\n",
    "merged_df.rename(columns={\n",
    "    'person_id_x': 'director_person_id',  # Rename director's person_id column\n",
    "    'person_id_y': 'writer_person_id',    # Rename writer's person_id column    \n",
    "}, inplace=True)\n",
    "\n",
    "# Display the resulting DataFrame\n",
    "print(f\"Shape of the merged DataFrame: {merged_df.shape}\")\n",
    "merged_df.head()"
   ]
  },
  {
   "cell_type": "code",
   "execution_count": 76,
   "id": "dd9bd008",
   "metadata": {},
   "outputs": [
    {
     "data": {
      "text/plain": [
       "Index(['movie_id', 'movie_name', 'release_year', 'runtime_minutes', 'genres',\n",
       "       'averagerating', 'numvotes', 'release_date', 'production_budget',\n",
       "       'domestic_gross', 'worldwide_gross', 'director_person_id',\n",
       "       'primary_name_x', 'primary_profession_x', 'writer_person_id',\n",
       "       'primary_name_y', 'primary_profession_y'],\n",
       "      dtype='object')"
      ]
     },
     "execution_count": 76,
     "metadata": {},
     "output_type": "execute_result"
    }
   ],
   "source": [
    "merged_df.columns"
   ]
  },
  {
   "cell_type": "code",
   "execution_count": 77,
   "id": "7e4c8656",
   "metadata": {},
   "outputs": [],
   "source": [
    "# Rename columns for clarity\n",
    "merged_df.rename(columns={    \n",
    "    'primary_name_x': 'director_name',  # Rename director's name column\n",
    "    'primary_name_y': 'writer_name',    # Rename writer's name column\n",
    "    'primary_profession_x': 'director_profession',  # Rename director's profession column\n",
    "    'primary_profession_y': 'writer_profession',    # Rename writer's profession column\n",
    "}, inplace=True)"
   ]
  },
  {
   "cell_type": "markdown",
   "id": "d85dc7b5",
   "metadata": {},
   "source": [
    "To drop duplicate values in `director_ids`, `director_names`, `writer_ids`, and `writer_names`\n",
    "\n"
   ]
  },
  {
   "cell_type": "code",
   "execution_count": 84,
   "id": "94142504",
   "metadata": {},
   "outputs": [
    {
     "name": "stdout",
     "output_type": "stream",
     "text": [
      "Shape of the compressed DataFrame: (1362, 5)\n"
     ]
    },
    {
     "data": {
      "text/html": [
       "<div>\n",
       "<style scoped>\n",
       "    .dataframe tbody tr th:only-of-type {\n",
       "        vertical-align: middle;\n",
       "    }\n",
       "\n",
       "    .dataframe tbody tr th {\n",
       "        vertical-align: top;\n",
       "    }\n",
       "\n",
       "    .dataframe thead th {\n",
       "        text-align: right;\n",
       "    }\n",
       "</style>\n",
       "<table border=\"1\" class=\"dataframe\">\n",
       "  <thead>\n",
       "    <tr style=\"text-align: right;\">\n",
       "      <th></th>\n",
       "      <th>movie_id</th>\n",
       "      <th>director_ids</th>\n",
       "      <th>director_names</th>\n",
       "      <th>writer_ids</th>\n",
       "      <th>writer_names</th>\n",
       "    </tr>\n",
       "  </thead>\n",
       "  <tbody>\n",
       "    <tr>\n",
       "      <th>1357</th>\n",
       "      <td>tt8043306</td>\n",
       "      <td>nm6773153</td>\n",
       "      <td>Ahsan Rahim</td>\n",
       "      <td>nm3773554, nm6511211, nm6773153</td>\n",
       "      <td>Ahsan Rahim, Ali Zafar, Danyal Zafar</td>\n",
       "    </tr>\n",
       "    <tr>\n",
       "      <th>1358</th>\n",
       "      <td>tt8155288</td>\n",
       "      <td>nm0484907</td>\n",
       "      <td>Christopher Landon</td>\n",
       "      <td>nm0484907, nm1245146</td>\n",
       "      <td>Christopher Landon, Scott Lobdell</td>\n",
       "    </tr>\n",
       "    <tr>\n",
       "      <th>1359</th>\n",
       "      <td>tt8580348</td>\n",
       "      <td>nm1919456</td>\n",
       "      <td>Manolo Caro</td>\n",
       "      <td>nm0002645, nm0182499, nm0712330, nm2601560, nm...</td>\n",
       "      <td>Filippo Bologna, Paola Mammini, Paolo Costella...</td>\n",
       "    </tr>\n",
       "    <tr>\n",
       "      <th>1360</th>\n",
       "      <td>tt8632862</td>\n",
       "      <td>nm0601619</td>\n",
       "      <td>Michael Moore</td>\n",
       "      <td>nm0601619</td>\n",
       "      <td>Michael Moore</td>\n",
       "    </tr>\n",
       "    <tr>\n",
       "      <th>1361</th>\n",
       "      <td>tt9024106</td>\n",
       "      <td>nm0465484, nm0813301</td>\n",
       "      <td>Cary Solomon, Chuck Konzelman</td>\n",
       "      <td>nm0465484, nm0813301</td>\n",
       "      <td>Cary Solomon, Chuck Konzelman</td>\n",
       "    </tr>\n",
       "  </tbody>\n",
       "</table>\n",
       "</div>"
      ],
      "text/plain": [
       "       movie_id          director_ids                 director_names  \\\n",
       "1357  tt8043306             nm6773153                    Ahsan Rahim   \n",
       "1358  tt8155288             nm0484907             Christopher Landon   \n",
       "1359  tt8580348             nm1919456                    Manolo Caro   \n",
       "1360  tt8632862             nm0601619                  Michael Moore   \n",
       "1361  tt9024106  nm0465484, nm0813301  Cary Solomon, Chuck Konzelman   \n",
       "\n",
       "                                             writer_ids  \\\n",
       "1357                    nm3773554, nm6511211, nm6773153   \n",
       "1358                               nm0484907, nm1245146   \n",
       "1359  nm0002645, nm0182499, nm0712330, nm2601560, nm...   \n",
       "1360                                          nm0601619   \n",
       "1361                               nm0465484, nm0813301   \n",
       "\n",
       "                                           writer_names  \n",
       "1357               Ahsan Rahim, Ali Zafar, Danyal Zafar  \n",
       "1358                  Christopher Landon, Scott Lobdell  \n",
       "1359  Filippo Bologna, Paola Mammini, Paolo Costella...  \n",
       "1360                                      Michael Moore  \n",
       "1361                      Cary Solomon, Chuck Konzelman  "
      ]
     },
     "execution_count": 84,
     "metadata": {},
     "output_type": "execute_result"
    }
   ],
   "source": [
    "# Group directors' IDs and names by movie_id, ensuring unique values\n",
    "directors_grouped = merged_df.groupby('movie_id').agg({\n",
    "    'director_person_id': lambda x: ', '.join(map(str, sorted(set(x)))),\n",
    "    'director_name': lambda x: ', '.join(sorted(set(x)))\n",
    "}).reset_index()\n",
    "\n",
    "# Rename columns for directors\n",
    "directors_grouped.rename(columns={\n",
    "    'director_person_id': 'director_ids',\n",
    "    'director_name': 'director_names'\n",
    "}, inplace=True)\n",
    "\n",
    "# Group writers' IDs and names by movie_id, ensuring unique values\n",
    "writers_grouped = merged_df.groupby('movie_id').agg({\n",
    "    'writer_person_id': lambda x: ', '.join(map(str, sorted(set(x)))),\n",
    "    'writer_name': lambda x: ', '.join(sorted(set(x)))\n",
    "}).reset_index()\n",
    "\n",
    "# Rename columns for writers\n",
    "writers_grouped.rename(columns={\n",
    "    'writer_person_id': 'writer_ids',\n",
    "    'writer_name': 'writer_names'\n",
    "}, inplace=True)\n",
    "\n",
    "# Merge the grouped data back into a single DataFrame\n",
    "director_writers_df = pd.merge(directors_grouped, writers_grouped, on='movie_id', how='inner')\n",
    "\n",
    "# Display the resulting DataFrame\n",
    "print(f\"Shape of the compressed DataFrame: {director_writers_df.shape}\")\n",
    "director_writers_df.tail()"
   ]
  },
  {
   "cell_type": "code",
   "execution_count": 79,
   "id": "a4fe2b9d",
   "metadata": {},
   "outputs": [
    {
     "data": {
      "text/plain": [
       "movie_id          0\n",
       "director_ids      0\n",
       "director_names    0\n",
       "writer_ids        0\n",
       "writer_names      0\n",
       "dtype: int64"
      ]
     },
     "execution_count": 79,
     "metadata": {},
     "output_type": "execute_result"
    }
   ],
   "source": [
    "# check for null values in the DataFrame\n",
    "director_writers_df.isna().sum()"
   ]
  },
  {
   "cell_type": "code",
   "execution_count": 80,
   "id": "adb53bdc",
   "metadata": {},
   "outputs": [
    {
     "data": {
      "text/plain": [
       "True"
      ]
     },
     "execution_count": 80,
     "metadata": {},
     "output_type": "execute_result"
    }
   ],
   "source": [
    "# check if nm0004056 is in the director_ids\n",
    "director_writers_df['director_ids'].str.contains('nm0004056').any()"
   ]
  },
  {
   "cell_type": "markdown",
   "id": "f30a5cd1",
   "metadata": {},
   "source": [
    "\n",
    "\n",
    "### Explanation:\n",
    "1. **Remove Duplicates**:\n",
    "   - Use `set(x)` to ensure unique values for `director_person_id`, `director_name`, `writer_person_id`, and `writer_name`.\n",
    "   - Use `sorted(set(x))` to sort the unique values for consistent ordering.\n",
    "\n",
    "2. **Aggregation**:\n",
    "   - Use `', '.join(...)` to concatenate the unique values into a single string.\n",
    "\n",
    "3. **Result**:\n",
    "   - The resulting `compressed_df` will have unique and sorted values in `director_ids`, `director_names`, `writer_ids`, and `writer_names`."
   ]
  },
  {
   "cell_type": "markdown",
   "id": "2cd57667",
   "metadata": {},
   "source": [
    "To merge `director_writers_df` and `movie_budgets_df` on `movie_id`, you can use the following code:\n",
    "\n"
   ]
  },
  {
   "cell_type": "code",
   "execution_count": 85,
   "id": "b9b3a579",
   "metadata": {},
   "outputs": [
    {
     "name": "stdout",
     "output_type": "stream",
     "text": [
      "Shape of the final merged DataFrame: (1362, 15)\n"
     ]
    },
    {
     "data": {
      "text/html": [
       "<div>\n",
       "<style scoped>\n",
       "    .dataframe tbody tr th:only-of-type {\n",
       "        vertical-align: middle;\n",
       "    }\n",
       "\n",
       "    .dataframe tbody tr th {\n",
       "        vertical-align: top;\n",
       "    }\n",
       "\n",
       "    .dataframe thead th {\n",
       "        text-align: right;\n",
       "    }\n",
       "</style>\n",
       "<table border=\"1\" class=\"dataframe\">\n",
       "  <thead>\n",
       "    <tr style=\"text-align: right;\">\n",
       "      <th></th>\n",
       "      <th>movie_id</th>\n",
       "      <th>director_ids</th>\n",
       "      <th>director_names</th>\n",
       "      <th>writer_ids</th>\n",
       "      <th>writer_names</th>\n",
       "      <th>movie_name</th>\n",
       "      <th>release_year</th>\n",
       "      <th>runtime_minutes</th>\n",
       "      <th>genres</th>\n",
       "      <th>averagerating</th>\n",
       "      <th>numvotes</th>\n",
       "      <th>release_date</th>\n",
       "      <th>production_budget</th>\n",
       "      <th>domestic_gross</th>\n",
       "      <th>worldwide_gross</th>\n",
       "    </tr>\n",
       "  </thead>\n",
       "  <tbody>\n",
       "    <tr>\n",
       "      <th>0</th>\n",
       "      <td>tt0249516</td>\n",
       "      <td>nm0440415</td>\n",
       "      <td>Lawrence Kasanoff</td>\n",
       "      <td>nm0220297, nm0295165, nm0440415, nm0841854, nm...</td>\n",
       "      <td>Brent V. Friedman, Joshua Wexler, Lawrence Kas...</td>\n",
       "      <td>foodfight!</td>\n",
       "      <td>2012</td>\n",
       "      <td>91</td>\n",
       "      <td>action,animation,comedy</td>\n",
       "      <td>1.9</td>\n",
       "      <td>8248</td>\n",
       "      <td>2012-12-31</td>\n",
       "      <td>45000000</td>\n",
       "      <td>0</td>\n",
       "      <td>73706</td>\n",
       "    </tr>\n",
       "    <tr>\n",
       "      <th>1</th>\n",
       "      <td>tt0359950</td>\n",
       "      <td>nm0001774</td>\n",
       "      <td>Ben Stiller</td>\n",
       "      <td>nm0175726</td>\n",
       "      <td>Steve Conrad</td>\n",
       "      <td>the secret life of walter mitty</td>\n",
       "      <td>2013</td>\n",
       "      <td>114</td>\n",
       "      <td>adventure,comedy,drama</td>\n",
       "      <td>7.3</td>\n",
       "      <td>275300</td>\n",
       "      <td>2013-12-25</td>\n",
       "      <td>91000000</td>\n",
       "      <td>58236838</td>\n",
       "      <td>187861183</td>\n",
       "    </tr>\n",
       "    <tr>\n",
       "      <th>2</th>\n",
       "      <td>tt0365907</td>\n",
       "      <td>nm0291082</td>\n",
       "      <td>Scott Frank</td>\n",
       "      <td>nm0088747, nm0291082</td>\n",
       "      <td>Lawrence Block, Scott Frank</td>\n",
       "      <td>a walk among the tombstones</td>\n",
       "      <td>2014</td>\n",
       "      <td>114</td>\n",
       "      <td>action,crime,drama</td>\n",
       "      <td>6.5</td>\n",
       "      <td>105116</td>\n",
       "      <td>2014-09-19</td>\n",
       "      <td>28000000</td>\n",
       "      <td>26017685</td>\n",
       "      <td>62108587</td>\n",
       "    </tr>\n",
       "    <tr>\n",
       "      <th>3</th>\n",
       "      <td>tt0369610</td>\n",
       "      <td>nm1119880</td>\n",
       "      <td>Colin Trevorrow</td>\n",
       "      <td>nm0415425, nm0798646, nm1119880, nm2081046</td>\n",
       "      <td>Amanda Silver, Colin Trevorrow, Derek Connolly...</td>\n",
       "      <td>jurassic world</td>\n",
       "      <td>2015</td>\n",
       "      <td>124</td>\n",
       "      <td>action,adventure,sci-fi</td>\n",
       "      <td>7.0</td>\n",
       "      <td>539338</td>\n",
       "      <td>2015-06-12</td>\n",
       "      <td>215000000</td>\n",
       "      <td>652270625</td>\n",
       "      <td>1648854864</td>\n",
       "    </tr>\n",
       "    <tr>\n",
       "      <th>4</th>\n",
       "      <td>tt0376136</td>\n",
       "      <td>nm0732430</td>\n",
       "      <td>Bruce Robinson</td>\n",
       "      <td>nm0732430</td>\n",
       "      <td>Bruce Robinson</td>\n",
       "      <td>the rum diary</td>\n",
       "      <td>2011</td>\n",
       "      <td>119</td>\n",
       "      <td>comedy,drama</td>\n",
       "      <td>6.2</td>\n",
       "      <td>94787</td>\n",
       "      <td>2011-10-28</td>\n",
       "      <td>45000000</td>\n",
       "      <td>13109815</td>\n",
       "      <td>21544732</td>\n",
       "    </tr>\n",
       "  </tbody>\n",
       "</table>\n",
       "</div>"
      ],
      "text/plain": [
       "    movie_id director_ids     director_names  \\\n",
       "0  tt0249516    nm0440415  Lawrence Kasanoff   \n",
       "1  tt0359950    nm0001774        Ben Stiller   \n",
       "2  tt0365907    nm0291082        Scott Frank   \n",
       "3  tt0369610    nm1119880    Colin Trevorrow   \n",
       "4  tt0376136    nm0732430     Bruce Robinson   \n",
       "\n",
       "                                          writer_ids  \\\n",
       "0  nm0220297, nm0295165, nm0440415, nm0841854, nm...   \n",
       "1                                          nm0175726   \n",
       "2                               nm0088747, nm0291082   \n",
       "3         nm0415425, nm0798646, nm1119880, nm2081046   \n",
       "4                                          nm0732430   \n",
       "\n",
       "                                        writer_names  \\\n",
       "0  Brent V. Friedman, Joshua Wexler, Lawrence Kas...   \n",
       "1                                       Steve Conrad   \n",
       "2                        Lawrence Block, Scott Frank   \n",
       "3  Amanda Silver, Colin Trevorrow, Derek Connolly...   \n",
       "4                                     Bruce Robinson   \n",
       "\n",
       "                        movie_name  release_year  runtime_minutes  \\\n",
       "0                       foodfight!          2012               91   \n",
       "1  the secret life of walter mitty          2013              114   \n",
       "2      a walk among the tombstones          2014              114   \n",
       "3                   jurassic world          2015              124   \n",
       "4                    the rum diary          2011              119   \n",
       "\n",
       "                    genres  averagerating  numvotes release_date  \\\n",
       "0  action,animation,comedy            1.9      8248   2012-12-31   \n",
       "1   adventure,comedy,drama            7.3    275300   2013-12-25   \n",
       "2       action,crime,drama            6.5    105116   2014-09-19   \n",
       "3  action,adventure,sci-fi            7.0    539338   2015-06-12   \n",
       "4             comedy,drama            6.2     94787   2011-10-28   \n",
       "\n",
       "   production_budget  domestic_gross  worldwide_gross  \n",
       "0           45000000               0            73706  \n",
       "1           91000000        58236838        187861183  \n",
       "2           28000000        26017685         62108587  \n",
       "3          215000000       652270625       1648854864  \n",
       "4           45000000        13109815         21544732  "
      ]
     },
     "execution_count": 85,
     "metadata": {},
     "output_type": "execute_result"
    }
   ],
   "source": [
    "# Merge director_writers_df and movie_budgets_df on 'movie_id'\n",
    "director_writers_eda = pd.merge(director_writers_df, movie_budgets_df, on='movie_id', how='inner')\n",
    "\n",
    "# Display the resulting DataFrame\n",
    "print(f\"Shape of the final merged DataFrame: {director_writers_eda.shape}\")\n",
    "director_writers_eda.head()"
   ]
  },
  {
   "cell_type": "markdown",
   "id": "45c5eb9c",
   "metadata": {},
   "source": [
    "\n",
    "\n",
    "### Explanation:\n",
    "1. **Merge Operation**:\n",
    "   - `pd.merge(director_writers_df, movie_budgets_df, on='movie_id', how='inner')` merges the two DataFrames on the `movie_id` column using an inner join.\n",
    "   - This ensures that only rows with matching `movie_id` in both DataFrames are included.\n",
    "\n",
    "2. **Result**:\n",
    "   - The resulting `director_writers_eda` contains all columns from both `director_writers_df` and `movie_budgets_df`."
   ]
  },
  {
   "cell_type": "markdown",
   "id": "0ff2b5f5",
   "metadata": {},
   "source": [
    "### Merge movies with principals and actors\n"
   ]
  },
  {
   "cell_type": "markdown",
   "metadata": {},
   "source": [
    "To merge movies with principals and actors, the process involves the following steps:\n",
    "\n",
    "1. **Load the Principals Table**:\n",
    "   - Extract the `principals` table from the SQLite database into a DataFrame (`principals_df`).\n",
    "   - This table contains information about individuals associated with movies, such as actors, directors, and other roles.\n",
    "\n",
    "2. **Filter for Actors**:\n",
    "   - Filter the `principals_df` to include only rows where the `category` column is `'actor'`.\n",
    "   - This creates a new DataFrame (`actors_df`) containing only actor-related data.\n",
    "\n",
    "3. **Merge with Cleaned Persons Data**:\n",
    "   - Merge `actors_df` with `cleaned_persons_df` on the `person_id` column to include actor names and other details.\n",
    "   - The resulting DataFrame (`actors_details`) links actors to their respective movies.\n",
    "\n",
    "\n",
    "4. **Group by Movie ID**:\n",
    "   - Group the actor data by `movie_id` and aggregate unique and sorted actor IDs and names into a single string for each movie.\n",
    "   - This creates a compact representation of actors for each movie in the `actors_grouped` DataFrame.\n",
    "\n",
    "5. **Merge with Final Data**:\n",
    "   - Merge the `actors_grouped` DataFrame with the existing `director_writers_eda` on the `movie_id` column.\n",
    "\n",
    "6. **Output**:\n",
    "   - Display the shape and preview the updated `final_movie_eda` dataFrame, which now includes actor information.\n",
    "\n",
    "This ensures that the final dataset contains detailed information about movies, including their associated actors, directors, and writers."
   ]
  },
  {
   "cell_type": "code",
   "execution_count": 86,
   "id": "67ccd880",
   "metadata": {},
   "outputs": [],
   "source": [
    "# connect to the SQLite database\n",
    "conn = sqlite3.connect('./extractedData/im.db')\n",
    "cursor = conn.cursor()"
   ]
  },
  {
   "cell_type": "code",
   "execution_count": 88,
   "id": "6f0511dc",
   "metadata": {},
   "outputs": [
    {
     "name": "stdout",
     "output_type": "stream",
     "text": [
      "Shape of the final merged DataFrame with actors: (1318, 17)\n"
     ]
    },
    {
     "data": {
      "text/html": [
       "<div>\n",
       "<style scoped>\n",
       "    .dataframe tbody tr th:only-of-type {\n",
       "        vertical-align: middle;\n",
       "    }\n",
       "\n",
       "    .dataframe tbody tr th {\n",
       "        vertical-align: top;\n",
       "    }\n",
       "\n",
       "    .dataframe thead th {\n",
       "        text-align: right;\n",
       "    }\n",
       "</style>\n",
       "<table border=\"1\" class=\"dataframe\">\n",
       "  <thead>\n",
       "    <tr style=\"text-align: right;\">\n",
       "      <th></th>\n",
       "      <th>movie_id</th>\n",
       "      <th>director_ids</th>\n",
       "      <th>director_names</th>\n",
       "      <th>writer_ids</th>\n",
       "      <th>writer_names</th>\n",
       "      <th>movie_name</th>\n",
       "      <th>release_year</th>\n",
       "      <th>runtime_minutes</th>\n",
       "      <th>genres</th>\n",
       "      <th>averagerating</th>\n",
       "      <th>numvotes</th>\n",
       "      <th>release_date</th>\n",
       "      <th>production_budget</th>\n",
       "      <th>domestic_gross</th>\n",
       "      <th>worldwide_gross</th>\n",
       "      <th>actor_ids</th>\n",
       "      <th>actor_names</th>\n",
       "    </tr>\n",
       "  </thead>\n",
       "  <tbody>\n",
       "    <tr>\n",
       "      <th>0</th>\n",
       "      <td>tt0249516</td>\n",
       "      <td>nm0440415</td>\n",
       "      <td>Lawrence Kasanoff</td>\n",
       "      <td>nm0220297, nm0295165, nm0440415, nm0841854, nm...</td>\n",
       "      <td>Brent V. Friedman, Joshua Wexler, Lawrence Kas...</td>\n",
       "      <td>foodfight!</td>\n",
       "      <td>2012</td>\n",
       "      <td>91</td>\n",
       "      <td>action,animation,comedy</td>\n",
       "      <td>1.9</td>\n",
       "      <td>8248</td>\n",
       "      <td>2012-12-31</td>\n",
       "      <td>45000000</td>\n",
       "      <td>0</td>\n",
       "      <td>73706</td>\n",
       "      <td>nm0000221</td>\n",
       "      <td>Charlie Sheen</td>\n",
       "    </tr>\n",
       "    <tr>\n",
       "      <th>1</th>\n",
       "      <td>tt0359950</td>\n",
       "      <td>nm0001774</td>\n",
       "      <td>Ben Stiller</td>\n",
       "      <td>nm0175726</td>\n",
       "      <td>Steve Conrad</td>\n",
       "      <td>the secret life of walter mitty</td>\n",
       "      <td>2013</td>\n",
       "      <td>114</td>\n",
       "      <td>adventure,comedy,drama</td>\n",
       "      <td>7.3</td>\n",
       "      <td>275300</td>\n",
       "      <td>2013-12-25</td>\n",
       "      <td>91000000</td>\n",
       "      <td>58236838</td>\n",
       "      <td>187861183</td>\n",
       "      <td>nm0001774, nm1789985</td>\n",
       "      <td>Ben Stiller, Jon Daly</td>\n",
       "    </tr>\n",
       "    <tr>\n",
       "      <th>2</th>\n",
       "      <td>tt0365907</td>\n",
       "      <td>nm0291082</td>\n",
       "      <td>Scott Frank</td>\n",
       "      <td>nm0088747, nm0291082</td>\n",
       "      <td>Lawrence Block, Scott Frank</td>\n",
       "      <td>a walk among the tombstones</td>\n",
       "      <td>2014</td>\n",
       "      <td>114</td>\n",
       "      <td>action,crime,drama</td>\n",
       "      <td>6.5</td>\n",
       "      <td>105116</td>\n",
       "      <td>2014-09-19</td>\n",
       "      <td>28000000</td>\n",
       "      <td>26017685</td>\n",
       "      <td>62108587</td>\n",
       "      <td>nm0000553, nm1092086, nm1405398, nm2933542</td>\n",
       "      <td>Boyd Holbrook, Dan Stevens, David Harbour, Lia...</td>\n",
       "    </tr>\n",
       "    <tr>\n",
       "      <th>3</th>\n",
       "      <td>tt0369610</td>\n",
       "      <td>nm1119880</td>\n",
       "      <td>Colin Trevorrow</td>\n",
       "      <td>nm0415425, nm0798646, nm1119880, nm2081046</td>\n",
       "      <td>Amanda Silver, Colin Trevorrow, Derek Connolly...</td>\n",
       "      <td>jurassic world</td>\n",
       "      <td>2015</td>\n",
       "      <td>124</td>\n",
       "      <td>action,adventure,sci-fi</td>\n",
       "      <td>7.0</td>\n",
       "      <td>539338</td>\n",
       "      <td>2015-06-12</td>\n",
       "      <td>215000000</td>\n",
       "      <td>652270625</td>\n",
       "      <td>1648854864</td>\n",
       "      <td>nm0695435, nm1339223</td>\n",
       "      <td>Chris Pratt, Ty Simpkins</td>\n",
       "    </tr>\n",
       "    <tr>\n",
       "      <th>4</th>\n",
       "      <td>tt0376136</td>\n",
       "      <td>nm0732430</td>\n",
       "      <td>Bruce Robinson</td>\n",
       "      <td>nm0732430</td>\n",
       "      <td>Bruce Robinson</td>\n",
       "      <td>the rum diary</td>\n",
       "      <td>2011</td>\n",
       "      <td>119</td>\n",
       "      <td>comedy,drama</td>\n",
       "      <td>6.2</td>\n",
       "      <td>94787</td>\n",
       "      <td>2011-10-28</td>\n",
       "      <td>45000000</td>\n",
       "      <td>13109815</td>\n",
       "      <td>21544732</td>\n",
       "      <td>nm0000136, nm0000610, nm0001173, nm0728346</td>\n",
       "      <td>Aaron Eckhart, Giovanni Ribisi, Johnny Depp, M...</td>\n",
       "    </tr>\n",
       "  </tbody>\n",
       "</table>\n",
       "</div>"
      ],
      "text/plain": [
       "    movie_id director_ids     director_names  \\\n",
       "0  tt0249516    nm0440415  Lawrence Kasanoff   \n",
       "1  tt0359950    nm0001774        Ben Stiller   \n",
       "2  tt0365907    nm0291082        Scott Frank   \n",
       "3  tt0369610    nm1119880    Colin Trevorrow   \n",
       "4  tt0376136    nm0732430     Bruce Robinson   \n",
       "\n",
       "                                          writer_ids  \\\n",
       "0  nm0220297, nm0295165, nm0440415, nm0841854, nm...   \n",
       "1                                          nm0175726   \n",
       "2                               nm0088747, nm0291082   \n",
       "3         nm0415425, nm0798646, nm1119880, nm2081046   \n",
       "4                                          nm0732430   \n",
       "\n",
       "                                        writer_names  \\\n",
       "0  Brent V. Friedman, Joshua Wexler, Lawrence Kas...   \n",
       "1                                       Steve Conrad   \n",
       "2                        Lawrence Block, Scott Frank   \n",
       "3  Amanda Silver, Colin Trevorrow, Derek Connolly...   \n",
       "4                                     Bruce Robinson   \n",
       "\n",
       "                        movie_name  release_year  runtime_minutes  \\\n",
       "0                       foodfight!          2012               91   \n",
       "1  the secret life of walter mitty          2013              114   \n",
       "2      a walk among the tombstones          2014              114   \n",
       "3                   jurassic world          2015              124   \n",
       "4                    the rum diary          2011              119   \n",
       "\n",
       "                    genres  averagerating  numvotes release_date  \\\n",
       "0  action,animation,comedy            1.9      8248   2012-12-31   \n",
       "1   adventure,comedy,drama            7.3    275300   2013-12-25   \n",
       "2       action,crime,drama            6.5    105116   2014-09-19   \n",
       "3  action,adventure,sci-fi            7.0    539338   2015-06-12   \n",
       "4             comedy,drama            6.2     94787   2011-10-28   \n",
       "\n",
       "   production_budget  domestic_gross  worldwide_gross  \\\n",
       "0           45000000               0            73706   \n",
       "1           91000000        58236838        187861183   \n",
       "2           28000000        26017685         62108587   \n",
       "3          215000000       652270625       1648854864   \n",
       "4           45000000        13109815         21544732   \n",
       "\n",
       "                                    actor_ids  \\\n",
       "0                                   nm0000221   \n",
       "1                        nm0001774, nm1789985   \n",
       "2  nm0000553, nm1092086, nm1405398, nm2933542   \n",
       "3                        nm0695435, nm1339223   \n",
       "4  nm0000136, nm0000610, nm0001173, nm0728346   \n",
       "\n",
       "                                         actor_names  \n",
       "0                                      Charlie Sheen  \n",
       "1                              Ben Stiller, Jon Daly  \n",
       "2  Boyd Holbrook, Dan Stevens, David Harbour, Lia...  \n",
       "3                           Chris Pratt, Ty Simpkins  \n",
       "4  Aaron Eckhart, Giovanni Ribisi, Johnny Depp, M...  "
      ]
     },
     "execution_count": 88,
     "metadata": {},
     "output_type": "execute_result"
    }
   ],
   "source": [
    "# Load the principals table\n",
    "principals_df = pd.read_sql(\"SELECT * FROM principals;\", conn)\n",
    "\n",
    "# Filter principals to include only actors\n",
    "actors_df = principals_df[principals_df['category'].str.lower() == 'actor']\n",
    "\n",
    "# Merge actors with cleaned_persons_df to get actor names\n",
    "actors_details = pd.merge(actors_df, cleaned_persons_df, on='person_id', how='inner')\n",
    "\n",
    "# Group actors' IDs and names by movie_id, ensuring unique values\n",
    "actors_grouped = actors_details.groupby('movie_id').agg({\n",
    "    'person_id': lambda x: ', '.join(map(str, sorted(set(x)))),  # Unique and sorted actor IDs\n",
    "    'primary_name': lambda x: ', '.join(sorted(set(x)))  # Unique and sorted actor names\n",
    "}).reset_index()\n",
    "\n",
    "# Rename columns for clarity\n",
    "actors_grouped.rename(columns={\n",
    "    'person_id': 'actor_ids',\n",
    "    'primary_name': 'actor_names'\n",
    "}, inplace=True)\n",
    "\n",
    "# Merge actors_grouped with final_merged_df\n",
    "final_movie_eda = pd.merge(director_writers_eda, actors_grouped, on='movie_id', how='inner')\n",
    "\n",
    "# Display the resulting DataFrame\n",
    "print(f\"Shape of the final merged DataFrame with actors: {final_movie_eda.shape}\")\n",
    "final_movie_eda.head()"
   ]
  },
  {
   "cell_type": "code",
   "execution_count": 89,
   "id": "7d907ace",
   "metadata": {},
   "outputs": [
    {
     "name": "stdout",
     "output_type": "stream",
     "text": [
      "final_movie_eda has been successfully saved to the 'cleaned_data' folder.\n"
     ]
    }
   ],
   "source": [
    "# Create 'cleaned_data' folder if it doesn't exist\n",
    "output_folder = './cleaned_data'\n",
    "os.makedirs(output_folder, exist_ok=True)\n",
    "\n",
    "# Save final_movie_eda to a CSV file\n",
    "final_movie_eda.to_csv(f'{output_folder}/final_movie_eda.csv', index=False)\n",
    "\n",
    "print(\"final_movie_eda has been successfully saved to the 'cleaned_data' folder.\")"
   ]
  },
  {
   "cell_type": "code",
   "execution_count": 90,
   "id": "04fee3bf",
   "metadata": {},
   "outputs": [
    {
     "name": "stdout",
     "output_type": "stream",
     "text": [
      "<class 'pandas.core.frame.DataFrame'>\n",
      "Int64Index: 1318 entries, 0 to 1317\n",
      "Data columns (total 17 columns):\n",
      " #   Column             Non-Null Count  Dtype  \n",
      "---  ------             --------------  -----  \n",
      " 0   movie_id           1318 non-null   object \n",
      " 1   director_ids       1318 non-null   object \n",
      " 2   director_names     1318 non-null   object \n",
      " 3   writer_ids         1318 non-null   object \n",
      " 4   writer_names       1318 non-null   object \n",
      " 5   movie_name         1318 non-null   object \n",
      " 6   release_year       1318 non-null   int64  \n",
      " 7   runtime_minutes    1318 non-null   int64  \n",
      " 8   genres             1318 non-null   object \n",
      " 9   averagerating      1318 non-null   float64\n",
      " 10  numvotes           1318 non-null   int64  \n",
      " 11  release_date       1318 non-null   object \n",
      " 12  production_budget  1318 non-null   int64  \n",
      " 13  domestic_gross     1318 non-null   int64  \n",
      " 14  worldwide_gross    1318 non-null   int64  \n",
      " 15  actor_ids          1318 non-null   object \n",
      " 16  actor_names        1318 non-null   object \n",
      "dtypes: float64(1), int64(6), object(10)\n",
      "memory usage: 185.3+ KB\n"
     ]
    }
   ],
   "source": [
    "final_movie_eda.info()"
   ]
  },
  {
   "cell_type": "markdown",
   "id": "ba20d7fb",
   "metadata": {},
   "source": [
    "# Conclusion\n",
    "\n",
    "In this notebook, we successfully extracted, cleaned, and prepared data related to persons involved in movies, including writers, directors, and actors. The following key steps were performed:\n",
    "\n",
    "### Key Steps:\n",
    "1. **Data Extraction:**\n",
    "   - Extracted data from a SQLite database and CSV files.\n",
    "   - Loaded tables such as `persons`, `writers`, `directors`, and `principals` into pandas DataFrames.\n",
    "\n",
    "2. **Data Cleaning:**\n",
    "   - Handled missing values and duplicates.\n",
    "   - Removed irrelevant columns and rows.\n",
    "   - Standardized and grouped data for clarity and consistency.\n",
    "\n",
    "3. **Data Transformation:**\n",
    "   - Merged datasets to link movies with their writers, directors, and actors.\n",
    "   - Aggregated and compressed data to ensure unique and meaningful representations.\n",
    "\n",
    "4. **Data Export:**\n",
    "   - Saved the cleaned and merged datasets to CSV files for further analysis.\n",
    "\n",
    "### Outputs:\n",
    "- A cleaned `persons_df` containing information about individuals involved in movies.\n",
    "- Merged datasets linking movies with their writers, directors, and actors.\n",
    "- A final dataset (`final_merged_df_2`) combining movie budgets, writers, directors, and actors for comprehensive analysis.\n",
    "\n",
    "### Next Steps:\n",
    "- Perform exploratory data analysis (EDA) to uncover insights and trends in the data.\n",
    "- Use the cleaned and merged datasets for predictive modeling or other advanced analyses.\n",
    "- Share findings through visualizations and a blog post to communicate insights effectively.\n",
    "\n",
    "This notebook has prepared the data for further analysis, ensuring it is clean, consistent, and ready for use in subsequent steps of the project."
   ]
  }
 ],
 "metadata": {
  "kernelspec": {
   "display_name": "learn-env",
   "language": "python",
   "name": "python3"
  },
  "language_info": {
   "codemirror_mode": {
    "name": "ipython",
    "version": 3
   },
   "file_extension": ".py",
   "mimetype": "text/x-python",
   "name": "python",
   "nbconvert_exporter": "python",
   "pygments_lexer": "ipython3",
   "version": "3.8.5"
  }
 },
 "nbformat": 4,
 "nbformat_minor": 2
}
