{
 "cells": [
  {
   "cell_type": "markdown",
   "metadata": {},
   "source": [
    "# Movie Data Analysis Project \n",
    "\n",
    "##### Students: William Bennett, Alex Karadjov\n",
    "\n",
    "##### Instructor: David Elliot\n",
    "\n",
    "##### Active Project Dates: May 8th - 12th"
   ]
  },
  {
   "cell_type": "markdown",
   "metadata": {},
   "source": [
    "<img src='movie-producer-1000x600.jpg' width=\"600\" height=\"400\">"
   ]
  },
  {
   "cell_type": "markdown",
   "metadata": {},
   "source": [
    "\n",
    "## Business Understanding\n",
    "#### Business Question\n",
    "Your company has now seen all the other big companies creating original video content. Your companies board have _decided to create a new movie studio_, but they don’t know anything about _creating movies._ \n",
    "<br>\n",
    "\n",
    "<img src='gettyimages-1163726047-640x640.jpg' width = \"400\" height = \"250\">\n",
    "\n",
    "### Business Proposal\n",
    "We are _charged_ with exploring what types of films are currently doing the _**best at the box office**._\n",
    "<br>\n",
    "<br>\n",
    "We then _translate_ those findings into _undstandable and logistical_ formats \n",
    "<br>\n",
    "<br>\n",
    "All inorder to give _an insightful_ **conclusion** on what type of films are the _**best to be creating**._\n",
    "<br>\n",
    "\n",
    "##### The _best_  at the box office. \n",
    "What does **best** mean:\n",
    "- Money\n",
    "- Rating, won’t line pockets\n",
    "- Consistency\n"
   ]
  },
  {
   "cell_type": "markdown",
   "metadata": {},
   "source": [
    "_**While keeping these points in mind**_\n",
    "<br>\n",
    "<br>\n",
    "We have decieded these **columns** below will be used directly to _aid us in determining our **business proposal**_**;**\n",
    "- Gross \n",
    "- Avgerage Rating \n",
    "- Number of Votes \n",
    "- Run Time Minutes\n",
    "- Region\n",
    "- Genre"
   ]
  },
  {
   "cell_type": "markdown",
   "metadata": {},
   "source": [
    "#### Imports\n",
    "\n",
    "Importing necessary libraries;"
   ]
  },
  {
   "cell_type": "code",
   "execution_count": 1,
   "metadata": {},
   "outputs": [],
   "source": [
    "import pandas as pd\n",
    "import numpy as np # used to find correlation coefficient\n",
    "import sqlite3\n",
    "import seaborn as sns\n",
    "import matplotlib.pyplot as plt\n",
    "%matplotlib inline\n",
    "from statsmodels.stats.multicomp import pairwise_tukeyhsd # to compare multiple samples\n",
    "import statsmodels.api as sm # We use this to perform a linear regression"
   ]
  },
  {
   "cell_type": "markdown",
   "metadata": {},
   "source": [
    "\n",
    "\n",
    "### Understanding the Data\n",
    "What are we looking at?"
   ]
  },
  {
   "cell_type": "markdown",
   "metadata": {},
   "source": [
    "#### Connections\n",
    "Connecting Data to Sqlite;"
   ]
  },
  {
   "cell_type": "code",
   "execution_count": 2,
   "metadata": {},
   "outputs": [],
   "source": [
    "# Switch these depending on your OS after you unzip the im.db folter\n",
    "# conn = sqlite3.connect('zippedData/im.db') #Mac\n",
    "conn = sqlite3.connect('zippedData/im.db/im.db') #PC"
   ]
  },
  {
   "cell_type": "markdown",
   "metadata": {},
   "source": [
    "Viewing the Data Tables;"
   ]
  },
  {
   "cell_type": "code",
   "execution_count": 3,
   "metadata": {},
   "outputs": [
    {
     "data": {
      "text/html": [
       "<div>\n",
       "<style scoped>\n",
       "    .dataframe tbody tr th:only-of-type {\n",
       "        vertical-align: middle;\n",
       "    }\n",
       "\n",
       "    .dataframe tbody tr th {\n",
       "        vertical-align: top;\n",
       "    }\n",
       "\n",
       "    .dataframe thead th {\n",
       "        text-align: right;\n",
       "    }\n",
       "</style>\n",
       "<table border=\"1\" class=\"dataframe\">\n",
       "  <thead>\n",
       "    <tr style=\"text-align: right;\">\n",
       "      <th></th>\n",
       "      <th>type</th>\n",
       "      <th>name</th>\n",
       "      <th>tbl_name</th>\n",
       "      <th>rootpage</th>\n",
       "      <th>sql</th>\n",
       "    </tr>\n",
       "  </thead>\n",
       "  <tbody>\n",
       "    <tr>\n",
       "      <th>0</th>\n",
       "      <td>table</td>\n",
       "      <td>movie_basics</td>\n",
       "      <td>movie_basics</td>\n",
       "      <td>2</td>\n",
       "      <td>CREATE TABLE \"movie_basics\" (\\n\"movie_id\" TEXT...</td>\n",
       "    </tr>\n",
       "    <tr>\n",
       "      <th>1</th>\n",
       "      <td>table</td>\n",
       "      <td>directors</td>\n",
       "      <td>directors</td>\n",
       "      <td>3</td>\n",
       "      <td>CREATE TABLE \"directors\" (\\n\"movie_id\" TEXT,\\n...</td>\n",
       "    </tr>\n",
       "    <tr>\n",
       "      <th>2</th>\n",
       "      <td>table</td>\n",
       "      <td>known_for</td>\n",
       "      <td>known_for</td>\n",
       "      <td>4</td>\n",
       "      <td>CREATE TABLE \"known_for\" (\\n\"person_id\" TEXT,\\...</td>\n",
       "    </tr>\n",
       "    <tr>\n",
       "      <th>3</th>\n",
       "      <td>table</td>\n",
       "      <td>movie_akas</td>\n",
       "      <td>movie_akas</td>\n",
       "      <td>5</td>\n",
       "      <td>CREATE TABLE \"movie_akas\" (\\n\"movie_id\" TEXT,\\...</td>\n",
       "    </tr>\n",
       "    <tr>\n",
       "      <th>4</th>\n",
       "      <td>table</td>\n",
       "      <td>movie_ratings</td>\n",
       "      <td>movie_ratings</td>\n",
       "      <td>6</td>\n",
       "      <td>CREATE TABLE \"movie_ratings\" (\\n\"movie_id\" TEX...</td>\n",
       "    </tr>\n",
       "    <tr>\n",
       "      <th>5</th>\n",
       "      <td>table</td>\n",
       "      <td>persons</td>\n",
       "      <td>persons</td>\n",
       "      <td>7</td>\n",
       "      <td>CREATE TABLE \"persons\" (\\n\"person_id\" TEXT,\\n ...</td>\n",
       "    </tr>\n",
       "    <tr>\n",
       "      <th>6</th>\n",
       "      <td>table</td>\n",
       "      <td>principals</td>\n",
       "      <td>principals</td>\n",
       "      <td>8</td>\n",
       "      <td>CREATE TABLE \"principals\" (\\n\"movie_id\" TEXT,\\...</td>\n",
       "    </tr>\n",
       "    <tr>\n",
       "      <th>7</th>\n",
       "      <td>table</td>\n",
       "      <td>writers</td>\n",
       "      <td>writers</td>\n",
       "      <td>9</td>\n",
       "      <td>CREATE TABLE \"writers\" (\\n\"movie_id\" TEXT,\\n  ...</td>\n",
       "    </tr>\n",
       "  </tbody>\n",
       "</table>\n",
       "</div>"
      ],
      "text/plain": [
       "    type           name       tbl_name  rootpage  \\\n",
       "0  table   movie_basics   movie_basics         2   \n",
       "1  table      directors      directors         3   \n",
       "2  table      known_for      known_for         4   \n",
       "3  table     movie_akas     movie_akas         5   \n",
       "4  table  movie_ratings  movie_ratings         6   \n",
       "5  table        persons        persons         7   \n",
       "6  table     principals     principals         8   \n",
       "7  table        writers        writers         9   \n",
       "\n",
       "                                                 sql  \n",
       "0  CREATE TABLE \"movie_basics\" (\\n\"movie_id\" TEXT...  \n",
       "1  CREATE TABLE \"directors\" (\\n\"movie_id\" TEXT,\\n...  \n",
       "2  CREATE TABLE \"known_for\" (\\n\"person_id\" TEXT,\\...  \n",
       "3  CREATE TABLE \"movie_akas\" (\\n\"movie_id\" TEXT,\\...  \n",
       "4  CREATE TABLE \"movie_ratings\" (\\n\"movie_id\" TEX...  \n",
       "5  CREATE TABLE \"persons\" (\\n\"person_id\" TEXT,\\n ...  \n",
       "6  CREATE TABLE \"principals\" (\\n\"movie_id\" TEXT,\\...  \n",
       "7  CREATE TABLE \"writers\" (\\n\"movie_id\" TEXT,\\n  ...  "
      ]
     },
     "execution_count": 3,
     "metadata": {},
     "output_type": "execute_result"
    }
   ],
   "source": [
    "schema_df = pd.read_sql(\"\"\"\n",
    "\n",
    "SELECT *\n",
    "FROM sqlite_master\n",
    "\n",
    "\"\"\", conn)\n",
    "\n",
    "schema_df"
   ]
  },
  {
   "cell_type": "code",
   "execution_count": 4,
   "metadata": {},
   "outputs": [
    {
     "data": {
      "text/html": [
       "<div>\n",
       "<style scoped>\n",
       "    .dataframe tbody tr th:only-of-type {\n",
       "        vertical-align: middle;\n",
       "    }\n",
       "\n",
       "    .dataframe tbody tr th {\n",
       "        vertical-align: top;\n",
       "    }\n",
       "\n",
       "    .dataframe thead th {\n",
       "        text-align: right;\n",
       "    }\n",
       "</style>\n",
       "<table border=\"1\" class=\"dataframe\">\n",
       "  <thead>\n",
       "    <tr style=\"text-align: right;\">\n",
       "      <th></th>\n",
       "      <th>movie_id</th>\n",
       "      <th>primary_title</th>\n",
       "      <th>original_title</th>\n",
       "      <th>start_year</th>\n",
       "      <th>runtime_minutes</th>\n",
       "      <th>genres</th>\n",
       "    </tr>\n",
       "  </thead>\n",
       "  <tbody>\n",
       "    <tr>\n",
       "      <th>0</th>\n",
       "      <td>tt0063540</td>\n",
       "      <td>Sunghursh</td>\n",
       "      <td>Sunghursh</td>\n",
       "      <td>2013</td>\n",
       "      <td>175.0</td>\n",
       "      <td>Action,Crime,Drama</td>\n",
       "    </tr>\n",
       "    <tr>\n",
       "      <th>1</th>\n",
       "      <td>tt0066787</td>\n",
       "      <td>One Day Before the Rainy Season</td>\n",
       "      <td>Ashad Ka Ek Din</td>\n",
       "      <td>2019</td>\n",
       "      <td>114.0</td>\n",
       "      <td>Biography,Drama</td>\n",
       "    </tr>\n",
       "    <tr>\n",
       "      <th>2</th>\n",
       "      <td>tt0069049</td>\n",
       "      <td>The Other Side of the Wind</td>\n",
       "      <td>The Other Side of the Wind</td>\n",
       "      <td>2018</td>\n",
       "      <td>122.0</td>\n",
       "      <td>Drama</td>\n",
       "    </tr>\n",
       "  </tbody>\n",
       "</table>\n",
       "</div>"
      ],
      "text/plain": [
       "    movie_id                    primary_title              original_title  \\\n",
       "0  tt0063540                        Sunghursh                   Sunghursh   \n",
       "1  tt0066787  One Day Before the Rainy Season             Ashad Ka Ek Din   \n",
       "2  tt0069049       The Other Side of the Wind  The Other Side of the Wind   \n",
       "\n",
       "   start_year  runtime_minutes              genres  \n",
       "0        2013            175.0  Action,Crime,Drama  \n",
       "1        2019            114.0     Biography,Drama  \n",
       "2        2018            122.0               Drama  "
      ]
     },
     "execution_count": 4,
     "metadata": {},
     "output_type": "execute_result"
    }
   ],
   "source": [
    "pd.read_sql(\"\"\"\n",
    "\n",
    "SELECT *\n",
    "FROM movie_basics b\n",
    "limit 3\n",
    "\n",
    "\"\"\", conn)"
   ]
  },
  {
   "cell_type": "code",
   "execution_count": 5,
   "metadata": {},
   "outputs": [
    {
     "data": {
      "text/html": [
       "<div>\n",
       "<style scoped>\n",
       "    .dataframe tbody tr th:only-of-type {\n",
       "        vertical-align: middle;\n",
       "    }\n",
       "\n",
       "    .dataframe tbody tr th {\n",
       "        vertical-align: top;\n",
       "    }\n",
       "\n",
       "    .dataframe thead th {\n",
       "        text-align: right;\n",
       "    }\n",
       "</style>\n",
       "<table border=\"1\" class=\"dataframe\">\n",
       "  <thead>\n",
       "    <tr style=\"text-align: right;\">\n",
       "      <th></th>\n",
       "      <th>movie_id</th>\n",
       "      <th>averagerating</th>\n",
       "      <th>numvotes</th>\n",
       "    </tr>\n",
       "  </thead>\n",
       "  <tbody>\n",
       "    <tr>\n",
       "      <th>0</th>\n",
       "      <td>tt10356526</td>\n",
       "      <td>8.3</td>\n",
       "      <td>31</td>\n",
       "    </tr>\n",
       "    <tr>\n",
       "      <th>1</th>\n",
       "      <td>tt10384606</td>\n",
       "      <td>8.9</td>\n",
       "      <td>559</td>\n",
       "    </tr>\n",
       "    <tr>\n",
       "      <th>2</th>\n",
       "      <td>tt1042974</td>\n",
       "      <td>6.4</td>\n",
       "      <td>20</td>\n",
       "    </tr>\n",
       "  </tbody>\n",
       "</table>\n",
       "</div>"
      ],
      "text/plain": [
       "     movie_id  averagerating  numvotes\n",
       "0  tt10356526            8.3        31\n",
       "1  tt10384606            8.9       559\n",
       "2   tt1042974            6.4        20"
      ]
     },
     "execution_count": 5,
     "metadata": {},
     "output_type": "execute_result"
    }
   ],
   "source": [
    "pd.read_sql(\"\"\"\n",
    "\n",
    "SELECT *\n",
    "FROM movie_ratings\n",
    "limit 3\n",
    "\n",
    "\"\"\", conn)"
   ]
  },
  {
   "cell_type": "markdown",
   "metadata": {},
   "source": [
    "#### Creating DataFrames;\n",
    "\n",
    "IMDB Movie Data Frame;"
   ]
  },
  {
   "cell_type": "code",
   "execution_count": 6,
   "metadata": {},
   "outputs": [],
   "source": [
    "df_imdb = pd.read_sql(\"\"\"\n",
    "\n",
    "SELECT b.movie_id\n",
    "       ,b.primary_title\n",
    "       ,b.original_title\n",
    "       ,b.start_year\n",
    "       ,b.runtime_minutes\n",
    "       ,b.genres\n",
    "       ,r.averagerating\n",
    "       ,r.numvotes\n",
    "       ,a.region\n",
    "FROM movie_basics b\n",
    "join movie_ratings r on r.movie_id = b.movie_id\n",
    "left join movie_akas a on a.movie_id = b.movie_id \n",
    "\n",
    "\"\"\", conn)"
   ]
  },
  {
   "cell_type": "code",
   "execution_count": 7,
   "metadata": {
    "scrolled": false
   },
   "outputs": [
    {
     "data": {
      "text/html": [
       "<div>\n",
       "<style scoped>\n",
       "    .dataframe tbody tr th:only-of-type {\n",
       "        vertical-align: middle;\n",
       "    }\n",
       "\n",
       "    .dataframe tbody tr th {\n",
       "        vertical-align: top;\n",
       "    }\n",
       "\n",
       "    .dataframe thead th {\n",
       "        text-align: right;\n",
       "    }\n",
       "</style>\n",
       "<table border=\"1\" class=\"dataframe\">\n",
       "  <thead>\n",
       "    <tr style=\"text-align: right;\">\n",
       "      <th></th>\n",
       "      <th>movie_id</th>\n",
       "      <th>primary_title</th>\n",
       "      <th>original_title</th>\n",
       "      <th>start_year</th>\n",
       "      <th>runtime_minutes</th>\n",
       "      <th>genres</th>\n",
       "      <th>averagerating</th>\n",
       "      <th>numvotes</th>\n",
       "      <th>region</th>\n",
       "    </tr>\n",
       "  </thead>\n",
       "  <tbody>\n",
       "    <tr>\n",
       "      <th>0</th>\n",
       "      <td>tt0063540</td>\n",
       "      <td>Sunghursh</td>\n",
       "      <td>Sunghursh</td>\n",
       "      <td>2013</td>\n",
       "      <td>175.0</td>\n",
       "      <td>Action,Crime,Drama</td>\n",
       "      <td>7.0</td>\n",
       "      <td>77</td>\n",
       "      <td>None</td>\n",
       "    </tr>\n",
       "    <tr>\n",
       "      <th>1</th>\n",
       "      <td>tt0063540</td>\n",
       "      <td>Sunghursh</td>\n",
       "      <td>Sunghursh</td>\n",
       "      <td>2013</td>\n",
       "      <td>175.0</td>\n",
       "      <td>Action,Crime,Drama</td>\n",
       "      <td>7.0</td>\n",
       "      <td>77</td>\n",
       "      <td>IN</td>\n",
       "    </tr>\n",
       "    <tr>\n",
       "      <th>2</th>\n",
       "      <td>tt0063540</td>\n",
       "      <td>Sunghursh</td>\n",
       "      <td>Sunghursh</td>\n",
       "      <td>2013</td>\n",
       "      <td>175.0</td>\n",
       "      <td>Action,Crime,Drama</td>\n",
       "      <td>7.0</td>\n",
       "      <td>77</td>\n",
       "      <td>IN</td>\n",
       "    </tr>\n",
       "    <tr>\n",
       "      <th>3</th>\n",
       "      <td>tt0063540</td>\n",
       "      <td>Sunghursh</td>\n",
       "      <td>Sunghursh</td>\n",
       "      <td>2013</td>\n",
       "      <td>175.0</td>\n",
       "      <td>Action,Crime,Drama</td>\n",
       "      <td>7.0</td>\n",
       "      <td>77</td>\n",
       "      <td>IN</td>\n",
       "    </tr>\n",
       "    <tr>\n",
       "      <th>4</th>\n",
       "      <td>tt0063540</td>\n",
       "      <td>Sunghursh</td>\n",
       "      <td>Sunghursh</td>\n",
       "      <td>2013</td>\n",
       "      <td>175.0</td>\n",
       "      <td>Action,Crime,Drama</td>\n",
       "      <td>7.0</td>\n",
       "      <td>77</td>\n",
       "      <td>IN</td>\n",
       "    </tr>\n",
       "  </tbody>\n",
       "</table>\n",
       "</div>"
      ],
      "text/plain": [
       "    movie_id primary_title original_title  start_year  runtime_minutes  \\\n",
       "0  tt0063540     Sunghursh      Sunghursh        2013            175.0   \n",
       "1  tt0063540     Sunghursh      Sunghursh        2013            175.0   \n",
       "2  tt0063540     Sunghursh      Sunghursh        2013            175.0   \n",
       "3  tt0063540     Sunghursh      Sunghursh        2013            175.0   \n",
       "4  tt0063540     Sunghursh      Sunghursh        2013            175.0   \n",
       "\n",
       "               genres  averagerating  numvotes region  \n",
       "0  Action,Crime,Drama            7.0        77   None  \n",
       "1  Action,Crime,Drama            7.0        77     IN  \n",
       "2  Action,Crime,Drama            7.0        77     IN  \n",
       "3  Action,Crime,Drama            7.0        77     IN  \n",
       "4  Action,Crime,Drama            7.0        77     IN  "
      ]
     },
     "execution_count": 7,
     "metadata": {},
     "output_type": "execute_result"
    }
   ],
   "source": [
    "df_imdb.head()"
   ]
  },
  {
   "cell_type": "markdown",
   "metadata": {},
   "source": [
    "<br>\n",
    "Box Office Mojo Movie Data Frame\n",
    "<br>"
   ]
  },
  {
   "cell_type": "code",
   "execution_count": 8,
   "metadata": {},
   "outputs": [],
   "source": [
    "df_mg = pd.read_csv('zippedData/bom.movie_gross.csv.gz', sep=',')"
   ]
  },
  {
   "cell_type": "code",
   "execution_count": 9,
   "metadata": {
    "scrolled": true
   },
   "outputs": [
    {
     "data": {
      "text/html": [
       "<div>\n",
       "<style scoped>\n",
       "    .dataframe tbody tr th:only-of-type {\n",
       "        vertical-align: middle;\n",
       "    }\n",
       "\n",
       "    .dataframe tbody tr th {\n",
       "        vertical-align: top;\n",
       "    }\n",
       "\n",
       "    .dataframe thead th {\n",
       "        text-align: right;\n",
       "    }\n",
       "</style>\n",
       "<table border=\"1\" class=\"dataframe\">\n",
       "  <thead>\n",
       "    <tr style=\"text-align: right;\">\n",
       "      <th></th>\n",
       "      <th>title</th>\n",
       "      <th>studio</th>\n",
       "      <th>domestic_gross</th>\n",
       "      <th>foreign_gross</th>\n",
       "      <th>year</th>\n",
       "    </tr>\n",
       "  </thead>\n",
       "  <tbody>\n",
       "    <tr>\n",
       "      <th>0</th>\n",
       "      <td>Toy Story 3</td>\n",
       "      <td>BV</td>\n",
       "      <td>415000000.0</td>\n",
       "      <td>652000000</td>\n",
       "      <td>2010</td>\n",
       "    </tr>\n",
       "    <tr>\n",
       "      <th>1</th>\n",
       "      <td>Alice in Wonderland (2010)</td>\n",
       "      <td>BV</td>\n",
       "      <td>334200000.0</td>\n",
       "      <td>691300000</td>\n",
       "      <td>2010</td>\n",
       "    </tr>\n",
       "    <tr>\n",
       "      <th>2</th>\n",
       "      <td>Harry Potter and the Deathly Hallows Part 1</td>\n",
       "      <td>WB</td>\n",
       "      <td>296000000.0</td>\n",
       "      <td>664300000</td>\n",
       "      <td>2010</td>\n",
       "    </tr>\n",
       "    <tr>\n",
       "      <th>3</th>\n",
       "      <td>Inception</td>\n",
       "      <td>WB</td>\n",
       "      <td>292600000.0</td>\n",
       "      <td>535700000</td>\n",
       "      <td>2010</td>\n",
       "    </tr>\n",
       "    <tr>\n",
       "      <th>4</th>\n",
       "      <td>Shrek Forever After</td>\n",
       "      <td>P/DW</td>\n",
       "      <td>238700000.0</td>\n",
       "      <td>513900000</td>\n",
       "      <td>2010</td>\n",
       "    </tr>\n",
       "  </tbody>\n",
       "</table>\n",
       "</div>"
      ],
      "text/plain": [
       "                                         title studio  domestic_gross  \\\n",
       "0                                  Toy Story 3     BV     415000000.0   \n",
       "1                   Alice in Wonderland (2010)     BV     334200000.0   \n",
       "2  Harry Potter and the Deathly Hallows Part 1     WB     296000000.0   \n",
       "3                                    Inception     WB     292600000.0   \n",
       "4                          Shrek Forever After   P/DW     238700000.0   \n",
       "\n",
       "  foreign_gross  year  \n",
       "0     652000000  2010  \n",
       "1     691300000  2010  \n",
       "2     664300000  2010  \n",
       "3     535700000  2010  \n",
       "4     513900000  2010  "
      ]
     },
     "execution_count": 9,
     "metadata": {},
     "output_type": "execute_result"
    }
   ],
   "source": [
    "df_mg.head()"
   ]
  },
  {
   "cell_type": "markdown",
   "metadata": {},
   "source": [
    "\n",
    "### Data Preperation\n",
    "Our main focuses while cleaning will be;\n",
    "\n",
    "**Gross based;**\n",
    "\n",
    "* Remove non US dollar value column\n",
    "    - Change Null Values to -99999 to create visible outlier\n",
    "<br>\n",
    "<br>\n",
    "\n",
    "**Avgerage Rating based;**\n",
    "\n",
    "* Remove rows from the column avgeragerating if the column numvotes has a row with less than 30 votes\n",
    "    - drop null values for both columns\n",
    "<img src='OIP.jpg' width = \"100\" height = \"25\">\n",
    "\n",
    "**Genre based;**\n",
    "\n",
    "* Seperate multiple genre movies\n",
    "    - drop null values\n",
    "\n",
    "<br>\n",
    "\n",
    "**Run Time Minutes based;**\n",
    "\n",
    "* Handle outliers with long runtimes\n",
    "    - drop null values\n",
    "\n",
    "<br>\n",
    "\n",
    "**Null Values based;**\n",
    "\n",
    "* Drop and replace values that mean nothing based on significance for all significant data used\n",
    "    - Region, Studio, Year\n",
    "<img src='R.png' width = \"100\" height = \"25\">\n",
    "\n",
    "**Column Names based;**\n",
    "* Cleaning the names to the same format\n"
   ]
  },
  {
   "cell_type": "markdown",
   "metadata": {},
   "source": [
    "#### Cleaning the Data Frames with Significant Information\n",
    "\n",
    "<br>\n",
    "IMBD Data Frame;\n",
    "<br>\n",
    "- Clean the column names;"
   ]
  },
  {
   "cell_type": "code",
   "execution_count": 10,
   "metadata": {},
   "outputs": [
    {
     "data": {
      "text/plain": [
       "['movieid',\n",
       " 'primarytitle',\n",
       " 'originaltitle',\n",
       " 'startyear',\n",
       " 'runtimeminutes',\n",
       " 'genres',\n",
       " 'averagerating',\n",
       " 'numvotes',\n",
       " 'region']"
      ]
     },
     "execution_count": 10,
     "metadata": {},
     "output_type": "execute_result"
    }
   ],
   "source": [
    "[c.replace(\"_\", \"\").strip() for c in df_imdb.columns]"
   ]
  },
  {
   "cell_type": "code",
   "execution_count": 11,
   "metadata": {},
   "outputs": [],
   "source": [
    "df_imdb = df_imdb.rename(columns = dict(zip(df_imdb.columns, [c.replace(\"_\", \"\").strip() for c in df_imdb.columns])))"
   ]
  },
  {
   "cell_type": "code",
   "execution_count": 12,
   "metadata": {},
   "outputs": [
    {
     "data": {
      "text/html": [
       "<div>\n",
       "<style scoped>\n",
       "    .dataframe tbody tr th:only-of-type {\n",
       "        vertical-align: middle;\n",
       "    }\n",
       "\n",
       "    .dataframe tbody tr th {\n",
       "        vertical-align: top;\n",
       "    }\n",
       "\n",
       "    .dataframe thead th {\n",
       "        text-align: right;\n",
       "    }\n",
       "</style>\n",
       "<table border=\"1\" class=\"dataframe\">\n",
       "  <thead>\n",
       "    <tr style=\"text-align: right;\">\n",
       "      <th></th>\n",
       "      <th>movieid</th>\n",
       "      <th>primarytitle</th>\n",
       "      <th>originaltitle</th>\n",
       "      <th>startyear</th>\n",
       "      <th>runtimeminutes</th>\n",
       "      <th>genres</th>\n",
       "      <th>averagerating</th>\n",
       "      <th>numvotes</th>\n",
       "      <th>region</th>\n",
       "    </tr>\n",
       "  </thead>\n",
       "  <tbody>\n",
       "    <tr>\n",
       "      <th>0</th>\n",
       "      <td>tt0063540</td>\n",
       "      <td>Sunghursh</td>\n",
       "      <td>Sunghursh</td>\n",
       "      <td>2013</td>\n",
       "      <td>175.0</td>\n",
       "      <td>Action,Crime,Drama</td>\n",
       "      <td>7.0</td>\n",
       "      <td>77</td>\n",
       "      <td>None</td>\n",
       "    </tr>\n",
       "    <tr>\n",
       "      <th>1</th>\n",
       "      <td>tt0063540</td>\n",
       "      <td>Sunghursh</td>\n",
       "      <td>Sunghursh</td>\n",
       "      <td>2013</td>\n",
       "      <td>175.0</td>\n",
       "      <td>Action,Crime,Drama</td>\n",
       "      <td>7.0</td>\n",
       "      <td>77</td>\n",
       "      <td>IN</td>\n",
       "    </tr>\n",
       "    <tr>\n",
       "      <th>2</th>\n",
       "      <td>tt0063540</td>\n",
       "      <td>Sunghursh</td>\n",
       "      <td>Sunghursh</td>\n",
       "      <td>2013</td>\n",
       "      <td>175.0</td>\n",
       "      <td>Action,Crime,Drama</td>\n",
       "      <td>7.0</td>\n",
       "      <td>77</td>\n",
       "      <td>IN</td>\n",
       "    </tr>\n",
       "    <tr>\n",
       "      <th>3</th>\n",
       "      <td>tt0063540</td>\n",
       "      <td>Sunghursh</td>\n",
       "      <td>Sunghursh</td>\n",
       "      <td>2013</td>\n",
       "      <td>175.0</td>\n",
       "      <td>Action,Crime,Drama</td>\n",
       "      <td>7.0</td>\n",
       "      <td>77</td>\n",
       "      <td>IN</td>\n",
       "    </tr>\n",
       "    <tr>\n",
       "      <th>4</th>\n",
       "      <td>tt0063540</td>\n",
       "      <td>Sunghursh</td>\n",
       "      <td>Sunghursh</td>\n",
       "      <td>2013</td>\n",
       "      <td>175.0</td>\n",
       "      <td>Action,Crime,Drama</td>\n",
       "      <td>7.0</td>\n",
       "      <td>77</td>\n",
       "      <td>IN</td>\n",
       "    </tr>\n",
       "  </tbody>\n",
       "</table>\n",
       "</div>"
      ],
      "text/plain": [
       "     movieid primarytitle originaltitle  startyear  runtimeminutes  \\\n",
       "0  tt0063540    Sunghursh     Sunghursh       2013           175.0   \n",
       "1  tt0063540    Sunghursh     Sunghursh       2013           175.0   \n",
       "2  tt0063540    Sunghursh     Sunghursh       2013           175.0   \n",
       "3  tt0063540    Sunghursh     Sunghursh       2013           175.0   \n",
       "4  tt0063540    Sunghursh     Sunghursh       2013           175.0   \n",
       "\n",
       "               genres  averagerating  numvotes region  \n",
       "0  Action,Crime,Drama            7.0        77   None  \n",
       "1  Action,Crime,Drama            7.0        77     IN  \n",
       "2  Action,Crime,Drama            7.0        77     IN  \n",
       "3  Action,Crime,Drama            7.0        77     IN  \n",
       "4  Action,Crime,Drama            7.0        77     IN  "
      ]
     },
     "execution_count": 12,
     "metadata": {},
     "output_type": "execute_result"
    }
   ],
   "source": [
    "df_imdb.head()"
   ]
  },
  {
   "cell_type": "code",
   "execution_count": 13,
   "metadata": {
    "scrolled": true
   },
   "outputs": [
    {
     "name": "stdout",
     "output_type": "stream",
     "text": [
      "<class 'pandas.core.frame.DataFrame'>\n",
      "RangeIndex: 266085 entries, 0 to 266084\n",
      "Data columns (total 9 columns):\n",
      " #   Column          Non-Null Count   Dtype  \n",
      "---  ------          --------------   -----  \n",
      " 0   movieid         266085 non-null  object \n",
      " 1   primarytitle    266085 non-null  object \n",
      " 2   originaltitle   266085 non-null  object \n",
      " 3   startyear       266085 non-null  int64  \n",
      " 4   runtimeminutes  253959 non-null  float64\n",
      " 5   genres          264736 non-null  object \n",
      " 6   averagerating   266085 non-null  float64\n",
      " 7   numvotes        266085 non-null  int64  \n",
      " 8   region          218341 non-null  object \n",
      "dtypes: float64(2), int64(2), object(5)\n",
      "memory usage: 18.3+ MB\n"
     ]
    }
   ],
   "source": [
    "df_imdb.info()"
   ]
  },
  {
   "cell_type": "markdown",
   "metadata": {},
   "source": [
    "<br>\n",
    "Box Office Mojo Movie Gross Data Frame\n",
    "<br>\n",
    "- Cleaning the column names"
   ]
  },
  {
   "cell_type": "code",
   "execution_count": 14,
   "metadata": {},
   "outputs": [],
   "source": [
    "df_mg = df_mg.rename(columns = dict(zip(df_mg.columns, [c.replace(\"_\", \"\").strip() for c in df_mg.columns])))"
   ]
  },
  {
   "cell_type": "code",
   "execution_count": 15,
   "metadata": {},
   "outputs": [],
   "source": [
    "df_mg[['primarytitle', 'startyear']] = df_mg[['title', 'year']]"
   ]
  },
  {
   "cell_type": "code",
   "execution_count": 16,
   "metadata": {},
   "outputs": [
    {
     "data": {
      "text/html": [
       "<div>\n",
       "<style scoped>\n",
       "    .dataframe tbody tr th:only-of-type {\n",
       "        vertical-align: middle;\n",
       "    }\n",
       "\n",
       "    .dataframe tbody tr th {\n",
       "        vertical-align: top;\n",
       "    }\n",
       "\n",
       "    .dataframe thead th {\n",
       "        text-align: right;\n",
       "    }\n",
       "</style>\n",
       "<table border=\"1\" class=\"dataframe\">\n",
       "  <thead>\n",
       "    <tr style=\"text-align: right;\">\n",
       "      <th></th>\n",
       "      <th>title</th>\n",
       "      <th>studio</th>\n",
       "      <th>domesticgross</th>\n",
       "      <th>foreigngross</th>\n",
       "      <th>year</th>\n",
       "      <th>primarytitle</th>\n",
       "      <th>startyear</th>\n",
       "    </tr>\n",
       "  </thead>\n",
       "  <tbody>\n",
       "    <tr>\n",
       "      <th>0</th>\n",
       "      <td>Toy Story 3</td>\n",
       "      <td>BV</td>\n",
       "      <td>415000000.0</td>\n",
       "      <td>652000000</td>\n",
       "      <td>2010</td>\n",
       "      <td>Toy Story 3</td>\n",
       "      <td>2010</td>\n",
       "    </tr>\n",
       "    <tr>\n",
       "      <th>1</th>\n",
       "      <td>Alice in Wonderland (2010)</td>\n",
       "      <td>BV</td>\n",
       "      <td>334200000.0</td>\n",
       "      <td>691300000</td>\n",
       "      <td>2010</td>\n",
       "      <td>Alice in Wonderland (2010)</td>\n",
       "      <td>2010</td>\n",
       "    </tr>\n",
       "    <tr>\n",
       "      <th>2</th>\n",
       "      <td>Harry Potter and the Deathly Hallows Part 1</td>\n",
       "      <td>WB</td>\n",
       "      <td>296000000.0</td>\n",
       "      <td>664300000</td>\n",
       "      <td>2010</td>\n",
       "      <td>Harry Potter and the Deathly Hallows Part 1</td>\n",
       "      <td>2010</td>\n",
       "    </tr>\n",
       "    <tr>\n",
       "      <th>3</th>\n",
       "      <td>Inception</td>\n",
       "      <td>WB</td>\n",
       "      <td>292600000.0</td>\n",
       "      <td>535700000</td>\n",
       "      <td>2010</td>\n",
       "      <td>Inception</td>\n",
       "      <td>2010</td>\n",
       "    </tr>\n",
       "    <tr>\n",
       "      <th>4</th>\n",
       "      <td>Shrek Forever After</td>\n",
       "      <td>P/DW</td>\n",
       "      <td>238700000.0</td>\n",
       "      <td>513900000</td>\n",
       "      <td>2010</td>\n",
       "      <td>Shrek Forever After</td>\n",
       "      <td>2010</td>\n",
       "    </tr>\n",
       "  </tbody>\n",
       "</table>\n",
       "</div>"
      ],
      "text/plain": [
       "                                         title studio  domesticgross  \\\n",
       "0                                  Toy Story 3     BV    415000000.0   \n",
       "1                   Alice in Wonderland (2010)     BV    334200000.0   \n",
       "2  Harry Potter and the Deathly Hallows Part 1     WB    296000000.0   \n",
       "3                                    Inception     WB    292600000.0   \n",
       "4                          Shrek Forever After   P/DW    238700000.0   \n",
       "\n",
       "  foreigngross  year                                 primarytitle  startyear  \n",
       "0    652000000  2010                                  Toy Story 3       2010  \n",
       "1    691300000  2010                   Alice in Wonderland (2010)       2010  \n",
       "2    664300000  2010  Harry Potter and the Deathly Hallows Part 1       2010  \n",
       "3    535700000  2010                                    Inception       2010  \n",
       "4    513900000  2010                          Shrek Forever After       2010  "
      ]
     },
     "execution_count": 16,
     "metadata": {},
     "output_type": "execute_result"
    }
   ],
   "source": [
    "df_mg.head()"
   ]
  },
  {
   "cell_type": "code",
   "execution_count": 17,
   "metadata": {
    "scrolled": true
   },
   "outputs": [
    {
     "name": "stdout",
     "output_type": "stream",
     "text": [
      "<class 'pandas.core.frame.DataFrame'>\n",
      "RangeIndex: 3387 entries, 0 to 3386\n",
      "Data columns (total 7 columns):\n",
      " #   Column         Non-Null Count  Dtype  \n",
      "---  ------         --------------  -----  \n",
      " 0   title          3387 non-null   object \n",
      " 1   studio         3382 non-null   object \n",
      " 2   domesticgross  3359 non-null   float64\n",
      " 3   foreigngross   2037 non-null   object \n",
      " 4   year           3387 non-null   int64  \n",
      " 5   primarytitle   3387 non-null   object \n",
      " 6   startyear      3387 non-null   int64  \n",
      "dtypes: float64(1), int64(2), object(4)\n",
      "memory usage: 185.4+ KB\n"
     ]
    }
   ],
   "source": [
    "df_mg.info()"
   ]
  },
  {
   "cell_type": "markdown",
   "metadata": {},
   "source": [
    "#### Creating a Final Data Frame by Combining the Two Data sets \n",
    "Final Data Cleaning"
   ]
  },
  {
   "cell_type": "code",
   "execution_count": 18,
   "metadata": {},
   "outputs": [],
   "source": [
    "df_clean = df_imdb"
   ]
  },
  {
   "cell_type": "code",
   "execution_count": 19,
   "metadata": {},
   "outputs": [
    {
     "data": {
      "text/html": [
       "<div>\n",
       "<style scoped>\n",
       "    .dataframe tbody tr th:only-of-type {\n",
       "        vertical-align: middle;\n",
       "    }\n",
       "\n",
       "    .dataframe tbody tr th {\n",
       "        vertical-align: top;\n",
       "    }\n",
       "\n",
       "    .dataframe thead th {\n",
       "        text-align: right;\n",
       "    }\n",
       "</style>\n",
       "<table border=\"1\" class=\"dataframe\">\n",
       "  <thead>\n",
       "    <tr style=\"text-align: right;\">\n",
       "      <th></th>\n",
       "      <th>movieid</th>\n",
       "      <th>primarytitle</th>\n",
       "      <th>originaltitle</th>\n",
       "      <th>startyear</th>\n",
       "      <th>runtimeminutes</th>\n",
       "      <th>genres</th>\n",
       "      <th>averagerating</th>\n",
       "      <th>numvotes</th>\n",
       "      <th>region</th>\n",
       "    </tr>\n",
       "  </thead>\n",
       "  <tbody>\n",
       "    <tr>\n",
       "      <th>0</th>\n",
       "      <td>tt0063540</td>\n",
       "      <td>Sunghursh</td>\n",
       "      <td>Sunghursh</td>\n",
       "      <td>2013</td>\n",
       "      <td>175.0</td>\n",
       "      <td>Action,Crime,Drama</td>\n",
       "      <td>7.0</td>\n",
       "      <td>77</td>\n",
       "      <td>None</td>\n",
       "    </tr>\n",
       "    <tr>\n",
       "      <th>1</th>\n",
       "      <td>tt0063540</td>\n",
       "      <td>Sunghursh</td>\n",
       "      <td>Sunghursh</td>\n",
       "      <td>2013</td>\n",
       "      <td>175.0</td>\n",
       "      <td>Action,Crime,Drama</td>\n",
       "      <td>7.0</td>\n",
       "      <td>77</td>\n",
       "      <td>IN</td>\n",
       "    </tr>\n",
       "    <tr>\n",
       "      <th>2</th>\n",
       "      <td>tt0063540</td>\n",
       "      <td>Sunghursh</td>\n",
       "      <td>Sunghursh</td>\n",
       "      <td>2013</td>\n",
       "      <td>175.0</td>\n",
       "      <td>Action,Crime,Drama</td>\n",
       "      <td>7.0</td>\n",
       "      <td>77</td>\n",
       "      <td>IN</td>\n",
       "    </tr>\n",
       "    <tr>\n",
       "      <th>3</th>\n",
       "      <td>tt0063540</td>\n",
       "      <td>Sunghursh</td>\n",
       "      <td>Sunghursh</td>\n",
       "      <td>2013</td>\n",
       "      <td>175.0</td>\n",
       "      <td>Action,Crime,Drama</td>\n",
       "      <td>7.0</td>\n",
       "      <td>77</td>\n",
       "      <td>IN</td>\n",
       "    </tr>\n",
       "    <tr>\n",
       "      <th>4</th>\n",
       "      <td>tt0063540</td>\n",
       "      <td>Sunghursh</td>\n",
       "      <td>Sunghursh</td>\n",
       "      <td>2013</td>\n",
       "      <td>175.0</td>\n",
       "      <td>Action,Crime,Drama</td>\n",
       "      <td>7.0</td>\n",
       "      <td>77</td>\n",
       "      <td>IN</td>\n",
       "    </tr>\n",
       "  </tbody>\n",
       "</table>\n",
       "</div>"
      ],
      "text/plain": [
       "     movieid primarytitle originaltitle  startyear  runtimeminutes  \\\n",
       "0  tt0063540    Sunghursh     Sunghursh       2013           175.0   \n",
       "1  tt0063540    Sunghursh     Sunghursh       2013           175.0   \n",
       "2  tt0063540    Sunghursh     Sunghursh       2013           175.0   \n",
       "3  tt0063540    Sunghursh     Sunghursh       2013           175.0   \n",
       "4  tt0063540    Sunghursh     Sunghursh       2013           175.0   \n",
       "\n",
       "               genres  averagerating  numvotes region  \n",
       "0  Action,Crime,Drama            7.0        77   None  \n",
       "1  Action,Crime,Drama            7.0        77     IN  \n",
       "2  Action,Crime,Drama            7.0        77     IN  \n",
       "3  Action,Crime,Drama            7.0        77     IN  \n",
       "4  Action,Crime,Drama            7.0        77     IN  "
      ]
     },
     "execution_count": 19,
     "metadata": {},
     "output_type": "execute_result"
    }
   ],
   "source": [
    "df_clean.head()"
   ]
  },
  {
   "cell_type": "code",
   "execution_count": 20,
   "metadata": {},
   "outputs": [],
   "source": [
    "# combining the two datasets into a new dataframe\n",
    "df_clean = pd.merge(df_clean, df_mg, how='left', on=['primarytitle','startyear'])"
   ]
  },
  {
   "cell_type": "code",
   "execution_count": 21,
   "metadata": {
    "scrolled": true
   },
   "outputs": [
    {
     "data": {
      "text/html": [
       "<div>\n",
       "<style scoped>\n",
       "    .dataframe tbody tr th:only-of-type {\n",
       "        vertical-align: middle;\n",
       "    }\n",
       "\n",
       "    .dataframe tbody tr th {\n",
       "        vertical-align: top;\n",
       "    }\n",
       "\n",
       "    .dataframe thead th {\n",
       "        text-align: right;\n",
       "    }\n",
       "</style>\n",
       "<table border=\"1\" class=\"dataframe\">\n",
       "  <thead>\n",
       "    <tr style=\"text-align: right;\">\n",
       "      <th></th>\n",
       "      <th>movieid</th>\n",
       "      <th>primarytitle</th>\n",
       "      <th>originaltitle</th>\n",
       "      <th>startyear</th>\n",
       "      <th>runtimeminutes</th>\n",
       "      <th>genres</th>\n",
       "      <th>averagerating</th>\n",
       "      <th>numvotes</th>\n",
       "      <th>region</th>\n",
       "      <th>title</th>\n",
       "      <th>studio</th>\n",
       "      <th>domesticgross</th>\n",
       "      <th>foreigngross</th>\n",
       "      <th>year</th>\n",
       "    </tr>\n",
       "  </thead>\n",
       "  <tbody>\n",
       "    <tr>\n",
       "      <th>0</th>\n",
       "      <td>tt0063540</td>\n",
       "      <td>Sunghursh</td>\n",
       "      <td>Sunghursh</td>\n",
       "      <td>2013</td>\n",
       "      <td>175.0</td>\n",
       "      <td>Action,Crime,Drama</td>\n",
       "      <td>7.0</td>\n",
       "      <td>77</td>\n",
       "      <td>None</td>\n",
       "      <td>NaN</td>\n",
       "      <td>NaN</td>\n",
       "      <td>NaN</td>\n",
       "      <td>NaN</td>\n",
       "      <td>NaN</td>\n",
       "    </tr>\n",
       "    <tr>\n",
       "      <th>1</th>\n",
       "      <td>tt0063540</td>\n",
       "      <td>Sunghursh</td>\n",
       "      <td>Sunghursh</td>\n",
       "      <td>2013</td>\n",
       "      <td>175.0</td>\n",
       "      <td>Action,Crime,Drama</td>\n",
       "      <td>7.0</td>\n",
       "      <td>77</td>\n",
       "      <td>IN</td>\n",
       "      <td>NaN</td>\n",
       "      <td>NaN</td>\n",
       "      <td>NaN</td>\n",
       "      <td>NaN</td>\n",
       "      <td>NaN</td>\n",
       "    </tr>\n",
       "    <tr>\n",
       "      <th>2</th>\n",
       "      <td>tt0063540</td>\n",
       "      <td>Sunghursh</td>\n",
       "      <td>Sunghursh</td>\n",
       "      <td>2013</td>\n",
       "      <td>175.0</td>\n",
       "      <td>Action,Crime,Drama</td>\n",
       "      <td>7.0</td>\n",
       "      <td>77</td>\n",
       "      <td>IN</td>\n",
       "      <td>NaN</td>\n",
       "      <td>NaN</td>\n",
       "      <td>NaN</td>\n",
       "      <td>NaN</td>\n",
       "      <td>NaN</td>\n",
       "    </tr>\n",
       "    <tr>\n",
       "      <th>3</th>\n",
       "      <td>tt0063540</td>\n",
       "      <td>Sunghursh</td>\n",
       "      <td>Sunghursh</td>\n",
       "      <td>2013</td>\n",
       "      <td>175.0</td>\n",
       "      <td>Action,Crime,Drama</td>\n",
       "      <td>7.0</td>\n",
       "      <td>77</td>\n",
       "      <td>IN</td>\n",
       "      <td>NaN</td>\n",
       "      <td>NaN</td>\n",
       "      <td>NaN</td>\n",
       "      <td>NaN</td>\n",
       "      <td>NaN</td>\n",
       "    </tr>\n",
       "    <tr>\n",
       "      <th>4</th>\n",
       "      <td>tt0063540</td>\n",
       "      <td>Sunghursh</td>\n",
       "      <td>Sunghursh</td>\n",
       "      <td>2013</td>\n",
       "      <td>175.0</td>\n",
       "      <td>Action,Crime,Drama</td>\n",
       "      <td>7.0</td>\n",
       "      <td>77</td>\n",
       "      <td>IN</td>\n",
       "      <td>NaN</td>\n",
       "      <td>NaN</td>\n",
       "      <td>NaN</td>\n",
       "      <td>NaN</td>\n",
       "      <td>NaN</td>\n",
       "    </tr>\n",
       "  </tbody>\n",
       "</table>\n",
       "</div>"
      ],
      "text/plain": [
       "     movieid primarytitle originaltitle  startyear  runtimeminutes  \\\n",
       "0  tt0063540    Sunghursh     Sunghursh       2013           175.0   \n",
       "1  tt0063540    Sunghursh     Sunghursh       2013           175.0   \n",
       "2  tt0063540    Sunghursh     Sunghursh       2013           175.0   \n",
       "3  tt0063540    Sunghursh     Sunghursh       2013           175.0   \n",
       "4  tt0063540    Sunghursh     Sunghursh       2013           175.0   \n",
       "\n",
       "               genres  averagerating  numvotes region title studio  \\\n",
       "0  Action,Crime,Drama            7.0        77   None   NaN    NaN   \n",
       "1  Action,Crime,Drama            7.0        77     IN   NaN    NaN   \n",
       "2  Action,Crime,Drama            7.0        77     IN   NaN    NaN   \n",
       "3  Action,Crime,Drama            7.0        77     IN   NaN    NaN   \n",
       "4  Action,Crime,Drama            7.0        77     IN   NaN    NaN   \n",
       "\n",
       "   domesticgross foreigngross  year  \n",
       "0            NaN          NaN   NaN  \n",
       "1            NaN          NaN   NaN  \n",
       "2            NaN          NaN   NaN  \n",
       "3            NaN          NaN   NaN  \n",
       "4            NaN          NaN   NaN  "
      ]
     },
     "execution_count": 21,
     "metadata": {},
     "output_type": "execute_result"
    }
   ],
   "source": [
    "df_clean.head()"
   ]
  },
  {
   "cell_type": "markdown",
   "metadata": {},
   "source": [
    "##### Region Cleaning\n",
    "Dropping null values;"
   ]
  },
  {
   "cell_type": "code",
   "execution_count": 22,
   "metadata": {},
   "outputs": [
    {
     "data": {
      "text/plain": [
       "47744"
      ]
     },
     "execution_count": 22,
     "metadata": {},
     "output_type": "execute_result"
    }
   ],
   "source": [
    "df_clean['region'].isnull().sum()"
   ]
  },
  {
   "cell_type": "code",
   "execution_count": 23,
   "metadata": {},
   "outputs": [],
   "source": [
    "df_clean = df_clean.dropna(subset=['region'])"
   ]
  },
  {
   "cell_type": "markdown",
   "metadata": {},
   "source": [
    "<br>\n",
    "Checking;"
   ]
  },
  {
   "cell_type": "code",
   "execution_count": 24,
   "metadata": {},
   "outputs": [
    {
     "data": {
      "text/plain": [
       "0"
      ]
     },
     "execution_count": 24,
     "metadata": {},
     "output_type": "execute_result"
    }
   ],
   "source": [
    "df_clean['region'].isnull().sum()"
   ]
  },
  {
   "cell_type": "markdown",
   "metadata": {},
   "source": [
    "\n",
    "##### Gross Cleaning\n",
    "Creating a new column for total_gross by combining the domesticgross column and foreigngross column;\n",
    "<br>"
   ]
  },
  {
   "cell_type": "code",
   "execution_count": 25,
   "metadata": {},
   "outputs": [
    {
     "data": {
      "text/html": [
       "<div>\n",
       "<style scoped>\n",
       "    .dataframe tbody tr th:only-of-type {\n",
       "        vertical-align: middle;\n",
       "    }\n",
       "\n",
       "    .dataframe tbody tr th {\n",
       "        vertical-align: top;\n",
       "    }\n",
       "\n",
       "    .dataframe thead th {\n",
       "        text-align: right;\n",
       "    }\n",
       "</style>\n",
       "<table border=\"1\" class=\"dataframe\">\n",
       "  <thead>\n",
       "    <tr style=\"text-align: right;\">\n",
       "      <th></th>\n",
       "      <th>movieid</th>\n",
       "      <th>primarytitle</th>\n",
       "      <th>originaltitle</th>\n",
       "      <th>startyear</th>\n",
       "      <th>runtimeminutes</th>\n",
       "      <th>genres</th>\n",
       "      <th>averagerating</th>\n",
       "      <th>numvotes</th>\n",
       "      <th>region</th>\n",
       "      <th>title</th>\n",
       "      <th>studio</th>\n",
       "      <th>domesticgross</th>\n",
       "      <th>foreigngross</th>\n",
       "      <th>year</th>\n",
       "    </tr>\n",
       "  </thead>\n",
       "  <tbody>\n",
       "    <tr>\n",
       "      <th>1</th>\n",
       "      <td>tt0063540</td>\n",
       "      <td>Sunghursh</td>\n",
       "      <td>Sunghursh</td>\n",
       "      <td>2013</td>\n",
       "      <td>175.0</td>\n",
       "      <td>Action,Crime,Drama</td>\n",
       "      <td>7.0</td>\n",
       "      <td>77</td>\n",
       "      <td>IN</td>\n",
       "      <td>NaN</td>\n",
       "      <td>NaN</td>\n",
       "      <td>NaN</td>\n",
       "      <td>NaN</td>\n",
       "      <td>NaN</td>\n",
       "    </tr>\n",
       "    <tr>\n",
       "      <th>2</th>\n",
       "      <td>tt0063540</td>\n",
       "      <td>Sunghursh</td>\n",
       "      <td>Sunghursh</td>\n",
       "      <td>2013</td>\n",
       "      <td>175.0</td>\n",
       "      <td>Action,Crime,Drama</td>\n",
       "      <td>7.0</td>\n",
       "      <td>77</td>\n",
       "      <td>IN</td>\n",
       "      <td>NaN</td>\n",
       "      <td>NaN</td>\n",
       "      <td>NaN</td>\n",
       "      <td>NaN</td>\n",
       "      <td>NaN</td>\n",
       "    </tr>\n",
       "    <tr>\n",
       "      <th>3</th>\n",
       "      <td>tt0063540</td>\n",
       "      <td>Sunghursh</td>\n",
       "      <td>Sunghursh</td>\n",
       "      <td>2013</td>\n",
       "      <td>175.0</td>\n",
       "      <td>Action,Crime,Drama</td>\n",
       "      <td>7.0</td>\n",
       "      <td>77</td>\n",
       "      <td>IN</td>\n",
       "      <td>NaN</td>\n",
       "      <td>NaN</td>\n",
       "      <td>NaN</td>\n",
       "      <td>NaN</td>\n",
       "      <td>NaN</td>\n",
       "    </tr>\n",
       "    <tr>\n",
       "      <th>4</th>\n",
       "      <td>tt0063540</td>\n",
       "      <td>Sunghursh</td>\n",
       "      <td>Sunghursh</td>\n",
       "      <td>2013</td>\n",
       "      <td>175.0</td>\n",
       "      <td>Action,Crime,Drama</td>\n",
       "      <td>7.0</td>\n",
       "      <td>77</td>\n",
       "      <td>IN</td>\n",
       "      <td>NaN</td>\n",
       "      <td>NaN</td>\n",
       "      <td>NaN</td>\n",
       "      <td>NaN</td>\n",
       "      <td>NaN</td>\n",
       "    </tr>\n",
       "    <tr>\n",
       "      <th>7</th>\n",
       "      <td>tt0066787</td>\n",
       "      <td>One Day Before the Rainy Season</td>\n",
       "      <td>Ashad Ka Ek Din</td>\n",
       "      <td>2019</td>\n",
       "      <td>114.0</td>\n",
       "      <td>Biography,Drama</td>\n",
       "      <td>7.2</td>\n",
       "      <td>43</td>\n",
       "      <td>IN</td>\n",
       "      <td>NaN</td>\n",
       "      <td>NaN</td>\n",
       "      <td>NaN</td>\n",
       "      <td>NaN</td>\n",
       "      <td>NaN</td>\n",
       "    </tr>\n",
       "  </tbody>\n",
       "</table>\n",
       "</div>"
      ],
      "text/plain": [
       "     movieid                     primarytitle    originaltitle  startyear  \\\n",
       "1  tt0063540                        Sunghursh        Sunghursh       2013   \n",
       "2  tt0063540                        Sunghursh        Sunghursh       2013   \n",
       "3  tt0063540                        Sunghursh        Sunghursh       2013   \n",
       "4  tt0063540                        Sunghursh        Sunghursh       2013   \n",
       "7  tt0066787  One Day Before the Rainy Season  Ashad Ka Ek Din       2019   \n",
       "\n",
       "   runtimeminutes              genres  averagerating  numvotes region title  \\\n",
       "1           175.0  Action,Crime,Drama            7.0        77     IN   NaN   \n",
       "2           175.0  Action,Crime,Drama            7.0        77     IN   NaN   \n",
       "3           175.0  Action,Crime,Drama            7.0        77     IN   NaN   \n",
       "4           175.0  Action,Crime,Drama            7.0        77     IN   NaN   \n",
       "7           114.0     Biography,Drama            7.2        43     IN   NaN   \n",
       "\n",
       "  studio  domesticgross foreigngross  year  \n",
       "1    NaN            NaN          NaN   NaN  \n",
       "2    NaN            NaN          NaN   NaN  \n",
       "3    NaN            NaN          NaN   NaN  \n",
       "4    NaN            NaN          NaN   NaN  \n",
       "7    NaN            NaN          NaN   NaN  "
      ]
     },
     "execution_count": 25,
     "metadata": {},
     "output_type": "execute_result"
    }
   ],
   "source": [
    "df_clean.head()"
   ]
  },
  {
   "cell_type": "code",
   "execution_count": 26,
   "metadata": {
    "scrolled": true
   },
   "outputs": [
    {
     "data": {
      "text/html": [
       "<div>\n",
       "<style scoped>\n",
       "    .dataframe tbody tr th:only-of-type {\n",
       "        vertical-align: middle;\n",
       "    }\n",
       "\n",
       "    .dataframe tbody tr th {\n",
       "        vertical-align: top;\n",
       "    }\n",
       "\n",
       "    .dataframe thead th {\n",
       "        text-align: right;\n",
       "    }\n",
       "</style>\n",
       "<table border=\"1\" class=\"dataframe\">\n",
       "  <thead>\n",
       "    <tr style=\"text-align: right;\">\n",
       "      <th></th>\n",
       "      <th>movieid</th>\n",
       "      <th>primarytitle</th>\n",
       "      <th>originaltitle</th>\n",
       "      <th>startyear</th>\n",
       "      <th>runtimeminutes</th>\n",
       "      <th>genres</th>\n",
       "      <th>averagerating</th>\n",
       "      <th>numvotes</th>\n",
       "      <th>region</th>\n",
       "      <th>title</th>\n",
       "      <th>studio</th>\n",
       "      <th>domesticgross</th>\n",
       "      <th>foreigngross</th>\n",
       "      <th>year</th>\n",
       "      <th>totalgross</th>\n",
       "    </tr>\n",
       "  </thead>\n",
       "  <tbody>\n",
       "    <tr>\n",
       "      <th>1</th>\n",
       "      <td>tt0063540</td>\n",
       "      <td>Sunghursh</td>\n",
       "      <td>Sunghursh</td>\n",
       "      <td>2013</td>\n",
       "      <td>175.0</td>\n",
       "      <td>Action,Crime,Drama</td>\n",
       "      <td>7.0</td>\n",
       "      <td>77</td>\n",
       "      <td>IN</td>\n",
       "      <td>NaN</td>\n",
       "      <td>NaN</td>\n",
       "      <td>NaN</td>\n",
       "      <td>NaN</td>\n",
       "      <td>NaN</td>\n",
       "      <td>NaN</td>\n",
       "    </tr>\n",
       "    <tr>\n",
       "      <th>2</th>\n",
       "      <td>tt0063540</td>\n",
       "      <td>Sunghursh</td>\n",
       "      <td>Sunghursh</td>\n",
       "      <td>2013</td>\n",
       "      <td>175.0</td>\n",
       "      <td>Action,Crime,Drama</td>\n",
       "      <td>7.0</td>\n",
       "      <td>77</td>\n",
       "      <td>IN</td>\n",
       "      <td>NaN</td>\n",
       "      <td>NaN</td>\n",
       "      <td>NaN</td>\n",
       "      <td>NaN</td>\n",
       "      <td>NaN</td>\n",
       "      <td>NaN</td>\n",
       "    </tr>\n",
       "    <tr>\n",
       "      <th>3</th>\n",
       "      <td>tt0063540</td>\n",
       "      <td>Sunghursh</td>\n",
       "      <td>Sunghursh</td>\n",
       "      <td>2013</td>\n",
       "      <td>175.0</td>\n",
       "      <td>Action,Crime,Drama</td>\n",
       "      <td>7.0</td>\n",
       "      <td>77</td>\n",
       "      <td>IN</td>\n",
       "      <td>NaN</td>\n",
       "      <td>NaN</td>\n",
       "      <td>NaN</td>\n",
       "      <td>NaN</td>\n",
       "      <td>NaN</td>\n",
       "      <td>NaN</td>\n",
       "    </tr>\n",
       "    <tr>\n",
       "      <th>4</th>\n",
       "      <td>tt0063540</td>\n",
       "      <td>Sunghursh</td>\n",
       "      <td>Sunghursh</td>\n",
       "      <td>2013</td>\n",
       "      <td>175.0</td>\n",
       "      <td>Action,Crime,Drama</td>\n",
       "      <td>7.0</td>\n",
       "      <td>77</td>\n",
       "      <td>IN</td>\n",
       "      <td>NaN</td>\n",
       "      <td>NaN</td>\n",
       "      <td>NaN</td>\n",
       "      <td>NaN</td>\n",
       "      <td>NaN</td>\n",
       "      <td>NaN</td>\n",
       "    </tr>\n",
       "    <tr>\n",
       "      <th>7</th>\n",
       "      <td>tt0066787</td>\n",
       "      <td>One Day Before the Rainy Season</td>\n",
       "      <td>Ashad Ka Ek Din</td>\n",
       "      <td>2019</td>\n",
       "      <td>114.0</td>\n",
       "      <td>Biography,Drama</td>\n",
       "      <td>7.2</td>\n",
       "      <td>43</td>\n",
       "      <td>IN</td>\n",
       "      <td>NaN</td>\n",
       "      <td>NaN</td>\n",
       "      <td>NaN</td>\n",
       "      <td>NaN</td>\n",
       "      <td>NaN</td>\n",
       "      <td>NaN</td>\n",
       "    </tr>\n",
       "  </tbody>\n",
       "</table>\n",
       "</div>"
      ],
      "text/plain": [
       "     movieid                     primarytitle    originaltitle  startyear  \\\n",
       "1  tt0063540                        Sunghursh        Sunghursh       2013   \n",
       "2  tt0063540                        Sunghursh        Sunghursh       2013   \n",
       "3  tt0063540                        Sunghursh        Sunghursh       2013   \n",
       "4  tt0063540                        Sunghursh        Sunghursh       2013   \n",
       "7  tt0066787  One Day Before the Rainy Season  Ashad Ka Ek Din       2019   \n",
       "\n",
       "   runtimeminutes              genres  averagerating  numvotes region title  \\\n",
       "1           175.0  Action,Crime,Drama            7.0        77     IN   NaN   \n",
       "2           175.0  Action,Crime,Drama            7.0        77     IN   NaN   \n",
       "3           175.0  Action,Crime,Drama            7.0        77     IN   NaN   \n",
       "4           175.0  Action,Crime,Drama            7.0        77     IN   NaN   \n",
       "7           114.0     Biography,Drama            7.2        43     IN   NaN   \n",
       "\n",
       "  studio  domesticgross  foreigngross  year  totalgross  \n",
       "1    NaN            NaN           NaN   NaN         NaN  \n",
       "2    NaN            NaN           NaN   NaN         NaN  \n",
       "3    NaN            NaN           NaN   NaN         NaN  \n",
       "4    NaN            NaN           NaN   NaN         NaN  \n",
       "7    NaN            NaN           NaN   NaN         NaN  "
      ]
     },
     "execution_count": 26,
     "metadata": {},
     "output_type": "execute_result"
    }
   ],
   "source": [
    "df_clean['domesticgross'] = df_clean['domesticgross'].apply(pd.to_numeric, errors = 'coerce').dropna().astype(float)\n",
    "df_clean['foreigngross'] = df_clean['foreigngross'].apply(pd.to_numeric, errors = 'coerce').dropna().astype(float)\n",
    "\n",
    "df_clean['totalgross'] = df_clean['domesticgross'] + df_clean['foreigngross']\n",
    "\n",
    "df_clean.head()"
   ]
  },
  {
   "cell_type": "markdown",
   "metadata": {},
   "source": [
    "<br>\n",
    "Dropping any null values in the total_gross column;"
   ]
  },
  {
   "cell_type": "code",
   "execution_count": 27,
   "metadata": {},
   "outputs": [
    {
     "data": {
      "text/plain": [
       "186972"
      ]
     },
     "execution_count": 27,
     "metadata": {},
     "output_type": "execute_result"
    }
   ],
   "source": [
    "df_clean['totalgross'].isnull().sum()"
   ]
  },
  {
   "cell_type": "code",
   "execution_count": 28,
   "metadata": {},
   "outputs": [],
   "source": [
    "df_clean['totalgross'].fillna(-999999, inplace=True)"
   ]
  },
  {
   "cell_type": "code",
   "execution_count": 29,
   "metadata": {
    "scrolled": true
   },
   "outputs": [
    {
     "data": {
      "text/plain": [
       "0"
      ]
     },
     "execution_count": 29,
     "metadata": {},
     "output_type": "execute_result"
    }
   ],
   "source": [
    "df_clean['totalgross'].isnull().sum()"
   ]
  },
  {
   "cell_type": "markdown",
   "metadata": {},
   "source": [
    "<br>\n",
    "Checking;"
   ]
  },
  {
   "cell_type": "code",
   "execution_count": 30,
   "metadata": {
    "scrolled": true
   },
   "outputs": [
    {
     "data": {
      "text/html": [
       "<div>\n",
       "<style scoped>\n",
       "    .dataframe tbody tr th:only-of-type {\n",
       "        vertical-align: middle;\n",
       "    }\n",
       "\n",
       "    .dataframe tbody tr th {\n",
       "        vertical-align: top;\n",
       "    }\n",
       "\n",
       "    .dataframe thead th {\n",
       "        text-align: right;\n",
       "    }\n",
       "</style>\n",
       "<table border=\"1\" class=\"dataframe\">\n",
       "  <thead>\n",
       "    <tr style=\"text-align: right;\">\n",
       "      <th></th>\n",
       "      <th>movieid</th>\n",
       "      <th>primarytitle</th>\n",
       "      <th>originaltitle</th>\n",
       "      <th>startyear</th>\n",
       "      <th>runtimeminutes</th>\n",
       "      <th>genres</th>\n",
       "      <th>averagerating</th>\n",
       "      <th>numvotes</th>\n",
       "      <th>region</th>\n",
       "      <th>title</th>\n",
       "      <th>studio</th>\n",
       "      <th>domesticgross</th>\n",
       "      <th>foreigngross</th>\n",
       "      <th>year</th>\n",
       "      <th>totalgross</th>\n",
       "    </tr>\n",
       "  </thead>\n",
       "  <tbody>\n",
       "    <tr>\n",
       "      <th>1</th>\n",
       "      <td>tt0063540</td>\n",
       "      <td>Sunghursh</td>\n",
       "      <td>Sunghursh</td>\n",
       "      <td>2013</td>\n",
       "      <td>175.0</td>\n",
       "      <td>Action,Crime,Drama</td>\n",
       "      <td>7.0</td>\n",
       "      <td>77</td>\n",
       "      <td>IN</td>\n",
       "      <td>NaN</td>\n",
       "      <td>NaN</td>\n",
       "      <td>NaN</td>\n",
       "      <td>NaN</td>\n",
       "      <td>NaN</td>\n",
       "      <td>-999999.0</td>\n",
       "    </tr>\n",
       "    <tr>\n",
       "      <th>2</th>\n",
       "      <td>tt0063540</td>\n",
       "      <td>Sunghursh</td>\n",
       "      <td>Sunghursh</td>\n",
       "      <td>2013</td>\n",
       "      <td>175.0</td>\n",
       "      <td>Action,Crime,Drama</td>\n",
       "      <td>7.0</td>\n",
       "      <td>77</td>\n",
       "      <td>IN</td>\n",
       "      <td>NaN</td>\n",
       "      <td>NaN</td>\n",
       "      <td>NaN</td>\n",
       "      <td>NaN</td>\n",
       "      <td>NaN</td>\n",
       "      <td>-999999.0</td>\n",
       "    </tr>\n",
       "    <tr>\n",
       "      <th>3</th>\n",
       "      <td>tt0063540</td>\n",
       "      <td>Sunghursh</td>\n",
       "      <td>Sunghursh</td>\n",
       "      <td>2013</td>\n",
       "      <td>175.0</td>\n",
       "      <td>Action,Crime,Drama</td>\n",
       "      <td>7.0</td>\n",
       "      <td>77</td>\n",
       "      <td>IN</td>\n",
       "      <td>NaN</td>\n",
       "      <td>NaN</td>\n",
       "      <td>NaN</td>\n",
       "      <td>NaN</td>\n",
       "      <td>NaN</td>\n",
       "      <td>-999999.0</td>\n",
       "    </tr>\n",
       "    <tr>\n",
       "      <th>4</th>\n",
       "      <td>tt0063540</td>\n",
       "      <td>Sunghursh</td>\n",
       "      <td>Sunghursh</td>\n",
       "      <td>2013</td>\n",
       "      <td>175.0</td>\n",
       "      <td>Action,Crime,Drama</td>\n",
       "      <td>7.0</td>\n",
       "      <td>77</td>\n",
       "      <td>IN</td>\n",
       "      <td>NaN</td>\n",
       "      <td>NaN</td>\n",
       "      <td>NaN</td>\n",
       "      <td>NaN</td>\n",
       "      <td>NaN</td>\n",
       "      <td>-999999.0</td>\n",
       "    </tr>\n",
       "    <tr>\n",
       "      <th>7</th>\n",
       "      <td>tt0066787</td>\n",
       "      <td>One Day Before the Rainy Season</td>\n",
       "      <td>Ashad Ka Ek Din</td>\n",
       "      <td>2019</td>\n",
       "      <td>114.0</td>\n",
       "      <td>Biography,Drama</td>\n",
       "      <td>7.2</td>\n",
       "      <td>43</td>\n",
       "      <td>IN</td>\n",
       "      <td>NaN</td>\n",
       "      <td>NaN</td>\n",
       "      <td>NaN</td>\n",
       "      <td>NaN</td>\n",
       "      <td>NaN</td>\n",
       "      <td>-999999.0</td>\n",
       "    </tr>\n",
       "  </tbody>\n",
       "</table>\n",
       "</div>"
      ],
      "text/plain": [
       "     movieid                     primarytitle    originaltitle  startyear  \\\n",
       "1  tt0063540                        Sunghursh        Sunghursh       2013   \n",
       "2  tt0063540                        Sunghursh        Sunghursh       2013   \n",
       "3  tt0063540                        Sunghursh        Sunghursh       2013   \n",
       "4  tt0063540                        Sunghursh        Sunghursh       2013   \n",
       "7  tt0066787  One Day Before the Rainy Season  Ashad Ka Ek Din       2019   \n",
       "\n",
       "   runtimeminutes              genres  averagerating  numvotes region title  \\\n",
       "1           175.0  Action,Crime,Drama            7.0        77     IN   NaN   \n",
       "2           175.0  Action,Crime,Drama            7.0        77     IN   NaN   \n",
       "3           175.0  Action,Crime,Drama            7.0        77     IN   NaN   \n",
       "4           175.0  Action,Crime,Drama            7.0        77     IN   NaN   \n",
       "7           114.0     Biography,Drama            7.2        43     IN   NaN   \n",
       "\n",
       "  studio  domesticgross  foreigngross  year  totalgross  \n",
       "1    NaN            NaN           NaN   NaN   -999999.0  \n",
       "2    NaN            NaN           NaN   NaN   -999999.0  \n",
       "3    NaN            NaN           NaN   NaN   -999999.0  \n",
       "4    NaN            NaN           NaN   NaN   -999999.0  \n",
       "7    NaN            NaN           NaN   NaN   -999999.0  "
      ]
     },
     "execution_count": 30,
     "metadata": {},
     "output_type": "execute_result"
    }
   ],
   "source": [
    "df_clean.head()"
   ]
  },
  {
   "cell_type": "markdown",
   "metadata": {},
   "source": [
    "<br>\n",
    "<br>\n",
    "\n",
    "Since the **total_gross** column now exists we can drop the **domesticgross** and **foreigngross** columns for a cleaner data set;"
   ]
  },
  {
   "cell_type": "code",
   "execution_count": 31,
   "metadata": {},
   "outputs": [],
   "source": [
    "df_clean = df_clean.drop('domesticgross', axis = 1)"
   ]
  },
  {
   "cell_type": "code",
   "execution_count": 32,
   "metadata": {},
   "outputs": [],
   "source": [
    "df_clean = df_clean.drop('foreigngross', axis = 1)"
   ]
  },
  {
   "cell_type": "markdown",
   "metadata": {},
   "source": [
    "<br>\n",
    "Checking;"
   ]
  },
  {
   "cell_type": "code",
   "execution_count": 33,
   "metadata": {
    "scrolled": true
   },
   "outputs": [
    {
     "data": {
      "text/html": [
       "<div>\n",
       "<style scoped>\n",
       "    .dataframe tbody tr th:only-of-type {\n",
       "        vertical-align: middle;\n",
       "    }\n",
       "\n",
       "    .dataframe tbody tr th {\n",
       "        vertical-align: top;\n",
       "    }\n",
       "\n",
       "    .dataframe thead th {\n",
       "        text-align: right;\n",
       "    }\n",
       "</style>\n",
       "<table border=\"1\" class=\"dataframe\">\n",
       "  <thead>\n",
       "    <tr style=\"text-align: right;\">\n",
       "      <th></th>\n",
       "      <th>movieid</th>\n",
       "      <th>primarytitle</th>\n",
       "      <th>originaltitle</th>\n",
       "      <th>startyear</th>\n",
       "      <th>runtimeminutes</th>\n",
       "      <th>genres</th>\n",
       "      <th>averagerating</th>\n",
       "      <th>numvotes</th>\n",
       "      <th>region</th>\n",
       "      <th>title</th>\n",
       "      <th>studio</th>\n",
       "      <th>year</th>\n",
       "      <th>totalgross</th>\n",
       "    </tr>\n",
       "  </thead>\n",
       "  <tbody>\n",
       "    <tr>\n",
       "      <th>1</th>\n",
       "      <td>tt0063540</td>\n",
       "      <td>Sunghursh</td>\n",
       "      <td>Sunghursh</td>\n",
       "      <td>2013</td>\n",
       "      <td>175.0</td>\n",
       "      <td>Action,Crime,Drama</td>\n",
       "      <td>7.0</td>\n",
       "      <td>77</td>\n",
       "      <td>IN</td>\n",
       "      <td>NaN</td>\n",
       "      <td>NaN</td>\n",
       "      <td>NaN</td>\n",
       "      <td>-999999.0</td>\n",
       "    </tr>\n",
       "    <tr>\n",
       "      <th>2</th>\n",
       "      <td>tt0063540</td>\n",
       "      <td>Sunghursh</td>\n",
       "      <td>Sunghursh</td>\n",
       "      <td>2013</td>\n",
       "      <td>175.0</td>\n",
       "      <td>Action,Crime,Drama</td>\n",
       "      <td>7.0</td>\n",
       "      <td>77</td>\n",
       "      <td>IN</td>\n",
       "      <td>NaN</td>\n",
       "      <td>NaN</td>\n",
       "      <td>NaN</td>\n",
       "      <td>-999999.0</td>\n",
       "    </tr>\n",
       "    <tr>\n",
       "      <th>3</th>\n",
       "      <td>tt0063540</td>\n",
       "      <td>Sunghursh</td>\n",
       "      <td>Sunghursh</td>\n",
       "      <td>2013</td>\n",
       "      <td>175.0</td>\n",
       "      <td>Action,Crime,Drama</td>\n",
       "      <td>7.0</td>\n",
       "      <td>77</td>\n",
       "      <td>IN</td>\n",
       "      <td>NaN</td>\n",
       "      <td>NaN</td>\n",
       "      <td>NaN</td>\n",
       "      <td>-999999.0</td>\n",
       "    </tr>\n",
       "    <tr>\n",
       "      <th>4</th>\n",
       "      <td>tt0063540</td>\n",
       "      <td>Sunghursh</td>\n",
       "      <td>Sunghursh</td>\n",
       "      <td>2013</td>\n",
       "      <td>175.0</td>\n",
       "      <td>Action,Crime,Drama</td>\n",
       "      <td>7.0</td>\n",
       "      <td>77</td>\n",
       "      <td>IN</td>\n",
       "      <td>NaN</td>\n",
       "      <td>NaN</td>\n",
       "      <td>NaN</td>\n",
       "      <td>-999999.0</td>\n",
       "    </tr>\n",
       "    <tr>\n",
       "      <th>7</th>\n",
       "      <td>tt0066787</td>\n",
       "      <td>One Day Before the Rainy Season</td>\n",
       "      <td>Ashad Ka Ek Din</td>\n",
       "      <td>2019</td>\n",
       "      <td>114.0</td>\n",
       "      <td>Biography,Drama</td>\n",
       "      <td>7.2</td>\n",
       "      <td>43</td>\n",
       "      <td>IN</td>\n",
       "      <td>NaN</td>\n",
       "      <td>NaN</td>\n",
       "      <td>NaN</td>\n",
       "      <td>-999999.0</td>\n",
       "    </tr>\n",
       "  </tbody>\n",
       "</table>\n",
       "</div>"
      ],
      "text/plain": [
       "     movieid                     primarytitle    originaltitle  startyear  \\\n",
       "1  tt0063540                        Sunghursh        Sunghursh       2013   \n",
       "2  tt0063540                        Sunghursh        Sunghursh       2013   \n",
       "3  tt0063540                        Sunghursh        Sunghursh       2013   \n",
       "4  tt0063540                        Sunghursh        Sunghursh       2013   \n",
       "7  tt0066787  One Day Before the Rainy Season  Ashad Ka Ek Din       2019   \n",
       "\n",
       "   runtimeminutes              genres  averagerating  numvotes region title  \\\n",
       "1           175.0  Action,Crime,Drama            7.0        77     IN   NaN   \n",
       "2           175.0  Action,Crime,Drama            7.0        77     IN   NaN   \n",
       "3           175.0  Action,Crime,Drama            7.0        77     IN   NaN   \n",
       "4           175.0  Action,Crime,Drama            7.0        77     IN   NaN   \n",
       "7           114.0     Biography,Drama            7.2        43     IN   NaN   \n",
       "\n",
       "  studio  year  totalgross  \n",
       "1    NaN   NaN   -999999.0  \n",
       "2    NaN   NaN   -999999.0  \n",
       "3    NaN   NaN   -999999.0  \n",
       "4    NaN   NaN   -999999.0  \n",
       "7    NaN   NaN   -999999.0  "
      ]
     },
     "execution_count": 33,
     "metadata": {},
     "output_type": "execute_result"
    }
   ],
   "source": [
    "df_clean.head()"
   ]
  },
  {
   "cell_type": "markdown",
   "metadata": {},
   "source": [
    "<br>\n",
    "Because different regions will have different currency affecting our data in a negative way we will be focusing on data that is specifically from the US so we will not have to worry about currency exchanges;\n",
    "<br>"
   ]
  },
  {
   "cell_type": "code",
   "execution_count": 34,
   "metadata": {},
   "outputs": [],
   "source": [
    "df_clean['totalgrossusa'] = np.where(df_clean['region']==\"US\", df_clean['totalgross'] , 'dif_curency')"
   ]
  },
  {
   "cell_type": "markdown",
   "metadata": {},
   "source": [
    "<br>\n",
    "Checking;"
   ]
  },
  {
   "cell_type": "code",
   "execution_count": 35,
   "metadata": {},
   "outputs": [
    {
     "data": {
      "text/plain": [
       "dif_curency    188147\n",
       "-999999.0       28440\n",
       "32400000.0         15\n",
       "752600000.0         9\n",
       "240900000.0         7\n",
       "                ...  \n",
       "1869000.0           1\n",
       "540000000.0         1\n",
       "124300.0            1\n",
       "582900000.0         1\n",
       "274700000.0         1\n",
       "Name: totalgrossusa, Length: 929, dtype: int64"
      ]
     },
     "execution_count": 35,
     "metadata": {},
     "output_type": "execute_result"
    }
   ],
   "source": [
    "df_clean['totalgrossusa'].value_counts()"
   ]
  },
  {
   "cell_type": "markdown",
   "metadata": {},
   "source": [
    "##### Genre Cleaning\n",
    "Splitting up the Genres into new columns for multiple genre movies;"
   ]
  },
  {
   "cell_type": "code",
   "execution_count": 36,
   "metadata": {},
   "outputs": [],
   "source": [
    "df_clean = df_clean.dropna(subset=['genres'])"
   ]
  },
  {
   "cell_type": "markdown",
   "metadata": {},
   "source": [
    "<br>"
   ]
  },
  {
   "cell_type": "code",
   "execution_count": 37,
   "metadata": {},
   "outputs": [
    {
     "data": {
      "text/html": [
       "<div>\n",
       "<style scoped>\n",
       "    .dataframe tbody tr th:only-of-type {\n",
       "        vertical-align: middle;\n",
       "    }\n",
       "\n",
       "    .dataframe tbody tr th {\n",
       "        vertical-align: top;\n",
       "    }\n",
       "\n",
       "    .dataframe thead th {\n",
       "        text-align: right;\n",
       "    }\n",
       "</style>\n",
       "<table border=\"1\" class=\"dataframe\">\n",
       "  <thead>\n",
       "    <tr style=\"text-align: right;\">\n",
       "      <th></th>\n",
       "      <th>0</th>\n",
       "      <th>1</th>\n",
       "      <th>2</th>\n",
       "    </tr>\n",
       "  </thead>\n",
       "  <tbody>\n",
       "    <tr>\n",
       "      <th>1</th>\n",
       "      <td>Action</td>\n",
       "      <td>Crime</td>\n",
       "      <td>Drama</td>\n",
       "    </tr>\n",
       "    <tr>\n",
       "      <th>2</th>\n",
       "      <td>Action</td>\n",
       "      <td>Crime</td>\n",
       "      <td>Drama</td>\n",
       "    </tr>\n",
       "    <tr>\n",
       "      <th>3</th>\n",
       "      <td>Action</td>\n",
       "      <td>Crime</td>\n",
       "      <td>Drama</td>\n",
       "    </tr>\n",
       "    <tr>\n",
       "      <th>4</th>\n",
       "      <td>Action</td>\n",
       "      <td>Crime</td>\n",
       "      <td>Drama</td>\n",
       "    </tr>\n",
       "    <tr>\n",
       "      <th>7</th>\n",
       "      <td>Biography</td>\n",
       "      <td>Drama</td>\n",
       "      <td>None</td>\n",
       "    </tr>\n",
       "    <tr>\n",
       "      <th>...</th>\n",
       "      <td>...</td>\n",
       "      <td>...</td>\n",
       "      <td>...</td>\n",
       "    </tr>\n",
       "    <tr>\n",
       "      <th>266062</th>\n",
       "      <td>Comedy</td>\n",
       "      <td>Horror</td>\n",
       "      <td>None</td>\n",
       "    </tr>\n",
       "    <tr>\n",
       "      <th>266068</th>\n",
       "      <td>Drama</td>\n",
       "      <td>None</td>\n",
       "      <td>None</td>\n",
       "    </tr>\n",
       "    <tr>\n",
       "      <th>266069</th>\n",
       "      <td>Drama</td>\n",
       "      <td>None</td>\n",
       "      <td>None</td>\n",
       "    </tr>\n",
       "    <tr>\n",
       "      <th>266077</th>\n",
       "      <td>Drama</td>\n",
       "      <td>None</td>\n",
       "      <td>None</td>\n",
       "    </tr>\n",
       "    <tr>\n",
       "      <th>266078</th>\n",
       "      <td>Drama</td>\n",
       "      <td>None</td>\n",
       "      <td>None</td>\n",
       "    </tr>\n",
       "  </tbody>\n",
       "</table>\n",
       "<p>217392 rows × 3 columns</p>\n",
       "</div>"
      ],
      "text/plain": [
       "                0       1      2\n",
       "1          Action   Crime  Drama\n",
       "2          Action   Crime  Drama\n",
       "3          Action   Crime  Drama\n",
       "4          Action   Crime  Drama\n",
       "7       Biography   Drama   None\n",
       "...           ...     ...    ...\n",
       "266062     Comedy  Horror   None\n",
       "266068      Drama    None   None\n",
       "266069      Drama    None   None\n",
       "266077      Drama    None   None\n",
       "266078      Drama    None   None\n",
       "\n",
       "[217392 rows x 3 columns]"
      ]
     },
     "execution_count": 37,
     "metadata": {},
     "output_type": "execute_result"
    }
   ],
   "source": [
    "df_clean['genres'].str.rsplit(\",\", expand=True)"
   ]
  },
  {
   "cell_type": "code",
   "execution_count": 38,
   "metadata": {},
   "outputs": [],
   "source": [
    "df_clean[['genre1', 'genre2', 'genre3']] = df_clean['genres'].str.rsplit(\",\", expand=True)"
   ]
  },
  {
   "cell_type": "markdown",
   "metadata": {},
   "source": [
    "<br>\n",
    "Checking;"
   ]
  },
  {
   "cell_type": "code",
   "execution_count": 39,
   "metadata": {
    "scrolled": false
   },
   "outputs": [
    {
     "data": {
      "text/html": [
       "<div>\n",
       "<style scoped>\n",
       "    .dataframe tbody tr th:only-of-type {\n",
       "        vertical-align: middle;\n",
       "    }\n",
       "\n",
       "    .dataframe tbody tr th {\n",
       "        vertical-align: top;\n",
       "    }\n",
       "\n",
       "    .dataframe thead th {\n",
       "        text-align: right;\n",
       "    }\n",
       "</style>\n",
       "<table border=\"1\" class=\"dataframe\">\n",
       "  <thead>\n",
       "    <tr style=\"text-align: right;\">\n",
       "      <th></th>\n",
       "      <th>movieid</th>\n",
       "      <th>primarytitle</th>\n",
       "      <th>originaltitle</th>\n",
       "      <th>startyear</th>\n",
       "      <th>runtimeminutes</th>\n",
       "      <th>genres</th>\n",
       "      <th>averagerating</th>\n",
       "      <th>numvotes</th>\n",
       "      <th>region</th>\n",
       "      <th>title</th>\n",
       "      <th>studio</th>\n",
       "      <th>year</th>\n",
       "      <th>totalgross</th>\n",
       "      <th>totalgrossusa</th>\n",
       "      <th>genre1</th>\n",
       "      <th>genre2</th>\n",
       "      <th>genre3</th>\n",
       "    </tr>\n",
       "  </thead>\n",
       "  <tbody>\n",
       "    <tr>\n",
       "      <th>1</th>\n",
       "      <td>tt0063540</td>\n",
       "      <td>Sunghursh</td>\n",
       "      <td>Sunghursh</td>\n",
       "      <td>2013</td>\n",
       "      <td>175.0</td>\n",
       "      <td>Action,Crime,Drama</td>\n",
       "      <td>7.0</td>\n",
       "      <td>77</td>\n",
       "      <td>IN</td>\n",
       "      <td>NaN</td>\n",
       "      <td>NaN</td>\n",
       "      <td>NaN</td>\n",
       "      <td>-999999.0</td>\n",
       "      <td>dif_curency</td>\n",
       "      <td>Action</td>\n",
       "      <td>Crime</td>\n",
       "      <td>Drama</td>\n",
       "    </tr>\n",
       "    <tr>\n",
       "      <th>2</th>\n",
       "      <td>tt0063540</td>\n",
       "      <td>Sunghursh</td>\n",
       "      <td>Sunghursh</td>\n",
       "      <td>2013</td>\n",
       "      <td>175.0</td>\n",
       "      <td>Action,Crime,Drama</td>\n",
       "      <td>7.0</td>\n",
       "      <td>77</td>\n",
       "      <td>IN</td>\n",
       "      <td>NaN</td>\n",
       "      <td>NaN</td>\n",
       "      <td>NaN</td>\n",
       "      <td>-999999.0</td>\n",
       "      <td>dif_curency</td>\n",
       "      <td>Action</td>\n",
       "      <td>Crime</td>\n",
       "      <td>Drama</td>\n",
       "    </tr>\n",
       "    <tr>\n",
       "      <th>3</th>\n",
       "      <td>tt0063540</td>\n",
       "      <td>Sunghursh</td>\n",
       "      <td>Sunghursh</td>\n",
       "      <td>2013</td>\n",
       "      <td>175.0</td>\n",
       "      <td>Action,Crime,Drama</td>\n",
       "      <td>7.0</td>\n",
       "      <td>77</td>\n",
       "      <td>IN</td>\n",
       "      <td>NaN</td>\n",
       "      <td>NaN</td>\n",
       "      <td>NaN</td>\n",
       "      <td>-999999.0</td>\n",
       "      <td>dif_curency</td>\n",
       "      <td>Action</td>\n",
       "      <td>Crime</td>\n",
       "      <td>Drama</td>\n",
       "    </tr>\n",
       "    <tr>\n",
       "      <th>4</th>\n",
       "      <td>tt0063540</td>\n",
       "      <td>Sunghursh</td>\n",
       "      <td>Sunghursh</td>\n",
       "      <td>2013</td>\n",
       "      <td>175.0</td>\n",
       "      <td>Action,Crime,Drama</td>\n",
       "      <td>7.0</td>\n",
       "      <td>77</td>\n",
       "      <td>IN</td>\n",
       "      <td>NaN</td>\n",
       "      <td>NaN</td>\n",
       "      <td>NaN</td>\n",
       "      <td>-999999.0</td>\n",
       "      <td>dif_curency</td>\n",
       "      <td>Action</td>\n",
       "      <td>Crime</td>\n",
       "      <td>Drama</td>\n",
       "    </tr>\n",
       "    <tr>\n",
       "      <th>7</th>\n",
       "      <td>tt0066787</td>\n",
       "      <td>One Day Before the Rainy Season</td>\n",
       "      <td>Ashad Ka Ek Din</td>\n",
       "      <td>2019</td>\n",
       "      <td>114.0</td>\n",
       "      <td>Biography,Drama</td>\n",
       "      <td>7.2</td>\n",
       "      <td>43</td>\n",
       "      <td>IN</td>\n",
       "      <td>NaN</td>\n",
       "      <td>NaN</td>\n",
       "      <td>NaN</td>\n",
       "      <td>-999999.0</td>\n",
       "      <td>dif_curency</td>\n",
       "      <td>Biography</td>\n",
       "      <td>Drama</td>\n",
       "      <td>None</td>\n",
       "    </tr>\n",
       "  </tbody>\n",
       "</table>\n",
       "</div>"
      ],
      "text/plain": [
       "     movieid                     primarytitle    originaltitle  startyear  \\\n",
       "1  tt0063540                        Sunghursh        Sunghursh       2013   \n",
       "2  tt0063540                        Sunghursh        Sunghursh       2013   \n",
       "3  tt0063540                        Sunghursh        Sunghursh       2013   \n",
       "4  tt0063540                        Sunghursh        Sunghursh       2013   \n",
       "7  tt0066787  One Day Before the Rainy Season  Ashad Ka Ek Din       2019   \n",
       "\n",
       "   runtimeminutes              genres  averagerating  numvotes region title  \\\n",
       "1           175.0  Action,Crime,Drama            7.0        77     IN   NaN   \n",
       "2           175.0  Action,Crime,Drama            7.0        77     IN   NaN   \n",
       "3           175.0  Action,Crime,Drama            7.0        77     IN   NaN   \n",
       "4           175.0  Action,Crime,Drama            7.0        77     IN   NaN   \n",
       "7           114.0     Biography,Drama            7.2        43     IN   NaN   \n",
       "\n",
       "  studio  year  totalgross totalgrossusa     genre1 genre2 genre3  \n",
       "1    NaN   NaN   -999999.0   dif_curency     Action  Crime  Drama  \n",
       "2    NaN   NaN   -999999.0   dif_curency     Action  Crime  Drama  \n",
       "3    NaN   NaN   -999999.0   dif_curency     Action  Crime  Drama  \n",
       "4    NaN   NaN   -999999.0   dif_curency     Action  Crime  Drama  \n",
       "7    NaN   NaN   -999999.0   dif_curency  Biography  Drama   None  "
      ]
     },
     "execution_count": 39,
     "metadata": {},
     "output_type": "execute_result"
    }
   ],
   "source": [
    "df_clean.head()"
   ]
  },
  {
   "cell_type": "markdown",
   "metadata": {},
   "source": [
    "#### Review Cleaning\n",
    "<br>\n",
    "Dropping null values and movies with less than 30 reviews from data frame because they are not significant and may affect our data for the worse;"
   ]
  },
  {
   "cell_type": "code",
   "execution_count": 40,
   "metadata": {},
   "outputs": [
    {
     "data": {
      "text/html": [
       "<div>\n",
       "<style scoped>\n",
       "    .dataframe tbody tr th:only-of-type {\n",
       "        vertical-align: middle;\n",
       "    }\n",
       "\n",
       "    .dataframe tbody tr th {\n",
       "        vertical-align: top;\n",
       "    }\n",
       "\n",
       "    .dataframe thead th {\n",
       "        text-align: right;\n",
       "    }\n",
       "</style>\n",
       "<table border=\"1\" class=\"dataframe\">\n",
       "  <thead>\n",
       "    <tr style=\"text-align: right;\">\n",
       "      <th></th>\n",
       "      <th>movieid</th>\n",
       "      <th>primarytitle</th>\n",
       "      <th>originaltitle</th>\n",
       "      <th>startyear</th>\n",
       "      <th>runtimeminutes</th>\n",
       "      <th>genres</th>\n",
       "      <th>averagerating</th>\n",
       "      <th>numvotes</th>\n",
       "      <th>region</th>\n",
       "      <th>title</th>\n",
       "      <th>studio</th>\n",
       "      <th>year</th>\n",
       "      <th>totalgross</th>\n",
       "      <th>totalgrossusa</th>\n",
       "      <th>genre1</th>\n",
       "      <th>genre2</th>\n",
       "      <th>genre3</th>\n",
       "    </tr>\n",
       "  </thead>\n",
       "  <tbody>\n",
       "    <tr>\n",
       "      <th>1</th>\n",
       "      <td>tt0063540</td>\n",
       "      <td>Sunghursh</td>\n",
       "      <td>Sunghursh</td>\n",
       "      <td>2013</td>\n",
       "      <td>175.0</td>\n",
       "      <td>Action,Crime,Drama</td>\n",
       "      <td>7.0</td>\n",
       "      <td>77</td>\n",
       "      <td>IN</td>\n",
       "      <td>NaN</td>\n",
       "      <td>NaN</td>\n",
       "      <td>NaN</td>\n",
       "      <td>-999999.0</td>\n",
       "      <td>dif_curency</td>\n",
       "      <td>Action</td>\n",
       "      <td>Crime</td>\n",
       "      <td>Drama</td>\n",
       "    </tr>\n",
       "    <tr>\n",
       "      <th>2</th>\n",
       "      <td>tt0063540</td>\n",
       "      <td>Sunghursh</td>\n",
       "      <td>Sunghursh</td>\n",
       "      <td>2013</td>\n",
       "      <td>175.0</td>\n",
       "      <td>Action,Crime,Drama</td>\n",
       "      <td>7.0</td>\n",
       "      <td>77</td>\n",
       "      <td>IN</td>\n",
       "      <td>NaN</td>\n",
       "      <td>NaN</td>\n",
       "      <td>NaN</td>\n",
       "      <td>-999999.0</td>\n",
       "      <td>dif_curency</td>\n",
       "      <td>Action</td>\n",
       "      <td>Crime</td>\n",
       "      <td>Drama</td>\n",
       "    </tr>\n",
       "    <tr>\n",
       "      <th>3</th>\n",
       "      <td>tt0063540</td>\n",
       "      <td>Sunghursh</td>\n",
       "      <td>Sunghursh</td>\n",
       "      <td>2013</td>\n",
       "      <td>175.0</td>\n",
       "      <td>Action,Crime,Drama</td>\n",
       "      <td>7.0</td>\n",
       "      <td>77</td>\n",
       "      <td>IN</td>\n",
       "      <td>NaN</td>\n",
       "      <td>NaN</td>\n",
       "      <td>NaN</td>\n",
       "      <td>-999999.0</td>\n",
       "      <td>dif_curency</td>\n",
       "      <td>Action</td>\n",
       "      <td>Crime</td>\n",
       "      <td>Drama</td>\n",
       "    </tr>\n",
       "    <tr>\n",
       "      <th>4</th>\n",
       "      <td>tt0063540</td>\n",
       "      <td>Sunghursh</td>\n",
       "      <td>Sunghursh</td>\n",
       "      <td>2013</td>\n",
       "      <td>175.0</td>\n",
       "      <td>Action,Crime,Drama</td>\n",
       "      <td>7.0</td>\n",
       "      <td>77</td>\n",
       "      <td>IN</td>\n",
       "      <td>NaN</td>\n",
       "      <td>NaN</td>\n",
       "      <td>NaN</td>\n",
       "      <td>-999999.0</td>\n",
       "      <td>dif_curency</td>\n",
       "      <td>Action</td>\n",
       "      <td>Crime</td>\n",
       "      <td>Drama</td>\n",
       "    </tr>\n",
       "    <tr>\n",
       "      <th>7</th>\n",
       "      <td>tt0066787</td>\n",
       "      <td>One Day Before the Rainy Season</td>\n",
       "      <td>Ashad Ka Ek Din</td>\n",
       "      <td>2019</td>\n",
       "      <td>114.0</td>\n",
       "      <td>Biography,Drama</td>\n",
       "      <td>7.2</td>\n",
       "      <td>43</td>\n",
       "      <td>IN</td>\n",
       "      <td>NaN</td>\n",
       "      <td>NaN</td>\n",
       "      <td>NaN</td>\n",
       "      <td>-999999.0</td>\n",
       "      <td>dif_curency</td>\n",
       "      <td>Biography</td>\n",
       "      <td>Drama</td>\n",
       "      <td>None</td>\n",
       "    </tr>\n",
       "  </tbody>\n",
       "</table>\n",
       "</div>"
      ],
      "text/plain": [
       "     movieid                     primarytitle    originaltitle  startyear  \\\n",
       "1  tt0063540                        Sunghursh        Sunghursh       2013   \n",
       "2  tt0063540                        Sunghursh        Sunghursh       2013   \n",
       "3  tt0063540                        Sunghursh        Sunghursh       2013   \n",
       "4  tt0063540                        Sunghursh        Sunghursh       2013   \n",
       "7  tt0066787  One Day Before the Rainy Season  Ashad Ka Ek Din       2019   \n",
       "\n",
       "   runtimeminutes              genres  averagerating  numvotes region title  \\\n",
       "1           175.0  Action,Crime,Drama            7.0        77     IN   NaN   \n",
       "2           175.0  Action,Crime,Drama            7.0        77     IN   NaN   \n",
       "3           175.0  Action,Crime,Drama            7.0        77     IN   NaN   \n",
       "4           175.0  Action,Crime,Drama            7.0        77     IN   NaN   \n",
       "7           114.0     Biography,Drama            7.2        43     IN   NaN   \n",
       "\n",
       "  studio  year  totalgross totalgrossusa     genre1 genre2 genre3  \n",
       "1    NaN   NaN   -999999.0   dif_curency     Action  Crime  Drama  \n",
       "2    NaN   NaN   -999999.0   dif_curency     Action  Crime  Drama  \n",
       "3    NaN   NaN   -999999.0   dif_curency     Action  Crime  Drama  \n",
       "4    NaN   NaN   -999999.0   dif_curency     Action  Crime  Drama  \n",
       "7    NaN   NaN   -999999.0   dif_curency  Biography  Drama   None  "
      ]
     },
     "execution_count": 40,
     "metadata": {},
     "output_type": "execute_result"
    }
   ],
   "source": [
    "df_clean.head()"
   ]
  },
  {
   "cell_type": "code",
   "execution_count": 41,
   "metadata": {},
   "outputs": [
    {
     "data": {
      "text/plain": [
       "5"
      ]
     },
     "execution_count": 41,
     "metadata": {},
     "output_type": "execute_result"
    }
   ],
   "source": [
    "df_clean['numvotes'].min()"
   ]
  },
  {
   "cell_type": "code",
   "execution_count": 42,
   "metadata": {},
   "outputs": [],
   "source": [
    "df_clean = df_clean[df_clean['numvotes'] >= 30]"
   ]
  },
  {
   "cell_type": "markdown",
   "metadata": {},
   "source": [
    "<br>\n",
    "Checking;"
   ]
  },
  {
   "cell_type": "code",
   "execution_count": 43,
   "metadata": {},
   "outputs": [
    {
     "data": {
      "text/plain": [
       "30"
      ]
     },
     "execution_count": 43,
     "metadata": {},
     "output_type": "execute_result"
    }
   ],
   "source": [
    "df_clean['numvotes'].min()"
   ]
  },
  {
   "cell_type": "code",
   "execution_count": 44,
   "metadata": {},
   "outputs": [],
   "source": [
    "df_clean = df_clean.dropna(subset=['numvotes'])"
   ]
  },
  {
   "cell_type": "code",
   "execution_count": 45,
   "metadata": {},
   "outputs": [
    {
     "data": {
      "text/plain": [
       "0"
      ]
     },
     "execution_count": 45,
     "metadata": {},
     "output_type": "execute_result"
    }
   ],
   "source": [
    "df_clean['numvotes'].isnull().sum()"
   ]
  },
  {
   "cell_type": "markdown",
   "metadata": {},
   "source": [
    "<br>\n",
    "Checking;"
   ]
  },
  {
   "cell_type": "code",
   "execution_count": 79,
   "metadata": {},
   "outputs": [
    {
     "data": {
      "text/html": [
       "<div>\n",
       "<style scoped>\n",
       "    .dataframe tbody tr th:only-of-type {\n",
       "        vertical-align: middle;\n",
       "    }\n",
       "\n",
       "    .dataframe tbody tr th {\n",
       "        vertical-align: top;\n",
       "    }\n",
       "\n",
       "    .dataframe thead th {\n",
       "        text-align: right;\n",
       "    }\n",
       "</style>\n",
       "<table border=\"1\" class=\"dataframe\">\n",
       "  <thead>\n",
       "    <tr style=\"text-align: right;\">\n",
       "      <th></th>\n",
       "      <th>movieid</th>\n",
       "      <th>primarytitle</th>\n",
       "      <th>originaltitle</th>\n",
       "      <th>startyear</th>\n",
       "      <th>runtimeminutes</th>\n",
       "      <th>genres</th>\n",
       "      <th>averagerating</th>\n",
       "      <th>numvotes</th>\n",
       "      <th>region</th>\n",
       "      <th>title</th>\n",
       "      <th>studio</th>\n",
       "      <th>year</th>\n",
       "      <th>totalgross</th>\n",
       "      <th>totalgrossusa</th>\n",
       "      <th>genre1</th>\n",
       "      <th>genre2</th>\n",
       "      <th>genre3</th>\n",
       "    </tr>\n",
       "  </thead>\n",
       "  <tbody>\n",
       "    <tr>\n",
       "      <th>1</th>\n",
       "      <td>tt0063540</td>\n",
       "      <td>Sunghursh</td>\n",
       "      <td>Sunghursh</td>\n",
       "      <td>2013</td>\n",
       "      <td>175.0</td>\n",
       "      <td>Action,Crime,Drama</td>\n",
       "      <td>7.0</td>\n",
       "      <td>77</td>\n",
       "      <td>IN</td>\n",
       "      <td>NaN</td>\n",
       "      <td>NA_Studio</td>\n",
       "      <td>NA_year</td>\n",
       "      <td>-999999.0</td>\n",
       "      <td>dif_curency</td>\n",
       "      <td>Action</td>\n",
       "      <td>Crime</td>\n",
       "      <td>Drama</td>\n",
       "    </tr>\n",
       "    <tr>\n",
       "      <th>2</th>\n",
       "      <td>tt0063540</td>\n",
       "      <td>Sunghursh</td>\n",
       "      <td>Sunghursh</td>\n",
       "      <td>2013</td>\n",
       "      <td>175.0</td>\n",
       "      <td>Action,Crime,Drama</td>\n",
       "      <td>7.0</td>\n",
       "      <td>77</td>\n",
       "      <td>IN</td>\n",
       "      <td>NaN</td>\n",
       "      <td>NA_Studio</td>\n",
       "      <td>NA_year</td>\n",
       "      <td>-999999.0</td>\n",
       "      <td>dif_curency</td>\n",
       "      <td>Action</td>\n",
       "      <td>Crime</td>\n",
       "      <td>Drama</td>\n",
       "    </tr>\n",
       "    <tr>\n",
       "      <th>3</th>\n",
       "      <td>tt0063540</td>\n",
       "      <td>Sunghursh</td>\n",
       "      <td>Sunghursh</td>\n",
       "      <td>2013</td>\n",
       "      <td>175.0</td>\n",
       "      <td>Action,Crime,Drama</td>\n",
       "      <td>7.0</td>\n",
       "      <td>77</td>\n",
       "      <td>IN</td>\n",
       "      <td>NaN</td>\n",
       "      <td>NA_Studio</td>\n",
       "      <td>NA_year</td>\n",
       "      <td>-999999.0</td>\n",
       "      <td>dif_curency</td>\n",
       "      <td>Action</td>\n",
       "      <td>Crime</td>\n",
       "      <td>Drama</td>\n",
       "    </tr>\n",
       "    <tr>\n",
       "      <th>4</th>\n",
       "      <td>tt0063540</td>\n",
       "      <td>Sunghursh</td>\n",
       "      <td>Sunghursh</td>\n",
       "      <td>2013</td>\n",
       "      <td>175.0</td>\n",
       "      <td>Action,Crime,Drama</td>\n",
       "      <td>7.0</td>\n",
       "      <td>77</td>\n",
       "      <td>IN</td>\n",
       "      <td>NaN</td>\n",
       "      <td>NA_Studio</td>\n",
       "      <td>NA_year</td>\n",
       "      <td>-999999.0</td>\n",
       "      <td>dif_curency</td>\n",
       "      <td>Action</td>\n",
       "      <td>Crime</td>\n",
       "      <td>Drama</td>\n",
       "    </tr>\n",
       "    <tr>\n",
       "      <th>7</th>\n",
       "      <td>tt0066787</td>\n",
       "      <td>One Day Before the Rainy Season</td>\n",
       "      <td>Ashad Ka Ek Din</td>\n",
       "      <td>2019</td>\n",
       "      <td>114.0</td>\n",
       "      <td>Biography,Drama</td>\n",
       "      <td>7.2</td>\n",
       "      <td>43</td>\n",
       "      <td>IN</td>\n",
       "      <td>NaN</td>\n",
       "      <td>NA_Studio</td>\n",
       "      <td>NA_year</td>\n",
       "      <td>-999999.0</td>\n",
       "      <td>dif_curency</td>\n",
       "      <td>Biography</td>\n",
       "      <td>Drama</td>\n",
       "      <td>NA_genre3</td>\n",
       "    </tr>\n",
       "  </tbody>\n",
       "</table>\n",
       "</div>"
      ],
      "text/plain": [
       "     movieid                     primarytitle    originaltitle  startyear  \\\n",
       "1  tt0063540                        Sunghursh        Sunghursh       2013   \n",
       "2  tt0063540                        Sunghursh        Sunghursh       2013   \n",
       "3  tt0063540                        Sunghursh        Sunghursh       2013   \n",
       "4  tt0063540                        Sunghursh        Sunghursh       2013   \n",
       "7  tt0066787  One Day Before the Rainy Season  Ashad Ka Ek Din       2019   \n",
       "\n",
       "   runtimeminutes              genres  averagerating  numvotes region title  \\\n",
       "1           175.0  Action,Crime,Drama            7.0        77     IN   NaN   \n",
       "2           175.0  Action,Crime,Drama            7.0        77     IN   NaN   \n",
       "3           175.0  Action,Crime,Drama            7.0        77     IN   NaN   \n",
       "4           175.0  Action,Crime,Drama            7.0        77     IN   NaN   \n",
       "7           114.0     Biography,Drama            7.2        43     IN   NaN   \n",
       "\n",
       "      studio     year  totalgross totalgrossusa     genre1 genre2     genre3  \n",
       "1  NA_Studio  NA_year   -999999.0   dif_curency     Action  Crime      Drama  \n",
       "2  NA_Studio  NA_year   -999999.0   dif_curency     Action  Crime      Drama  \n",
       "3  NA_Studio  NA_year   -999999.0   dif_curency     Action  Crime      Drama  \n",
       "4  NA_Studio  NA_year   -999999.0   dif_curency     Action  Crime      Drama  \n",
       "7  NA_Studio  NA_year   -999999.0   dif_curency  Biography  Drama  NA_genre3  "
      ]
     },
     "execution_count": 79,
     "metadata": {},
     "output_type": "execute_result"
    }
   ],
   "source": [
    "df_clean.head()"
   ]
  },
  {
   "cell_type": "markdown",
   "metadata": {},
   "source": [
    "\n",
    "##### Runtime Cleaning\n",
    "<br>\n",
    "Handling outliers that have significantly longer runtimes than most"
   ]
  },
  {
   "cell_type": "code",
   "execution_count": 47,
   "metadata": {},
   "outputs": [
    {
     "data": {
      "text/plain": [
       "count    178805.00000\n",
       "mean        102.24336\n",
       "std          39.60074\n",
       "min           8.00000\n",
       "25%          90.00000\n",
       "50%          99.00000\n",
       "75%         112.00000\n",
       "max       14400.00000\n",
       "Name: runtimeminutes, dtype: float64"
      ]
     },
     "execution_count": 47,
     "metadata": {},
     "output_type": "execute_result"
    }
   ],
   "source": [
    "df_clean['runtimeminutes'].describe()"
   ]
  },
  {
   "cell_type": "markdown",
   "metadata": {},
   "source": [
    "When checking **outliers** with _.describe()_ \n",
    "<br>\n",
    "<br>\n",
    "We can observe the **longest** runtimeminutes value is **14400.000000** minutes... thats a very long movie\n",
    "<br>\n",
    "<br>\n",
    "Using a seaborn blox plot we can see the _spread of the **outliers**;_"
   ]
  },
  {
   "cell_type": "markdown",
   "metadata": {},
   "source": [
    "<br>\n",
    "Checking;"
   ]
  },
  {
   "cell_type": "code",
   "execution_count": 48,
   "metadata": {},
   "outputs": [
    {
     "name": "stderr",
     "output_type": "stream",
     "text": [
      "C:\\Users\\16047\\anaconda3\\envs\\learn-env\\lib\\site-packages\\seaborn\\_decorators.py:36: FutureWarning: Pass the following variable as a keyword arg: x. From version 0.12, the only valid positional argument will be `data`, and passing other arguments without an explicit keyword will result in an error or misinterpretation.\n",
      "  warnings.warn(\n"
     ]
    },
    {
     "data": {
      "text/plain": [
       "<AxesSubplot:xlabel='runtimeminutes'>"
      ]
     },
     "execution_count": 48,
     "metadata": {},
     "output_type": "execute_result"
    },
    {
     "data": {
      "image/png": "[encoded data removed]",
      "text/plain": [
       "<Figure size 432x288 with 1 Axes>"
      ]
     },
     "metadata": {
      "needs_background": "light"
     },
     "output_type": "display_data"
    }
   ],
   "source": [
    "sns.boxplot(df_clean['runtimeminutes'])"
   ]
  },
  {
   "cell_type": "markdown",
   "metadata": {},
   "source": [
    "<br>\n",
    "After looking at this boxplot _we can conqure that_ we will **drop** any movies that are **longer than 333.0 minutes** for a cleaner data set\n",
    "<br>\n",
    "<br>"
   ]
  },
  {
   "cell_type": "code",
   "execution_count": 49,
   "metadata": {},
   "outputs": [],
   "source": [
    "df_clean = df_clean[df_clean['runtimeminutes'] <= 333.0]"
   ]
  },
  {
   "cell_type": "markdown",
   "metadata": {},
   "source": [
    "<br>\n",
    "Checking;"
   ]
  },
  {
   "cell_type": "code",
   "execution_count": 50,
   "metadata": {},
   "outputs": [
    {
     "data": {
      "text/plain": [
       "count    178764.000000\n",
       "mean        102.077113\n",
       "std          19.551550\n",
       "min           8.000000\n",
       "25%          90.000000\n",
       "50%          99.000000\n",
       "75%         112.000000\n",
       "max         325.000000\n",
       "Name: runtimeminutes, dtype: float64"
      ]
     },
     "execution_count": 50,
     "metadata": {},
     "output_type": "execute_result"
    }
   ],
   "source": [
    "df_clean['runtimeminutes'].describe()"
   ]
  },
  {
   "cell_type": "code",
   "execution_count": 51,
   "metadata": {
    "scrolled": true
   },
   "outputs": [
    {
     "name": "stderr",
     "output_type": "stream",
     "text": [
      "C:\\Users\\16047\\anaconda3\\envs\\learn-env\\lib\\site-packages\\seaborn\\_decorators.py:36: FutureWarning: Pass the following variable as a keyword arg: x. From version 0.12, the only valid positional argument will be `data`, and passing other arguments without an explicit keyword will result in an error or misinterpretation.\n",
      "  warnings.warn(\n"
     ]
    },
    {
     "data": {
      "text/plain": [
       "<AxesSubplot:xlabel='runtimeminutes'>"
      ]
     },
     "execution_count": 51,
     "metadata": {},
     "output_type": "execute_result"
    },
    {
     "data": {
      "image/png": "[encoded data removed]",
      "text/plain": [
       "<Figure size 432x288 with 1 Axes>"
      ]
     },
     "metadata": {
      "needs_background": "light"
     },
     "output_type": "display_data"
    }
   ],
   "source": [
    "sns.boxplot(df_clean['runtimeminutes'])"
   ]
  },
  {
   "cell_type": "markdown",
   "metadata": {},
   "source": [
    "We can now actually see something from this box chart, there are still many outliers but after research we are able o conclude 333 minutes will include up to 97% of our data. "
   ]
  },
  {
   "cell_type": "markdown",
   "metadata": {},
   "source": [
    "##### Null cleaning\n",
    "Checking null values throughout the whole data set;"
   ]
  },
  {
   "cell_type": "code",
   "execution_count": 69,
   "metadata": {},
   "outputs": [
    {
     "data": {
      "text/plain": [
       "movieid                0\n",
       "primarytitle           0\n",
       "originaltitle          0\n",
       "startyear              0\n",
       "runtimeminutes         0\n",
       "genres                 0\n",
       "averagerating          0\n",
       "numvotes               0\n",
       "region                 0\n",
       "title             141035\n",
       "studio                 0\n",
       "year              141035\n",
       "totalgross             0\n",
       "totalgrossusa          0\n",
       "genre1                 0\n",
       "genre2             48961\n",
       "genre3             98005\n",
       "dtype: int64"
      ]
     },
     "execution_count": 69,
     "metadata": {},
     "output_type": "execute_result"
    }
   ],
   "source": [
    "df_clean.isnull().sum()"
   ]
  },
  {
   "cell_type": "markdown",
   "metadata": {},
   "source": [
    "Starting with 'studio' column;"
   ]
  },
  {
   "cell_type": "code",
   "execution_count": 53,
   "metadata": {},
   "outputs": [],
   "source": [
    "df_clean['studio'] = df_clean['studio'].fillna('NA_Studio')"
   ]
  },
  {
   "cell_type": "code",
   "execution_count": 68,
   "metadata": {},
   "outputs": [
    {
     "data": {
      "text/plain": [
       "0"
      ]
     },
     "execution_count": 68,
     "metadata": {},
     "output_type": "execute_result"
    }
   ],
   "source": [
    "df_clean['studio'].isnull().sum()"
   ]
  },
  {
   "cell_type": "markdown",
   "metadata": {},
   "source": [
    "<br>\n",
    "The 'genre2' column;"
   ]
  },
  {
   "cell_type": "code",
   "execution_count": 73,
   "metadata": {},
   "outputs": [],
   "source": [
    "df_clean['genre2'] = df_clean['genre2'].fillna('NA_genre2')"
   ]
  },
  {
   "cell_type": "code",
   "execution_count": 75,
   "metadata": {
    "scrolled": true
   },
   "outputs": [
    {
     "data": {
      "text/plain": [
       "0"
      ]
     },
     "execution_count": 75,
     "metadata": {},
     "output_type": "execute_result"
    }
   ],
   "source": [
    "df_clean['genre2'].isnull().sum()"
   ]
  },
  {
   "cell_type": "markdown",
   "metadata": {},
   "source": [
    "<br>\n",
    "The 'genre3' column;"
   ]
  },
  {
   "cell_type": "code",
   "execution_count": 76,
   "metadata": {},
   "outputs": [],
   "source": [
    "df_clean['genre3'] = df_clean['genre3'].fillna('NA_genre3')"
   ]
  },
  {
   "cell_type": "code",
   "execution_count": 77,
   "metadata": {
    "scrolled": true
   },
   "outputs": [
    {
     "data": {
      "text/plain": [
       "0"
      ]
     },
     "execution_count": 77,
     "metadata": {},
     "output_type": "execute_result"
    }
   ],
   "source": [
    "df_clean['genre3'].isnull().sum()"
   ]
  },
  {
   "cell_type": "markdown",
   "metadata": {},
   "source": [
    "##### Column cleaning\n",
    "Cleaning unnecessary columns throughout the whole data set;"
   ]
  },
  {
   "cell_type": "markdown",
   "metadata": {},
   "source": [
    "Dropping the 'title' column because it has many null values and we have our 'primarytitle' column;"
   ]
  },
  {
   "cell_type": "code",
   "execution_count": 80,
   "metadata": {},
   "outputs": [],
   "source": [
    "df_clean = df_clean.drop('title', axis = 1)"
   ]
  },
  {
   "cell_type": "markdown",
   "metadata": {},
   "source": [
    "Dropping the 'year' column because it has many null values and we have our 'startyear' column;"
   ]
  },
  {
   "cell_type": "code",
   "execution_count": 81,
   "metadata": {},
   "outputs": [],
   "source": [
    "df_clean = df_clean.drop('year', axis = 1)"
   ]
  },
  {
   "cell_type": "markdown",
   "metadata": {},
   "source": [
    "Dropping the 'originaltitle' column because it has many null values and we have our 'primarytitle' column;"
   ]
  },
  {
   "cell_type": "code",
   "execution_count": 82,
   "metadata": {},
   "outputs": [],
   "source": [
    "df_clean = df_clean.drop('originaltitle', axis = 1)"
   ]
  },
  {
   "cell_type": "markdown",
   "metadata": {},
   "source": [
    "<br>\n",
    "Checking;"
   ]
  },
  {
   "cell_type": "code",
   "execution_count": 83,
   "metadata": {},
   "outputs": [
    {
     "data": {
      "text/html": [
       "<div>\n",
       "<style scoped>\n",
       "    .dataframe tbody tr th:only-of-type {\n",
       "        vertical-align: middle;\n",
       "    }\n",
       "\n",
       "    .dataframe tbody tr th {\n",
       "        vertical-align: top;\n",
       "    }\n",
       "\n",
       "    .dataframe thead th {\n",
       "        text-align: right;\n",
       "    }\n",
       "</style>\n",
       "<table border=\"1\" class=\"dataframe\">\n",
       "  <thead>\n",
       "    <tr style=\"text-align: right;\">\n",
       "      <th></th>\n",
       "      <th>movieid</th>\n",
       "      <th>primarytitle</th>\n",
       "      <th>startyear</th>\n",
       "      <th>runtimeminutes</th>\n",
       "      <th>genres</th>\n",
       "      <th>averagerating</th>\n",
       "      <th>numvotes</th>\n",
       "      <th>region</th>\n",
       "      <th>studio</th>\n",
       "      <th>totalgross</th>\n",
       "      <th>totalgrossusa</th>\n",
       "      <th>genre1</th>\n",
       "      <th>genre2</th>\n",
       "      <th>genre3</th>\n",
       "    </tr>\n",
       "  </thead>\n",
       "  <tbody>\n",
       "    <tr>\n",
       "      <th>1</th>\n",
       "      <td>tt0063540</td>\n",
       "      <td>Sunghursh</td>\n",
       "      <td>2013</td>\n",
       "      <td>175.0</td>\n",
       "      <td>Action,Crime,Drama</td>\n",
       "      <td>7.0</td>\n",
       "      <td>77</td>\n",
       "      <td>IN</td>\n",
       "      <td>NA_Studio</td>\n",
       "      <td>-999999.0</td>\n",
       "      <td>dif_curency</td>\n",
       "      <td>Action</td>\n",
       "      <td>Crime</td>\n",
       "      <td>Drama</td>\n",
       "    </tr>\n",
       "    <tr>\n",
       "      <th>2</th>\n",
       "      <td>tt0063540</td>\n",
       "      <td>Sunghursh</td>\n",
       "      <td>2013</td>\n",
       "      <td>175.0</td>\n",
       "      <td>Action,Crime,Drama</td>\n",
       "      <td>7.0</td>\n",
       "      <td>77</td>\n",
       "      <td>IN</td>\n",
       "      <td>NA_Studio</td>\n",
       "      <td>-999999.0</td>\n",
       "      <td>dif_curency</td>\n",
       "      <td>Action</td>\n",
       "      <td>Crime</td>\n",
       "      <td>Drama</td>\n",
       "    </tr>\n",
       "    <tr>\n",
       "      <th>3</th>\n",
       "      <td>tt0063540</td>\n",
       "      <td>Sunghursh</td>\n",
       "      <td>2013</td>\n",
       "      <td>175.0</td>\n",
       "      <td>Action,Crime,Drama</td>\n",
       "      <td>7.0</td>\n",
       "      <td>77</td>\n",
       "      <td>IN</td>\n",
       "      <td>NA_Studio</td>\n",
       "      <td>-999999.0</td>\n",
       "      <td>dif_curency</td>\n",
       "      <td>Action</td>\n",
       "      <td>Crime</td>\n",
       "      <td>Drama</td>\n",
       "    </tr>\n",
       "    <tr>\n",
       "      <th>4</th>\n",
       "      <td>tt0063540</td>\n",
       "      <td>Sunghursh</td>\n",
       "      <td>2013</td>\n",
       "      <td>175.0</td>\n",
       "      <td>Action,Crime,Drama</td>\n",
       "      <td>7.0</td>\n",
       "      <td>77</td>\n",
       "      <td>IN</td>\n",
       "      <td>NA_Studio</td>\n",
       "      <td>-999999.0</td>\n",
       "      <td>dif_curency</td>\n",
       "      <td>Action</td>\n",
       "      <td>Crime</td>\n",
       "      <td>Drama</td>\n",
       "    </tr>\n",
       "    <tr>\n",
       "      <th>7</th>\n",
       "      <td>tt0066787</td>\n",
       "      <td>One Day Before the Rainy Season</td>\n",
       "      <td>2019</td>\n",
       "      <td>114.0</td>\n",
       "      <td>Biography,Drama</td>\n",
       "      <td>7.2</td>\n",
       "      <td>43</td>\n",
       "      <td>IN</td>\n",
       "      <td>NA_Studio</td>\n",
       "      <td>-999999.0</td>\n",
       "      <td>dif_curency</td>\n",
       "      <td>Biography</td>\n",
       "      <td>Drama</td>\n",
       "      <td>NA_genre3</td>\n",
       "    </tr>\n",
       "  </tbody>\n",
       "</table>\n",
       "</div>"
      ],
      "text/plain": [
       "     movieid                     primarytitle  startyear  runtimeminutes  \\\n",
       "1  tt0063540                        Sunghursh       2013           175.0   \n",
       "2  tt0063540                        Sunghursh       2013           175.0   \n",
       "3  tt0063540                        Sunghursh       2013           175.0   \n",
       "4  tt0063540                        Sunghursh       2013           175.0   \n",
       "7  tt0066787  One Day Before the Rainy Season       2019           114.0   \n",
       "\n",
       "               genres  averagerating  numvotes region     studio  totalgross  \\\n",
       "1  Action,Crime,Drama            7.0        77     IN  NA_Studio   -999999.0   \n",
       "2  Action,Crime,Drama            7.0        77     IN  NA_Studio   -999999.0   \n",
       "3  Action,Crime,Drama            7.0        77     IN  NA_Studio   -999999.0   \n",
       "4  Action,Crime,Drama            7.0        77     IN  NA_Studio   -999999.0   \n",
       "7     Biography,Drama            7.2        43     IN  NA_Studio   -999999.0   \n",
       "\n",
       "  totalgrossusa     genre1 genre2     genre3  \n",
       "1   dif_curency     Action  Crime      Drama  \n",
       "2   dif_curency     Action  Crime      Drama  \n",
       "3   dif_curency     Action  Crime      Drama  \n",
       "4   dif_curency     Action  Crime      Drama  \n",
       "7   dif_curency  Biography  Drama  NA_genre3  "
      ]
     },
     "execution_count": 83,
     "metadata": {},
     "output_type": "execute_result"
    }
   ],
   "source": [
    "df_clean.head()"
   ]
  },
  {
   "cell_type": "markdown",
   "metadata": {},
   "source": [
    "# Exploratory Data Analysis\n",
    "What we found:\n",
    "- Data freshness, years are from 2010-2019. This is slightly stale.\n",
    "- Explore the top genres and genre combinations\n",
    "- Explore runtime\n",
    "- Explore how ratings is related to gross\n"
   ]
  },
  {
   "cell_type": "code",
   "execution_count": 55,
   "metadata": {},
   "outputs": [],
   "source": [
    "# Update the revenue filter to only include good values\n",
    "has_rev_filter = df_clean['totalgross'] != -999999"
   ]
  },
  {
   "cell_type": "markdown",
   "metadata": {},
   "source": [
    "### Data Freshness"
   ]
  },
  {
   "cell_type": "code",
   "execution_count": 56,
   "metadata": {},
   "outputs": [
    {
     "data": {
      "text/plain": [
       "count    266085.000000\n",
       "mean       2014.163876\n",
       "std           2.594150\n",
       "min        2010.000000\n",
       "25%        2012.000000\n",
       "50%        2014.000000\n",
       "75%        2016.000000\n",
       "max        2019.000000\n",
       "Name: startyear, dtype: float64"
      ]
     },
     "execution_count": 56,
     "metadata": {},
     "output_type": "execute_result"
    }
   ],
   "source": [
    "df_imdb['startyear'].describe()"
   ]
  },
  {
   "cell_type": "code",
   "execution_count": 57,
   "metadata": {},
   "outputs": [
    {
     "data": {
      "image/png": "[encoded data removed]",
      "text/plain": [
       "<Figure size 432x288 with 1 Axes>"
      ]
     },
     "metadata": {
      "needs_background": "light"
     },
     "output_type": "display_data"
    }
   ],
   "source": [
    "# Check how much data we have for each year\n",
    "df_clean.groupby('startyear')['movieid'].count().plot.bar();"
   ]
  },
  {
   "cell_type": "markdown",
   "metadata": {},
   "source": [
    "**Observations**\n",
    "- This data is from a range of years so we may want to adjust any money values for inflation\n",
    "- This data does not include the COVID-19 pandemic so any recommendations would need to take that into account"
   ]
  },
  {
   "cell_type": "markdown",
   "metadata": {},
   "source": [
    "### Genres"
   ]
  },
  {
   "cell_type": "code",
   "execution_count": 58,
   "metadata": {},
   "outputs": [
    {
     "data": {
      "text/plain": [
       "['Drama',\n",
       " 'Comedy',\n",
       " 'Documentary',\n",
       " 'Comedy,Drama',\n",
       " 'Drama,Romance',\n",
       " 'Comedy,Drama,Romance',\n",
       " 'Adventure,Animation,Comedy',\n",
       " 'Comedy,Romance',\n",
       " 'Horror',\n",
       " 'Drama,Thriller']"
      ]
     },
     "execution_count": 58,
     "metadata": {},
     "output_type": "execute_result"
    }
   ],
   "source": [
    "# First let's find the top genres\n",
    "top_genres_combos = list(df_clean.groupby('genres').count().reset_index().nlargest(10, columns='movieid')['genres'])\n",
    "top_genres_combos"
   ]
  },
  {
   "cell_type": "code",
   "execution_count": 59,
   "metadata": {},
   "outputs": [],
   "source": [
    "# Create a filter for only top genres\n",
    "top_genre_combos_filter = df_clean['genres'].isin(top_genres_combos)"
   ]
  },
  {
   "cell_type": "code",
   "execution_count": 60,
   "metadata": {},
   "outputs": [
    {
     "data": {
      "image/png": "[encoded data removed]",
      "text/plain": [
       "<Figure size 432x288 with 1 Axes>"
      ]
     },
     "metadata": {
      "needs_background": "light"
     },
     "output_type": "display_data"
    }
   ],
   "source": [
    "# Compare total gross revenue for top genres\n",
    "top_genre_combos = df_clean[top_genre_combos_filter].groupby('genres')['totalgross'].mean().reset_index()\n",
    "sns.barplot(data=top_genre_combos, x='totalgross', y='genres');"
   ]
  },
  {
   "cell_type": "markdown",
   "metadata": {},
   "source": [
    "**Observations**\n",
    "- There are similar combinations (Comedy vs. Comedy,Drama) so we may want to split those out\n",
    "- One category is much higher than the others, it turned out the there were different currencies here so we needed to split out USD only\n",
    "\n",
    "Are the differences signficiant however, let's find out?"
   ]
  },
  {
   "cell_type": "code",
   "execution_count": 61,
   "metadata": {},
   "outputs": [
    {
     "name": "stdout",
     "output_type": "stream",
     "text": [
      "                             Multiple Comparison of Means - Tukey HSD, FWER=0.05                             \n",
      "=============================================================================================================\n",
      "          group1                  group2            meandiff    p-adj       lower           upper      reject\n",
      "-------------------------------------------------------------------------------------------------------------\n",
      "Adventure,Animation,Comedy               Comedy -223146589.5217  0.001 -228202425.0885 -218090753.9549   True\n",
      "Adventure,Animation,Comedy         Comedy,Drama -230119227.7409  0.001 -235286298.6547  -224952156.827   True\n",
      "Adventure,Animation,Comedy Comedy,Drama,Romance -221314920.1809  0.001 -227020900.0814 -215608940.2804   True\n",
      "Adventure,Animation,Comedy       Comedy,Romance -213756719.9321  0.001 -219756594.3566 -207756845.5076   True\n",
      "Adventure,Animation,Comedy          Documentary -236423432.8444  0.001 -241524586.8268  -231322278.862   True\n",
      "Adventure,Animation,Comedy                Drama -235141830.1993  0.001  -239682238.558 -230601421.8406   True\n",
      "Adventure,Animation,Comedy        Drama,Romance -224971812.8844  0.001  -230555537.287 -219388088.4817   True\n",
      "Adventure,Animation,Comedy       Drama,Thriller -226827714.3047  0.001 -233264686.5422 -220390742.0673   True\n",
      "Adventure,Animation,Comedy               Horror -232463644.7109  0.001  -238846704.376 -226080585.0457   True\n",
      "                    Comedy         Comedy,Drama   -6972638.2192  0.001  -11229129.1579   -2716147.2804   True\n",
      "                    Comedy Comedy,Drama,Romance    1831669.3408    0.9   -3064992.7782    6728331.4598  False\n",
      "                    Comedy       Comedy,Romance    9389869.5896  0.001     4153689.074   14626050.1052   True\n",
      "                    Comedy          Documentary  -13276843.3227  0.001   -17453069.518   -9100617.1274   True\n",
      "                    Comedy                Drama  -11995240.6776  0.001  -15464304.1457   -8526177.2094   True\n",
      "                    Comedy        Drama,Romance   -1825223.3627    0.9   -6578861.0736    2928414.3483  False\n",
      "                    Comedy       Drama,Thriller    -3681124.783 0.5653    -9412939.929    2050690.3629  False\n",
      "                    Comedy               Horror   -9317055.1892  0.001  -14988258.2336   -3645852.1447   True\n",
      "              Comedy,Drama Comedy,Drama,Romance      8804307.56  0.001    3792875.7827   13815739.3373   True\n",
      "              Comedy,Drama       Comedy,Romance   16362507.8087  0.001   11018844.7446   21706170.8729   True\n",
      "              Comedy,Drama          Documentary   -6304205.1035  0.001  -10614427.1147   -1993983.0924   True\n",
      "              Comedy,Drama                Drama   -5022602.4584  0.001   -8651865.4548    -1393339.462   True\n",
      "              Comedy,Drama        Drama,Romance    5147414.8565 0.0285      275636.943   10019192.7699   True\n",
      "              Comedy,Drama       Drama,Thriller    3291513.4361 0.7164   -2538654.0931    9121680.9653  False\n",
      "              Comedy,Drama               Horror     -2344416.97    0.9   -8115005.5468    3426171.6067  False\n",
      "      Comedy,Drama,Romance       Comedy,Romance    7558200.2488 0.0019    1691828.3087   13424572.1888   True\n",
      "      Comedy,Drama,Romance          Documentary  -15108512.6635  0.001  -20051952.6178  -10165072.7092   True\n",
      "      Comedy,Drama,Romance                Drama  -13826910.0184  0.001  -18189378.8942   -9464441.1425   True\n",
      "      Comedy,Drama,Romance        Drama,Romance   -3656892.7035  0.507   -9096911.5301    1783126.1231  False\n",
      "      Comedy,Drama,Romance       Drama,Thriller   -5512794.1239 0.1492  -11825514.4736     799926.2259  False\n",
      "      Comedy,Drama,Romance               Horror    -11148724.53  0.001  -17406461.9261   -4890987.1339   True\n",
      "            Comedy,Romance          Documentary  -22666712.9123  0.001  -27946664.1493  -17386761.6752   True\n",
      "            Comedy,Romance                Drama  -21385110.2671  0.001  -26125513.3278  -16644707.2065   True\n",
      "            Comedy,Romance        Drama,Romance  -11215092.9523  0.001  -16962622.1012   -5467563.8033   True\n",
      "            Comedy,Romance       Drama,Thriller  -13070994.3726  0.001  -19650563.1046   -6491425.6407   True\n",
      "            Comedy,Romance               Horror  -18706924.7788  0.001   -25233758.912  -12180090.6455   True\n",
      "               Documentary                Drama    1281602.6451    0.9    -2253181.651    4816386.9412  False\n",
      "               Documentary        Drama,Romance     11451619.96  0.001    6649810.9091   16253429.0109   True\n",
      "               Documentary       Drama,Thriller    9595718.5396  0.001    3823890.0996   15367546.9797   True\n",
      "               Documentary               Horror    3959788.1335  0.464   -1751852.8431    9671429.1101  False\n",
      "                     Drama        Drama,Romance   10170017.3149  0.001    5968719.1497     14371315.48   True\n",
      "                     Drama       Drama,Thriller    8314115.8945  0.001    3031357.1784   13596874.6106   True\n",
      "                     Drama               Horror    2678185.4884  0.816   -2538746.4411    7895117.4178  False\n",
      "             Drama,Romance       Drama,Thriller   -1855901.4204    0.9   -8058337.2156    4346534.3749  False\n",
      "             Drama,Romance               Horror   -7491831.8265 0.0045  -13638298.2014   -1345365.4516   True\n",
      "            Drama,Thriller               Horror   -5635930.4061 0.2307  -12566708.3046    1294847.4924  False\n",
      "-------------------------------------------------------------------------------------------------------------\n"
     ]
    }
   ],
   "source": [
    "print(pairwise_tukeyhsd(df_clean[top_genre_combos_filter]['totalgross'], df_clean[top_genre_combos_filter]['genres']))"
   ]
  },
  {
   "cell_type": "markdown",
   "metadata": {},
   "source": [
    "**Observations**\n",
    "- [TBD]"
   ]
  },
  {
   "cell_type": "markdown",
   "metadata": {},
   "source": [
    "### Runtime\n",
    "What we found:\n",
    "- There were a significant number of outliers\n",
    "- There were movies with 5k runtime minutes, which is way too long for a movie\n",
    "- We will want to categorize these to see if there is an optimal length"
   ]
  },
  {
   "cell_type": "code",
   "execution_count": 62,
   "metadata": {},
   "outputs": [
    {
     "data": {
      "text/plain": [
       "count    178764.000000\n",
       "mean        102.077113\n",
       "std          19.551550\n",
       "min           8.000000\n",
       "25%          90.000000\n",
       "50%          99.000000\n",
       "75%         112.000000\n",
       "max         325.000000\n",
       "Name: runtimeminutes, dtype: float64"
      ]
     },
     "execution_count": 62,
     "metadata": {},
     "output_type": "execute_result"
    }
   ],
   "source": [
    "# Explore the column\n",
    "df_clean['runtimeminutes'].describe()"
   ]
  },
  {
   "cell_type": "code",
   "execution_count": 63,
   "metadata": {},
   "outputs": [
    {
     "ename": "KeyError",
     "evalue": "0",
     "output_type": "error",
     "traceback": [
      "\u001b[1;31m---------------------------------------------------------------------------\u001b[0m",
      "\u001b[1;31mKeyError\u001b[0m                                  Traceback (most recent call last)",
      "\u001b[1;32m~\\anaconda3\\envs\\learn-env\\lib\\site-packages\\pandas\\core\\indexes\\base.py\u001b[0m in \u001b[0;36mget_loc\u001b[1;34m(self, key, method, tolerance)\u001b[0m\n\u001b[0;32m   2894\u001b[0m             \u001b[1;32mtry\u001b[0m\u001b[1;33m:\u001b[0m\u001b[1;33m\u001b[0m\u001b[1;33m\u001b[0m\u001b[0m\n\u001b[1;32m-> 2895\u001b[1;33m                 \u001b[1;32mreturn\u001b[0m \u001b[0mself\u001b[0m\u001b[1;33m.\u001b[0m\u001b[0m_engine\u001b[0m\u001b[1;33m.\u001b[0m\u001b[0mget_loc\u001b[0m\u001b[1;33m(\u001b[0m\u001b[0mcasted_key\u001b[0m\u001b[1;33m)\u001b[0m\u001b[1;33m\u001b[0m\u001b[1;33m\u001b[0m\u001b[0m\n\u001b[0m\u001b[0;32m   2896\u001b[0m             \u001b[1;32mexcept\u001b[0m \u001b[0mKeyError\u001b[0m \u001b[1;32mas\u001b[0m \u001b[0merr\u001b[0m\u001b[1;33m:\u001b[0m\u001b[1;33m\u001b[0m\u001b[1;33m\u001b[0m\u001b[0m\n",
      "\u001b[1;32mpandas\\_libs\\index.pyx\u001b[0m in \u001b[0;36mpandas._libs.index.IndexEngine.get_loc\u001b[1;34m()\u001b[0m\n",
      "\u001b[1;32mpandas\\_libs\\index.pyx\u001b[0m in \u001b[0;36mpandas._libs.index.IndexEngine.get_loc\u001b[1;34m()\u001b[0m\n",
      "\u001b[1;32mpandas\\_libs\\hashtable_class_helper.pxi\u001b[0m in \u001b[0;36mpandas._libs.hashtable.Int64HashTable.get_item\u001b[1;34m()\u001b[0m\n",
      "\u001b[1;32mpandas\\_libs\\hashtable_class_helper.pxi\u001b[0m in \u001b[0;36mpandas._libs.hashtable.Int64HashTable.get_item\u001b[1;34m()\u001b[0m\n",
      "\u001b[1;31mKeyError\u001b[0m: 0",
      "\nThe above exception was the direct cause of the following exception:\n",
      "\u001b[1;31mKeyError\u001b[0m                                  Traceback (most recent call last)",
      "\u001b[1;32m<ipython-input-63-c653941f0dc9>\u001b[0m in \u001b[0;36m<module>\u001b[1;34m\u001b[0m\n\u001b[0;32m      1\u001b[0m \u001b[1;31m# Let's explore the runtime data\u001b[0m\u001b[1;33m\u001b[0m\u001b[1;33m\u001b[0m\u001b[1;33m\u001b[0m\u001b[0m\n\u001b[1;32m----> 2\u001b[1;33m \u001b[0msns\u001b[0m\u001b[1;33m.\u001b[0m\u001b[0mboxplot\u001b[0m\u001b[1;33m(\u001b[0m\u001b[0mdata\u001b[0m\u001b[1;33m=\u001b[0m\u001b[0mdf_clean\u001b[0m\u001b[1;33m[\u001b[0m\u001b[1;34m'runtimeminutes'\u001b[0m\u001b[1;33m]\u001b[0m\u001b[1;33m)\u001b[0m\u001b[1;33m;\u001b[0m\u001b[1;33m\u001b[0m\u001b[1;33m\u001b[0m\u001b[0m\n\u001b[0m",
      "\u001b[1;32m~\\anaconda3\\envs\\learn-env\\lib\\site-packages\\seaborn\\_decorators.py\u001b[0m in \u001b[0;36minner_f\u001b[1;34m(*args, **kwargs)\u001b[0m\n\u001b[0;32m     44\u001b[0m             )\n\u001b[0;32m     45\u001b[0m         \u001b[0mkwargs\u001b[0m\u001b[1;33m.\u001b[0m\u001b[0mupdate\u001b[0m\u001b[1;33m(\u001b[0m\u001b[1;33m{\u001b[0m\u001b[0mk\u001b[0m\u001b[1;33m:\u001b[0m \u001b[0marg\u001b[0m \u001b[1;32mfor\u001b[0m \u001b[0mk\u001b[0m\u001b[1;33m,\u001b[0m \u001b[0marg\u001b[0m \u001b[1;32min\u001b[0m \u001b[0mzip\u001b[0m\u001b[1;33m(\u001b[0m\u001b[0msig\u001b[0m\u001b[1;33m.\u001b[0m\u001b[0mparameters\u001b[0m\u001b[1;33m,\u001b[0m \u001b[0margs\u001b[0m\u001b[1;33m)\u001b[0m\u001b[1;33m}\u001b[0m\u001b[1;33m)\u001b[0m\u001b[1;33m\u001b[0m\u001b[1;33m\u001b[0m\u001b[0m\n\u001b[1;32m---> 46\u001b[1;33m         \u001b[1;32mreturn\u001b[0m \u001b[0mf\u001b[0m\u001b[1;33m(\u001b[0m\u001b[1;33m**\u001b[0m\u001b[0mkwargs\u001b[0m\u001b[1;33m)\u001b[0m\u001b[1;33m\u001b[0m\u001b[1;33m\u001b[0m\u001b[0m\n\u001b[0m\u001b[0;32m     47\u001b[0m     \u001b[1;32mreturn\u001b[0m \u001b[0minner_f\u001b[0m\u001b[1;33m\u001b[0m\u001b[1;33m\u001b[0m\u001b[0m\n\u001b[0;32m     48\u001b[0m \u001b[1;33m\u001b[0m\u001b[0m\n",
      "\u001b[1;32m~\\anaconda3\\envs\\learn-env\\lib\\site-packages\\seaborn\\categorical.py\u001b[0m in \u001b[0;36mboxplot\u001b[1;34m(x, y, hue, data, order, hue_order, orient, color, palette, saturation, width, dodge, fliersize, linewidth, whis, ax, **kwargs)\u001b[0m\n\u001b[0;32m   2228\u001b[0m ):\n\u001b[0;32m   2229\u001b[0m \u001b[1;33m\u001b[0m\u001b[0m\n\u001b[1;32m-> 2230\u001b[1;33m     plotter = _BoxPlotter(x, y, hue, data, order, hue_order,\n\u001b[0m\u001b[0;32m   2231\u001b[0m                           \u001b[0morient\u001b[0m\u001b[1;33m,\u001b[0m \u001b[0mcolor\u001b[0m\u001b[1;33m,\u001b[0m \u001b[0mpalette\u001b[0m\u001b[1;33m,\u001b[0m \u001b[0msaturation\u001b[0m\u001b[1;33m,\u001b[0m\u001b[1;33m\u001b[0m\u001b[1;33m\u001b[0m\u001b[0m\n\u001b[0;32m   2232\u001b[0m                           width, dodge, fliersize, linewidth)\n",
      "\u001b[1;32m~\\anaconda3\\envs\\learn-env\\lib\\site-packages\\seaborn\\categorical.py\u001b[0m in \u001b[0;36m__init__\u001b[1;34m(self, x, y, hue, data, order, hue_order, orient, color, palette, saturation, width, dodge, fliersize, linewidth)\u001b[0m\n\u001b[0;32m    404\u001b[0m                  width, dodge, fliersize, linewidth):\n\u001b[0;32m    405\u001b[0m \u001b[1;33m\u001b[0m\u001b[0m\n\u001b[1;32m--> 406\u001b[1;33m         \u001b[0mself\u001b[0m\u001b[1;33m.\u001b[0m\u001b[0mestablish_variables\u001b[0m\u001b[1;33m(\u001b[0m\u001b[0mx\u001b[0m\u001b[1;33m,\u001b[0m \u001b[0my\u001b[0m\u001b[1;33m,\u001b[0m \u001b[0mhue\u001b[0m\u001b[1;33m,\u001b[0m \u001b[0mdata\u001b[0m\u001b[1;33m,\u001b[0m \u001b[0morient\u001b[0m\u001b[1;33m,\u001b[0m \u001b[0morder\u001b[0m\u001b[1;33m,\u001b[0m \u001b[0mhue_order\u001b[0m\u001b[1;33m)\u001b[0m\u001b[1;33m\u001b[0m\u001b[1;33m\u001b[0m\u001b[0m\n\u001b[0m\u001b[0;32m    407\u001b[0m         \u001b[0mself\u001b[0m\u001b[1;33m.\u001b[0m\u001b[0mestablish_colors\u001b[0m\u001b[1;33m(\u001b[0m\u001b[0mcolor\u001b[0m\u001b[1;33m,\u001b[0m \u001b[0mpalette\u001b[0m\u001b[1;33m,\u001b[0m \u001b[0msaturation\u001b[0m\u001b[1;33m)\u001b[0m\u001b[1;33m\u001b[0m\u001b[1;33m\u001b[0m\u001b[0m\n\u001b[0;32m    408\u001b[0m \u001b[1;33m\u001b[0m\u001b[0m\n",
      "\u001b[1;32m~\\anaconda3\\envs\\learn-env\\lib\\site-packages\\seaborn\\categorical.py\u001b[0m in \u001b[0;36mestablish_variables\u001b[1;34m(self, x, y, hue, data, orient, order, hue_order, units)\u001b[0m\n\u001b[0;32m     96\u001b[0m                 \u001b[1;32mif\u001b[0m \u001b[0mhasattr\u001b[0m\u001b[1;33m(\u001b[0m\u001b[0mdata\u001b[0m\u001b[1;33m,\u001b[0m \u001b[1;34m\"shape\"\u001b[0m\u001b[1;33m)\u001b[0m\u001b[1;33m:\u001b[0m\u001b[1;33m\u001b[0m\u001b[1;33m\u001b[0m\u001b[0m\n\u001b[0;32m     97\u001b[0m                     \u001b[1;32mif\u001b[0m \u001b[0mlen\u001b[0m\u001b[1;33m(\u001b[0m\u001b[0mdata\u001b[0m\u001b[1;33m.\u001b[0m\u001b[0mshape\u001b[0m\u001b[1;33m)\u001b[0m \u001b[1;33m==\u001b[0m \u001b[1;36m1\u001b[0m\u001b[1;33m:\u001b[0m\u001b[1;33m\u001b[0m\u001b[1;33m\u001b[0m\u001b[0m\n\u001b[1;32m---> 98\u001b[1;33m                         \u001b[1;32mif\u001b[0m \u001b[0mnp\u001b[0m\u001b[1;33m.\u001b[0m\u001b[0misscalar\u001b[0m\u001b[1;33m(\u001b[0m\u001b[0mdata\u001b[0m\u001b[1;33m[\u001b[0m\u001b[1;36m0\u001b[0m\u001b[1;33m]\u001b[0m\u001b[1;33m)\u001b[0m\u001b[1;33m:\u001b[0m\u001b[1;33m\u001b[0m\u001b[1;33m\u001b[0m\u001b[0m\n\u001b[0m\u001b[0;32m     99\u001b[0m                             \u001b[0mplot_data\u001b[0m \u001b[1;33m=\u001b[0m \u001b[1;33m[\u001b[0m\u001b[0mdata\u001b[0m\u001b[1;33m]\u001b[0m\u001b[1;33m\u001b[0m\u001b[1;33m\u001b[0m\u001b[0m\n\u001b[0;32m    100\u001b[0m                         \u001b[1;32melse\u001b[0m\u001b[1;33m:\u001b[0m\u001b[1;33m\u001b[0m\u001b[1;33m\u001b[0m\u001b[0m\n",
      "\u001b[1;32m~\\anaconda3\\envs\\learn-env\\lib\\site-packages\\pandas\\core\\series.py\u001b[0m in \u001b[0;36m__getitem__\u001b[1;34m(self, key)\u001b[0m\n\u001b[0;32m    880\u001b[0m \u001b[1;33m\u001b[0m\u001b[0m\n\u001b[0;32m    881\u001b[0m         \u001b[1;32melif\u001b[0m \u001b[0mkey_is_scalar\u001b[0m\u001b[1;33m:\u001b[0m\u001b[1;33m\u001b[0m\u001b[1;33m\u001b[0m\u001b[0m\n\u001b[1;32m--> 882\u001b[1;33m             \u001b[1;32mreturn\u001b[0m \u001b[0mself\u001b[0m\u001b[1;33m.\u001b[0m\u001b[0m_get_value\u001b[0m\u001b[1;33m(\u001b[0m\u001b[0mkey\u001b[0m\u001b[1;33m)\u001b[0m\u001b[1;33m\u001b[0m\u001b[1;33m\u001b[0m\u001b[0m\n\u001b[0m\u001b[0;32m    883\u001b[0m \u001b[1;33m\u001b[0m\u001b[0m\n\u001b[0;32m    884\u001b[0m         \u001b[1;32mif\u001b[0m \u001b[0mis_hashable\u001b[0m\u001b[1;33m(\u001b[0m\u001b[0mkey\u001b[0m\u001b[1;33m)\u001b[0m\u001b[1;33m:\u001b[0m\u001b[1;33m\u001b[0m\u001b[1;33m\u001b[0m\u001b[0m\n",
      "\u001b[1;32m~\\anaconda3\\envs\\learn-env\\lib\\site-packages\\pandas\\core\\series.py\u001b[0m in \u001b[0;36m_get_value\u001b[1;34m(self, label, takeable)\u001b[0m\n\u001b[0;32m    987\u001b[0m \u001b[1;33m\u001b[0m\u001b[0m\n\u001b[0;32m    988\u001b[0m         \u001b[1;31m# Similar to Index.get_value, but we do not fall back to positional\u001b[0m\u001b[1;33m\u001b[0m\u001b[1;33m\u001b[0m\u001b[1;33m\u001b[0m\u001b[0m\n\u001b[1;32m--> 989\u001b[1;33m         \u001b[0mloc\u001b[0m \u001b[1;33m=\u001b[0m \u001b[0mself\u001b[0m\u001b[1;33m.\u001b[0m\u001b[0mindex\u001b[0m\u001b[1;33m.\u001b[0m\u001b[0mget_loc\u001b[0m\u001b[1;33m(\u001b[0m\u001b[0mlabel\u001b[0m\u001b[1;33m)\u001b[0m\u001b[1;33m\u001b[0m\u001b[1;33m\u001b[0m\u001b[0m\n\u001b[0m\u001b[0;32m    990\u001b[0m         \u001b[1;32mreturn\u001b[0m \u001b[0mself\u001b[0m\u001b[1;33m.\u001b[0m\u001b[0mindex\u001b[0m\u001b[1;33m.\u001b[0m\u001b[0m_get_values_for_loc\u001b[0m\u001b[1;33m(\u001b[0m\u001b[0mself\u001b[0m\u001b[1;33m,\u001b[0m \u001b[0mloc\u001b[0m\u001b[1;33m,\u001b[0m \u001b[0mlabel\u001b[0m\u001b[1;33m)\u001b[0m\u001b[1;33m\u001b[0m\u001b[1;33m\u001b[0m\u001b[0m\n\u001b[0;32m    991\u001b[0m \u001b[1;33m\u001b[0m\u001b[0m\n",
      "\u001b[1;32m~\\anaconda3\\envs\\learn-env\\lib\\site-packages\\pandas\\core\\indexes\\base.py\u001b[0m in \u001b[0;36mget_loc\u001b[1;34m(self, key, method, tolerance)\u001b[0m\n\u001b[0;32m   2895\u001b[0m                 \u001b[1;32mreturn\u001b[0m \u001b[0mself\u001b[0m\u001b[1;33m.\u001b[0m\u001b[0m_engine\u001b[0m\u001b[1;33m.\u001b[0m\u001b[0mget_loc\u001b[0m\u001b[1;33m(\u001b[0m\u001b[0mcasted_key\u001b[0m\u001b[1;33m)\u001b[0m\u001b[1;33m\u001b[0m\u001b[1;33m\u001b[0m\u001b[0m\n\u001b[0;32m   2896\u001b[0m             \u001b[1;32mexcept\u001b[0m \u001b[0mKeyError\u001b[0m \u001b[1;32mas\u001b[0m \u001b[0merr\u001b[0m\u001b[1;33m:\u001b[0m\u001b[1;33m\u001b[0m\u001b[1;33m\u001b[0m\u001b[0m\n\u001b[1;32m-> 2897\u001b[1;33m                 \u001b[1;32mraise\u001b[0m \u001b[0mKeyError\u001b[0m\u001b[1;33m(\u001b[0m\u001b[0mkey\u001b[0m\u001b[1;33m)\u001b[0m \u001b[1;32mfrom\u001b[0m \u001b[0merr\u001b[0m\u001b[1;33m\u001b[0m\u001b[1;33m\u001b[0m\u001b[0m\n\u001b[0m\u001b[0;32m   2898\u001b[0m \u001b[1;33m\u001b[0m\u001b[0m\n\u001b[0;32m   2899\u001b[0m         \u001b[1;32mif\u001b[0m \u001b[0mtolerance\u001b[0m \u001b[1;32mis\u001b[0m \u001b[1;32mnot\u001b[0m \u001b[1;32mNone\u001b[0m\u001b[1;33m:\u001b[0m\u001b[1;33m\u001b[0m\u001b[1;33m\u001b[0m\u001b[0m\n",
      "\u001b[1;31mKeyError\u001b[0m: 0"
     ]
    }
   ],
   "source": [
    "# Let's explore the runtime data\n",
    "sns.boxplot(data=df_clean['runtimeminutes']);"
   ]
  },
  {
   "cell_type": "code",
   "execution_count": null,
   "metadata": {},
   "outputs": [],
   "source": []
  },
  {
   "cell_type": "markdown",
   "metadata": {},
   "source": [
    "# Modeling\n",
    "What we will be doing:\n",
    "- Categorize movies by genre (split out the genre string)\n",
    "- Categorize movies based on runtime"
   ]
  },
  {
   "cell_type": "markdown",
   "metadata": {},
   "source": [
    "### Genre"
   ]
  },
  {
   "cell_type": "markdown",
   "metadata": {},
   "source": [
    "The current state of our data is:\n",
    "- movie1: genre1, genre2, genre3\n",
    "\n",
    "We want to change that to:\n",
    "- genre1: movie1\n",
    "- genre2: movie1\n",
    "- genre3: movie1\n",
    "\n",
    "This will let us find the average gross revenue by individual genres.\n",
    "\n",
    "*Note: This approach does double count movies, we're handling this by also comparing the genre combinations*"
   ]
  },
  {
   "cell_type": "code",
   "execution_count": 64,
   "metadata": {},
   "outputs": [
    {
     "name": "stdout",
     "output_type": "stream",
     "text": [
      "<class 'pandas.core.frame.DataFrame'>\n",
      "Int64Index: 82969 entries, 152 to 257150\n",
      "Data columns (total 2 columns):\n",
      " #   Column      Non-Null Count  Dtype  \n",
      "---  ------      --------------  -----  \n",
      " 0   totalgross  82969 non-null  float64\n",
      " 1   genre       82969 non-null  object \n",
      "dtypes: float64(1), object(1)\n",
      "memory usage: 1.9+ MB\n"
     ]
    }
   ],
   "source": [
    "# Let's start by creating a new dataframe that counts movies for each genre\n",
    "temp_1 = df_clean[has_rev_filter][['totalgross','genre1']]\n",
    "temp_2 = df_clean[has_rev_filter][['totalgross','genre2']]\n",
    "temp_3 = df_clean[has_rev_filter][['totalgross','genre3']]\n",
    "\n",
    "temp_1.rename(columns={\"genre1\": \"genre\"}, inplace=True)\n",
    "temp_2.rename(columns={\"genre2\": \"genre\"}, inplace=True)\n",
    "temp_3.rename(columns={\"genre3\": \"genre\"}, inplace=True)\n",
    "\n",
    "genre_revenue = temp_1.append(temp_2).append(temp_3).dropna()\n",
    "genre_revenue.info()"
   ]
  },
  {
   "cell_type": "code",
   "execution_count": 65,
   "metadata": {},
   "outputs": [
    {
     "data": {
      "text/plain": [
       "Drama          13886\n",
       "Comedy         11815\n",
       "Action         10609\n",
       "Adventure      10163\n",
       "Thriller        5374\n",
       "Crime           4482\n",
       "Romance         4190\n",
       "Animation       3310\n",
       "Sci-Fi          3006\n",
       "Fantasy         2905\n",
       "Biography       2882\n",
       "Horror          2764\n",
       "Mystery         2560\n",
       "Family          1916\n",
       "History         1070\n",
       "Music            740\n",
       "Sport            445\n",
       "Documentary      386\n",
       "Western          174\n",
       "War              174\n",
       "Musical          118\n",
       "Name: genre, dtype: int64"
      ]
     },
     "execution_count": 65,
     "metadata": {},
     "output_type": "execute_result"
    }
   ],
   "source": [
    "# Let's check value counts\n",
    "genre_revenue['genre'].value_counts()"
   ]
  },
  {
   "cell_type": "code",
   "execution_count": 66,
   "metadata": {},
   "outputs": [
    {
     "data": {
      "text/html": [
       "<div>\n",
       "<style scoped>\n",
       "    .dataframe tbody tr th:only-of-type {\n",
       "        vertical-align: middle;\n",
       "    }\n",
       "\n",
       "    .dataframe tbody tr th {\n",
       "        vertical-align: top;\n",
       "    }\n",
       "\n",
       "    .dataframe thead tr th {\n",
       "        text-align: left;\n",
       "    }\n",
       "\n",
       "    .dataframe thead tr:last-of-type th {\n",
       "        text-align: right;\n",
       "    }\n",
       "</style>\n",
       "<table border=\"1\" class=\"dataframe\">\n",
       "  <thead>\n",
       "    <tr>\n",
       "      <th></th>\n",
       "      <th colspan=\"8\" halign=\"left\">totalgross</th>\n",
       "    </tr>\n",
       "    <tr>\n",
       "      <th></th>\n",
       "      <th>count</th>\n",
       "      <th>mean</th>\n",
       "      <th>std</th>\n",
       "      <th>min</th>\n",
       "      <th>25%</th>\n",
       "      <th>50%</th>\n",
       "      <th>75%</th>\n",
       "      <th>max</th>\n",
       "    </tr>\n",
       "    <tr>\n",
       "      <th>genre</th>\n",
       "      <th></th>\n",
       "      <th></th>\n",
       "      <th></th>\n",
       "      <th></th>\n",
       "      <th></th>\n",
       "      <th></th>\n",
       "      <th></th>\n",
       "      <th></th>\n",
       "    </tr>\n",
       "  </thead>\n",
       "  <tbody>\n",
       "    <tr>\n",
       "      <th>Action</th>\n",
       "      <td>10609.0</td>\n",
       "      <td>3.110103e+08</td>\n",
       "      <td>3.158366e+08</td>\n",
       "      <td>369500.0</td>\n",
       "      <td>72600000.0</td>\n",
       "      <td>177200000.0</td>\n",
       "      <td>467400000.0</td>\n",
       "      <td>1.405400e+09</td>\n",
       "    </tr>\n",
       "    <tr>\n",
       "      <th>Adventure</th>\n",
       "      <td>10163.0</td>\n",
       "      <td>4.052129e+08</td>\n",
       "      <td>3.379590e+08</td>\n",
       "      <td>624000.0</td>\n",
       "      <td>125811000.0</td>\n",
       "      <td>303000000.0</td>\n",
       "      <td>644600000.0</td>\n",
       "      <td>1.405400e+09</td>\n",
       "    </tr>\n",
       "    <tr>\n",
       "      <th>Animation</th>\n",
       "      <td>3310.0</td>\n",
       "      <td>4.239941e+08</td>\n",
       "      <td>3.222537e+08</td>\n",
       "      <td>1301500.0</td>\n",
       "      <td>147500000.0</td>\n",
       "      <td>351300000.0</td>\n",
       "      <td>591800000.0</td>\n",
       "      <td>1.276400e+09</td>\n",
       "    </tr>\n",
       "    <tr>\n",
       "      <th>Biography</th>\n",
       "      <td>2882.0</td>\n",
       "      <td>1.117756e+08</td>\n",
       "      <td>1.456223e+08</td>\n",
       "      <td>608000.0</td>\n",
       "      <td>22200000.0</td>\n",
       "      <td>60068500.0</td>\n",
       "      <td>140300000.0</td>\n",
       "      <td>9.036000e+08</td>\n",
       "    </tr>\n",
       "    <tr>\n",
       "      <th>Comedy</th>\n",
       "      <td>11815.0</td>\n",
       "      <td>1.952488e+08</td>\n",
       "      <td>2.403139e+08</td>\n",
       "      <td>104500.0</td>\n",
       "      <td>46100000.0</td>\n",
       "      <td>106200000.0</td>\n",
       "      <td>236400000.0</td>\n",
       "      <td>1.276400e+09</td>\n",
       "    </tr>\n",
       "    <tr>\n",
       "      <th>Crime</th>\n",
       "      <td>4482.0</td>\n",
       "      <td>1.083878e+08</td>\n",
       "      <td>1.280153e+08</td>\n",
       "      <td>55600.0</td>\n",
       "      <td>30733250.0</td>\n",
       "      <td>69000000.0</td>\n",
       "      <td>154000000.0</td>\n",
       "      <td>7.887000e+08</td>\n",
       "    </tr>\n",
       "    <tr>\n",
       "      <th>Documentary</th>\n",
       "      <td>386.0</td>\n",
       "      <td>1.402893e+07</td>\n",
       "      <td>2.031950e+07</td>\n",
       "      <td>49400.0</td>\n",
       "      <td>1828000.0</td>\n",
       "      <td>5400000.0</td>\n",
       "      <td>17110999.0</td>\n",
       "      <td>9.900000e+07</td>\n",
       "    </tr>\n",
       "    <tr>\n",
       "      <th>Drama</th>\n",
       "      <td>13886.0</td>\n",
       "      <td>1.072551e+08</td>\n",
       "      <td>1.370806e+08</td>\n",
       "      <td>55100.0</td>\n",
       "      <td>21100000.0</td>\n",
       "      <td>61000000.0</td>\n",
       "      <td>135500000.0</td>\n",
       "      <td>9.036000e+08</td>\n",
       "    </tr>\n",
       "    <tr>\n",
       "      <th>Family</th>\n",
       "      <td>1916.0</td>\n",
       "      <td>2.140266e+08</td>\n",
       "      <td>2.139373e+08</td>\n",
       "      <td>832300.0</td>\n",
       "      <td>60237000.0</td>\n",
       "      <td>150200000.0</td>\n",
       "      <td>299400000.0</td>\n",
       "      <td>1.021100e+09</td>\n",
       "    </tr>\n",
       "    <tr>\n",
       "      <th>Fantasy</th>\n",
       "      <td>2905.0</td>\n",
       "      <td>3.116925e+08</td>\n",
       "      <td>3.326924e+08</td>\n",
       "      <td>346700.0</td>\n",
       "      <td>74700000.0</td>\n",
       "      <td>151100000.0</td>\n",
       "      <td>449300000.0</td>\n",
       "      <td>1.332600e+09</td>\n",
       "    </tr>\n",
       "    <tr>\n",
       "      <th>History</th>\n",
       "      <td>1070.0</td>\n",
       "      <td>1.149242e+08</td>\n",
       "      <td>1.207442e+08</td>\n",
       "      <td>342300.0</td>\n",
       "      <td>16000000.0</td>\n",
       "      <td>67800000.0</td>\n",
       "      <td>177600000.0</td>\n",
       "      <td>5.252000e+08</td>\n",
       "    </tr>\n",
       "    <tr>\n",
       "      <th>Horror</th>\n",
       "      <td>2764.0</td>\n",
       "      <td>1.221619e+08</td>\n",
       "      <td>1.312807e+08</td>\n",
       "      <td>369500.0</td>\n",
       "      <td>38200000.0</td>\n",
       "      <td>85400000.0</td>\n",
       "      <td>146400000.0</td>\n",
       "      <td>8.071000e+08</td>\n",
       "    </tr>\n",
       "    <tr>\n",
       "      <th>Music</th>\n",
       "      <td>740.0</td>\n",
       "      <td>1.284352e+08</td>\n",
       "      <td>1.998593e+08</td>\n",
       "      <td>569000.0</td>\n",
       "      <td>20510000.0</td>\n",
       "      <td>73300000.0</td>\n",
       "      <td>115300000.0</td>\n",
       "      <td>9.036000e+08</td>\n",
       "    </tr>\n",
       "    <tr>\n",
       "      <th>Musical</th>\n",
       "      <td>118.0</td>\n",
       "      <td>2.309113e+08</td>\n",
       "      <td>1.788184e+08</td>\n",
       "      <td>193300.0</td>\n",
       "      <td>59400000.0</td>\n",
       "      <td>89500000.0</td>\n",
       "      <td>425000000.0</td>\n",
       "      <td>4.350000e+08</td>\n",
       "    </tr>\n",
       "    <tr>\n",
       "      <th>Mystery</th>\n",
       "      <td>2560.0</td>\n",
       "      <td>1.280289e+08</td>\n",
       "      <td>1.266372e+08</td>\n",
       "      <td>293100.0</td>\n",
       "      <td>33200000.0</td>\n",
       "      <td>85400000.0</td>\n",
       "      <td>167800000.0</td>\n",
       "      <td>5.868000e+08</td>\n",
       "    </tr>\n",
       "    <tr>\n",
       "      <th>Romance</th>\n",
       "      <td>4190.0</td>\n",
       "      <td>8.643692e+07</td>\n",
       "      <td>9.376711e+07</td>\n",
       "      <td>104500.0</td>\n",
       "      <td>25300000.0</td>\n",
       "      <td>59300000.0</td>\n",
       "      <td>119500000.0</td>\n",
       "      <td>5.710000e+08</td>\n",
       "    </tr>\n",
       "    <tr>\n",
       "      <th>Sci-Fi</th>\n",
       "      <td>3006.0</td>\n",
       "      <td>4.265206e+08</td>\n",
       "      <td>3.621175e+08</td>\n",
       "      <td>1756000.0</td>\n",
       "      <td>127200000.0</td>\n",
       "      <td>348300000.0</td>\n",
       "      <td>668000000.0</td>\n",
       "      <td>1.405400e+09</td>\n",
       "    </tr>\n",
       "    <tr>\n",
       "      <th>Sport</th>\n",
       "      <td>445.0</td>\n",
       "      <td>7.566333e+07</td>\n",
       "      <td>6.180117e+07</td>\n",
       "      <td>1701700.0</td>\n",
       "      <td>23100000.0</td>\n",
       "      <td>49000000.0</td>\n",
       "      <td>110200000.0</td>\n",
       "      <td>2.140000e+08</td>\n",
       "    </tr>\n",
       "    <tr>\n",
       "      <th>Thriller</th>\n",
       "      <td>5374.0</td>\n",
       "      <td>1.763870e+08</td>\n",
       "      <td>2.214144e+08</td>\n",
       "      <td>55100.0</td>\n",
       "      <td>37900000.0</td>\n",
       "      <td>89400000.0</td>\n",
       "      <td>218800000.0</td>\n",
       "      <td>1.108600e+09</td>\n",
       "    </tr>\n",
       "    <tr>\n",
       "      <th>War</th>\n",
       "      <td>174.0</td>\n",
       "      <td>7.239984e+07</td>\n",
       "      <td>6.810333e+07</td>\n",
       "      <td>228000.0</td>\n",
       "      <td>3800000.0</td>\n",
       "      <td>76600000.0</td>\n",
       "      <td>115000000.0</td>\n",
       "      <td>1.776000e+08</td>\n",
       "    </tr>\n",
       "    <tr>\n",
       "      <th>Western</th>\n",
       "      <td>174.0</td>\n",
       "      <td>2.095810e+08</td>\n",
       "      <td>1.488354e+08</td>\n",
       "      <td>321100.0</td>\n",
       "      <td>87200000.0</td>\n",
       "      <td>252200000.0</td>\n",
       "      <td>260500000.0</td>\n",
       "      <td>4.254000e+08</td>\n",
       "    </tr>\n",
       "  </tbody>\n",
       "</table>\n",
       "</div>"
      ],
      "text/plain": [
       "            totalgross                                                      \\\n",
       "                 count          mean           std        min          25%   \n",
       "genre                                                                        \n",
       "Action         10609.0  3.110103e+08  3.158366e+08   369500.0   72600000.0   \n",
       "Adventure      10163.0  4.052129e+08  3.379590e+08   624000.0  125811000.0   \n",
       "Animation       3310.0  4.239941e+08  3.222537e+08  1301500.0  147500000.0   \n",
       "Biography       2882.0  1.117756e+08  1.456223e+08   608000.0   22200000.0   \n",
       "Comedy         11815.0  1.952488e+08  2.403139e+08   104500.0   46100000.0   \n",
       "Crime           4482.0  1.083878e+08  1.280153e+08    55600.0   30733250.0   \n",
       "Documentary      386.0  1.402893e+07  2.031950e+07    49400.0    1828000.0   \n",
       "Drama          13886.0  1.072551e+08  1.370806e+08    55100.0   21100000.0   \n",
       "Family          1916.0  2.140266e+08  2.139373e+08   832300.0   60237000.0   \n",
       "Fantasy         2905.0  3.116925e+08  3.326924e+08   346700.0   74700000.0   \n",
       "History         1070.0  1.149242e+08  1.207442e+08   342300.0   16000000.0   \n",
       "Horror          2764.0  1.221619e+08  1.312807e+08   369500.0   38200000.0   \n",
       "Music            740.0  1.284352e+08  1.998593e+08   569000.0   20510000.0   \n",
       "Musical          118.0  2.309113e+08  1.788184e+08   193300.0   59400000.0   \n",
       "Mystery         2560.0  1.280289e+08  1.266372e+08   293100.0   33200000.0   \n",
       "Romance         4190.0  8.643692e+07  9.376711e+07   104500.0   25300000.0   \n",
       "Sci-Fi          3006.0  4.265206e+08  3.621175e+08  1756000.0  127200000.0   \n",
       "Sport            445.0  7.566333e+07  6.180117e+07  1701700.0   23100000.0   \n",
       "Thriller        5374.0  1.763870e+08  2.214144e+08    55100.0   37900000.0   \n",
       "War              174.0  7.239984e+07  6.810333e+07   228000.0    3800000.0   \n",
       "Western          174.0  2.095810e+08  1.488354e+08   321100.0   87200000.0   \n",
       "\n",
       "                                                     \n",
       "                     50%          75%           max  \n",
       "genre                                                \n",
       "Action       177200000.0  467400000.0  1.405400e+09  \n",
       "Adventure    303000000.0  644600000.0  1.405400e+09  \n",
       "Animation    351300000.0  591800000.0  1.276400e+09  \n",
       "Biography     60068500.0  140300000.0  9.036000e+08  \n",
       "Comedy       106200000.0  236400000.0  1.276400e+09  \n",
       "Crime         69000000.0  154000000.0  7.887000e+08  \n",
       "Documentary    5400000.0   17110999.0  9.900000e+07  \n",
       "Drama         61000000.0  135500000.0  9.036000e+08  \n",
       "Family       150200000.0  299400000.0  1.021100e+09  \n",
       "Fantasy      151100000.0  449300000.0  1.332600e+09  \n",
       "History       67800000.0  177600000.0  5.252000e+08  \n",
       "Horror        85400000.0  146400000.0  8.071000e+08  \n",
       "Music         73300000.0  115300000.0  9.036000e+08  \n",
       "Musical       89500000.0  425000000.0  4.350000e+08  \n",
       "Mystery       85400000.0  167800000.0  5.868000e+08  \n",
       "Romance       59300000.0  119500000.0  5.710000e+08  \n",
       "Sci-Fi       348300000.0  668000000.0  1.405400e+09  \n",
       "Sport         49000000.0  110200000.0  2.140000e+08  \n",
       "Thriller      89400000.0  218800000.0  1.108600e+09  \n",
       "War           76600000.0  115000000.0  1.776000e+08  \n",
       "Western      252200000.0  260500000.0  4.254000e+08  "
      ]
     },
     "execution_count": 66,
     "metadata": {},
     "output_type": "execute_result"
    }
   ],
   "source": [
    "# Let's check stats for the new dataframe\n",
    "genre_revenue.groupby('genre').describe()"
   ]
  },
  {
   "cell_type": "code",
   "execution_count": 67,
   "metadata": {},
   "outputs": [
    {
     "data": {
      "text/html": [
       "<div>\n",
       "<style scoped>\n",
       "    .dataframe tbody tr th:only-of-type {\n",
       "        vertical-align: middle;\n",
       "    }\n",
       "\n",
       "    .dataframe tbody tr th {\n",
       "        vertical-align: top;\n",
       "    }\n",
       "\n",
       "    .dataframe thead th {\n",
       "        text-align: right;\n",
       "    }\n",
       "</style>\n",
       "<table border=\"1\" class=\"dataframe\">\n",
       "  <thead>\n",
       "    <tr style=\"text-align: right;\">\n",
       "      <th></th>\n",
       "      <th>genre</th>\n",
       "      <th>totalgross</th>\n",
       "    </tr>\n",
       "  </thead>\n",
       "  <tbody>\n",
       "    <tr>\n",
       "      <th>16</th>\n",
       "      <td>Sci-Fi</td>\n",
       "      <td>4.265206e+08</td>\n",
       "    </tr>\n",
       "    <tr>\n",
       "      <th>2</th>\n",
       "      <td>Animation</td>\n",
       "      <td>4.239941e+08</td>\n",
       "    </tr>\n",
       "    <tr>\n",
       "      <th>1</th>\n",
       "      <td>Adventure</td>\n",
       "      <td>4.052129e+08</td>\n",
       "    </tr>\n",
       "    <tr>\n",
       "      <th>9</th>\n",
       "      <td>Fantasy</td>\n",
       "      <td>3.116925e+08</td>\n",
       "    </tr>\n",
       "    <tr>\n",
       "      <th>0</th>\n",
       "      <td>Action</td>\n",
       "      <td>3.110103e+08</td>\n",
       "    </tr>\n",
       "  </tbody>\n",
       "</table>\n",
       "</div>"
      ],
      "text/plain": [
       "        genre    totalgross\n",
       "16     Sci-Fi  4.265206e+08\n",
       "2   Animation  4.239941e+08\n",
       "1   Adventure  4.052129e+08\n",
       "9     Fantasy  3.116925e+08\n",
       "0      Action  3.110103e+08"
      ]
     },
     "execution_count": 67,
     "metadata": {},
     "output_type": "execute_result"
    }
   ],
   "source": [
    "# Create data for plotting\n",
    "genre_revenue_data = genre_revenue.groupby('genre').mean().reset_index().sort_values(by='totalgross', ascending=False)\n",
    "genre_revenue_data.head()"
   ]
  },
  {
   "cell_type": "code",
   "execution_count": null,
   "metadata": {},
   "outputs": [],
   "source": [
    "sns.barplot(data=genre_revenue_data, x='totalgross', y='genre');"
   ]
  },
  {
   "cell_type": "code",
   "execution_count": null,
   "metadata": {},
   "outputs": [],
   "source": [
    "# Check the significance\n",
    "print(pairwise_tukeyhsd(genre_revenue['totalgross'], genre_revenue['genre']))"
   ]
  },
  {
   "cell_type": "markdown",
   "metadata": {},
   "source": [
    "**Observations**\n",
    "- [TBD]"
   ]
  },
  {
   "cell_type": "markdown",
   "metadata": {},
   "source": [
    "### Runtime"
   ]
  },
  {
   "cell_type": "markdown",
   "metadata": {},
   "source": [
    "We need to start feature engineering for runtime. Instead of trying to optimize runtime for gross revenue we will instead categorize runtime and compare revenue among the newly created categories"
   ]
  },
  {
   "cell_type": "code",
   "execution_count": null,
   "metadata": {},
   "outputs": [],
   "source": [
    "# Create a function to categorize runtimes\n",
    "def film_categorization(runtime):\n",
    "    \"\"\"\n",
    "    Input: the movie runtime (float)\n",
    "    Output: the movie runtime category (string)\n",
    "    \"\"\"\n",
    "    movie_category = ''\n",
    "    if runtime < 40: # The movie industry considers this a short film\n",
    "        movie_category =  'Short Film'\n",
    "    elif runtime < 96: # This is outside the common hollywood length\n",
    "        movie_category =  'Normal Film (short)'\n",
    "    elif (runtime >= 96) and (runtime <= 120): # 50% of hollywood movies are in this range\n",
    "        movie_category =  'Normal Film (optimal)'\n",
    "    elif (runtime > 120): # These are longer than the common range\n",
    "        movie_category =  'Normal Film (long)'\n",
    "    else: # if no runtime exists\n",
    "        movie_category =  'No Runtime'\n",
    "    return movie_category"
   ]
  },
  {
   "cell_type": "code",
   "execution_count": null,
   "metadata": {},
   "outputs": [],
   "source": [
    "# Add a new column categorizing the runtime\n",
    "df_clean['runtimecategory'] = df_clean['runtimeminutes'].apply(film_categorization)\n",
    "df_clean['runtimecategory'].value_counts()"
   ]
  },
  {
   "cell_type": "code",
   "execution_count": null,
   "metadata": {},
   "outputs": [],
   "source": [
    "# Visualize the distributions\n",
    "fig, (ax0,ax1) = plt.subplots(nrows=2, figsize=(16, 16))\n",
    "\n",
    "sns.boxplot(\n",
    "    x=\"runtimecategory\",\n",
    "    y=\"totalgross\",\n",
    "    data=df_clean[has_rev_filter],\n",
    "    ax=ax0,\n",
    "    color='aqua', \n",
    "    linewidth=3\n",
    ")\n",
    "\n",
    "\n",
    "\n",
    "sns.violinplot(\n",
    "    x=\"runtimecategory\",\n",
    "    y=\"totalgross\",\n",
    "    data=df_clean[has_rev_filter],\n",
    "    ax=ax1,\n",
    "    color='aqua',\n",
    "    inner=\"quartile\",  # Seeing the mean and quartiles\n",
    "    bw=.3              # How much smoothing do we use\n",
    ")\n",
    "\n",
    "plt.tight_layout();"
   ]
  },
  {
   "cell_type": "code",
   "execution_count": null,
   "metadata": {},
   "outputs": [],
   "source": [
    "# Check for significant differences between the four categories\n",
    "print(pairwise_tukeyhsd(df_clean[has_rev_filter]['totalgross'], df_clean[has_rev_filter]['runtimecategory']))"
   ]
  },
  {
   "cell_type": "markdown",
   "metadata": {},
   "source": [
    "**Observations**\n",
    "- [TBD]"
   ]
  },
  {
   "cell_type": "markdown",
   "metadata": {},
   "source": [
    "### Revenue vs. Rating\n",
    "Todo:\n",
    "- Plot revenue vs. rating and investigate trends\n",
    "- Run a linear regresion model to explore the relationship"
   ]
  },
  {
   "cell_type": "code",
   "execution_count": null,
   "metadata": {},
   "outputs": [],
   "source": [
    "# Plot revenue vs. rating\n",
    "sns.scatterplot(data=df_clean[has_rev_filter], x='averagerating', y='totalgross' );"
   ]
  },
  {
   "cell_type": "markdown",
   "metadata": {},
   "source": [
    "**Observations**\n",
    "- It looks like there is a slight upwards trend\n",
    "- There seems to be a lot of spread"
   ]
  },
  {
   "cell_type": "code",
   "execution_count": null,
   "metadata": {},
   "outputs": [],
   "source": [
    "# We also need to find the correlation coefficient\n",
    "x = df_clean[has_rev_filter]['totalgross']\n",
    "y = df_clean[has_rev_filter]['averagerating']\n",
    "coer_data = np.corrcoef(x, y)\n",
    "print(f'The correlation coefficient is: {round(coer_data[0,1],4)}')"
   ]
  },
  {
   "cell_type": "code",
   "execution_count": null,
   "metadata": {},
   "outputs": [],
   "source": [
    "# Let's run a simple linear regression model\n",
    "endog = df_clean[has_rev_filter]['totalgross'] # Revenue is independant\n",
    "exog = sm.add_constant(df_clean[has_rev_filter]['averagerating']) # Rating is dependant\n",
    "lin_reg_model = sm.OLS(endog, exog)\n",
    "lin_reg_model.fit()\n",
    "lin_reg_model.fit().summary()"
   ]
  },
  {
   "cell_type": "markdown",
   "metadata": {},
   "source": [
    "**Observations**\n",
    "- [TBD]"
   ]
  }
 ],
 "metadata": {
  "kernelspec": {
   "display_name": "Python (learn-env)",
   "language": "python",
   "name": "learn-env"
  },
  "language_info": {
   "codemirror_mode": {
    "name": "ipython",
    "version": 3
   },
   "file_extension": ".py",
   "mimetype": "text/x-python",
   "name": "python",
   "nbconvert_exporter": "python",
   "pygments_lexer": "ipython3",
   "version": "3.8.5"
  }
 },
 "nbformat": 4,
 "nbformat_minor": 2
}
