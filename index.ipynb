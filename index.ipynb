{
 "cells": [
  {
   "cell_type": "markdown",
   "metadata": {},
   "source": [
    "# Movie Data Analysis Project \n",
    "\n",
    "##### Students: William Bennett, Alex Karadjov\n",
    "\n",
    "##### Instructor: David Elliot\n",
    "\n",
    "##### Active Project Dates: May 8th - 12th"
   ]
  },
  {
   "cell_type": "markdown",
   "metadata": {},
   "source": [
    "<img src='movie-producer-1000x600.jpg' width=\"600\" height=\"400\">"
   ]
  },
  {
   "cell_type": "markdown",
   "metadata": {},
   "source": [
    "\n",
    "## Business Understanding\n",
    "#### Business Question\n",
    "Your company has now seen all the other big companies creating original video content. Your companies board have _decided to create a new movie studio_, but they don’t know anything about _creating movies._ \n",
    "<br>\n",
    "#### Business Proposal\n",
    "###### We are _charged_ with exploring what types of films are currently doing the _**best at the box office**._\n",
    "\n",
    "###### We then _translate_ those findings into _undstandable and logistical_ formats \n",
    "\n",
    "###### All inorder to give _an insightful _**conclusion**_ on what type of films are the _**best to be creating**._\n",
    "\n",
    "\n",
    "##### The _best_  at the box office. \n",
    "What does **best** mean:\n",
    "- money\n",
    "- rating, won’t line pockets\n",
    "- consistency\n"
   ]
  },
  {
   "cell_type": "markdown",
   "metadata": {},
   "source": [
    "_**While keeping these points in mind**_\n",
    "<br>\n",
    "<br>\n",
    "We have decieded these **columns** below will be used directly to _aid us in determining our **business proposal**_**;**\n",
    "- Gross \n",
    "- Avgerage Rating \n",
    "- Number of Votes \n",
    "- Run Time Minutes\n",
    "- Region\n",
    "- Genre"
   ]
  },
  {
   "cell_type": "markdown",
   "metadata": {},
   "source": [
    "#### Imports\n",
    "\n",
    "Importing necessary libraries;"
   ]
  },
  {
   "cell_type": "code",
   "execution_count": 119,
   "metadata": {},
   "outputs": [],
   "source": [
    "import pandas as pd\n",
    "import numpy as np # used to find correlation coefficient\n",
    "import sqlite3\n",
    "import seaborn as sns\n",
    "import matplotlib.pyplot as plt\n",
    "%matplotlib inline\n",
    "from statsmodels.stats.multicomp import pairwise_tukeyhsd # to compare multiple samples\n",
    "import statsmodels.api as sm # We use this to perform a linear regression"
   ]
  },
  {
   "cell_type": "markdown",
   "metadata": {},
   "source": [
    "\n",
    "\n",
    "### Understanding the Data\n",
    "What are we looking at?"
   ]
  },
  {
   "cell_type": "markdown",
   "metadata": {},
   "source": [
    "#### Connections\n",
    "Connecting Data to Sqlite;"
   ]
  },
  {
   "cell_type": "code",
   "execution_count": 11,
   "metadata": {},
   "outputs": [],
   "source": [
    "# Switch these depending on your OS after you unzip the im.db folter\n",
    "conn = sqlite3.connect('zippedData/im.db') #Mac\n",
    "# conn = sqlite3.connect('zippedData/im.db/im.db') #PC"
   ]
  },
  {
   "cell_type": "markdown",
   "metadata": {},
   "source": [
    "Viewing the Data Tables;"
   ]
  },
  {
   "cell_type": "code",
   "execution_count": 12,
   "metadata": {},
   "outputs": [
    {
     "data": {
      "text/html": [
       "<div>\n",
       "<style scoped>\n",
       "    .dataframe tbody tr th:only-of-type {\n",
       "        vertical-align: middle;\n",
       "    }\n",
       "\n",
       "    .dataframe tbody tr th {\n",
       "        vertical-align: top;\n",
       "    }\n",
       "\n",
       "    .dataframe thead th {\n",
       "        text-align: right;\n",
       "    }\n",
       "</style>\n",
       "<table border=\"1\" class=\"dataframe\">\n",
       "  <thead>\n",
       "    <tr style=\"text-align: right;\">\n",
       "      <th></th>\n",
       "      <th>type</th>\n",
       "      <th>name</th>\n",
       "      <th>tbl_name</th>\n",
       "      <th>rootpage</th>\n",
       "      <th>sql</th>\n",
       "    </tr>\n",
       "  </thead>\n",
       "  <tbody>\n",
       "    <tr>\n",
       "      <th>0</th>\n",
       "      <td>table</td>\n",
       "      <td>movie_basics</td>\n",
       "      <td>movie_basics</td>\n",
       "      <td>2</td>\n",
       "      <td>CREATE TABLE \"movie_basics\" (\\n\"movie_id\" TEXT...</td>\n",
       "    </tr>\n",
       "    <tr>\n",
       "      <th>1</th>\n",
       "      <td>table</td>\n",
       "      <td>directors</td>\n",
       "      <td>directors</td>\n",
       "      <td>3</td>\n",
       "      <td>CREATE TABLE \"directors\" (\\n\"movie_id\" TEXT,\\n...</td>\n",
       "    </tr>\n",
       "    <tr>\n",
       "      <th>2</th>\n",
       "      <td>table</td>\n",
       "      <td>known_for</td>\n",
       "      <td>known_for</td>\n",
       "      <td>4</td>\n",
       "      <td>CREATE TABLE \"known_for\" (\\n\"person_id\" TEXT,\\...</td>\n",
       "    </tr>\n",
       "    <tr>\n",
       "      <th>3</th>\n",
       "      <td>table</td>\n",
       "      <td>movie_akas</td>\n",
       "      <td>movie_akas</td>\n",
       "      <td>5</td>\n",
       "      <td>CREATE TABLE \"movie_akas\" (\\n\"movie_id\" TEXT,\\...</td>\n",
       "    </tr>\n",
       "    <tr>\n",
       "      <th>4</th>\n",
       "      <td>table</td>\n",
       "      <td>movie_ratings</td>\n",
       "      <td>movie_ratings</td>\n",
       "      <td>6</td>\n",
       "      <td>CREATE TABLE \"movie_ratings\" (\\n\"movie_id\" TEX...</td>\n",
       "    </tr>\n",
       "    <tr>\n",
       "      <th>5</th>\n",
       "      <td>table</td>\n",
       "      <td>persons</td>\n",
       "      <td>persons</td>\n",
       "      <td>7</td>\n",
       "      <td>CREATE TABLE \"persons\" (\\n\"person_id\" TEXT,\\n ...</td>\n",
       "    </tr>\n",
       "    <tr>\n",
       "      <th>6</th>\n",
       "      <td>table</td>\n",
       "      <td>principals</td>\n",
       "      <td>principals</td>\n",
       "      <td>8</td>\n",
       "      <td>CREATE TABLE \"principals\" (\\n\"movie_id\" TEXT,\\...</td>\n",
       "    </tr>\n",
       "    <tr>\n",
       "      <th>7</th>\n",
       "      <td>table</td>\n",
       "      <td>writers</td>\n",
       "      <td>writers</td>\n",
       "      <td>9</td>\n",
       "      <td>CREATE TABLE \"writers\" (\\n\"movie_id\" TEXT,\\n  ...</td>\n",
       "    </tr>\n",
       "  </tbody>\n",
       "</table>\n",
       "</div>"
      ],
      "text/plain": [
       "    type           name       tbl_name  rootpage  \\\n",
       "0  table   movie_basics   movie_basics         2   \n",
       "1  table      directors      directors         3   \n",
       "2  table      known_for      known_for         4   \n",
       "3  table     movie_akas     movie_akas         5   \n",
       "4  table  movie_ratings  movie_ratings         6   \n",
       "5  table        persons        persons         7   \n",
       "6  table     principals     principals         8   \n",
       "7  table        writers        writers         9   \n",
       "\n",
       "                                                 sql  \n",
       "0  CREATE TABLE \"movie_basics\" (\\n\"movie_id\" TEXT...  \n",
       "1  CREATE TABLE \"directors\" (\\n\"movie_id\" TEXT,\\n...  \n",
       "2  CREATE TABLE \"known_for\" (\\n\"person_id\" TEXT,\\...  \n",
       "3  CREATE TABLE \"movie_akas\" (\\n\"movie_id\" TEXT,\\...  \n",
       "4  CREATE TABLE \"movie_ratings\" (\\n\"movie_id\" TEX...  \n",
       "5  CREATE TABLE \"persons\" (\\n\"person_id\" TEXT,\\n ...  \n",
       "6  CREATE TABLE \"principals\" (\\n\"movie_id\" TEXT,\\...  \n",
       "7  CREATE TABLE \"writers\" (\\n\"movie_id\" TEXT,\\n  ...  "
      ]
     },
     "execution_count": 12,
     "metadata": {},
     "output_type": "execute_result"
    }
   ],
   "source": [
    "schema_df = pd.read_sql(\"\"\"\n",
    "\n",
    "SELECT *\n",
    "FROM sqlite_master\n",
    "\n",
    "\"\"\", conn)\n",
    "\n",
    "schema_df"
   ]
  },
  {
   "cell_type": "code",
   "execution_count": 13,
   "metadata": {},
   "outputs": [
    {
     "data": {
      "text/html": [
       "<div>\n",
       "<style scoped>\n",
       "    .dataframe tbody tr th:only-of-type {\n",
       "        vertical-align: middle;\n",
       "    }\n",
       "\n",
       "    .dataframe tbody tr th {\n",
       "        vertical-align: top;\n",
       "    }\n",
       "\n",
       "    .dataframe thead th {\n",
       "        text-align: right;\n",
       "    }\n",
       "</style>\n",
       "<table border=\"1\" class=\"dataframe\">\n",
       "  <thead>\n",
       "    <tr style=\"text-align: right;\">\n",
       "      <th></th>\n",
       "      <th>movie_id</th>\n",
       "      <th>primary_title</th>\n",
       "      <th>original_title</th>\n",
       "      <th>start_year</th>\n",
       "      <th>runtime_minutes</th>\n",
       "      <th>genres</th>\n",
       "    </tr>\n",
       "  </thead>\n",
       "  <tbody>\n",
       "    <tr>\n",
       "      <th>0</th>\n",
       "      <td>tt0063540</td>\n",
       "      <td>Sunghursh</td>\n",
       "      <td>Sunghursh</td>\n",
       "      <td>2013</td>\n",
       "      <td>175.0</td>\n",
       "      <td>Action,Crime,Drama</td>\n",
       "    </tr>\n",
       "    <tr>\n",
       "      <th>1</th>\n",
       "      <td>tt0066787</td>\n",
       "      <td>One Day Before the Rainy Season</td>\n",
       "      <td>Ashad Ka Ek Din</td>\n",
       "      <td>2019</td>\n",
       "      <td>114.0</td>\n",
       "      <td>Biography,Drama</td>\n",
       "    </tr>\n",
       "    <tr>\n",
       "      <th>2</th>\n",
       "      <td>tt0069049</td>\n",
       "      <td>The Other Side of the Wind</td>\n",
       "      <td>The Other Side of the Wind</td>\n",
       "      <td>2018</td>\n",
       "      <td>122.0</td>\n",
       "      <td>Drama</td>\n",
       "    </tr>\n",
       "  </tbody>\n",
       "</table>\n",
       "</div>"
      ],
      "text/plain": [
       "    movie_id                    primary_title              original_title  \\\n",
       "0  tt0063540                        Sunghursh                   Sunghursh   \n",
       "1  tt0066787  One Day Before the Rainy Season             Ashad Ka Ek Din   \n",
       "2  tt0069049       The Other Side of the Wind  The Other Side of the Wind   \n",
       "\n",
       "   start_year  runtime_minutes              genres  \n",
       "0        2013            175.0  Action,Crime,Drama  \n",
       "1        2019            114.0     Biography,Drama  \n",
       "2        2018            122.0               Drama  "
      ]
     },
     "execution_count": 13,
     "metadata": {},
     "output_type": "execute_result"
    }
   ],
   "source": [
    "pd.read_sql(\"\"\"\n",
    "\n",
    "SELECT *\n",
    "FROM movie_basics b\n",
    "limit 3\n",
    "\n",
    "\"\"\", conn)"
   ]
  },
  {
   "cell_type": "code",
   "execution_count": 14,
   "metadata": {},
   "outputs": [
    {
     "data": {
      "text/html": [
       "<div>\n",
       "<style scoped>\n",
       "    .dataframe tbody tr th:only-of-type {\n",
       "        vertical-align: middle;\n",
       "    }\n",
       "\n",
       "    .dataframe tbody tr th {\n",
       "        vertical-align: top;\n",
       "    }\n",
       "\n",
       "    .dataframe thead th {\n",
       "        text-align: right;\n",
       "    }\n",
       "</style>\n",
       "<table border=\"1\" class=\"dataframe\">\n",
       "  <thead>\n",
       "    <tr style=\"text-align: right;\">\n",
       "      <th></th>\n",
       "      <th>movie_id</th>\n",
       "      <th>averagerating</th>\n",
       "      <th>numvotes</th>\n",
       "    </tr>\n",
       "  </thead>\n",
       "  <tbody>\n",
       "    <tr>\n",
       "      <th>0</th>\n",
       "      <td>tt10356526</td>\n",
       "      <td>8.3</td>\n",
       "      <td>31</td>\n",
       "    </tr>\n",
       "    <tr>\n",
       "      <th>1</th>\n",
       "      <td>tt10384606</td>\n",
       "      <td>8.9</td>\n",
       "      <td>559</td>\n",
       "    </tr>\n",
       "    <tr>\n",
       "      <th>2</th>\n",
       "      <td>tt1042974</td>\n",
       "      <td>6.4</td>\n",
       "      <td>20</td>\n",
       "    </tr>\n",
       "  </tbody>\n",
       "</table>\n",
       "</div>"
      ],
      "text/plain": [
       "     movie_id  averagerating  numvotes\n",
       "0  tt10356526            8.3        31\n",
       "1  tt10384606            8.9       559\n",
       "2   tt1042974            6.4        20"
      ]
     },
     "execution_count": 14,
     "metadata": {},
     "output_type": "execute_result"
    }
   ],
   "source": [
    "pd.read_sql(\"\"\"\n",
    "\n",
    "SELECT *\n",
    "FROM movie_ratings\n",
    "limit 3\n",
    "\n",
    "\"\"\", conn)"
   ]
  },
  {
   "cell_type": "markdown",
   "metadata": {},
   "source": [
    "#### Creating DataFrames;\n",
    "\n",
    "IMDB Movie Data Frame;"
   ]
  },
  {
   "cell_type": "code",
   "execution_count": 15,
   "metadata": {},
   "outputs": [],
   "source": [
    "df_imdb = pd.read_sql(\"\"\"\n",
    "\n",
    "SELECT b.movie_id\n",
    "       ,b.primary_title\n",
    "       ,b.original_title\n",
    "       ,b.start_year\n",
    "       ,b.runtime_minutes\n",
    "       ,b.genres\n",
    "       ,r.averagerating\n",
    "       ,r.numvotes\n",
    "       ,a.region\n",
    "FROM movie_basics b\n",
    "join movie_ratings r on r.movie_id = b.movie_id\n",
    "left join movie_akas a on a.movie_id = b.movie_id \n",
    "\n",
    "\"\"\", conn)"
   ]
  },
  {
   "cell_type": "code",
   "execution_count": 16,
   "metadata": {
    "scrolled": false
   },
   "outputs": [
    {
     "data": {
      "text/html": [
       "<div>\n",
       "<style scoped>\n",
       "    .dataframe tbody tr th:only-of-type {\n",
       "        vertical-align: middle;\n",
       "    }\n",
       "\n",
       "    .dataframe tbody tr th {\n",
       "        vertical-align: top;\n",
       "    }\n",
       "\n",
       "    .dataframe thead th {\n",
       "        text-align: right;\n",
       "    }\n",
       "</style>\n",
       "<table border=\"1\" class=\"dataframe\">\n",
       "  <thead>\n",
       "    <tr style=\"text-align: right;\">\n",
       "      <th></th>\n",
       "      <th>movie_id</th>\n",
       "      <th>primary_title</th>\n",
       "      <th>original_title</th>\n",
       "      <th>start_year</th>\n",
       "      <th>runtime_minutes</th>\n",
       "      <th>genres</th>\n",
       "      <th>averagerating</th>\n",
       "      <th>numvotes</th>\n",
       "      <th>region</th>\n",
       "    </tr>\n",
       "  </thead>\n",
       "  <tbody>\n",
       "    <tr>\n",
       "      <th>0</th>\n",
       "      <td>tt0063540</td>\n",
       "      <td>Sunghursh</td>\n",
       "      <td>Sunghursh</td>\n",
       "      <td>2013</td>\n",
       "      <td>175.0</td>\n",
       "      <td>Action,Crime,Drama</td>\n",
       "      <td>7.0</td>\n",
       "      <td>77</td>\n",
       "      <td>None</td>\n",
       "    </tr>\n",
       "    <tr>\n",
       "      <th>1</th>\n",
       "      <td>tt0063540</td>\n",
       "      <td>Sunghursh</td>\n",
       "      <td>Sunghursh</td>\n",
       "      <td>2013</td>\n",
       "      <td>175.0</td>\n",
       "      <td>Action,Crime,Drama</td>\n",
       "      <td>7.0</td>\n",
       "      <td>77</td>\n",
       "      <td>IN</td>\n",
       "    </tr>\n",
       "    <tr>\n",
       "      <th>2</th>\n",
       "      <td>tt0063540</td>\n",
       "      <td>Sunghursh</td>\n",
       "      <td>Sunghursh</td>\n",
       "      <td>2013</td>\n",
       "      <td>175.0</td>\n",
       "      <td>Action,Crime,Drama</td>\n",
       "      <td>7.0</td>\n",
       "      <td>77</td>\n",
       "      <td>IN</td>\n",
       "    </tr>\n",
       "    <tr>\n",
       "      <th>3</th>\n",
       "      <td>tt0063540</td>\n",
       "      <td>Sunghursh</td>\n",
       "      <td>Sunghursh</td>\n",
       "      <td>2013</td>\n",
       "      <td>175.0</td>\n",
       "      <td>Action,Crime,Drama</td>\n",
       "      <td>7.0</td>\n",
       "      <td>77</td>\n",
       "      <td>IN</td>\n",
       "    </tr>\n",
       "    <tr>\n",
       "      <th>4</th>\n",
       "      <td>tt0063540</td>\n",
       "      <td>Sunghursh</td>\n",
       "      <td>Sunghursh</td>\n",
       "      <td>2013</td>\n",
       "      <td>175.0</td>\n",
       "      <td>Action,Crime,Drama</td>\n",
       "      <td>7.0</td>\n",
       "      <td>77</td>\n",
       "      <td>IN</td>\n",
       "    </tr>\n",
       "  </tbody>\n",
       "</table>\n",
       "</div>"
      ],
      "text/plain": [
       "    movie_id primary_title original_title  start_year  runtime_minutes  \\\n",
       "0  tt0063540     Sunghursh      Sunghursh        2013            175.0   \n",
       "1  tt0063540     Sunghursh      Sunghursh        2013            175.0   \n",
       "2  tt0063540     Sunghursh      Sunghursh        2013            175.0   \n",
       "3  tt0063540     Sunghursh      Sunghursh        2013            175.0   \n",
       "4  tt0063540     Sunghursh      Sunghursh        2013            175.0   \n",
       "\n",
       "               genres  averagerating  numvotes region  \n",
       "0  Action,Crime,Drama            7.0        77   None  \n",
       "1  Action,Crime,Drama            7.0        77     IN  \n",
       "2  Action,Crime,Drama            7.0        77     IN  \n",
       "3  Action,Crime,Drama            7.0        77     IN  \n",
       "4  Action,Crime,Drama            7.0        77     IN  "
      ]
     },
     "execution_count": 16,
     "metadata": {},
     "output_type": "execute_result"
    }
   ],
   "source": [
    "df_imdb.head()"
   ]
  },
  {
   "cell_type": "markdown",
   "metadata": {},
   "source": [
    "<br>\n",
    "Box Office Mojo Movie Data Frame\n",
    "<br>"
   ]
  },
  {
   "cell_type": "code",
   "execution_count": 17,
   "metadata": {},
   "outputs": [],
   "source": [
    "df_mg = pd.read_csv('zippedData/bom.movie_gross.csv.gz', sep=',')"
   ]
  },
  {
   "cell_type": "code",
   "execution_count": 18,
   "metadata": {
    "scrolled": true
   },
   "outputs": [
    {
     "data": {
      "text/html": [
       "<div>\n",
       "<style scoped>\n",
       "    .dataframe tbody tr th:only-of-type {\n",
       "        vertical-align: middle;\n",
       "    }\n",
       "\n",
       "    .dataframe tbody tr th {\n",
       "        vertical-align: top;\n",
       "    }\n",
       "\n",
       "    .dataframe thead th {\n",
       "        text-align: right;\n",
       "    }\n",
       "</style>\n",
       "<table border=\"1\" class=\"dataframe\">\n",
       "  <thead>\n",
       "    <tr style=\"text-align: right;\">\n",
       "      <th></th>\n",
       "      <th>title</th>\n",
       "      <th>studio</th>\n",
       "      <th>domestic_gross</th>\n",
       "      <th>foreign_gross</th>\n",
       "      <th>year</th>\n",
       "    </tr>\n",
       "  </thead>\n",
       "  <tbody>\n",
       "    <tr>\n",
       "      <th>0</th>\n",
       "      <td>Toy Story 3</td>\n",
       "      <td>BV</td>\n",
       "      <td>415000000.0</td>\n",
       "      <td>652000000</td>\n",
       "      <td>2010</td>\n",
       "    </tr>\n",
       "    <tr>\n",
       "      <th>1</th>\n",
       "      <td>Alice in Wonderland (2010)</td>\n",
       "      <td>BV</td>\n",
       "      <td>334200000.0</td>\n",
       "      <td>691300000</td>\n",
       "      <td>2010</td>\n",
       "    </tr>\n",
       "    <tr>\n",
       "      <th>2</th>\n",
       "      <td>Harry Potter and the Deathly Hallows Part 1</td>\n",
       "      <td>WB</td>\n",
       "      <td>296000000.0</td>\n",
       "      <td>664300000</td>\n",
       "      <td>2010</td>\n",
       "    </tr>\n",
       "    <tr>\n",
       "      <th>3</th>\n",
       "      <td>Inception</td>\n",
       "      <td>WB</td>\n",
       "      <td>292600000.0</td>\n",
       "      <td>535700000</td>\n",
       "      <td>2010</td>\n",
       "    </tr>\n",
       "    <tr>\n",
       "      <th>4</th>\n",
       "      <td>Shrek Forever After</td>\n",
       "      <td>P/DW</td>\n",
       "      <td>238700000.0</td>\n",
       "      <td>513900000</td>\n",
       "      <td>2010</td>\n",
       "    </tr>\n",
       "  </tbody>\n",
       "</table>\n",
       "</div>"
      ],
      "text/plain": [
       "                                         title studio  domestic_gross  \\\n",
       "0                                  Toy Story 3     BV     415000000.0   \n",
       "1                   Alice in Wonderland (2010)     BV     334200000.0   \n",
       "2  Harry Potter and the Deathly Hallows Part 1     WB     296000000.0   \n",
       "3                                    Inception     WB     292600000.0   \n",
       "4                          Shrek Forever After   P/DW     238700000.0   \n",
       "\n",
       "  foreign_gross  year  \n",
       "0     652000000  2010  \n",
       "1     691300000  2010  \n",
       "2     664300000  2010  \n",
       "3     535700000  2010  \n",
       "4     513900000  2010  "
      ]
     },
     "execution_count": 18,
     "metadata": {},
     "output_type": "execute_result"
    }
   ],
   "source": [
    "df_mg.head()"
   ]
  },
  {
   "cell_type": "markdown",
   "metadata": {},
   "source": [
    "### Data Preperation\n",
    "Our main focuses while cleaning will be;\n",
    "\n",
    "Gross based;\n",
    "* Remove non US dollar value column\n",
    "    - Change Null Values to -99999 to create visible outlier\n",
    "\n",
    "Avgerage Rating based;\n",
    "* Remove rows from the column avgeragerating if the column numvotes has a row with less than 30 votes\n",
    "    - drop null values for both columns\n",
    "\n",
    "Genre based;\n",
    "* Seperate multiple genre movies\n",
    "    - drop null values\n",
    "\n",
    "\n",
    "Run Time Minutes based;\n",
    "* Handle outliers with long runtimes\n",
    "    - drop null values\n",
    "\n",
    "\n",
    "Null Values based;\n",
    "* Drop and replace based on significance for all significant data used\n",
    "\n",
    "Column Names based;\n",
    "* Cleaning the names to the same format\n"
   ]
  },
  {
   "cell_type": "markdown",
   "metadata": {},
   "source": [
    "#### Cleaning the Data Frames with Significant Information\n",
    "\n",
    "<br>\n",
    "IMBD Data Frame;\n",
    "<br>\n",
    "- Clean the column names;"
   ]
  },
  {
   "cell_type": "code",
   "execution_count": 19,
   "metadata": {},
   "outputs": [
    {
     "data": {
      "text/plain": [
       "['movieid',\n",
       " 'primarytitle',\n",
       " 'originaltitle',\n",
       " 'startyear',\n",
       " 'runtimeminutes',\n",
       " 'genres',\n",
       " 'averagerating',\n",
       " 'numvotes',\n",
       " 'region']"
      ]
     },
     "execution_count": 19,
     "metadata": {},
     "output_type": "execute_result"
    }
   ],
   "source": [
    "[c.replace(\"_\", \"\").strip() for c in df_imdb.columns]"
   ]
  },
  {
   "cell_type": "code",
   "execution_count": 20,
   "metadata": {},
   "outputs": [],
   "source": [
    "df_imdb = df_imdb.rename(columns = dict(zip(df_imdb.columns, [c.replace(\"_\", \"\").strip() for c in df_imdb.columns])))"
   ]
  },
  {
   "cell_type": "code",
   "execution_count": 21,
   "metadata": {},
   "outputs": [
    {
     "data": {
      "text/html": [
       "<div>\n",
       "<style scoped>\n",
       "    .dataframe tbody tr th:only-of-type {\n",
       "        vertical-align: middle;\n",
       "    }\n",
       "\n",
       "    .dataframe tbody tr th {\n",
       "        vertical-align: top;\n",
       "    }\n",
       "\n",
       "    .dataframe thead th {\n",
       "        text-align: right;\n",
       "    }\n",
       "</style>\n",
       "<table border=\"1\" class=\"dataframe\">\n",
       "  <thead>\n",
       "    <tr style=\"text-align: right;\">\n",
       "      <th></th>\n",
       "      <th>movieid</th>\n",
       "      <th>primarytitle</th>\n",
       "      <th>originaltitle</th>\n",
       "      <th>startyear</th>\n",
       "      <th>runtimeminutes</th>\n",
       "      <th>genres</th>\n",
       "      <th>averagerating</th>\n",
       "      <th>numvotes</th>\n",
       "      <th>region</th>\n",
       "    </tr>\n",
       "  </thead>\n",
       "  <tbody>\n",
       "    <tr>\n",
       "      <th>0</th>\n",
       "      <td>tt0063540</td>\n",
       "      <td>Sunghursh</td>\n",
       "      <td>Sunghursh</td>\n",
       "      <td>2013</td>\n",
       "      <td>175.0</td>\n",
       "      <td>Action,Crime,Drama</td>\n",
       "      <td>7.0</td>\n",
       "      <td>77</td>\n",
       "      <td>None</td>\n",
       "    </tr>\n",
       "    <tr>\n",
       "      <th>1</th>\n",
       "      <td>tt0063540</td>\n",
       "      <td>Sunghursh</td>\n",
       "      <td>Sunghursh</td>\n",
       "      <td>2013</td>\n",
       "      <td>175.0</td>\n",
       "      <td>Action,Crime,Drama</td>\n",
       "      <td>7.0</td>\n",
       "      <td>77</td>\n",
       "      <td>IN</td>\n",
       "    </tr>\n",
       "    <tr>\n",
       "      <th>2</th>\n",
       "      <td>tt0063540</td>\n",
       "      <td>Sunghursh</td>\n",
       "      <td>Sunghursh</td>\n",
       "      <td>2013</td>\n",
       "      <td>175.0</td>\n",
       "      <td>Action,Crime,Drama</td>\n",
       "      <td>7.0</td>\n",
       "      <td>77</td>\n",
       "      <td>IN</td>\n",
       "    </tr>\n",
       "    <tr>\n",
       "      <th>3</th>\n",
       "      <td>tt0063540</td>\n",
       "      <td>Sunghursh</td>\n",
       "      <td>Sunghursh</td>\n",
       "      <td>2013</td>\n",
       "      <td>175.0</td>\n",
       "      <td>Action,Crime,Drama</td>\n",
       "      <td>7.0</td>\n",
       "      <td>77</td>\n",
       "      <td>IN</td>\n",
       "    </tr>\n",
       "    <tr>\n",
       "      <th>4</th>\n",
       "      <td>tt0063540</td>\n",
       "      <td>Sunghursh</td>\n",
       "      <td>Sunghursh</td>\n",
       "      <td>2013</td>\n",
       "      <td>175.0</td>\n",
       "      <td>Action,Crime,Drama</td>\n",
       "      <td>7.0</td>\n",
       "      <td>77</td>\n",
       "      <td>IN</td>\n",
       "    </tr>\n",
       "  </tbody>\n",
       "</table>\n",
       "</div>"
      ],
      "text/plain": [
       "     movieid primarytitle originaltitle  startyear  runtimeminutes  \\\n",
       "0  tt0063540    Sunghursh     Sunghursh       2013           175.0   \n",
       "1  tt0063540    Sunghursh     Sunghursh       2013           175.0   \n",
       "2  tt0063540    Sunghursh     Sunghursh       2013           175.0   \n",
       "3  tt0063540    Sunghursh     Sunghursh       2013           175.0   \n",
       "4  tt0063540    Sunghursh     Sunghursh       2013           175.0   \n",
       "\n",
       "               genres  averagerating  numvotes region  \n",
       "0  Action,Crime,Drama            7.0        77   None  \n",
       "1  Action,Crime,Drama            7.0        77     IN  \n",
       "2  Action,Crime,Drama            7.0        77     IN  \n",
       "3  Action,Crime,Drama            7.0        77     IN  \n",
       "4  Action,Crime,Drama            7.0        77     IN  "
      ]
     },
     "execution_count": 21,
     "metadata": {},
     "output_type": "execute_result"
    }
   ],
   "source": [
    "df_imdb.head()"
   ]
  },
  {
   "cell_type": "code",
   "execution_count": 22,
   "metadata": {
    "scrolled": true
   },
   "outputs": [
    {
     "name": "stdout",
     "output_type": "stream",
     "text": [
      "<class 'pandas.core.frame.DataFrame'>\n",
      "RangeIndex: 266085 entries, 0 to 266084\n",
      "Data columns (total 9 columns):\n",
      " #   Column          Non-Null Count   Dtype  \n",
      "---  ------          --------------   -----  \n",
      " 0   movieid         266085 non-null  object \n",
      " 1   primarytitle    266085 non-null  object \n",
      " 2   originaltitle   266085 non-null  object \n",
      " 3   startyear       266085 non-null  int64  \n",
      " 4   runtimeminutes  253959 non-null  float64\n",
      " 5   genres          264736 non-null  object \n",
      " 6   averagerating   266085 non-null  float64\n",
      " 7   numvotes        266085 non-null  int64  \n",
      " 8   region          218341 non-null  object \n",
      "dtypes: float64(2), int64(2), object(5)\n",
      "memory usage: 18.3+ MB\n"
     ]
    }
   ],
   "source": [
    "df_imdb.info()"
   ]
  },
  {
   "cell_type": "markdown",
   "metadata": {},
   "source": [
    "<br>\n",
    "Box Office Mojo Movie Gross Data Frame\n",
    "<br>\n",
    "- Cleaning the column names"
   ]
  },
  {
   "cell_type": "code",
   "execution_count": 23,
   "metadata": {},
   "outputs": [],
   "source": [
    "df_mg = df_mg.rename(columns = dict(zip(df_mg.columns, [c.replace(\"_\", \"\").strip() for c in df_mg.columns])))"
   ]
  },
  {
   "cell_type": "code",
   "execution_count": 24,
   "metadata": {},
   "outputs": [],
   "source": [
    "df_mg[['primarytitle', 'startyear']] = df_mg[['title', 'year']]"
   ]
  },
  {
   "cell_type": "code",
   "execution_count": 25,
   "metadata": {},
   "outputs": [
    {
     "data": {
      "text/html": [
       "<div>\n",
       "<style scoped>\n",
       "    .dataframe tbody tr th:only-of-type {\n",
       "        vertical-align: middle;\n",
       "    }\n",
       "\n",
       "    .dataframe tbody tr th {\n",
       "        vertical-align: top;\n",
       "    }\n",
       "\n",
       "    .dataframe thead th {\n",
       "        text-align: right;\n",
       "    }\n",
       "</style>\n",
       "<table border=\"1\" class=\"dataframe\">\n",
       "  <thead>\n",
       "    <tr style=\"text-align: right;\">\n",
       "      <th></th>\n",
       "      <th>title</th>\n",
       "      <th>studio</th>\n",
       "      <th>domesticgross</th>\n",
       "      <th>foreigngross</th>\n",
       "      <th>year</th>\n",
       "      <th>primarytitle</th>\n",
       "      <th>startyear</th>\n",
       "    </tr>\n",
       "  </thead>\n",
       "  <tbody>\n",
       "    <tr>\n",
       "      <th>0</th>\n",
       "      <td>Toy Story 3</td>\n",
       "      <td>BV</td>\n",
       "      <td>415000000.0</td>\n",
       "      <td>652000000</td>\n",
       "      <td>2010</td>\n",
       "      <td>Toy Story 3</td>\n",
       "      <td>2010</td>\n",
       "    </tr>\n",
       "    <tr>\n",
       "      <th>1</th>\n",
       "      <td>Alice in Wonderland (2010)</td>\n",
       "      <td>BV</td>\n",
       "      <td>334200000.0</td>\n",
       "      <td>691300000</td>\n",
       "      <td>2010</td>\n",
       "      <td>Alice in Wonderland (2010)</td>\n",
       "      <td>2010</td>\n",
       "    </tr>\n",
       "    <tr>\n",
       "      <th>2</th>\n",
       "      <td>Harry Potter and the Deathly Hallows Part 1</td>\n",
       "      <td>WB</td>\n",
       "      <td>296000000.0</td>\n",
       "      <td>664300000</td>\n",
       "      <td>2010</td>\n",
       "      <td>Harry Potter and the Deathly Hallows Part 1</td>\n",
       "      <td>2010</td>\n",
       "    </tr>\n",
       "    <tr>\n",
       "      <th>3</th>\n",
       "      <td>Inception</td>\n",
       "      <td>WB</td>\n",
       "      <td>292600000.0</td>\n",
       "      <td>535700000</td>\n",
       "      <td>2010</td>\n",
       "      <td>Inception</td>\n",
       "      <td>2010</td>\n",
       "    </tr>\n",
       "    <tr>\n",
       "      <th>4</th>\n",
       "      <td>Shrek Forever After</td>\n",
       "      <td>P/DW</td>\n",
       "      <td>238700000.0</td>\n",
       "      <td>513900000</td>\n",
       "      <td>2010</td>\n",
       "      <td>Shrek Forever After</td>\n",
       "      <td>2010</td>\n",
       "    </tr>\n",
       "  </tbody>\n",
       "</table>\n",
       "</div>"
      ],
      "text/plain": [
       "                                         title studio  domesticgross  \\\n",
       "0                                  Toy Story 3     BV    415000000.0   \n",
       "1                   Alice in Wonderland (2010)     BV    334200000.0   \n",
       "2  Harry Potter and the Deathly Hallows Part 1     WB    296000000.0   \n",
       "3                                    Inception     WB    292600000.0   \n",
       "4                          Shrek Forever After   P/DW    238700000.0   \n",
       "\n",
       "  foreigngross  year                                 primarytitle  startyear  \n",
       "0    652000000  2010                                  Toy Story 3       2010  \n",
       "1    691300000  2010                   Alice in Wonderland (2010)       2010  \n",
       "2    664300000  2010  Harry Potter and the Deathly Hallows Part 1       2010  \n",
       "3    535700000  2010                                    Inception       2010  \n",
       "4    513900000  2010                          Shrek Forever After       2010  "
      ]
     },
     "execution_count": 25,
     "metadata": {},
     "output_type": "execute_result"
    }
   ],
   "source": [
    "df_mg.head()"
   ]
  },
  {
   "cell_type": "code",
   "execution_count": 26,
   "metadata": {
    "scrolled": true
   },
   "outputs": [
    {
     "name": "stdout",
     "output_type": "stream",
     "text": [
      "<class 'pandas.core.frame.DataFrame'>\n",
      "RangeIndex: 3387 entries, 0 to 3386\n",
      "Data columns (total 7 columns):\n",
      " #   Column         Non-Null Count  Dtype  \n",
      "---  ------         --------------  -----  \n",
      " 0   title          3387 non-null   object \n",
      " 1   studio         3382 non-null   object \n",
      " 2   domesticgross  3359 non-null   float64\n",
      " 3   foreigngross   2037 non-null   object \n",
      " 4   year           3387 non-null   int64  \n",
      " 5   primarytitle   3387 non-null   object \n",
      " 6   startyear      3387 non-null   int64  \n",
      "dtypes: float64(1), int64(2), object(4)\n",
      "memory usage: 185.4+ KB\n"
     ]
    }
   ],
   "source": [
    "df_mg.info()"
   ]
  },
  {
   "cell_type": "markdown",
   "metadata": {},
   "source": [
    "#### Creating a Final Data Frame by Combining the Two Data sets \n",
    "Final Data Cleaning"
   ]
  },
  {
   "cell_type": "code",
   "execution_count": 27,
   "metadata": {},
   "outputs": [],
   "source": [
    "df_clean = df_imdb"
   ]
  },
  {
   "cell_type": "code",
   "execution_count": 28,
   "metadata": {},
   "outputs": [
    {
     "data": {
      "text/html": [
       "<div>\n",
       "<style scoped>\n",
       "    .dataframe tbody tr th:only-of-type {\n",
       "        vertical-align: middle;\n",
       "    }\n",
       "\n",
       "    .dataframe tbody tr th {\n",
       "        vertical-align: top;\n",
       "    }\n",
       "\n",
       "    .dataframe thead th {\n",
       "        text-align: right;\n",
       "    }\n",
       "</style>\n",
       "<table border=\"1\" class=\"dataframe\">\n",
       "  <thead>\n",
       "    <tr style=\"text-align: right;\">\n",
       "      <th></th>\n",
       "      <th>movieid</th>\n",
       "      <th>primarytitle</th>\n",
       "      <th>originaltitle</th>\n",
       "      <th>startyear</th>\n",
       "      <th>runtimeminutes</th>\n",
       "      <th>genres</th>\n",
       "      <th>averagerating</th>\n",
       "      <th>numvotes</th>\n",
       "      <th>region</th>\n",
       "    </tr>\n",
       "  </thead>\n",
       "  <tbody>\n",
       "    <tr>\n",
       "      <th>0</th>\n",
       "      <td>tt0063540</td>\n",
       "      <td>Sunghursh</td>\n",
       "      <td>Sunghursh</td>\n",
       "      <td>2013</td>\n",
       "      <td>175.0</td>\n",
       "      <td>Action,Crime,Drama</td>\n",
       "      <td>7.0</td>\n",
       "      <td>77</td>\n",
       "      <td>None</td>\n",
       "    </tr>\n",
       "    <tr>\n",
       "      <th>1</th>\n",
       "      <td>tt0063540</td>\n",
       "      <td>Sunghursh</td>\n",
       "      <td>Sunghursh</td>\n",
       "      <td>2013</td>\n",
       "      <td>175.0</td>\n",
       "      <td>Action,Crime,Drama</td>\n",
       "      <td>7.0</td>\n",
       "      <td>77</td>\n",
       "      <td>IN</td>\n",
       "    </tr>\n",
       "    <tr>\n",
       "      <th>2</th>\n",
       "      <td>tt0063540</td>\n",
       "      <td>Sunghursh</td>\n",
       "      <td>Sunghursh</td>\n",
       "      <td>2013</td>\n",
       "      <td>175.0</td>\n",
       "      <td>Action,Crime,Drama</td>\n",
       "      <td>7.0</td>\n",
       "      <td>77</td>\n",
       "      <td>IN</td>\n",
       "    </tr>\n",
       "    <tr>\n",
       "      <th>3</th>\n",
       "      <td>tt0063540</td>\n",
       "      <td>Sunghursh</td>\n",
       "      <td>Sunghursh</td>\n",
       "      <td>2013</td>\n",
       "      <td>175.0</td>\n",
       "      <td>Action,Crime,Drama</td>\n",
       "      <td>7.0</td>\n",
       "      <td>77</td>\n",
       "      <td>IN</td>\n",
       "    </tr>\n",
       "    <tr>\n",
       "      <th>4</th>\n",
       "      <td>tt0063540</td>\n",
       "      <td>Sunghursh</td>\n",
       "      <td>Sunghursh</td>\n",
       "      <td>2013</td>\n",
       "      <td>175.0</td>\n",
       "      <td>Action,Crime,Drama</td>\n",
       "      <td>7.0</td>\n",
       "      <td>77</td>\n",
       "      <td>IN</td>\n",
       "    </tr>\n",
       "  </tbody>\n",
       "</table>\n",
       "</div>"
      ],
      "text/plain": [
       "     movieid primarytitle originaltitle  startyear  runtimeminutes  \\\n",
       "0  tt0063540    Sunghursh     Sunghursh       2013           175.0   \n",
       "1  tt0063540    Sunghursh     Sunghursh       2013           175.0   \n",
       "2  tt0063540    Sunghursh     Sunghursh       2013           175.0   \n",
       "3  tt0063540    Sunghursh     Sunghursh       2013           175.0   \n",
       "4  tt0063540    Sunghursh     Sunghursh       2013           175.0   \n",
       "\n",
       "               genres  averagerating  numvotes region  \n",
       "0  Action,Crime,Drama            7.0        77   None  \n",
       "1  Action,Crime,Drama            7.0        77     IN  \n",
       "2  Action,Crime,Drama            7.0        77     IN  \n",
       "3  Action,Crime,Drama            7.0        77     IN  \n",
       "4  Action,Crime,Drama            7.0        77     IN  "
      ]
     },
     "execution_count": 28,
     "metadata": {},
     "output_type": "execute_result"
    }
   ],
   "source": [
    "df_clean.head()"
   ]
  },
  {
   "cell_type": "code",
   "execution_count": 29,
   "metadata": {},
   "outputs": [],
   "source": [
    "# combining the two datasets into a new dataframe\n",
    "df_clean = pd.merge(df_clean, df_mg, how='left', on=['primarytitle','startyear'])"
   ]
  },
  {
   "cell_type": "code",
   "execution_count": 30,
   "metadata": {},
   "outputs": [
    {
     "data": {
      "text/html": [
       "<div>\n",
       "<style scoped>\n",
       "    .dataframe tbody tr th:only-of-type {\n",
       "        vertical-align: middle;\n",
       "    }\n",
       "\n",
       "    .dataframe tbody tr th {\n",
       "        vertical-align: top;\n",
       "    }\n",
       "\n",
       "    .dataframe thead th {\n",
       "        text-align: right;\n",
       "    }\n",
       "</style>\n",
       "<table border=\"1\" class=\"dataframe\">\n",
       "  <thead>\n",
       "    <tr style=\"text-align: right;\">\n",
       "      <th></th>\n",
       "      <th>movieid</th>\n",
       "      <th>primarytitle</th>\n",
       "      <th>originaltitle</th>\n",
       "      <th>startyear</th>\n",
       "      <th>runtimeminutes</th>\n",
       "      <th>genres</th>\n",
       "      <th>averagerating</th>\n",
       "      <th>numvotes</th>\n",
       "      <th>region</th>\n",
       "      <th>title</th>\n",
       "      <th>studio</th>\n",
       "      <th>domesticgross</th>\n",
       "      <th>foreigngross</th>\n",
       "      <th>year</th>\n",
       "    </tr>\n",
       "  </thead>\n",
       "  <tbody>\n",
       "    <tr>\n",
       "      <th>0</th>\n",
       "      <td>tt0063540</td>\n",
       "      <td>Sunghursh</td>\n",
       "      <td>Sunghursh</td>\n",
       "      <td>2013</td>\n",
       "      <td>175.0</td>\n",
       "      <td>Action,Crime,Drama</td>\n",
       "      <td>7.0</td>\n",
       "      <td>77</td>\n",
       "      <td>None</td>\n",
       "      <td>NaN</td>\n",
       "      <td>NaN</td>\n",
       "      <td>NaN</td>\n",
       "      <td>NaN</td>\n",
       "      <td>NaN</td>\n",
       "    </tr>\n",
       "    <tr>\n",
       "      <th>1</th>\n",
       "      <td>tt0063540</td>\n",
       "      <td>Sunghursh</td>\n",
       "      <td>Sunghursh</td>\n",
       "      <td>2013</td>\n",
       "      <td>175.0</td>\n",
       "      <td>Action,Crime,Drama</td>\n",
       "      <td>7.0</td>\n",
       "      <td>77</td>\n",
       "      <td>IN</td>\n",
       "      <td>NaN</td>\n",
       "      <td>NaN</td>\n",
       "      <td>NaN</td>\n",
       "      <td>NaN</td>\n",
       "      <td>NaN</td>\n",
       "    </tr>\n",
       "    <tr>\n",
       "      <th>2</th>\n",
       "      <td>tt0063540</td>\n",
       "      <td>Sunghursh</td>\n",
       "      <td>Sunghursh</td>\n",
       "      <td>2013</td>\n",
       "      <td>175.0</td>\n",
       "      <td>Action,Crime,Drama</td>\n",
       "      <td>7.0</td>\n",
       "      <td>77</td>\n",
       "      <td>IN</td>\n",
       "      <td>NaN</td>\n",
       "      <td>NaN</td>\n",
       "      <td>NaN</td>\n",
       "      <td>NaN</td>\n",
       "      <td>NaN</td>\n",
       "    </tr>\n",
       "    <tr>\n",
       "      <th>3</th>\n",
       "      <td>tt0063540</td>\n",
       "      <td>Sunghursh</td>\n",
       "      <td>Sunghursh</td>\n",
       "      <td>2013</td>\n",
       "      <td>175.0</td>\n",
       "      <td>Action,Crime,Drama</td>\n",
       "      <td>7.0</td>\n",
       "      <td>77</td>\n",
       "      <td>IN</td>\n",
       "      <td>NaN</td>\n",
       "      <td>NaN</td>\n",
       "      <td>NaN</td>\n",
       "      <td>NaN</td>\n",
       "      <td>NaN</td>\n",
       "    </tr>\n",
       "    <tr>\n",
       "      <th>4</th>\n",
       "      <td>tt0063540</td>\n",
       "      <td>Sunghursh</td>\n",
       "      <td>Sunghursh</td>\n",
       "      <td>2013</td>\n",
       "      <td>175.0</td>\n",
       "      <td>Action,Crime,Drama</td>\n",
       "      <td>7.0</td>\n",
       "      <td>77</td>\n",
       "      <td>IN</td>\n",
       "      <td>NaN</td>\n",
       "      <td>NaN</td>\n",
       "      <td>NaN</td>\n",
       "      <td>NaN</td>\n",
       "      <td>NaN</td>\n",
       "    </tr>\n",
       "  </tbody>\n",
       "</table>\n",
       "</div>"
      ],
      "text/plain": [
       "     movieid primarytitle originaltitle  startyear  runtimeminutes  \\\n",
       "0  tt0063540    Sunghursh     Sunghursh       2013           175.0   \n",
       "1  tt0063540    Sunghursh     Sunghursh       2013           175.0   \n",
       "2  tt0063540    Sunghursh     Sunghursh       2013           175.0   \n",
       "3  tt0063540    Sunghursh     Sunghursh       2013           175.0   \n",
       "4  tt0063540    Sunghursh     Sunghursh       2013           175.0   \n",
       "\n",
       "               genres  averagerating  numvotes region title studio  \\\n",
       "0  Action,Crime,Drama            7.0        77   None   NaN    NaN   \n",
       "1  Action,Crime,Drama            7.0        77     IN   NaN    NaN   \n",
       "2  Action,Crime,Drama            7.0        77     IN   NaN    NaN   \n",
       "3  Action,Crime,Drama            7.0        77     IN   NaN    NaN   \n",
       "4  Action,Crime,Drama            7.0        77     IN   NaN    NaN   \n",
       "\n",
       "   domesticgross foreigngross  year  \n",
       "0            NaN          NaN   NaN  \n",
       "1            NaN          NaN   NaN  \n",
       "2            NaN          NaN   NaN  \n",
       "3            NaN          NaN   NaN  \n",
       "4            NaN          NaN   NaN  "
      ]
     },
     "execution_count": 30,
     "metadata": {},
     "output_type": "execute_result"
    }
   ],
   "source": [
    "df_clean.head()"
   ]
  },
  {
   "cell_type": "markdown",
   "metadata": {},
   "source": [
    "\n",
    "##### Gross Cleaning\n",
    "Creating a new column for total_gross by combining the domesticgross column and foreigngross column;\n",
    "<br>"
   ]
  },
  {
   "cell_type": "code",
   "execution_count": 31,
   "metadata": {},
   "outputs": [
    {
     "data": {
      "text/html": [
       "<div>\n",
       "<style scoped>\n",
       "    .dataframe tbody tr th:only-of-type {\n",
       "        vertical-align: middle;\n",
       "    }\n",
       "\n",
       "    .dataframe tbody tr th {\n",
       "        vertical-align: top;\n",
       "    }\n",
       "\n",
       "    .dataframe thead th {\n",
       "        text-align: right;\n",
       "    }\n",
       "</style>\n",
       "<table border=\"1\" class=\"dataframe\">\n",
       "  <thead>\n",
       "    <tr style=\"text-align: right;\">\n",
       "      <th></th>\n",
       "      <th>movieid</th>\n",
       "      <th>primarytitle</th>\n",
       "      <th>originaltitle</th>\n",
       "      <th>startyear</th>\n",
       "      <th>runtimeminutes</th>\n",
       "      <th>genres</th>\n",
       "      <th>averagerating</th>\n",
       "      <th>numvotes</th>\n",
       "      <th>region</th>\n",
       "      <th>title</th>\n",
       "      <th>studio</th>\n",
       "      <th>domesticgross</th>\n",
       "      <th>foreigngross</th>\n",
       "      <th>year</th>\n",
       "    </tr>\n",
       "  </thead>\n",
       "  <tbody>\n",
       "    <tr>\n",
       "      <th>0</th>\n",
       "      <td>tt0063540</td>\n",
       "      <td>Sunghursh</td>\n",
       "      <td>Sunghursh</td>\n",
       "      <td>2013</td>\n",
       "      <td>175.0</td>\n",
       "      <td>Action,Crime,Drama</td>\n",
       "      <td>7.0</td>\n",
       "      <td>77</td>\n",
       "      <td>None</td>\n",
       "      <td>NaN</td>\n",
       "      <td>NaN</td>\n",
       "      <td>NaN</td>\n",
       "      <td>NaN</td>\n",
       "      <td>NaN</td>\n",
       "    </tr>\n",
       "    <tr>\n",
       "      <th>1</th>\n",
       "      <td>tt0063540</td>\n",
       "      <td>Sunghursh</td>\n",
       "      <td>Sunghursh</td>\n",
       "      <td>2013</td>\n",
       "      <td>175.0</td>\n",
       "      <td>Action,Crime,Drama</td>\n",
       "      <td>7.0</td>\n",
       "      <td>77</td>\n",
       "      <td>IN</td>\n",
       "      <td>NaN</td>\n",
       "      <td>NaN</td>\n",
       "      <td>NaN</td>\n",
       "      <td>NaN</td>\n",
       "      <td>NaN</td>\n",
       "    </tr>\n",
       "    <tr>\n",
       "      <th>2</th>\n",
       "      <td>tt0063540</td>\n",
       "      <td>Sunghursh</td>\n",
       "      <td>Sunghursh</td>\n",
       "      <td>2013</td>\n",
       "      <td>175.0</td>\n",
       "      <td>Action,Crime,Drama</td>\n",
       "      <td>7.0</td>\n",
       "      <td>77</td>\n",
       "      <td>IN</td>\n",
       "      <td>NaN</td>\n",
       "      <td>NaN</td>\n",
       "      <td>NaN</td>\n",
       "      <td>NaN</td>\n",
       "      <td>NaN</td>\n",
       "    </tr>\n",
       "    <tr>\n",
       "      <th>3</th>\n",
       "      <td>tt0063540</td>\n",
       "      <td>Sunghursh</td>\n",
       "      <td>Sunghursh</td>\n",
       "      <td>2013</td>\n",
       "      <td>175.0</td>\n",
       "      <td>Action,Crime,Drama</td>\n",
       "      <td>7.0</td>\n",
       "      <td>77</td>\n",
       "      <td>IN</td>\n",
       "      <td>NaN</td>\n",
       "      <td>NaN</td>\n",
       "      <td>NaN</td>\n",
       "      <td>NaN</td>\n",
       "      <td>NaN</td>\n",
       "    </tr>\n",
       "    <tr>\n",
       "      <th>4</th>\n",
       "      <td>tt0063540</td>\n",
       "      <td>Sunghursh</td>\n",
       "      <td>Sunghursh</td>\n",
       "      <td>2013</td>\n",
       "      <td>175.0</td>\n",
       "      <td>Action,Crime,Drama</td>\n",
       "      <td>7.0</td>\n",
       "      <td>77</td>\n",
       "      <td>IN</td>\n",
       "      <td>NaN</td>\n",
       "      <td>NaN</td>\n",
       "      <td>NaN</td>\n",
       "      <td>NaN</td>\n",
       "      <td>NaN</td>\n",
       "    </tr>\n",
       "  </tbody>\n",
       "</table>\n",
       "</div>"
      ],
      "text/plain": [
       "     movieid primarytitle originaltitle  startyear  runtimeminutes  \\\n",
       "0  tt0063540    Sunghursh     Sunghursh       2013           175.0   \n",
       "1  tt0063540    Sunghursh     Sunghursh       2013           175.0   \n",
       "2  tt0063540    Sunghursh     Sunghursh       2013           175.0   \n",
       "3  tt0063540    Sunghursh     Sunghursh       2013           175.0   \n",
       "4  tt0063540    Sunghursh     Sunghursh       2013           175.0   \n",
       "\n",
       "               genres  averagerating  numvotes region title studio  \\\n",
       "0  Action,Crime,Drama            7.0        77   None   NaN    NaN   \n",
       "1  Action,Crime,Drama            7.0        77     IN   NaN    NaN   \n",
       "2  Action,Crime,Drama            7.0        77     IN   NaN    NaN   \n",
       "3  Action,Crime,Drama            7.0        77     IN   NaN    NaN   \n",
       "4  Action,Crime,Drama            7.0        77     IN   NaN    NaN   \n",
       "\n",
       "   domesticgross foreigngross  year  \n",
       "0            NaN          NaN   NaN  \n",
       "1            NaN          NaN   NaN  \n",
       "2            NaN          NaN   NaN  \n",
       "3            NaN          NaN   NaN  \n",
       "4            NaN          NaN   NaN  "
      ]
     },
     "execution_count": 31,
     "metadata": {},
     "output_type": "execute_result"
    }
   ],
   "source": [
    "df_clean.head()"
   ]
  },
  {
   "cell_type": "code",
   "execution_count": 32,
   "metadata": {
    "scrolled": true
   },
   "outputs": [
    {
     "data": {
      "text/html": [
       "<div>\n",
       "<style scoped>\n",
       "    .dataframe tbody tr th:only-of-type {\n",
       "        vertical-align: middle;\n",
       "    }\n",
       "\n",
       "    .dataframe tbody tr th {\n",
       "        vertical-align: top;\n",
       "    }\n",
       "\n",
       "    .dataframe thead th {\n",
       "        text-align: right;\n",
       "    }\n",
       "</style>\n",
       "<table border=\"1\" class=\"dataframe\">\n",
       "  <thead>\n",
       "    <tr style=\"text-align: right;\">\n",
       "      <th></th>\n",
       "      <th>movieid</th>\n",
       "      <th>primarytitle</th>\n",
       "      <th>originaltitle</th>\n",
       "      <th>startyear</th>\n",
       "      <th>runtimeminutes</th>\n",
       "      <th>genres</th>\n",
       "      <th>averagerating</th>\n",
       "      <th>numvotes</th>\n",
       "      <th>region</th>\n",
       "      <th>title</th>\n",
       "      <th>studio</th>\n",
       "      <th>domesticgross</th>\n",
       "      <th>foreigngross</th>\n",
       "      <th>year</th>\n",
       "      <th>total_gross</th>\n",
       "    </tr>\n",
       "  </thead>\n",
       "  <tbody>\n",
       "    <tr>\n",
       "      <th>0</th>\n",
       "      <td>tt0063540</td>\n",
       "      <td>Sunghursh</td>\n",
       "      <td>Sunghursh</td>\n",
       "      <td>2013</td>\n",
       "      <td>175.0</td>\n",
       "      <td>Action,Crime,Drama</td>\n",
       "      <td>7.0</td>\n",
       "      <td>77</td>\n",
       "      <td>None</td>\n",
       "      <td>NaN</td>\n",
       "      <td>NaN</td>\n",
       "      <td>NaN</td>\n",
       "      <td>NaN</td>\n",
       "      <td>NaN</td>\n",
       "      <td>NaN</td>\n",
       "    </tr>\n",
       "    <tr>\n",
       "      <th>1</th>\n",
       "      <td>tt0063540</td>\n",
       "      <td>Sunghursh</td>\n",
       "      <td>Sunghursh</td>\n",
       "      <td>2013</td>\n",
       "      <td>175.0</td>\n",
       "      <td>Action,Crime,Drama</td>\n",
       "      <td>7.0</td>\n",
       "      <td>77</td>\n",
       "      <td>IN</td>\n",
       "      <td>NaN</td>\n",
       "      <td>NaN</td>\n",
       "      <td>NaN</td>\n",
       "      <td>NaN</td>\n",
       "      <td>NaN</td>\n",
       "      <td>NaN</td>\n",
       "    </tr>\n",
       "    <tr>\n",
       "      <th>2</th>\n",
       "      <td>tt0063540</td>\n",
       "      <td>Sunghursh</td>\n",
       "      <td>Sunghursh</td>\n",
       "      <td>2013</td>\n",
       "      <td>175.0</td>\n",
       "      <td>Action,Crime,Drama</td>\n",
       "      <td>7.0</td>\n",
       "      <td>77</td>\n",
       "      <td>IN</td>\n",
       "      <td>NaN</td>\n",
       "      <td>NaN</td>\n",
       "      <td>NaN</td>\n",
       "      <td>NaN</td>\n",
       "      <td>NaN</td>\n",
       "      <td>NaN</td>\n",
       "    </tr>\n",
       "    <tr>\n",
       "      <th>3</th>\n",
       "      <td>tt0063540</td>\n",
       "      <td>Sunghursh</td>\n",
       "      <td>Sunghursh</td>\n",
       "      <td>2013</td>\n",
       "      <td>175.0</td>\n",
       "      <td>Action,Crime,Drama</td>\n",
       "      <td>7.0</td>\n",
       "      <td>77</td>\n",
       "      <td>IN</td>\n",
       "      <td>NaN</td>\n",
       "      <td>NaN</td>\n",
       "      <td>NaN</td>\n",
       "      <td>NaN</td>\n",
       "      <td>NaN</td>\n",
       "      <td>NaN</td>\n",
       "    </tr>\n",
       "    <tr>\n",
       "      <th>4</th>\n",
       "      <td>tt0063540</td>\n",
       "      <td>Sunghursh</td>\n",
       "      <td>Sunghursh</td>\n",
       "      <td>2013</td>\n",
       "      <td>175.0</td>\n",
       "      <td>Action,Crime,Drama</td>\n",
       "      <td>7.0</td>\n",
       "      <td>77</td>\n",
       "      <td>IN</td>\n",
       "      <td>NaN</td>\n",
       "      <td>NaN</td>\n",
       "      <td>NaN</td>\n",
       "      <td>NaN</td>\n",
       "      <td>NaN</td>\n",
       "      <td>NaN</td>\n",
       "    </tr>\n",
       "  </tbody>\n",
       "</table>\n",
       "</div>"
      ],
      "text/plain": [
       "     movieid primarytitle originaltitle  startyear  runtimeminutes  \\\n",
       "0  tt0063540    Sunghursh     Sunghursh       2013           175.0   \n",
       "1  tt0063540    Sunghursh     Sunghursh       2013           175.0   \n",
       "2  tt0063540    Sunghursh     Sunghursh       2013           175.0   \n",
       "3  tt0063540    Sunghursh     Sunghursh       2013           175.0   \n",
       "4  tt0063540    Sunghursh     Sunghursh       2013           175.0   \n",
       "\n",
       "               genres  averagerating  numvotes region title studio  \\\n",
       "0  Action,Crime,Drama            7.0        77   None   NaN    NaN   \n",
       "1  Action,Crime,Drama            7.0        77     IN   NaN    NaN   \n",
       "2  Action,Crime,Drama            7.0        77     IN   NaN    NaN   \n",
       "3  Action,Crime,Drama            7.0        77     IN   NaN    NaN   \n",
       "4  Action,Crime,Drama            7.0        77     IN   NaN    NaN   \n",
       "\n",
       "   domesticgross  foreigngross  year  total_gross  \n",
       "0            NaN           NaN   NaN          NaN  \n",
       "1            NaN           NaN   NaN          NaN  \n",
       "2            NaN           NaN   NaN          NaN  \n",
       "3            NaN           NaN   NaN          NaN  \n",
       "4            NaN           NaN   NaN          NaN  "
      ]
     },
     "execution_count": 32,
     "metadata": {},
     "output_type": "execute_result"
    }
   ],
   "source": [
    "df_clean['domesticgross'] = df_clean['domesticgross'].apply(pd.to_numeric, errors = 'coerce').dropna().astype(float)\n",
    "df_clean['foreigngross'] = df_clean['foreigngross'].apply(pd.to_numeric, errors = 'coerce').dropna().astype(float)\n",
    "\n",
    "df_clean['total_gross'] = df_clean['domesticgross'] + df_clean['foreigngross']\n",
    "\n",
    "df_clean.head()"
   ]
  },
  {
   "cell_type": "markdown",
   "metadata": {},
   "source": [
    "<br>\n",
    "Dropping any null values in the total_gross column;"
   ]
  },
  {
   "cell_type": "code",
   "execution_count": 33,
   "metadata": {},
   "outputs": [
    {
     "data": {
      "text/plain": [
       "233310"
      ]
     },
     "execution_count": 33,
     "metadata": {},
     "output_type": "execute_result"
    }
   ],
   "source": [
    "df_clean['total_gross'].isnull().sum()"
   ]
  },
  {
   "cell_type": "code",
   "execution_count": 34,
   "metadata": {},
   "outputs": [],
   "source": [
    "df_clean['total_gross'].fillna(-999999, inplace=True)"
   ]
  },
  {
   "cell_type": "code",
   "execution_count": 35,
   "metadata": {
    "scrolled": true
   },
   "outputs": [
    {
     "data": {
      "text/plain": [
       "0"
      ]
     },
     "execution_count": 35,
     "metadata": {},
     "output_type": "execute_result"
    }
   ],
   "source": [
    "df_clean['total_gross'].isnull().sum()"
   ]
  },
  {
   "cell_type": "markdown",
   "metadata": {},
   "source": [
    "<br>\n",
    "Checking;"
   ]
  },
  {
   "cell_type": "code",
   "execution_count": 36,
   "metadata": {
    "scrolled": true
   },
   "outputs": [
    {
     "data": {
      "text/html": [
       "<div>\n",
       "<style scoped>\n",
       "    .dataframe tbody tr th:only-of-type {\n",
       "        vertical-align: middle;\n",
       "    }\n",
       "\n",
       "    .dataframe tbody tr th {\n",
       "        vertical-align: top;\n",
       "    }\n",
       "\n",
       "    .dataframe thead th {\n",
       "        text-align: right;\n",
       "    }\n",
       "</style>\n",
       "<table border=\"1\" class=\"dataframe\">\n",
       "  <thead>\n",
       "    <tr style=\"text-align: right;\">\n",
       "      <th></th>\n",
       "      <th>movieid</th>\n",
       "      <th>primarytitle</th>\n",
       "      <th>originaltitle</th>\n",
       "      <th>startyear</th>\n",
       "      <th>runtimeminutes</th>\n",
       "      <th>genres</th>\n",
       "      <th>averagerating</th>\n",
       "      <th>numvotes</th>\n",
       "      <th>region</th>\n",
       "      <th>title</th>\n",
       "      <th>studio</th>\n",
       "      <th>domesticgross</th>\n",
       "      <th>foreigngross</th>\n",
       "      <th>year</th>\n",
       "      <th>total_gross</th>\n",
       "    </tr>\n",
       "  </thead>\n",
       "  <tbody>\n",
       "    <tr>\n",
       "      <th>0</th>\n",
       "      <td>tt0063540</td>\n",
       "      <td>Sunghursh</td>\n",
       "      <td>Sunghursh</td>\n",
       "      <td>2013</td>\n",
       "      <td>175.0</td>\n",
       "      <td>Action,Crime,Drama</td>\n",
       "      <td>7.0</td>\n",
       "      <td>77</td>\n",
       "      <td>None</td>\n",
       "      <td>NaN</td>\n",
       "      <td>NaN</td>\n",
       "      <td>NaN</td>\n",
       "      <td>NaN</td>\n",
       "      <td>NaN</td>\n",
       "      <td>-999999.0</td>\n",
       "    </tr>\n",
       "    <tr>\n",
       "      <th>1</th>\n",
       "      <td>tt0063540</td>\n",
       "      <td>Sunghursh</td>\n",
       "      <td>Sunghursh</td>\n",
       "      <td>2013</td>\n",
       "      <td>175.0</td>\n",
       "      <td>Action,Crime,Drama</td>\n",
       "      <td>7.0</td>\n",
       "      <td>77</td>\n",
       "      <td>IN</td>\n",
       "      <td>NaN</td>\n",
       "      <td>NaN</td>\n",
       "      <td>NaN</td>\n",
       "      <td>NaN</td>\n",
       "      <td>NaN</td>\n",
       "      <td>-999999.0</td>\n",
       "    </tr>\n",
       "    <tr>\n",
       "      <th>2</th>\n",
       "      <td>tt0063540</td>\n",
       "      <td>Sunghursh</td>\n",
       "      <td>Sunghursh</td>\n",
       "      <td>2013</td>\n",
       "      <td>175.0</td>\n",
       "      <td>Action,Crime,Drama</td>\n",
       "      <td>7.0</td>\n",
       "      <td>77</td>\n",
       "      <td>IN</td>\n",
       "      <td>NaN</td>\n",
       "      <td>NaN</td>\n",
       "      <td>NaN</td>\n",
       "      <td>NaN</td>\n",
       "      <td>NaN</td>\n",
       "      <td>-999999.0</td>\n",
       "    </tr>\n",
       "    <tr>\n",
       "      <th>3</th>\n",
       "      <td>tt0063540</td>\n",
       "      <td>Sunghursh</td>\n",
       "      <td>Sunghursh</td>\n",
       "      <td>2013</td>\n",
       "      <td>175.0</td>\n",
       "      <td>Action,Crime,Drama</td>\n",
       "      <td>7.0</td>\n",
       "      <td>77</td>\n",
       "      <td>IN</td>\n",
       "      <td>NaN</td>\n",
       "      <td>NaN</td>\n",
       "      <td>NaN</td>\n",
       "      <td>NaN</td>\n",
       "      <td>NaN</td>\n",
       "      <td>-999999.0</td>\n",
       "    </tr>\n",
       "    <tr>\n",
       "      <th>4</th>\n",
       "      <td>tt0063540</td>\n",
       "      <td>Sunghursh</td>\n",
       "      <td>Sunghursh</td>\n",
       "      <td>2013</td>\n",
       "      <td>175.0</td>\n",
       "      <td>Action,Crime,Drama</td>\n",
       "      <td>7.0</td>\n",
       "      <td>77</td>\n",
       "      <td>IN</td>\n",
       "      <td>NaN</td>\n",
       "      <td>NaN</td>\n",
       "      <td>NaN</td>\n",
       "      <td>NaN</td>\n",
       "      <td>NaN</td>\n",
       "      <td>-999999.0</td>\n",
       "    </tr>\n",
       "  </tbody>\n",
       "</table>\n",
       "</div>"
      ],
      "text/plain": [
       "     movieid primarytitle originaltitle  startyear  runtimeminutes  \\\n",
       "0  tt0063540    Sunghursh     Sunghursh       2013           175.0   \n",
       "1  tt0063540    Sunghursh     Sunghursh       2013           175.0   \n",
       "2  tt0063540    Sunghursh     Sunghursh       2013           175.0   \n",
       "3  tt0063540    Sunghursh     Sunghursh       2013           175.0   \n",
       "4  tt0063540    Sunghursh     Sunghursh       2013           175.0   \n",
       "\n",
       "               genres  averagerating  numvotes region title studio  \\\n",
       "0  Action,Crime,Drama            7.0        77   None   NaN    NaN   \n",
       "1  Action,Crime,Drama            7.0        77     IN   NaN    NaN   \n",
       "2  Action,Crime,Drama            7.0        77     IN   NaN    NaN   \n",
       "3  Action,Crime,Drama            7.0        77     IN   NaN    NaN   \n",
       "4  Action,Crime,Drama            7.0        77     IN   NaN    NaN   \n",
       "\n",
       "   domesticgross  foreigngross  year  total_gross  \n",
       "0            NaN           NaN   NaN    -999999.0  \n",
       "1            NaN           NaN   NaN    -999999.0  \n",
       "2            NaN           NaN   NaN    -999999.0  \n",
       "3            NaN           NaN   NaN    -999999.0  \n",
       "4            NaN           NaN   NaN    -999999.0  "
      ]
     },
     "execution_count": 36,
     "metadata": {},
     "output_type": "execute_result"
    }
   ],
   "source": [
    "df_clean.head()"
   ]
  },
  {
   "cell_type": "markdown",
   "metadata": {},
   "source": [
    "<br>\n",
    "<br>\n",
    "\n",
    "Since the **total_gross** column now exists we can drop the **domesticgross** and **foreigngross** columns for a cleaner data set;"
   ]
  },
  {
   "cell_type": "code",
   "execution_count": 37,
   "metadata": {},
   "outputs": [],
   "source": [
    "df_clean = df_clean.drop('domesticgross', axis = 1)"
   ]
  },
  {
   "cell_type": "code",
   "execution_count": 38,
   "metadata": {},
   "outputs": [],
   "source": [
    "df_clean = df_clean.drop('foreigngross', axis = 1)"
   ]
  },
  {
   "cell_type": "markdown",
   "metadata": {},
   "source": [
    "<br>\n",
    "Checking;"
   ]
  },
  {
   "cell_type": "code",
   "execution_count": 39,
   "metadata": {},
   "outputs": [
    {
     "data": {
      "text/html": [
       "<div>\n",
       "<style scoped>\n",
       "    .dataframe tbody tr th:only-of-type {\n",
       "        vertical-align: middle;\n",
       "    }\n",
       "\n",
       "    .dataframe tbody tr th {\n",
       "        vertical-align: top;\n",
       "    }\n",
       "\n",
       "    .dataframe thead th {\n",
       "        text-align: right;\n",
       "    }\n",
       "</style>\n",
       "<table border=\"1\" class=\"dataframe\">\n",
       "  <thead>\n",
       "    <tr style=\"text-align: right;\">\n",
       "      <th></th>\n",
       "      <th>movieid</th>\n",
       "      <th>primarytitle</th>\n",
       "      <th>originaltitle</th>\n",
       "      <th>startyear</th>\n",
       "      <th>runtimeminutes</th>\n",
       "      <th>genres</th>\n",
       "      <th>averagerating</th>\n",
       "      <th>numvotes</th>\n",
       "      <th>region</th>\n",
       "      <th>title</th>\n",
       "      <th>studio</th>\n",
       "      <th>year</th>\n",
       "      <th>total_gross</th>\n",
       "    </tr>\n",
       "  </thead>\n",
       "  <tbody>\n",
       "    <tr>\n",
       "      <th>0</th>\n",
       "      <td>tt0063540</td>\n",
       "      <td>Sunghursh</td>\n",
       "      <td>Sunghursh</td>\n",
       "      <td>2013</td>\n",
       "      <td>175.0</td>\n",
       "      <td>Action,Crime,Drama</td>\n",
       "      <td>7.0</td>\n",
       "      <td>77</td>\n",
       "      <td>None</td>\n",
       "      <td>NaN</td>\n",
       "      <td>NaN</td>\n",
       "      <td>NaN</td>\n",
       "      <td>-999999.0</td>\n",
       "    </tr>\n",
       "    <tr>\n",
       "      <th>1</th>\n",
       "      <td>tt0063540</td>\n",
       "      <td>Sunghursh</td>\n",
       "      <td>Sunghursh</td>\n",
       "      <td>2013</td>\n",
       "      <td>175.0</td>\n",
       "      <td>Action,Crime,Drama</td>\n",
       "      <td>7.0</td>\n",
       "      <td>77</td>\n",
       "      <td>IN</td>\n",
       "      <td>NaN</td>\n",
       "      <td>NaN</td>\n",
       "      <td>NaN</td>\n",
       "      <td>-999999.0</td>\n",
       "    </tr>\n",
       "    <tr>\n",
       "      <th>2</th>\n",
       "      <td>tt0063540</td>\n",
       "      <td>Sunghursh</td>\n",
       "      <td>Sunghursh</td>\n",
       "      <td>2013</td>\n",
       "      <td>175.0</td>\n",
       "      <td>Action,Crime,Drama</td>\n",
       "      <td>7.0</td>\n",
       "      <td>77</td>\n",
       "      <td>IN</td>\n",
       "      <td>NaN</td>\n",
       "      <td>NaN</td>\n",
       "      <td>NaN</td>\n",
       "      <td>-999999.0</td>\n",
       "    </tr>\n",
       "    <tr>\n",
       "      <th>3</th>\n",
       "      <td>tt0063540</td>\n",
       "      <td>Sunghursh</td>\n",
       "      <td>Sunghursh</td>\n",
       "      <td>2013</td>\n",
       "      <td>175.0</td>\n",
       "      <td>Action,Crime,Drama</td>\n",
       "      <td>7.0</td>\n",
       "      <td>77</td>\n",
       "      <td>IN</td>\n",
       "      <td>NaN</td>\n",
       "      <td>NaN</td>\n",
       "      <td>NaN</td>\n",
       "      <td>-999999.0</td>\n",
       "    </tr>\n",
       "    <tr>\n",
       "      <th>4</th>\n",
       "      <td>tt0063540</td>\n",
       "      <td>Sunghursh</td>\n",
       "      <td>Sunghursh</td>\n",
       "      <td>2013</td>\n",
       "      <td>175.0</td>\n",
       "      <td>Action,Crime,Drama</td>\n",
       "      <td>7.0</td>\n",
       "      <td>77</td>\n",
       "      <td>IN</td>\n",
       "      <td>NaN</td>\n",
       "      <td>NaN</td>\n",
       "      <td>NaN</td>\n",
       "      <td>-999999.0</td>\n",
       "    </tr>\n",
       "  </tbody>\n",
       "</table>\n",
       "</div>"
      ],
      "text/plain": [
       "     movieid primarytitle originaltitle  startyear  runtimeminutes  \\\n",
       "0  tt0063540    Sunghursh     Sunghursh       2013           175.0   \n",
       "1  tt0063540    Sunghursh     Sunghursh       2013           175.0   \n",
       "2  tt0063540    Sunghursh     Sunghursh       2013           175.0   \n",
       "3  tt0063540    Sunghursh     Sunghursh       2013           175.0   \n",
       "4  tt0063540    Sunghursh     Sunghursh       2013           175.0   \n",
       "\n",
       "               genres  averagerating  numvotes region title studio  year  \\\n",
       "0  Action,Crime,Drama            7.0        77   None   NaN    NaN   NaN   \n",
       "1  Action,Crime,Drama            7.0        77     IN   NaN    NaN   NaN   \n",
       "2  Action,Crime,Drama            7.0        77     IN   NaN    NaN   NaN   \n",
       "3  Action,Crime,Drama            7.0        77     IN   NaN    NaN   NaN   \n",
       "4  Action,Crime,Drama            7.0        77     IN   NaN    NaN   NaN   \n",
       "\n",
       "   total_gross  \n",
       "0    -999999.0  \n",
       "1    -999999.0  \n",
       "2    -999999.0  \n",
       "3    -999999.0  \n",
       "4    -999999.0  "
      ]
     },
     "execution_count": 39,
     "metadata": {},
     "output_type": "execute_result"
    }
   ],
   "source": [
    "df_clean.head()"
   ]
  },
  {
   "cell_type": "markdown",
   "metadata": {},
   "source": [
    "##### Genre Cleaning\n",
    "Splitting up the Genres into new columns for multiple genre movies and dropping Null Values;"
   ]
  },
  {
   "cell_type": "code",
   "execution_count": 40,
   "metadata": {},
   "outputs": [
    {
     "data": {
      "text/html": [
       "<div>\n",
       "<style scoped>\n",
       "    .dataframe tbody tr th:only-of-type {\n",
       "        vertical-align: middle;\n",
       "    }\n",
       "\n",
       "    .dataframe tbody tr th {\n",
       "        vertical-align: top;\n",
       "    }\n",
       "\n",
       "    .dataframe thead th {\n",
       "        text-align: right;\n",
       "    }\n",
       "</style>\n",
       "<table border=\"1\" class=\"dataframe\">\n",
       "  <thead>\n",
       "    <tr style=\"text-align: right;\">\n",
       "      <th></th>\n",
       "      <th>0</th>\n",
       "      <th>1</th>\n",
       "      <th>2</th>\n",
       "    </tr>\n",
       "  </thead>\n",
       "  <tbody>\n",
       "    <tr>\n",
       "      <th>0</th>\n",
       "      <td>Action</td>\n",
       "      <td>Crime</td>\n",
       "      <td>Drama</td>\n",
       "    </tr>\n",
       "    <tr>\n",
       "      <th>1</th>\n",
       "      <td>Action</td>\n",
       "      <td>Crime</td>\n",
       "      <td>Drama</td>\n",
       "    </tr>\n",
       "    <tr>\n",
       "      <th>2</th>\n",
       "      <td>Action</td>\n",
       "      <td>Crime</td>\n",
       "      <td>Drama</td>\n",
       "    </tr>\n",
       "    <tr>\n",
       "      <th>3</th>\n",
       "      <td>Action</td>\n",
       "      <td>Crime</td>\n",
       "      <td>Drama</td>\n",
       "    </tr>\n",
       "    <tr>\n",
       "      <th>4</th>\n",
       "      <td>Action</td>\n",
       "      <td>Crime</td>\n",
       "      <td>Drama</td>\n",
       "    </tr>\n",
       "    <tr>\n",
       "      <th>...</th>\n",
       "      <td>...</td>\n",
       "      <td>...</td>\n",
       "      <td>...</td>\n",
       "    </tr>\n",
       "    <tr>\n",
       "      <th>266080</th>\n",
       "      <td>Documentary</td>\n",
       "      <td>None</td>\n",
       "      <td>None</td>\n",
       "    </tr>\n",
       "    <tr>\n",
       "      <th>266081</th>\n",
       "      <td>Drama</td>\n",
       "      <td>Family</td>\n",
       "      <td>None</td>\n",
       "    </tr>\n",
       "    <tr>\n",
       "      <th>266082</th>\n",
       "      <td>Documentary</td>\n",
       "      <td>None</td>\n",
       "      <td>None</td>\n",
       "    </tr>\n",
       "    <tr>\n",
       "      <th>266083</th>\n",
       "      <td>None</td>\n",
       "      <td>None</td>\n",
       "      <td>None</td>\n",
       "    </tr>\n",
       "    <tr>\n",
       "      <th>266084</th>\n",
       "      <td>Documentary</td>\n",
       "      <td>None</td>\n",
       "      <td>None</td>\n",
       "    </tr>\n",
       "  </tbody>\n",
       "</table>\n",
       "<p>266085 rows × 3 columns</p>\n",
       "</div>"
      ],
      "text/plain": [
       "                  0       1      2\n",
       "0            Action   Crime  Drama\n",
       "1            Action   Crime  Drama\n",
       "2            Action   Crime  Drama\n",
       "3            Action   Crime  Drama\n",
       "4            Action   Crime  Drama\n",
       "...             ...     ...    ...\n",
       "266080  Documentary    None   None\n",
       "266081        Drama  Family   None\n",
       "266082  Documentary    None   None\n",
       "266083         None    None   None\n",
       "266084  Documentary    None   None\n",
       "\n",
       "[266085 rows x 3 columns]"
      ]
     },
     "execution_count": 40,
     "metadata": {},
     "output_type": "execute_result"
    }
   ],
   "source": [
    "df_clean['genres'].str.rsplit(\",\", expand=True)"
   ]
  },
  {
   "cell_type": "code",
   "execution_count": 41,
   "metadata": {},
   "outputs": [],
   "source": [
    "df_clean[['genre_1', 'genre_2', 'genre_3']] = df_clean['genres'].str.rsplit(\",\", expand=True)"
   ]
  },
  {
   "cell_type": "markdown",
   "metadata": {},
   "source": [
    "<br>\n",
    "Checking;"
   ]
  },
  {
   "cell_type": "code",
   "execution_count": 42,
   "metadata": {
    "scrolled": false
   },
   "outputs": [
    {
     "data": {
      "text/html": [
       "<div>\n",
       "<style scoped>\n",
       "    .dataframe tbody tr th:only-of-type {\n",
       "        vertical-align: middle;\n",
       "    }\n",
       "\n",
       "    .dataframe tbody tr th {\n",
       "        vertical-align: top;\n",
       "    }\n",
       "\n",
       "    .dataframe thead th {\n",
       "        text-align: right;\n",
       "    }\n",
       "</style>\n",
       "<table border=\"1\" class=\"dataframe\">\n",
       "  <thead>\n",
       "    <tr style=\"text-align: right;\">\n",
       "      <th></th>\n",
       "      <th>movieid</th>\n",
       "      <th>primarytitle</th>\n",
       "      <th>originaltitle</th>\n",
       "      <th>startyear</th>\n",
       "      <th>runtimeminutes</th>\n",
       "      <th>genres</th>\n",
       "      <th>averagerating</th>\n",
       "      <th>numvotes</th>\n",
       "      <th>region</th>\n",
       "      <th>title</th>\n",
       "      <th>studio</th>\n",
       "      <th>year</th>\n",
       "      <th>total_gross</th>\n",
       "      <th>genre_1</th>\n",
       "      <th>genre_2</th>\n",
       "      <th>genre_3</th>\n",
       "    </tr>\n",
       "  </thead>\n",
       "  <tbody>\n",
       "    <tr>\n",
       "      <th>0</th>\n",
       "      <td>tt0063540</td>\n",
       "      <td>Sunghursh</td>\n",
       "      <td>Sunghursh</td>\n",
       "      <td>2013</td>\n",
       "      <td>175.0</td>\n",
       "      <td>Action,Crime,Drama</td>\n",
       "      <td>7.0</td>\n",
       "      <td>77</td>\n",
       "      <td>None</td>\n",
       "      <td>NaN</td>\n",
       "      <td>NaN</td>\n",
       "      <td>NaN</td>\n",
       "      <td>-999999.0</td>\n",
       "      <td>Action</td>\n",
       "      <td>Crime</td>\n",
       "      <td>Drama</td>\n",
       "    </tr>\n",
       "    <tr>\n",
       "      <th>1</th>\n",
       "      <td>tt0063540</td>\n",
       "      <td>Sunghursh</td>\n",
       "      <td>Sunghursh</td>\n",
       "      <td>2013</td>\n",
       "      <td>175.0</td>\n",
       "      <td>Action,Crime,Drama</td>\n",
       "      <td>7.0</td>\n",
       "      <td>77</td>\n",
       "      <td>IN</td>\n",
       "      <td>NaN</td>\n",
       "      <td>NaN</td>\n",
       "      <td>NaN</td>\n",
       "      <td>-999999.0</td>\n",
       "      <td>Action</td>\n",
       "      <td>Crime</td>\n",
       "      <td>Drama</td>\n",
       "    </tr>\n",
       "    <tr>\n",
       "      <th>2</th>\n",
       "      <td>tt0063540</td>\n",
       "      <td>Sunghursh</td>\n",
       "      <td>Sunghursh</td>\n",
       "      <td>2013</td>\n",
       "      <td>175.0</td>\n",
       "      <td>Action,Crime,Drama</td>\n",
       "      <td>7.0</td>\n",
       "      <td>77</td>\n",
       "      <td>IN</td>\n",
       "      <td>NaN</td>\n",
       "      <td>NaN</td>\n",
       "      <td>NaN</td>\n",
       "      <td>-999999.0</td>\n",
       "      <td>Action</td>\n",
       "      <td>Crime</td>\n",
       "      <td>Drama</td>\n",
       "    </tr>\n",
       "    <tr>\n",
       "      <th>3</th>\n",
       "      <td>tt0063540</td>\n",
       "      <td>Sunghursh</td>\n",
       "      <td>Sunghursh</td>\n",
       "      <td>2013</td>\n",
       "      <td>175.0</td>\n",
       "      <td>Action,Crime,Drama</td>\n",
       "      <td>7.0</td>\n",
       "      <td>77</td>\n",
       "      <td>IN</td>\n",
       "      <td>NaN</td>\n",
       "      <td>NaN</td>\n",
       "      <td>NaN</td>\n",
       "      <td>-999999.0</td>\n",
       "      <td>Action</td>\n",
       "      <td>Crime</td>\n",
       "      <td>Drama</td>\n",
       "    </tr>\n",
       "    <tr>\n",
       "      <th>4</th>\n",
       "      <td>tt0063540</td>\n",
       "      <td>Sunghursh</td>\n",
       "      <td>Sunghursh</td>\n",
       "      <td>2013</td>\n",
       "      <td>175.0</td>\n",
       "      <td>Action,Crime,Drama</td>\n",
       "      <td>7.0</td>\n",
       "      <td>77</td>\n",
       "      <td>IN</td>\n",
       "      <td>NaN</td>\n",
       "      <td>NaN</td>\n",
       "      <td>NaN</td>\n",
       "      <td>-999999.0</td>\n",
       "      <td>Action</td>\n",
       "      <td>Crime</td>\n",
       "      <td>Drama</td>\n",
       "    </tr>\n",
       "  </tbody>\n",
       "</table>\n",
       "</div>"
      ],
      "text/plain": [
       "     movieid primarytitle originaltitle  startyear  runtimeminutes  \\\n",
       "0  tt0063540    Sunghursh     Sunghursh       2013           175.0   \n",
       "1  tt0063540    Sunghursh     Sunghursh       2013           175.0   \n",
       "2  tt0063540    Sunghursh     Sunghursh       2013           175.0   \n",
       "3  tt0063540    Sunghursh     Sunghursh       2013           175.0   \n",
       "4  tt0063540    Sunghursh     Sunghursh       2013           175.0   \n",
       "\n",
       "               genres  averagerating  numvotes region title studio  year  \\\n",
       "0  Action,Crime,Drama            7.0        77   None   NaN    NaN   NaN   \n",
       "1  Action,Crime,Drama            7.0        77     IN   NaN    NaN   NaN   \n",
       "2  Action,Crime,Drama            7.0        77     IN   NaN    NaN   NaN   \n",
       "3  Action,Crime,Drama            7.0        77     IN   NaN    NaN   NaN   \n",
       "4  Action,Crime,Drama            7.0        77     IN   NaN    NaN   NaN   \n",
       "\n",
       "   total_gross genre_1 genre_2 genre_3  \n",
       "0    -999999.0  Action   Crime   Drama  \n",
       "1    -999999.0  Action   Crime   Drama  \n",
       "2    -999999.0  Action   Crime   Drama  \n",
       "3    -999999.0  Action   Crime   Drama  \n",
       "4    -999999.0  Action   Crime   Drama  "
      ]
     },
     "execution_count": 42,
     "metadata": {},
     "output_type": "execute_result"
    }
   ],
   "source": [
    "df_clean.head()"
   ]
  },
  {
   "cell_type": "markdown",
   "metadata": {},
   "source": [
    "<br>\n",
    "Adding filtered data to the new genre columns;\n",
    "<br>"
   ]
  },
  {
   "cell_type": "code",
   "execution_count": 43,
   "metadata": {},
   "outputs": [],
   "source": [
    "has_rev_filter = df_clean['total_gross'].notnull()"
   ]
  },
  {
   "cell_type": "code",
   "execution_count": 44,
   "metadata": {},
   "outputs": [],
   "source": [
    "temp_1 = df_clean[has_rev_filter][['total_gross','genre_1']]\n",
    "temp_2 = df_clean[has_rev_filter][['total_gross','genre_2']]\n",
    "temp_3 = df_clean[has_rev_filter][['total_gross','genre_3']]"
   ]
  },
  {
   "cell_type": "code",
   "execution_count": 45,
   "metadata": {},
   "outputs": [],
   "source": [
    "temp_1.rename(columns={\"genre_1\": \"genre\"}, inplace=True)\n",
    "temp_2.rename(columns={\"genre_2\": \"genre\"}, inplace=True)\n",
    "temp_3.rename(columns={\"genre_3\": \"genre\"}, inplace=True)"
   ]
  },
  {
   "cell_type": "code",
   "execution_count": 46,
   "metadata": {},
   "outputs": [],
   "source": [
    "genre_revenue = temp_1.append(temp_2).append(temp_3).dropna()"
   ]
  },
  {
   "cell_type": "markdown",
   "metadata": {},
   "source": [
    "<br>\n",
    "Checking;"
   ]
  },
  {
   "cell_type": "code",
   "execution_count": 47,
   "metadata": {},
   "outputs": [
    {
     "name": "stdout",
     "output_type": "stream",
     "text": [
      "<class 'pandas.core.frame.DataFrame'>\n",
      "Int64Index: 539018 entries, 0 to 266047\n",
      "Data columns (total 2 columns):\n",
      " #   Column       Non-Null Count   Dtype  \n",
      "---  ------       --------------   -----  \n",
      " 0   total_gross  539018 non-null  float64\n",
      " 1   genre        539018 non-null  object \n",
      "dtypes: float64(1), object(1)\n",
      "memory usage: 12.3+ MB\n"
     ]
    }
   ],
   "source": [
    "genre_revenue.info()"
   ]
  },
  {
   "cell_type": "markdown",
   "metadata": {},
   "source": [
    "#### Review Cleaning\n",
    "<br>\n",
    "Dropping null values and movies with less than 30 reviews from data frame;"
   ]
  },
  {
   "cell_type": "code",
   "execution_count": 48,
   "metadata": {},
   "outputs": [
    {
     "data": {
      "text/html": [
       "<div>\n",
       "<style scoped>\n",
       "    .dataframe tbody tr th:only-of-type {\n",
       "        vertical-align: middle;\n",
       "    }\n",
       "\n",
       "    .dataframe tbody tr th {\n",
       "        vertical-align: top;\n",
       "    }\n",
       "\n",
       "    .dataframe thead th {\n",
       "        text-align: right;\n",
       "    }\n",
       "</style>\n",
       "<table border=\"1\" class=\"dataframe\">\n",
       "  <thead>\n",
       "    <tr style=\"text-align: right;\">\n",
       "      <th></th>\n",
       "      <th>movieid</th>\n",
       "      <th>primarytitle</th>\n",
       "      <th>originaltitle</th>\n",
       "      <th>startyear</th>\n",
       "      <th>runtimeminutes</th>\n",
       "      <th>genres</th>\n",
       "      <th>averagerating</th>\n",
       "      <th>numvotes</th>\n",
       "      <th>region</th>\n",
       "      <th>title</th>\n",
       "      <th>studio</th>\n",
       "      <th>year</th>\n",
       "      <th>total_gross</th>\n",
       "      <th>genre_1</th>\n",
       "      <th>genre_2</th>\n",
       "      <th>genre_3</th>\n",
       "    </tr>\n",
       "  </thead>\n",
       "  <tbody>\n",
       "    <tr>\n",
       "      <th>0</th>\n",
       "      <td>tt0063540</td>\n",
       "      <td>Sunghursh</td>\n",
       "      <td>Sunghursh</td>\n",
       "      <td>2013</td>\n",
       "      <td>175.0</td>\n",
       "      <td>Action,Crime,Drama</td>\n",
       "      <td>7.0</td>\n",
       "      <td>77</td>\n",
       "      <td>None</td>\n",
       "      <td>NaN</td>\n",
       "      <td>NaN</td>\n",
       "      <td>NaN</td>\n",
       "      <td>-999999.0</td>\n",
       "      <td>Action</td>\n",
       "      <td>Crime</td>\n",
       "      <td>Drama</td>\n",
       "    </tr>\n",
       "    <tr>\n",
       "      <th>1</th>\n",
       "      <td>tt0063540</td>\n",
       "      <td>Sunghursh</td>\n",
       "      <td>Sunghursh</td>\n",
       "      <td>2013</td>\n",
       "      <td>175.0</td>\n",
       "      <td>Action,Crime,Drama</td>\n",
       "      <td>7.0</td>\n",
       "      <td>77</td>\n",
       "      <td>IN</td>\n",
       "      <td>NaN</td>\n",
       "      <td>NaN</td>\n",
       "      <td>NaN</td>\n",
       "      <td>-999999.0</td>\n",
       "      <td>Action</td>\n",
       "      <td>Crime</td>\n",
       "      <td>Drama</td>\n",
       "    </tr>\n",
       "    <tr>\n",
       "      <th>2</th>\n",
       "      <td>tt0063540</td>\n",
       "      <td>Sunghursh</td>\n",
       "      <td>Sunghursh</td>\n",
       "      <td>2013</td>\n",
       "      <td>175.0</td>\n",
       "      <td>Action,Crime,Drama</td>\n",
       "      <td>7.0</td>\n",
       "      <td>77</td>\n",
       "      <td>IN</td>\n",
       "      <td>NaN</td>\n",
       "      <td>NaN</td>\n",
       "      <td>NaN</td>\n",
       "      <td>-999999.0</td>\n",
       "      <td>Action</td>\n",
       "      <td>Crime</td>\n",
       "      <td>Drama</td>\n",
       "    </tr>\n",
       "    <tr>\n",
       "      <th>3</th>\n",
       "      <td>tt0063540</td>\n",
       "      <td>Sunghursh</td>\n",
       "      <td>Sunghursh</td>\n",
       "      <td>2013</td>\n",
       "      <td>175.0</td>\n",
       "      <td>Action,Crime,Drama</td>\n",
       "      <td>7.0</td>\n",
       "      <td>77</td>\n",
       "      <td>IN</td>\n",
       "      <td>NaN</td>\n",
       "      <td>NaN</td>\n",
       "      <td>NaN</td>\n",
       "      <td>-999999.0</td>\n",
       "      <td>Action</td>\n",
       "      <td>Crime</td>\n",
       "      <td>Drama</td>\n",
       "    </tr>\n",
       "    <tr>\n",
       "      <th>4</th>\n",
       "      <td>tt0063540</td>\n",
       "      <td>Sunghursh</td>\n",
       "      <td>Sunghursh</td>\n",
       "      <td>2013</td>\n",
       "      <td>175.0</td>\n",
       "      <td>Action,Crime,Drama</td>\n",
       "      <td>7.0</td>\n",
       "      <td>77</td>\n",
       "      <td>IN</td>\n",
       "      <td>NaN</td>\n",
       "      <td>NaN</td>\n",
       "      <td>NaN</td>\n",
       "      <td>-999999.0</td>\n",
       "      <td>Action</td>\n",
       "      <td>Crime</td>\n",
       "      <td>Drama</td>\n",
       "    </tr>\n",
       "  </tbody>\n",
       "</table>\n",
       "</div>"
      ],
      "text/plain": [
       "     movieid primarytitle originaltitle  startyear  runtimeminutes  \\\n",
       "0  tt0063540    Sunghursh     Sunghursh       2013           175.0   \n",
       "1  tt0063540    Sunghursh     Sunghursh       2013           175.0   \n",
       "2  tt0063540    Sunghursh     Sunghursh       2013           175.0   \n",
       "3  tt0063540    Sunghursh     Sunghursh       2013           175.0   \n",
       "4  tt0063540    Sunghursh     Sunghursh       2013           175.0   \n",
       "\n",
       "               genres  averagerating  numvotes region title studio  year  \\\n",
       "0  Action,Crime,Drama            7.0        77   None   NaN    NaN   NaN   \n",
       "1  Action,Crime,Drama            7.0        77     IN   NaN    NaN   NaN   \n",
       "2  Action,Crime,Drama            7.0        77     IN   NaN    NaN   NaN   \n",
       "3  Action,Crime,Drama            7.0        77     IN   NaN    NaN   NaN   \n",
       "4  Action,Crime,Drama            7.0        77     IN   NaN    NaN   NaN   \n",
       "\n",
       "   total_gross genre_1 genre_2 genre_3  \n",
       "0    -999999.0  Action   Crime   Drama  \n",
       "1    -999999.0  Action   Crime   Drama  \n",
       "2    -999999.0  Action   Crime   Drama  \n",
       "3    -999999.0  Action   Crime   Drama  \n",
       "4    -999999.0  Action   Crime   Drama  "
      ]
     },
     "execution_count": 48,
     "metadata": {},
     "output_type": "execute_result"
    }
   ],
   "source": [
    "df_clean.head()"
   ]
  },
  {
   "cell_type": "code",
   "execution_count": 49,
   "metadata": {},
   "outputs": [
    {
     "data": {
      "text/plain": [
       "5"
      ]
     },
     "execution_count": 49,
     "metadata": {},
     "output_type": "execute_result"
    }
   ],
   "source": [
    "df_clean['numvotes'].min()"
   ]
  },
  {
   "cell_type": "code",
   "execution_count": 50,
   "metadata": {},
   "outputs": [],
   "source": [
    "df_clean = df_clean[df_clean['numvotes'] >= 30]"
   ]
  },
  {
   "cell_type": "markdown",
   "metadata": {},
   "source": [
    "<br>\n",
    "Checking;"
   ]
  },
  {
   "cell_type": "code",
   "execution_count": 51,
   "metadata": {},
   "outputs": [
    {
     "data": {
      "text/plain": [
       "30"
      ]
     },
     "execution_count": 51,
     "metadata": {},
     "output_type": "execute_result"
    }
   ],
   "source": [
    "df_clean['numvotes'].min()"
   ]
  },
  {
   "cell_type": "code",
   "execution_count": 52,
   "metadata": {},
   "outputs": [],
   "source": [
    "df_clean = df_clean.dropna(subset=['numvotes'])"
   ]
  },
  {
   "cell_type": "code",
   "execution_count": 53,
   "metadata": {},
   "outputs": [
    {
     "data": {
      "text/plain": [
       "0"
      ]
     },
     "execution_count": 53,
     "metadata": {},
     "output_type": "execute_result"
    }
   ],
   "source": [
    "df_clean['numvotes'].isnull().sum()"
   ]
  },
  {
   "cell_type": "code",
   "execution_count": 54,
   "metadata": {},
   "outputs": [
    {
     "data": {
      "text/html": [
       "<div>\n",
       "<style scoped>\n",
       "    .dataframe tbody tr th:only-of-type {\n",
       "        vertical-align: middle;\n",
       "    }\n",
       "\n",
       "    .dataframe tbody tr th {\n",
       "        vertical-align: top;\n",
       "    }\n",
       "\n",
       "    .dataframe thead th {\n",
       "        text-align: right;\n",
       "    }\n",
       "</style>\n",
       "<table border=\"1\" class=\"dataframe\">\n",
       "  <thead>\n",
       "    <tr style=\"text-align: right;\">\n",
       "      <th></th>\n",
       "      <th>movieid</th>\n",
       "      <th>primarytitle</th>\n",
       "      <th>originaltitle</th>\n",
       "      <th>startyear</th>\n",
       "      <th>runtimeminutes</th>\n",
       "      <th>genres</th>\n",
       "      <th>averagerating</th>\n",
       "      <th>numvotes</th>\n",
       "      <th>region</th>\n",
       "      <th>title</th>\n",
       "      <th>studio</th>\n",
       "      <th>year</th>\n",
       "      <th>total_gross</th>\n",
       "      <th>genre_1</th>\n",
       "      <th>genre_2</th>\n",
       "      <th>genre_3</th>\n",
       "    </tr>\n",
       "  </thead>\n",
       "  <tbody>\n",
       "    <tr>\n",
       "      <th>0</th>\n",
       "      <td>tt0063540</td>\n",
       "      <td>Sunghursh</td>\n",
       "      <td>Sunghursh</td>\n",
       "      <td>2013</td>\n",
       "      <td>175.0</td>\n",
       "      <td>Action,Crime,Drama</td>\n",
       "      <td>7.0</td>\n",
       "      <td>77</td>\n",
       "      <td>None</td>\n",
       "      <td>NaN</td>\n",
       "      <td>NaN</td>\n",
       "      <td>NaN</td>\n",
       "      <td>-999999.0</td>\n",
       "      <td>Action</td>\n",
       "      <td>Crime</td>\n",
       "      <td>Drama</td>\n",
       "    </tr>\n",
       "    <tr>\n",
       "      <th>1</th>\n",
       "      <td>tt0063540</td>\n",
       "      <td>Sunghursh</td>\n",
       "      <td>Sunghursh</td>\n",
       "      <td>2013</td>\n",
       "      <td>175.0</td>\n",
       "      <td>Action,Crime,Drama</td>\n",
       "      <td>7.0</td>\n",
       "      <td>77</td>\n",
       "      <td>IN</td>\n",
       "      <td>NaN</td>\n",
       "      <td>NaN</td>\n",
       "      <td>NaN</td>\n",
       "      <td>-999999.0</td>\n",
       "      <td>Action</td>\n",
       "      <td>Crime</td>\n",
       "      <td>Drama</td>\n",
       "    </tr>\n",
       "    <tr>\n",
       "      <th>2</th>\n",
       "      <td>tt0063540</td>\n",
       "      <td>Sunghursh</td>\n",
       "      <td>Sunghursh</td>\n",
       "      <td>2013</td>\n",
       "      <td>175.0</td>\n",
       "      <td>Action,Crime,Drama</td>\n",
       "      <td>7.0</td>\n",
       "      <td>77</td>\n",
       "      <td>IN</td>\n",
       "      <td>NaN</td>\n",
       "      <td>NaN</td>\n",
       "      <td>NaN</td>\n",
       "      <td>-999999.0</td>\n",
       "      <td>Action</td>\n",
       "      <td>Crime</td>\n",
       "      <td>Drama</td>\n",
       "    </tr>\n",
       "    <tr>\n",
       "      <th>3</th>\n",
       "      <td>tt0063540</td>\n",
       "      <td>Sunghursh</td>\n",
       "      <td>Sunghursh</td>\n",
       "      <td>2013</td>\n",
       "      <td>175.0</td>\n",
       "      <td>Action,Crime,Drama</td>\n",
       "      <td>7.0</td>\n",
       "      <td>77</td>\n",
       "      <td>IN</td>\n",
       "      <td>NaN</td>\n",
       "      <td>NaN</td>\n",
       "      <td>NaN</td>\n",
       "      <td>-999999.0</td>\n",
       "      <td>Action</td>\n",
       "      <td>Crime</td>\n",
       "      <td>Drama</td>\n",
       "    </tr>\n",
       "    <tr>\n",
       "      <th>4</th>\n",
       "      <td>tt0063540</td>\n",
       "      <td>Sunghursh</td>\n",
       "      <td>Sunghursh</td>\n",
       "      <td>2013</td>\n",
       "      <td>175.0</td>\n",
       "      <td>Action,Crime,Drama</td>\n",
       "      <td>7.0</td>\n",
       "      <td>77</td>\n",
       "      <td>IN</td>\n",
       "      <td>NaN</td>\n",
       "      <td>NaN</td>\n",
       "      <td>NaN</td>\n",
       "      <td>-999999.0</td>\n",
       "      <td>Action</td>\n",
       "      <td>Crime</td>\n",
       "      <td>Drama</td>\n",
       "    </tr>\n",
       "  </tbody>\n",
       "</table>\n",
       "</div>"
      ],
      "text/plain": [
       "     movieid primarytitle originaltitle  startyear  runtimeminutes  \\\n",
       "0  tt0063540    Sunghursh     Sunghursh       2013           175.0   \n",
       "1  tt0063540    Sunghursh     Sunghursh       2013           175.0   \n",
       "2  tt0063540    Sunghursh     Sunghursh       2013           175.0   \n",
       "3  tt0063540    Sunghursh     Sunghursh       2013           175.0   \n",
       "4  tt0063540    Sunghursh     Sunghursh       2013           175.0   \n",
       "\n",
       "               genres  averagerating  numvotes region title studio  year  \\\n",
       "0  Action,Crime,Drama            7.0        77   None   NaN    NaN   NaN   \n",
       "1  Action,Crime,Drama            7.0        77     IN   NaN    NaN   NaN   \n",
       "2  Action,Crime,Drama            7.0        77     IN   NaN    NaN   NaN   \n",
       "3  Action,Crime,Drama            7.0        77     IN   NaN    NaN   NaN   \n",
       "4  Action,Crime,Drama            7.0        77     IN   NaN    NaN   NaN   \n",
       "\n",
       "   total_gross genre_1 genre_2 genre_3  \n",
       "0    -999999.0  Action   Crime   Drama  \n",
       "1    -999999.0  Action   Crime   Drama  \n",
       "2    -999999.0  Action   Crime   Drama  \n",
       "3    -999999.0  Action   Crime   Drama  \n",
       "4    -999999.0  Action   Crime   Drama  "
      ]
     },
     "execution_count": 54,
     "metadata": {},
     "output_type": "execute_result"
    }
   ],
   "source": [
    "df_clean.head()"
   ]
  },
  {
   "cell_type": "markdown",
   "metadata": {},
   "source": [
    "\n",
    "##### Runtime Cleaning\n",
    "<br>\n",
    "Handling outliers that have significantly longer runtimes than most"
   ]
  },
  {
   "cell_type": "code",
   "execution_count": 55,
   "metadata": {},
   "outputs": [
    {
     "data": {
      "text/plain": [
       "count    213027.000000\n",
       "mean        101.709154\n",
       "std          37.288181\n",
       "min           8.000000\n",
       "25%          90.000000\n",
       "50%          98.000000\n",
       "75%         111.000000\n",
       "max       14400.000000\n",
       "Name: runtimeminutes, dtype: float64"
      ]
     },
     "execution_count": 55,
     "metadata": {},
     "output_type": "execute_result"
    }
   ],
   "source": [
    "df_clean['runtimeminutes'].describe()"
   ]
  },
  {
   "cell_type": "markdown",
   "metadata": {},
   "source": [
    "When checking **outliers** with _.describe()_ \n",
    "<br>\n",
    "<br>\n",
    "We can observe the **longest** runtimeminutes value is **14400.000000** minutes... thats a very long movie\n",
    "<br>\n",
    "<br>\n",
    "Using a seaborn blox plot we can see the _spread of the **outliers**;_"
   ]
  },
  {
   "cell_type": "markdown",
   "metadata": {},
   "source": [
    "<br>\n",
    "Checking;"
   ]
  },
  {
   "cell_type": "code",
   "execution_count": 56,
   "metadata": {},
   "outputs": [
    {
     "name": "stderr",
     "output_type": "stream",
     "text": [
      "/Users/willbennett/anaconda3/envs/learn-env/lib/python3.8/site-packages/seaborn/_decorators.py:36: FutureWarning: Pass the following variable as a keyword arg: x. From version 0.12, the only valid positional argument will be `data`, and passing other arguments without an explicit keyword will result in an error or misinterpretation.\n",
      "  warnings.warn(\n"
     ]
    },
    {
     "data": {
      "text/plain": [
       "<AxesSubplot:xlabel='runtimeminutes'>"
      ]
     },
     "execution_count": 56,
     "metadata": {},
     "output_type": "execute_result"
    },
    {
     "data": {
      "image/png": "[encoded data removed]",
      "text/plain": [
       "<Figure size 432x288 with 1 Axes>"
      ]
     },
     "metadata": {
      "needs_background": "light"
     },
     "output_type": "display_data"
    }
   ],
   "source": [
    "sns.boxplot(df_clean['runtimeminutes'])"
   ]
  },
  {
   "cell_type": "markdown",
   "metadata": {},
   "source": [
    "<br>\n",
    "After looking at this boxplot _we can conqure that_ we will **drop** any movies that are **longer than 333.0 minutes** for a cleaner data set\n",
    "<br>\n",
    "<br>"
   ]
  },
  {
   "cell_type": "code",
   "execution_count": 57,
   "metadata": {},
   "outputs": [],
   "source": [
    "df_clean = df_clean[df_clean['runtimeminutes'] <= 333.0]"
   ]
  },
  {
   "cell_type": "markdown",
   "metadata": {},
   "source": [
    "<br>\n",
    "Checking;"
   ]
  },
  {
   "cell_type": "code",
   "execution_count": 58,
   "metadata": {},
   "outputs": [
    {
     "data": {
      "text/plain": [
       "count    212974.000000\n",
       "mean        101.549781\n",
       "std          19.674331\n",
       "min           8.000000\n",
       "25%          90.000000\n",
       "50%          98.000000\n",
       "75%         111.000000\n",
       "max         325.000000\n",
       "Name: runtimeminutes, dtype: float64"
      ]
     },
     "execution_count": 58,
     "metadata": {},
     "output_type": "execute_result"
    }
   ],
   "source": [
    "df_clean['runtimeminutes'].describe()"
   ]
  },
  {
   "cell_type": "code",
   "execution_count": 59,
   "metadata": {
    "scrolled": true
   },
   "outputs": [
    {
     "name": "stderr",
     "output_type": "stream",
     "text": [
      "/Users/willbennett/anaconda3/envs/learn-env/lib/python3.8/site-packages/seaborn/_decorators.py:36: FutureWarning: Pass the following variable as a keyword arg: x. From version 0.12, the only valid positional argument will be `data`, and passing other arguments without an explicit keyword will result in an error or misinterpretation.\n",
      "  warnings.warn(\n"
     ]
    },
    {
     "data": {
      "text/plain": [
       "<AxesSubplot:xlabel='runtimeminutes'>"
      ]
     },
     "execution_count": 59,
     "metadata": {},
     "output_type": "execute_result"
    },
    {
     "data": {
      "image/png": "[encoded data removed]",
      "text/plain": [
       "<Figure size 432x288 with 1 Axes>"
      ]
     },
     "metadata": {
      "needs_background": "light"
     },
     "output_type": "display_data"
    }
   ],
   "source": [
    "sns.boxplot(df_clean['runtimeminutes'])"
   ]
  },
  {
   "cell_type": "markdown",
   "metadata": {},
   "source": [
    "We can now actually see something from this box chart, there are still many outliers so we decided to......"
   ]
  },
  {
   "cell_type": "code",
   "execution_count": null,
   "metadata": {},
   "outputs": [],
   "source": []
  },
  {
   "attachments": {},
   "cell_type": "markdown",
   "metadata": {},
   "source": [
    "# Exploratory Data Analysis\n",
    "What we found:\n",
    "- Data freshness, years are from 2010-2019. This is slightly stale.\n",
    "- Explore the top genres and genre combinations\n",
    "- Explore runtime\n",
    "- Explore how ratings is related to gross\n"
   ]
  },
  {
   "cell_type": "code",
   "execution_count": 105,
   "metadata": {},
   "outputs": [],
   "source": [
    "# Update the revenue filter to only include good values\n",
    "has_rev_filter = df_clean['total_gross'] != -999999"
   ]
  },
  {
   "cell_type": "markdown",
   "metadata": {},
   "source": [
    "### Data Freshness"
   ]
  },
  {
   "cell_type": "code",
   "execution_count": 63,
   "metadata": {},
   "outputs": [
    {
     "data": {
      "text/plain": [
       "count    266085.000000\n",
       "mean       2014.163876\n",
       "std           2.594150\n",
       "min        2010.000000\n",
       "25%        2012.000000\n",
       "50%        2014.000000\n",
       "75%        2016.000000\n",
       "max        2019.000000\n",
       "Name: startyear, dtype: float64"
      ]
     },
     "execution_count": 63,
     "metadata": {},
     "output_type": "execute_result"
    }
   ],
   "source": [
    "df_imdb['startyear'].describe()"
   ]
  },
  {
   "cell_type": "code",
   "execution_count": 70,
   "metadata": {},
   "outputs": [
    {
     "data": {
      "image/png": "[encoded data removed]",
      "text/plain": [
       "<Figure size 432x288 with 1 Axes>"
      ]
     },
     "metadata": {
      "needs_background": "light"
     },
     "output_type": "display_data"
    }
   ],
   "source": [
    "# Check how much data we have for each year\n",
    "df_clean.groupby('startyear')['movieid'].count().plot.bar();"
   ]
  },
  {
   "attachments": {},
   "cell_type": "markdown",
   "metadata": {},
   "source": [
    "**Observations**\n",
    "- This data is from a range of years so we may want to adjust any money values for inflation\n",
    "- This data does not include the COVID-19 pandemic so any recommendations would need to take that into account"
   ]
  },
  {
   "attachments": {},
   "cell_type": "markdown",
   "metadata": {},
   "source": [
    "### Genres"
   ]
  },
  {
   "cell_type": "code",
   "execution_count": 83,
   "metadata": {},
   "outputs": [
    {
     "data": {
      "text/plain": [
       "['Drama',\n",
       " 'Comedy',\n",
       " 'Documentary',\n",
       " 'Comedy,Drama',\n",
       " 'Drama,Romance',\n",
       " 'Comedy,Drama,Romance',\n",
       " 'Comedy,Romance',\n",
       " 'Adventure,Animation,Comedy',\n",
       " 'Horror',\n",
       " 'Drama,Thriller']"
      ]
     },
     "execution_count": 83,
     "metadata": {},
     "output_type": "execute_result"
    }
   ],
   "source": [
    "# First let's find the top genres\n",
    "top_genres_combos = list(df_clean.groupby('genres').count().reset_index().nlargest(10, columns='movieid')['genres'])\n",
    "top_genres_combos"
   ]
  },
  {
   "cell_type": "code",
   "execution_count": 84,
   "metadata": {},
   "outputs": [],
   "source": [
    "# Create a filter for only top genres\n",
    "top_genre_combos_filter = df_clean['genres'].isin(top_genres_combos)"
   ]
  },
  {
   "cell_type": "code",
   "execution_count": 86,
   "metadata": {},
   "outputs": [
    {
     "data": {
      "image/png": "[encoded data removed]",
      "text/plain": [
       "<Figure size 432x288 with 1 Axes>"
      ]
     },
     "metadata": {
      "needs_background": "light"
     },
     "output_type": "display_data"
    }
   ],
   "source": [
    "# Compare total gross revenue for top genres\n",
    "top_genre_combos = df_clean[top_genre_combos_filter].groupby('genres')['total_gross'].mean().reset_index()\n",
    "sns.barplot(data=top_genre_combos, x='total_gross', y='genres');"
   ]
  },
  {
   "attachments": {},
   "cell_type": "markdown",
   "metadata": {},
   "source": [
    "**Observations**\n",
    "- There are similar combinations (Comedy vs. Comedy,Drama) so we may want to split those out\n",
    "- One category is much higher than the others, it turned out the there were different currencies here so we needed to split out USD only\n",
    "\n",
    "Are the differences signficiant however, let's find out?"
   ]
  },
  {
   "cell_type": "code",
   "execution_count": 89,
   "metadata": {},
   "outputs": [
    {
     "name": "stdout",
     "output_type": "stream",
     "text": [
      "                             Multiple Comparison of Means - Tukey HSD, FWER=0.05                             \n",
      "=============================================================================================================\n",
      "          group1                  group2            meandiff    p-adj       lower           upper      reject\n",
      "-------------------------------------------------------------------------------------------------------------\n",
      "Adventure,Animation,Comedy               Comedy -219387959.6425  0.001 -223824027.5136 -214951891.7714   True\n",
      "Adventure,Animation,Comedy         Comedy,Drama -224831224.1011  0.001 -229389318.5337 -220273129.6685   True\n",
      "Adventure,Animation,Comedy Comedy,Drama,Romance -216700531.6363  0.001 -221742483.3037 -211658579.9689   True\n",
      "Adventure,Animation,Comedy       Comedy,Romance -210488477.2121  0.001 -215744917.6769 -205232036.7472   True\n",
      "Adventure,Animation,Comedy          Documentary -230403344.1556  0.001 -234852701.9218 -225953986.3894   True\n",
      "Adventure,Animation,Comedy                Drama -229322309.0542  0.001 -233361134.7611 -225283483.3472   True\n",
      "Adventure,Animation,Comedy        Drama,Romance -220234390.1441  0.001  -225156267.084 -215312513.2042   True\n",
      "Adventure,Animation,Comedy       Drama,Thriller -222057613.0355  0.001 -227665778.7995 -216449447.2715   True\n",
      "Adventure,Animation,Comedy               Horror -227226052.7086  0.001 -232669755.6447 -221782349.7726   True\n",
      "                    Comedy         Comedy,Drama   -5443264.4586  0.001   -9011446.2295   -1875082.6877   True\n",
      "                    Comedy Comedy,Drama,Romance    2687428.0062 0.5605   -1481141.6418    6855997.6542  False\n",
      "                    Comedy       Comedy,Romance    8899482.4305  0.001    4473890.6447   13325074.2163   True\n",
      "                    Comedy          Documentary   -11015384.513  0.001  -14443573.6597   -7587195.3664   True\n",
      "                    Comedy                Drama   -9934349.4117  0.001  -12809729.2796   -7058969.5437   True\n",
      "                    Comedy        Drama,Romance    -846430.5016    0.9   -4868938.2896    3176077.2865  False\n",
      "                    Comedy       Drama,Thriller    -2669653.393 0.7412   -7507754.2115    2168447.4256  False\n",
      "                    Comedy               Horror   -7838093.0661  0.001  -12484553.8643   -3191632.2678   True\n",
      "              Comedy,Drama Comedy,Drama,Romance    8130692.4648  0.001    3832495.2137   12428889.7159   True\n",
      "              Comedy,Drama       Comedy,Romance    14342746.889  0.001    9794847.4449   18890646.3332   True\n",
      "              Comedy,Drama          Documentary   -5572120.0545  0.001   -9156810.7698   -1987429.3391   True\n",
      "              Comedy,Drama                Drama   -4491084.9531  0.001   -7551368.6139   -1430801.2923   True\n",
      "              Comedy,Drama        Drama,Romance     4596833.957 0.0169     440141.0883    8753526.8257   True\n",
      "              Comedy,Drama       Drama,Thriller    2773611.0656 0.7247   -2176615.8211    7723837.9523  False\n",
      "              Comedy,Drama               Horror   -2394828.6075 0.8366   -7157928.9266    2368271.7115  False\n",
      "      Comedy,Drama,Romance       Comedy,Romance    6212054.4243 0.0037    1179317.4836   11244791.3649   True\n",
      "      Comedy,Drama,Romance          Documentary  -13702812.5192  0.001  -17885522.0818   -9520102.9567   True\n",
      "      Comedy,Drama,Romance                Drama  -12621777.4179  0.001  -16364822.6813   -8878732.1544   True\n",
      "      Comedy,Drama,Romance        Drama,Romance   -3533858.5078 0.3331   -8216074.5818    1148357.5663  False\n",
      "      Comedy,Drama,Romance       Drama,Thriller   -5357081.3992 0.0539   -10756136.686      41973.8876  False\n",
      "      Comedy,Drama,Romance               Horror  -10525521.0723  0.001   -15753539.474   -5297502.6706   True\n",
      "            Comedy,Romance          Documentary  -19914866.9435  0.001  -24353779.9894  -15475953.8976   True\n",
      "            Comedy,Romance                Drama  -18833831.8421  0.001  -22861148.2673  -14806515.4169   True\n",
      "            Comedy,Romance        Drama,Romance    -9745912.932  0.001  -14658349.9147   -4833475.9494   True\n",
      "            Comedy,Romance       Drama,Thriller  -11569135.8235  0.001  -17169018.6557   -5969252.9913   True\n",
      "            Comedy,Romance               Horror  -16737575.4966  0.001  -22172744.8733  -11302406.1198   True\n",
      "               Documentary                Drama    1081035.1014    0.9   -1814806.0129    3976876.2157  False\n",
      "               Documentary        Drama,Romance   10168954.0115  0.001    6131794.7033   14206113.3196   True\n",
      "               Documentary       Drama,Thriller    8345731.1201  0.001    3495441.8601     13196020.38   True\n",
      "               Documentary               Horror    3177291.4469 0.4876   -1481859.1542    7836442.0481  False\n",
      "                     Drama        Drama,Romance    9087918.9101  0.001    5508256.3786   12667581.4415   True\n",
      "                     Drama       Drama,Thriller    7264696.0187  0.001    2788019.2976   11741372.7397   True\n",
      "                     Drama               Horror    2096256.3456 0.8594   -2172585.7555    6365098.4466  False\n",
      "             Drama,Romance       Drama,Thriller   -1823222.8914    0.9    -7110319.825    3463874.0421  False\n",
      "             Drama,Romance               Horror   -6991662.5645  0.001   -12103978.322   -1879346.8071   True\n",
      "            Drama,Thriller               Horror   -5168439.6731 0.1255  -10944461.0572      607581.711  False\n",
      "-------------------------------------------------------------------------------------------------------------\n"
     ]
    }
   ],
   "source": [
    "print(pairwise_tukeyhsd(df_clean[top_genre_combos_filter]['total_gross'], df_clean[top_genre_combos_filter]['genres']))"
   ]
  },
  {
   "cell_type": "markdown",
   "metadata": {},
   "source": [
    "**Observations**\n",
    "- [TBD]"
   ]
  },
  {
   "attachments": {},
   "cell_type": "markdown",
   "metadata": {},
   "source": [
    "### Runtime\n",
    "What we found:\n",
    "- There were a significant number of outliers\n",
    "- There were movies with 5k runtime minutes, which is way too long for a movie\n",
    "- We will want to categorize these to see if there is an optimal length"
   ]
  },
  {
   "cell_type": "code",
   "execution_count": 93,
   "metadata": {},
   "outputs": [
    {
     "data": {
      "text/plain": [
       "count    212974.000000\n",
       "mean        101.549781\n",
       "std          19.674331\n",
       "min           8.000000\n",
       "25%          90.000000\n",
       "50%          98.000000\n",
       "75%         111.000000\n",
       "max         325.000000\n",
       "Name: runtimeminutes, dtype: float64"
      ]
     },
     "execution_count": 93,
     "metadata": {},
     "output_type": "execute_result"
    }
   ],
   "source": [
    "# Explore the column\n",
    "df_clean['runtimeminutes'].describe()"
   ]
  },
  {
   "cell_type": "code",
   "execution_count": 92,
   "metadata": {},
   "outputs": [
    {
     "data": {
      "image/png": "[encoded data removed]",
      "text/plain": [
       "<Figure size 432x288 with 1 Axes>"
      ]
     },
     "metadata": {
      "needs_background": "light"
     },
     "output_type": "display_data"
    }
   ],
   "source": [
    "# Let's explore the runtime data\n",
    "sns.boxplot(data=df_clean['runtimeminutes']);"
   ]
  },
  {
   "cell_type": "code",
   "execution_count": null,
   "metadata": {},
   "outputs": [],
   "source": []
  },
  {
   "attachments": {},
   "cell_type": "markdown",
   "metadata": {},
   "source": [
    "# Modeling\n",
    "What we will be doing:\n",
    "- Categorize movies by genre (split out the genre string)\n",
    "- Categorize movies based on runtime"
   ]
  },
  {
   "attachments": {},
   "cell_type": "markdown",
   "metadata": {},
   "source": [
    "### Genre"
   ]
  },
  {
   "attachments": {},
   "cell_type": "markdown",
   "metadata": {},
   "source": [
    "The current state of our data is:\n",
    "- movie1: genre1, genre2, genre3\n",
    "\n",
    "We want to change that to:\n",
    "- genre1: movie1\n",
    "- genre2: movie1\n",
    "- genre3: movie1\n",
    "\n",
    "This will let us find the average gross revenue by individual genres.\n",
    "\n",
    "*Note: This approach does double count movies, we're handling this by also comparing the genre combinations*"
   ]
  },
  {
   "cell_type": "code",
   "execution_count": 106,
   "metadata": {},
   "outputs": [
    {
     "name": "stdout",
     "output_type": "stream",
     "text": [
      "<class 'pandas.core.frame.DataFrame'>\n",
      "Int64Index: 86612 entries, 151 to 257150\n",
      "Data columns (total 2 columns):\n",
      " #   Column       Non-Null Count  Dtype  \n",
      "---  ------       --------------  -----  \n",
      " 0   total_gross  86612 non-null  float64\n",
      " 1   genre        86612 non-null  object \n",
      "dtypes: float64(1), object(1)\n",
      "memory usage: 2.0+ MB\n"
     ]
    }
   ],
   "source": [
    "# Let's start by creating a new dataframe that counts movies for each genre\n",
    "temp_1 = df_clean[has_rev_filter][['total_gross','genre_1']]\n",
    "temp_2 = df_clean[has_rev_filter][['total_gross','genre_2']]\n",
    "temp_3 = df_clean[has_rev_filter][['total_gross','genre_3']]\n",
    "\n",
    "temp_1.rename(columns={\"genre_1\": \"genre\"}, inplace=True)\n",
    "temp_2.rename(columns={\"genre_2\": \"genre\"}, inplace=True)\n",
    "temp_3.rename(columns={\"genre_3\": \"genre\"}, inplace=True)\n",
    "\n",
    "genre_revenue = temp_1.append(temp_2).append(temp_3).dropna()\n",
    "genre_revenue.info()"
   ]
  },
  {
   "cell_type": "code",
   "execution_count": 107,
   "metadata": {},
   "outputs": [
    {
     "data": {
      "text/plain": [
       "Drama          14556\n",
       "Comedy         12341\n",
       "Action         11057\n",
       "Adventure      10541\n",
       "Thriller        5602\n",
       "Crime           4698\n",
       "Romance         4370\n",
       "Animation       3419\n",
       "Sci-Fi          3120\n",
       "Biography       3027\n",
       "Fantasy         3018\n",
       "Horror          2898\n",
       "Mystery         2679\n",
       "Family          1997\n",
       "History         1123\n",
       "Music            781\n",
       "Sport            468\n",
       "Documentary      425\n",
       "War              185\n",
       "Western          182\n",
       "Musical          125\n",
       "Name: genre, dtype: int64"
      ]
     },
     "execution_count": 107,
     "metadata": {},
     "output_type": "execute_result"
    }
   ],
   "source": [
    "# Let's check value counts\n",
    "genre_revenue['genre'].value_counts()"
   ]
  },
  {
   "cell_type": "code",
   "execution_count": 108,
   "metadata": {},
   "outputs": [
    {
     "data": {
      "text/html": [
       "<div>\n",
       "<style scoped>\n",
       "    .dataframe tbody tr th:only-of-type {\n",
       "        vertical-align: middle;\n",
       "    }\n",
       "\n",
       "    .dataframe tbody tr th {\n",
       "        vertical-align: top;\n",
       "    }\n",
       "\n",
       "    .dataframe thead tr th {\n",
       "        text-align: left;\n",
       "    }\n",
       "\n",
       "    .dataframe thead tr:last-of-type th {\n",
       "        text-align: right;\n",
       "    }\n",
       "</style>\n",
       "<table border=\"1\" class=\"dataframe\">\n",
       "  <thead>\n",
       "    <tr>\n",
       "      <th></th>\n",
       "      <th colspan=\"8\" halign=\"left\">total_gross</th>\n",
       "    </tr>\n",
       "    <tr>\n",
       "      <th></th>\n",
       "      <th>count</th>\n",
       "      <th>mean</th>\n",
       "      <th>std</th>\n",
       "      <th>min</th>\n",
       "      <th>25%</th>\n",
       "      <th>50%</th>\n",
       "      <th>75%</th>\n",
       "      <th>max</th>\n",
       "    </tr>\n",
       "    <tr>\n",
       "      <th>genre</th>\n",
       "      <th></th>\n",
       "      <th></th>\n",
       "      <th></th>\n",
       "      <th></th>\n",
       "      <th></th>\n",
       "      <th></th>\n",
       "      <th></th>\n",
       "      <th></th>\n",
       "    </tr>\n",
       "  </thead>\n",
       "  <tbody>\n",
       "    <tr>\n",
       "      <th>Action</th>\n",
       "      <td>11057.0</td>\n",
       "      <td>3.083122e+08</td>\n",
       "      <td>3.150405e+08</td>\n",
       "      <td>369500.0</td>\n",
       "      <td>71700000.0</td>\n",
       "      <td>176600000.0</td>\n",
       "      <td>463400000.0</td>\n",
       "      <td>1.405400e+09</td>\n",
       "    </tr>\n",
       "    <tr>\n",
       "      <th>Adventure</th>\n",
       "      <td>10541.0</td>\n",
       "      <td>4.027183e+08</td>\n",
       "      <td>3.377442e+08</td>\n",
       "      <td>624000.0</td>\n",
       "      <td>125700000.0</td>\n",
       "      <td>300200000.0</td>\n",
       "      <td>643400000.0</td>\n",
       "      <td>1.405400e+09</td>\n",
       "    </tr>\n",
       "    <tr>\n",
       "      <th>Animation</th>\n",
       "      <td>3419.0</td>\n",
       "      <td>4.225111e+08</td>\n",
       "      <td>3.225622e+08</td>\n",
       "      <td>1301500.0</td>\n",
       "      <td>147500000.0</td>\n",
       "      <td>347500000.0</td>\n",
       "      <td>591800000.0</td>\n",
       "      <td>1.276400e+09</td>\n",
       "    </tr>\n",
       "    <tr>\n",
       "      <th>Biography</th>\n",
       "      <td>3027.0</td>\n",
       "      <td>1.104263e+08</td>\n",
       "      <td>1.446904e+08</td>\n",
       "      <td>608000.0</td>\n",
       "      <td>22200000.0</td>\n",
       "      <td>59900000.0</td>\n",
       "      <td>140300000.0</td>\n",
       "      <td>9.036000e+08</td>\n",
       "    </tr>\n",
       "    <tr>\n",
       "      <th>Comedy</th>\n",
       "      <td>12341.0</td>\n",
       "      <td>1.932018e+08</td>\n",
       "      <td>2.391167e+08</td>\n",
       "      <td>104500.0</td>\n",
       "      <td>45200000.0</td>\n",
       "      <td>105000000.0</td>\n",
       "      <td>235600000.0</td>\n",
       "      <td>1.276400e+09</td>\n",
       "    </tr>\n",
       "    <tr>\n",
       "      <th>Crime</th>\n",
       "      <td>4698.0</td>\n",
       "      <td>1.071980e+08</td>\n",
       "      <td>1.270915e+08</td>\n",
       "      <td>55600.0</td>\n",
       "      <td>29600000.0</td>\n",
       "      <td>68900000.0</td>\n",
       "      <td>154000000.0</td>\n",
       "      <td>7.887000e+08</td>\n",
       "    </tr>\n",
       "    <tr>\n",
       "      <th>Documentary</th>\n",
       "      <td>425.0</td>\n",
       "      <td>1.384223e+07</td>\n",
       "      <td>2.007989e+07</td>\n",
       "      <td>49400.0</td>\n",
       "      <td>1828000.0</td>\n",
       "      <td>5400000.0</td>\n",
       "      <td>17110999.0</td>\n",
       "      <td>9.900000e+07</td>\n",
       "    </tr>\n",
       "    <tr>\n",
       "      <th>Drama</th>\n",
       "      <td>14556.0</td>\n",
       "      <td>1.062091e+08</td>\n",
       "      <td>1.363416e+08</td>\n",
       "      <td>55100.0</td>\n",
       "      <td>20600000.0</td>\n",
       "      <td>60700000.0</td>\n",
       "      <td>135500000.0</td>\n",
       "      <td>9.036000e+08</td>\n",
       "    </tr>\n",
       "    <tr>\n",
       "      <th>Family</th>\n",
       "      <td>1997.0</td>\n",
       "      <td>2.122668e+08</td>\n",
       "      <td>2.133160e+08</td>\n",
       "      <td>832300.0</td>\n",
       "      <td>60237000.0</td>\n",
       "      <td>132700000.0</td>\n",
       "      <td>299400000.0</td>\n",
       "      <td>1.021100e+09</td>\n",
       "    </tr>\n",
       "    <tr>\n",
       "      <th>Fantasy</th>\n",
       "      <td>3018.0</td>\n",
       "      <td>3.090416e+08</td>\n",
       "      <td>3.314723e+08</td>\n",
       "      <td>346700.0</td>\n",
       "      <td>74700000.0</td>\n",
       "      <td>151100000.0</td>\n",
       "      <td>449300000.0</td>\n",
       "      <td>1.332600e+09</td>\n",
       "    </tr>\n",
       "    <tr>\n",
       "      <th>History</th>\n",
       "      <td>1123.0</td>\n",
       "      <td>1.137433e+08</td>\n",
       "      <td>1.201303e+08</td>\n",
       "      <td>342300.0</td>\n",
       "      <td>16000000.0</td>\n",
       "      <td>67400000.0</td>\n",
       "      <td>177600000.0</td>\n",
       "      <td>5.252000e+08</td>\n",
       "    </tr>\n",
       "    <tr>\n",
       "      <th>Horror</th>\n",
       "      <td>2898.0</td>\n",
       "      <td>1.213333e+08</td>\n",
       "      <td>1.307061e+08</td>\n",
       "      <td>369500.0</td>\n",
       "      <td>37600000.0</td>\n",
       "      <td>85400000.0</td>\n",
       "      <td>142800000.0</td>\n",
       "      <td>8.071000e+08</td>\n",
       "    </tr>\n",
       "    <tr>\n",
       "      <th>Music</th>\n",
       "      <td>781.0</td>\n",
       "      <td>1.259576e+08</td>\n",
       "      <td>1.980257e+08</td>\n",
       "      <td>569000.0</td>\n",
       "      <td>20300000.0</td>\n",
       "      <td>73300000.0</td>\n",
       "      <td>115300000.0</td>\n",
       "      <td>9.036000e+08</td>\n",
       "    </tr>\n",
       "    <tr>\n",
       "      <th>Musical</th>\n",
       "      <td>125.0</td>\n",
       "      <td>2.260531e+08</td>\n",
       "      <td>1.796738e+08</td>\n",
       "      <td>193300.0</td>\n",
       "      <td>59400000.0</td>\n",
       "      <td>89500000.0</td>\n",
       "      <td>395000000.0</td>\n",
       "      <td>4.350000e+08</td>\n",
       "    </tr>\n",
       "    <tr>\n",
       "      <th>Mystery</th>\n",
       "      <td>2679.0</td>\n",
       "      <td>1.273519e+08</td>\n",
       "      <td>1.263865e+08</td>\n",
       "      <td>293100.0</td>\n",
       "      <td>33200000.0</td>\n",
       "      <td>85400000.0</td>\n",
       "      <td>167800000.0</td>\n",
       "      <td>5.868000e+08</td>\n",
       "    </tr>\n",
       "    <tr>\n",
       "      <th>Romance</th>\n",
       "      <td>4370.0</td>\n",
       "      <td>8.582203e+07</td>\n",
       "      <td>9.346194e+07</td>\n",
       "      <td>104500.0</td>\n",
       "      <td>25300000.0</td>\n",
       "      <td>56400000.0</td>\n",
       "      <td>117100000.0</td>\n",
       "      <td>5.710000e+08</td>\n",
       "    </tr>\n",
       "    <tr>\n",
       "      <th>Sci-Fi</th>\n",
       "      <td>3120.0</td>\n",
       "      <td>4.241895e+08</td>\n",
       "      <td>3.619745e+08</td>\n",
       "      <td>1756000.0</td>\n",
       "      <td>127200000.0</td>\n",
       "      <td>348300000.0</td>\n",
       "      <td>668000000.0</td>\n",
       "      <td>1.405400e+09</td>\n",
       "    </tr>\n",
       "    <tr>\n",
       "      <th>Sport</th>\n",
       "      <td>468.0</td>\n",
       "      <td>7.504610e+07</td>\n",
       "      <td>6.166516e+07</td>\n",
       "      <td>1701700.0</td>\n",
       "      <td>23100000.0</td>\n",
       "      <td>49000000.0</td>\n",
       "      <td>110200000.0</td>\n",
       "      <td>2.140000e+08</td>\n",
       "    </tr>\n",
       "    <tr>\n",
       "      <th>Thriller</th>\n",
       "      <td>5602.0</td>\n",
       "      <td>1.748039e+08</td>\n",
       "      <td>2.203118e+08</td>\n",
       "      <td>55100.0</td>\n",
       "      <td>37600000.0</td>\n",
       "      <td>88700000.0</td>\n",
       "      <td>218400000.0</td>\n",
       "      <td>1.108600e+09</td>\n",
       "    </tr>\n",
       "    <tr>\n",
       "      <th>War</th>\n",
       "      <td>185.0</td>\n",
       "      <td>7.024124e+07</td>\n",
       "      <td>6.806784e+07</td>\n",
       "      <td>228000.0</td>\n",
       "      <td>3800000.0</td>\n",
       "      <td>76600000.0</td>\n",
       "      <td>115000000.0</td>\n",
       "      <td>1.776000e+08</td>\n",
       "    </tr>\n",
       "    <tr>\n",
       "      <th>Western</th>\n",
       "      <td>182.0</td>\n",
       "      <td>2.061195e+08</td>\n",
       "      <td>1.498256e+08</td>\n",
       "      <td>321100.0</td>\n",
       "      <td>87200000.0</td>\n",
       "      <td>252200000.0</td>\n",
       "      <td>260500000.0</td>\n",
       "      <td>4.254000e+08</td>\n",
       "    </tr>\n",
       "  </tbody>\n",
       "</table>\n",
       "</div>"
      ],
      "text/plain": [
       "            total_gross                                                      \\\n",
       "                  count          mean           std        min          25%   \n",
       "genre                                                                         \n",
       "Action          11057.0  3.083122e+08  3.150405e+08   369500.0   71700000.0   \n",
       "Adventure       10541.0  4.027183e+08  3.377442e+08   624000.0  125700000.0   \n",
       "Animation        3419.0  4.225111e+08  3.225622e+08  1301500.0  147500000.0   \n",
       "Biography        3027.0  1.104263e+08  1.446904e+08   608000.0   22200000.0   \n",
       "Comedy          12341.0  1.932018e+08  2.391167e+08   104500.0   45200000.0   \n",
       "Crime            4698.0  1.071980e+08  1.270915e+08    55600.0   29600000.0   \n",
       "Documentary       425.0  1.384223e+07  2.007989e+07    49400.0    1828000.0   \n",
       "Drama           14556.0  1.062091e+08  1.363416e+08    55100.0   20600000.0   \n",
       "Family           1997.0  2.122668e+08  2.133160e+08   832300.0   60237000.0   \n",
       "Fantasy          3018.0  3.090416e+08  3.314723e+08   346700.0   74700000.0   \n",
       "History          1123.0  1.137433e+08  1.201303e+08   342300.0   16000000.0   \n",
       "Horror           2898.0  1.213333e+08  1.307061e+08   369500.0   37600000.0   \n",
       "Music             781.0  1.259576e+08  1.980257e+08   569000.0   20300000.0   \n",
       "Musical           125.0  2.260531e+08  1.796738e+08   193300.0   59400000.0   \n",
       "Mystery          2679.0  1.273519e+08  1.263865e+08   293100.0   33200000.0   \n",
       "Romance          4370.0  8.582203e+07  9.346194e+07   104500.0   25300000.0   \n",
       "Sci-Fi           3120.0  4.241895e+08  3.619745e+08  1756000.0  127200000.0   \n",
       "Sport             468.0  7.504610e+07  6.166516e+07  1701700.0   23100000.0   \n",
       "Thriller         5602.0  1.748039e+08  2.203118e+08    55100.0   37600000.0   \n",
       "War               185.0  7.024124e+07  6.806784e+07   228000.0    3800000.0   \n",
       "Western           182.0  2.061195e+08  1.498256e+08   321100.0   87200000.0   \n",
       "\n",
       "                                                     \n",
       "                     50%          75%           max  \n",
       "genre                                                \n",
       "Action       176600000.0  463400000.0  1.405400e+09  \n",
       "Adventure    300200000.0  643400000.0  1.405400e+09  \n",
       "Animation    347500000.0  591800000.0  1.276400e+09  \n",
       "Biography     59900000.0  140300000.0  9.036000e+08  \n",
       "Comedy       105000000.0  235600000.0  1.276400e+09  \n",
       "Crime         68900000.0  154000000.0  7.887000e+08  \n",
       "Documentary    5400000.0   17110999.0  9.900000e+07  \n",
       "Drama         60700000.0  135500000.0  9.036000e+08  \n",
       "Family       132700000.0  299400000.0  1.021100e+09  \n",
       "Fantasy      151100000.0  449300000.0  1.332600e+09  \n",
       "History       67400000.0  177600000.0  5.252000e+08  \n",
       "Horror        85400000.0  142800000.0  8.071000e+08  \n",
       "Music         73300000.0  115300000.0  9.036000e+08  \n",
       "Musical       89500000.0  395000000.0  4.350000e+08  \n",
       "Mystery       85400000.0  167800000.0  5.868000e+08  \n",
       "Romance       56400000.0  117100000.0  5.710000e+08  \n",
       "Sci-Fi       348300000.0  668000000.0  1.405400e+09  \n",
       "Sport         49000000.0  110200000.0  2.140000e+08  \n",
       "Thriller      88700000.0  218400000.0  1.108600e+09  \n",
       "War           76600000.0  115000000.0  1.776000e+08  \n",
       "Western      252200000.0  260500000.0  4.254000e+08  "
      ]
     },
     "execution_count": 108,
     "metadata": {},
     "output_type": "execute_result"
    }
   ],
   "source": [
    "# Let's check stats for the new dataframe\n",
    "genre_revenue.groupby('genre').describe()"
   ]
  },
  {
   "cell_type": "code",
   "execution_count": 109,
   "metadata": {},
   "outputs": [
    {
     "data": {
      "text/html": [
       "<div>\n",
       "<style scoped>\n",
       "    .dataframe tbody tr th:only-of-type {\n",
       "        vertical-align: middle;\n",
       "    }\n",
       "\n",
       "    .dataframe tbody tr th {\n",
       "        vertical-align: top;\n",
       "    }\n",
       "\n",
       "    .dataframe thead th {\n",
       "        text-align: right;\n",
       "    }\n",
       "</style>\n",
       "<table border=\"1\" class=\"dataframe\">\n",
       "  <thead>\n",
       "    <tr style=\"text-align: right;\">\n",
       "      <th></th>\n",
       "      <th>genre</th>\n",
       "      <th>total_gross</th>\n",
       "    </tr>\n",
       "  </thead>\n",
       "  <tbody>\n",
       "    <tr>\n",
       "      <th>16</th>\n",
       "      <td>Sci-Fi</td>\n",
       "      <td>4.241895e+08</td>\n",
       "    </tr>\n",
       "    <tr>\n",
       "      <th>2</th>\n",
       "      <td>Animation</td>\n",
       "      <td>4.225111e+08</td>\n",
       "    </tr>\n",
       "    <tr>\n",
       "      <th>1</th>\n",
       "      <td>Adventure</td>\n",
       "      <td>4.027183e+08</td>\n",
       "    </tr>\n",
       "    <tr>\n",
       "      <th>9</th>\n",
       "      <td>Fantasy</td>\n",
       "      <td>3.090416e+08</td>\n",
       "    </tr>\n",
       "    <tr>\n",
       "      <th>0</th>\n",
       "      <td>Action</td>\n",
       "      <td>3.083122e+08</td>\n",
       "    </tr>\n",
       "  </tbody>\n",
       "</table>\n",
       "</div>"
      ],
      "text/plain": [
       "        genre   total_gross\n",
       "16     Sci-Fi  4.241895e+08\n",
       "2   Animation  4.225111e+08\n",
       "1   Adventure  4.027183e+08\n",
       "9     Fantasy  3.090416e+08\n",
       "0      Action  3.083122e+08"
      ]
     },
     "execution_count": 109,
     "metadata": {},
     "output_type": "execute_result"
    }
   ],
   "source": [
    "# Create data for plotting\n",
    "genre_revenue_data = genre_revenue.groupby('genre').mean().reset_index().sort_values(by='total_gross', ascending=False)\n",
    "genre_revenue_data.head()"
   ]
  },
  {
   "cell_type": "code",
   "execution_count": 110,
   "metadata": {},
   "outputs": [
    {
     "data": {
      "image/png": "[encoded data removed]",
      "text/plain": [
       "<Figure size 432x288 with 1 Axes>"
      ]
     },
     "metadata": {
      "needs_background": "light"
     },
     "output_type": "display_data"
    }
   ],
   "source": [
    "sns.barplot(data=genre_revenue_data, x='total_gross', y='genre');"
   ]
  },
  {
   "cell_type": "code",
   "execution_count": 111,
   "metadata": {},
   "outputs": [
    {
     "name": "stdout",
     "output_type": "stream",
     "text": [
      "                 Multiple Comparison of Means - Tukey HSD, FWER=0.05                 \n",
      "=====================================================================================\n",
      "   group1      group2       meandiff    p-adj       lower           upper      reject\n",
      "-------------------------------------------------------------------------------------\n",
      "     Action   Adventure   94406155.3921  0.001   82658904.5475  106153406.2367   True\n",
      "     Action   Animation  114198932.9169  0.001   97312220.1008   131085645.733   True\n",
      "     Action   Biography -197885920.5394  0.001 -215588117.9063 -180183723.1725   True\n",
      "     Action      Comedy -115110417.8549  0.001 -126410577.3401 -103810258.3698   True\n",
      "     Action       Crime -201114141.1632  0.001 -216142898.7144  -186085383.612   True\n",
      "     Action Documentary -294469963.5322  0.001 -337126411.3448 -251813515.7196   True\n",
      "     Action       Drama -202103123.3299  0.001 -212989405.3782 -191216841.2816   True\n",
      "     Action      Family  -96045436.6471  0.001 -117027739.5633  -75063133.7309   True\n",
      "     Action     Fantasy     729386.6894    0.9  -16993520.5671   18452293.9458  False\n",
      "     Action     History -194568870.6832  0.001 -221596263.0693  -167541478.297   True\n",
      "     Action      Horror  -186978900.725  0.001 -204987756.1112 -168970045.3389   True\n",
      "     Action       Music -182354630.2092  0.001 -214305599.0487 -150403661.3697   True\n",
      "     Action     Musical  -82259093.4287  0.024 -159879357.9173   -4638828.9401   True\n",
      "     Action     Mystery -180960324.5251  0.001 -199543253.4174 -162377395.6329   True\n",
      "     Action     Romance -222490158.6678  0.001 -237909662.6005 -207070654.7351   True\n",
      "     Action      Sci-Fi    115877307.68  0.001    98383463.517  133371151.8429   True\n",
      "     Action       Sport -233266088.2509  0.001 -273991728.5652 -192540447.9365   True\n",
      "     Action    Thriller -133508273.9221  0.001 -147660452.2591 -119356095.5851   True\n",
      "     Action         War -238070953.1908  0.001 -302045365.8051 -174096540.5766   True\n",
      "     Action     Western -102192726.1935  0.001 -166683638.7638  -37701813.6232   True\n",
      "  Adventure   Animation   19792777.5249 0.0056    2808726.4309   36776828.6188   True\n",
      "  Adventure   Biography -292292075.9315  0.001 -310087151.4707 -274497000.3923   True\n",
      "  Adventure      Comedy  -209516573.247  0.001 -220961682.5177 -198071463.9763   True\n",
      "  Adventure       Crime -295520296.5553  0.001 -310658343.8323 -280382249.2782   True\n",
      "  Adventure Documentary -388876118.9243  0.001 -431571194.3056 -346181043.5429   True\n",
      "  Adventure       Drama  -296509278.722  0.001 -307545947.5429 -285472609.9011   True\n",
      "  Adventure      Family -190451592.0392  0.001 -211512312.7651 -169390871.3132   True\n",
      "  Adventure     Fantasy  -93676768.7027  0.001 -111492446.1653  -75861091.2402   True\n",
      "  Adventure     History -288975026.0752  0.001 -316063342.0256 -261886710.1249   True\n",
      "  Adventure      Horror -281385056.1171  0.001 -299485216.1757 -263284896.0585   True\n",
      "  Adventure       Music -276760785.6013  0.001 -308763306.3084 -244758264.8942   True\n",
      "  Adventure     Musical -176665248.8207  0.001 -254306747.9118  -99023749.7297   True\n",
      "  Adventure     Mystery -275366479.9172  0.001 -294037906.4305 -256695053.4039   True\n",
      "  Adventure     Romance -316896314.0599  0.001 -332422357.4502 -301370270.6696   True\n",
      "  Adventure      Sci-Fi   21471152.2879 0.0024     3883329.642   39058974.9339   True\n",
      "  Adventure       Sport  -327672243.643  0.001 -368438341.0873 -286906146.1986   True\n",
      "  Adventure    Thriller -227914429.3142  0.001 -242182613.2739 -213646245.3544   True\n",
      "  Adventure         War -332477108.5829  0.001 -396477283.5136 -268476933.6522   True\n",
      "  Adventure     Western -196598881.5856  0.001 -261115350.2272  -132082412.944   True\n",
      "  Animation   Biography -312084853.4563  0.001 -333621517.0971 -290548189.8156   True\n",
      "  Animation      Comedy -229309350.7719  0.001 -245987291.0987  -212631410.445   True\n",
      "  Animation       Crime -315313074.0801  0.001 -334712137.0134 -295914011.1468   True\n",
      "  Animation Documentary -408668896.4491  0.001 -453053946.0621 -364283846.8361   True\n",
      "  Animation       Drama -316302056.2468  0.001 -332702398.4991 -299901713.9946   True\n",
      "  Animation      Family  -210244369.564  0.001  -234549042.465  -185939696.663   True\n",
      "  Animation     Fantasy -113469546.2276  0.001  -135023235.721  -91915856.7342   True\n",
      "  Animation     History -308767803.6001  0.001 -338448437.4942  -279087169.706   True\n",
      "  Animation      Horror -301177833.6419  0.001  -322967256.798 -279388410.4858   True\n",
      "  Animation       Music -296553563.1261  0.001  -330778181.443 -262328944.8092   True\n",
      "  Animation     Musical -196458026.3456  0.001 -275041520.4677 -117874532.2235   True\n",
      "  Animation     Mystery -295159257.4421  0.001 -317425495.0086 -272893019.8755   True\n",
      "  Animation     Romance -336689091.5847  0.001 -356392421.0162 -316985762.1532   True\n",
      "  Animation      Sci-Fi    1678374.7631    0.9  -19687361.1886   23044110.7147  False\n",
      "  Animation       Sport -347465021.1678  0.001 -389997806.9709 -304932235.3647   True\n",
      "  Animation    Thriller  -247707206.839  0.001 -266435373.8833 -228979039.7948   True\n",
      "  Animation         War -352269886.1078  0.001 -417409624.8123 -287130147.4033   True\n",
      "  Animation     Western -216391659.1104  0.001 -282038729.8243 -150744588.3966   True\n",
      "  Biography      Comedy   82775502.6845  0.001   65272348.2422  100278657.1268   True\n",
      "  Biography       Crime   -3228220.6238    0.9  -23341160.8508   16884719.6032  False\n",
      "  Biography Documentary  -96584042.9928  0.001 -141285713.5548  -51882372.4308   True\n",
      "  Biography       Drama   -4217202.7905    0.9  -21456052.7485   13021647.1675  False\n",
      "  Biography      Family  101840483.8923  0.001   76962303.7597  126718664.0249   True\n",
      "  Biography     Fantasy  198615307.2288  0.001  176416923.2186  220813691.2389   True\n",
      "  Biography     History    3317049.8562    0.9   -26835010.608   33469110.3204  False\n",
      "  Biography      Horror   10907019.8144    0.9  -11520322.5016   33334362.1304  False\n",
      "  Biography       Music   15531290.3302    0.9  -19102958.9156    50165539.576  False\n",
      "  Biography     Musical  115626827.1107  0.001   36864067.6979  194389586.5235   True\n",
      "  Biography     Mystery   16925596.0143  0.499   -5965276.7794   39816468.8079  False\n",
      "  Biography     Romance  -24604238.1284 0.0031  -45010803.5565   -4197672.7003   True\n",
      "  Biography      Sci-Fi  313763228.2194  0.001  291747293.2032  335779163.2356   True\n",
      "  Biography       Sport  -35380167.7115 0.2795  -78243258.9446    7482923.5216  False\n",
      "  Biography    Thriller   64377646.6173  0.001    44910983.762   83844309.4726   True\n",
      "  Biography         War  -40185032.6514 0.7935 -105540922.0599   25170856.7571  False\n",
      "  Biography     Western   95693194.3459  0.001   29831637.9173  161554750.7745   True\n",
      "     Comedy       Crime  -86003723.3083  0.001   -100797511.78  -71209934.8365   True\n",
      "     Comedy Documentary -179359545.6773  0.001 -221933776.8953 -136785314.4593   True\n",
      "     Comedy       Drama   -86992705.475  0.001  -97552239.5863  -76433171.3637   True\n",
      "     Comedy      Family   19064981.2078  0.125   -1749668.9089   39879631.3246  False\n",
      "     Comedy     Fantasy  115839804.5443  0.001    98315704.983  133363904.1056   True\n",
      "     Comedy     History  -79458452.8282  0.001  -106355898.116  -52561007.5404   True\n",
      "     Comedy      Horror  -71868482.8701  0.001  -89681722.2198  -54055243.5203   True\n",
      "     Comedy       Music  -67244212.3543  0.001  -99085334.0932  -35403090.6153   True\n",
      "     Comedy     Musical   32851324.4263    0.9  -44723788.0976  110426436.9501  False\n",
      "     Comedy     Mystery  -65849906.6702  0.001  -84243325.8745  -47456487.4658   True\n",
      "     Comedy     Romance -107379740.8129  0.001 -122570320.9645  -92189160.6613   True\n",
      "     Comedy      Sci-Fi  230987725.5349  0.001  213695322.3645  248280128.7054   True\n",
      "     Comedy       Sport  -118155670.396  0.001 -158795188.1444  -77516152.6475   True\n",
      "     Comedy    Thriller  -18397856.0672  0.001  -32300257.8559   -4495454.2785   True\n",
      "     Comedy         War -122960535.3359  0.001 -186880157.4652  -59040913.2066   True\n",
      "     Comedy     Western   12917691.6614    0.9   -51518869.606   77354252.9288  False\n",
      "      Crime Documentary   -93355822.369  0.001 -137067778.5475  -49643866.1905   True\n",
      "      Crime       Drama    -988982.1667    0.9  -15469096.4546   13491132.1212  False\n",
      "      Crime      Family  105068704.5161  0.001   82016164.3388  128121244.6934   True\n",
      "      Crime     Fantasy  201843527.8526  0.001  181712357.6288  221974698.0763   True\n",
      "      Crime     History      6545270.48    0.9  -22119036.8054   35209577.7654  False\n",
      "      Crime      Horror   14135240.4382 0.6077   -6248121.5337     34518602.41  False\n",
      "      Crime       Music    18759510.954    0.9  -14587557.6239   52106579.5319  False\n",
      "      Crime     Musical  118855047.7345  0.001     40649753.59  197060341.8791   True\n",
      "      Crime     Mystery   20153816.6381 0.0754    -738474.2648   41046107.5409  False\n",
      "      Crime     Romance  -21376017.5046 0.0046  -39512270.5489   -3239764.4603   True\n",
      "      Crime      Sci-Fi  316991448.8432  0.001  297061643.1102  336921254.5761   True\n",
      "      Crime       Sport  -32151947.0877 0.4236  -73981844.9117    9677950.7364  False\n",
      "      Crime    Thriller   67605867.2411  0.001   50534056.4222     84677678.06   True\n",
      "      Crime         War  -36956812.0276 0.8964 -101639793.1146   27726169.0593  False\n",
      "      Crime     Western   98921414.9697  0.001   33727547.3355  164115282.6039   True\n",
      "Documentary       Drama   92366840.2023  0.001   49900586.5855  134833093.8191   True\n",
      "Documentary      Family  198424526.8851  0.001  152325409.8102    244523643.96   True\n",
      "Documentary     Fantasy  295199350.2216  0.001  250489474.3434  339909226.0997   True\n",
      "Documentary     History    99901092.849  0.001   50754867.1688  149047318.5292   True\n",
      "Documentary      Horror  107491062.8072  0.001   62667068.8783   152315056.736   True\n",
      "Documentary       Music   112115333.323  0.001   60098643.9897  164132022.6563   True\n",
      "Documentary     Musical  212210870.1035  0.001  124405534.1683  300016206.0387   True\n",
      "Documentary     Mystery  113509639.0071  0.001   68451933.7212  158567344.2929   True\n",
      "Documentary     Romance   71979804.8644  0.001   28131969.5593  115827640.1695   True\n",
      "Documentary      Sci-Fi  410347271.2122  0.001   365727699.912  454966842.5124   True\n",
      "Documentary       Sport   61203875.2813 0.0244    3381307.5553  119026443.0073   True\n",
      "Documentary    Thriller  160961689.6101  0.001  117543309.7337  204380069.4865   True\n",
      "Documentary         War   56399010.3414 0.4928  -19611495.7006  132409516.3833  False\n",
      "Documentary     Western  192277237.3387  0.001  115831509.1155  268722965.5618   True\n",
      "      Drama      Family  106057686.6828  0.001   85464794.9013  126650578.4644   True\n",
      "      Drama     Fantasy  202832510.0193  0.001  185572394.2062  220092625.8323   True\n",
      "      Drama     History    7534252.6468    0.9  -19191953.5085    34260458.802  False\n",
      "      Drama      Horror   15124222.6049 0.2069   -2429381.8277   32677827.0375  False\n",
      "      Drama       Music   19748493.1207 0.7742  -11948108.6851   51445094.9266  False\n",
      "      Drama     Musical  119844029.9013  0.001   42328124.3364  197359935.4661   True\n",
      "      Drama     Mystery   21142798.8048 0.0056    3000709.5516    39284888.058   True\n",
      "      Drama     Romance  -20387035.3379  0.001  -35272305.1637   -5501765.5121   True\n",
      "      Drama      Sci-Fi  317980431.0099  0.001  300955603.8491  335005258.1707   True\n",
      "      Drama       Sport   -31162964.921 0.4227  -71689350.5885    9363420.7465  False\n",
      "      Drama    Thriller   68594849.4078  0.001   55026713.6501   82162985.1655   True\n",
      "      Drama         War  -35967829.8609    0.9  -99815583.3499   27879923.6281  False\n",
      "      Drama     Western   99910397.1364  0.001   35545127.3055  164275666.9674   True\n",
      "     Family     Fantasy   96774823.3365  0.001   71881902.7221  121667743.9508   True\n",
      "     Family     History  -98523434.0361  0.001 -130710947.0541   -66335921.018   True\n",
      "     Family      Horror  -90933464.0779  0.001 -116030773.2446  -65836154.9112   True\n",
      "     Family       Music  -86309193.5621  0.001 -122729249.3676  -49889137.7567   True\n",
      "     Family     Musical   13786343.2184    0.9  -65777854.2222    93350540.659  False\n",
      "     Family     Mystery   -84914887.878  0.001  -110427263.332   -59402512.424   True\n",
      "     Family     Romance -126444722.0207  0.001 -149753886.6694  -103135557.372   True\n",
      "     Family      Sci-Fi  211922744.3271  0.001  187192385.6825  236653102.9716   True\n",
      "     Family       Sport -137220651.6038  0.001 -181539201.1525   -92902102.055   True\n",
      "     Family    Thriller   -37462837.275  0.001  -59953728.9152  -14971945.6348   True\n",
      "     Family         War -142025516.5437  0.001 -208345057.5888  -75705975.4987   True\n",
      "     Family     Western   -6147289.5464    0.9   -72965205.252   60670626.1592  False\n",
      "    Fantasy     History -195298257.3725  0.001 -225462481.2187 -165134033.5264   True\n",
      "    Fantasy      Horror -187708287.4144  0.001 -210151979.9217  -165264594.907   True\n",
      "    Fantasy       Music -183084016.8986  0.001 -217728855.9201 -148439177.8771   True\n",
      "    Fantasy     Musical   -82988480.118  0.026 -161755896.7338   -4221063.5023   True\n",
      "    Fantasy     Mystery -181689711.2145  0.001 -204596603.3489 -158782819.0801   True\n",
      "    Fantasy     Romance -223219545.3572  0.001 -243644078.7074 -202795012.0069   True\n",
      "    Fantasy      Sci-Fi  115147920.9906  0.001   93115330.4793   137180511.502   True\n",
      "    Fantasy       Sport -233995474.9402  0.001 -276867123.3814 -191123826.4991   True\n",
      "    Fantasy    Thriller -134237660.6115  0.001  -153723158.109 -114752163.1139   True\n",
      "    Fantasy         War -238800339.8802  0.001 -304161841.7783 -173438837.9821   True\n",
      "    Fantasy     Western -102922112.8829  0.001 -168789238.7136  -37054987.0521   True\n",
      "    History      Horror    7589969.9582    0.9  -22743144.4704   37923084.3867  False\n",
      "    History       Music    12214240.474    0.9  -27993263.4078   52421744.3557  False\n",
      "    History     Musical  112309777.2545  0.001   30942189.0028  193677365.5062   True\n",
      "    History     Mystery    13608546.158    0.9  -17068875.5855   44285967.9016  False\n",
      "    History     Romance  -27921287.9846 0.0733  -56792381.8356     949805.8663  False\n",
      "    History      Sci-Fi  310446178.3632  0.001  280415967.8708  340476388.8555   True\n",
      "    History       Sport  -38697217.5677 0.3029  -86177284.3077    8782849.1723  False\n",
      "    History    Thriller   61060596.7611  0.001   32846006.3812   89275187.1409   True\n",
      "    History         War  -43502082.5077 0.7452 -111974737.1075   24970572.0922  False\n",
      "    History     Western   92376144.4897  0.001   23420675.0708  161331613.9085   True\n",
      "     Horror       Music    4624270.5158    0.9  -30167715.6523   39416256.6839  False\n",
      "     Horror     Musical  104719807.2963  0.001   25887559.1296  183552055.4631   True\n",
      "     Horror     Mystery    6018576.1999    0.9  -17110261.5996   29147413.9994  False\n",
      "     Horror     Romance  -35511257.9428  0.001  -56184404.6136   -14838111.272   True\n",
      "     Horror      Sci-Fi   302856208.405  0.001  280592954.4798  325119462.3302   True\n",
      "     Horror       Sport  -46287187.5259 0.0193  -89277833.8429   -3296541.2089   True\n",
      "     Horror    Thriller   53470626.8029  0.001   33724689.4126   73216564.1933   True\n",
      "     Horror         War  -51092052.4658 0.3903 -116531668.6098   14347563.6782  False\n",
      "     Horror     Western   84786174.5315  0.001   18841533.3853  150730815.6777   True\n",
      "      Music     Musical  100095536.7805 0.0031   16962697.9713  183228375.5898   True\n",
      "      Music     Mystery    1394305.6841    0.9   -33698267.254   36486878.6222  False\n",
      "      Music     Romance  -40135528.4586 0.0035  -73660512.1384   -6610544.7788   True\n",
      "      Music      Sci-Fi  298231937.8892  0.001  263703717.3616  332760158.4168   True\n",
      "      Music       Sport  -50911458.0417 0.0449 -101356886.0626    -466030.0207   True\n",
      "      Music    Thriller   48846356.2871  0.001   15885051.9912    81807660.583   True\n",
      "      Music         War  -55716322.9816 0.3661 -126277565.1656   14844919.2023  False\n",
      "      Music     Western   80161904.0157 0.0095    9132042.4548  151191765.5766   True\n",
      "    Musical     Mystery  -98701231.0965 0.0015 -177666601.5123  -19735860.6806   True\n",
      "    Musical     Romance -140231065.2391  0.001 -218512388.5559  -61949741.9223   True\n",
      "    Musical      Sci-Fi  198136401.1087  0.001  119420207.9696  276852594.2477   True\n",
      "    Musical       Sport -151006994.8222  0.001 -237890723.2051  -64123266.4393   True\n",
      "    Musical    Thriller  -51249180.4934 0.6946 -129290763.1938    26792402.207  False\n",
      "    Musical         War -155811859.7622  0.001 -255726473.0479  -55897246.4764   True\n",
      "    Musical     Western  -19933632.7648    0.9  -120179741.332   80312475.8023  False\n",
      "    Mystery     Romance  -41529834.1427  0.001   -62704946.118  -20354722.1674   True\n",
      "    Mystery      Sci-Fi  296837632.2051  0.001   274107501.338  319567763.0722   True\n",
      "    Mystery       Sport  -52305763.7258 0.0029  -95540033.0575    -9071494.394   True\n",
      "    Mystery    Thriller    47452050.603  0.001   27181174.5164   67722926.6896   True\n",
      "    Mystery         War  -57110628.6657 0.1909 -122710550.4261    8489293.0947  False\n",
      "    Mystery     Western   78767598.3316 0.0038   12663876.2746  144871320.3886   True\n",
      "    Romance      Sci-Fi  338367466.3478  0.001  318141376.6478  358593556.0477   True\n",
      "    Romance       Sport  -10775929.5831    0.9  -52747799.9246   31195940.7584  False\n",
      "    Romance    Thriller   88981884.7457  0.001   71565103.3945  106398666.0969   True\n",
      "    Romance         War   -15580794.523    0.9  -80355678.4696   49194089.4235  False\n",
      "    Romance     Western  120297432.4743  0.001     55012381.16  185582483.7886   True\n",
      "     Sci-Fi       Sport -349143395.9309  0.001 -391920859.4138 -306365932.4479   True\n",
      "     Sci-Fi    Thriller -249385581.6021  0.001 -268662971.3295 -230108191.8747   True\n",
      "     Sci-Fi         War -353948260.8708  0.001 -419248024.0584 -288648497.6832   True\n",
      "     Sci-Fi     Western -218070033.8735  0.001 -283875895.3691 -152264172.3779   True\n",
      "      Sport    Thriller   99757814.3288  0.001   58234797.2164  141280831.4412   True\n",
      "      Sport         War   -4804864.9399    0.9  -79748859.1474   70139129.2675  False\n",
      "      Sport     Western  131073362.0574  0.001   55687988.1272  206458735.9876   True\n",
      "   Thriller         War -104562679.2687  0.001 -169047628.2137  -40077730.3237   True\n",
      "   Thriller     Western   31315547.7286    0.9  -33681844.3365   96312939.7937  False\n",
      "        War     Western  135878226.9973  0.001   45783264.3584  225973189.6363   True\n",
      "-------------------------------------------------------------------------------------\n"
     ]
    }
   ],
   "source": [
    "# Check the significance\n",
    "print(pairwise_tukeyhsd(genre_revenue['total_gross'], genre_revenue['genre']))"
   ]
  },
  {
   "attachments": {},
   "cell_type": "markdown",
   "metadata": {},
   "source": [
    "**Observations**\n",
    "- [TBD]"
   ]
  },
  {
   "attachments": {},
   "cell_type": "markdown",
   "metadata": {},
   "source": [
    "### Runtime"
   ]
  },
  {
   "attachments": {},
   "cell_type": "markdown",
   "metadata": {},
   "source": [
    "We need to start feature engineering for runtime. Instead of trying to optimize runtime for gross revenue we will instead categorize runtime and compare revenue among the newly created categories"
   ]
  },
  {
   "cell_type": "code",
   "execution_count": 96,
   "metadata": {},
   "outputs": [],
   "source": [
    "# Create a function to categorize runtimes\n",
    "def film_categorization(runtime):\n",
    "    \"\"\"\n",
    "    Input: the movie runtime (float)\n",
    "    Output: the movie runtime category (string)\n",
    "    \"\"\"\n",
    "    movie_category = ''\n",
    "    if runtime < 40: # The movie industry considers this a short film\n",
    "        movie_category =  'Short Film'\n",
    "    elif runtime < 96: # This is outside the common hollywood length\n",
    "        movie_category =  'Normal Film (short)'\n",
    "    elif (runtime >= 96) and (runtime <= 120): # 50% of hollywood movies are in this range\n",
    "        movie_category =  'Normal Film (optimal)'\n",
    "    elif (runtime > 120): # These are longer than the common range\n",
    "        movie_category =  'Normal Film (long)'\n",
    "    else: # if no runtime exists\n",
    "        movie_category =  'No Runtime'\n",
    "    return movie_category"
   ]
  },
  {
   "cell_type": "code",
   "execution_count": 97,
   "metadata": {},
   "outputs": [
    {
     "data": {
      "text/plain": [
       "Normal Film (short)      92477\n",
       "Normal Film (optimal)    90456\n",
       "Normal Film (long)       29983\n",
       "Short Film                  58\n",
       "Name: runtimecategory, dtype: int64"
      ]
     },
     "execution_count": 97,
     "metadata": {},
     "output_type": "execute_result"
    }
   ],
   "source": [
    "# Add a new column categorizing the runtime\n",
    "df_clean['runtimecategory'] = df_clean['runtimeminutes'].apply(film_categorization)\n",
    "df_clean['runtimecategory'].value_counts()"
   ]
  },
  {
   "cell_type": "code",
   "execution_count": 112,
   "metadata": {},
   "outputs": [
    {
     "data": {
      "image/png": "[encoded data removed]",
      "text/plain": [
       "<Figure size 1152x1152 with 2 Axes>"
      ]
     },
     "metadata": {
      "needs_background": "light"
     },
     "output_type": "display_data"
    }
   ],
   "source": [
    "# Visualize the distributions\n",
    "fig, (ax0,ax1) = plt.subplots(nrows=2, figsize=(16, 16))\n",
    "\n",
    "sns.boxplot(\n",
    "    x=\"runtimecategory\",\n",
    "    y=\"total_gross\",\n",
    "    data=df_clean[has_rev_filter],\n",
    "    ax=ax0,\n",
    "    color='aqua', \n",
    "    linewidth=3\n",
    ")\n",
    "\n",
    "\n",
    "\n",
    "sns.violinplot(\n",
    "    x=\"runtimecategory\",\n",
    "    y=\"total_gross\",\n",
    "    data=df_clean[has_rev_filter],\n",
    "    ax=ax1,\n",
    "    color='aqua',\n",
    "    inner=\"quartile\",  # Seeing the mean and quartiles\n",
    "    bw=.3              # How much smoothing do we use\n",
    ")\n",
    "\n",
    "plt.tight_layout();"
   ]
  },
  {
   "cell_type": "code",
   "execution_count": 113,
   "metadata": {},
   "outputs": [
    {
     "name": "stdout",
     "output_type": "stream",
     "text": [
      "                          Multiple Comparison of Means - Tukey HSD, FWER=0.05                           \n",
      "========================================================================================================\n",
      "        group1                group2            meandiff    p-adj      lower           upper      reject\n",
      "--------------------------------------------------------------------------------------------------------\n",
      "   Normal Film (long) Normal Film (optimal) -174178431.5025 0.001 -181857547.7309 -166499315.2741   True\n",
      "   Normal Film (long)   Normal Film (short) -189596163.5107 0.001 -199048129.5034 -180144197.5181   True\n",
      "Normal Film (optimal)   Normal Film (short)  -15417732.0082 0.001   -23740772.118   -7094691.8985   True\n",
      "--------------------------------------------------------------------------------------------------------\n"
     ]
    }
   ],
   "source": [
    "# Check for significant differences between the four categories\n",
    "print(pairwise_tukeyhsd(df_clean[has_rev_filter]['total_gross'], df_clean[has_rev_filter]['runtimecategory']))"
   ]
  },
  {
   "attachments": {},
   "cell_type": "markdown",
   "metadata": {},
   "source": [
    "**Observations**\n",
    "- [TBD]"
   ]
  },
  {
   "attachments": {},
   "cell_type": "markdown",
   "metadata": {},
   "source": [
    "### Revenue vs. Rating\n",
    "Todo:\n",
    "- Plot revenue vs. rating and investigate trends\n",
    "- Run a linear regresion model to explore the relationship"
   ]
  },
  {
   "cell_type": "code",
   "execution_count": 115,
   "metadata": {},
   "outputs": [
    {
     "data": {
      "image/png": "[encoded data removed]",
      "text/plain": [
       "<Figure size 432x288 with 1 Axes>"
      ]
     },
     "metadata": {
      "needs_background": "light"
     },
     "output_type": "display_data"
    }
   ],
   "source": [
    "# Plot revenue vs. rating\n",
    "sns.scatterplot(data=df_clean[has_rev_filter], x='averagerating', y='total_gross' );"
   ]
  },
  {
   "attachments": {},
   "cell_type": "markdown",
   "metadata": {},
   "source": [
    "**Observations**\n",
    "- It looks like there is a slight upwards trend\n",
    "- There seems to be a lot of spread"
   ]
  },
  {
   "cell_type": "code",
   "execution_count": 123,
   "metadata": {},
   "outputs": [
    {
     "name": "stdout",
     "output_type": "stream",
     "text": [
      "The correlation coefficient is: 0.2806\n"
     ]
    }
   ],
   "source": [
    "# We also need to find the correlation coefficient\n",
    "x = df_clean[has_rev_filter]['total_gross']\n",
    "y = df_clean[has_rev_filter]['averagerating']\n",
    "coer_data = np.corrcoef(x, y)\n",
    "print(f'The correlation coefficient is: {round(coer_data[0,1],4)}')"
   ]
  },
  {
   "cell_type": "code",
   "execution_count": 124,
   "metadata": {},
   "outputs": [
    {
     "data": {
      "text/html": [
       "<table class=\"simpletable\">\n",
       "<caption>OLS Regression Results</caption>\n",
       "<tr>\n",
       "  <th>Dep. Variable:</th>       <td>total_gross</td>   <th>  R-squared:         </th>  <td>   0.079</td>  \n",
       "</tr>\n",
       "<tr>\n",
       "  <th>Model:</th>                   <td>OLS</td>       <th>  Adj. R-squared:    </th>  <td>   0.079</td>  \n",
       "</tr>\n",
       "<tr>\n",
       "  <th>Method:</th>             <td>Least Squares</td>  <th>  F-statistic:       </th>  <td>   2800.</td>  \n",
       "</tr>\n",
       "<tr>\n",
       "  <th>Date:</th>             <td>Wed, 10 May 2023</td> <th>  Prob (F-statistic):</th>   <td>  0.00</td>   \n",
       "</tr>\n",
       "<tr>\n",
       "  <th>Time:</th>                 <td>10:21:23</td>     <th>  Log-Likelihood:    </th> <td>-6.7978e+05</td>\n",
       "</tr>\n",
       "<tr>\n",
       "  <th>No. Observations:</th>      <td> 32752</td>      <th>  AIC:               </th>  <td>1.360e+06</td> \n",
       "</tr>\n",
       "<tr>\n",
       "  <th>Df Residuals:</th>          <td> 32750</td>      <th>  BIC:               </th>  <td>1.360e+06</td> \n",
       "</tr>\n",
       "<tr>\n",
       "  <th>Df Model:</th>              <td>     1</td>      <th>                     </th>      <td> </td>     \n",
       "</tr>\n",
       "<tr>\n",
       "  <th>Covariance Type:</th>      <td>nonrobust</td>    <th>                     </th>      <td> </td>     \n",
       "</tr>\n",
       "</table>\n",
       "<table class=\"simpletable\">\n",
       "<tr>\n",
       "        <td></td>           <th>coef</th>     <th>std err</th>      <th>t</th>      <th>P>|t|</th>  <th>[0.025</th>    <th>0.975]</th>  \n",
       "</tr>\n",
       "<tr>\n",
       "  <th>const</th>         <td>-3.049e+08</td> <td> 9.73e+06</td> <td>  -31.325</td> <td> 0.000</td> <td>-3.24e+08</td> <td>-2.86e+08</td>\n",
       "</tr>\n",
       "<tr>\n",
       "  <th>averagerating</th> <td> 7.797e+07</td> <td> 1.47e+06</td> <td>   52.912</td> <td> 0.000</td> <td> 7.51e+07</td> <td> 8.09e+07</td>\n",
       "</tr>\n",
       "</table>\n",
       "<table class=\"simpletable\">\n",
       "<tr>\n",
       "  <th>Omnibus:</th>       <td>11608.927</td> <th>  Durbin-Watson:     </th> <td>   0.056</td> \n",
       "</tr>\n",
       "<tr>\n",
       "  <th>Prob(Omnibus):</th>  <td> 0.000</td>   <th>  Jarque-Bera (JB):  </th> <td>37385.254</td>\n",
       "</tr>\n",
       "<tr>\n",
       "  <th>Skew:</th>           <td> 1.846</td>   <th>  Prob(JB):          </th> <td>    0.00</td> \n",
       "</tr>\n",
       "<tr>\n",
       "  <th>Kurtosis:</th>       <td> 6.710</td>   <th>  Cond. No.          </th> <td>    47.6</td> \n",
       "</tr>\n",
       "</table><br/><br/>Notes:<br/>[1] Standard Errors assume that the covariance matrix of the errors is correctly specified."
      ],
      "text/plain": [
       "<class 'statsmodels.iolib.summary.Summary'>\n",
       "\"\"\"\n",
       "                            OLS Regression Results                            \n",
       "==============================================================================\n",
       "Dep. Variable:            total_gross   R-squared:                       0.079\n",
       "Model:                            OLS   Adj. R-squared:                  0.079\n",
       "Method:                 Least Squares   F-statistic:                     2800.\n",
       "Date:                Wed, 10 May 2023   Prob (F-statistic):               0.00\n",
       "Time:                        10:21:23   Log-Likelihood:            -6.7978e+05\n",
       "No. Observations:               32752   AIC:                         1.360e+06\n",
       "Df Residuals:                   32750   BIC:                         1.360e+06\n",
       "Df Model:                           1                                         \n",
       "Covariance Type:            nonrobust                                         \n",
       "=================================================================================\n",
       "                    coef    std err          t      P>|t|      [0.025      0.975]\n",
       "---------------------------------------------------------------------------------\n",
       "const         -3.049e+08   9.73e+06    -31.325      0.000   -3.24e+08   -2.86e+08\n",
       "averagerating  7.797e+07   1.47e+06     52.912      0.000    7.51e+07    8.09e+07\n",
       "==============================================================================\n",
       "Omnibus:                    11608.927   Durbin-Watson:                   0.056\n",
       "Prob(Omnibus):                  0.000   Jarque-Bera (JB):            37385.254\n",
       "Skew:                           1.846   Prob(JB):                         0.00\n",
       "Kurtosis:                       6.710   Cond. No.                         47.6\n",
       "==============================================================================\n",
       "\n",
       "Notes:\n",
       "[1] Standard Errors assume that the covariance matrix of the errors is correctly specified.\n",
       "\"\"\""
      ]
     },
     "execution_count": 124,
     "metadata": {},
     "output_type": "execute_result"
    }
   ],
   "source": [
    "# Let's run a simple linear regression model\n",
    "endog = df_clean[has_rev_filter]['total_gross'] # Revenue is independant\n",
    "exog = sm.add_constant(df_clean[has_rev_filter]['averagerating']) # Rating is dependant\n",
    "lin_reg_model = sm.OLS(endog, exog)\n",
    "lin_reg_model.fit()\n",
    "lin_reg_model.fit().summary()"
   ]
  },
  {
   "cell_type": "markdown",
   "metadata": {},
   "source": [
    "**Observations**\n",
    "- [TBD]"
   ]
  }
 ],
 "metadata": {
  "kernelspec": {
   "display_name": "Python (learn-env)",
   "language": "python",
   "name": "learn-env"
  },
  "language_info": {
   "codemirror_mode": {
    "name": "ipython",
    "version": 3
   },
   "file_extension": ".py",
   "mimetype": "text/x-python",
   "name": "python",
   "nbconvert_exporter": "python",
   "pygments_lexer": "ipython3",
   "version": "3.8.5"
  }
 },
 "nbformat": 4,
 "nbformat_minor": 2
}
