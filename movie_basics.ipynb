{
 "cells": [
  {
   "cell_type": "markdown",
   "metadata": {},
   "source": [
    "## Movie Basics\n",
    "\n",
    "Please fill out:\n",
    "* Student name: \n",
    "* Student pace: self paced / part time / full time\n",
    "* Scheduled project review date/time: \n",
    "* Instructor name: \n",
    "* Blog post URL:\n"
   ]
  },
  {
   "cell_type": "markdown",
   "metadata": {},
   "source": [
    "## Business Understanding"
   ]
  },
  {
   "cell_type": "markdown",
   "metadata": {},
   "source": [
    "#### Overview"
   ]
  },
  {
   "cell_type": "markdown",
   "metadata": {},
   "source": [
    "#### Business Problem"
   ]
  },
  {
   "cell_type": "markdown",
   "metadata": {},
   "source": [
    "### Data Understanding"
   ]
  },
  {
   "cell_type": "code",
   "execution_count": 1,
   "metadata": {},
   "outputs": [],
   "source": [
    "# Import standard packages\n",
    "import pandas as pd\n",
    "import numpy as np\n",
    "import matplotlib.pyplot as plt\n",
    "import seaborn as sns\n",
    "import sqlite3\n",
    "import zipfile\n",
    "import os\n",
    "\n",
    "%matplotlib inline"
   ]
  },
  {
   "cell_type": "markdown",
   "metadata": {},
   "source": [
    "To extract the im.db.zip file using Python, you can use the zipfile module. This will extract the contents of im.db.zip into the extractedData directory."
   ]
  },
  {
   "cell_type": "code",
   "execution_count": 2,
   "metadata": {},
   "outputs": [
    {
     "name": "stdout",
     "output_type": "stream",
     "text": [
      "Extraction complete.\n"
     ]
    }
   ],
   "source": [
    "# Define the path to the zip file and the extraction directory\n",
    "zip_file_path = './zippedData/im.db.zip'\n",
    "extraction_dir = './extractedData/'\n",
    "\n",
    "# Check if the file exists\n",
    "if os.path.exists(zip_file_path):\n",
    "    # Extract the zip file\n",
    "    with zipfile.ZipFile(zip_file_path, 'r') as zip_ref:\n",
    "        zip_ref.extractall(extraction_dir)\n",
    "    print(\"Extraction complete.\")\n",
    "else:\n",
    "    print(f\"File {zip_file_path} does not exist.\")"
   ]
  },
  {
   "cell_type": "markdown",
   "metadata": {},
   "source": [
    "This code connects to a SQLite database (im.db), creates a cursor, and then uses pandas to execute a query that gets and stores the names of all tables within that database."
   ]
  },
  {
   "cell_type": "code",
   "execution_count": 3,
   "metadata": {},
   "outputs": [
    {
     "data": {
      "text/html": [
       "<div>\n",
       "<style scoped>\n",
       "    .dataframe tbody tr th:only-of-type {\n",
       "        vertical-align: middle;\n",
       "    }\n",
       "\n",
       "    .dataframe tbody tr th {\n",
       "        vertical-align: top;\n",
       "    }\n",
       "\n",
       "    .dataframe thead th {\n",
       "        text-align: right;\n",
       "    }\n",
       "</style>\n",
       "<table border=\"1\" class=\"dataframe\">\n",
       "  <thead>\n",
       "    <tr style=\"text-align: right;\">\n",
       "      <th></th>\n",
       "      <th>name</th>\n",
       "    </tr>\n",
       "  </thead>\n",
       "  <tbody>\n",
       "    <tr>\n",
       "      <th>0</th>\n",
       "      <td>movie_basics</td>\n",
       "    </tr>\n",
       "    <tr>\n",
       "      <th>1</th>\n",
       "      <td>directors</td>\n",
       "    </tr>\n",
       "    <tr>\n",
       "      <th>2</th>\n",
       "      <td>known_for</td>\n",
       "    </tr>\n",
       "    <tr>\n",
       "      <th>3</th>\n",
       "      <td>movie_akas</td>\n",
       "    </tr>\n",
       "    <tr>\n",
       "      <th>4</th>\n",
       "      <td>movie_ratings</td>\n",
       "    </tr>\n",
       "    <tr>\n",
       "      <th>5</th>\n",
       "      <td>persons</td>\n",
       "    </tr>\n",
       "    <tr>\n",
       "      <th>6</th>\n",
       "      <td>principals</td>\n",
       "    </tr>\n",
       "    <tr>\n",
       "      <th>7</th>\n",
       "      <td>writers</td>\n",
       "    </tr>\n",
       "  </tbody>\n",
       "</table>\n",
       "</div>"
      ],
      "text/plain": [
       "            name\n",
       "0   movie_basics\n",
       "1      directors\n",
       "2      known_for\n",
       "3     movie_akas\n",
       "4  movie_ratings\n",
       "5        persons\n",
       "6     principals\n",
       "7        writers"
      ]
     },
     "execution_count": 3,
     "metadata": {},
     "output_type": "execute_result"
    }
   ],
   "source": [
    "conn = sqlite3.connect('./extractedData/im.db')\n",
    "cursor = conn.cursor()\n",
    "\n",
    "# Display table names\n",
    "table_names = pd.read_sql(\"\"\"SELECT name FROM sqlite_master WHERE type = 'table';\"\"\", conn)\n",
    "table_names"
   ]
  },
  {
   "cell_type": "markdown",
   "metadata": {},
   "source": [
    "We read all data from the movie_basics table in the connected SQLite database into a pandas DataFrame named movie_basics_df, and then we display a summary of this DataFrame's structure and contents."
   ]
  },
  {
   "cell_type": "code",
   "execution_count": 4,
   "metadata": {},
   "outputs": [
    {
     "name": "stdout",
     "output_type": "stream",
     "text": [
      "<class 'pandas.core.frame.DataFrame'>\n",
      "RangeIndex: 146144 entries, 0 to 146143\n",
      "Data columns (total 6 columns):\n",
      " #   Column           Non-Null Count   Dtype  \n",
      "---  ------           --------------   -----  \n",
      " 0   movie_id         146144 non-null  object \n",
      " 1   primary_title    146144 non-null  object \n",
      " 2   original_title   146123 non-null  object \n",
      " 3   start_year       146144 non-null  int64  \n",
      " 4   runtime_minutes  114405 non-null  float64\n",
      " 5   genres           140736 non-null  object \n",
      "dtypes: float64(1), int64(1), object(4)\n",
      "memory usage: 6.7+ MB\n"
     ]
    }
   ],
   "source": [
    "movie_basics_df = pd.read_sql(\"SELECT * FROM movie_basics;\", conn)\n",
    "movie_basics_df.info()"
   ]
  },
  {
   "cell_type": "code",
   "execution_count": 5,
   "metadata": {},
   "outputs": [
    {
     "name": "stdout",
     "output_type": "stream",
     "text": [
      "<class 'pandas.core.frame.DataFrame'>\n",
      "RangeIndex: 73856 entries, 0 to 73855\n",
      "Data columns (total 3 columns):\n",
      " #   Column         Non-Null Count  Dtype  \n",
      "---  ------         --------------  -----  \n",
      " 0   movie_id       73856 non-null  object \n",
      " 1   averagerating  73856 non-null  float64\n",
      " 2   numvotes       73856 non-null  int64  \n",
      "dtypes: float64(1), int64(1), object(1)\n",
      "memory usage: 1.7+ MB\n"
     ]
    }
   ],
   "source": [
    "movie_ratings_df = pd.read_sql(\"SELECT * FROM movie_ratings;\", conn)\n",
    "movie_ratings_df.info()"
   ]
  },
  {
   "cell_type": "code",
   "execution_count": 6,
   "metadata": {},
   "outputs": [],
   "source": [
    "# Close the connection\n",
    "conn.close()"
   ]
  },
  {
   "cell_type": "code",
   "execution_count": 7,
   "metadata": {},
   "outputs": [
    {
     "data": {
      "text/html": [
       "<div>\n",
       "<style scoped>\n",
       "    .dataframe tbody tr th:only-of-type {\n",
       "        vertical-align: middle;\n",
       "    }\n",
       "\n",
       "    .dataframe tbody tr th {\n",
       "        vertical-align: top;\n",
       "    }\n",
       "\n",
       "    .dataframe thead th {\n",
       "        text-align: right;\n",
       "    }\n",
       "</style>\n",
       "<table border=\"1\" class=\"dataframe\">\n",
       "  <thead>\n",
       "    <tr style=\"text-align: right;\">\n",
       "      <th></th>\n",
       "      <th>movie_id</th>\n",
       "      <th>primary_title</th>\n",
       "      <th>original_title</th>\n",
       "      <th>start_year</th>\n",
       "      <th>runtime_minutes</th>\n",
       "      <th>genres</th>\n",
       "    </tr>\n",
       "  </thead>\n",
       "  <tbody>\n",
       "    <tr>\n",
       "      <th>0</th>\n",
       "      <td>tt0063540</td>\n",
       "      <td>sunghursh</td>\n",
       "      <td>sunghursh</td>\n",
       "      <td>2013</td>\n",
       "      <td>175.0</td>\n",
       "      <td>action,crime,drama</td>\n",
       "    </tr>\n",
       "    <tr>\n",
       "      <th>1</th>\n",
       "      <td>tt0066787</td>\n",
       "      <td>one day before the rainy season</td>\n",
       "      <td>ashad ka ek din</td>\n",
       "      <td>2019</td>\n",
       "      <td>114.0</td>\n",
       "      <td>biography,drama</td>\n",
       "    </tr>\n",
       "    <tr>\n",
       "      <th>2</th>\n",
       "      <td>tt0069049</td>\n",
       "      <td>the other side of the wind</td>\n",
       "      <td>the other side of the wind</td>\n",
       "      <td>2018</td>\n",
       "      <td>122.0</td>\n",
       "      <td>drama</td>\n",
       "    </tr>\n",
       "    <tr>\n",
       "      <th>3</th>\n",
       "      <td>tt0069204</td>\n",
       "      <td>sabse bada sukh</td>\n",
       "      <td>sabse bada sukh</td>\n",
       "      <td>2018</td>\n",
       "      <td>NaN</td>\n",
       "      <td>comedy,drama</td>\n",
       "    </tr>\n",
       "    <tr>\n",
       "      <th>4</th>\n",
       "      <td>tt0100275</td>\n",
       "      <td>the wandering soap opera</td>\n",
       "      <td>la telenovela errante</td>\n",
       "      <td>2017</td>\n",
       "      <td>80.0</td>\n",
       "      <td>comedy,drama,fantasy</td>\n",
       "    </tr>\n",
       "  </tbody>\n",
       "</table>\n",
       "</div>"
      ],
      "text/plain": [
       "    movie_id                    primary_title              original_title  \\\n",
       "0  tt0063540                        sunghursh                   sunghursh   \n",
       "1  tt0066787  one day before the rainy season             ashad ka ek din   \n",
       "2  tt0069049       the other side of the wind  the other side of the wind   \n",
       "3  tt0069204                  sabse bada sukh             sabse bada sukh   \n",
       "4  tt0100275         the wandering soap opera       la telenovela errante   \n",
       "\n",
       "   start_year  runtime_minutes                genres  \n",
       "0        2013            175.0    action,crime,drama  \n",
       "1        2019            114.0       biography,drama  \n",
       "2        2018            122.0                 drama  \n",
       "3        2018              NaN          comedy,drama  \n",
       "4        2017             80.0  comedy,drama,fantasy  "
      ]
     },
     "execution_count": 7,
     "metadata": {},
     "output_type": "execute_result"
    }
   ],
   "source": [
    "# Standardize text columns (strip spaces and convert to lowercase)\n",
    "for col in movie_basics_df.select_dtypes(include=['object']).columns:\n",
    "    movie_basics_df[col] = movie_basics_df[col].str.strip().str.lower()\n",
    "\n",
    "# Display the updated DataFrame\n",
    "movie_basics_df.head()"
   ]
  },
  {
   "cell_type": "markdown",
   "metadata": {},
   "source": [
    "### Data Preparation"
   ]
  },
  {
   "cell_type": "markdown",
   "metadata": {},
   "source": [
    "Data preparation and cleaning is the crucial process of getting your raw, messy data into a usable and reliable format for analysis. It involves a series of steps to identify and correct errors, inconsistencies, and missing values, as well as transforming and structuring the data to make it suitable for your specific analytical goals."
   ]
  },
  {
   "cell_type": "markdown",
   "metadata": {},
   "source": [
    "#### Data Cleaning"
   ]
  },
  {
   "cell_type": "code",
   "execution_count": 8,
   "metadata": {},
   "outputs": [
    {
     "data": {
      "text/html": [
       "<div>\n",
       "<style scoped>\n",
       "    .dataframe tbody tr th:only-of-type {\n",
       "        vertical-align: middle;\n",
       "    }\n",
       "\n",
       "    .dataframe tbody tr th {\n",
       "        vertical-align: top;\n",
       "    }\n",
       "\n",
       "    .dataframe thead th {\n",
       "        text-align: right;\n",
       "    }\n",
       "</style>\n",
       "<table border=\"1\" class=\"dataframe\">\n",
       "  <thead>\n",
       "    <tr style=\"text-align: right;\">\n",
       "      <th></th>\n",
       "      <th>movie_id</th>\n",
       "      <th>primary_title</th>\n",
       "      <th>original_title</th>\n",
       "      <th>start_year</th>\n",
       "      <th>runtime_minutes</th>\n",
       "      <th>genres</th>\n",
       "    </tr>\n",
       "  </thead>\n",
       "  <tbody>\n",
       "    <tr>\n",
       "      <th>0</th>\n",
       "      <td>tt0063540</td>\n",
       "      <td>sunghursh</td>\n",
       "      <td>sunghursh</td>\n",
       "      <td>2013</td>\n",
       "      <td>175.0</td>\n",
       "      <td>action,crime,drama</td>\n",
       "    </tr>\n",
       "    <tr>\n",
       "      <th>1</th>\n",
       "      <td>tt0066787</td>\n",
       "      <td>one day before the rainy season</td>\n",
       "      <td>ashad ka ek din</td>\n",
       "      <td>2019</td>\n",
       "      <td>114.0</td>\n",
       "      <td>biography,drama</td>\n",
       "    </tr>\n",
       "    <tr>\n",
       "      <th>2</th>\n",
       "      <td>tt0069049</td>\n",
       "      <td>the other side of the wind</td>\n",
       "      <td>the other side of the wind</td>\n",
       "      <td>2018</td>\n",
       "      <td>122.0</td>\n",
       "      <td>drama</td>\n",
       "    </tr>\n",
       "    <tr>\n",
       "      <th>3</th>\n",
       "      <td>tt0069204</td>\n",
       "      <td>sabse bada sukh</td>\n",
       "      <td>sabse bada sukh</td>\n",
       "      <td>2018</td>\n",
       "      <td>NaN</td>\n",
       "      <td>comedy,drama</td>\n",
       "    </tr>\n",
       "    <tr>\n",
       "      <th>4</th>\n",
       "      <td>tt0100275</td>\n",
       "      <td>the wandering soap opera</td>\n",
       "      <td>la telenovela errante</td>\n",
       "      <td>2017</td>\n",
       "      <td>80.0</td>\n",
       "      <td>comedy,drama,fantasy</td>\n",
       "    </tr>\n",
       "  </tbody>\n",
       "</table>\n",
       "</div>"
      ],
      "text/plain": [
       "    movie_id                    primary_title              original_title  \\\n",
       "0  tt0063540                        sunghursh                   sunghursh   \n",
       "1  tt0066787  one day before the rainy season             ashad ka ek din   \n",
       "2  tt0069049       the other side of the wind  the other side of the wind   \n",
       "3  tt0069204                  sabse bada sukh             sabse bada sukh   \n",
       "4  tt0100275         the wandering soap opera       la telenovela errante   \n",
       "\n",
       "   start_year  runtime_minutes                genres  \n",
       "0        2013            175.0    action,crime,drama  \n",
       "1        2019            114.0       biography,drama  \n",
       "2        2018            122.0                 drama  \n",
       "3        2018              NaN          comedy,drama  \n",
       "4        2017             80.0  comedy,drama,fantasy  "
      ]
     },
     "execution_count": 8,
     "metadata": {},
     "output_type": "execute_result"
    }
   ],
   "source": [
    "# Standardize text columns (strip spaces and convert to lowercase)\n",
    "for col in movie_basics_df.select_dtypes(include=['object']).columns:\n",
    "    movie_basics_df[col] = movie_basics_df[col].str.strip().str.lower()\n",
    "\n",
    "# Display the updated DataFrame\n",
    "movie_basics_df.head()"
   ]
  },
  {
   "cell_type": "code",
   "execution_count": 9,
   "metadata": {},
   "outputs": [
    {
     "data": {
      "text/plain": [
       "movie_id               0\n",
       "primary_title          0\n",
       "original_title        21\n",
       "start_year             0\n",
       "runtime_minutes    31739\n",
       "genres              5408\n",
       "dtype: int64"
      ]
     },
     "execution_count": 9,
     "metadata": {},
     "output_type": "execute_result"
    }
   ],
   "source": [
    "# Check for missing values\n",
    "movie_basics_df.isna().sum()"
   ]
  },
  {
   "cell_type": "code",
   "execution_count": 10,
   "metadata": {},
   "outputs": [
    {
     "name": "stdout",
     "output_type": "stream",
     "text": [
      "(112232, 6)\n"
     ]
    }
   ],
   "source": [
    "# Remove rows with missing values in 'original_title', 'runtime_minutes' or 'genres'\n",
    "movie_basics_df = movie_basics_df.dropna(subset=['original_title', 'runtime_minutes', 'genres'])\n",
    "\n",
    "# Display the updated DataFrame\n",
    "print(movie_basics_df.shape)"
   ]
  },
  {
   "cell_type": "markdown",
   "metadata": {},
   "source": [
    "This code refines the movie_basics_df DataFrame in two key ways:\n",
    "\n",
    "First, it removes duplicate movie entries. It looks for rows that have the same value in both the 'primary_title' (the main title of the movie) and the 'start_year' (the year the movie was released). If it finds such duplicates, it keeps only the very first occurrence of that movie and year combination and discards any subsequent identical entries. This ensures that each unique movie release is represented only once in the dataset.\n",
    "\n",
    "Second, it standardizes the 'runtime_minutes' column. It converts the data type of the values in this column to integers. This is important because sometimes, runtime might be stored as text or decimal numbers. By converting it to an integer type, the code ensures that the runtime is represented as whole numbers of minutes, which is the most logical and useful format for analysis, such as calculating averages or comparing durations."
   ]
  },
  {
   "cell_type": "code",
   "execution_count": 11,
   "metadata": {},
   "outputs": [
    {
     "name": "stdout",
     "output_type": "stream",
     "text": [
      "Shape after dropping duplicates: (110927, 6)\n"
     ]
    }
   ],
   "source": [
    "# Drop duplicates based on 'primary_title' and 'start_year'\n",
    "movie_basics_df = movie_basics_df.drop_duplicates(subset=['primary_title', 'start_year'], keep='first')\n",
    "\n",
    "# Convert 'runtime_minutes' to integer\n",
    "movie_basics_df['runtime_minutes'] = movie_basics_df['runtime_minutes'].astype(int)\n",
    "\n",
    "# Display the updated DataFrame\n",
    "print(f\"Shape after dropping duplicates: {movie_basics_df.shape}\")"
   ]
  },
  {
   "cell_type": "markdown",
   "metadata": {},
   "source": [
    "* This calculates the average movie runtime and then removeS movies with runtimes below this average.\n",
    "* The **ONLY RUN ONCE** comment is a crucial reminder to avoid unintended repeated filtering.\n",
    "* We remove rows that have runtime_minutes below 86.29 minutes"
   ]
  },
  {
   "cell_type": "code",
   "execution_count": null,
   "metadata": {},
   "outputs": [
    {
     "name": "stdout",
     "output_type": "stream",
     "text": [
      "Shape after removing rows with runtime_minutes below 86.2930936561883: (56056, 6)\n"
     ]
    }
   ],
   "source": [
    "# Calculate the threshold (e.g., mean runtime)\n",
    "\n",
    "# runtime_threshold = movie_basics_df['runtime_minutes'].mean()\n",
    "\n",
    "# Remove rows where 'runtime_minutes' is below the threshold\n",
    "# ONLY RUN ONCE\n",
    "# Uncomment the following line to remove rows with runtime_minutes below the threshold\n",
    "\n",
    "movie_basics_df = movie_basics_df[movie_basics_df['runtime_minutes'] >= runtime_threshold]\n",
    "\n",
    "# Display the updated DataFrame\n",
    "print(f\"Shape after removing rows with runtime_minutes below {runtime_threshold}: {movie_basics_df.shape}\")"
   ]
  },
  {
   "cell_type": "markdown",
   "metadata": {},
   "source": [
    "We focuse on identifying and displaying duplicate movie entries based on their primary title and genres.\n",
    "\n",
    "* First, we find all rows that have the same 'primary_title' and 'genres'. The keep=False argument ensures that all occurrences of the duplicates are flagged. These duplicate rows are stored in a new DataFrame called duplicated_movie_basics.\n",
    "\n",
    "* Next, we sort these identified duplicate entries alphabetically by 'primary_title' and then chronologically by 'start_year'. This makes it easier to visually inspect the duplicated movies.\n",
    "\n",
    "* This code helps us find and examine movies that share the same title and genre, allowing us to understand potential data inconsistencies or multiple entries for the same movie."
   ]
  },
  {
   "cell_type": "code",
   "execution_count": 13,
   "metadata": {},
   "outputs": [
    {
     "name": "stdout",
     "output_type": "stream",
     "text": [
      "Number of duplicate primary titles: 488\n",
      "Shape of movie_basics_df: (56056, 6)\n"
     ]
    }
   ],
   "source": [
    "# Check for duplicates in the 'primary_title' and 'genres' column\n",
    "duplicated_movie_basics = movie_basics_df[movie_basics_df.duplicated(subset=['primary_title', 'genres'], keep=False)]\n",
    "# sort in descending order by 'primary_title' and 'start_year'\n",
    "duplicated_movie_basics = duplicated_movie_basics.sort_values(by=['primary_title', 'start_year'], ascending=[True, True])\n",
    "# Display the number of duplicate rows and the duplicates\n",
    "print(f\"Number of duplicate primary titles: {duplicated_movie_basics.shape[0]}\")\n",
    "duplicated_movie_basics.tail()\n",
    "print(\"Shape of movie_basics_df:\", movie_basics_df.shape)"
   ]
  },
  {
   "cell_type": "code",
   "execution_count": 14,
   "metadata": {},
   "outputs": [
    {
     "name": "stdout",
     "output_type": "stream",
     "text": [
      "Shape after dropping duplicates: (55568, 6)\n"
     ]
    }
   ],
   "source": [
    "# Drop rows in movie_basics_df that match primary_title and genres in duplicated_movie_basics\n",
    "movie_basics_df = movie_basics_df[~movie_basics_df.set_index(['primary_title', 'genres']).index.isin(\n",
    "    duplicated_movie_basics.set_index(['primary_title', 'genres']).index\n",
    ")]\n",
    "\n",
    "# Display the updated DataFrame\n",
    "print(f\"Shape after dropping duplicates: {movie_basics_df.shape}\")"
   ]
  },
  {
   "cell_type": "markdown",
   "metadata": {},
   "source": [
    "This code snippet aims to **refine the `movie_basics_df` to keep only one entry for movies that are listed with multiple unique genres, and remove all other movie entries.**\n",
    "\n",
    "1.  It **identifies movie titles that have more than one unique genre** associated with them.\n",
    "2.  It then **selects the first occurrence of each of these multi-genre movies**.\n",
    "3.  A new DataFrame `df_final` is created containing only these first instances of multi-genre movies.\n",
    "4.  Finally, it **removes all rows from the original `movie_basics_df` that are also present in `df_final` based on both 'primary\\_title' and 'genres'**."
   ]
  },
  {
   "cell_type": "code",
   "execution_count": 15,
   "metadata": {},
   "outputs": [
    {
     "name": "stdout",
     "output_type": "stream",
     "text": [
      "Shape after removing rows in df_final: (54064, 6)\n"
     ]
    }
   ],
   "source": [
    "# Step 1: Find titles with multiple unique genres\n",
    "genre_counts_new = movie_basics_df.groupby('primary_title')['genres'].nunique()\n",
    "\n",
    "\n",
    "# Step 2: Identify titles with more than one genre\n",
    "titles_with_multiple_genres_new = genre_counts_new[genre_counts_new > 1].index\n",
    "\n",
    "# Step 3: Keep only the first instance of such titles\n",
    "basics_duplicates = movie_basics_df[movie_basics_df['primary_title'].isin(titles_with_multiple_genres_new)]\n",
    "basics_first_instances = basics_duplicates.drop_duplicates(subset='primary_title', keep='first')\n",
    "\n",
    "# Step 4: Remove all other titles (that do not have multiple genres)\n",
    "df_final = basics_first_instances.copy()\n",
    "\n",
    "# Remove rows in df_final from movie_basics_df\n",
    "movie_basics_df = movie_basics_df[~movie_basics_df.set_index(['primary_title', 'genres']).index.isin(\n",
    "    df_final.set_index(['primary_title', 'genres']).index\n",
    ")]\n",
    "\n",
    "# Display the updated DataFrame\n",
    "print(f\"Shape after removing rows in df_final: {movie_basics_df.shape}\")"
   ]
  },
  {
   "cell_type": "markdown",
   "metadata": {},
   "source": [
    "This snippet deals with **duplicate movie titles** in the `movie_basics_df`.\n",
    "\n",
    "First, it **identifies all rows where the 'primary\\_title' is duplicated**, keeping all occurrences of the duplicated titles.\n",
    "\n",
    "The number of duplicate primary titles is 532.\n",
    "\n",
    "Then, for these identified duplicate titles, it **modifies the 'primary\\_title' by appending the 'start\\_year' in parentheses**. This creates a more unique identifier for movies with the same title but different release years.\n",
    "\n",
    "It resolves duplicate movie titles by making them unique through the addition of their release year."
   ]
  },
  {
   "cell_type": "code",
   "execution_count": 16,
   "metadata": {},
   "outputs": [
    {
     "name": "stdout",
     "output_type": "stream",
     "text": [
      "Number of duplicate primary titles: 532\n"
     ]
    }
   ],
   "source": [
    "# Identify duplicate primary_title values\n",
    "v = movie_basics_df[movie_basics_df.duplicated(subset=['primary_title'], keep=False)]\n",
    "\n",
    "# Display the duplicates\n",
    "print(f\"Number of duplicate primary titles: {v.shape[0]}\")"
   ]
  },
  {
   "cell_type": "code",
   "execution_count": 17,
   "metadata": {},
   "outputs": [
    {
     "name": "stdout",
     "output_type": "stream",
     "text": [
      "Shape after updating duplicate primary_title: (54064, 6)\n"
     ]
    }
   ],
   "source": [
    "# Identify duplicate primary_title values\n",
    "duplicated_basics_title = movie_basics_df[movie_basics_df.duplicated(subset=['primary_title'], keep=False)]\n",
    "\n",
    "# Append start_year to primary_title for duplicates\n",
    "movie_basics_df.loc[duplicated_basics_title.index, 'primary_title'] = (\n",
    "    movie_basics_df.loc[duplicated_basics_title.index, 'primary_title'] + \n",
    "    \" (\" + movie_basics_df.loc[duplicated_basics_title.index, 'start_year'].astype(str) + \")\"\n",
    ")\n",
    "\n",
    "# Display the updated DataFrame\n",
    "print(f\"Shape after updating duplicate primary_title: {movie_basics_df.shape}\")"
   ]
  },
  {
   "cell_type": "code",
   "execution_count": 18,
   "metadata": {},
   "outputs": [
    {
     "name": "stdout",
     "output_type": "stream",
     "text": [
      "Number of duplicate primary titles: 0\n"
     ]
    }
   ],
   "source": [
    "# Identify duplicate primary_title values\n",
    "v = movie_basics_df[movie_basics_df.duplicated(subset=['primary_title'], keep=False)]\n",
    "\n",
    "# Display the duplicates\n",
    "print(f\"Number of duplicate primary titles: {v.shape[0]}\")"
   ]
  },
  {
   "cell_type": "code",
   "execution_count": 19,
   "metadata": {},
   "outputs": [
    {
     "name": "stdout",
     "output_type": "stream",
     "text": [
      "<class 'pandas.core.frame.DataFrame'>\n",
      "Int64Index: 54064 entries, 0 to 146139\n",
      "Data columns (total 6 columns):\n",
      " #   Column           Non-Null Count  Dtype \n",
      "---  ------           --------------  ----- \n",
      " 0   movie_id         54064 non-null  object\n",
      " 1   primary_title    54064 non-null  object\n",
      " 2   original_title   54064 non-null  object\n",
      " 3   start_year       54064 non-null  int64 \n",
      " 4   runtime_minutes  54064 non-null  int32 \n",
      " 5   genres           54064 non-null  object\n",
      "dtypes: int32(1), int64(1), object(4)\n",
      "memory usage: 5.2+ MB\n"
     ]
    }
   ],
   "source": [
    "# This is the final DataFrame after all the cleaning steps\n",
    "movie_basics_df.info()"
   ]
  },
  {
   "cell_type": "code",
   "execution_count": 20,
   "metadata": {},
   "outputs": [
    {
     "name": "stdout",
     "output_type": "stream",
     "text": [
      "DataFrames have been successfully saved to the 'extracted' folder.\n"
     ]
    }
   ],
   "source": [
    "# Save the cleaned DataFrame to a CSV file\n",
    "# Create 'cleaned_data' folder if it doesn't exist\n",
    "output_folder = './cleaned_data'\n",
    "os.makedirs(output_folder, exist_ok=True)\n",
    "\n",
    "# Save movie_basics_df to a CSV file\n",
    "movie_basics_df.to_csv(f'{output_folder}/movie_basics.csv', index=False)\n",
    "\n",
    "print(\"DataFrames have been successfully saved to the 'extracted' folder.\")"
   ]
  },
  {
   "cell_type": "markdown",
   "metadata": {},
   "source": [
    "In summary, the cleaning process for `movie_basics_df` involved several key steps to ensure data quality and consistency for further analysis:\n",
    "\n",
    "* **Duplicate Removal:** We eliminated exact duplicate movie entries based on their primary title and release year, retaining only the first occurrence.\n",
    "* **Runtime Conversion:** The 'runtime\\_minutes' column was converted to an integer data type for proper numerical handling.\n",
    "* **Runtime Filtering:** We explored filtering out movies with runtimes below the average, although this step might have been conditionally applied.\n",
    "* **Handling Multi-Genre Movies:** We addressed movies listed with multiple unique genres, potentially keeping only the first instance of such titles while removing others.\n",
    "* **Resolving Duplicate Titles:** For movies with the same primary title, we made them unique by appending their release year to the title.\n",
    "\n",
    "These steps collectively aimed to create a more reliable and standardized `movie_basics_df` by removing redundancies, ensuring correct data types, and addressing potential ambiguities in movie titles and genre information. The resulting DataFrame is now better prepared for subsequent merging with other datasets and for meaningful analysis."
   ]
  }
 ],
 "metadata": {
  "kernelspec": {
   "display_name": "learn-env",
   "language": "python",
   "name": "python3"
  },
  "language_info": {
   "codemirror_mode": {
    "name": "ipython",
    "version": 3
   },
   "file_extension": ".py",
   "mimetype": "text/x-python",
   "name": "python",
   "nbconvert_exporter": "python",
   "pygments_lexer": "ipython3",
   "version": "3.8.5"
  }
 },
 "nbformat": 4,
 "nbformat_minor": 2
}
