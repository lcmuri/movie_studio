{
 "cells": [
  {
   "cell_type": "markdown",
   "id": "e9969223",
   "metadata": {},
   "source": [
    "# Persons"
   ]
  },
  {
   "cell_type": "code",
   "execution_count": 312,
   "id": "738ebc17",
   "metadata": {},
   "outputs": [],
   "source": [
    "# import libraries\n",
    "import pandas as pd\n",
    "import numpy as np\n",
    "import matplotlib.pyplot as plt\n",
    "import seaborn as sns\n",
    "import sqlite3\n",
    "import os\n",
    "\n",
    "%matplotlib inline"
   ]
  },
  {
   "cell_type": "code",
   "execution_count": 313,
   "id": "f8a37386",
   "metadata": {},
   "outputs": [],
   "source": [
    "# connect to the SQLite database\n",
    "conn = sqlite3.connect('./extractedData/im.db')\n",
    "cursor = conn.cursor()"
   ]
  },
  {
   "cell_type": "code",
   "execution_count": 314,
   "id": "0c8b0d84",
   "metadata": {},
   "outputs": [
    {
     "name": "stdout",
     "output_type": "stream",
     "text": [
      "<class 'pandas.core.frame.DataFrame'>\n",
      "RangeIndex: 606648 entries, 0 to 606647\n",
      "Data columns (total 5 columns):\n",
      " #   Column              Non-Null Count   Dtype  \n",
      "---  ------              --------------   -----  \n",
      " 0   person_id           606648 non-null  object \n",
      " 1   primary_name        606648 non-null  object \n",
      " 2   birth_year          82736 non-null   float64\n",
      " 3   death_year          6783 non-null    float64\n",
      " 4   primary_profession  555308 non-null  object \n",
      "dtypes: float64(2), object(3)\n",
      "memory usage: 23.1+ MB\n"
     ]
    }
   ],
   "source": [
    "# read the persons table into a pandas DataFrame\n",
    "# and display its information\n",
    "persons_df = pd.read_sql(\"SELECT * FROM persons;\", conn)\n",
    "persons_df.info()\n"
   ]
  },
  {
   "cell_type": "code",
   "execution_count": 315,
   "id": "701cbf82",
   "metadata": {},
   "outputs": [
    {
     "data": {
      "text/plain": [
       "person_id                  0\n",
       "primary_name               0\n",
       "birth_year            523912\n",
       "death_year            599865\n",
       "primary_profession     51340\n",
       "dtype: int64"
      ]
     },
     "execution_count": 315,
     "metadata": {},
     "output_type": "execute_result"
    }
   ],
   "source": [
    "# Check for missing values\n",
    "persons_df.isnull().sum()"
   ]
  },
  {
   "cell_type": "markdown",
   "id": "4da953c2",
   "metadata": {},
   "source": [
    "## Data Preparation for Analysis\n",
    "### Data Cleaning"
   ]
  },
  {
   "cell_type": "markdown",
   "id": "d2903a7c",
   "metadata": {},
   "source": [
    "We drop rows where death_year is not null."
   ]
  },
  {
   "cell_type": "markdown",
   "id": "abbd879b",
   "metadata": {},
   "source": [
    "Drop irrelevant columns"
   ]
  },
  {
   "cell_type": "code",
   "execution_count": 317,
   "id": "a1881858",
   "metadata": {},
   "outputs": [],
   "source": [
    "# Drop rows where death_year is not null\n",
    "persons_df = persons_df[persons_df['death_year'].isna()]\n",
    "\n",
    "# Drop the 'birth_year', 'death_year' columns\n",
    "persons_df = persons_df.drop(columns=['birth_year', 'death_year'])\n",
    "\n",
    "# Reset the index of the DataFrame\n",
    "persons_df.reset_index(drop=True, inplace=True)\n"
   ]
  },
  {
   "cell_type": "code",
   "execution_count": 318,
   "id": "34529d46",
   "metadata": {},
   "outputs": [
    {
     "data": {
      "text/plain": [
       "person_id             object\n",
       "primary_name          object\n",
       "primary_profession    object\n",
       "dtype: object"
      ]
     },
     "execution_count": 318,
     "metadata": {},
     "output_type": "execute_result"
    }
   ],
   "source": [
    "# Display the updated DataFrame\n",
    "persons_df.dtypes"
   ]
  },
  {
   "cell_type": "markdown",
   "id": "eb76828c",
   "metadata": {},
   "source": [
    "duplicate_persons_primary_name helps identify and preview individuals with non-unique primary names in the dataset. We can say that many people can share the same name. We can not use primary_name to clean our data"
   ]
  },
  {
   "cell_type": "code",
   "execution_count": 319,
   "id": "cee5d9bc",
   "metadata": {},
   "outputs": [
    {
     "data": {
      "text/html": [
       "<div>\n",
       "<style scoped>\n",
       "    .dataframe tbody tr th:only-of-type {\n",
       "        vertical-align: middle;\n",
       "    }\n",
       "\n",
       "    .dataframe tbody tr th {\n",
       "        vertical-align: top;\n",
       "    }\n",
       "\n",
       "    .dataframe thead th {\n",
       "        text-align: right;\n",
       "    }\n",
       "</style>\n",
       "<table border=\"1\" class=\"dataframe\">\n",
       "  <thead>\n",
       "    <tr style=\"text-align: right;\">\n",
       "      <th></th>\n",
       "      <th>person_id</th>\n",
       "      <th>primary_name</th>\n",
       "      <th>primary_profession</th>\n",
       "    </tr>\n",
       "  </thead>\n",
       "  <tbody>\n",
       "    <tr>\n",
       "      <th>381053</th>\n",
       "      <td>nm8956236</td>\n",
       "      <td>A. Venkatesh</td>\n",
       "      <td>producer</td>\n",
       "    </tr>\n",
       "    <tr>\n",
       "      <th>151115</th>\n",
       "      <td>nm1701176</td>\n",
       "      <td>A. Venkatesh</td>\n",
       "      <td>cinematographer,camera_department,editor</td>\n",
       "    </tr>\n",
       "    <tr>\n",
       "      <th>124660</th>\n",
       "      <td>nm10275444</td>\n",
       "      <td>A. Venkatesh</td>\n",
       "      <td>director</td>\n",
       "    </tr>\n",
       "    <tr>\n",
       "      <th>273669</th>\n",
       "      <td>nm4062141</td>\n",
       "      <td>A. Venkatesh</td>\n",
       "      <td>director,actor,writer</td>\n",
       "    </tr>\n",
       "    <tr>\n",
       "      <th>429984</th>\n",
       "      <td>nm6758318</td>\n",
       "      <td>A.J. Khan</td>\n",
       "      <td>producer</td>\n",
       "    </tr>\n",
       "  </tbody>\n",
       "</table>\n",
       "</div>"
      ],
      "text/plain": [
       "         person_id  primary_name                        primary_profession\n",
       "381053   nm8956236  A. Venkatesh                                  producer\n",
       "151115   nm1701176  A. Venkatesh  cinematographer,camera_department,editor\n",
       "124660  nm10275444  A. Venkatesh                                  director\n",
       "273669   nm4062141  A. Venkatesh                     director,actor,writer\n",
       "429984   nm6758318     A.J. Khan                                  producer"
      ]
     },
     "execution_count": 319,
     "metadata": {},
     "output_type": "execute_result"
    }
   ],
   "source": [
    "# view duplicates using primary_name\n",
    "duplicate_persons_primary_name = persons_df[persons_df.duplicated(subset=['primary_name'], keep=False)]\n",
    "duplicate_persons_primary_name = duplicate_persons_primary_name.sort_values('primary_name')\n",
    "duplicate_persons_primary_name.head()"
   ]
  },
  {
   "cell_type": "code",
   "execution_count": 235,
   "id": "7d42061e",
   "metadata": {},
   "outputs": [
    {
     "name": "stdout",
     "output_type": "stream",
     "text": [
      "Shape after dropping rows with primary_profession as 'miscellaneous': (74773, 4)\n"
     ]
    }
   ],
   "source": [
    "# Drop rows where primary_profession is 'miscellaneous' only\n",
    "persons_df = persons_df[persons_df['primary_profession'].str.strip().str.lower() != 'miscellaneous']\n",
    "\n",
    "# Display the updated DataFrame\n",
    "print(f\"Shape after dropping rows with primary_profession as 'miscellaneous': {persons_df.shape}\")"
   ]
  },
  {
   "cell_type": "code",
   "execution_count": 320,
   "id": "a3124151",
   "metadata": {},
   "outputs": [
    {
     "data": {
      "text/plain": [
       "person_id                 0\n",
       "primary_name              0\n",
       "primary_profession    50548\n",
       "dtype: int64"
      ]
     },
     "execution_count": 320,
     "metadata": {},
     "output_type": "execute_result"
    }
   ],
   "source": [
    "# Check for missing values again\n",
    "persons_df.isna().sum()"
   ]
  },
  {
   "cell_type": "code",
   "execution_count": 321,
   "id": "f525dcf9",
   "metadata": {},
   "outputs": [
    {
     "name": "stdout",
     "output_type": "stream",
     "text": [
      "Updated DataFrame information after cleaning:\n",
      "<class 'pandas.core.frame.DataFrame'>\n",
      "RangeIndex: 599865 entries, 0 to 599864\n",
      "Data columns (total 3 columns):\n",
      " #   Column              Non-Null Count   Dtype \n",
      "---  ------              --------------   ----- \n",
      " 0   person_id           599865 non-null  object\n",
      " 1   primary_name        599865 non-null  object\n",
      " 2   primary_profession  549317 non-null  object\n",
      "dtypes: object(3)\n",
      "memory usage: 13.7+ MB\n"
     ]
    }
   ],
   "source": [
    "# Display the updated DataFrame information\n",
    "print(\"Updated DataFrame information after cleaning:\")\n",
    "persons_df.info()"
   ]
  },
  {
   "cell_type": "code",
   "execution_count": 322,
   "id": "4a1161ff",
   "metadata": {},
   "outputs": [],
   "source": [
    "# close the database connection\n",
    "conn.close()"
   ]
  },
  {
   "cell_type": "code",
   "execution_count": 323,
   "id": "c01433a1",
   "metadata": {},
   "outputs": [
    {
     "name": "stdout",
     "output_type": "stream",
     "text": [
      "DataFrames have been successfully saved to the 'extracted' folder.\n"
     ]
    }
   ],
   "source": [
    "# Create 'extracted' folder if it doesn't exist\n",
    "output_folder = './cleaned_data'\n",
    "os.makedirs(output_folder, exist_ok=True)\n",
    "\n",
    "# Save persons_df to a CSV file\n",
    "persons_df.to_csv(f'{output_folder}/cleaned_persons_df.csv', index=False)\n",
    "\n",
    "print(\"DataFrames have been successfully saved to the 'extracted' folder.\")"
   ]
  },
  {
   "cell_type": "markdown",
   "id": "c7e2d2e6",
   "metadata": {},
   "source": [
    "## WRITERS"
   ]
  },
  {
   "cell_type": "markdown",
   "id": "dd4ce1e0",
   "metadata": {},
   "source": []
  },
  {
   "cell_type": "code",
   "execution_count": 324,
   "id": "c5df995d",
   "metadata": {},
   "outputs": [],
   "source": [
    "conn = sqlite3.connect('./extractedData/im.db')\n",
    "cursor = conn.cursor()"
   ]
  },
  {
   "cell_type": "code",
   "execution_count": 325,
   "id": "ddf9bc9f",
   "metadata": {},
   "outputs": [
    {
     "name": "stdout",
     "output_type": "stream",
     "text": [
      "(255873, 2)\n"
     ]
    },
    {
     "data": {
      "text/html": [
       "<div>\n",
       "<style scoped>\n",
       "    .dataframe tbody tr th:only-of-type {\n",
       "        vertical-align: middle;\n",
       "    }\n",
       "\n",
       "    .dataframe tbody tr th {\n",
       "        vertical-align: top;\n",
       "    }\n",
       "\n",
       "    .dataframe thead th {\n",
       "        text-align: right;\n",
       "    }\n",
       "</style>\n",
       "<table border=\"1\" class=\"dataframe\">\n",
       "  <thead>\n",
       "    <tr style=\"text-align: right;\">\n",
       "      <th></th>\n",
       "      <th>movie_id</th>\n",
       "      <th>person_id</th>\n",
       "    </tr>\n",
       "  </thead>\n",
       "  <tbody>\n",
       "    <tr>\n",
       "      <th>0</th>\n",
       "      <td>tt0285252</td>\n",
       "      <td>nm0899854</td>\n",
       "    </tr>\n",
       "    <tr>\n",
       "      <th>1</th>\n",
       "      <td>tt0438973</td>\n",
       "      <td>nm0175726</td>\n",
       "    </tr>\n",
       "    <tr>\n",
       "      <th>2</th>\n",
       "      <td>tt0438973</td>\n",
       "      <td>nm1802864</td>\n",
       "    </tr>\n",
       "    <tr>\n",
       "      <th>3</th>\n",
       "      <td>tt0462036</td>\n",
       "      <td>nm1940585</td>\n",
       "    </tr>\n",
       "    <tr>\n",
       "      <th>4</th>\n",
       "      <td>tt0835418</td>\n",
       "      <td>nm0310087</td>\n",
       "    </tr>\n",
       "  </tbody>\n",
       "</table>\n",
       "</div>"
      ],
      "text/plain": [
       "    movie_id  person_id\n",
       "0  tt0285252  nm0899854\n",
       "1  tt0438973  nm0175726\n",
       "2  tt0438973  nm1802864\n",
       "3  tt0462036  nm1940585\n",
       "4  tt0835418  nm0310087"
      ]
     },
     "execution_count": 325,
     "metadata": {},
     "output_type": "execute_result"
    }
   ],
   "source": [
    "writers_df = pd.read_sql(\"SELECT * FROM writers;\", conn)\n",
    "print(writers_df.shape)\n",
    "writers_df.head()\n"
   ]
  },
  {
   "cell_type": "code",
   "execution_count": 326,
   "id": "438faf99",
   "metadata": {},
   "outputs": [
    {
     "data": {
      "text/plain": [
       "movie_id     0\n",
       "person_id    0\n",
       "dtype: int64"
      ]
     },
     "execution_count": 326,
     "metadata": {},
     "output_type": "execute_result"
    }
   ],
   "source": [
    "# Check for missing values\n",
    "writers_df.isna().sum()"
   ]
  },
  {
   "cell_type": "code",
   "execution_count": 327,
   "id": "2c3f674c",
   "metadata": {},
   "outputs": [
    {
     "data": {
      "text/plain": [
       "movie_id     104011\n",
       "person_id    104011\n",
       "dtype: int64"
      ]
     },
     "execution_count": 327,
     "metadata": {},
     "output_type": "execute_result"
    }
   ],
   "source": [
    "# view duplicates using movie_id and person_id\n",
    "\n",
    "duplicate_writers = writers_df[writers_df.duplicated(subset=['movie_id', 'person_id'], keep=False)]\n",
    "\n",
    "duplicate_writers.count()"
   ]
  },
  {
   "cell_type": "markdown",
   "id": "e97b6883",
   "metadata": {},
   "source": [
    "## Data Preparation for Analysis\n",
    "### Data Cleaning"
   ]
  },
  {
   "cell_type": "code",
   "execution_count": 329,
   "id": "1b812923",
   "metadata": {},
   "outputs": [
    {
     "data": {
      "text/plain": [
       "178352"
      ]
     },
     "execution_count": 329,
     "metadata": {},
     "output_type": "execute_result"
    }
   ],
   "source": [
    "# drop duplicates from the DataFrame. retain the first occurrence\n",
    "writers_df = writers_df.drop_duplicates(subset=['movie_id', 'person_id'], keep='first')\n",
    "\n",
    "# check for duplicates in the DataFrame\n",
    "duplicate_writers = writers_df.duplicated(subset=['movie_id', 'person_id'])\n",
    "\n",
    "# count the number of duplicates\n",
    "duplicate_writers.count()"
   ]
  },
  {
   "cell_type": "code",
   "execution_count": 330,
   "id": "06839dcc",
   "metadata": {},
   "outputs": [
    {
     "data": {
      "text/plain": [
       "(178352, 2)"
      ]
     },
     "execution_count": 330,
     "metadata": {},
     "output_type": "execute_result"
    }
   ],
   "source": [
    "writers_df.shape"
   ]
  },
  {
   "cell_type": "code",
   "execution_count": 331,
   "id": "77c3f9b2",
   "metadata": {},
   "outputs": [
    {
     "name": "stdout",
     "output_type": "stream",
     "text": [
      "writers_df has been successfully saved to the 'cleaned_data' folder.\n"
     ]
    }
   ],
   "source": [
    "# Create 'cleaned_data' folder if it doesn't exist\n",
    "output_folder = './cleaned_data'\n",
    "os.makedirs(output_folder, exist_ok=True)\n",
    "\n",
    "# Save writers_df to a CSV file\n",
    "writers_df.to_csv(f'{output_folder}/cleaned_writers_df.csv', index=False)\n",
    "\n",
    "print(\"writers_df has been successfully saved to the 'cleaned_data' folder.\")"
   ]
  },
  {
   "cell_type": "markdown",
   "id": "c0c9f423",
   "metadata": {},
   "source": [
    "many movies has many writers"
   ]
  },
  {
   "cell_type": "markdown",
   "id": "684d1d30",
   "metadata": {},
   "source": [
    "# Directors"
   ]
  },
  {
   "cell_type": "code",
   "execution_count": 332,
   "id": "0013689d",
   "metadata": {},
   "outputs": [
    {
     "name": "stdout",
     "output_type": "stream",
     "text": [
      "(291174, 2)\n"
     ]
    },
    {
     "data": {
      "text/html": [
       "<div>\n",
       "<style scoped>\n",
       "    .dataframe tbody tr th:only-of-type {\n",
       "        vertical-align: middle;\n",
       "    }\n",
       "\n",
       "    .dataframe tbody tr th {\n",
       "        vertical-align: top;\n",
       "    }\n",
       "\n",
       "    .dataframe thead th {\n",
       "        text-align: right;\n",
       "    }\n",
       "</style>\n",
       "<table border=\"1\" class=\"dataframe\">\n",
       "  <thead>\n",
       "    <tr style=\"text-align: right;\">\n",
       "      <th></th>\n",
       "      <th>movie_id</th>\n",
       "      <th>person_id</th>\n",
       "    </tr>\n",
       "  </thead>\n",
       "  <tbody>\n",
       "    <tr>\n",
       "      <th>0</th>\n",
       "      <td>tt0285252</td>\n",
       "      <td>nm0899854</td>\n",
       "    </tr>\n",
       "    <tr>\n",
       "      <th>1</th>\n",
       "      <td>tt0462036</td>\n",
       "      <td>nm1940585</td>\n",
       "    </tr>\n",
       "    <tr>\n",
       "      <th>2</th>\n",
       "      <td>tt0835418</td>\n",
       "      <td>nm0151540</td>\n",
       "    </tr>\n",
       "    <tr>\n",
       "      <th>3</th>\n",
       "      <td>tt0835418</td>\n",
       "      <td>nm0151540</td>\n",
       "    </tr>\n",
       "    <tr>\n",
       "      <th>4</th>\n",
       "      <td>tt0878654</td>\n",
       "      <td>nm0089502</td>\n",
       "    </tr>\n",
       "  </tbody>\n",
       "</table>\n",
       "</div>"
      ],
      "text/plain": [
       "    movie_id  person_id\n",
       "0  tt0285252  nm0899854\n",
       "1  tt0462036  nm1940585\n",
       "2  tt0835418  nm0151540\n",
       "3  tt0835418  nm0151540\n",
       "4  tt0878654  nm0089502"
      ]
     },
     "execution_count": 332,
     "metadata": {},
     "output_type": "execute_result"
    }
   ],
   "source": [
    "directors_df = pd.read_sql(\"SELECT * FROM directors;\", conn)\n",
    "print(directors_df.shape)\n",
    "directors_df.head()"
   ]
  },
  {
   "cell_type": "markdown",
   "id": "ffc09d17",
   "metadata": {},
   "source": [
    "## Data Preparation for Analysis\n",
    "### Data Cleaning"
   ]
  },
  {
   "cell_type": "code",
   "execution_count": 333,
   "id": "ee390dc3",
   "metadata": {},
   "outputs": [
    {
     "data": {
      "text/plain": [
       "movie_id     0\n",
       "person_id    0\n",
       "dtype: int64"
      ]
     },
     "execution_count": 333,
     "metadata": {},
     "output_type": "execute_result"
    }
   ],
   "source": [
    "# Check for missing values\n",
    "directors_df.isna().sum()"
   ]
  },
  {
   "cell_type": "code",
   "execution_count": 334,
   "id": "6eb41e19",
   "metadata": {},
   "outputs": [
    {
     "data": {
      "text/plain": [
       "movie_id     127639\n",
       "person_id    127639\n",
       "dtype: int64"
      ]
     },
     "execution_count": 334,
     "metadata": {},
     "output_type": "execute_result"
    }
   ],
   "source": [
    "# view duplicates using movie_id and person_id\n",
    "\n",
    "duplicate_directors = directors_df[directors_df.duplicated(subset=['movie_id', 'person_id'], keep='first')]\n",
    "\n",
    "duplicate_directors.count()"
   ]
  },
  {
   "cell_type": "code",
   "execution_count": 335,
   "id": "1fee42c6",
   "metadata": {},
   "outputs": [
    {
     "data": {
      "text/plain": [
       "163535"
      ]
     },
     "execution_count": 335,
     "metadata": {},
     "output_type": "execute_result"
    }
   ],
   "source": [
    "# drop duplicates from the DataFrame\n",
    "directors_df = directors_df.drop_duplicates(subset=['movie_id', 'person_id'], keep='first')\n",
    "\n",
    "# check for duplicates in the DataFrame\n",
    "duplicate_directors = directors_df.duplicated(subset=['movie_id', 'person_id'])\n",
    "\n",
    "# count the number of duplicates\n",
    "duplicate_directors.count()"
   ]
  },
  {
   "cell_type": "code",
   "execution_count": 337,
   "id": "bcd47b58",
   "metadata": {},
   "outputs": [
    {
     "name": "stdout",
     "output_type": "stream",
     "text": [
      "directors_df has been successfully saved to the 'cleaned_data' folder.\n"
     ]
    }
   ],
   "source": [
    "# Create 'cleaned_data' folder if it doesn't exist\n",
    "output_folder = './cleaned_data'\n",
    "os.makedirs(output_folder, exist_ok=True)\n",
    "\n",
    "# Save writers_df to a CSV file\n",
    "directors_df.to_csv(f'{output_folder}/cleaned_directors_df.csv', index=False)\n",
    "\n",
    "print(\"directors_df has been successfully saved to the 'cleaned_data' folder.\")"
   ]
  },
  {
   "cell_type": "code",
   "execution_count": 338,
   "id": "31f2e397",
   "metadata": {},
   "outputs": [],
   "source": [
    "#  close the database connection\n",
    "conn.close()"
   ]
  },
  {
   "cell_type": "code",
   "execution_count": 339,
   "id": "cc74c5c8",
   "metadata": {},
   "outputs": [
    {
     "name": "stdout",
     "output_type": "stream",
     "text": [
      "<class 'pandas.core.frame.DataFrame'>\n",
      "RangeIndex: 599865 entries, 0 to 599864\n",
      "Data columns (total 3 columns):\n",
      " #   Column              Non-Null Count   Dtype \n",
      "---  ------              --------------   ----- \n",
      " 0   person_id           599865 non-null  object\n",
      " 1   primary_name        599865 non-null  object\n",
      " 2   primary_profession  549317 non-null  object\n",
      "dtypes: object(3)\n",
      "memory usage: 13.7+ MB\n"
     ]
    }
   ],
   "source": [
    "cleaned_persons_df = pd.read_csv('./cleaned_data/cleaned_persons_df.csv')\n",
    "cleaned_persons_df.info()"
   ]
  },
  {
   "cell_type": "code",
   "execution_count": 340,
   "id": "cb6a3434",
   "metadata": {},
   "outputs": [
    {
     "name": "stdout",
     "output_type": "stream",
     "text": [
      "<class 'pandas.core.frame.DataFrame'>\n",
      "RangeIndex: 178352 entries, 0 to 178351\n",
      "Data columns (total 2 columns):\n",
      " #   Column     Non-Null Count   Dtype \n",
      "---  ------     --------------   ----- \n",
      " 0   movie_id   178352 non-null  object\n",
      " 1   person_id  178352 non-null  object\n",
      "dtypes: object(2)\n",
      "memory usage: 2.7+ MB\n",
      "--------------------------------------------------------------------------------\n",
      "<class 'pandas.core.frame.DataFrame'>\n",
      "RangeIndex: 163535 entries, 0 to 163534\n",
      "Data columns (total 2 columns):\n",
      " #   Column     Non-Null Count   Dtype \n",
      "---  ------     --------------   ----- \n",
      " 0   movie_id   163535 non-null  object\n",
      " 1   person_id  163535 non-null  object\n",
      "dtypes: object(2)\n",
      "memory usage: 2.5+ MB\n"
     ]
    },
    {
     "data": {
      "text/plain": [
       "((178352, 2), (163535, 2))"
      ]
     },
     "execution_count": 340,
     "metadata": {},
     "output_type": "execute_result"
    }
   ],
   "source": [
    "# get cleaned writers_df and cleaned directors_df\n",
    "cleaned_writers_df = pd.read_csv('./cleaned_data/cleaned_writers_df.csv')\n",
    "cleaned_writers_df.info()\n",
    "\n",
    "print('----'*20)\n",
    "\n",
    "cleaned_directors_df = pd.read_csv('./cleaned_data/cleaned_directors_df.csv')\n",
    "cleaned_directors_df.info()\n",
    "# check the shape of cleaned_writers_df and cleaned_directors_df\n",
    "cleaned_writers_df.shape, cleaned_directors_df.shape"
   ]
  },
  {
   "cell_type": "markdown",
   "id": "da54bcfb",
   "metadata": {},
   "source": [
    "GET WRITERS DETAILS USING PERSON_ID USE persons_df. GET MOVIES WRITTEN BY THE WRITER USING MOVIE_ID USE movies_df\n"
   ]
  },
  {
   "cell_type": "code",
   "execution_count": null,
   "id": "9c15c183",
   "metadata": {},
   "outputs": [],
   "source": []
  },
  {
   "cell_type": "markdown",
   "id": "3dcdebf9",
   "metadata": {},
   "source": [
    "To count the number of `person_id` values in `cleaned_writers_df` that are found in `persons_df`\n",
    "\n"
   ]
  },
  {
   "cell_type": "code",
   "execution_count": null,
   "id": "eb48cfba",
   "metadata": {},
   "outputs": [
    {
     "name": "stdout",
     "output_type": "stream",
     "text": [
      "Number of duplicate rows in writer_details: 0\n",
      "No duplicate rows found.\n"
     ]
    }
   ],
   "source": [
    "# # Check for duplicates in writer_details using 'movie_id' and 'person_id'\n",
    "# duplicate_writers = writer_details.duplicated(subset=['movie_id', 'person_id'])\n",
    "\n",
    "# # Count the number of duplicates\n",
    "# num_duplicates = duplicate_writers.sum()\n",
    "# print(f\"Number of duplicate rows in writer_details: {num_duplicates}\")\n",
    "\n",
    "# # Display the duplicate rows if any\n",
    "# if num_duplicates > 0:\n",
    "#     duplicate_rows = writer_details[duplicate_writers]\n",
    "#     print(\"Duplicate rows:\")\n",
    "#     print(duplicate_rows)\n",
    "# else:\n",
    "#     print(\"No duplicate rows found.\")"
   ]
  },
  {
   "cell_type": "code",
   "execution_count": null,
   "id": "e9d91889",
   "metadata": {},
   "outputs": [
    {
     "name": "stdout",
     "output_type": "stream",
     "text": [
      "<class 'pandas.core.frame.DataFrame'>\n",
      "RangeIndex: 34871 entries, 0 to 34870\n",
      "Data columns (total 4 columns):\n",
      " #   Column              Non-Null Count  Dtype \n",
      "---  ------              --------------  ----- \n",
      " 0   movie_id            34871 non-null  object\n",
      " 1   person_id           34871 non-null  object\n",
      " 2   primary_name        34871 non-null  object\n",
      " 3   primary_profession  34871 non-null  object\n",
      "dtypes: object(4)\n",
      "memory usage: 1.1+ MB\n"
     ]
    }
   ],
   "source": [
    "# # drop irrelevant columns from writer_details DataFrame\n",
    "# writer_details = writer_details.drop(columns=['birth_year'])\n",
    "# # Reset the index of the DataFrame\n",
    "# writer_details.reset_index(drop=True, inplace=True)\n",
    "# # Display the updated DataFrame\n",
    "# writer_details.info()"
   ]
  },
  {
   "cell_type": "markdown",
   "id": "e1773e43",
   "metadata": {},
   "source": []
  },
  {
   "cell_type": "markdown",
   "id": "4ba55ce0",
   "metadata": {},
   "source": [
    "We can say that 1 person writes many movies"
   ]
  },
  {
   "cell_type": "markdown",
   "id": "31abca97",
   "metadata": {},
   "source": []
  },
  {
   "cell_type": "markdown",
   "id": "c8e53b2f",
   "metadata": {},
   "source": []
  },
  {
   "cell_type": "code",
   "execution_count": null,
   "id": "5549901a",
   "metadata": {},
   "outputs": [],
   "source": [
    "# # drop irrelevant columns from director_details DataFrame\n",
    "# director_details = writer_details.drop(columns=['birth_year'])\n",
    "# # Reset the index of the DataFrame\n",
    "# writer_details.reset_index(drop=True, inplace=True)\n",
    "# # Display the updated DataFrame\n",
    "# writer_details.info()"
   ]
  },
  {
   "cell_type": "code",
   "execution_count": 341,
   "id": "2c39ed0e",
   "metadata": {},
   "outputs": [
    {
     "name": "stdout",
     "output_type": "stream",
     "text": [
      "<class 'pandas.core.frame.DataFrame'>\n",
      "RangeIndex: 1381 entries, 0 to 1380\n",
      "Data columns (total 11 columns):\n",
      " #   Column             Non-Null Count  Dtype  \n",
      "---  ------             --------------  -----  \n",
      " 0   movie_id           1381 non-null   object \n",
      " 1   movie_name         1381 non-null   object \n",
      " 2   release_year       1381 non-null   int64  \n",
      " 3   runtime_minutes    1381 non-null   int64  \n",
      " 4   genres             1381 non-null   object \n",
      " 5   averagerating      1381 non-null   float64\n",
      " 6   numvotes           1381 non-null   int64  \n",
      " 7   release_date       1381 non-null   object \n",
      " 8   production_budget  1381 non-null   int64  \n",
      " 9   domestic_gross     1381 non-null   int64  \n",
      " 10  worldwide_gross    1381 non-null   int64  \n",
      "dtypes: float64(1), int64(6), object(4)\n",
      "memory usage: 118.8+ KB\n"
     ]
    }
   ],
   "source": [
    "# combine movie_budgets, directors_details and writers_details\n",
    "movie_budgets_df = pd.read_csv('./cleaned_data/movie_budgets.csv')\n",
    "movie_budgets_df.info()"
   ]
  },
  {
   "cell_type": "markdown",
   "id": "3405f048",
   "metadata": {},
   "source": [
    "To get director and writer names from cleaned_persons_df, you can merge it with cleaned_directors_df and cleaned_writers_df on the person_id column."
   ]
  },
  {
   "cell_type": "code",
   "execution_count": 342,
   "id": "cfd35816",
   "metadata": {},
   "outputs": [
    {
     "data": {
      "text/html": [
       "<div>\n",
       "<style scoped>\n",
       "    .dataframe tbody tr th:only-of-type {\n",
       "        vertical-align: middle;\n",
       "    }\n",
       "\n",
       "    .dataframe tbody tr th {\n",
       "        vertical-align: top;\n",
       "    }\n",
       "\n",
       "    .dataframe thead th {\n",
       "        text-align: right;\n",
       "    }\n",
       "</style>\n",
       "<table border=\"1\" class=\"dataframe\">\n",
       "  <thead>\n",
       "    <tr style=\"text-align: right;\">\n",
       "      <th></th>\n",
       "      <th>movie_id</th>\n",
       "      <th>person_id</th>\n",
       "      <th>primary_name</th>\n",
       "      <th>primary_profession</th>\n",
       "    </tr>\n",
       "  </thead>\n",
       "  <tbody>\n",
       "    <tr>\n",
       "      <th>0</th>\n",
       "      <td>tt0285252</td>\n",
       "      <td>nm0899854</td>\n",
       "      <td>Tony Vitale</td>\n",
       "      <td>producer,director,writer</td>\n",
       "    </tr>\n",
       "    <tr>\n",
       "      <th>1</th>\n",
       "      <td>tt0438973</td>\n",
       "      <td>nm0175726</td>\n",
       "      <td>Steve Conrad</td>\n",
       "      <td>writer,producer,director</td>\n",
       "    </tr>\n",
       "    <tr>\n",
       "      <th>2</th>\n",
       "      <td>tt2358925</td>\n",
       "      <td>nm0175726</td>\n",
       "      <td>Steve Conrad</td>\n",
       "      <td>writer,producer,director</td>\n",
       "    </tr>\n",
       "    <tr>\n",
       "      <th>3</th>\n",
       "      <td>tt2543472</td>\n",
       "      <td>nm0175726</td>\n",
       "      <td>Steve Conrad</td>\n",
       "      <td>writer,producer,director</td>\n",
       "    </tr>\n",
       "    <tr>\n",
       "      <th>4</th>\n",
       "      <td>tt0359950</td>\n",
       "      <td>nm0175726</td>\n",
       "      <td>Steve Conrad</td>\n",
       "      <td>writer,producer,director</td>\n",
       "    </tr>\n",
       "  </tbody>\n",
       "</table>\n",
       "</div>"
      ],
      "text/plain": [
       "    movie_id  person_id  primary_name        primary_profession\n",
       "0  tt0285252  nm0899854   Tony Vitale  producer,director,writer\n",
       "1  tt0438973  nm0175726  Steve Conrad  writer,producer,director\n",
       "2  tt2358925  nm0175726  Steve Conrad  writer,producer,director\n",
       "3  tt2543472  nm0175726  Steve Conrad  writer,producer,director\n",
       "4  tt0359950  nm0175726  Steve Conrad  writer,producer,director"
      ]
     },
     "execution_count": 342,
     "metadata": {},
     "output_type": "execute_result"
    }
   ],
   "source": [
    "# Merge cleaned_directors_df with cleaned_persons_df to get director names\n",
    "directors_details = pd.merge(cleaned_directors_df, cleaned_persons_df, on='person_id', how='inner')\n",
    "\n",
    "# Merge cleaned_writers_df with cleaned_persons_df to get writer names\n",
    "writers_details = pd.merge(cleaned_writers_df, cleaned_persons_df, on='person_id', how='inner')\n",
    "\n",
    "# Save the resulting DataFrames to CSV files\n",
    "# output_folder = './cleaned_data'\n",
    "# os.makedirs(output_folder, exist_ok=True)\n",
    "# directors_details.to_csv(f'{output_folder}/directors_details.csv', index=False)\n",
    "# writers_details.to_csv(f'{output_folder}/writers_details.csv', index=False)\n",
    "\n",
    "# Display the shapes and first few rows of the resulting DataFrames\n",
    "\n",
    "# directors_details.head(), \n",
    "writers_details.head()"
   ]
  },
  {
   "cell_type": "markdown",
   "id": "5600a99c",
   "metadata": {},
   "source": [
    "To merge `movie_budgets_df`, `directors_details`, and `writers_details` on the `movie_id` column\n",
    "\n"
   ]
  },
  {
   "cell_type": "code",
   "execution_count": 343,
   "id": "6362f9ed",
   "metadata": {},
   "outputs": [
    {
     "name": "stdout",
     "output_type": "stream",
     "text": [
      "Shape of the merged DataFrame: (3998, 17)\n"
     ]
    },
    {
     "data": {
      "text/html": [
       "<div>\n",
       "<style scoped>\n",
       "    .dataframe tbody tr th:only-of-type {\n",
       "        vertical-align: middle;\n",
       "    }\n",
       "\n",
       "    .dataframe tbody tr th {\n",
       "        vertical-align: top;\n",
       "    }\n",
       "\n",
       "    .dataframe thead th {\n",
       "        text-align: right;\n",
       "    }\n",
       "</style>\n",
       "<table border=\"1\" class=\"dataframe\">\n",
       "  <thead>\n",
       "    <tr style=\"text-align: right;\">\n",
       "      <th></th>\n",
       "      <th>movie_id</th>\n",
       "      <th>movie_name</th>\n",
       "      <th>release_year</th>\n",
       "      <th>runtime_minutes</th>\n",
       "      <th>genres</th>\n",
       "      <th>averagerating</th>\n",
       "      <th>numvotes</th>\n",
       "      <th>release_date</th>\n",
       "      <th>production_budget</th>\n",
       "      <th>domestic_gross</th>\n",
       "      <th>worldwide_gross</th>\n",
       "      <th>director_person_id</th>\n",
       "      <th>primary_name_x</th>\n",
       "      <th>primary_profession_x</th>\n",
       "      <th>writer_person_id</th>\n",
       "      <th>primary_name_y</th>\n",
       "      <th>primary_profession_y</th>\n",
       "    </tr>\n",
       "  </thead>\n",
       "  <tbody>\n",
       "    <tr>\n",
       "      <th>0</th>\n",
       "      <td>tt0249516</td>\n",
       "      <td>foodfight!</td>\n",
       "      <td>2012</td>\n",
       "      <td>91</td>\n",
       "      <td>action,animation,comedy</td>\n",
       "      <td>1.9</td>\n",
       "      <td>8248</td>\n",
       "      <td>2012-12-31</td>\n",
       "      <td>45000000</td>\n",
       "      <td>0</td>\n",
       "      <td>73706</td>\n",
       "      <td>nm0440415</td>\n",
       "      <td>Lawrence Kasanoff</td>\n",
       "      <td>producer,writer,director</td>\n",
       "      <td>nm0220297</td>\n",
       "      <td>Sean Catherine Derek</td>\n",
       "      <td>writer,miscellaneous,producer</td>\n",
       "    </tr>\n",
       "    <tr>\n",
       "      <th>1</th>\n",
       "      <td>tt0249516</td>\n",
       "      <td>foodfight!</td>\n",
       "      <td>2012</td>\n",
       "      <td>91</td>\n",
       "      <td>action,animation,comedy</td>\n",
       "      <td>1.9</td>\n",
       "      <td>8248</td>\n",
       "      <td>2012-12-31</td>\n",
       "      <td>45000000</td>\n",
       "      <td>0</td>\n",
       "      <td>73706</td>\n",
       "      <td>nm0440415</td>\n",
       "      <td>Lawrence Kasanoff</td>\n",
       "      <td>producer,writer,director</td>\n",
       "      <td>nm0440415</td>\n",
       "      <td>Lawrence Kasanoff</td>\n",
       "      <td>producer,writer,director</td>\n",
       "    </tr>\n",
       "    <tr>\n",
       "      <th>2</th>\n",
       "      <td>tt0249516</td>\n",
       "      <td>foodfight!</td>\n",
       "      <td>2012</td>\n",
       "      <td>91</td>\n",
       "      <td>action,animation,comedy</td>\n",
       "      <td>1.9</td>\n",
       "      <td>8248</td>\n",
       "      <td>2012-12-31</td>\n",
       "      <td>45000000</td>\n",
       "      <td>0</td>\n",
       "      <td>73706</td>\n",
       "      <td>nm0440415</td>\n",
       "      <td>Lawrence Kasanoff</td>\n",
       "      <td>producer,writer,director</td>\n",
       "      <td>nm0923312</td>\n",
       "      <td>Joshua Wexler</td>\n",
       "      <td>producer,writer,director</td>\n",
       "    </tr>\n",
       "    <tr>\n",
       "      <th>3</th>\n",
       "      <td>tt0249516</td>\n",
       "      <td>foodfight!</td>\n",
       "      <td>2012</td>\n",
       "      <td>91</td>\n",
       "      <td>action,animation,comedy</td>\n",
       "      <td>1.9</td>\n",
       "      <td>8248</td>\n",
       "      <td>2012-12-31</td>\n",
       "      <td>45000000</td>\n",
       "      <td>0</td>\n",
       "      <td>73706</td>\n",
       "      <td>nm0440415</td>\n",
       "      <td>Lawrence Kasanoff</td>\n",
       "      <td>producer,writer,director</td>\n",
       "      <td>nm0295165</td>\n",
       "      <td>Brent V. Friedman</td>\n",
       "      <td>producer,writer,director</td>\n",
       "    </tr>\n",
       "    <tr>\n",
       "      <th>4</th>\n",
       "      <td>tt0249516</td>\n",
       "      <td>foodfight!</td>\n",
       "      <td>2012</td>\n",
       "      <td>91</td>\n",
       "      <td>action,animation,comedy</td>\n",
       "      <td>1.9</td>\n",
       "      <td>8248</td>\n",
       "      <td>2012-12-31</td>\n",
       "      <td>45000000</td>\n",
       "      <td>0</td>\n",
       "      <td>73706</td>\n",
       "      <td>nm0440415</td>\n",
       "      <td>Lawrence Kasanoff</td>\n",
       "      <td>producer,writer,director</td>\n",
       "      <td>nm0841854</td>\n",
       "      <td>Rebecca Swanson</td>\n",
       "      <td>writer,miscellaneous</td>\n",
       "    </tr>\n",
       "  </tbody>\n",
       "</table>\n",
       "</div>"
      ],
      "text/plain": [
       "    movie_id  movie_name  release_year  runtime_minutes  \\\n",
       "0  tt0249516  foodfight!          2012               91   \n",
       "1  tt0249516  foodfight!          2012               91   \n",
       "2  tt0249516  foodfight!          2012               91   \n",
       "3  tt0249516  foodfight!          2012               91   \n",
       "4  tt0249516  foodfight!          2012               91   \n",
       "\n",
       "                    genres  averagerating  numvotes release_date  \\\n",
       "0  action,animation,comedy            1.9      8248   2012-12-31   \n",
       "1  action,animation,comedy            1.9      8248   2012-12-31   \n",
       "2  action,animation,comedy            1.9      8248   2012-12-31   \n",
       "3  action,animation,comedy            1.9      8248   2012-12-31   \n",
       "4  action,animation,comedy            1.9      8248   2012-12-31   \n",
       "\n",
       "   production_budget  domestic_gross  worldwide_gross director_person_id  \\\n",
       "0           45000000               0            73706          nm0440415   \n",
       "1           45000000               0            73706          nm0440415   \n",
       "2           45000000               0            73706          nm0440415   \n",
       "3           45000000               0            73706          nm0440415   \n",
       "4           45000000               0            73706          nm0440415   \n",
       "\n",
       "      primary_name_x      primary_profession_x writer_person_id  \\\n",
       "0  Lawrence Kasanoff  producer,writer,director        nm0220297   \n",
       "1  Lawrence Kasanoff  producer,writer,director        nm0440415   \n",
       "2  Lawrence Kasanoff  producer,writer,director        nm0923312   \n",
       "3  Lawrence Kasanoff  producer,writer,director        nm0295165   \n",
       "4  Lawrence Kasanoff  producer,writer,director        nm0841854   \n",
       "\n",
       "         primary_name_y           primary_profession_y  \n",
       "0  Sean Catherine Derek  writer,miscellaneous,producer  \n",
       "1     Lawrence Kasanoff       producer,writer,director  \n",
       "2         Joshua Wexler       producer,writer,director  \n",
       "3     Brent V. Friedman       producer,writer,director  \n",
       "4       Rebecca Swanson           writer,miscellaneous  "
      ]
     },
     "execution_count": 343,
     "metadata": {},
     "output_type": "execute_result"
    }
   ],
   "source": [
    "# Merge movie_budgets_df, directors_details, and writers_details on 'movie_id'\n",
    "merged_df = pd.merge(movie_budgets_df, directors_details, on='movie_id', how='inner')\n",
    "merged_df = pd.merge(merged_df, writers_details, on='movie_id', how='inner')\n",
    "\n",
    "# Rename columns for clarity\n",
    "merged_df.rename(columns={\n",
    "    'person_id_x': 'director_person_id',  # Rename director's person_id column\n",
    "    'person_id_y': 'writer_person_id',    # Rename writer's person_id column    \n",
    "}, inplace=True)\n",
    "\n",
    "# Display the resulting DataFrame\n",
    "print(f\"Shape of the merged DataFrame: {merged_df.shape}\")\n",
    "merged_df.head()"
   ]
  },
  {
   "cell_type": "markdown",
   "id": "cc814347",
   "metadata": {},
   "source": [
    "\n",
    "\n",
    "### Explanation:\n",
    "1. **First Merge**:\n",
    "   - `pd.merge(movie_budgets_df, directors_details, on='movie_id', how='inner')`: Merges `movie_budgets_df` and `directors_details` on the `movie_id` column using an inner join.\n",
    "2. **Second Merge**:\n",
    "   - `pd.merge(merged_df, writers_details, on='movie_id', how='inner')`: Merges the result of the first merge with `writers_details` on the `movie_id` column using an inner join.\n",
    "3. **Result**:\n",
    "   - The resulting `merged_df` contains data from all three DataFrames where `movie_id` matches in all."
   ]
  },
  {
   "cell_type": "code",
   "execution_count": 344,
   "id": "dd9bd008",
   "metadata": {},
   "outputs": [
    {
     "data": {
      "text/plain": [
       "Index(['movie_id', 'movie_name', 'release_year', 'runtime_minutes', 'genres',\n",
       "       'averagerating', 'numvotes', 'release_date', 'production_budget',\n",
       "       'domestic_gross', 'worldwide_gross', 'director_person_id',\n",
       "       'primary_name_x', 'primary_profession_x', 'writer_person_id',\n",
       "       'primary_name_y', 'primary_profession_y'],\n",
       "      dtype='object')"
      ]
     },
     "execution_count": 344,
     "metadata": {},
     "output_type": "execute_result"
    }
   ],
   "source": [
    "merged_df.columns"
   ]
  },
  {
   "cell_type": "code",
   "execution_count": 345,
   "id": "7e4c8656",
   "metadata": {},
   "outputs": [],
   "source": [
    "# Rename columns for clarity\n",
    "merged_df.rename(columns={    \n",
    "    'primary_name_x': 'director_name',  # Rename director's name column\n",
    "    'primary_name_y': 'writer_name',    # Rename writer's name column\n",
    "    'primary_profession_x': 'director_profession',  # Rename director's profession column\n",
    "    'primary_profession_y': 'writer_profession',    # Rename writer's profession column\n",
    "}, inplace=True)"
   ]
  },
  {
   "cell_type": "markdown",
   "id": "d85dc7b5",
   "metadata": {},
   "source": [
    "To drop duplicate values in `director_ids`, `director_names`, `writer_ids`, and `writer_names`\n",
    "\n"
   ]
  },
  {
   "cell_type": "code",
   "execution_count": 346,
   "id": "94142504",
   "metadata": {},
   "outputs": [
    {
     "name": "stdout",
     "output_type": "stream",
     "text": [
      "Shape of the compressed DataFrame: (1362, 5)\n"
     ]
    },
    {
     "data": {
      "text/html": [
       "<div>\n",
       "<style scoped>\n",
       "    .dataframe tbody tr th:only-of-type {\n",
       "        vertical-align: middle;\n",
       "    }\n",
       "\n",
       "    .dataframe tbody tr th {\n",
       "        vertical-align: top;\n",
       "    }\n",
       "\n",
       "    .dataframe thead th {\n",
       "        text-align: right;\n",
       "    }\n",
       "</style>\n",
       "<table border=\"1\" class=\"dataframe\">\n",
       "  <thead>\n",
       "    <tr style=\"text-align: right;\">\n",
       "      <th></th>\n",
       "      <th>movie_id</th>\n",
       "      <th>director_ids</th>\n",
       "      <th>director_names</th>\n",
       "      <th>writer_ids</th>\n",
       "      <th>writer_names</th>\n",
       "    </tr>\n",
       "  </thead>\n",
       "  <tbody>\n",
       "    <tr>\n",
       "      <th>1357</th>\n",
       "      <td>tt8043306</td>\n",
       "      <td>nm6773153</td>\n",
       "      <td>Ahsan Rahim</td>\n",
       "      <td>nm3773554, nm6511211, nm6773153</td>\n",
       "      <td>Ahsan Rahim, Ali Zafar, Danyal Zafar</td>\n",
       "    </tr>\n",
       "    <tr>\n",
       "      <th>1358</th>\n",
       "      <td>tt8155288</td>\n",
       "      <td>nm0484907</td>\n",
       "      <td>Christopher Landon</td>\n",
       "      <td>nm0484907, nm1245146</td>\n",
       "      <td>Christopher Landon, Scott Lobdell</td>\n",
       "    </tr>\n",
       "    <tr>\n",
       "      <th>1359</th>\n",
       "      <td>tt8580348</td>\n",
       "      <td>nm1919456</td>\n",
       "      <td>Manolo Caro</td>\n",
       "      <td>nm0002645, nm0182499, nm0712330, nm2601560, nm...</td>\n",
       "      <td>Filippo Bologna, Paola Mammini, Paolo Costella...</td>\n",
       "    </tr>\n",
       "    <tr>\n",
       "      <th>1360</th>\n",
       "      <td>tt8632862</td>\n",
       "      <td>nm0601619</td>\n",
       "      <td>Michael Moore</td>\n",
       "      <td>nm0601619</td>\n",
       "      <td>Michael Moore</td>\n",
       "    </tr>\n",
       "    <tr>\n",
       "      <th>1361</th>\n",
       "      <td>tt9024106</td>\n",
       "      <td>nm0465484, nm0813301</td>\n",
       "      <td>Cary Solomon, Chuck Konzelman</td>\n",
       "      <td>nm0465484, nm0813301</td>\n",
       "      <td>Cary Solomon, Chuck Konzelman</td>\n",
       "    </tr>\n",
       "  </tbody>\n",
       "</table>\n",
       "</div>"
      ],
      "text/plain": [
       "       movie_id          director_ids                 director_names  \\\n",
       "1357  tt8043306             nm6773153                    Ahsan Rahim   \n",
       "1358  tt8155288             nm0484907             Christopher Landon   \n",
       "1359  tt8580348             nm1919456                    Manolo Caro   \n",
       "1360  tt8632862             nm0601619                  Michael Moore   \n",
       "1361  tt9024106  nm0465484, nm0813301  Cary Solomon, Chuck Konzelman   \n",
       "\n",
       "                                             writer_ids  \\\n",
       "1357                    nm3773554, nm6511211, nm6773153   \n",
       "1358                               nm0484907, nm1245146   \n",
       "1359  nm0002645, nm0182499, nm0712330, nm2601560, nm...   \n",
       "1360                                          nm0601619   \n",
       "1361                               nm0465484, nm0813301   \n",
       "\n",
       "                                           writer_names  \n",
       "1357               Ahsan Rahim, Ali Zafar, Danyal Zafar  \n",
       "1358                  Christopher Landon, Scott Lobdell  \n",
       "1359  Filippo Bologna, Paola Mammini, Paolo Costella...  \n",
       "1360                                      Michael Moore  \n",
       "1361                      Cary Solomon, Chuck Konzelman  "
      ]
     },
     "execution_count": 346,
     "metadata": {},
     "output_type": "execute_result"
    }
   ],
   "source": [
    "# Group directors' IDs and names by movie_id, ensuring unique values\n",
    "directors_grouped = merged_df.groupby('movie_id').agg({\n",
    "    'director_person_id': lambda x: ', '.join(map(str, sorted(set(x)))),\n",
    "    'director_name': lambda x: ', '.join(sorted(set(x)))\n",
    "}).reset_index()\n",
    "\n",
    "# Rename columns for directors\n",
    "directors_grouped.rename(columns={\n",
    "    'director_person_id': 'director_ids',\n",
    "    'director_name': 'director_names'\n",
    "}, inplace=True)\n",
    "\n",
    "# Group writers' IDs and names by movie_id, ensuring unique values\n",
    "writers_grouped = merged_df.groupby('movie_id').agg({\n",
    "    'writer_person_id': lambda x: ', '.join(map(str, sorted(set(x)))),\n",
    "    'writer_name': lambda x: ', '.join(sorted(set(x)))\n",
    "}).reset_index()\n",
    "\n",
    "# Rename columns for writers\n",
    "writers_grouped.rename(columns={\n",
    "    'writer_person_id': 'writer_ids',\n",
    "    'writer_name': 'writer_names'\n",
    "}, inplace=True)\n",
    "\n",
    "# Merge the grouped data back into a single DataFrame\n",
    "director_writers_df = pd.merge(directors_grouped, writers_grouped, on='movie_id', how='inner')\n",
    "\n",
    "# Display the resulting DataFrame\n",
    "print(f\"Shape of the compressed DataFrame: {director_writers_df.shape}\")\n",
    "director_writers_df.tail()"
   ]
  },
  {
   "cell_type": "code",
   "execution_count": 347,
   "id": "a4fe2b9d",
   "metadata": {},
   "outputs": [
    {
     "data": {
      "text/plain": [
       "movie_id          0\n",
       "director_ids      0\n",
       "director_names    0\n",
       "writer_ids        0\n",
       "writer_names      0\n",
       "dtype: int64"
      ]
     },
     "execution_count": 347,
     "metadata": {},
     "output_type": "execute_result"
    }
   ],
   "source": [
    "# check for null values in the DataFrame\n",
    "director_writers_df.isna().sum()"
   ]
  },
  {
   "cell_type": "code",
   "execution_count": 348,
   "id": "dea4d68a",
   "metadata": {},
   "outputs": [
    {
     "data": {
      "text/html": [
       "<div>\n",
       "<style scoped>\n",
       "    .dataframe tbody tr th:only-of-type {\n",
       "        vertical-align: middle;\n",
       "    }\n",
       "\n",
       "    .dataframe tbody tr th {\n",
       "        vertical-align: top;\n",
       "    }\n",
       "\n",
       "    .dataframe thead th {\n",
       "        text-align: right;\n",
       "    }\n",
       "</style>\n",
       "<table border=\"1\" class=\"dataframe\">\n",
       "  <thead>\n",
       "    <tr style=\"text-align: right;\">\n",
       "      <th></th>\n",
       "      <th>movie_id</th>\n",
       "      <th>director_ids</th>\n",
       "      <th>director_names</th>\n",
       "      <th>writer_ids</th>\n",
       "      <th>writer_names</th>\n",
       "    </tr>\n",
       "  </thead>\n",
       "  <tbody>\n",
       "    <tr>\n",
       "      <th>5</th>\n",
       "      <td>tt0383010</td>\n",
       "      <td>nm0268370, nm0268380</td>\n",
       "      <td>Bobby Farrelly, Peter Farrelly</td>\n",
       "      <td>nm0148808, nm0268370, nm0268380</td>\n",
       "      <td>Bobby Farrelly, Mike Cerrone, Peter Farrelly</td>\n",
       "    </tr>\n",
       "    <tr>\n",
       "      <th>6</th>\n",
       "      <td>tt0398286</td>\n",
       "      <td>nm0397174, nm1977355</td>\n",
       "      <td>Byron Howard, Nathan Greno</td>\n",
       "      <td>nm1557594</td>\n",
       "      <td>Dan Fogelman</td>\n",
       "    </tr>\n",
       "    <tr>\n",
       "      <th>27</th>\n",
       "      <td>tt0458481</td>\n",
       "      <td>nm0001675, nm0588340</td>\n",
       "      <td>Frank Miller, Robert Rodriguez</td>\n",
       "      <td>nm0588340</td>\n",
       "      <td>Frank Miller</td>\n",
       "    </tr>\n",
       "    <tr>\n",
       "      <th>34</th>\n",
       "      <td>tt0475290</td>\n",
       "      <td>nm0001053, nm0001054</td>\n",
       "      <td>Ethan Coen, Joel Coen</td>\n",
       "      <td>nm0001053, nm0001054</td>\n",
       "      <td>Ethan Coen, Joel Coen</td>\n",
       "    </tr>\n",
       "    <tr>\n",
       "      <th>38</th>\n",
       "      <td>tt0480687</td>\n",
       "      <td>nm0268370, nm0268380</td>\n",
       "      <td>Bobby Farrelly, Peter Farrelly</td>\n",
       "      <td>nm0055937, nm0268370, nm0268380, nm0971919</td>\n",
       "      <td>Bobby Farrelly, Kevin Barnett, Pete Jones, Pet...</td>\n",
       "    </tr>\n",
       "  </tbody>\n",
       "</table>\n",
       "</div>"
      ],
      "text/plain": [
       "     movie_id          director_ids                  director_names  \\\n",
       "5   tt0383010  nm0268370, nm0268380  Bobby Farrelly, Peter Farrelly   \n",
       "6   tt0398286  nm0397174, nm1977355      Byron Howard, Nathan Greno   \n",
       "27  tt0458481  nm0001675, nm0588340  Frank Miller, Robert Rodriguez   \n",
       "34  tt0475290  nm0001053, nm0001054           Ethan Coen, Joel Coen   \n",
       "38  tt0480687  nm0268370, nm0268380  Bobby Farrelly, Peter Farrelly   \n",
       "\n",
       "                                    writer_ids  \\\n",
       "5              nm0148808, nm0268370, nm0268380   \n",
       "6                                    nm1557594   \n",
       "27                                   nm0588340   \n",
       "34                        nm0001053, nm0001054   \n",
       "38  nm0055937, nm0268370, nm0268380, nm0971919   \n",
       "\n",
       "                                         writer_names  \n",
       "5        Bobby Farrelly, Mike Cerrone, Peter Farrelly  \n",
       "6                                        Dan Fogelman  \n",
       "27                                       Frank Miller  \n",
       "34                              Ethan Coen, Joel Coen  \n",
       "38  Bobby Farrelly, Kevin Barnett, Pete Jones, Pet...  "
      ]
     },
     "execution_count": 348,
     "metadata": {},
     "output_type": "execute_result"
    }
   ],
   "source": [
    "# check if director_ids has separeted values\n",
    "# director_writers_df['director_ids'].str.split(',').apply(lambda x: len(x) > 1).any()\n",
    "# #  diplay director_ids has separeted values\n",
    "x = director_writers_df[director_writers_df['director_ids'].str.split(',').apply(lambda x: len(x) > 1)].head(10)\n",
    "# print(director_writers_df['director_ids'].str.split(',').apply(lambda x: len(x) > 1).sum())\n",
    "x.head()"
   ]
  },
  {
   "cell_type": "code",
   "execution_count": 349,
   "id": "adb53bdc",
   "metadata": {},
   "outputs": [
    {
     "data": {
      "text/plain": [
       "True"
      ]
     },
     "execution_count": 349,
     "metadata": {},
     "output_type": "execute_result"
    }
   ],
   "source": [
    "# check if nm0004056 is in the director_ids\n",
    "director_writers_df['director_ids'].str.contains('nm0004056').any()"
   ]
  },
  {
   "cell_type": "markdown",
   "id": "f30a5cd1",
   "metadata": {},
   "source": [
    "\n",
    "\n",
    "### Explanation:\n",
    "1. **Remove Duplicates**:\n",
    "   - Use `set(x)` to ensure unique values for `director_person_id`, `director_name`, `writer_person_id`, and `writer_name`.\n",
    "   - Use `sorted(set(x))` to sort the unique values for consistent ordering.\n",
    "\n",
    "2. **Aggregation**:\n",
    "   - Use `', '.join(...)` to concatenate the unique values into a single string.\n",
    "\n",
    "3. **Result**:\n",
    "   - The resulting `compressed_df` will have unique and sorted values in `director_ids`, `director_names`, `writer_ids`, and `writer_names`.\n",
    "\n",
    "Let me know if you need further clarification!"
   ]
  },
  {
   "cell_type": "code",
   "execution_count": null,
   "id": "7b94c537",
   "metadata": {},
   "outputs": [],
   "source": []
  },
  {
   "cell_type": "markdown",
   "id": "2cd57667",
   "metadata": {},
   "source": [
    "To merge `director_writers_df` and `movie_budgets_df` on `movie_id`, you can use the following code:\n",
    "\n"
   ]
  },
  {
   "cell_type": "code",
   "execution_count": 350,
   "id": "b9b3a579",
   "metadata": {},
   "outputs": [
    {
     "name": "stdout",
     "output_type": "stream",
     "text": [
      "Shape of the final merged DataFrame: (1362, 15)\n"
     ]
    },
    {
     "data": {
      "text/html": [
       "<div>\n",
       "<style scoped>\n",
       "    .dataframe tbody tr th:only-of-type {\n",
       "        vertical-align: middle;\n",
       "    }\n",
       "\n",
       "    .dataframe tbody tr th {\n",
       "        vertical-align: top;\n",
       "    }\n",
       "\n",
       "    .dataframe thead th {\n",
       "        text-align: right;\n",
       "    }\n",
       "</style>\n",
       "<table border=\"1\" class=\"dataframe\">\n",
       "  <thead>\n",
       "    <tr style=\"text-align: right;\">\n",
       "      <th></th>\n",
       "      <th>movie_id</th>\n",
       "      <th>director_ids</th>\n",
       "      <th>director_names</th>\n",
       "      <th>writer_ids</th>\n",
       "      <th>writer_names</th>\n",
       "      <th>movie_name</th>\n",
       "      <th>release_year</th>\n",
       "      <th>runtime_minutes</th>\n",
       "      <th>genres</th>\n",
       "      <th>averagerating</th>\n",
       "      <th>numvotes</th>\n",
       "      <th>release_date</th>\n",
       "      <th>production_budget</th>\n",
       "      <th>domestic_gross</th>\n",
       "      <th>worldwide_gross</th>\n",
       "    </tr>\n",
       "  </thead>\n",
       "  <tbody>\n",
       "    <tr>\n",
       "      <th>0</th>\n",
       "      <td>tt0249516</td>\n",
       "      <td>nm0440415</td>\n",
       "      <td>Lawrence Kasanoff</td>\n",
       "      <td>nm0220297, nm0295165, nm0440415, nm0841854, nm...</td>\n",
       "      <td>Brent V. Friedman, Joshua Wexler, Lawrence Kas...</td>\n",
       "      <td>foodfight!</td>\n",
       "      <td>2012</td>\n",
       "      <td>91</td>\n",
       "      <td>action,animation,comedy</td>\n",
       "      <td>1.9</td>\n",
       "      <td>8248</td>\n",
       "      <td>2012-12-31</td>\n",
       "      <td>45000000</td>\n",
       "      <td>0</td>\n",
       "      <td>73706</td>\n",
       "    </tr>\n",
       "    <tr>\n",
       "      <th>1</th>\n",
       "      <td>tt0359950</td>\n",
       "      <td>nm0001774</td>\n",
       "      <td>Ben Stiller</td>\n",
       "      <td>nm0175726</td>\n",
       "      <td>Steve Conrad</td>\n",
       "      <td>the secret life of walter mitty</td>\n",
       "      <td>2013</td>\n",
       "      <td>114</td>\n",
       "      <td>adventure,comedy,drama</td>\n",
       "      <td>7.3</td>\n",
       "      <td>275300</td>\n",
       "      <td>2013-12-25</td>\n",
       "      <td>91000000</td>\n",
       "      <td>58236838</td>\n",
       "      <td>187861183</td>\n",
       "    </tr>\n",
       "    <tr>\n",
       "      <th>2</th>\n",
       "      <td>tt0365907</td>\n",
       "      <td>nm0291082</td>\n",
       "      <td>Scott Frank</td>\n",
       "      <td>nm0088747, nm0291082</td>\n",
       "      <td>Lawrence Block, Scott Frank</td>\n",
       "      <td>a walk among the tombstones</td>\n",
       "      <td>2014</td>\n",
       "      <td>114</td>\n",
       "      <td>action,crime,drama</td>\n",
       "      <td>6.5</td>\n",
       "      <td>105116</td>\n",
       "      <td>2014-09-19</td>\n",
       "      <td>28000000</td>\n",
       "      <td>26017685</td>\n",
       "      <td>62108587</td>\n",
       "    </tr>\n",
       "    <tr>\n",
       "      <th>3</th>\n",
       "      <td>tt0369610</td>\n",
       "      <td>nm1119880</td>\n",
       "      <td>Colin Trevorrow</td>\n",
       "      <td>nm0415425, nm0798646, nm1119880, nm2081046</td>\n",
       "      <td>Amanda Silver, Colin Trevorrow, Derek Connolly...</td>\n",
       "      <td>jurassic world</td>\n",
       "      <td>2015</td>\n",
       "      <td>124</td>\n",
       "      <td>action,adventure,sci-fi</td>\n",
       "      <td>7.0</td>\n",
       "      <td>539338</td>\n",
       "      <td>2015-06-12</td>\n",
       "      <td>215000000</td>\n",
       "      <td>652270625</td>\n",
       "      <td>1648854864</td>\n",
       "    </tr>\n",
       "    <tr>\n",
       "      <th>4</th>\n",
       "      <td>tt0376136</td>\n",
       "      <td>nm0732430</td>\n",
       "      <td>Bruce Robinson</td>\n",
       "      <td>nm0732430</td>\n",
       "      <td>Bruce Robinson</td>\n",
       "      <td>the rum diary</td>\n",
       "      <td>2011</td>\n",
       "      <td>119</td>\n",
       "      <td>comedy,drama</td>\n",
       "      <td>6.2</td>\n",
       "      <td>94787</td>\n",
       "      <td>2011-10-28</td>\n",
       "      <td>45000000</td>\n",
       "      <td>13109815</td>\n",
       "      <td>21544732</td>\n",
       "    </tr>\n",
       "  </tbody>\n",
       "</table>\n",
       "</div>"
      ],
      "text/plain": [
       "    movie_id director_ids     director_names  \\\n",
       "0  tt0249516    nm0440415  Lawrence Kasanoff   \n",
       "1  tt0359950    nm0001774        Ben Stiller   \n",
       "2  tt0365907    nm0291082        Scott Frank   \n",
       "3  tt0369610    nm1119880    Colin Trevorrow   \n",
       "4  tt0376136    nm0732430     Bruce Robinson   \n",
       "\n",
       "                                          writer_ids  \\\n",
       "0  nm0220297, nm0295165, nm0440415, nm0841854, nm...   \n",
       "1                                          nm0175726   \n",
       "2                               nm0088747, nm0291082   \n",
       "3         nm0415425, nm0798646, nm1119880, nm2081046   \n",
       "4                                          nm0732430   \n",
       "\n",
       "                                        writer_names  \\\n",
       "0  Brent V. Friedman, Joshua Wexler, Lawrence Kas...   \n",
       "1                                       Steve Conrad   \n",
       "2                        Lawrence Block, Scott Frank   \n",
       "3  Amanda Silver, Colin Trevorrow, Derek Connolly...   \n",
       "4                                     Bruce Robinson   \n",
       "\n",
       "                        movie_name  release_year  runtime_minutes  \\\n",
       "0                       foodfight!          2012               91   \n",
       "1  the secret life of walter mitty          2013              114   \n",
       "2      a walk among the tombstones          2014              114   \n",
       "3                   jurassic world          2015              124   \n",
       "4                    the rum diary          2011              119   \n",
       "\n",
       "                    genres  averagerating  numvotes release_date  \\\n",
       "0  action,animation,comedy            1.9      8248   2012-12-31   \n",
       "1   adventure,comedy,drama            7.3    275300   2013-12-25   \n",
       "2       action,crime,drama            6.5    105116   2014-09-19   \n",
       "3  action,adventure,sci-fi            7.0    539338   2015-06-12   \n",
       "4             comedy,drama            6.2     94787   2011-10-28   \n",
       "\n",
       "   production_budget  domestic_gross  worldwide_gross  \n",
       "0           45000000               0            73706  \n",
       "1           91000000        58236838        187861183  \n",
       "2           28000000        26017685         62108587  \n",
       "3          215000000       652270625       1648854864  \n",
       "4           45000000        13109815         21544732  "
      ]
     },
     "execution_count": 350,
     "metadata": {},
     "output_type": "execute_result"
    }
   ],
   "source": [
    "# Merge director_writers_df and movie_budgets_df on 'movie_id'\n",
    "final_merged_df = pd.merge(director_writers_df, movie_budgets_df, on='movie_id', how='inner')\n",
    "\n",
    "# Display the resulting DataFrame\n",
    "print(f\"Shape of the final merged DataFrame: {final_merged_df.shape}\")\n",
    "final_merged_df.head()"
   ]
  },
  {
   "cell_type": "code",
   "execution_count": null,
   "id": "3695be03",
   "metadata": {},
   "outputs": [],
   "source": []
  },
  {
   "cell_type": "code",
   "execution_count": 353,
   "id": "6c7a48a2",
   "metadata": {},
   "outputs": [
    {
     "data": {
      "text/plain": [
       "False"
      ]
     },
     "execution_count": 353,
     "metadata": {},
     "output_type": "execute_result"
    }
   ],
   "source": [
    "# check if tt0448115 exists in the final_merged_df\n",
    "cleaned_persons_df['person_id'].str.contains('nm0000127').any()"
   ]
  },
  {
   "cell_type": "code",
   "execution_count": 352,
   "id": "325f5bd7",
   "metadata": {},
   "outputs": [
    {
     "name": "stdout",
     "output_type": "stream",
     "text": [
      "Number of rows only in movie_budgets_df: 19\n"
     ]
    },
    {
     "data": {
      "text/html": [
       "<div>\n",
       "<style scoped>\n",
       "    .dataframe tbody tr th:only-of-type {\n",
       "        vertical-align: middle;\n",
       "    }\n",
       "\n",
       "    .dataframe tbody tr th {\n",
       "        vertical-align: top;\n",
       "    }\n",
       "\n",
       "    .dataframe thead th {\n",
       "        text-align: right;\n",
       "    }\n",
       "</style>\n",
       "<table border=\"1\" class=\"dataframe\">\n",
       "  <thead>\n",
       "    <tr style=\"text-align: right;\">\n",
       "      <th></th>\n",
       "      <th>movie_id</th>\n",
       "      <th>director_ids</th>\n",
       "      <th>director_names</th>\n",
       "      <th>writer_ids</th>\n",
       "      <th>writer_names</th>\n",
       "      <th>movie_name</th>\n",
       "      <th>release_year</th>\n",
       "      <th>runtime_minutes</th>\n",
       "      <th>genres</th>\n",
       "      <th>averagerating</th>\n",
       "      <th>numvotes</th>\n",
       "      <th>release_date</th>\n",
       "      <th>production_budget</th>\n",
       "      <th>domestic_gross</th>\n",
       "      <th>worldwide_gross</th>\n",
       "      <th>_merge</th>\n",
       "    </tr>\n",
       "  </thead>\n",
       "  <tbody>\n",
       "    <tr>\n",
       "      <th>1362</th>\n",
       "      <td>tt0817230</td>\n",
       "      <td>NaN</td>\n",
       "      <td>NaN</td>\n",
       "      <td>NaN</td>\n",
       "      <td>NaN</td>\n",
       "      <td>valentine's day</td>\n",
       "      <td>2010</td>\n",
       "      <td>125</td>\n",
       "      <td>comedy,romance</td>\n",
       "      <td>5.7</td>\n",
       "      <td>107171</td>\n",
       "      <td>2010-02-12</td>\n",
       "      <td>52000000</td>\n",
       "      <td>110485654</td>\n",
       "      <td>217569328</td>\n",
       "      <td>right_only</td>\n",
       "    </tr>\n",
       "    <tr>\n",
       "      <th>1363</th>\n",
       "      <td>tt0872230</td>\n",
       "      <td>NaN</td>\n",
       "      <td>NaN</td>\n",
       "      <td>NaN</td>\n",
       "      <td>NaN</td>\n",
       "      <td>my soul to take</td>\n",
       "      <td>2010</td>\n",
       "      <td>107</td>\n",
       "      <td>horror,mystery,thriller</td>\n",
       "      <td>4.8</td>\n",
       "      <td>18381</td>\n",
       "      <td>2010-10-08</td>\n",
       "      <td>25000000</td>\n",
       "      <td>14744435</td>\n",
       "      <td>16727470</td>\n",
       "      <td>right_only</td>\n",
       "    </tr>\n",
       "    <tr>\n",
       "      <th>1364</th>\n",
       "      <td>tt0892318</td>\n",
       "      <td>NaN</td>\n",
       "      <td>NaN</td>\n",
       "      <td>NaN</td>\n",
       "      <td>NaN</td>\n",
       "      <td>letters to juliet</td>\n",
       "      <td>2010</td>\n",
       "      <td>105</td>\n",
       "      <td>adventure,comedy,drama</td>\n",
       "      <td>6.6</td>\n",
       "      <td>86137</td>\n",
       "      <td>2010-05-14</td>\n",
       "      <td>30000000</td>\n",
       "      <td>53032453</td>\n",
       "      <td>82148538</td>\n",
       "      <td>right_only</td>\n",
       "    </tr>\n",
       "    <tr>\n",
       "      <th>1365</th>\n",
       "      <td>tt1194417</td>\n",
       "      <td>NaN</td>\n",
       "      <td>NaN</td>\n",
       "      <td>NaN</td>\n",
       "      <td>NaN</td>\n",
       "      <td>casino jack</td>\n",
       "      <td>2010</td>\n",
       "      <td>108</td>\n",
       "      <td>biography,comedy,crime</td>\n",
       "      <td>6.2</td>\n",
       "      <td>16191</td>\n",
       "      <td>2010-12-17</td>\n",
       "      <td>12500000</td>\n",
       "      <td>2039869</td>\n",
       "      <td>2272186</td>\n",
       "      <td>right_only</td>\n",
       "    </tr>\n",
       "    <tr>\n",
       "      <th>1366</th>\n",
       "      <td>tt1262416</td>\n",
       "      <td>NaN</td>\n",
       "      <td>NaN</td>\n",
       "      <td>NaN</td>\n",
       "      <td>NaN</td>\n",
       "      <td>scream 4</td>\n",
       "      <td>2011</td>\n",
       "      <td>111</td>\n",
       "      <td>horror,mystery</td>\n",
       "      <td>6.2</td>\n",
       "      <td>118779</td>\n",
       "      <td>2011-04-15</td>\n",
       "      <td>40000000</td>\n",
       "      <td>38180928</td>\n",
       "      <td>95989590</td>\n",
       "      <td>right_only</td>\n",
       "    </tr>\n",
       "  </tbody>\n",
       "</table>\n",
       "</div>"
      ],
      "text/plain": [
       "       movie_id director_ids director_names writer_ids writer_names  \\\n",
       "1362  tt0817230          NaN            NaN        NaN          NaN   \n",
       "1363  tt0872230          NaN            NaN        NaN          NaN   \n",
       "1364  tt0892318          NaN            NaN        NaN          NaN   \n",
       "1365  tt1194417          NaN            NaN        NaN          NaN   \n",
       "1366  tt1262416          NaN            NaN        NaN          NaN   \n",
       "\n",
       "             movie_name  release_year  runtime_minutes  \\\n",
       "1362    valentine's day          2010              125   \n",
       "1363    my soul to take          2010              107   \n",
       "1364  letters to juliet          2010              105   \n",
       "1365        casino jack          2010              108   \n",
       "1366           scream 4          2011              111   \n",
       "\n",
       "                       genres  averagerating  numvotes release_date  \\\n",
       "1362           comedy,romance            5.7    107171   2010-02-12   \n",
       "1363  horror,mystery,thriller            4.8     18381   2010-10-08   \n",
       "1364   adventure,comedy,drama            6.6     86137   2010-05-14   \n",
       "1365   biography,comedy,crime            6.2     16191   2010-12-17   \n",
       "1366           horror,mystery            6.2    118779   2011-04-15   \n",
       "\n",
       "      production_budget  domestic_gross  worldwide_gross      _merge  \n",
       "1362           52000000       110485654        217569328  right_only  \n",
       "1363           25000000        14744435         16727470  right_only  \n",
       "1364           30000000        53032453         82148538  right_only  \n",
       "1365           12500000         2039869          2272186  right_only  \n",
       "1366           40000000        38180928         95989590  right_only  "
      ]
     },
     "execution_count": 352,
     "metadata": {},
     "output_type": "execute_result"
    }
   ],
   "source": [
    "# Perform the merge with an indicator column\n",
    "merged_with_indicator = pd.merge(\n",
    "    director_writers_df, \n",
    "    movie_budgets_df, \n",
    "    on='movie_id', \n",
    "    how='outer', \n",
    "    indicator=True\n",
    ")\n",
    "\n",
    "# Filter rows that are only in movie_budgets_df\n",
    "only_in_movie_budgets = merged_with_indicator[merged_with_indicator['_merge'] == 'right_only']\n",
    "\n",
    "# Display the rows that are only in movie_budgets_df\n",
    "print(f\"Number of rows only in movie_budgets_df: {only_in_movie_budgets.shape[0]}\")\n",
    "only_in_movie_budgets.head()"
   ]
  },
  {
   "cell_type": "markdown",
   "id": "45c5eb9c",
   "metadata": {},
   "source": [
    "\n",
    "\n",
    "### Explanation:\n",
    "1. **Merge Operation**:\n",
    "   - `pd.merge(director_writers_df, movie_budgets_df, on='movie_id', how='inner')` merges the two DataFrames on the `movie_id` column using an inner join.\n",
    "   - This ensures that only rows with matching `movie_id` in both DataFrames are included.\n",
    "\n",
    "2. **Result**:\n",
    "   - The resulting `final_merged_df` contains all columns from both `director_writers_df` and `movie_budgets_df`.\n",
    "\n",
    "Let me know if you need further assistance!"
   ]
  },
  {
   "cell_type": "code",
   "execution_count": null,
   "id": "87b29ad9",
   "metadata": {},
   "outputs": [],
   "source": []
  },
  {
   "cell_type": "code",
   "execution_count": null,
   "id": "96221f9f",
   "metadata": {},
   "outputs": [],
   "source": [
    "#final_merged_df get actors from cleaned_persons_df and principals"
   ]
  },
  {
   "cell_type": "markdown",
   "id": "0ff2b5f5",
   "metadata": {},
   "source": [
    "To get actors from `cleaned_persons_df` and `principals` and merge them into `final_merged_df`, you can use the following code:\n",
    "\n"
   ]
  },
  {
   "cell_type": "code",
   "execution_count": 357,
   "id": "67ccd880",
   "metadata": {},
   "outputs": [],
   "source": [
    "# connect to the SQLite database\n",
    "conn = sqlite3.connect('./extractedData/im.db')\n",
    "cursor = conn.cursor()"
   ]
  },
  {
   "cell_type": "code",
   "execution_count": 358,
   "id": "6f0511dc",
   "metadata": {},
   "outputs": [
    {
     "name": "stdout",
     "output_type": "stream",
     "text": [
      "Shape of the final merged DataFrame with actors: (1318, 17)\n"
     ]
    },
    {
     "data": {
      "text/html": [
       "<div>\n",
       "<style scoped>\n",
       "    .dataframe tbody tr th:only-of-type {\n",
       "        vertical-align: middle;\n",
       "    }\n",
       "\n",
       "    .dataframe tbody tr th {\n",
       "        vertical-align: top;\n",
       "    }\n",
       "\n",
       "    .dataframe thead th {\n",
       "        text-align: right;\n",
       "    }\n",
       "</style>\n",
       "<table border=\"1\" class=\"dataframe\">\n",
       "  <thead>\n",
       "    <tr style=\"text-align: right;\">\n",
       "      <th></th>\n",
       "      <th>movie_id</th>\n",
       "      <th>director_ids</th>\n",
       "      <th>director_names</th>\n",
       "      <th>writer_ids</th>\n",
       "      <th>writer_names</th>\n",
       "      <th>movie_name</th>\n",
       "      <th>release_year</th>\n",
       "      <th>runtime_minutes</th>\n",
       "      <th>genres</th>\n",
       "      <th>averagerating</th>\n",
       "      <th>numvotes</th>\n",
       "      <th>release_date</th>\n",
       "      <th>production_budget</th>\n",
       "      <th>domestic_gross</th>\n",
       "      <th>worldwide_gross</th>\n",
       "      <th>actor_ids</th>\n",
       "      <th>actor_names</th>\n",
       "    </tr>\n",
       "  </thead>\n",
       "  <tbody>\n",
       "    <tr>\n",
       "      <th>0</th>\n",
       "      <td>tt0249516</td>\n",
       "      <td>nm0440415</td>\n",
       "      <td>Lawrence Kasanoff</td>\n",
       "      <td>nm0220297, nm0295165, nm0440415, nm0841854, nm...</td>\n",
       "      <td>Brent V. Friedman, Joshua Wexler, Lawrence Kas...</td>\n",
       "      <td>foodfight!</td>\n",
       "      <td>2012</td>\n",
       "      <td>91</td>\n",
       "      <td>action,animation,comedy</td>\n",
       "      <td>1.9</td>\n",
       "      <td>8248</td>\n",
       "      <td>2012-12-31</td>\n",
       "      <td>45000000</td>\n",
       "      <td>0</td>\n",
       "      <td>73706</td>\n",
       "      <td>nm0000221</td>\n",
       "      <td>Charlie Sheen</td>\n",
       "    </tr>\n",
       "    <tr>\n",
       "      <th>1</th>\n",
       "      <td>tt0359950</td>\n",
       "      <td>nm0001774</td>\n",
       "      <td>Ben Stiller</td>\n",
       "      <td>nm0175726</td>\n",
       "      <td>Steve Conrad</td>\n",
       "      <td>the secret life of walter mitty</td>\n",
       "      <td>2013</td>\n",
       "      <td>114</td>\n",
       "      <td>adventure,comedy,drama</td>\n",
       "      <td>7.3</td>\n",
       "      <td>275300</td>\n",
       "      <td>2013-12-25</td>\n",
       "      <td>91000000</td>\n",
       "      <td>58236838</td>\n",
       "      <td>187861183</td>\n",
       "      <td>nm0001774, nm1789985</td>\n",
       "      <td>Ben Stiller, Jon Daly</td>\n",
       "    </tr>\n",
       "    <tr>\n",
       "      <th>2</th>\n",
       "      <td>tt0365907</td>\n",
       "      <td>nm0291082</td>\n",
       "      <td>Scott Frank</td>\n",
       "      <td>nm0088747, nm0291082</td>\n",
       "      <td>Lawrence Block, Scott Frank</td>\n",
       "      <td>a walk among the tombstones</td>\n",
       "      <td>2014</td>\n",
       "      <td>114</td>\n",
       "      <td>action,crime,drama</td>\n",
       "      <td>6.5</td>\n",
       "      <td>105116</td>\n",
       "      <td>2014-09-19</td>\n",
       "      <td>28000000</td>\n",
       "      <td>26017685</td>\n",
       "      <td>62108587</td>\n",
       "      <td>nm0000553, nm1092086, nm1405398, nm2933542</td>\n",
       "      <td>Boyd Holbrook, Dan Stevens, David Harbour, Lia...</td>\n",
       "    </tr>\n",
       "    <tr>\n",
       "      <th>3</th>\n",
       "      <td>tt0369610</td>\n",
       "      <td>nm1119880</td>\n",
       "      <td>Colin Trevorrow</td>\n",
       "      <td>nm0415425, nm0798646, nm1119880, nm2081046</td>\n",
       "      <td>Amanda Silver, Colin Trevorrow, Derek Connolly...</td>\n",
       "      <td>jurassic world</td>\n",
       "      <td>2015</td>\n",
       "      <td>124</td>\n",
       "      <td>action,adventure,sci-fi</td>\n",
       "      <td>7.0</td>\n",
       "      <td>539338</td>\n",
       "      <td>2015-06-12</td>\n",
       "      <td>215000000</td>\n",
       "      <td>652270625</td>\n",
       "      <td>1648854864</td>\n",
       "      <td>nm0695435, nm1339223</td>\n",
       "      <td>Chris Pratt, Ty Simpkins</td>\n",
       "    </tr>\n",
       "    <tr>\n",
       "      <th>4</th>\n",
       "      <td>tt0376136</td>\n",
       "      <td>nm0732430</td>\n",
       "      <td>Bruce Robinson</td>\n",
       "      <td>nm0732430</td>\n",
       "      <td>Bruce Robinson</td>\n",
       "      <td>the rum diary</td>\n",
       "      <td>2011</td>\n",
       "      <td>119</td>\n",
       "      <td>comedy,drama</td>\n",
       "      <td>6.2</td>\n",
       "      <td>94787</td>\n",
       "      <td>2011-10-28</td>\n",
       "      <td>45000000</td>\n",
       "      <td>13109815</td>\n",
       "      <td>21544732</td>\n",
       "      <td>nm0000136, nm0000610, nm0001173, nm0728346</td>\n",
       "      <td>Aaron Eckhart, Giovanni Ribisi, Johnny Depp, M...</td>\n",
       "    </tr>\n",
       "  </tbody>\n",
       "</table>\n",
       "</div>"
      ],
      "text/plain": [
       "    movie_id director_ids     director_names  \\\n",
       "0  tt0249516    nm0440415  Lawrence Kasanoff   \n",
       "1  tt0359950    nm0001774        Ben Stiller   \n",
       "2  tt0365907    nm0291082        Scott Frank   \n",
       "3  tt0369610    nm1119880    Colin Trevorrow   \n",
       "4  tt0376136    nm0732430     Bruce Robinson   \n",
       "\n",
       "                                          writer_ids  \\\n",
       "0  nm0220297, nm0295165, nm0440415, nm0841854, nm...   \n",
       "1                                          nm0175726   \n",
       "2                               nm0088747, nm0291082   \n",
       "3         nm0415425, nm0798646, nm1119880, nm2081046   \n",
       "4                                          nm0732430   \n",
       "\n",
       "                                        writer_names  \\\n",
       "0  Brent V. Friedman, Joshua Wexler, Lawrence Kas...   \n",
       "1                                       Steve Conrad   \n",
       "2                        Lawrence Block, Scott Frank   \n",
       "3  Amanda Silver, Colin Trevorrow, Derek Connolly...   \n",
       "4                                     Bruce Robinson   \n",
       "\n",
       "                        movie_name  release_year  runtime_minutes  \\\n",
       "0                       foodfight!          2012               91   \n",
       "1  the secret life of walter mitty          2013              114   \n",
       "2      a walk among the tombstones          2014              114   \n",
       "3                   jurassic world          2015              124   \n",
       "4                    the rum diary          2011              119   \n",
       "\n",
       "                    genres  averagerating  numvotes release_date  \\\n",
       "0  action,animation,comedy            1.9      8248   2012-12-31   \n",
       "1   adventure,comedy,drama            7.3    275300   2013-12-25   \n",
       "2       action,crime,drama            6.5    105116   2014-09-19   \n",
       "3  action,adventure,sci-fi            7.0    539338   2015-06-12   \n",
       "4             comedy,drama            6.2     94787   2011-10-28   \n",
       "\n",
       "   production_budget  domestic_gross  worldwide_gross  \\\n",
       "0           45000000               0            73706   \n",
       "1           91000000        58236838        187861183   \n",
       "2           28000000        26017685         62108587   \n",
       "3          215000000       652270625       1648854864   \n",
       "4           45000000        13109815         21544732   \n",
       "\n",
       "                                    actor_ids  \\\n",
       "0                                   nm0000221   \n",
       "1                        nm0001774, nm1789985   \n",
       "2  nm0000553, nm1092086, nm1405398, nm2933542   \n",
       "3                        nm0695435, nm1339223   \n",
       "4  nm0000136, nm0000610, nm0001173, nm0728346   \n",
       "\n",
       "                                         actor_names  \n",
       "0                                      Charlie Sheen  \n",
       "1                              Ben Stiller, Jon Daly  \n",
       "2  Boyd Holbrook, Dan Stevens, David Harbour, Lia...  \n",
       "3                           Chris Pratt, Ty Simpkins  \n",
       "4  Aaron Eckhart, Giovanni Ribisi, Johnny Depp, M...  "
      ]
     },
     "execution_count": 358,
     "metadata": {},
     "output_type": "execute_result"
    }
   ],
   "source": [
    "# Load the principals table\n",
    "principals_df = pd.read_sql(\"SELECT * FROM principals;\", conn)\n",
    "\n",
    "# Filter principals to include only actors\n",
    "actors_df = principals_df[principals_df['category'].str.lower() == 'actor']\n",
    "\n",
    "# Merge actors with cleaned_persons_df to get actor names\n",
    "actors_details = pd.merge(actors_df, cleaned_persons_df, on='person_id', how='inner')\n",
    "\n",
    "# Group actors' IDs and names by movie_id, ensuring unique values\n",
    "actors_grouped = actors_details.groupby('movie_id').agg({\n",
    "    'person_id': lambda x: ', '.join(map(str, sorted(set(x)))),  # Unique and sorted actor IDs\n",
    "    'primary_name': lambda x: ', '.join(sorted(set(x)))  # Unique and sorted actor names\n",
    "}).reset_index()\n",
    "\n",
    "# Rename columns for clarity\n",
    "actors_grouped.rename(columns={\n",
    "    'person_id': 'actor_ids',\n",
    "    'primary_name': 'actor_names'\n",
    "}, inplace=True)\n",
    "\n",
    "# Merge actors_grouped with final_merged_df\n",
    "final_merged_df_2 = pd.merge(final_merged_df, actors_grouped, on='movie_id', how='inner')\n",
    "\n",
    "# Display the resulting DataFrame\n",
    "print(f\"Shape of the final merged DataFrame with actors: {final_merged_df_2.shape}\")\n",
    "final_merged_df_2.head()"
   ]
  },
  {
   "cell_type": "code",
   "execution_count": 361,
   "id": "7d907ace",
   "metadata": {},
   "outputs": [
    {
     "name": "stdout",
     "output_type": "stream",
     "text": [
      "final_merged_df_2 has been successfully saved to the 'cleaned_data' folder.\n"
     ]
    }
   ],
   "source": [
    "# Create 'cleaned_data' folder if it doesn't exist\n",
    "output_folder = './cleaned_data'\n",
    "os.makedirs(output_folder, exist_ok=True)\n",
    "\n",
    "# Save final_merged_df_2 to a CSV file\n",
    "final_merged_df_2.to_csv(f'{output_folder}/final_merged_df_2.csv', index=False)\n",
    "\n",
    "print(\"final_merged_df_2 has been successfully saved to the 'cleaned_data' folder.\")"
   ]
  },
  {
   "cell_type": "code",
   "execution_count": null,
   "id": "04fee3bf",
   "metadata": {},
   "outputs": [],
   "source": []
  },
  {
   "cell_type": "code",
   "execution_count": null,
   "id": "a0ece847",
   "metadata": {},
   "outputs": [],
   "source": []
  },
  {
   "cell_type": "markdown",
   "id": "654b7caf",
   "metadata": {},
   "source": [
    "\n",
    "\n",
    "### Explanation:\n",
    "1. **Load Principals Table**:\n",
    "   - Use `pd.read_sql` to load the `principals` table from the database.\n",
    "\n",
    "2. **Filter for Actors**:\n",
    "   - Filter rows where the `category` column is `'actor'`.\n",
    "\n",
    "3. **Merge with `cleaned_persons_df`**:\n",
    "   - Merge `actors_df` with `cleaned_persons_df` on `person_id` to get actor names.\n",
    "\n",
    "4. **Group by `movie_id`**:\n",
    "   - Group actors by `movie_id` and aggregate their IDs and names, ensuring unique and sorted values.\n",
    "\n",
    "5. **Rename Columns**:\n",
    "   - Rename the grouped columns to `actor_ids` and `actor_names`.\n",
    "\n",
    "6. **Merge with `final_merged_df`**:\n",
    "   - Merge the grouped actor details with `final_merged_df` on `movie_id`.\n",
    "\n",
    "7. **Display Results**:\n",
    "   - Print the shape and preview the updated `final_merged_df`.\n",
    "\n",
    "Let me know if you need further clarification!"
   ]
  },
  {
   "cell_type": "code",
   "execution_count": 360,
   "id": "b33659a8",
   "metadata": {},
   "outputs": [
    {
     "name": "stdout",
     "output_type": "stream",
     "text": [
      "Shape of the data in final_merged_df but not in final_merged_df_2: (44, 31)\n"
     ]
    },
    {
     "data": {
      "text/html": [
       "<div>\n",
       "<style scoped>\n",
       "    .dataframe tbody tr th:only-of-type {\n",
       "        vertical-align: middle;\n",
       "    }\n",
       "\n",
       "    .dataframe tbody tr th {\n",
       "        vertical-align: top;\n",
       "    }\n",
       "\n",
       "    .dataframe thead th {\n",
       "        text-align: right;\n",
       "    }\n",
       "</style>\n",
       "<table border=\"1\" class=\"dataframe\">\n",
       "  <thead>\n",
       "    <tr style=\"text-align: right;\">\n",
       "      <th></th>\n",
       "      <th>movie_id</th>\n",
       "      <th>director_ids_x</th>\n",
       "      <th>director_names_x</th>\n",
       "      <th>writer_ids_x</th>\n",
       "      <th>writer_names_x</th>\n",
       "      <th>movie_name_x</th>\n",
       "      <th>release_year_x</th>\n",
       "      <th>runtime_minutes_x</th>\n",
       "      <th>genres_x</th>\n",
       "      <th>averagerating_x</th>\n",
       "      <th>...</th>\n",
       "      <th>runtime_minutes_y</th>\n",
       "      <th>genres_y</th>\n",
       "      <th>averagerating_y</th>\n",
       "      <th>numvotes_y</th>\n",
       "      <th>release_date_y</th>\n",
       "      <th>production_budget_y</th>\n",
       "      <th>domestic_gross_y</th>\n",
       "      <th>worldwide_gross_y</th>\n",
       "      <th>actor_ids</th>\n",
       "      <th>actor_names</th>\n",
       "    </tr>\n",
       "  </thead>\n",
       "  <tbody>\n",
       "    <tr>\n",
       "      <th>50</th>\n",
       "      <td>tt0770802</td>\n",
       "      <td>nm0294825</td>\n",
       "      <td>Ron Fricke</td>\n",
       "      <td>nm0294825, nm0536056</td>\n",
       "      <td>Mark Magidson, Ron Fricke</td>\n",
       "      <td>samsara</td>\n",
       "      <td>2011</td>\n",
       "      <td>102</td>\n",
       "      <td>documentary,music</td>\n",
       "      <td>8.5</td>\n",
       "      <td>...</td>\n",
       "      <td>NaN</td>\n",
       "      <td>NaN</td>\n",
       "      <td>NaN</td>\n",
       "      <td>NaN</td>\n",
       "      <td>NaN</td>\n",
       "      <td>NaN</td>\n",
       "      <td>NaN</td>\n",
       "      <td>NaN</td>\n",
       "      <td>NaN</td>\n",
       "      <td>NaN</td>\n",
       "    </tr>\n",
       "    <tr>\n",
       "      <th>102</th>\n",
       "      <td>tt0978764</td>\n",
       "      <td>nm0811583</td>\n",
       "      <td>Zack Snyder</td>\n",
       "      <td>nm0793122, nm0811583</td>\n",
       "      <td>Steve Shibuya, Zack Snyder</td>\n",
       "      <td>sucker punch</td>\n",
       "      <td>2011</td>\n",
       "      <td>110</td>\n",
       "      <td>action,adventure,fantasy</td>\n",
       "      <td>6.1</td>\n",
       "      <td>...</td>\n",
       "      <td>NaN</td>\n",
       "      <td>NaN</td>\n",
       "      <td>NaN</td>\n",
       "      <td>NaN</td>\n",
       "      <td>NaN</td>\n",
       "      <td>NaN</td>\n",
       "      <td>NaN</td>\n",
       "      <td>NaN</td>\n",
       "      <td>NaN</td>\n",
       "      <td>NaN</td>\n",
       "    </tr>\n",
       "    <tr>\n",
       "      <th>118</th>\n",
       "      <td>tt1015471</td>\n",
       "      <td>nm2013046</td>\n",
       "      <td>Caryn Waechter</td>\n",
       "      <td>nm1841035, nm2627176</td>\n",
       "      <td>Marilyn Fu, Steven Millhauser</td>\n",
       "      <td>the sisterhood of night</td>\n",
       "      <td>2014</td>\n",
       "      <td>104</td>\n",
       "      <td>drama,mystery,thriller</td>\n",
       "      <td>6.2</td>\n",
       "      <td>...</td>\n",
       "      <td>NaN</td>\n",
       "      <td>NaN</td>\n",
       "      <td>NaN</td>\n",
       "      <td>NaN</td>\n",
       "      <td>NaN</td>\n",
       "      <td>NaN</td>\n",
       "      <td>NaN</td>\n",
       "      <td>NaN</td>\n",
       "      <td>NaN</td>\n",
       "      <td>NaN</td>\n",
       "    </tr>\n",
       "    <tr>\n",
       "      <th>127</th>\n",
       "      <td>tt1034415</td>\n",
       "      <td>nm0345174</td>\n",
       "      <td>Luca Guadagnino</td>\n",
       "      <td>nm0000783, nm0630453, nm1738734</td>\n",
       "      <td>Daria Nicolodi, Dario Argento, David Kajganich</td>\n",
       "      <td>suspiria</td>\n",
       "      <td>2018</td>\n",
       "      <td>152</td>\n",
       "      <td>fantasy,horror,mystery</td>\n",
       "      <td>6.8</td>\n",
       "      <td>...</td>\n",
       "      <td>NaN</td>\n",
       "      <td>NaN</td>\n",
       "      <td>NaN</td>\n",
       "      <td>NaN</td>\n",
       "      <td>NaN</td>\n",
       "      <td>NaN</td>\n",
       "      <td>NaN</td>\n",
       "      <td>NaN</td>\n",
       "      <td>NaN</td>\n",
       "      <td>NaN</td>\n",
       "    </tr>\n",
       "    <tr>\n",
       "      <th>141</th>\n",
       "      <td>tt1067774</td>\n",
       "      <td>nm0080120</td>\n",
       "      <td>Thomas Bezucha</td>\n",
       "      <td>nm0080120, nm0086194, nm0535940, nm2719767, nm...</td>\n",
       "      <td>April Blair, Jules Bass, Kelly Bowe, Maria Mag...</td>\n",
       "      <td>monte carlo</td>\n",
       "      <td>2011</td>\n",
       "      <td>109</td>\n",
       "      <td>adventure,comedy,family</td>\n",
       "      <td>5.8</td>\n",
       "      <td>...</td>\n",
       "      <td>NaN</td>\n",
       "      <td>NaN</td>\n",
       "      <td>NaN</td>\n",
       "      <td>NaN</td>\n",
       "      <td>NaN</td>\n",
       "      <td>NaN</td>\n",
       "      <td>NaN</td>\n",
       "      <td>NaN</td>\n",
       "      <td>NaN</td>\n",
       "      <td>NaN</td>\n",
       "    </tr>\n",
       "  </tbody>\n",
       "</table>\n",
       "<p>5 rows × 31 columns</p>\n",
       "</div>"
      ],
      "text/plain": [
       "      movie_id director_ids_x director_names_x  \\\n",
       "50   tt0770802      nm0294825       Ron Fricke   \n",
       "102  tt0978764      nm0811583      Zack Snyder   \n",
       "118  tt1015471      nm2013046   Caryn Waechter   \n",
       "127  tt1034415      nm0345174  Luca Guadagnino   \n",
       "141  tt1067774      nm0080120   Thomas Bezucha   \n",
       "\n",
       "                                          writer_ids_x  \\\n",
       "50                                nm0294825, nm0536056   \n",
       "102                               nm0793122, nm0811583   \n",
       "118                               nm1841035, nm2627176   \n",
       "127                    nm0000783, nm0630453, nm1738734   \n",
       "141  nm0080120, nm0086194, nm0535940, nm2719767, nm...   \n",
       "\n",
       "                                        writer_names_x  \\\n",
       "50                           Mark Magidson, Ron Fricke   \n",
       "102                         Steve Shibuya, Zack Snyder   \n",
       "118                      Marilyn Fu, Steven Millhauser   \n",
       "127     Daria Nicolodi, Dario Argento, David Kajganich   \n",
       "141  April Blair, Jules Bass, Kelly Bowe, Maria Mag...   \n",
       "\n",
       "                movie_name_x  release_year_x  runtime_minutes_x  \\\n",
       "50                   samsara            2011                102   \n",
       "102             sucker punch            2011                110   \n",
       "118  the sisterhood of night            2014                104   \n",
       "127                 suspiria            2018                152   \n",
       "141              monte carlo            2011                109   \n",
       "\n",
       "                     genres_x  averagerating_x  ...  runtime_minutes_y  \\\n",
       "50          documentary,music              8.5  ...                NaN   \n",
       "102  action,adventure,fantasy              6.1  ...                NaN   \n",
       "118    drama,mystery,thriller              6.2  ...                NaN   \n",
       "127    fantasy,horror,mystery              6.8  ...                NaN   \n",
       "141   adventure,comedy,family              5.8  ...                NaN   \n",
       "\n",
       "    genres_y  averagerating_y  numvotes_y  release_date_y production_budget_y  \\\n",
       "50       NaN              NaN         NaN             NaN                 NaN   \n",
       "102      NaN              NaN         NaN             NaN                 NaN   \n",
       "118      NaN              NaN         NaN             NaN                 NaN   \n",
       "127      NaN              NaN         NaN             NaN                 NaN   \n",
       "141      NaN              NaN         NaN             NaN                 NaN   \n",
       "\n",
       "    domestic_gross_y worldwide_gross_y actor_ids actor_names  \n",
       "50               NaN               NaN       NaN         NaN  \n",
       "102              NaN               NaN       NaN         NaN  \n",
       "118              NaN               NaN       NaN         NaN  \n",
       "127              NaN               NaN       NaN         NaN  \n",
       "141              NaN               NaN       NaN         NaN  \n",
       "\n",
       "[5 rows x 31 columns]"
      ]
     },
     "execution_count": 360,
     "metadata": {},
     "output_type": "execute_result"
    }
   ],
   "source": [
    "# Perform the merge with an indicator column\n",
    "merged_with_indicator = pd.merge(\n",
    "    final_merged_df, \n",
    "    final_merged_df_2, \n",
    "    on='movie_id', \n",
    "    how='outer', \n",
    "    indicator=True\n",
    ")\n",
    "\n",
    "# Filter rows that are only in final_merged_df\n",
    "excluded_from_final_merged_df_2 = merged_with_indicator[merged_with_indicator['_merge'] == 'left_only']\n",
    "\n",
    "# Drop the '_merge' column for clarity\n",
    "excluded_from_final_merged_df_2 = excluded_from_final_merged_df_2.drop(columns=['_merge'])\n",
    "\n",
    "# Display the resulting DataFrame\n",
    "print(f\"Shape of the data in final_merged_df but not in final_merged_df_2: {excluded_from_final_merged_df_2.shape}\")\n",
    "excluded_from_final_merged_df_2.head()"
   ]
  }
 ],
 "metadata": {
  "kernelspec": {
   "display_name": "learn-env",
   "language": "python",
   "name": "python3"
  },
  "language_info": {
   "codemirror_mode": {
    "name": "ipython",
    "version": 3
   },
   "file_extension": ".py",
   "mimetype": "text/x-python",
   "name": "python",
   "nbconvert_exporter": "python",
   "pygments_lexer": "ipython3",
   "version": "3.8.5"
  }
 },
 "nbformat": 4,
 "nbformat_minor": 5
}
