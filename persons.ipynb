{
 "cells": [
  {
   "cell_type": "markdown",
   "id": "e9969223",
   "metadata": {},
   "source": [
    "# Persons"
   ]
  },
  {
   "cell_type": "code",
   "execution_count": 26,
   "id": "738ebc17",
   "metadata": {},
   "outputs": [],
   "source": [
    "# import libraries\n",
    "import pandas as pd\n",
    "import numpy as np\n",
    "import matplotlib.pyplot as plt\n",
    "import seaborn as sns\n",
    "import sqlite3\n",
    "import os\n",
    "\n",
    "%matplotlib inline"
   ]
  },
  {
   "cell_type": "code",
   "execution_count": 27,
   "id": "f8a37386",
   "metadata": {},
   "outputs": [],
   "source": [
    "conn = sqlite3.connect('./extractedData/im.db')\n",
    "cursor = conn.cursor()"
   ]
  },
  {
   "cell_type": "code",
   "execution_count": 28,
   "id": "0c8b0d84",
   "metadata": {},
   "outputs": [
    {
     "name": "stdout",
     "output_type": "stream",
     "text": [
      "<class 'pandas.core.frame.DataFrame'>\n",
      "RangeIndex: 606648 entries, 0 to 606647\n",
      "Data columns (total 5 columns):\n",
      " #   Column              Non-Null Count   Dtype  \n",
      "---  ------              --------------   -----  \n",
      " 0   person_id           606648 non-null  object \n",
      " 1   primary_name        606648 non-null  object \n",
      " 2   birth_year          82736 non-null   float64\n",
      " 3   death_year          6783 non-null    float64\n",
      " 4   primary_profession  555308 non-null  object \n",
      "dtypes: float64(2), object(3)\n",
      "memory usage: 23.1+ MB\n"
     ]
    }
   ],
   "source": [
    "persons_df = pd.read_sql(\"SELECT * FROM persons;\", conn)\n",
    "persons_df.info()\n"
   ]
  },
  {
   "cell_type": "code",
   "execution_count": 29,
   "id": "701cbf82",
   "metadata": {},
   "outputs": [
    {
     "data": {
      "text/plain": [
       "person_id                  0\n",
       "primary_name               0\n",
       "birth_year            523912\n",
       "death_year            599865\n",
       "primary_profession     51340\n",
       "dtype: int64"
      ]
     },
     "execution_count": 29,
     "metadata": {},
     "output_type": "execute_result"
    }
   ],
   "source": [
    "# Check for missing values\n",
    "persons_df.isnull().sum()"
   ]
  },
  {
   "cell_type": "code",
   "execution_count": 30,
   "id": "a1881858",
   "metadata": {},
   "outputs": [
    {
     "name": "stdout",
     "output_type": "stream",
     "text": [
      "Shape after dropping rows: (74867, 5)\n"
     ]
    },
    {
     "data": {
      "text/html": [
       "<div>\n",
       "<style scoped>\n",
       "    .dataframe tbody tr th:only-of-type {\n",
       "        vertical-align: middle;\n",
       "    }\n",
       "\n",
       "    .dataframe tbody tr th {\n",
       "        vertical-align: top;\n",
       "    }\n",
       "\n",
       "    .dataframe thead th {\n",
       "        text-align: right;\n",
       "    }\n",
       "</style>\n",
       "<table border=\"1\" class=\"dataframe\">\n",
       "  <thead>\n",
       "    <tr style=\"text-align: right;\">\n",
       "      <th></th>\n",
       "      <th>person_id</th>\n",
       "      <th>primary_name</th>\n",
       "      <th>birth_year</th>\n",
       "      <th>death_year</th>\n",
       "      <th>primary_profession</th>\n",
       "    </tr>\n",
       "  </thead>\n",
       "  <tbody>\n",
       "    <tr>\n",
       "      <th>8</th>\n",
       "      <td>nm0063618</td>\n",
       "      <td>Jeff Beal</td>\n",
       "      <td>1963.0</td>\n",
       "      <td>NaN</td>\n",
       "      <td>composer,music_department,soundtrack</td>\n",
       "    </tr>\n",
       "    <tr>\n",
       "      <th>12</th>\n",
       "      <td>nm0065847</td>\n",
       "      <td>Michael Frost Beckner</td>\n",
       "      <td>1963.0</td>\n",
       "      <td>NaN</td>\n",
       "      <td>writer,producer,miscellaneous</td>\n",
       "    </tr>\n",
       "    <tr>\n",
       "      <th>14</th>\n",
       "      <td>nm0066093</td>\n",
       "      <td>Ahmad Bedair</td>\n",
       "      <td>1945.0</td>\n",
       "      <td>NaN</td>\n",
       "      <td>actor,miscellaneous</td>\n",
       "    </tr>\n",
       "    <tr>\n",
       "      <th>17</th>\n",
       "      <td>nm0066897</td>\n",
       "      <td>Mohammad-Ali Behboudi</td>\n",
       "      <td>1956.0</td>\n",
       "      <td>NaN</td>\n",
       "      <td>actor</td>\n",
       "    </tr>\n",
       "    <tr>\n",
       "      <th>20</th>\n",
       "      <td>nm0067983</td>\n",
       "      <td>Krunoslav Belko</td>\n",
       "      <td>1971.0</td>\n",
       "      <td>NaN</td>\n",
       "      <td>actor</td>\n",
       "    </tr>\n",
       "  </tbody>\n",
       "</table>\n",
       "</div>"
      ],
      "text/plain": [
       "    person_id           primary_name  birth_year  death_year  \\\n",
       "8   nm0063618              Jeff Beal      1963.0         NaN   \n",
       "12  nm0065847  Michael Frost Beckner      1963.0         NaN   \n",
       "14  nm0066093           Ahmad Bedair      1945.0         NaN   \n",
       "17  nm0066897  Mohammad-Ali Behboudi      1956.0         NaN   \n",
       "20  nm0067983        Krunoslav Belko      1971.0         NaN   \n",
       "\n",
       "                      primary_profession  \n",
       "8   composer,music_department,soundtrack  \n",
       "12         writer,producer,miscellaneous  \n",
       "14                   actor,miscellaneous  \n",
       "17                                 actor  \n",
       "20                                 actor  "
      ]
     },
     "execution_count": 30,
     "metadata": {},
     "output_type": "execute_result"
    }
   ],
   "source": [
    "# Drop rows where death_year is not null\n",
    "persons_df = persons_df[persons_df['death_year'].isna()]\n",
    "\n",
    "# Drop rows where 'birth_year' or 'primary_profession' is null\n",
    "persons_df = persons_df.dropna(subset=['birth_year', 'primary_profession'])\n",
    "\n",
    "# Display the updated DataFrame\n",
    "print(f\"Shape after dropping rows: {persons_df.shape}\")\n",
    "persons_df.head()"
   ]
  },
  {
   "cell_type": "code",
   "execution_count": 31,
   "id": "9d83abe2",
   "metadata": {},
   "outputs": [],
   "source": [
    "# Drop the death_year column\n",
    "persons_df = persons_df.drop(columns=['death_year'])\n",
    "\n",
    "# Reset the index of the DataFrame\n",
    "persons_df.reset_index(drop=True, inplace=True)"
   ]
  },
  {
   "cell_type": "code",
   "execution_count": 32,
   "id": "34529d46",
   "metadata": {},
   "outputs": [
    {
     "data": {
      "text/plain": [
       "person_id             object\n",
       "primary_name          object\n",
       "birth_year             int32\n",
       "primary_profession    object\n",
       "dtype: object"
      ]
     },
     "execution_count": 32,
     "metadata": {},
     "output_type": "execute_result"
    }
   ],
   "source": [
    "# Convert birth_year to integer\n",
    "persons_df['birth_year'] = persons_df['birth_year'].astype(int)\n",
    "\n",
    "# Display the updated DataFrame\n",
    "persons_df.dtypes"
   ]
  },
  {
   "cell_type": "code",
   "execution_count": 33,
   "id": "cee5d9bc",
   "metadata": {},
   "outputs": [
    {
     "data": {
      "text/html": [
       "<div>\n",
       "<style scoped>\n",
       "    .dataframe tbody tr th:only-of-type {\n",
       "        vertical-align: middle;\n",
       "    }\n",
       "\n",
       "    .dataframe tbody tr th {\n",
       "        vertical-align: top;\n",
       "    }\n",
       "\n",
       "    .dataframe thead th {\n",
       "        text-align: right;\n",
       "    }\n",
       "</style>\n",
       "<table border=\"1\" class=\"dataframe\">\n",
       "  <thead>\n",
       "    <tr style=\"text-align: right;\">\n",
       "      <th></th>\n",
       "      <th>person_id</th>\n",
       "      <th>primary_name</th>\n",
       "      <th>birth_year</th>\n",
       "      <th>primary_profession</th>\n",
       "    </tr>\n",
       "  </thead>\n",
       "  <tbody>\n",
       "    <tr>\n",
       "      <th>55220</th>\n",
       "      <td>nm1750876</td>\n",
       "      <td>Adam Berry</td>\n",
       "      <td>1987</td>\n",
       "      <td>actor,producer</td>\n",
       "    </tr>\n",
       "    <tr>\n",
       "      <th>17951</th>\n",
       "      <td>nm0077468</td>\n",
       "      <td>Adam Berry</td>\n",
       "      <td>1966</td>\n",
       "      <td>composer,soundtrack,music_department</td>\n",
       "    </tr>\n",
       "    <tr>\n",
       "      <th>50798</th>\n",
       "      <td>nm2194534</td>\n",
       "      <td>Adam Green</td>\n",
       "      <td>1981</td>\n",
       "      <td>soundtrack,actor,director</td>\n",
       "    </tr>\n",
       "    <tr>\n",
       "      <th>44311</th>\n",
       "      <td>nm1725691</td>\n",
       "      <td>Adam Green</td>\n",
       "      <td>1977</td>\n",
       "      <td>actor,producer,writer</td>\n",
       "    </tr>\n",
       "    <tr>\n",
       "      <th>47147</th>\n",
       "      <td>nm1697112</td>\n",
       "      <td>Adam Green</td>\n",
       "      <td>1975</td>\n",
       "      <td>writer,producer,director</td>\n",
       "    </tr>\n",
       "    <tr>\n",
       "      <th>557</th>\n",
       "      <td>nm10330838</td>\n",
       "      <td>Adam Johnson</td>\n",
       "      <td>1972</td>\n",
       "      <td>actor</td>\n",
       "    </tr>\n",
       "    <tr>\n",
       "      <th>18192</th>\n",
       "      <td>nm0424453</td>\n",
       "      <td>Adam Johnson</td>\n",
       "      <td>1973</td>\n",
       "      <td>actor,art_director,writer</td>\n",
       "    </tr>\n",
       "    <tr>\n",
       "      <th>23457</th>\n",
       "      <td>nm0800885</td>\n",
       "      <td>Alan Simpson</td>\n",
       "      <td>1983</td>\n",
       "      <td>actor,producer,executive</td>\n",
       "    </tr>\n",
       "    <tr>\n",
       "      <th>26526</th>\n",
       "      <td>nm0800883</td>\n",
       "      <td>Alan Simpson</td>\n",
       "      <td>1931</td>\n",
       "      <td>actor,miscellaneous</td>\n",
       "    </tr>\n",
       "    <tr>\n",
       "      <th>66311</th>\n",
       "      <td>nm3416598</td>\n",
       "      <td>Alberto Iglesias</td>\n",
       "      <td>1975</td>\n",
       "      <td>actor,writer</td>\n",
       "    </tr>\n",
       "  </tbody>\n",
       "</table>\n",
       "</div>"
      ],
      "text/plain": [
       "        person_id      primary_name  birth_year  \\\n",
       "55220   nm1750876        Adam Berry        1987   \n",
       "17951   nm0077468        Adam Berry        1966   \n",
       "50798   nm2194534        Adam Green        1981   \n",
       "44311   nm1725691        Adam Green        1977   \n",
       "47147   nm1697112        Adam Green        1975   \n",
       "557    nm10330838      Adam Johnson        1972   \n",
       "18192   nm0424453      Adam Johnson        1973   \n",
       "23457   nm0800885      Alan Simpson        1983   \n",
       "26526   nm0800883      Alan Simpson        1931   \n",
       "66311   nm3416598  Alberto Iglesias        1975   \n",
       "\n",
       "                         primary_profession  \n",
       "55220                        actor,producer  \n",
       "17951  composer,soundtrack,music_department  \n",
       "50798             soundtrack,actor,director  \n",
       "44311                 actor,producer,writer  \n",
       "47147              writer,producer,director  \n",
       "557                                   actor  \n",
       "18192             actor,art_director,writer  \n",
       "23457              actor,producer,executive  \n",
       "26526                   actor,miscellaneous  \n",
       "66311                          actor,writer  "
      ]
     },
     "execution_count": 33,
     "metadata": {},
     "output_type": "execute_result"
    }
   ],
   "source": [
    "# view duplicates using primary_name\n",
    "duplicate_persons_primary_name = persons_df[persons_df.duplicated(subset=['primary_name'], keep=False)]\n",
    "duplicate_persons_primary_name = duplicate_persons_primary_name.sort_values('primary_name')\n",
    "duplicate_persons_primary_name.head(10)"
   ]
  },
  {
   "cell_type": "code",
   "execution_count": 34,
   "id": "7d42061e",
   "metadata": {},
   "outputs": [
    {
     "name": "stdout",
     "output_type": "stream",
     "text": [
      "Shape after dropping rows with primary_profession as 'miscellaneous': (74773, 4)\n"
     ]
    }
   ],
   "source": [
    "# Drop rows where primary_profession is 'miscellaneous' only\n",
    "persons_df = persons_df[persons_df['primary_profession'].str.strip().str.lower() != 'miscellaneous']\n",
    "\n",
    "# Display the updated DataFrame\n",
    "print(f\"Shape after dropping rows with primary_profession as 'miscellaneous': {persons_df.shape}\")"
   ]
  },
  {
   "cell_type": "code",
   "execution_count": 35,
   "id": "a3124151",
   "metadata": {},
   "outputs": [
    {
     "data": {
      "text/plain": [
       "person_id             0\n",
       "primary_name          0\n",
       "birth_year            0\n",
       "primary_profession    0\n",
       "dtype: int64"
      ]
     },
     "execution_count": 35,
     "metadata": {},
     "output_type": "execute_result"
    }
   ],
   "source": [
    "persons_df.isna().sum()"
   ]
  },
  {
   "cell_type": "code",
   "execution_count": 41,
   "id": "f525dcf9",
   "metadata": {},
   "outputs": [
    {
     "name": "stdout",
     "output_type": "stream",
     "text": [
      "<class 'pandas.core.frame.DataFrame'>\n",
      "Int64Index: 74773 entries, 0 to 74866\n",
      "Data columns (total 4 columns):\n",
      " #   Column              Non-Null Count  Dtype \n",
      "---  ------              --------------  ----- \n",
      " 0   person_id           74773 non-null  object\n",
      " 1   primary_name        74773 non-null  object\n",
      " 2   birth_year          74773 non-null  int32 \n",
      " 3   primary_profession  74773 non-null  object\n",
      "dtypes: int32(1), object(3)\n",
      "memory usage: 2.6+ MB\n"
     ]
    }
   ],
   "source": [
    "persons_df.info()"
   ]
  },
  {
   "cell_type": "code",
   "execution_count": 42,
   "id": "4a1161ff",
   "metadata": {},
   "outputs": [],
   "source": [
    "# close the database connection\n",
    "conn.close()"
   ]
  },
  {
   "cell_type": "code",
   "execution_count": 46,
   "id": "c01433a1",
   "metadata": {},
   "outputs": [
    {
     "name": "stdout",
     "output_type": "stream",
     "text": [
      "DataFrames have been successfully saved to the 'extracted' folder.\n"
     ]
    }
   ],
   "source": [
    "# Create 'extracted' folder if it doesn't exist\n",
    "output_folder = './cleaned_data'\n",
    "os.makedirs(output_folder, exist_ok=True)\n",
    "\n",
    "# Save persons_df to a CSV file\n",
    "persons_df.to_csv(f'{output_folder}/cleaned_persons_df.csv', index=False)\n",
    "\n",
    "print(\"DataFrames have been successfully saved to the 'extracted' folder.\")"
   ]
  },
  {
   "cell_type": "markdown",
   "id": "c7e2d2e6",
   "metadata": {},
   "source": [
    "## WRITERS"
   ]
  },
  {
   "cell_type": "code",
   "execution_count": 48,
   "id": "c5df995d",
   "metadata": {},
   "outputs": [],
   "source": [
    "conn = sqlite3.connect('./extractedData/im.db')\n",
    "cursor = conn.cursor()"
   ]
  },
  {
   "cell_type": "code",
   "execution_count": 49,
   "id": "ddf9bc9f",
   "metadata": {},
   "outputs": [
    {
     "name": "stdout",
     "output_type": "stream",
     "text": [
      "(255873, 2)\n"
     ]
    },
    {
     "data": {
      "text/html": [
       "<div>\n",
       "<style scoped>\n",
       "    .dataframe tbody tr th:only-of-type {\n",
       "        vertical-align: middle;\n",
       "    }\n",
       "\n",
       "    .dataframe tbody tr th {\n",
       "        vertical-align: top;\n",
       "    }\n",
       "\n",
       "    .dataframe thead th {\n",
       "        text-align: right;\n",
       "    }\n",
       "</style>\n",
       "<table border=\"1\" class=\"dataframe\">\n",
       "  <thead>\n",
       "    <tr style=\"text-align: right;\">\n",
       "      <th></th>\n",
       "      <th>movie_id</th>\n",
       "      <th>person_id</th>\n",
       "    </tr>\n",
       "  </thead>\n",
       "  <tbody>\n",
       "    <tr>\n",
       "      <th>0</th>\n",
       "      <td>tt0285252</td>\n",
       "      <td>nm0899854</td>\n",
       "    </tr>\n",
       "    <tr>\n",
       "      <th>1</th>\n",
       "      <td>tt0438973</td>\n",
       "      <td>nm0175726</td>\n",
       "    </tr>\n",
       "    <tr>\n",
       "      <th>2</th>\n",
       "      <td>tt0438973</td>\n",
       "      <td>nm1802864</td>\n",
       "    </tr>\n",
       "    <tr>\n",
       "      <th>3</th>\n",
       "      <td>tt0462036</td>\n",
       "      <td>nm1940585</td>\n",
       "    </tr>\n",
       "    <tr>\n",
       "      <th>4</th>\n",
       "      <td>tt0835418</td>\n",
       "      <td>nm0310087</td>\n",
       "    </tr>\n",
       "  </tbody>\n",
       "</table>\n",
       "</div>"
      ],
      "text/plain": [
       "    movie_id  person_id\n",
       "0  tt0285252  nm0899854\n",
       "1  tt0438973  nm0175726\n",
       "2  tt0438973  nm1802864\n",
       "3  tt0462036  nm1940585\n",
       "4  tt0835418  nm0310087"
      ]
     },
     "execution_count": 49,
     "metadata": {},
     "output_type": "execute_result"
    }
   ],
   "source": [
    "writers_df = pd.read_sql(\"SELECT * FROM writers;\", conn)\n",
    "print(writers_df.shape)\n",
    "writers_df.head()\n"
   ]
  },
  {
   "cell_type": "code",
   "execution_count": 50,
   "id": "438faf99",
   "metadata": {},
   "outputs": [
    {
     "data": {
      "text/plain": [
       "movie_id     0\n",
       "person_id    0\n",
       "dtype: int64"
      ]
     },
     "execution_count": 50,
     "metadata": {},
     "output_type": "execute_result"
    }
   ],
   "source": [
    "writers_df.isna().sum()"
   ]
  },
  {
   "cell_type": "code",
   "execution_count": 51,
   "id": "2c3f674c",
   "metadata": {},
   "outputs": [
    {
     "data": {
      "text/html": [
       "<div>\n",
       "<style scoped>\n",
       "    .dataframe tbody tr th:only-of-type {\n",
       "        vertical-align: middle;\n",
       "    }\n",
       "\n",
       "    .dataframe tbody tr th {\n",
       "        vertical-align: top;\n",
       "    }\n",
       "\n",
       "    .dataframe thead th {\n",
       "        text-align: right;\n",
       "    }\n",
       "</style>\n",
       "<table border=\"1\" class=\"dataframe\">\n",
       "  <thead>\n",
       "    <tr style=\"text-align: right;\">\n",
       "      <th></th>\n",
       "      <th>movie_id</th>\n",
       "      <th>person_id</th>\n",
       "    </tr>\n",
       "  </thead>\n",
       "  <tbody>\n",
       "    <tr>\n",
       "      <th>1</th>\n",
       "      <td>tt0438973</td>\n",
       "      <td>nm0175726</td>\n",
       "    </tr>\n",
       "    <tr>\n",
       "      <th>2</th>\n",
       "      <td>tt0438973</td>\n",
       "      <td>nm1802864</td>\n",
       "    </tr>\n",
       "    <tr>\n",
       "      <th>4</th>\n",
       "      <td>tt0835418</td>\n",
       "      <td>nm0310087</td>\n",
       "    </tr>\n",
       "    <tr>\n",
       "      <th>5</th>\n",
       "      <td>tt0835418</td>\n",
       "      <td>nm0841532</td>\n",
       "    </tr>\n",
       "    <tr>\n",
       "      <th>6</th>\n",
       "      <td>tt0878654</td>\n",
       "      <td>nm0284943</td>\n",
       "    </tr>\n",
       "  </tbody>\n",
       "</table>\n",
       "</div>"
      ],
      "text/plain": [
       "    movie_id  person_id\n",
       "1  tt0438973  nm0175726\n",
       "2  tt0438973  nm1802864\n",
       "4  tt0835418  nm0310087\n",
       "5  tt0835418  nm0841532\n",
       "6  tt0878654  nm0284943"
      ]
     },
     "execution_count": 51,
     "metadata": {},
     "output_type": "execute_result"
    }
   ],
   "source": [
    "# view duplicates using movie_id\n",
    "\n",
    "duplicate_writers_ids = writers_df[writers_df.duplicated(subset=['movie_id'], keep=False)]\n",
    "\n",
    "duplicate_writers_ids.head()"
   ]
  },
  {
   "cell_type": "markdown",
   "id": "c0c9f423",
   "metadata": {},
   "source": [
    "many movies has many writers"
   ]
  },
  {
   "cell_type": "markdown",
   "id": "da54bcfb",
   "metadata": {},
   "source": [
    "GET WRITERS DETAILS USING PERSON_ID USE persons_df. GET MOVIES WRITTEN BY THE WRITER USING MOVIE_ID USE movies_df\n"
   ]
  },
  {
   "cell_type": "code",
   "execution_count": 52,
   "id": "cc74c5c8",
   "metadata": {},
   "outputs": [
    {
     "name": "stdout",
     "output_type": "stream",
     "text": [
      "<class 'pandas.core.frame.DataFrame'>\n",
      "RangeIndex: 74773 entries, 0 to 74772\n",
      "Data columns (total 4 columns):\n",
      " #   Column              Non-Null Count  Dtype \n",
      "---  ------              --------------  ----- \n",
      " 0   person_id           74773 non-null  object\n",
      " 1   primary_name        74773 non-null  object\n",
      " 2   birth_year          74773 non-null  int64 \n",
      " 3   primary_profession  74773 non-null  object\n",
      "dtypes: int64(1), object(3)\n",
      "memory usage: 2.3+ MB\n"
     ]
    }
   ],
   "source": [
    "cleaned_persons_df = pd.read_csv('./cleaned_data/cleaned_persons_df.csv')\n",
    "cleaned_persons_df.info()"
   ]
  },
  {
   "cell_type": "markdown",
   "id": "b6da7a76",
   "metadata": {},
   "source": [
    "\n",
    "\n",
    "### 1. **Filter `cleaned_persons_df` for Writers**\n"
   ]
  },
  {
   "cell_type": "code",
   "execution_count": 53,
   "id": "4feeab48",
   "metadata": {},
   "outputs": [],
   "source": [
    "writers_only = cleaned_persons_df[cleaned_persons_df['primary_profession'].str.contains('writer', case=False, na=False)]"
   ]
  },
  {
   "cell_type": "markdown",
   "id": "36dd3f97",
   "metadata": {},
   "source": [
    "- **Purpose**: This filters the `cleaned_persons_df` DataFrame to include only rows where the `primary_profession` column contains the word \"writer\".\n",
    "- **Key Parameters**:\n",
    "  - `str.contains('writer')`: Checks if the string \"writer\" is present in the `primary_profession` column.\n",
    "  - `case=False`: Makes the search case-insensitive (e.g., matches \"Writer\", \"writer\", or \"WRITER\").\n",
    "  - `na=False`: Ensures that rows with `NaN` values in `primary_profession` are excluded from the filter.\n",
    "- **Result**: A new DataFrame, `writers_only`, containing only persons whose primary profession includes \"writer\".\n",
    "\n",
    "---\n",
    "\n",
    "### 2. **Merge `writers_df` with `writers_only`**\n"
   ]
  },
  {
   "cell_type": "code",
   "execution_count": 54,
   "id": "f5ef4c2f",
   "metadata": {},
   "outputs": [],
   "source": [
    "writers_details = writers_df.merge(writers_only, on='person_id', how='inner')"
   ]
  },
  {
   "cell_type": "markdown",
   "id": "29803d35",
   "metadata": {},
   "source": [
    "- **Purpose**: Combines the `writers_df` DataFrame (containing writer-related data) with the filtered `writers_only` DataFrame to get detailed information about writers.\n",
    "- **Key Parameters**:\n",
    "  - `on='person_id'`: The merge is performed using the `person_id` column, which is common to both DataFrames.\n",
    "  - `how='inner'`: Performs an inner join, keeping only rows where `person_id` exists in both DataFrames.\n",
    "- **Result**: A new DataFrame, `writers_details`, containing detailed information about writers, including their `primary_profession` and other attributes from `cleaned_persons_df`.\n",
    "\n",
    "---\n",
    "\n",
    "### Final Output\n",
    "The resulting `writers_details` DataFrame provides a consolidated view of writers, combining data from both `writers_df` and `cleaned_persons_df`. This is useful for further analysis, such as identifying movies written by specific writers or exploring writer-related trends."
   ]
  },
  {
   "cell_type": "code",
   "execution_count": 55,
   "id": "b30d2599",
   "metadata": {},
   "outputs": [
    {
     "name": "stdout",
     "output_type": "stream",
     "text": [
      "Shape of writers_details DataFrame: (41102, 5)\n"
     ]
    },
    {
     "data": {
      "text/html": [
       "<div>\n",
       "<style scoped>\n",
       "    .dataframe tbody tr th:only-of-type {\n",
       "        vertical-align: middle;\n",
       "    }\n",
       "\n",
       "    .dataframe tbody tr th {\n",
       "        vertical-align: top;\n",
       "    }\n",
       "\n",
       "    .dataframe thead th {\n",
       "        text-align: right;\n",
       "    }\n",
       "</style>\n",
       "<table border=\"1\" class=\"dataframe\">\n",
       "  <thead>\n",
       "    <tr style=\"text-align: right;\">\n",
       "      <th></th>\n",
       "      <th>movie_id</th>\n",
       "      <th>person_id</th>\n",
       "      <th>primary_name</th>\n",
       "      <th>birth_year</th>\n",
       "      <th>primary_profession</th>\n",
       "    </tr>\n",
       "  </thead>\n",
       "  <tbody>\n",
       "    <tr>\n",
       "      <th>0</th>\n",
       "      <td>tt0285252</td>\n",
       "      <td>nm0899854</td>\n",
       "      <td>Tony Vitale</td>\n",
       "      <td>1964</td>\n",
       "      <td>producer,director,writer</td>\n",
       "    </tr>\n",
       "    <tr>\n",
       "      <th>1</th>\n",
       "      <td>tt0438973</td>\n",
       "      <td>nm0175726</td>\n",
       "      <td>Steve Conrad</td>\n",
       "      <td>1968</td>\n",
       "      <td>writer,producer,director</td>\n",
       "    </tr>\n",
       "    <tr>\n",
       "      <th>2</th>\n",
       "      <td>tt2358925</td>\n",
       "      <td>nm0175726</td>\n",
       "      <td>Steve Conrad</td>\n",
       "      <td>1968</td>\n",
       "      <td>writer,producer,director</td>\n",
       "    </tr>\n",
       "    <tr>\n",
       "      <th>3</th>\n",
       "      <td>tt2543472</td>\n",
       "      <td>nm0175726</td>\n",
       "      <td>Steve Conrad</td>\n",
       "      <td>1968</td>\n",
       "      <td>writer,producer,director</td>\n",
       "    </tr>\n",
       "    <tr>\n",
       "      <th>4</th>\n",
       "      <td>tt0359950</td>\n",
       "      <td>nm0175726</td>\n",
       "      <td>Steve Conrad</td>\n",
       "      <td>1968</td>\n",
       "      <td>writer,producer,director</td>\n",
       "    </tr>\n",
       "  </tbody>\n",
       "</table>\n",
       "</div>"
      ],
      "text/plain": [
       "    movie_id  person_id  primary_name  birth_year        primary_profession\n",
       "0  tt0285252  nm0899854   Tony Vitale        1964  producer,director,writer\n",
       "1  tt0438973  nm0175726  Steve Conrad        1968  writer,producer,director\n",
       "2  tt2358925  nm0175726  Steve Conrad        1968  writer,producer,director\n",
       "3  tt2543472  nm0175726  Steve Conrad        1968  writer,producer,director\n",
       "4  tt0359950  nm0175726  Steve Conrad        1968  writer,producer,director"
      ]
     },
     "execution_count": 55,
     "metadata": {},
     "output_type": "execute_result"
    }
   ],
   "source": [
    "print(f\"Shape of writers_details DataFrame: {writers_details.shape}\")\n",
    "\n",
    "# Display the first few rows of the merged DataFrame\n",
    "writers_details.head()"
   ]
  },
  {
   "cell_type": "markdown",
   "id": "4ba55ce0",
   "metadata": {},
   "source": [
    "We can say that 1 person writes many movies"
   ]
  },
  {
   "cell_type": "code",
   "execution_count": 56,
   "id": "2c39ed0e",
   "metadata": {},
   "outputs": [
    {
     "name": "stdout",
     "output_type": "stream",
     "text": [
      "<class 'pandas.core.frame.DataFrame'>\n",
      "RangeIndex: 1381 entries, 0 to 1380\n",
      "Data columns (total 11 columns):\n",
      " #   Column             Non-Null Count  Dtype  \n",
      "---  ------             --------------  -----  \n",
      " 0   movie_id           1381 non-null   object \n",
      " 1   movie_name         1381 non-null   object \n",
      " 2   release_year       1381 non-null   int64  \n",
      " 3   runtime_minutes    1381 non-null   int64  \n",
      " 4   genres             1381 non-null   object \n",
      " 5   averagerating      1381 non-null   float64\n",
      " 6   numvotes           1381 non-null   int64  \n",
      " 7   release_date       1381 non-null   object \n",
      " 8   production_budget  1381 non-null   int64  \n",
      " 9   domestic_gross     1381 non-null   int64  \n",
      " 10  worldwide_gross    1381 non-null   int64  \n",
      "dtypes: float64(1), int64(6), object(4)\n",
      "memory usage: 118.8+ KB\n"
     ]
    }
   ],
   "source": [
    "# combine movie_budgets and writers_details\n",
    "movie_budgets_df = pd.read_csv('./cleaned_data/movie_budgets.csv')\n",
    "movie_budgets_df.info()"
   ]
  },
  {
   "cell_type": "code",
   "execution_count": 58,
   "id": "75b4e888",
   "metadata": {},
   "outputs": [
    {
     "name": "stdout",
     "output_type": "stream",
     "text": [
      "Shape of the combined DataFrame: (1825, 15)\n"
     ]
    },
    {
     "data": {
      "text/html": [
       "<div>\n",
       "<style scoped>\n",
       "    .dataframe tbody tr th:only-of-type {\n",
       "        vertical-align: middle;\n",
       "    }\n",
       "\n",
       "    .dataframe tbody tr th {\n",
       "        vertical-align: top;\n",
       "    }\n",
       "\n",
       "    .dataframe thead th {\n",
       "        text-align: right;\n",
       "    }\n",
       "</style>\n",
       "<table border=\"1\" class=\"dataframe\">\n",
       "  <thead>\n",
       "    <tr style=\"text-align: right;\">\n",
       "      <th></th>\n",
       "      <th>movie_id</th>\n",
       "      <th>person_id</th>\n",
       "      <th>primary_name</th>\n",
       "      <th>birth_year</th>\n",
       "      <th>primary_profession</th>\n",
       "      <th>movie_name</th>\n",
       "      <th>release_year</th>\n",
       "      <th>runtime_minutes</th>\n",
       "      <th>genres</th>\n",
       "      <th>averagerating</th>\n",
       "      <th>numvotes</th>\n",
       "      <th>release_date</th>\n",
       "      <th>production_budget</th>\n",
       "      <th>domestic_gross</th>\n",
       "      <th>worldwide_gross</th>\n",
       "    </tr>\n",
       "  </thead>\n",
       "  <tbody>\n",
       "    <tr>\n",
       "      <th>0</th>\n",
       "      <td>tt2358925</td>\n",
       "      <td>nm0175726</td>\n",
       "      <td>Steve Conrad</td>\n",
       "      <td>1968</td>\n",
       "      <td>writer,producer,director</td>\n",
       "      <td>unfinished business</td>\n",
       "      <td>2015</td>\n",
       "      <td>91</td>\n",
       "      <td>comedy,drama</td>\n",
       "      <td>5.4</td>\n",
       "      <td>29004</td>\n",
       "      <td>2015-03-06</td>\n",
       "      <td>35000000</td>\n",
       "      <td>10219501</td>\n",
       "      <td>13214051</td>\n",
       "    </tr>\n",
       "    <tr>\n",
       "      <th>1</th>\n",
       "      <td>tt2543472</td>\n",
       "      <td>nm0175726</td>\n",
       "      <td>Steve Conrad</td>\n",
       "      <td>1968</td>\n",
       "      <td>writer,producer,director</td>\n",
       "      <td>wonder</td>\n",
       "      <td>2017</td>\n",
       "      <td>113</td>\n",
       "      <td>drama,family</td>\n",
       "      <td>8.0</td>\n",
       "      <td>111632</td>\n",
       "      <td>2017-11-17</td>\n",
       "      <td>20000000</td>\n",
       "      <td>132422809</td>\n",
       "      <td>304604712</td>\n",
       "    </tr>\n",
       "    <tr>\n",
       "      <th>2</th>\n",
       "      <td>tt2543472</td>\n",
       "      <td>nm2113666</td>\n",
       "      <td>Jack Thorne</td>\n",
       "      <td>1978</td>\n",
       "      <td>writer,producer,actor</td>\n",
       "      <td>wonder</td>\n",
       "      <td>2017</td>\n",
       "      <td>113</td>\n",
       "      <td>drama,family</td>\n",
       "      <td>8.0</td>\n",
       "      <td>111632</td>\n",
       "      <td>2017-11-17</td>\n",
       "      <td>20000000</td>\n",
       "      <td>132422809</td>\n",
       "      <td>304604712</td>\n",
       "    </tr>\n",
       "    <tr>\n",
       "      <th>3</th>\n",
       "      <td>tt2543472</td>\n",
       "      <td>nm0154716</td>\n",
       "      <td>Stephen Chbosky</td>\n",
       "      <td>1970</td>\n",
       "      <td>writer,producer,director</td>\n",
       "      <td>wonder</td>\n",
       "      <td>2017</td>\n",
       "      <td>113</td>\n",
       "      <td>drama,family</td>\n",
       "      <td>8.0</td>\n",
       "      <td>111632</td>\n",
       "      <td>2017-11-17</td>\n",
       "      <td>20000000</td>\n",
       "      <td>132422809</td>\n",
       "      <td>304604712</td>\n",
       "    </tr>\n",
       "    <tr>\n",
       "      <th>4</th>\n",
       "      <td>tt0359950</td>\n",
       "      <td>nm0175726</td>\n",
       "      <td>Steve Conrad</td>\n",
       "      <td>1968</td>\n",
       "      <td>writer,producer,director</td>\n",
       "      <td>the secret life of walter mitty</td>\n",
       "      <td>2013</td>\n",
       "      <td>114</td>\n",
       "      <td>adventure,comedy,drama</td>\n",
       "      <td>7.3</td>\n",
       "      <td>275300</td>\n",
       "      <td>2013-12-25</td>\n",
       "      <td>91000000</td>\n",
       "      <td>58236838</td>\n",
       "      <td>187861183</td>\n",
       "    </tr>\n",
       "  </tbody>\n",
       "</table>\n",
       "</div>"
      ],
      "text/plain": [
       "    movie_id  person_id     primary_name  birth_year  \\\n",
       "0  tt2358925  nm0175726     Steve Conrad        1968   \n",
       "1  tt2543472  nm0175726     Steve Conrad        1968   \n",
       "2  tt2543472  nm2113666      Jack Thorne        1978   \n",
       "3  tt2543472  nm0154716  Stephen Chbosky        1970   \n",
       "4  tt0359950  nm0175726     Steve Conrad        1968   \n",
       "\n",
       "         primary_profession                       movie_name  release_year  \\\n",
       "0  writer,producer,director              unfinished business          2015   \n",
       "1  writer,producer,director                           wonder          2017   \n",
       "2     writer,producer,actor                           wonder          2017   \n",
       "3  writer,producer,director                           wonder          2017   \n",
       "4  writer,producer,director  the secret life of walter mitty          2013   \n",
       "\n",
       "   runtime_minutes                  genres  averagerating  numvotes  \\\n",
       "0               91            comedy,drama            5.4     29004   \n",
       "1              113            drama,family            8.0    111632   \n",
       "2              113            drama,family            8.0    111632   \n",
       "3              113            drama,family            8.0    111632   \n",
       "4              114  adventure,comedy,drama            7.3    275300   \n",
       "\n",
       "  release_date  production_budget  domestic_gross  worldwide_gross  \n",
       "0   2015-03-06           35000000        10219501         13214051  \n",
       "1   2017-11-17           20000000       132422809        304604712  \n",
       "2   2017-11-17           20000000       132422809        304604712  \n",
       "3   2017-11-17           20000000       132422809        304604712  \n",
       "4   2013-12-25           91000000        58236838        187861183  "
      ]
     },
     "execution_count": 58,
     "metadata": {},
     "output_type": "execute_result"
    }
   ],
   "source": [
    "# Merge the two DataFrames on 'movie_id'\n",
    "combined_movie_writers = pd.merge(\n",
    "    writers_details,\n",
    "    movie_budgets_df,\n",
    "    on='movie_id',  # Common column to merge on\n",
    "    how='inner'     # Use 'inner' to keep only matching rows\n",
    ")\n",
    "\n",
    "# Display the shape and the first few rows of the combined DataFrame\n",
    "print(f\"Shape of the combined DataFrame: {combined_movie_writers.shape}\")\n",
    "combined_movie_writers.head()"
   ]
  },
  {
   "cell_type": "markdown",
   "id": "d01f23b8",
   "metadata": {},
   "source": [
    "To group all `person_id` values into a single column for each movie, we modify the code to include both `writers` and `person_id` columns.\n"
   ]
  },
  {
   "cell_type": "code",
   "execution_count": 64,
   "id": "ef966f5c",
   "metadata": {},
   "outputs": [
    {
     "name": "stdout",
     "output_type": "stream",
     "text": [
      "Shape of the combined DataFrame: (957, 17)\n"
     ]
    },
    {
     "data": {
      "text/html": [
       "<div>\n",
       "<style scoped>\n",
       "    .dataframe tbody tr th:only-of-type {\n",
       "        vertical-align: middle;\n",
       "    }\n",
       "\n",
       "    .dataframe tbody tr th {\n",
       "        vertical-align: top;\n",
       "    }\n",
       "\n",
       "    .dataframe thead th {\n",
       "        text-align: right;\n",
       "    }\n",
       "</style>\n",
       "<table border=\"1\" class=\"dataframe\">\n",
       "  <thead>\n",
       "    <tr style=\"text-align: right;\">\n",
       "      <th></th>\n",
       "      <th>movie_id</th>\n",
       "      <th>movie_name</th>\n",
       "      <th>writers</th>\n",
       "      <th>person_ids</th>\n",
       "    </tr>\n",
       "  </thead>\n",
       "  <tbody>\n",
       "    <tr>\n",
       "      <th>0</th>\n",
       "      <td>tt0249516</td>\n",
       "      <td>foodfight!</td>\n",
       "      <td>Sean Catherine Derek, Lawrence Kasanoff, Joshu...</td>\n",
       "      <td>nm0220297, nm0440415, nm0923312, nm0295165</td>\n",
       "    </tr>\n",
       "    <tr>\n",
       "      <th>4</th>\n",
       "      <td>tt0359950</td>\n",
       "      <td>the secret life of walter mitty</td>\n",
       "      <td>Steve Conrad</td>\n",
       "      <td>nm0175726</td>\n",
       "    </tr>\n",
       "    <tr>\n",
       "      <th>5</th>\n",
       "      <td>tt0365907</td>\n",
       "      <td>a walk among the tombstones</td>\n",
       "      <td>Lawrence Block, Scott Frank</td>\n",
       "      <td>nm0088747, nm0291082</td>\n",
       "    </tr>\n",
       "    <tr>\n",
       "      <th>7</th>\n",
       "      <td>tt0369610</td>\n",
       "      <td>jurassic world</td>\n",
       "      <td>Rick Jaffa, Amanda Silver, Colin Trevorrow</td>\n",
       "      <td>nm0415425, nm0798646, nm1119880</td>\n",
       "    </tr>\n",
       "    <tr>\n",
       "      <th>10</th>\n",
       "      <td>tt0376136</td>\n",
       "      <td>the rum diary</td>\n",
       "      <td>Bruce Robinson</td>\n",
       "      <td>nm0732430</td>\n",
       "    </tr>\n",
       "  </tbody>\n",
       "</table>\n",
       "</div>"
      ],
      "text/plain": [
       "     movie_id                       movie_name  \\\n",
       "0   tt0249516                       foodfight!   \n",
       "4   tt0359950  the secret life of walter mitty   \n",
       "5   tt0365907      a walk among the tombstones   \n",
       "7   tt0369610                   jurassic world   \n",
       "10  tt0376136                    the rum diary   \n",
       "\n",
       "                                              writers  \\\n",
       "0   Sean Catherine Derek, Lawrence Kasanoff, Joshu...   \n",
       "4                                        Steve Conrad   \n",
       "5                         Lawrence Block, Scott Frank   \n",
       "7          Rick Jaffa, Amanda Silver, Colin Trevorrow   \n",
       "10                                     Bruce Robinson   \n",
       "\n",
       "                                    person_ids  \n",
       "0   nm0220297, nm0440415, nm0923312, nm0295165  \n",
       "4                                    nm0175726  \n",
       "5                         nm0088747, nm0291082  \n",
       "7              nm0415425, nm0798646, nm1119880  \n",
       "10                                   nm0732430  "
      ]
     },
     "execution_count": 64,
     "metadata": {},
     "output_type": "execute_result"
    }
   ],
   "source": [
    "# Merge writers_details and movie_budgets_df on 'movie_id'\n",
    "combined_movie_writers = pd.merge(\n",
    "    movie_budgets_df,\n",
    "    writers_details,\n",
    "    on='movie_id',  # Common column to merge on\n",
    "    how='inner'     # Use 'inner' to keep only matching rows\n",
    ")\n",
    "\n",
    "# Group by 'movie_id' and aggregate writers into a single column\n",
    "combined_movie_writers['writers'] = combined_movie_writers.groupby('movie_id')['primary_name'].transform(lambda x: ', '.join(x))\n",
    "\n",
    "# Group by 'movie_id' and aggregate person_id into a single column\n",
    "combined_movie_writers['person_ids'] = combined_movie_writers.groupby('movie_id')['person_id'].transform(lambda x: ', '.join(map(str, x)))\n",
    "\n",
    "# Drop duplicate rows to keep only one row per movie\n",
    "combined_movie_writers = combined_movie_writers.drop_duplicates(subset=['movie_id'])\n",
    "\n",
    "# Display the shape and the first few rows of the combined DataFrame\n",
    "print(f\"Shape of the combined DataFrame: {combined_movie_writers.shape}\")\n",
    "combined_movie_writers[['movie_id', 'movie_name', 'writers', 'person_ids']].head()"
   ]
  },
  {
   "cell_type": "markdown",
   "id": "1d34351e",
   "metadata": {},
   "source": [
    "\n",
    "\n",
    "### Explanation:\n",
    "1. **Merge DataFrames**:\n",
    "   - Combines `movie_budgets_df` and `writers_details` on the `movie_id` column using an inner join.\n",
    "\n",
    "2. **Create `writers` Column**:\n",
    "   - Groups rows by `movie_id` and aggregates all writer names (`primary_name`) into a single string, separated by commas.\n",
    "\n",
    "3. **Create `person_ids` Column**:\n",
    "   - Groups rows by `movie_id` and aggregates all `person_id` values into a single string, separated by commas. The `map(str, x)` ensures that `person_id` values are converted to strings before joining.\n",
    "\n",
    "4. **Remove Duplicates**:\n",
    "   - Ensures only one row per `movie_id` remains in the DataFrame.\n",
    "\n",
    "5. **Save to CSV**:\n",
    "   - Saves the resulting DataFrame to a CSV file for further analysis.\n",
    "\n",
    "### Result:\n",
    "The resulting DataFrame will include:\n",
    "- `movie_id`: Unique identifier for each movie.\n",
    "- `movie_name`: Name of the movie.\n",
    "- `writers`: A single column listing all writers for the movie.\n",
    "- `person_ids`: A single column listing all `person_id` values for the writers of the movie."
   ]
  },
  {
   "cell_type": "code",
   "execution_count": 65,
   "id": "1b974eca",
   "metadata": {},
   "outputs": [
    {
     "name": "stdout",
     "output_type": "stream",
     "text": [
      "<class 'pandas.core.frame.DataFrame'>\n",
      "Int64Index: 957 entries, 0 to 1824\n",
      "Data columns (total 17 columns):\n",
      " #   Column              Non-Null Count  Dtype  \n",
      "---  ------              --------------  -----  \n",
      " 0   movie_id            957 non-null    object \n",
      " 1   movie_name          957 non-null    object \n",
      " 2   release_year        957 non-null    int64  \n",
      " 3   runtime_minutes     957 non-null    int64  \n",
      " 4   genres              957 non-null    object \n",
      " 5   averagerating       957 non-null    float64\n",
      " 6   numvotes            957 non-null    int64  \n",
      " 7   release_date        957 non-null    object \n",
      " 8   production_budget   957 non-null    int64  \n",
      " 9   domestic_gross      957 non-null    int64  \n",
      " 10  worldwide_gross     957 non-null    int64  \n",
      " 11  person_id           957 non-null    object \n",
      " 12  primary_name        957 non-null    object \n",
      " 13  birth_year          957 non-null    int64  \n",
      " 14  primary_profession  957 non-null    object \n",
      " 15  writers             957 non-null    object \n",
      " 16  person_ids          957 non-null    object \n",
      "dtypes: float64(1), int64(7), object(9)\n",
      "memory usage: 134.6+ KB\n"
     ]
    }
   ],
   "source": [
    "combined_movie_writers.info()"
   ]
  },
  {
   "cell_type": "code",
   "execution_count": 70,
   "id": "c9fb0f77",
   "metadata": {},
   "outputs": [
    {
     "name": "stdout",
     "output_type": "stream",
     "text": [
      "Shape of the cleaned DataFrame: (957, 13)\n"
     ]
    }
   ],
   "source": [
    "# Drop unnecessary columns\n",
    "columns_to_drop = ['person_id', 'primary_name', 'birth_year', 'primary_profession']\n",
    "combined_movie_writers = combined_movie_writers.drop(columns=columns_to_drop)\n",
    "# Display the shape and the first few rows of the cleaned DataFrame\n",
    "print(f\"Shape of the cleaned DataFrame: {combined_movie_writers.shape}\")"
   ]
  },
  {
   "cell_type": "code",
   "execution_count": 72,
   "id": "008e353c",
   "metadata": {},
   "outputs": [],
   "source": [
    "# display the columns of the combined DataFrame\n",
    "combined_movie_writers.columns\n",
    "\n",
    "# convert release_date to datetime\n",
    "combined_movie_writers['release_date'] = pd.to_datetime(combined_movie_writers['release_date'], errors='coerce')"
   ]
  },
  {
   "cell_type": "code",
   "execution_count": 73,
   "id": "c26740d3",
   "metadata": {},
   "outputs": [],
   "source": [
    "conn.close()"
   ]
  },
  {
   "cell_type": "code",
   "execution_count": 75,
   "id": "db306656",
   "metadata": {},
   "outputs": [
    {
     "name": "stdout",
     "output_type": "stream",
     "text": [
      "<class 'pandas.core.frame.DataFrame'>\n",
      "Int64Index: 957 entries, 0 to 1824\n",
      "Data columns (total 13 columns):\n",
      " #   Column             Non-Null Count  Dtype         \n",
      "---  ------             --------------  -----         \n",
      " 0   movie_id           957 non-null    object        \n",
      " 1   movie_name         957 non-null    object        \n",
      " 2   release_year       957 non-null    int64         \n",
      " 3   runtime_minutes    957 non-null    int64         \n",
      " 4   genres             957 non-null    object        \n",
      " 5   averagerating      957 non-null    float64       \n",
      " 6   numvotes           957 non-null    int64         \n",
      " 7   release_date       957 non-null    datetime64[ns]\n",
      " 8   production_budget  957 non-null    int64         \n",
      " 9   domestic_gross     957 non-null    int64         \n",
      " 10  worldwide_gross    957 non-null    int64         \n",
      " 11  writers            957 non-null    object        \n",
      " 12  person_ids         957 non-null    object        \n",
      "dtypes: datetime64[ns](1), float64(1), int64(6), object(5)\n",
      "memory usage: 104.7+ KB\n"
     ]
    }
   ],
   "source": [
    "combined_movie_writers.info()"
   ]
  },
  {
   "cell_type": "code",
   "execution_count": 76,
   "id": "a0103674",
   "metadata": {},
   "outputs": [
    {
     "name": "stdout",
     "output_type": "stream",
     "text": [
      "Combined data has been saved successfully.\n"
     ]
    }
   ],
   "source": [
    "# # Save the combined DataFrame to a CSV file\n",
    "output_folder = './cleaned_data'\n",
    "os.makedirs(output_folder, exist_ok=True)\n",
    "combined_movie_writers.to_csv(f'{output_folder}/movie_writers.csv', index=False)\n",
    "print(\"Combined data has been saved successfully.\")"
   ]
  }
 ],
 "metadata": {
  "kernelspec": {
   "display_name": "learn-env",
   "language": "python",
   "name": "python3"
  },
  "language_info": {
   "codemirror_mode": {
    "name": "ipython",
    "version": 3
   },
   "file_extension": ".py",
   "mimetype": "text/x-python",
   "name": "python",
   "nbconvert_exporter": "python",
   "pygments_lexer": "ipython3",
   "version": "3.8.5"
  }
 },
 "nbformat": 4,
 "nbformat_minor": 5
}
