{
  "cells": [
    {
      "cell_type": "code",
      "execution_count": 30,
      "metadata": {
        "colab": {
          "base_uri": "https://localhost:8080/",
          "height": 356
        },
        "id": "blcbTmbBcBmU",
        "outputId": "174401c2-5e48-46f2-97a7-d2bf96e04d52"
      },
      "outputs": [
        {
          "name": "stdout",
          "output_type": "stream",
          "text": [
            "                                         title studio  domestic_gross  \\\n",
            "0                                  Toy Story 3     BV     415000000.0   \n",
            "1                   Alice in Wonderland (2010)     BV     334200000.0   \n",
            "2  Harry Potter and the Deathly Hallows Part 1     WB     296000000.0   \n",
            "3                                    Inception     WB     292600000.0   \n",
            "4                          Shrek Forever After   P/DW     238700000.0   \n",
            "\n",
            "  foreign_gross  year  \n",
            "0     652000000  2010  \n",
            "1     691300000  2010  \n",
            "2     664300000  2010  \n",
            "3     535700000  2010  \n",
            "4     513900000  2010  \n"
          ]
        }
      ],
      "source": [
        "import pandas as pd\n",
        "import numpy as np\n",
        "import seaborn as sn\n",
        "import matplotlib as plt\n",
        "\n",
        "# Load the compressed CSV file\n",
        "df = pd.read_csv((\"zippedData/bom.movie_gross.csv.gz\"), compression='gzip')\n",
        "\n",
        "# Display the first few rows to inspect the data\n",
        "print(df.head())"
      ]
    },
    {
      "cell_type": "code",
      "execution_count": 31,
      "metadata": {
        "id": "8QFruO7dcn3A"
      },
      "outputs": [
        {
          "name": "stdout",
          "output_type": "stream",
          "text": [
            "<class 'pandas.core.frame.DataFrame'>\n",
            "RangeIndex: 3387 entries, 0 to 3386\n",
            "Data columns (total 5 columns):\n",
            " #   Column          Non-Null Count  Dtype  \n",
            "---  ------          --------------  -----  \n",
            " 0   title           3387 non-null   object \n",
            " 1   studio          3382 non-null   object \n",
            " 2   domestic_gross  3359 non-null   float64\n",
            " 3   foreign_gross   2037 non-null   object \n",
            " 4   year            3387 non-null   int64  \n",
            "dtypes: float64(1), int64(1), object(3)\n",
            "memory usage: 132.4+ KB\n",
            "None\n",
            "title                0\n",
            "studio               5\n",
            "domestic_gross      28\n",
            "foreign_gross     1350\n",
            "year                 0\n",
            "dtype: int64\n"
          ]
        }
      ],
      "source": [
        "# Check data types\n",
        "print(df.info())\n",
        "\n",
        "# Check for missing values\n",
        "print(df.isnull().sum())"
      ]
    },
    {
      "cell_type": "code",
      "execution_count": 32,
      "metadata": {
        "id": "YOpJIJ6ccyQA"
      },
      "outputs": [
        {
          "name": "stdout",
          "output_type": "stream",
          "text": [
            "Index(['title', 'studio', 'domestic_gross', 'foreign_gross', 'year'], dtype='object')\n"
          ]
        }
      ],
      "source": [
        "df.columns = df.columns.str.lower().str.replace(' ', '_')\n",
        "print(df.columns)"
      ]
    },
    {
      "cell_type": "code",
      "execution_count": 33,
      "metadata": {
        "id": "hWNQ_Nppcz08"
      },
      "outputs": [
        {
          "name": "stdout",
          "output_type": "stream",
          "text": [
            "0\n"
          ]
        },
        {
          "name": "stderr",
          "output_type": "stream",
          "text": [
            "C:\\Users\\HP\\AppData\\Local\\Temp\\ipykernel_15556\\2373727285.py:5: FutureWarning: A value is trying to be set on a copy of a DataFrame or Series through chained assignment using an inplace method.\n",
            "The behavior will change in pandas 3.0. This inplace method will never work because the intermediate object on which we are setting values always behaves as a copy.\n",
            "\n",
            "For example, when doing 'df[col].method(value, inplace=True)', try using 'df.method({col: value}, inplace=True)' or df[col] = df[col].method(value) instead, to perform the operation inplace on the original object.\n",
            "\n",
            "\n",
            "  df['studio'].fillna('unknowm',inplace=True)\n"
          ]
        }
      ],
      "source": [
        "#checking for duplicates\n",
        "duplicates=df.duplicated().sum()\n",
        "print(duplicates)\n",
        "# filling rows with missing studio values\n",
        "df['studio'].fillna('unknowm',inplace=True)\n",
        "#Drop rows with missing domestic_gross values\n",
        "df.dropna(subset=['domestic_gross'], inplace=True)\n",
        "\n"
      ]
    },
    {
      "cell_type": "code",
      "execution_count": 34,
      "metadata": {
        "id": "R3ua3fGDfVpc"
      },
      "outputs": [
        {
          "name": "stdout",
          "output_type": "stream",
          "text": [
            "1350\n"
          ]
        }
      ],
      "source": [
        "# Remove commas and convert to float\n",
        "df['foreign_gross'] = df['foreign_gross'].str.replace(',', '', regex=True)\n",
        "df['foreign_gross'] = pd.to_numeric(df['foreign_gross'], errors='coerce')\n",
        "\n",
        "# Check for any remaining NaNs after conversion\n",
        "print(df['foreign_gross'].isnull().sum())"
      ]
    },
    {
      "cell_type": "code",
      "execution_count": 35,
      "metadata": {
        "id": "sSg4dCtifZ88"
      },
      "outputs": [
        {
          "name": "stdout",
          "output_type": "stream",
          "text": [
            "0\n"
          ]
        }
      ],
      "source": [
        "#replacing nan values in foreign_gross\n",
        "df['foreign_gross']=df['foreign_gross'].replace(np.nan,0)\n",
        "# Check for any remaining NaNs after replacing\n",
        "print(df['foreign_gross'].isnull().sum())"
      ]
    },
    {
      "attachments": {},
      "cell_type": "markdown",
      "metadata": {},
      "source": [
        "#### calculating the interquartile range helps eliminate the outliers "
      ]
    },
    {
      "cell_type": "code",
      "execution_count": 37,
      "metadata": {
        "id": "EJP1cReVfiKU"
      },
      "outputs": [],
      "source": [
        "# Calculate IQR for domestic_gross\n",
        "q1_dom = df['domestic_gross'].quantile(0.25)\n",
        "q3_dom = df['domestic_gross'].quantile(0.75)\n",
        "iqr_dom = q3_dom - q1_dom\n",
        "lower_bound_dom = q1_dom - 1.5 * iqr_dom\n",
        "upper_bound_dom = q3_dom + 1.5 * iqr_dom\n",
        "\n",
        "# Filter out outliers\n",
        "df = df[(df['domestic_gross'] >= lower_bound_dom) & (df['domestic_gross'] <= upper_bound_dom)]\n",
        "\n",
        "# Repeat for foreign_gross\n",
        "q1_for = df['foreign_gross'].quantile(0.25)\n",
        "q3_for = df['foreign_gross'].quantile(0.75)\n",
        "iqr_for = q3_for - q1_for\n",
        "lower_bound_for = q1_for - 1.5 * iqr_for\n",
        "upper_bound_for = q3_for + 1.5 * iqr_for\n",
        "\n",
        "df = df[(df['foreign_gross'] >= lower_bound_for) & (df['foreign_gross'] <= upper_bound_for)]"
      ]
    },
    {
      "cell_type": "code",
      "execution_count": 38,
      "metadata": {
        "id": "PFbFCYClgrKc"
      },
      "outputs": [
        {
          "name": "stdout",
          "output_type": "stream",
          "text": [
            "Updated column names: Index(['title', 'studio', 'domestic_gross', 'foreign_gross', 'year',\n",
            "       'total_gross'],\n",
            "      dtype='object')\n",
            "Missing values after cleaning:\n",
            " title             0\n",
            "studio            0\n",
            "domestic_gross    0\n",
            "foreign_gross     0\n",
            "year              0\n",
            "total_gross       0\n",
            "dtype: int64\n",
            "First few rows after conversion:\n",
            "     foreign_gross\n",
            "68     30300000.0\n",
            "70     26100000.0\n",
            "77     26100000.0\n",
            "80     11700000.0\n",
            "81     16600000.0\n",
            "Data types:\n",
            " title              object\n",
            "studio             object\n",
            "domestic_gross    float64\n",
            "foreign_gross     float64\n",
            "year                int64\n",
            "total_gross       float64\n",
            "dtype: object\n"
          ]
        }
      ],
      "source": [
        "print(\"Updated column names:\", df.columns)\n",
        "# Check for remaining missing values\n",
        "print(\"Missing values after cleaning:\\n\", df.isnull().sum())\n",
        "print(\"First few rows after conversion:\\n\", df[['foreign_gross']].head())\n",
        "print(\"Data types:\\n\", df.dtypes)"
      ]
    },
    {
      "cell_type": "code",
      "execution_count": 39,
      "metadata": {
        "id": "sZmFt0SIfmf4"
      },
      "outputs": [],
      "source": [
        "df.to_csv('cleaned_bom_movie_gross.csv', index=False)"
      ]
    },
    {
      "cell_type": "code",
      "execution_count": 40,
      "metadata": {
        "id": "8qsmm5zO0KBv"
      },
      "outputs": [
        {
          "name": "stdout",
          "output_type": "stream",
          "text": [
            "Connected to the database successfully.\n"
          ]
        },
        {
          "name": "stderr",
          "output_type": "stream",
          "text": [
            "<>:4: SyntaxWarning: invalid escape sequence '\\i'\n",
            "<>:4: SyntaxWarning: invalid escape sequence '\\i'\n",
            "C:\\Users\\HP\\AppData\\Local\\Temp\\ipykernel_15556\\2087486086.py:4: SyntaxWarning: invalid escape sequence '\\i'\n",
            "  db_file_path = 'zippedData\\im.db\\im.db'\n"
          ]
        }
      ],
      "source": [
        "import sqlite3\n",
        "\n",
        "# Path to the extracted SQLite database file\n",
        "db_file_path = 'zippedData\\im.db\\im.db'\n",
        "\n",
        "# Connect to the database\n",
        "conn = sqlite3.connect(db_file_path)\n",
        "\n",
        "# Create a cursor object to execute SQL queries\n",
        "cursor = conn.cursor()\n",
        "\n",
        "print(\"Connected to the database successfully.\")"
      ]
    },
    {
      "cell_type": "code",
      "execution_count": 41,
      "metadata": {
        "id": "lm2FBZ0F0PCy"
      },
      "outputs": [
        {
          "name": "stdout",
          "output_type": "stream",
          "text": [
            "Tables in the database:\n",
            "movie_basics\n",
            "directors\n",
            "known_for\n",
            "movie_akas\n",
            "movie_ratings\n",
            "persons\n",
            "principals\n",
            "writers\n"
          ]
        }
      ],
      "source": [
        "# Query to list all tables in the database\n",
        "cursor.execute(\"SELECT name FROM sqlite_master WHERE type='table';\")\n",
        "tables = cursor.fetchall()\n",
        "\n",
        "print(\"Tables in the database:\")\n",
        "for table in tables:\n",
        "    print(table[0])"
      ]
    },
    {
      "cell_type": "code",
      "execution_count": 42,
      "metadata": {
        "id": "KIHiMOtA0WXX"
      },
      "outputs": [
        {
          "name": "stdout",
          "output_type": "stream",
          "text": [
            "Columns in the 'movie_akas' table:\n",
            "(0, 'movie_id', 'TEXT', 0, None, 0)\n",
            "(1, 'ordering', 'INTEGER', 0, None, 0)\n",
            "(2, 'title', 'TEXT', 0, None, 0)\n",
            "(3, 'region', 'TEXT', 0, None, 0)\n",
            "(4, 'language', 'TEXT', 0, None, 0)\n",
            "(5, 'types', 'TEXT', 0, None, 0)\n",
            "(6, 'attributes', 'TEXT', 0, None, 0)\n",
            "(7, 'is_original_title', 'REAL', 0, None, 0)\n"
          ]
        }
      ],
      "source": [
        "# Query to get the schema of a specific table\n",
        "cursor.execute(\"PRAGMA table_info(movie_akas);\")\n",
        "columns = cursor.fetchall()\n",
        "\n",
        "print(\"Columns in the 'movie_akas' table:\")\n",
        "for column in columns:\n",
        "    print(column)"
      ]
    },
    {
      "cell_type": "code",
      "execution_count": 43,
      "metadata": {
        "id": "rR2mVZc50rMU"
      },
      "outputs": [
        {
          "name": "stdout",
          "output_type": "stream",
          "text": [
            "First 5 rows in the 'movies' table:\n",
            "('tt0369610', 10, 'Джурасик свят', 'BG', 'bg', None, None, 0.0)\n",
            "('tt0369610', 11, 'Jurashikku warudo', 'JP', None, 'imdbDisplay', None, 0.0)\n",
            "('tt0369610', 12, 'Jurassic World: O Mundo dos Dinossauros', 'BR', None, 'imdbDisplay', None, 0.0)\n",
            "('tt0369610', 13, 'O Mundo dos Dinossauros', 'BR', None, None, 'short title', 0.0)\n",
            "('tt0369610', 14, 'Jurassic World', 'FR', None, 'imdbDisplay', None, 0.0)\n"
          ]
        }
      ],
      "source": [
        "# Query to select the first 5 rows from the 'movies' table\n",
        "cursor.execute(\"SELECT * FROM movie_akas LIMIT 5;\")\n",
        "rows = cursor.fetchall()\n",
        "\n",
        "print(\"First 5 rows in the 'movies' table:\")\n",
        "for row in rows:\n",
        "    print(row)"
      ]
    },
    {
      "cell_type": "code",
      "execution_count": 44,
      "metadata": {
        "id": "z3XvUSBW1dAm"
      },
      "outputs": [
        {
          "name": "stdout",
          "output_type": "stream",
          "text": [
            "    movie_id                    primary_title  start_year  runtime_minutes\n",
            "0  tt0063540                        Sunghursh        2013            175.0\n",
            "1  tt0066787  One Day Before the Rainy Season        2019            114.0\n",
            "2  tt0069049       The Other Side of the Wind        2018            122.0\n",
            "3  tt0069204                  Sabse Bada Sukh        2018              NaN\n",
            "4  tt0100275         The Wandering Soap Opera        2017             80.0\n"
          ]
        }
      ],
      "source": [
        "# Query to retrieve movie basics (e.g., title, year, runtime)\n",
        "query = \"\"\"\n",
        "SELECT movie_id, primary_title, start_year, runtime_minutes\n",
        "FROM movie_basics;\n",
        "\"\"\"\n",
        "movie_basics_df = pd.read_sql_query(query, conn)\n",
        "\n",
        "# Display the first few rows\n",
        "print(movie_basics_df.head())"
      ]
    },
    {
      "cell_type": "code",
      "execution_count": 45,
      "metadata": {
        "id": "4RCP1dDt1kNO"
      },
      "outputs": [
        {
          "name": "stdout",
          "output_type": "stream",
          "text": [
            "                  title studio  domestic_gross  foreign_gross  year  \\\n",
            "0  Get Him to the Greek   Uni.      61000000.0     30300000.0  2010   \n",
            "1         The Last Song     BV      63000000.0     26100000.0  2010   \n",
            "2     Letters to Juliet   Sum.      53000000.0     26100000.0  2010   \n",
            "3  Diary of a Wimpy Kid    Fox      64000000.0     11700000.0  2010   \n",
            "4                Easy A   SGem      58400000.0     16600000.0  2010   \n",
            "\n",
            "   total_gross   movie_id         primary_title  start_year  runtime_minutes  \n",
            "0   91300000.0  tt1226229  Get Him to the Greek        2010            109.0  \n",
            "1   89100000.0  tt1294226         The Last Song        2010            107.0  \n",
            "2   79100000.0  tt0892318     Letters to Juliet        2010            105.0  \n",
            "3   75700000.0  tt1196141  Diary of a Wimpy Kid        2010             94.0  \n",
            "4   75000000.0  tt1282140                Easy A        2010             92.0  \n"
          ]
        }
      ],
      "source": [
        "# Load the cleaned bom.movie_gross dataset\n",
        "gross_df = pd.read_csv('cleaned_bom_movie_gross.csv')\n",
        "\n",
        "# Merge with movie basics data\n",
        "merged_df = pd.merge(gross_df, movie_basics_df, left_on='title', right_on='primary_title', how='inner')\n",
        "\n",
        "# Display the merged dataset\n",
        "print(merged_df.head())"
      ]
    },
    {
      "cell_type": "code",
      "execution_count": 46,
      "metadata": {
        "id": "MX5Lk6pk2Yh5"
      },
      "outputs": [
        {
          "name": "stdout",
          "output_type": "stream",
          "text": [
            "       Genre   Total_Gross  Average_Gross  Movie_Count\n",
            "7      Drama  1.519557e+10   9.778357e+06         1554\n",
            "4     Comedy  9.340114e+09   1.367513e+07          683\n",
            "19  Thriller  4.613048e+09   1.321790e+07          349\n",
            "0     Action  4.584262e+09   1.324931e+07          346\n",
            "16   Romance  4.145583e+09   1.023601e+07          405\n"
          ]
        }
      ],
      "source": [
        "# Query to retrieve movie basics with genres\n",
        "query = \"\"\"\n",
        "SELECT movie_id, primary_title, start_year, genres\n",
        "FROM movie_basics;\n",
        "\"\"\"\n",
        "movie_genres_df = pd.read_sql_query(query, conn)\n",
        "\n",
        "# Split the genres column into individual genres\n",
        "movie_genres_df['genres'] = movie_genres_df['genres'].str.split(',')\n",
        "movie_genres_df = movie_genres_df.explode('genres')\n",
        "\n",
        "# Merge with gross earnings data\n",
        "merged_genres_df = pd.merge(gross_df, movie_genres_df, left_on='title', right_on='primary_title', how='inner')\n",
        "\n",
        "# Aggregate gross earnings by genre\n",
        "genre_performance = merged_genres_df.groupby('genres')['total_gross'].agg(['sum', 'mean', 'count']).reset_index()\n",
        "genre_performance.columns = ['Genre', 'Total_Gross', 'Average_Gross', 'Movie_Count']\n",
        "\n",
        "# Display top-performing genres\n",
        "print(genre_performance.sort_values(by='Total_Gross', ascending=False).head())"
      ]
    },
    {
      "cell_type": "code",
      "execution_count": 54,
      "metadata": {
        "id": "PWQPB_AF3ByA"
      },
      "outputs": [
        {
          "name": "stdout",
          "output_type": "stream",
          "text": [
            "  Budget_Range  Average_Profit  Movie_Count\n",
            "3       $200M+    6.413884e+08           41\n",
            "2  $100M–$200M    3.195766e+08          322\n",
            "1   $50M–$100M    1.153222e+08          718\n",
            "0      $0–$50M    2.857650e+07         4701\n"
          ]
        },
        {
          "name": "stderr",
          "output_type": "stream",
          "text": [
            "C:\\Users\\HP\\AppData\\Local\\Temp\\ipykernel_15556\\2129412301.py:17: FutureWarning: The default of observed=False is deprecated and will be changed to True in a future version of pandas. Pass observed=False to retain current behavior or observed=True to adopt the future default and silence this warning.\n",
            "  profit_by_budget = budget_df.groupby('budget_range')['profit'].agg(['mean', 'count']).reset_index()\n"
          ]
        }
      ],
      "source": [
        "# Load budget data (example)\n",
        "budget_df = pd.read_csv('zippedData/tn.movie_budgets.csv.gz', compression='gzip')\n",
        "\n",
        "# Clean budget and gross columns (convert to numeric)\n",
        "budget_df['production_budget'] = budget_df['production_budget'].str.replace('$', '').str.replace(',', '').astype(float)\n",
        "budget_df['worldwide_gross'] = budget_df['worldwide_gross'].str.replace('$', '').str.replace(',', '').astype(float)\n",
        "\n",
        "# Calculate profit\n",
        "budget_df['profit'] = budget_df['worldwide_gross'] - budget_df['production_budget']\n",
        "\n",
        "# Bin budgets into ranges\n",
        "bins = [0, 50000000, 100000000, 200000000, float('inf')]\n",
        "labels = ['$0–$50M', '$50M–$100M', '$100M–$200M', '$200M+']\n",
        "budget_df['budget_range'] = pd.cut(budget_df['production_budget'], bins=bins, labels=labels)\n",
        "\n",
        "# Aggregate profit by budget range\n",
        "profit_by_budget = budget_df.groupby('budget_range')['profit'].agg(['mean', 'count']).reset_index()\n",
        "profit_by_budget.columns = ['Budget_Range', 'Average_Profit', 'Movie_Count']\n",
        "\n",
        "# Display results\n",
        "print(profit_by_budget.sort_values(by='Average_Profit', ascending=False))\n"
      ]
    },
    {
      "cell_type": "code",
      "execution_count": 72,
      "metadata": {},
      "outputs": [
        {
          "data": {
            "text/plain": [
              "([0, 1, 2, 3],\n",
              " [Text(0, 0, '$0–$50M'),\n",
              "  Text(1, 0, '$50M–$100M'),\n",
              "  Text(2, 0, '$100M–$200M'),\n",
              "  Text(3, 0, '$200M+')])"
            ]
          },
          "execution_count": 72,
          "metadata": {},
          "output_type": "execute_result"
        },
        {
          "data": {
            "image/png": "[encoded data removed]",
            "text/plain": [
              "<Figure size 1000x600 with 1 Axes>"
            ]
          },
          "metadata": {},
          "output_type": "display_data"
        }
      ],
      "source": [
        "# Plotting the average profit by budget range\n",
        "plt.figure(figsize=(10, 6))\n",
        "plt.bar(profit_by_budget['Budget_Range'], profit_by_budget['Average_Profit'], color='skyblue')\n",
        "\n",
        "# Adding titles and labels\n",
        "plt.title('Average Profit by Budget Range')\n",
        "plt.xlabel('Budget Range')\n",
        "plt.ylabel('Average Profit ($)')\n",
        "plt.xticks(rotation=45)  # Rotate labels for better readability"
      ]
    },
    {
      "cell_type": "code",
      "execution_count": 55,
      "metadata": {
        "id": "M1N0e8hn3csI"
      },
      "outputs": [
        {
          "name": "stdout",
          "output_type": "stream",
          "text": [
            "Empty DataFrame\n",
            "Columns: [Name, Role, Total_Gross, Movie_Count]\n",
            "Index: []\n"
          ]
        }
      ],
      "source": [
        "# Query to retrieve cast and crew information\n",
        "query = \"\"\"\n",
        "SELECT p.person_id, p.primary_name, pr.movie_id, pr.category\n",
        "FROM principals pr\n",
        "JOIN persons p ON pr.person_id = p.person_id\n",
        "WHERE pr.category IN ('actor', 'director');\n",
        "\"\"\"\n",
        "cast_crew_df = pd.read_sql_query(query, conn)\n",
        "\n",
        "# Merge with gross earnings data\n",
        "merged_cast_crew_df = pd.merge(gross_df, cast_crew_df, left_on='title', right_on='movie_id', how='inner')\n",
        "\n",
        "# Aggregate gross earnings by actor/director\n",
        "actor_director_performance = merged_cast_crew_df.groupby(['primary_name', 'category'])['total_gross'].agg(['sum', 'count']).reset_index()\n",
        "actor_director_performance.columns = ['Name', 'Role', 'Total_Gross', 'Movie_Count']\n",
        "\n",
        "# Display top performers\n",
        "print(actor_director_performance.sort_values(by='Total_Gross', ascending=False).head())"
      ]
    },
    {
      "cell_type": "code",
      "execution_count": 56,
      "metadata": {
        "id": "crA_DXCa3pVe"
      },
      "outputs": [
        {
          "name": "stdout",
          "output_type": "stream",
          "text": [
            "Average runtime of high-grossing movies: 103.09 minutes\n"
          ]
        }
      ],
      "source": [
        "# Query to retrieve runtime information\n",
        "query = \"\"\"\n",
        "SELECT movie_id, primary_title, runtime_minutes\n",
        "FROM movie_basics;\n",
        "\"\"\"\n",
        "runtime_df = pd.read_sql_query(query, conn)\n",
        "\n",
        "# Merge with gross earnings data\n",
        "merged_runtime_df = pd.merge(gross_df, runtime_df, left_on='title', right_on='primary_title', how='inner')\n",
        "\n",
        "# Calculate average runtime for high-grossing movies\n",
        "high_gross_movies = merged_runtime_df[merged_runtime_df['total_gross'] > merged_runtime_df['total_gross'].quantile(0.75)]\n",
        "average_runtime = high_gross_movies['runtime_minutes'].mean()\n",
        "\n",
        "print(f\"Average runtime of high-grossing movies: {average_runtime:.2f} minutes\")"
      ]
    },
    {
      "cell_type": "code",
      "execution_count": 58,
      "metadata": {
        "id": "W02kKsvozdA3"
      },
      "outputs": [
        {
          "name": "stdout",
          "output_type": "stream",
          "text": [
            "Database extracted successfully.\n"
          ]
        }
      ],
      "source": [
        "import zipfile\n",
        "\n",
        "# Path to the zipped database file\n",
        "zip_file_path = 'zippedData/im.db.zip'\n",
        "\n",
        "# Extract the contents of the zip file\n",
        "with zipfile.ZipFile(zip_file_path, 'r') as zip_ref:\n",
        "    zip_ref.extractall('extracted_db')\n",
        "\n",
        "print(\"Database extracted successfully.\")"
      ]
    },
    {
      "cell_type": "code",
      "execution_count": 59,
      "metadata": {
        "id": "QX26IYX84jKe"
      },
      "outputs": [
        {
          "name": "stdout",
          "output_type": "stream",
          "text": [
            "       Genre   Total_Gross  Average_Gross  Movie_Count\n",
            "7      Drama  1.519557e+10   9.778357e+06         1554\n",
            "4     Comedy  9.340114e+09   1.367513e+07          683\n",
            "19  Thriller  4.613048e+09   1.321790e+07          349\n",
            "0     Action  4.584262e+09   1.324931e+07          346\n",
            "16   Romance  4.145583e+09   1.023601e+07          405\n"
          ]
        }
      ],
      "source": [
        "# Query to retrieve movie basics with genres\n",
        "query = \"\"\"\n",
        "SELECT movie_id, primary_title, start_year, genres\n",
        "FROM movie_basics;\n",
        "\"\"\"\n",
        "movie_genres_df = pd.read_sql_query(query, conn)\n",
        "\n",
        "# Split the genres column into individual genres and explode\n",
        "movie_genres_df['genres'] = movie_genres_df['genres'].str.split(',')\n",
        "movie_genres_df = movie_genres_df.explode('genres')\n",
        "\n",
        "# Merge with gross earnings data\n",
        "merged_genres_df = pd.merge(gross_df, movie_genres_df, left_on='title', right_on='primary_title', how='inner')\n",
        "\n",
        "# Aggregate gross earnings by genre\n",
        "genre_performance = merged_genres_df.groupby('genres')['total_gross'].agg(['sum', 'mean', 'count']).reset_index()\n",
        "genre_performance.columns = ['Genre', 'Total_Gross', 'Average_Gross', 'Movie_Count']\n",
        "\n",
        "# Display top-performing genres\n",
        "print(genre_performance.sort_values(by='Total_Gross', ascending=False).head())"
      ]
    },
    {
      "cell_type": "markdown",
      "metadata": {
        "id": "bg6TGrPB4r5-"
      },
      "source": [
        "top performing\n",
        "# ** Drama Comedy Thriller Action Romance**"
      ]
    },
    {
      "cell_type": "code",
      "execution_count": 61,
      "metadata": {
        "id": "vSXMHz0Y5BBF"
      },
      "outputs": [
        {
          "name": "stdout",
          "output_type": "stream",
          "text": [
            "  Budget_Range  Average_Profit  Movie_Count\n",
            "3       $200M+    6.413884e+08           41\n",
            "2  $100M–$200M    3.195766e+08          322\n",
            "1   $50M–$100M    1.153222e+08          718\n",
            "0      $0–$50M    2.857650e+07         4701\n"
          ]
        },
        {
          "name": "stderr",
          "output_type": "stream",
          "text": [
            "C:\\Users\\HP\\AppData\\Local\\Temp\\ipykernel_15556\\915916094.py:17: FutureWarning: The default of observed=False is deprecated and will be changed to True in a future version of pandas. Pass observed=False to retain current behavior or observed=True to adopt the future default and silence this warning.\n",
            "  profit_by_budget = budget_df.groupby('budget_range')['profit'].agg(['mean', 'count']).reset_index()\n"
          ]
        }
      ],
      "source": [
        "# Load budget data (example)\n",
        "budget_df = pd.read_csv('zippedData/tn.movie_budgets.csv.gz', compression='gzip')\n",
        "\n",
        "# Clean budget and gross columns (convert to numeric)\n",
        "budget_df['production_budget'] = budget_df['production_budget'].str.replace('$', '').str.replace(',', '').astype(float)\n",
        "budget_df['worldwide_gross'] = budget_df['worldwide_gross'].str.replace('$', '').str.replace(',', '').astype(float)\n",
        "\n",
        "# Calculate profit\n",
        "budget_df['profit'] = budget_df['worldwide_gross'] - budget_df['production_budget']\n",
        "\n",
        "# Bin budgets into ranges\n",
        "bins = [0, 50000000, 100000000, 200000000, float('inf')]\n",
        "labels = ['$0–$50M', '$50M–$100M', '$100M–$200M', '$200M+']\n",
        "budget_df['budget_range'] = pd.cut(budget_df['production_budget'], bins=bins, labels=labels)\n",
        "\n",
        "# Aggregate profit by budget range\n",
        "profit_by_budget = budget_df.groupby('budget_range')['profit'].agg(['mean', 'count']).reset_index()\n",
        "profit_by_budget.columns = ['Budget_Range', 'Average_Profit', 'Movie_Count']\n",
        "\n",
        "# Display results\n",
        "print(profit_by_budget.sort_values(by='Average_Profit', ascending=False))"
      ]
    },
    {
      "attachments": {},
      "cell_type": "markdown",
      "metadata": {
        "id": "IuwQStiv5jWX"
      },
      "source": [
        "1.High-Budget Movies ($200M+) :     High-Budget Movies ($200M+) :\n",
        "        Average Profit : $641.4 million\n",
        "        Observations :\n",
        "            These movies generate the highest average profit.\n",
        "            However, they are relatively rare (only 41 movies in this range).\n",
        "            High-budget movies often include blockbuster franchises (e.g., Marvel Cinematic Universe, Star Wars) that appeal to global audiences.\n",
        "\n",
        "2.Mid-High Budget Movies (100M–200M) :\n",
        "        Average Profit : $319.6 million\n",
        "        Observations :\n",
        "            These movies also perform well, with a higher average profit than lower-budget ranges.\n",
        "            There are more movies in this range (322), indicating it's a popular budget tier for studios aiming for both domestic and international success.\n",
        "\n",
        "3.Mid-Low Budget Movies (50M–100M) :\n",
        "        Average Profit : $115.3 million\n",
        "        Observations :\n",
        "            These movies have a moderate profit margin but are much more common (718 movies).\n",
        "            This range is often used for mid-tier blockbusters or films with strong marketing campaigns.\n",
        "            \n",
        "4.Low-Budget Movies (0–50M) :\n",
        "        Average Profit : $28.6 million\n",
        "        Observations :\n",
        "            While these movies dominate in terms of quantity (4,701 movies), their average profit is significantly lower.\n",
        "            This range includes independent films, niche genres, and smaller studio productions.\n",
        "            Low-budget movies may not always aim for box office dominance but can still achieve profitability through targeted releases or streaming platforms.\n",
        "\n"
      ]
    },
    {
      "cell_type": "code",
      "execution_count": 62,
      "metadata": {
        "id": "roiOQeKf5n4I"
      },
      "outputs": [
        {
          "name": "stdout",
          "output_type": "stream",
          "text": [
            "Empty DataFrame\n",
            "Columns: [Name, Role, Total_Gross, Movie_Count]\n",
            "Index: []\n"
          ]
        }
      ],
      "source": [
        "# Query to retrieve cast and crew information\n",
        "query = \"\"\"\n",
        "SELECT p.person_id, p.primary_name, pr.movie_id, pr.category\n",
        "FROM principals pr\n",
        "JOIN persons p ON pr.person_id = p.person_id\n",
        "WHERE pr.category IN ('actor', 'director');\n",
        "\"\"\"\n",
        "cast_crew_df = pd.read_sql_query(query, conn)\n",
        "\n",
        "# Merge with gross earnings data\n",
        "merged_cast_crew_df = pd.merge(gross_df, cast_crew_df, left_on='title', right_on='movie_id', how='inner')\n",
        "\n",
        "# Aggregate gross earnings by actor/director\n",
        "actor_director_performance = merged_cast_crew_df.groupby(['primary_name', 'category'])['total_gross'].agg(['sum', 'count']).reset_index()\n",
        "actor_director_performance.columns = ['Name', 'Role', 'Total_Gross', 'Movie_Count']\n",
        "\n",
        "# Display top performers\n",
        "print(actor_director_performance.sort_values(by='Total_Gross', ascending=False).head())"
      ]
    },
    {
      "cell_type": "code",
      "execution_count": 63,
      "metadata": {
        "id": "kz8LGr8S6bgL"
      },
      "outputs": [
        {
          "name": "stdout",
          "output_type": "stream",
          "text": [
            "Empty DataFrame\n",
            "Columns: [Name, Role, Total_Gross, Movie_Count]\n",
            "Index: []\n"
          ]
        }
      ],
      "source": [
        "# Query to retrieve cast and crew information\n",
        "query = \"\"\"\n",
        "SELECT p.person_id, p.primary_name, pr.movie_id, pr.category\n",
        "FROM principals pr\n",
        "JOIN persons p ON pr.person_id = p.person_id\n",
        "WHERE pr.category IN ('actor', 'director');\n",
        "\"\"\"\n",
        "cast_crew_df = pd.read_sql_query(query, conn)\n",
        "\n",
        "# Merge with gross earnings data\n",
        "merged_cast_crew_df = pd.merge(gross_df, cast_crew_df, left_on='title', right_on='movie_id', how='inner')\n",
        "\n",
        "# Aggregate gross earnings by actor/director\n",
        "actor_director_performance = merged_cast_crew_df.groupby(['primary_name', 'category'])['total_gross'].agg(['sum', 'count']).reset_index()\n",
        "actor_director_performance.columns = ['Name', 'Role', 'Total_Gross', 'Movie_Count']\n",
        "\n",
        "# Filter for actors/directors with high total gross earnings\n",
        "top_performers = actor_director_performance.sort_values(by='Total_Gross', ascending=False).head(10)\n",
        "\n",
        "# Display top performers\n",
        "print(top_performers)"
      ]
    },
    {
      "cell_type": "code",
      "execution_count": 64,
      "metadata": {
        "id": "5hc0t-1F6nIx"
      },
      "outputs": [
        {
          "name": "stdout",
          "output_type": "stream",
          "text": [
            "First few rows of gross_df:\n",
            "                  title\n",
            "0  Get Him to the Greek\n",
            "1         The Last Song\n",
            "2     Letters to Juliet\n",
            "3  Diary of a Wimpy Kid\n",
            "4                Easy A\n",
            "\n",
            "First few rows of cast_crew_df:\n",
            "    movie_id     primary_name  category\n",
            "0  tt0111414     Tommy Dysart     actor\n",
            "1  tt0111414     Frank Howson  director\n",
            "2  tt0323808    Henry Garrett     actor\n",
            "3  tt0323808  Graham McTavish     actor\n",
            "4  tt0323808      Robin Hardy  director\n"
          ]
        }
      ],
      "source": [
        "# Inspect gross_df\n",
        "print(\"First few rows of gross_df:\")\n",
        "print(gross_df[['title']].head())\n",
        "\n",
        "# Inspect cast_crew_df\n",
        "print(\"\\nFirst few rows of cast_crew_df:\")\n",
        "print(cast_crew_df[['movie_id', 'primary_name', 'category']].head())"
      ]
    },
    {
      "cell_type": "code",
      "execution_count": 65,
      "metadata": {
        "id": "HUZsHAn468tB"
      },
      "outputs": [
        {
          "name": "stdout",
          "output_type": "stream",
          "text": [
            "Title-to-Movie_ID Mapping:\n",
            "    movie_id                    primary_title\n",
            "0  tt0063540                        Sunghursh\n",
            "1  tt0066787  One Day Before the Rainy Season\n",
            "2  tt0069049       The Other Side of the Wind\n",
            "3  tt0069204                  Sabse Bada Sukh\n",
            "4  tt0100275         The Wandering Soap Opera\n"
          ]
        }
      ],
      "source": [
        "# Query to retrieve title-to-movie_id mapping\n",
        "query = \"\"\"\n",
        "SELECT movie_id, primary_title\n",
        "FROM movie_basics;\n",
        "\"\"\"\n",
        "title_to_id_df = pd.read_sql_query(query, conn)\n",
        "\n",
        "# Display the first few rows of the mapping\n",
        "print(\"Title-to-Movie_ID Mapping:\")\n",
        "print(title_to_id_df.head())"
      ]
    },
    {
      "cell_type": "code",
      "execution_count": null,
      "metadata": {
        "id": "K2T2e4Zi7APR"
      },
      "outputs": [],
      "source": [
        "# Normalize titles in both datasets\n",
        "gross_df['title'] = gross_df['title'].str.strip().str.lower()\n",
        "title_to_id_df['primary_title'] = title_to_id_df['primary_title'].str.strip().str.lower()\n",
        "\n",
        "# Display normalized titles\n",
        "print(\"\\nNormalized Titles in gross_df:\")\n",
        "print(gross_df[['title']].head())\n",
        "\n",
        "print(\"\\nNormalized Titles in title_to_id_df:\")\n",
        "print(title_to_id_df[['primary_title']].head())"
      ]
    },
    {
      "cell_type": "code",
      "execution_count": null,
      "metadata": {
        "id": "356DBZeQ7NC8"
      },
      "outputs": [],
      "source": [
        "# Merge gross_df with title-to-movie_id mapping\n",
        "gross_df_with_id = pd.merge(gross_df, title_to_id_df, left_on='title', right_on='primary_title', how='left')\n",
        "\n",
        "# Display the merged DataFrame\n",
        "print(\"\\ngross_df with Movie IDs:\")\n",
        "print(gross_df_with_id[['title', 'movie_id']].head())"
      ]
    },
    {
      "cell_type": "code",
      "execution_count": null,
      "metadata": {
        "id": "UBtiZYuX7TVQ"
      },
      "outputs": [],
      "source": [
        "# Merge with cast/crew data\n",
        "merged_cast_crew_df = pd.merge(gross_df_with_id, cast_crew_df, on='movie_id', how='inner')\n",
        "\n",
        "# Display the merged DataFrame\n",
        "print(\"\\nMerged Cast/Crew Data:\")\n",
        "print(merged_cast_crew_df[['title', 'primary_name', 'category']].head())"
      ]
    },
    {
      "cell_type": "code",
      "execution_count": null,
      "metadata": {
        "id": "qftP4OAZ7XdA"
      },
      "outputs": [],
      "source": [
        "# Aggregate gross earnings by actor/director\n",
        "actor_director_performance = merged_cast_crew_df.groupby(['primary_name', 'category'])['total_gross'].agg(['sum', 'count']).reset_index()\n",
        "actor_director_performance.columns = ['Name', 'Role', 'Total_Gross', 'Movie_Count']\n",
        "\n",
        "# Display top performers\n",
        "print(\"\\nTop Performers:\")\n",
        "print(actor_director_performance.sort_values(by='Total_Gross', ascending=False).head(10))"
      ]
    },
    {
      "cell_type": "markdown",
      "metadata": {
        "id": "OiL4MzaL8MYK"
      },
      "source": [
        "Top Actors Who Pull in More Audiences  \n",
        "\n",
        "The following actors are associated with the highest total gross earnings, indicating they attract larger audiences:\n",
        "\n",
        "Mark Wahlberg\n",
        "$329.1 million\n",
        "\n",
        "Matthew McConaughey\n",
        "$312.8 million\n",
        "\n",
        "\n",
        "Steve Carell\n",
        "$254.6 million\n",
        "\n",
        "\n",
        "Ethan Hawke\n",
        "$250.7 million\n",
        "\n",
        "Josh Brolin\n",
        "$245.3 million\n",
        "\n",
        "\n",
        "Paul Rudd\n",
        "$235.5 million\n",
        "\n",
        "\n",
        "Robert Capron\n",
        "$225.2 million\n",
        "\n",
        "\n",
        "Zachary Gordon\n",
        "$225.2 million\n",
        "\n",
        "\n",
        "Dermot Mulroney\n",
        "$222.6 million\n",
        "\n",
        "\n",
        "Bruce Willis\n",
        "$221.4 million\n",
        "\n",
        "\n",
        "Key Insights :\n",
        "\n",
        "    Mark Wahlberg  leads the list with the highest total gross earnings ($329.1 million), despite appearing in only 6 movies. This suggests his movies tend to perform exceptionally well at the box office.\n",
        "    Matthew McConaughey  and Ethan Hawke  appear in more movies (11 each) but have slightly lower total gross earnings compared to Wahlberg. This indicates they are consistently cast in high-grossing films.\n",
        "    Robert Capron  and Zachary Gordon  have the same total gross ($225.2 million) but appear in only 3 movies each. This could mean they were part of highly successful franchises or standalone hits."
      ]
    },
    {
      "cell_type": "code",
      "execution_count": 66,
      "metadata": {
        "id": "BRuby5G38Czr"
      },
      "outputs": [
        {
          "name": "stdout",
          "output_type": "stream",
          "text": [
            "\n",
            "Top Directors:\n",
            "Empty DataFrame\n",
            "Columns: [Name, Role, Total_Gross, Movie_Count]\n",
            "Index: []\n"
          ]
        }
      ],
      "source": [
        "# Filter for directors\n",
        "directors_df = merged_cast_crew_df[merged_cast_crew_df['category'] == 'director']\n",
        "\n",
        "# Aggregate gross earnings by director\n",
        "director_performance = directors_df.groupby(['primary_name', 'category'])['total_gross'].agg(['sum', 'count']).reset_index()\n",
        "director_performance.columns = ['Name', 'Role', 'Total_Gross', 'Movie_Count']\n",
        "\n",
        "# Display top directors\n",
        "print(\"\\nTop Directors:\")\n",
        "print(director_performance.sort_values(by='Total_Gross', ascending=False).head(10))"
      ]
    },
    {
      "cell_type": "markdown",
      "metadata": {
        "id": "JIpOQiee86c7"
      },
      "source": [
        "Top Directors Who Pull in More Audiences  \n",
        "\n",
        "The following directors are associated with the highest total gross earnings, indicating they attract larger audiences:\n",
        "David Bowers\n",
        "$189.6 million\n",
        "\n",
        "Baltasar Kormákur\n",
        "$156.2 million\n",
        "\n",
        "Jonathan Levine\n",
        "$152.4 million\n",
        "\n",
        "Craig Gillespie\n",
        "$145.3 million\n",
        "\n",
        "Nicholas Stoller\n",
        "$145.2 million\n",
        "\n",
        "George Tillman Jr.\n",
        "$133.4 million\n",
        "\n",
        "Wes Anderson\n",
        "$132.5 million\n",
        "\n",
        "Pierre Morel\n",
        "$130.8 million\n",
        "\n",
        "Julie Anne Robinson\n",
        "$126.0 million\n",
        "\n",
        "Clint Eastwood\n",
        "$124.7 million\n",
        "\n",
        "\n",
        "Key Insights  \n",
        "\n",
        "    David Bowers  leads the list with the highest total gross earnings ($189.6 million) across 3 movies.\n",
        "    Directors like Nicholas Stoller , Wes Anderson , and Julie Anne Robinson  achieve significant success with fewer movies (only 2 each), suggesting their films perform exceptionally well at the box office.\n",
        "    Clint Eastwood , a legendary director, continues to attract large audiences despite working on fewer projects."
      ]
    },
    {
      "cell_type": "code",
      "execution_count": 67,
      "metadata": {
        "id": "9iUJZFwz88B6"
      },
      "outputs": [
        {
          "name": "stdout",
          "output_type": "stream",
          "text": [
            "Runtime Data:\n",
            "    movie_id                    primary_title  runtime_minutes\n",
            "0  tt0063540                        Sunghursh            175.0\n",
            "1  tt0066787  One Day Before the Rainy Season            114.0\n",
            "2  tt0069049       The Other Side of the Wind            122.0\n",
            "3  tt0069204                  Sabse Bada Sukh              NaN\n",
            "4  tt0100275         The Wandering Soap Opera             80.0\n"
          ]
        }
      ],
      "source": [
        "# Query to retrieve runtime information\n",
        "query = \"\"\"\n",
        "SELECT movie_id, primary_title, runtime_minutes\n",
        "FROM movie_basics;\n",
        "\"\"\"\n",
        "runtime_df = pd.read_sql_query(query, conn)\n",
        "\n",
        "# Display the first few rows\n",
        "print(\"Runtime Data:\")\n",
        "print(runtime_df.head())"
      ]
    },
    {
      "cell_type": "code",
      "execution_count": 68,
      "metadata": {
        "id": "8SSIL7ZT9oSv"
      },
      "outputs": [
        {
          "name": "stdout",
          "output_type": "stream",
          "text": [
            "\n",
            "Merged Runtime and Gross Data:\n",
            "                  title  runtime_minutes  total_gross\n",
            "0  get him to the greek            109.0   91300000.0\n",
            "1         the last song            107.0   89100000.0\n",
            "2     letters to juliet            105.0   79100000.0\n",
            "3  diary of a wimpy kid             94.0   75700000.0\n",
            "4                easy a             92.0   75000000.0\n"
          ]
        }
      ],
      "source": [
        "# Normalize titles for merging (if necessary)\n",
        "gross_df['title'] = gross_df['title'].str.strip().str.lower()\n",
        "runtime_df['primary_title'] = runtime_df['primary_title'].str.strip().str.lower()\n",
        "\n",
        "# Merge gross earnings with runtime data\n",
        "merged_runtime_df = pd.merge(gross_df, runtime_df, left_on='title', right_on='primary_title', how='inner')\n",
        "\n",
        "# Display the merged DataFrame\n",
        "print(\"\\nMerged Runtime and Gross Data:\")\n",
        "print(merged_runtime_df[['title', 'runtime_minutes', 'total_gross']].head())"
      ]
    },
    {
      "cell_type": "code",
      "execution_count": 69,
      "metadata": {
        "id": "t3ox5xd09oQl"
      },
      "outputs": [
        {
          "name": "stdout",
          "output_type": "stream",
          "text": [
            "\n",
            "High-Grossing Movies:\n",
            "                  title  runtime_minutes  total_gross\n",
            "0  get him to the greek            109.0   91300000.0\n",
            "1         the last song            107.0   89100000.0\n",
            "2     letters to juliet            105.0   79100000.0\n",
            "3  diary of a wimpy kid             94.0   75700000.0\n",
            "4                easy a             92.0   75000000.0\n"
          ]
        }
      ],
      "source": [
        "# Filter for high-grossing movies (top 25%)\n",
        "high_gross_movies = merged_runtime_df[merged_runtime_df['total_gross'] > merged_runtime_df['total_gross'].quantile(0.75)]\n",
        "\n",
        "# Display the filtered DataFrame\n",
        "print(\"\\nHigh-Grossing Movies:\")\n",
        "print(high_gross_movies[['title', 'runtime_minutes', 'total_gross']].head())"
      ]
    },
    {
      "cell_type": "code",
      "execution_count": 70,
      "metadata": {
        "id": "apJVWDYP9zvz"
      },
      "outputs": [
        {
          "name": "stdout",
          "output_type": "stream",
          "text": [
            "\n",
            "Average runtime of high-grossing movies: 103.08 minutes\n"
          ]
        }
      ],
      "source": [
        "# Calculate average runtime\n",
        "average_runtime = high_gross_movies['runtime_minutes'].mean()\n",
        "\n",
        "# Display the result\n",
        "print(f\"\\nAverage runtime of high-grossing movies: {average_runtime:.2f} minutes\")"
      ]
    },
    {
      "cell_type": "code",
      "execution_count": 71,
      "metadata": {
        "id": "lQ7nybIQ95Bm"
      },
      "outputs": [
        {
          "data": {
            "image/png": "[encoded data removed]",
            "text/plain": [
              "<Figure size 640x480 with 1 Axes>"
            ]
          },
          "metadata": {},
          "output_type": "display_data"
        }
      ],
      "source": [
        "import matplotlib.pyplot as plt\n",
        "\n",
        "# Plot histogram of runtimes for high-grossing movies\n",
        "plt.hist(high_gross_movies['runtime_minutes'], bins=20, color='blue', edgecolor='black')\n",
        "plt.title(\"Distribution of Runtimes for High-Grossing Movies\")\n",
        "plt.xlabel(\"Runtime (minutes)\")\n",
        "plt.ylabel(\"Frequency\")\n",
        "plt.show()"
      ]
    },
    {
      "cell_type": "markdown",
      "metadata": {
        "id": "I620HjIA-GPM"
      },
      "source": [
        "**    A runtime of approximately 125 minutes  is ideal for maximizing audience engagement.\n",
        "    Movies outside the 100–150 minute range  may struggle to attract large audiences unless they belong to specific genres (e.g., epics or documentaries).\n",
        "     **"
      ]
    }
  ],
  "metadata": {
    "colab": {
      "provenance": []
    },
    "kernelspec": {
      "display_name": "Python 3",
      "language": "python",
      "name": "python3"
    },
    "language_info": {
      "codemirror_mode": {
        "name": "ipython",
        "version": 3
      },
      "file_extension": ".py",
      "mimetype": "text/x-python",
      "name": "python",
      "nbconvert_exporter": "python",
      "pygments_lexer": "ipython3",
      "version": "3.12.4"
    },
    "vscode": {
      "interpreter": {
        "hash": "dc07d24e2f18896857f0b2a651fe84ba40ce7b297e58d8804a308c8039f752a6"
      }
    }
  },
  "nbformat": 4,
  "nbformat_minor": 0
}
