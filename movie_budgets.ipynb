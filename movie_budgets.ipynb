{
 "cells": [
  {
   "cell_type": "code",
   "execution_count": 2,
   "id": "846efdb7",
   "metadata": {},
   "outputs": [],
   "source": [
    "# import libraries\n",
    "import pandas as pd\n",
    "import numpy as np\n",
    "import matplotlib.pyplot as plt\n",
    "import seaborn as sns\n",
    "import sqlite3\n",
    "import os\n",
    "%matplotlib inline"
   ]
  },
  {
   "cell_type": "code",
   "execution_count": 4,
   "id": "d18f221d",
   "metadata": {},
   "outputs": [],
   "source": [
    "## TN MOVIE BUDGETS"
   ]
  },
  {
   "cell_type": "code",
   "execution_count": 5,
   "id": "2f99af4b",
   "metadata": {},
   "outputs": [
    {
     "name": "stdout",
     "output_type": "stream",
     "text": [
      "<class 'pandas.core.frame.DataFrame'>\n",
      "RangeIndex: 5782 entries, 0 to 5781\n",
      "Data columns (total 6 columns):\n",
      " #   Column             Non-Null Count  Dtype \n",
      "---  ------             --------------  ----- \n",
      " 0   id                 5782 non-null   int64 \n",
      " 1   release_date       5782 non-null   object\n",
      " 2   movie              5782 non-null   object\n",
      " 3   production_budget  5782 non-null   object\n",
      " 4   domestic_gross     5782 non-null   object\n",
      " 5   worldwide_gross    5782 non-null   object\n",
      "dtypes: int64(1), object(5)\n",
      "memory usage: 271.2+ KB\n"
     ]
    }
   ],
   "source": [
    "movie_budgets_df = pd.read_csv('./zippedData/tn.movie_budgets.csv.gz', encoding='utf-8')\n",
    "movie_budgets_df.info()"
   ]
  },
  {
   "cell_type": "code",
   "execution_count": 6,
   "id": "580ecd94",
   "metadata": {},
   "outputs": [
    {
     "name": "stdout",
     "output_type": "stream",
     "text": [
      "Index(['id', 'release_date', 'movie_name', 'production_budget',\n",
      "       'domestic_gross', 'worldwide_gross'],\n",
      "      dtype='object')\n",
      "id                            int64\n",
      "release_date         datetime64[ns]\n",
      "movie_name                   object\n",
      "production_budget            object\n",
      "domestic_gross               object\n",
      "worldwide_gross              object\n",
      "dtype: object\n"
     ]
    }
   ],
   "source": [
    "# Rename 'movie' column to 'movie_name'\n",
    "movie_budgets_df.rename(columns={'movie': 'movie_name'}, inplace=True)\n",
    "\n",
    "# Convert 'release_date' to datetime format\n",
    "movie_budgets_df['release_date'] = pd.to_datetime(movie_budgets_df['release_date'])\n",
    "\n",
    "# Standardize the 'movie_name' column\n",
    "movie_budgets_df['movie_name'] = movie_budgets_df['movie_name'].str.strip().str.lower()\n",
    "\n",
    "# Display the updated column names\n",
    "print(movie_budgets_df.columns)\n",
    "# Display the updated DataFrame\n",
    "print(movie_budgets_df.dtypes)"
   ]
  },
  {
   "cell_type": "code",
   "execution_count": 7,
   "id": "2354c77d",
   "metadata": {},
   "outputs": [
    {
     "data": {
      "text/plain": [
       "id                   0\n",
       "release_date         0\n",
       "movie_name           0\n",
       "production_budget    0\n",
       "domestic_gross       0\n",
       "worldwide_gross      0\n",
       "dtype: int64"
      ]
     },
     "execution_count": 7,
     "metadata": {},
     "output_type": "execute_result"
    }
   ],
   "source": [
    "movie_budgets_df.isna().sum()"
   ]
  },
  {
   "cell_type": "markdown",
   "id": "71a26478",
   "metadata": {},
   "source": [
    "### Explanation:\n",
    "1. **Extract Year**: The `dt.year` attribute extracts the year from the `release_date` column.\n",
    "2. **Identify Duplicates**: The `duplicated()` method identifies duplicate `movie_name` entries.\n",
    "3. **Update Names**: For duplicates, the `movie_name` is updated by appending the release year in parentheses.\n",
    "\n",
    "This ensures that duplicate movie names are uniquely identified by their release year."
   ]
  },
  {
   "cell_type": "code",
   "execution_count": 8,
   "id": "162bc5c5",
   "metadata": {},
   "outputs": [
    {
     "name": "stdout",
     "output_type": "stream",
     "text": [
      "                                    movie_name  release_year\n",
      "0                                       avatar          2009\n",
      "1  pirates of the caribbean: on stranger tides          2011\n",
      "2                                 dark phoenix          2019\n",
      "3                      avengers: age of ultron          2015\n",
      "4            star wars ep. viii: the last jedi          2017\n"
     ]
    }
   ],
   "source": [
    "# Extract the year from the 'release_date' column\n",
    "movie_budgets_df['release_year'] = movie_budgets_df['release_date'].dt.year\n",
    "\n",
    "# Check for duplicates in 'movie_name'\n",
    "duplicates = movie_budgets_df[movie_budgets_df.duplicated(subset=['movie_name'], keep=False)]\n",
    "\n",
    "# Update 'movie_name' for duplicates by appending the release year\n",
    "movie_budgets_df.loc[duplicates.index, 'movie_name'] = (\n",
    "    movie_budgets_df.loc[duplicates.index, 'movie_name'] + \n",
    "    \" (\" + movie_budgets_df.loc[duplicates.index, 'release_year'].astype(str) + \")\"\n",
    ")\n",
    "\n",
    "# Display the updated DataFrame\n",
    "print(movie_budgets_df[['movie_name', 'release_year']].head())"
   ]
  },
  {
   "cell_type": "code",
   "execution_count": 9,
   "id": "87fa8149",
   "metadata": {},
   "outputs": [
    {
     "name": "stdout",
     "output_type": "stream",
     "text": [
      "Number of movies with 'avenger' in the name: 2\n"
     ]
    },
    {
     "data": {
      "text/html": [
       "<div>\n",
       "<style scoped>\n",
       "    .dataframe tbody tr th:only-of-type {\n",
       "        vertical-align: middle;\n",
       "    }\n",
       "\n",
       "    .dataframe tbody tr th {\n",
       "        vertical-align: top;\n",
       "    }\n",
       "\n",
       "    .dataframe thead th {\n",
       "        text-align: right;\n",
       "    }\n",
       "</style>\n",
       "<table border=\"1\" class=\"dataframe\">\n",
       "  <thead>\n",
       "    <tr style=\"text-align: right;\">\n",
       "      <th></th>\n",
       "      <th>movie_name</th>\n",
       "      <th>release_year</th>\n",
       "    </tr>\n",
       "  </thead>\n",
       "  <tbody>\n",
       "    <tr>\n",
       "      <th>26</th>\n",
       "      <td>the avengers (2012)</td>\n",
       "      <td>2012</td>\n",
       "    </tr>\n",
       "    <tr>\n",
       "      <th>934</th>\n",
       "      <td>the avengers (1998)</td>\n",
       "      <td>1998</td>\n",
       "    </tr>\n",
       "  </tbody>\n",
       "</table>\n",
       "</div>"
      ],
      "text/plain": [
       "              movie_name  release_year\n",
       "26   the avengers (2012)          2012\n",
       "934  the avengers (1998)          1998"
      ]
     },
     "execution_count": 9,
     "metadata": {},
     "output_type": "execute_result"
    }
   ],
   "source": [
    "# Filter movie names containing the word 'avenger'\n",
    "avenger_movies = movie_budgets_df[movie_budgets_df['movie_name'].str.contains('the avenger', case=False, na=False)]\n",
    "\n",
    "# Display the filtered DataFrame\n",
    "print(f\"Number of movies with 'avenger' in the name: {avenger_movies.shape[0]}\")\n",
    "avenger_movies[['movie_name', 'release_year']].head()"
   ]
  },
  {
   "cell_type": "code",
   "execution_count": 10,
   "id": "7c9d1ffd",
   "metadata": {},
   "outputs": [
    {
     "name": "stdout",
     "output_type": "stream",
     "text": [
      "id                            int64\n",
      "release_date         datetime64[ns]\n",
      "movie_name                   object\n",
      "production_budget             Int64\n",
      "domestic_gross                Int64\n",
      "worldwide_gross               Int64\n",
      "release_year                  int64\n",
      "dtype: object\n"
     ]
    },
    {
     "data": {
      "text/html": [
       "<div>\n",
       "<style scoped>\n",
       "    .dataframe tbody tr th:only-of-type {\n",
       "        vertical-align: middle;\n",
       "    }\n",
       "\n",
       "    .dataframe tbody tr th {\n",
       "        vertical-align: top;\n",
       "    }\n",
       "\n",
       "    .dataframe thead th {\n",
       "        text-align: right;\n",
       "    }\n",
       "</style>\n",
       "<table border=\"1\" class=\"dataframe\">\n",
       "  <thead>\n",
       "    <tr style=\"text-align: right;\">\n",
       "      <th></th>\n",
       "      <th>id</th>\n",
       "      <th>release_date</th>\n",
       "      <th>movie_name</th>\n",
       "      <th>production_budget</th>\n",
       "      <th>domestic_gross</th>\n",
       "      <th>worldwide_gross</th>\n",
       "      <th>release_year</th>\n",
       "    </tr>\n",
       "  </thead>\n",
       "  <tbody>\n",
       "    <tr>\n",
       "      <th>0</th>\n",
       "      <td>1</td>\n",
       "      <td>2009-12-18</td>\n",
       "      <td>avatar</td>\n",
       "      <td>425000000</td>\n",
       "      <td>760507625</td>\n",
       "      <td>2776345279</td>\n",
       "      <td>2009</td>\n",
       "    </tr>\n",
       "    <tr>\n",
       "      <th>1</th>\n",
       "      <td>2</td>\n",
       "      <td>2011-05-20</td>\n",
       "      <td>pirates of the caribbean: on stranger tides</td>\n",
       "      <td>410600000</td>\n",
       "      <td>241063875</td>\n",
       "      <td>1045663875</td>\n",
       "      <td>2011</td>\n",
       "    </tr>\n",
       "    <tr>\n",
       "      <th>2</th>\n",
       "      <td>3</td>\n",
       "      <td>2019-06-07</td>\n",
       "      <td>dark phoenix</td>\n",
       "      <td>350000000</td>\n",
       "      <td>42762350</td>\n",
       "      <td>149762350</td>\n",
       "      <td>2019</td>\n",
       "    </tr>\n",
       "    <tr>\n",
       "      <th>3</th>\n",
       "      <td>4</td>\n",
       "      <td>2015-05-01</td>\n",
       "      <td>avengers: age of ultron</td>\n",
       "      <td>330600000</td>\n",
       "      <td>459005868</td>\n",
       "      <td>1403013963</td>\n",
       "      <td>2015</td>\n",
       "    </tr>\n",
       "    <tr>\n",
       "      <th>4</th>\n",
       "      <td>5</td>\n",
       "      <td>2017-12-15</td>\n",
       "      <td>star wars ep. viii: the last jedi</td>\n",
       "      <td>317000000</td>\n",
       "      <td>620181382</td>\n",
       "      <td>1316721747</td>\n",
       "      <td>2017</td>\n",
       "    </tr>\n",
       "  </tbody>\n",
       "</table>\n",
       "</div>"
      ],
      "text/plain": [
       "   id release_date                                   movie_name  \\\n",
       "0   1   2009-12-18                                       avatar   \n",
       "1   2   2011-05-20  pirates of the caribbean: on stranger tides   \n",
       "2   3   2019-06-07                                 dark phoenix   \n",
       "3   4   2015-05-01                      avengers: age of ultron   \n",
       "4   5   2017-12-15            star wars ep. viii: the last jedi   \n",
       "\n",
       "   production_budget  domestic_gross  worldwide_gross  release_year  \n",
       "0          425000000       760507625       2776345279          2009  \n",
       "1          410600000       241063875       1045663875          2011  \n",
       "2          350000000        42762350        149762350          2019  \n",
       "3          330600000       459005868       1403013963          2015  \n",
       "4          317000000       620181382       1316721747          2017  "
      ]
     },
     "execution_count": 10,
     "metadata": {},
     "output_type": "execute_result"
    }
   ],
   "source": [
    "# Remove special characters ('$' and ',') and convert to Int64\n",
    "movie_budgets_df['production_budget'] = pd.to_numeric(\n",
    "    movie_budgets_df['production_budget'].astype(str).str.replace('[\\$,]', '', regex=True), errors='coerce'\n",
    ").astype('Int64')\n",
    "\n",
    "movie_budgets_df['domestic_gross'] = pd.to_numeric(\n",
    "    movie_budgets_df['domestic_gross'].astype(str).str.replace('[\\$,]', '', regex=True), errors='coerce'\n",
    ").astype('Int64')\n",
    "\n",
    "movie_budgets_df['worldwide_gross'] = pd.to_numeric(\n",
    "    movie_budgets_df['worldwide_gross'].astype(str).str.replace('[\\$,]', '', regex=True), errors='coerce'\n",
    ").astype('Int64')\n",
    "\n",
    "# Display the updated DataFrame\n",
    "print(movie_budgets_df.dtypes)\n",
    "movie_budgets_df.head()"
   ]
  },
  {
   "cell_type": "code",
   "execution_count": 11,
   "id": "69790608",
   "metadata": {},
   "outputs": [
    {
     "name": "stdout",
     "output_type": "stream",
     "text": [
      "Shape after dropping rows with production_budget < 0: (5782, 7)\n"
     ]
    }
   ],
   "source": [
    "# Drop rows where 'production_budget' is less than 0\n",
    "movie_budgets_df = movie_budgets_df[movie_budgets_df['production_budget'] >= 0]\n",
    "\n",
    "# Display the updated DataFrame\n",
    "print(f\"Shape after dropping rows with production_budget < 0: {movie_budgets_df.shape}\")"
   ]
  },
  {
   "cell_type": "code",
   "execution_count": 24,
   "id": "a636095b",
   "metadata": {},
   "outputs": [
    {
     "name": "stdout",
     "output_type": "stream",
     "text": [
      "Shape after dropping rows with zero gross: (5415, 7)\n"
     ]
    }
   ],
   "source": [
    "# Drop rows where both 'domestic_gross' and 'worldwide_gross' are 0\n",
    "movie_budgets_df = movie_budgets_df[\n",
    "    ~((movie_budgets_df['domestic_gross'] == 0) & (movie_budgets_df['worldwide_gross'] == 0))\n",
    "]\n",
    "\n",
    "# Display the updated DataFrame shape\n",
    "print(f\"Shape after dropping rows with zero gross: {movie_budgets_df.shape}\")"
   ]
  },
  {
   "cell_type": "code",
   "execution_count": 31,
   "id": "ec0e095d",
   "metadata": {},
   "outputs": [
    {
     "name": "stdout",
     "output_type": "stream",
     "text": [
      "DataFrames have been successfully saved to the 'extracted' folder.\n"
     ]
    }
   ],
   "source": [
    "output_folder = './cleaned_data'\n",
    "os.makedirs(output_folder, exist_ok=True)\n",
    "\n",
    "# Save movie_basics_df to a CSV file\n",
    "movie_budgets_df.to_csv(f'{output_folder}/movie_budgets_df.csv', index=False)\n",
    "\n",
    "print(\"DataFrames have been successfully saved to the 'extracted' folder.\")"
   ]
  },
  {
   "cell_type": "code",
   "execution_count": null,
   "id": "22bdadcb",
   "metadata": {},
   "outputs": [],
   "source": []
  },
  {
   "cell_type": "markdown",
   "id": "7a9d40db",
   "metadata": {},
   "source": [
    "## COMBINE SQL DATA WITH MOVIE BUDGETS"
   ]
  },
  {
   "cell_type": "markdown",
   "id": "d81e24d8",
   "metadata": {},
   "source": [
    "To combine movies_df.csv and movie_budgets_df, you can use the following code:"
   ]
  },
  {
   "cell_type": "code",
   "execution_count": 34,
   "id": "9affff0d",
   "metadata": {},
   "outputs": [
    {
     "name": "stdout",
     "output_type": "stream",
     "text": [
      "<class 'pandas.core.frame.DataFrame'>\n",
      "RangeIndex: 10010 entries, 0 to 10009\n",
      "Data columns (total 7 columns):\n",
      " #   Column           Non-Null Count  Dtype  \n",
      "---  ------           --------------  -----  \n",
      " 0   movie_id         10010 non-null  object \n",
      " 1   primary_title    10010 non-null  object \n",
      " 2   start_year       10010 non-null  int64  \n",
      " 3   runtime_minutes  10010 non-null  int64  \n",
      " 4   genres           10010 non-null  object \n",
      " 5   averagerating    10010 non-null  float64\n",
      " 6   numvotes         10010 non-null  int64  \n",
      "dtypes: float64(1), int64(3), object(3)\n",
      "memory usage: 547.5+ KB\n",
      "-----------------------------\n",
      "<class 'pandas.core.frame.DataFrame'>\n",
      "RangeIndex: 5415 entries, 0 to 5414\n",
      "Data columns (total 7 columns):\n",
      " #   Column             Non-Null Count  Dtype \n",
      "---  ------             --------------  ----- \n",
      " 0   id                 5415 non-null   int64 \n",
      " 1   release_date       5415 non-null   object\n",
      " 2   movie_name         5415 non-null   object\n",
      " 3   production_budget  5415 non-null   int64 \n",
      " 4   domestic_gross     5415 non-null   int64 \n",
      " 5   worldwide_gross    5415 non-null   int64 \n",
      " 6   release_year       5415 non-null   int64 \n",
      "dtypes: int64(5), object(2)\n",
      "memory usage: 296.3+ KB\n"
     ]
    }
   ],
   "source": [
    "# Load the cleaned movies_df.csv\n",
    "movies_df = pd.read_csv('./cleaned_data/movies_df.csv')\n",
    "movie_budgets_df = pd.read_csv('./cleaned_data/movie_budgets_df.csv')\n",
    "\n",
    "movies_df.info()\n",
    "print('-----------------------------')\n",
    "movie_budgets_df.info()"
   ]
  },
  {
   "cell_type": "code",
   "execution_count": 39,
   "id": "e1f95dd3",
   "metadata": {},
   "outputs": [
    {
     "data": {
      "text/html": [
       "<div>\n",
       "<style scoped>\n",
       "    .dataframe tbody tr th:only-of-type {\n",
       "        vertical-align: middle;\n",
       "    }\n",
       "\n",
       "    .dataframe tbody tr th {\n",
       "        vertical-align: top;\n",
       "    }\n",
       "\n",
       "    .dataframe thead th {\n",
       "        text-align: right;\n",
       "    }\n",
       "</style>\n",
       "<table border=\"1\" class=\"dataframe\">\n",
       "  <thead>\n",
       "    <tr style=\"text-align: right;\">\n",
       "      <th></th>\n",
       "      <th>movie_id</th>\n",
       "      <th>primary_title</th>\n",
       "      <th>start_year</th>\n",
       "      <th>runtime_minutes</th>\n",
       "      <th>genres</th>\n",
       "      <th>averagerating</th>\n",
       "      <th>numvotes</th>\n",
       "    </tr>\n",
       "  </thead>\n",
       "  <tbody>\n",
       "    <tr>\n",
       "      <th>0</th>\n",
       "      <td>tt0069049</td>\n",
       "      <td>the other side of the wind</td>\n",
       "      <td>2018</td>\n",
       "      <td>122</td>\n",
       "      <td>drama</td>\n",
       "      <td>6.9</td>\n",
       "      <td>4517</td>\n",
       "    </tr>\n",
       "    <tr>\n",
       "      <th>1</th>\n",
       "      <td>tt0249516</td>\n",
       "      <td>foodfight!</td>\n",
       "      <td>2012</td>\n",
       "      <td>91</td>\n",
       "      <td>action,animation,comedy</td>\n",
       "      <td>1.9</td>\n",
       "      <td>8248</td>\n",
       "    </tr>\n",
       "    <tr>\n",
       "      <th>2</th>\n",
       "      <td>tt0315642</td>\n",
       "      <td>wazir</td>\n",
       "      <td>2016</td>\n",
       "      <td>103</td>\n",
       "      <td>action,crime,drama</td>\n",
       "      <td>7.1</td>\n",
       "      <td>15378</td>\n",
       "    </tr>\n",
       "    <tr>\n",
       "      <th>3</th>\n",
       "      <td>tt0323808</td>\n",
       "      <td>the wicker tree</td>\n",
       "      <td>2011</td>\n",
       "      <td>96</td>\n",
       "      <td>drama,horror</td>\n",
       "      <td>3.9</td>\n",
       "      <td>2328</td>\n",
       "    </tr>\n",
       "    <tr>\n",
       "      <th>4</th>\n",
       "      <td>tt0326965</td>\n",
       "      <td>in my sleep</td>\n",
       "      <td>2010</td>\n",
       "      <td>104</td>\n",
       "      <td>drama,mystery,thriller</td>\n",
       "      <td>5.5</td>\n",
       "      <td>1889</td>\n",
       "    </tr>\n",
       "  </tbody>\n",
       "</table>\n",
       "</div>"
      ],
      "text/plain": [
       "    movie_id               primary_title  start_year  runtime_minutes  \\\n",
       "0  tt0069049  the other side of the wind        2018              122   \n",
       "1  tt0249516                  foodfight!        2012               91   \n",
       "2  tt0315642                       wazir        2016              103   \n",
       "3  tt0323808             the wicker tree        2011               96   \n",
       "4  tt0326965                 in my sleep        2010              104   \n",
       "\n",
       "                    genres  averagerating  numvotes  \n",
       "0                    drama            6.9      4517  \n",
       "1  action,animation,comedy            1.9      8248  \n",
       "2       action,crime,drama            7.1     15378  \n",
       "3             drama,horror            3.9      2328  \n",
       "4   drama,mystery,thriller            5.5      1889  "
      ]
     },
     "execution_count": 39,
     "metadata": {},
     "output_type": "execute_result"
    }
   ],
   "source": [
    "movies_df.head()\n",
    "# print('-----------------------------')\n",
    "# movies_df.head()"
   ]
  },
  {
   "cell_type": "code",
   "execution_count": 40,
   "id": "e48c97e0",
   "metadata": {},
   "outputs": [],
   "source": [
    "# change primary_title to movie_name, start_year to release_year\n",
    "movies_df.rename(columns={'primary_title': 'movie_name', 'start_year': 'release_year'}, inplace=True)\n",
    "\n",
    "# Convert 'release_year' to datetime format\n",
    "movies_df['release_year'] = pd.to_datetime(movies_df['release_year'], format='%Y', errors='coerce')"
   ]
  },
  {
   "cell_type": "code",
   "execution_count": 41,
   "id": "d76482e8",
   "metadata": {},
   "outputs": [
    {
     "name": "stdout",
     "output_type": "stream",
     "text": [
      "Shape of the combined DataFrame: (1426, 13)\n"
     ]
    },
    {
     "data": {
      "text/html": [
       "<div>\n",
       "<style scoped>\n",
       "    .dataframe tbody tr th:only-of-type {\n",
       "        vertical-align: middle;\n",
       "    }\n",
       "\n",
       "    .dataframe tbody tr th {\n",
       "        vertical-align: top;\n",
       "    }\n",
       "\n",
       "    .dataframe thead th {\n",
       "        text-align: right;\n",
       "    }\n",
       "</style>\n",
       "<table border=\"1\" class=\"dataframe\">\n",
       "  <thead>\n",
       "    <tr style=\"text-align: right;\">\n",
       "      <th></th>\n",
       "      <th>movie_id</th>\n",
       "      <th>movie_name</th>\n",
       "      <th>release_year_movies</th>\n",
       "      <th>runtime_minutes</th>\n",
       "      <th>genres</th>\n",
       "      <th>averagerating</th>\n",
       "      <th>numvotes</th>\n",
       "      <th>id</th>\n",
       "      <th>release_date</th>\n",
       "      <th>production_budget</th>\n",
       "      <th>domestic_gross</th>\n",
       "      <th>worldwide_gross</th>\n",
       "      <th>release_year_budgets</th>\n",
       "    </tr>\n",
       "  </thead>\n",
       "  <tbody>\n",
       "    <tr>\n",
       "      <th>0</th>\n",
       "      <td>tt0249516</td>\n",
       "      <td>foodfight!</td>\n",
       "      <td>2012-01-01</td>\n",
       "      <td>91</td>\n",
       "      <td>action,animation,comedy</td>\n",
       "      <td>1.9</td>\n",
       "      <td>8248</td>\n",
       "      <td>26</td>\n",
       "      <td>2012-12-31</td>\n",
       "      <td>45000000</td>\n",
       "      <td>0</td>\n",
       "      <td>73706</td>\n",
       "      <td>2012</td>\n",
       "    </tr>\n",
       "    <tr>\n",
       "      <th>1</th>\n",
       "      <td>tt0359950</td>\n",
       "      <td>the secret life of walter mitty</td>\n",
       "      <td>2013-01-01</td>\n",
       "      <td>114</td>\n",
       "      <td>adventure,comedy,drama</td>\n",
       "      <td>7.3</td>\n",
       "      <td>275300</td>\n",
       "      <td>37</td>\n",
       "      <td>2013-12-25</td>\n",
       "      <td>91000000</td>\n",
       "      <td>58236838</td>\n",
       "      <td>187861183</td>\n",
       "      <td>2013</td>\n",
       "    </tr>\n",
       "    <tr>\n",
       "      <th>2</th>\n",
       "      <td>tt0365907</td>\n",
       "      <td>a walk among the tombstones</td>\n",
       "      <td>2014-01-01</td>\n",
       "      <td>114</td>\n",
       "      <td>action,crime,drama</td>\n",
       "      <td>6.5</td>\n",
       "      <td>105116</td>\n",
       "      <td>67</td>\n",
       "      <td>2014-09-19</td>\n",
       "      <td>28000000</td>\n",
       "      <td>26017685</td>\n",
       "      <td>62108587</td>\n",
       "      <td>2014</td>\n",
       "    </tr>\n",
       "    <tr>\n",
       "      <th>3</th>\n",
       "      <td>tt0369610</td>\n",
       "      <td>jurassic world</td>\n",
       "      <td>2015-01-01</td>\n",
       "      <td>124</td>\n",
       "      <td>action,adventure,sci-fi</td>\n",
       "      <td>7.0</td>\n",
       "      <td>539338</td>\n",
       "      <td>34</td>\n",
       "      <td>2015-06-12</td>\n",
       "      <td>215000000</td>\n",
       "      <td>652270625</td>\n",
       "      <td>1648854864</td>\n",
       "      <td>2015</td>\n",
       "    </tr>\n",
       "    <tr>\n",
       "      <th>4</th>\n",
       "      <td>tt0376136</td>\n",
       "      <td>the rum diary</td>\n",
       "      <td>2011-01-01</td>\n",
       "      <td>119</td>\n",
       "      <td>comedy,drama</td>\n",
       "      <td>6.2</td>\n",
       "      <td>94787</td>\n",
       "      <td>16</td>\n",
       "      <td>2011-10-28</td>\n",
       "      <td>45000000</td>\n",
       "      <td>13109815</td>\n",
       "      <td>21544732</td>\n",
       "      <td>2011</td>\n",
       "    </tr>\n",
       "  </tbody>\n",
       "</table>\n",
       "</div>"
      ],
      "text/plain": [
       "    movie_id                       movie_name release_year_movies  \\\n",
       "0  tt0249516                       foodfight!          2012-01-01   \n",
       "1  tt0359950  the secret life of walter mitty          2013-01-01   \n",
       "2  tt0365907      a walk among the tombstones          2014-01-01   \n",
       "3  tt0369610                   jurassic world          2015-01-01   \n",
       "4  tt0376136                    the rum diary          2011-01-01   \n",
       "\n",
       "   runtime_minutes                   genres  averagerating  numvotes  id  \\\n",
       "0               91  action,animation,comedy            1.9      8248  26   \n",
       "1              114   adventure,comedy,drama            7.3    275300  37   \n",
       "2              114       action,crime,drama            6.5    105116  67   \n",
       "3              124  action,adventure,sci-fi            7.0    539338  34   \n",
       "4              119             comedy,drama            6.2     94787  16   \n",
       "\n",
       "  release_date  production_budget  domestic_gross  worldwide_gross  \\\n",
       "0   2012-12-31           45000000               0            73706   \n",
       "1   2013-12-25           91000000        58236838        187861183   \n",
       "2   2014-09-19           28000000        26017685         62108587   \n",
       "3   2015-06-12          215000000       652270625       1648854864   \n",
       "4   2011-10-28           45000000        13109815         21544732   \n",
       "\n",
       "   release_year_budgets  \n",
       "0                  2012  \n",
       "1                  2013  \n",
       "2                  2014  \n",
       "3                  2015  \n",
       "4                  2011  "
      ]
     },
     "execution_count": 41,
     "metadata": {},
     "output_type": "execute_result"
    }
   ],
   "source": [
    "# Merge movies_df and movie_budgets_df on 'movie_name'\n",
    "combined_data = pd.merge(\n",
    "    movies_df,\n",
    "    movie_budgets_df,\n",
    "    on='movie_name',\n",
    "    how='inner',  # Use 'inner' to keep only matching rows\n",
    "    suffixes=('_movies', '_budgets')  # Add suffixes to distinguish columns\n",
    ")\n",
    "\n",
    "# Display the shape and the first few rows of the combined DataFrame\n",
    "print(f\"Shape of the combined DataFrame: {combined_data.shape}\")\n",
    "combined_data.head()"
   ]
  },
  {
   "cell_type": "code",
   "execution_count": 42,
   "id": "4f129742",
   "metadata": {},
   "outputs": [
    {
     "name": "stdout",
     "output_type": "stream",
     "text": [
      "<class 'pandas.core.frame.DataFrame'>\n",
      "Int64Index: 1426 entries, 0 to 1425\n",
      "Data columns (total 13 columns):\n",
      " #   Column                Non-Null Count  Dtype         \n",
      "---  ------                --------------  -----         \n",
      " 0   movie_id              1426 non-null   object        \n",
      " 1   movie_name            1426 non-null   object        \n",
      " 2   release_year_movies   1426 non-null   datetime64[ns]\n",
      " 3   runtime_minutes       1426 non-null   int64         \n",
      " 4   genres                1426 non-null   object        \n",
      " 5   averagerating         1426 non-null   float64       \n",
      " 6   numvotes              1426 non-null   int64         \n",
      " 7   id                    1426 non-null   int64         \n",
      " 8   release_date          1426 non-null   object        \n",
      " 9   production_budget     1426 non-null   int64         \n",
      " 10  domestic_gross        1426 non-null   int64         \n",
      " 11  worldwide_gross       1426 non-null   int64         \n",
      " 12  release_year_budgets  1426 non-null   int64         \n",
      "dtypes: datetime64[ns](1), float64(1), int64(7), object(4)\n",
      "memory usage: 156.0+ KB\n"
     ]
    }
   ],
   "source": [
    "combined_data.info()"
   ]
  },
  {
   "cell_type": "code",
   "execution_count": 43,
   "id": "d6720deb",
   "metadata": {},
   "outputs": [
    {
     "data": {
      "text/html": [
       "<div>\n",
       "<style scoped>\n",
       "    .dataframe tbody tr th:only-of-type {\n",
       "        vertical-align: middle;\n",
       "    }\n",
       "\n",
       "    .dataframe tbody tr th {\n",
       "        vertical-align: top;\n",
       "    }\n",
       "\n",
       "    .dataframe thead th {\n",
       "        text-align: right;\n",
       "    }\n",
       "</style>\n",
       "<table border=\"1\" class=\"dataframe\">\n",
       "  <thead>\n",
       "    <tr style=\"text-align: right;\">\n",
       "      <th></th>\n",
       "      <th>movie_id</th>\n",
       "      <th>movie_name</th>\n",
       "      <th>release_year_movies</th>\n",
       "      <th>runtime_minutes</th>\n",
       "      <th>genres</th>\n",
       "      <th>averagerating</th>\n",
       "      <th>numvotes</th>\n",
       "      <th>id</th>\n",
       "      <th>release_date</th>\n",
       "      <th>production_budget</th>\n",
       "      <th>domestic_gross</th>\n",
       "      <th>worldwide_gross</th>\n",
       "      <th>release_year_budgets</th>\n",
       "    </tr>\n",
       "  </thead>\n",
       "  <tbody>\n",
       "  </tbody>\n",
       "</table>\n",
       "</div>"
      ],
      "text/plain": [
       "Empty DataFrame\n",
       "Columns: [movie_id, movie_name, release_year_movies, runtime_minutes, genres, averagerating, numvotes, id, release_date, production_budget, domestic_gross, worldwide_gross, release_year_budgets]\n",
       "Index: []"
      ]
     },
     "execution_count": 43,
     "metadata": {},
     "output_type": "execute_result"
    }
   ],
   "source": [
    "# check for duplicates in the combined DataFrame\n",
    "duplicates_combined = combined_data[combined_data.duplicated(subset=['movie_name'], keep=False)]\n",
    "duplicates_combined"
   ]
  },
  {
   "cell_type": "code",
   "execution_count": 45,
   "id": "bb5904cf",
   "metadata": {},
   "outputs": [
    {
     "data": {
      "text/html": [
       "<div>\n",
       "<style scoped>\n",
       "    .dataframe tbody tr th:only-of-type {\n",
       "        vertical-align: middle;\n",
       "    }\n",
       "\n",
       "    .dataframe tbody tr th {\n",
       "        vertical-align: top;\n",
       "    }\n",
       "\n",
       "    .dataframe thead th {\n",
       "        text-align: right;\n",
       "    }\n",
       "</style>\n",
       "<table border=\"1\" class=\"dataframe\">\n",
       "  <thead>\n",
       "    <tr style=\"text-align: right;\">\n",
       "      <th></th>\n",
       "      <th>movie_name</th>\n",
       "      <th>release_year_movies</th>\n",
       "      <th>release_year_budgets</th>\n",
       "    </tr>\n",
       "  </thead>\n",
       "  <tbody>\n",
       "    <tr>\n",
       "      <th>0</th>\n",
       "      <td>foodfight!</td>\n",
       "      <td>2012-01-01</td>\n",
       "      <td>2012</td>\n",
       "    </tr>\n",
       "    <tr>\n",
       "      <th>1</th>\n",
       "      <td>the secret life of walter mitty</td>\n",
       "      <td>2013-01-01</td>\n",
       "      <td>2013</td>\n",
       "    </tr>\n",
       "    <tr>\n",
       "      <th>2</th>\n",
       "      <td>a walk among the tombstones</td>\n",
       "      <td>2014-01-01</td>\n",
       "      <td>2014</td>\n",
       "    </tr>\n",
       "    <tr>\n",
       "      <th>3</th>\n",
       "      <td>jurassic world</td>\n",
       "      <td>2015-01-01</td>\n",
       "      <td>2015</td>\n",
       "    </tr>\n",
       "    <tr>\n",
       "      <th>4</th>\n",
       "      <td>the rum diary</td>\n",
       "      <td>2011-01-01</td>\n",
       "      <td>2011</td>\n",
       "    </tr>\n",
       "    <tr>\n",
       "      <th>5</th>\n",
       "      <td>the three stooges</td>\n",
       "      <td>2012-01-01</td>\n",
       "      <td>2012</td>\n",
       "    </tr>\n",
       "    <tr>\n",
       "      <th>6</th>\n",
       "      <td>tangled</td>\n",
       "      <td>2010-01-01</td>\n",
       "      <td>2010</td>\n",
       "    </tr>\n",
       "    <tr>\n",
       "      <th>7</th>\n",
       "      <td>john carter</td>\n",
       "      <td>2012-01-01</td>\n",
       "      <td>2012</td>\n",
       "    </tr>\n",
       "    <tr>\n",
       "      <th>8</th>\n",
       "      <td>action jackson</td>\n",
       "      <td>2014-01-01</td>\n",
       "      <td>1988</td>\n",
       "    </tr>\n",
       "    <tr>\n",
       "      <th>9</th>\n",
       "      <td>dinner for schmucks</td>\n",
       "      <td>2010-01-01</td>\n",
       "      <td>2010</td>\n",
       "    </tr>\n",
       "  </tbody>\n",
       "</table>\n",
       "</div>"
      ],
      "text/plain": [
       "                        movie_name release_year_movies  release_year_budgets\n",
       "0                       foodfight!          2012-01-01                  2012\n",
       "1  the secret life of walter mitty          2013-01-01                  2013\n",
       "2      a walk among the tombstones          2014-01-01                  2014\n",
       "3                   jurassic world          2015-01-01                  2015\n",
       "4                    the rum diary          2011-01-01                  2011\n",
       "5                the three stooges          2012-01-01                  2012\n",
       "6                          tangled          2010-01-01                  2010\n",
       "7                      john carter          2012-01-01                  2012\n",
       "8                   action jackson          2014-01-01                  1988\n",
       "9              dinner for schmucks          2010-01-01                  2010"
      ]
     },
     "execution_count": 45,
     "metadata": {},
     "output_type": "execute_result"
    }
   ],
   "source": [
    "# check if release_years match in the combined DataFrame\n",
    "release_years_match = combined_data[\n",
    "    combined_data['release_year_movies'] != combined_data['release_year_budgets']\n",
    "]\n",
    "release_years_match[['movie_name', 'release_year_movies', 'release_year_budgets']].head(10)"
   ]
  },
  {
   "cell_type": "code",
   "execution_count": 50,
   "id": "24785b15",
   "metadata": {},
   "outputs": [
    {
     "name": "stdout",
     "output_type": "stream",
     "text": [
      "<class 'pandas.core.frame.DataFrame'>\n",
      "Int64Index: 1426 entries, 0 to 1425\n",
      "Data columns (total 13 columns):\n",
      " #   Column                Non-Null Count  Dtype  \n",
      "---  ------                --------------  -----  \n",
      " 0   movie_id              1426 non-null   object \n",
      " 1   movie_name            1426 non-null   object \n",
      " 2   release_year_movies   1426 non-null   int64  \n",
      " 3   runtime_minutes       1426 non-null   int64  \n",
      " 4   genres                1426 non-null   object \n",
      " 5   averagerating         1426 non-null   float64\n",
      " 6   numvotes              1426 non-null   int64  \n",
      " 7   id                    1426 non-null   int64  \n",
      " 8   release_date          1426 non-null   object \n",
      " 9   production_budget     1426 non-null   int64  \n",
      " 10  domestic_gross        1426 non-null   int64  \n",
      " 11  worldwide_gross       1426 non-null   int64  \n",
      " 12  release_year_budgets  1426 non-null   int64  \n",
      "dtypes: float64(1), int64(8), object(4)\n",
      "memory usage: 156.0+ KB\n"
     ]
    }
   ],
   "source": [
    "combined_data.info()"
   ]
  },
  {
   "cell_type": "code",
   "execution_count": 51,
   "id": "d10b3069",
   "metadata": {},
   "outputs": [
    {
     "name": "stdout",
     "output_type": "stream",
     "text": [
      "                        movie_name  release_year_movies  release_year_budgets\n",
      "0                       foodfight!                 1970                  1970\n",
      "1  the secret life of walter mitty                 1970                  1970\n",
      "2      a walk among the tombstones                 1970                  1970\n",
      "3                   jurassic world                 1970                  1970\n",
      "4                    the rum diary                 1970                  1970\n"
     ]
    }
   ],
   "source": [
    "# Convert 'release_year_movies' and 'release_year_budgets' to year type\n",
    "combined_data['release_year_movies'] = pd.to_datetime(combined_data['release_year_movies'], errors='coerce').dt.year\n",
    "combined_data['release_year_budgets'] = pd.to_datetime(combined_data['release_year_budgets'], errors='coerce').dt.year\n",
    "\n",
    "# Display the updated DataFrame\n",
    "print(combined_data[['movie_name', 'release_year_movies', 'release_year_budgets']].head())"
   ]
  },
  {
   "cell_type": "code",
   "execution_count": 52,
   "id": "41b7ddcb",
   "metadata": {},
   "outputs": [
    {
     "name": "stdout",
     "output_type": "stream",
     "text": [
      "Number of rows with mismatched release years: 0\n"
     ]
    },
    {
     "data": {
      "text/html": [
       "<div>\n",
       "<style scoped>\n",
       "    .dataframe tbody tr th:only-of-type {\n",
       "        vertical-align: middle;\n",
       "    }\n",
       "\n",
       "    .dataframe tbody tr th {\n",
       "        vertical-align: top;\n",
       "    }\n",
       "\n",
       "    .dataframe thead th {\n",
       "        text-align: right;\n",
       "    }\n",
       "</style>\n",
       "<table border=\"1\" class=\"dataframe\">\n",
       "  <thead>\n",
       "    <tr style=\"text-align: right;\">\n",
       "      <th></th>\n",
       "      <th>movie_name</th>\n",
       "      <th>release_year_movies</th>\n",
       "      <th>release_year_budgets</th>\n",
       "    </tr>\n",
       "  </thead>\n",
       "  <tbody>\n",
       "  </tbody>\n",
       "</table>\n",
       "</div>"
      ],
      "text/plain": [
       "Empty DataFrame\n",
       "Columns: [movie_name, release_year_movies, release_year_budgets]\n",
       "Index: []"
      ]
     },
     "execution_count": 52,
     "metadata": {},
     "output_type": "execute_result"
    }
   ],
   "source": [
    "# Check if 'release_year_movies' and 'release_year_budgets' are not equal\n",
    "mismatched_years = combined_data[combined_data['release_year_movies'] != combined_data['release_year_budgets']]\n",
    "\n",
    "# Display the count and the mismatched rows\n",
    "print(f\"Number of rows with mismatched release years: {mismatched_years.shape[0]}\")\n",
    "mismatched_years[['movie_name', 'release_year_movies', 'release_year_budgets']].head()"
   ]
  },
  {
   "cell_type": "code",
   "execution_count": 53,
   "id": "fd906322",
   "metadata": {},
   "outputs": [
    {
     "name": "stdout",
     "output_type": "stream",
     "text": [
      "<class 'pandas.core.frame.DataFrame'>\n",
      "Int64Index: 1426 entries, 0 to 1425\n",
      "Data columns (total 13 columns):\n",
      " #   Column                Non-Null Count  Dtype  \n",
      "---  ------                --------------  -----  \n",
      " 0   movie_id              1426 non-null   object \n",
      " 1   movie_name            1426 non-null   object \n",
      " 2   release_year_movies   1426 non-null   int64  \n",
      " 3   runtime_minutes       1426 non-null   int64  \n",
      " 4   genres                1426 non-null   object \n",
      " 5   averagerating         1426 non-null   float64\n",
      " 6   numvotes              1426 non-null   int64  \n",
      " 7   id                    1426 non-null   int64  \n",
      " 8   release_date          1426 non-null   object \n",
      " 9   production_budget     1426 non-null   int64  \n",
      " 10  domestic_gross        1426 non-null   int64  \n",
      " 11  worldwide_gross       1426 non-null   int64  \n",
      " 12  release_year_budgets  1426 non-null   int64  \n",
      "dtypes: float64(1), int64(8), object(4)\n",
      "memory usage: 156.0+ KB\n"
     ]
    }
   ],
   "source": [
    "combined_data.info()"
   ]
  },
  {
   "cell_type": "code",
   "execution_count": null,
   "id": "cc45fb1a",
   "metadata": {},
   "outputs": [
    {
     "name": "stdout",
     "output_type": "stream",
     "text": [
      "    movie_id                       movie_name  release_year_movies  \\\n",
      "0  tt0249516                       foodfight!                 1970   \n",
      "1  tt0359950  the secret life of walter mitty                 1970   \n",
      "2  tt0365907      a walk among the tombstones                 1970   \n",
      "3  tt0369610                   jurassic world                 1970   \n",
      "4  tt0376136                    the rum diary                 1970   \n",
      "\n",
      "   runtime_minutes                   genres  averagerating  numvotes  \\\n",
      "0               91  action,animation,comedy            1.9      8248   \n",
      "1              114   adventure,comedy,drama            7.3    275300   \n",
      "2              114       action,crime,drama            6.5    105116   \n",
      "3              124  action,adventure,sci-fi            7.0    539338   \n",
      "4              119             comedy,drama            6.2     94787   \n",
      "\n",
      "  release_date  production_budget  domestic_gross  worldwide_gross  \n",
      "0   2012-12-31           45000000               0            73706  \n",
      "1   2013-12-25           91000000        58236838        187861183  \n",
      "2   2014-09-19           28000000        26017685         62108587  \n",
      "3   2015-06-12          215000000       652270625       1648854864  \n",
      "4   2011-10-28           45000000        13109815         21544732  \n",
      "<class 'pandas.core.frame.DataFrame'>\n",
      "Int64Index: 1426 entries, 0 to 1425\n",
      "Data columns (total 11 columns):\n",
      " #   Column               Non-Null Count  Dtype  \n",
      "---  ------               --------------  -----  \n",
      " 0   movie_id             1426 non-null   object \n",
      " 1   movie_name           1426 non-null   object \n",
      " 2   release_year_movies  1426 non-null   int64  \n",
      " 3   runtime_minutes      1426 non-null   int64  \n",
      " 4   genres               1426 non-null   object \n",
      " 5   averagerating        1426 non-null   float64\n",
      " 6   numvotes             1426 non-null   int64  \n",
      " 7   release_date         1426 non-null   object \n",
      " 8   production_budget    1426 non-null   int64  \n",
      " 9   domestic_gross       1426 non-null   int64  \n",
      " 10  worldwide_gross      1426 non-null   int64  \n",
      "dtypes: float64(1), int64(6), object(4)\n",
      "memory usage: 133.7+ KB\n",
      "None\n"
     ]
    }
   ],
   "source": [
    "# drop irelevant columns\n",
    "drop_columns = [ 'id', 'release_year_budgets']\n",
    "combined_data.drop(columns=drop_columns, inplace=True)\n",
    "# Display the updated DataFrame\n"
   ]
  },
  {
   "cell_type": "code",
   "execution_count": 55,
   "id": "9c132588",
   "metadata": {},
   "outputs": [
    {
     "name": "stdout",
     "output_type": "stream",
     "text": [
      "<class 'pandas.core.frame.DataFrame'>\n",
      "Int64Index: 1426 entries, 0 to 1425\n",
      "Data columns (total 11 columns):\n",
      " #   Column               Non-Null Count  Dtype  \n",
      "---  ------               --------------  -----  \n",
      " 0   movie_id             1426 non-null   object \n",
      " 1   movie_name           1426 non-null   object \n",
      " 2   release_year_movies  1426 non-null   int64  \n",
      " 3   runtime_minutes      1426 non-null   int64  \n",
      " 4   genres               1426 non-null   object \n",
      " 5   averagerating        1426 non-null   float64\n",
      " 6   numvotes             1426 non-null   int64  \n",
      " 7   release_date         1426 non-null   object \n",
      " 8   production_budget    1426 non-null   int64  \n",
      " 9   domestic_gross       1426 non-null   int64  \n",
      " 10  worldwide_gross      1426 non-null   int64  \n",
      "dtypes: float64(1), int64(6), object(4)\n",
      "memory usage: 133.7+ KB\n"
     ]
    }
   ],
   "source": [
    "combined_data.info()"
   ]
  },
  {
   "cell_type": "code",
   "execution_count": 56,
   "id": "5e9f8ee3",
   "metadata": {},
   "outputs": [
    {
     "name": "stdout",
     "output_type": "stream",
     "text": [
      "DataFrames have been successfully saved to the 'extracted' folder.\n"
     ]
    }
   ],
   "source": [
    "output_folder = './cleaned_data'\n",
    "os.makedirs(output_folder, exist_ok=True)\n",
    "\n",
    "# Save movie_basics_df to a CSV file\n",
    "combined_data.to_csv(f'{output_folder}/cleaned_movie_budgets_df.csv', index=False)\n",
    "\n",
    "print(\"DataFrames have been successfully saved to the 'extracted' folder.\")"
   ]
  },
  {
   "cell_type": "markdown",
   "id": "3af843fd",
   "metadata": {},
   "source": [
    "To find the excluded movie_name values (i.e., those present in movie_budgets_df but not in movies_df), you can use the following code:"
   ]
  },
  {
   "cell_type": "code",
   "execution_count": null,
   "id": "3f38d275",
   "metadata": {},
   "outputs": [],
   "source": [
    "# Identify excluded movie_names\n",
    "# excluded_movie_names = movie_budgets_df[~movie_budgets_df['movie_name'].isin(movies_df['movie_name'])]\n",
    "\n",
    "# # Display the excluded movie names\n",
    "# print(f\"Number of excluded movie names: {excluded_movie_names.shape[0]}\")\n",
    "# excluded_movie_names[['movie_name']].head()"
   ]
  }
 ],
 "metadata": {
  "kernelspec": {
   "display_name": "learn-env",
   "language": "python",
   "name": "python3"
  },
  "language_info": {
   "codemirror_mode": {
    "name": "ipython",
    "version": 3
   },
   "file_extension": ".py",
   "mimetype": "text/x-python",
   "name": "python",
   "nbconvert_exporter": "python",
   "pygments_lexer": "ipython3",
   "version": "3.8.5"
  }
 },
 "nbformat": 4,
 "nbformat_minor": 5
}
