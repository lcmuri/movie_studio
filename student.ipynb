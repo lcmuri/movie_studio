{
 "cells": [
  {
   "cell_type": "markdown",
   "metadata": {},
   "source": [
    "## Final Project Submission\n",
    "\n",
    "### GROUP 4\n",
    "\n",
    "Please fill out:\n",
    "* Students name: **Beth Nyambura, Benson Ouma, Harrison Karime, Rahab Gachie**\n",
    "* Student pace: **part time**\n",
    "* Scheduled project review date/time: **29th March 2025, 11:59PM**\n",
    "* Instructor name: **Brian Chacha**\n",
    "* Blog post URL:\n"
   ]
  },
  {
   "cell_type": "code",
   "execution_count": null,
   "metadata": {},
   "outputs": [],
   "source": [
    "# Your code here - remember to use markdown cells for comments as well!"
   ]
  },
  {
   "cell_type": "markdown",
   "metadata": {},
   "source": [
    "#  Movie Studio Strategy: Data-Driven Decisions for Box Office Success\n",
    "\n",
    "##  Introduction\n",
    "\n",
    "In an increasingly competitive content landscape, companies are investing heavily in original video production. Our company is launching a new movie studio and aims to enter this space strategically. However, lacking prior experience in film production, we must rely on data to identify what makes a movie successful.\n",
    "\n",
    "This project leverages real-world movie data to explore what types of films perform best at the box office. Through structured analysis, we aim to generate insights that can inform content creation, budgeting, casting, and release strategies.\n",
    "\n",
    "---\n",
    "## ❓ Business Understanding\n",
    "\n",
    "###  Business Objective\n",
    "\n",
    "Our primary business question is:\n",
    "\n",
    "> **What types of films should our company produce to maximize success at the box office?**\n",
    "\n",
    "To answer this, we explore several supporting questions:\n",
    "\n",
    "1. **What are the current trends by genre in the box office?**  \n",
    "   - Which genres dominate the market?\n",
    "   - Which ones generate the highest gross and ROI?\n",
    "\n",
    "2. **What budget ranges are the most profitable?**  \n",
    "   - How can we optimize spending without compromising success?\n",
    "\n",
    "3. **Which directors and actors consistently attract larger audiences?**  \n",
    "   - Who are the “bankable names” we should work with?\n",
    "\n",
    "4. **What is the average length (runtime) of films that perform well?**  \n",
    "   - Is there an ideal duration for maximizing audience engagement?\n",
    "\n",
    "5. **When is the best time to release a movie?**  \n",
    "   - Are there specific months or seasons that lead to higher revenues?\n",
    "\n",
    "Our goal is to convert findings from these questions into **three actionable business recommendations**.\n",
    "\n",
    "### Data \n",
    "An explorative data analysis was done using the following data sets from various sources, to answer our questions.\n",
    "1. bom.movie_gross.csv.gz\n",
    "2. im.db.zip\n",
    "3. tn.movie_budgets.csv.gz\n",
    "4. tmdb.movies.csv.gz\n",
    "5. \n",
    "\n",
    "The data was loaded and previewed and thereafter prepared for analysis by \n",
    "- checking the shape, column names and data types. \n",
    "- Identify missing values and duplicates.\n",
    "- Filling in the missing values.........\n",
    "- Droping rows with missing values...............\n",
    "- Changing string data type to float to enable mathematical calculations\n"
   ]
  },
  {
   "cell_type": "markdown",
   "metadata": {},
   "source": [
    "### **Data Analysis**"
   ]
  }
 ],
 "metadata": {
  "kernelspec": {
   "display_name": "Python 3",
   "language": "python",
   "name": "python3"
  },
  "language_info": {
   "codemirror_mode": {
    "name": "ipython",
    "version": 3
   },
   "file_extension": ".py",
   "mimetype": "text/x-python",
   "name": "python",
   "nbconvert_exporter": "python",
   "pygments_lexer": "ipython3",
   "version": "3.13.1"
  }
 },
 "nbformat": 4,
 "nbformat_minor": 4
}
