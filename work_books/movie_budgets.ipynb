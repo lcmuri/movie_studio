{
 "cells": [
  {
   "cell_type": "markdown",
   "id": "db098a3d",
   "metadata": {},
   "source": [
    "## MOVIE BUDGETS"
   ]
  },
  {
   "cell_type": "code",
   "execution_count": 87,
   "id": "846efdb7",
   "metadata": {},
   "outputs": [],
   "source": [
    "# import libraries\n",
    "import pandas as pd\n",
    "import numpy as np\n",
    "import matplotlib.pyplot as plt\n",
    "import seaborn as sns\n",
    "import sqlite3\n",
    "import os\n",
    "\n",
    "%matplotlib inline"
   ]
  },
  {
   "cell_type": "code",
   "execution_count": 88,
   "id": "2f99af4b",
   "metadata": {},
   "outputs": [
    {
     "name": "stdout",
     "output_type": "stream",
     "text": [
      "<class 'pandas.core.frame.DataFrame'>\n",
      "RangeIndex: 5782 entries, 0 to 5781\n",
      "Data columns (total 6 columns):\n",
      " #   Column             Non-Null Count  Dtype \n",
      "---  ------             --------------  ----- \n",
      " 0   id                 5782 non-null   int64 \n",
      " 1   release_date       5782 non-null   object\n",
      " 2   movie              5782 non-null   object\n",
      " 3   production_budget  5782 non-null   object\n",
      " 4   domestic_gross     5782 non-null   object\n",
      " 5   worldwide_gross    5782 non-null   object\n",
      "dtypes: int64(1), object(5)\n",
      "memory usage: 271.2+ KB\n"
     ]
    }
   ],
   "source": [
    "# load the data\n",
    "movie_budgets_df = pd.read_csv('./zippedData/tn.movie_budgets.csv.gz', encoding='utf-8')\n",
    "movie_budgets_df.info()"
   ]
  },
  {
   "cell_type": "markdown",
   "id": "80e3e8ea",
   "metadata": {},
   "source": [
    "## Data Preparation"
   ]
  },
  {
   "cell_type": "markdown",
   "id": "a9f6d737",
   "metadata": {},
   "source": [
    "### Data Cleaning"
   ]
  },
  {
   "cell_type": "markdown",
   "id": "f7731894",
   "metadata": {},
   "source": [
    "1. **Renaming Columns**:\n",
    "   - The column `movie` is renamed to `movie_name` for better clarity and consistency with other datasets.\n",
    "\n",
    "2. **Converting `release_date` to Datetime Format**:\n",
    "   - The `release_date` column is converted to a datetime format using `pd.to_datetime()`. This ensures that the column can be used for date-based operations, such as extracting the year or filtering by date.\n",
    "\n",
    "3. **Standardizing the `movie_name` Column**:\n",
    "   - The `movie_name` column is cleaned by:\n",
    "     - Stripping leading and trailing spaces using `.str.strip()`.\n",
    "     - Converting all text to lowercase using `.str.lower()`.\n",
    "   - This standardization ensures consistency in movie names, making it easier to identify duplicates or merge with other datasets."
   ]
  },
  {
   "cell_type": "code",
   "execution_count": 89,
   "id": "580ecd94",
   "metadata": {},
   "outputs": [
    {
     "name": "stdout",
     "output_type": "stream",
     "text": [
      "Index(['id', 'release_date', 'movie_name', 'production_budget',\n",
      "       'domestic_gross', 'worldwide_gross'],\n",
      "      dtype='object')\n",
      "id                            int64\n",
      "release_date         datetime64[ns]\n",
      "movie_name                   object\n",
      "production_budget            object\n",
      "domestic_gross               object\n",
      "worldwide_gross              object\n",
      "dtype: object\n"
     ]
    }
   ],
   "source": [
    "# Rename 'movie' column to 'movie_name'\n",
    "movie_budgets_df.rename(columns={'movie': 'movie_name'}, inplace=True)\n",
    "\n",
    "# Convert 'release_date' to datetime format\n",
    "movie_budgets_df['release_date'] = pd.to_datetime(movie_budgets_df['release_date'])\n",
    "\n",
    "# Standardize the 'movie_name' column\n",
    "movie_budgets_df['movie_name'] = movie_budgets_df['movie_name'].str.strip().str.lower()\n",
    "\n",
    "# Display the updated column names\n",
    "print(movie_budgets_df.columns)\n",
    "# Display the updated DataFrame\n",
    "print(movie_budgets_df.dtypes)"
   ]
  },
  {
   "cell_type": "code",
   "execution_count": 90,
   "id": "2354c77d",
   "metadata": {},
   "outputs": [
    {
     "data": {
      "text/plain": [
       "id                   0\n",
       "release_date         0\n",
       "movie_name           0\n",
       "production_budget    0\n",
       "domestic_gross       0\n",
       "worldwide_gross      0\n",
       "dtype: int64"
      ]
     },
     "execution_count": 90,
     "metadata": {},
     "output_type": "execute_result"
    }
   ],
   "source": [
    "# Check for missing and null values\n",
    "movie_budgets_df.isna().sum()"
   ]
  },
  {
   "cell_type": "markdown",
   "id": "71a26478",
   "metadata": {},
   "source": [
    "#### Data Transformation: \n",
    "\n",
    "Converting data into a more useful format \n",
    "1. **Extract Year**: The `dt.year` attribute extracts the year from the `release_date` column.\n",
    "2. **Identify Duplicates**: The `duplicated()` method identifies duplicate `movie_name` entries.\n",
    "\n",
    "    - It identifies rows with duplicate movie names and then modifies the 'movie_name' for these duplicates by appending their release year in parentheses. \n",
    "    - This is to distinguish between movies with the same title but different release dates, creating more unique identifiers.\n",
    "    \n",
    "3. **Update Names**: For duplicates, the `movie_name` is updated by appending the release year in parentheses.\n",
    "\n",
    "This ensures that duplicate movie names are uniquely identified by their release year."
   ]
  },
  {
   "cell_type": "code",
   "execution_count": 91,
   "id": "c3cd0a5b",
   "metadata": {},
   "outputs": [
    {
     "name": "stdout",
     "output_type": "stream",
     "text": [
      "(165, 6)\n"
     ]
    },
    {
     "data": {
      "text/html": [
       "<div>\n",
       "<style scoped>\n",
       "    .dataframe tbody tr th:only-of-type {\n",
       "        vertical-align: middle;\n",
       "    }\n",
       "\n",
       "    .dataframe tbody tr th {\n",
       "        vertical-align: top;\n",
       "    }\n",
       "\n",
       "    .dataframe thead th {\n",
       "        text-align: right;\n",
       "    }\n",
       "</style>\n",
       "<table border=\"1\" class=\"dataframe\">\n",
       "  <thead>\n",
       "    <tr style=\"text-align: right;\">\n",
       "      <th></th>\n",
       "      <th>id</th>\n",
       "      <th>release_date</th>\n",
       "      <th>movie_name</th>\n",
       "      <th>production_budget</th>\n",
       "      <th>domestic_gross</th>\n",
       "      <th>worldwide_gross</th>\n",
       "    </tr>\n",
       "  </thead>\n",
       "  <tbody>\n",
       "    <tr>\n",
       "      <th>4270</th>\n",
       "      <td>71</td>\n",
       "      <td>1954-12-23</td>\n",
       "      <td>20,000 leagues under the sea</td>\n",
       "      <td>$5,000,000</td>\n",
       "      <td>$28,200,000</td>\n",
       "      <td>$28,200,000</td>\n",
       "    </tr>\n",
       "    <tr>\n",
       "      <th>5614</th>\n",
       "      <td>15</td>\n",
       "      <td>1916-12-24</td>\n",
       "      <td>20,000 leagues under the sea</td>\n",
       "      <td>$200,000</td>\n",
       "      <td>$8,000,000</td>\n",
       "      <td>$8,000,000</td>\n",
       "    </tr>\n",
       "    <tr>\n",
       "      <th>1648</th>\n",
       "      <td>49</td>\n",
       "      <td>2010-04-30</td>\n",
       "      <td>a nightmare on elm street</td>\n",
       "      <td>$35,000,000</td>\n",
       "      <td>$63,075,011</td>\n",
       "      <td>$117,729,621</td>\n",
       "    </tr>\n",
       "    <tr>\n",
       "      <th>5016</th>\n",
       "      <td>17</td>\n",
       "      <td>1984-11-09</td>\n",
       "      <td>a nightmare on elm street</td>\n",
       "      <td>$1,800,000</td>\n",
       "      <td>$25,504,513</td>\n",
       "      <td>$25,504,513</td>\n",
       "    </tr>\n",
       "    <tr>\n",
       "      <th>2032</th>\n",
       "      <td>33</td>\n",
       "      <td>1992-11-11</td>\n",
       "      <td>aladdin</td>\n",
       "      <td>$28,000,000</td>\n",
       "      <td>$217,350,219</td>\n",
       "      <td>$504,050,219</td>\n",
       "    </tr>\n",
       "    <tr>\n",
       "      <th>80</th>\n",
       "      <td>81</td>\n",
       "      <td>2019-05-24</td>\n",
       "      <td>aladdin</td>\n",
       "      <td>$182,000,000</td>\n",
       "      <td>$246,734,314</td>\n",
       "      <td>$619,234,314</td>\n",
       "    </tr>\n",
       "    <tr>\n",
       "      <th>50</th>\n",
       "      <td>51</td>\n",
       "      <td>2010-03-05</td>\n",
       "      <td>alice in wonderland</td>\n",
       "      <td>$200,000,000</td>\n",
       "      <td>$334,191,110</td>\n",
       "      <td>$1,025,491,110</td>\n",
       "    </tr>\n",
       "    <tr>\n",
       "      <th>4759</th>\n",
       "      <td>60</td>\n",
       "      <td>1951-07-28</td>\n",
       "      <td>alice in wonderland</td>\n",
       "      <td>$3,000,000</td>\n",
       "      <td>$0</td>\n",
       "      <td>$0</td>\n",
       "    </tr>\n",
       "    <tr>\n",
       "      <th>4120</th>\n",
       "      <td>21</td>\n",
       "      <td>1956-10-17</td>\n",
       "      <td>around the world in 80 days</td>\n",
       "      <td>$6,000,000</td>\n",
       "      <td>$42,000,000</td>\n",
       "      <td>$42,000,000</td>\n",
       "    </tr>\n",
       "    <tr>\n",
       "      <th>340</th>\n",
       "      <td>41</td>\n",
       "      <td>2004-06-16</td>\n",
       "      <td>around the world in 80 days</td>\n",
       "      <td>$110,000,000</td>\n",
       "      <td>$24,004,159</td>\n",
       "      <td>$72,004,159</td>\n",
       "    </tr>\n",
       "  </tbody>\n",
       "</table>\n",
       "</div>"
      ],
      "text/plain": [
       "      id release_date                    movie_name production_budget  \\\n",
       "4270  71   1954-12-23  20,000 leagues under the sea        $5,000,000   \n",
       "5614  15   1916-12-24  20,000 leagues under the sea          $200,000   \n",
       "1648  49   2010-04-30     a nightmare on elm street       $35,000,000   \n",
       "5016  17   1984-11-09     a nightmare on elm street        $1,800,000   \n",
       "2032  33   1992-11-11                       aladdin       $28,000,000   \n",
       "80    81   2019-05-24                       aladdin      $182,000,000   \n",
       "50    51   2010-03-05           alice in wonderland      $200,000,000   \n",
       "4759  60   1951-07-28           alice in wonderland        $3,000,000   \n",
       "4120  21   1956-10-17   around the world in 80 days        $6,000,000   \n",
       "340   41   2004-06-16   around the world in 80 days      $110,000,000   \n",
       "\n",
       "     domestic_gross worldwide_gross  \n",
       "4270    $28,200,000     $28,200,000  \n",
       "5614     $8,000,000      $8,000,000  \n",
       "1648    $63,075,011    $117,729,621  \n",
       "5016    $25,504,513     $25,504,513  \n",
       "2032   $217,350,219    $504,050,219  \n",
       "80     $246,734,314    $619,234,314  \n",
       "50     $334,191,110  $1,025,491,110  \n",
       "4759             $0              $0  \n",
       "4120    $42,000,000     $42,000,000  \n",
       "340     $24,004,159     $72,004,159  "
      ]
     },
     "execution_count": 91,
     "metadata": {},
     "output_type": "execute_result"
    }
   ],
   "source": [
    "# check for duplicates using movie_name and release_date\n",
    "duplicates = movie_budgets_df[movie_budgets_df.duplicated(subset=['movie_name'], keep=False)]\n",
    "# Display duplicates sorted by movie_name in ascending order\n",
    "duplicates = duplicates.sort_values(by='movie_name', ascending=True)\n",
    "print(duplicates.shape)\n",
    "duplicates.head(10)"
   ]
  },
  {
   "cell_type": "code",
   "execution_count": 92,
   "id": "162bc5c5",
   "metadata": {},
   "outputs": [
    {
     "data": {
      "text/html": [
       "<div>\n",
       "<style scoped>\n",
       "    .dataframe tbody tr th:only-of-type {\n",
       "        vertical-align: middle;\n",
       "    }\n",
       "\n",
       "    .dataframe tbody tr th {\n",
       "        vertical-align: top;\n",
       "    }\n",
       "\n",
       "    .dataframe thead th {\n",
       "        text-align: right;\n",
       "    }\n",
       "</style>\n",
       "<table border=\"1\" class=\"dataframe\">\n",
       "  <thead>\n",
       "    <tr style=\"text-align: right;\">\n",
       "      <th></th>\n",
       "      <th>movie_name</th>\n",
       "      <th>release_year</th>\n",
       "    </tr>\n",
       "  </thead>\n",
       "  <tbody>\n",
       "    <tr>\n",
       "      <th>0</th>\n",
       "      <td>avatar</td>\n",
       "      <td>2009</td>\n",
       "    </tr>\n",
       "    <tr>\n",
       "      <th>1</th>\n",
       "      <td>pirates of the caribbean: on stranger tides</td>\n",
       "      <td>2011</td>\n",
       "    </tr>\n",
       "    <tr>\n",
       "      <th>2</th>\n",
       "      <td>dark phoenix</td>\n",
       "      <td>2019</td>\n",
       "    </tr>\n",
       "    <tr>\n",
       "      <th>3</th>\n",
       "      <td>avengers: age of ultron</td>\n",
       "      <td>2015</td>\n",
       "    </tr>\n",
       "    <tr>\n",
       "      <th>4</th>\n",
       "      <td>star wars ep. viii: the last jedi</td>\n",
       "      <td>2017</td>\n",
       "    </tr>\n",
       "  </tbody>\n",
       "</table>\n",
       "</div>"
      ],
      "text/plain": [
       "                                    movie_name  release_year\n",
       "0                                       avatar          2009\n",
       "1  pirates of the caribbean: on stranger tides          2011\n",
       "2                                 dark phoenix          2019\n",
       "3                      avengers: age of ultron          2015\n",
       "4            star wars ep. viii: the last jedi          2017"
      ]
     },
     "execution_count": 92,
     "metadata": {},
     "output_type": "execute_result"
    }
   ],
   "source": [
    "# Extract the year from the 'release_date' column\n",
    "movie_budgets_df['release_year'] = movie_budgets_df['release_date'].dt.year\n",
    "\n",
    "# Check for duplicates in 'movie_name'\n",
    "duplicates = movie_budgets_df[movie_budgets_df.duplicated(subset=['movie_name'], keep=False)]\n",
    "\n",
    "# Update 'movie_name' for duplicates by appending the release year\n",
    "movie_budgets_df.loc[duplicates.index, 'movie_name'] = (\n",
    "    movie_budgets_df.loc[duplicates.index, 'movie_name'] + \n",
    "    \" (\" + movie_budgets_df.loc[duplicates.index, 'release_year'].astype(str) + \")\"\n",
    ")\n",
    "\n",
    "# Display the updated DataFrame\n",
    "movie_budgets_df[['movie_name', 'release_year']].head()"
   ]
  },
  {
   "cell_type": "code",
   "execution_count": 93,
   "id": "87fa8149",
   "metadata": {},
   "outputs": [
    {
     "name": "stdout",
     "output_type": "stream",
     "text": [
      "Number of movies with 'alice in wonderland' in the name: 2\n"
     ]
    },
    {
     "data": {
      "text/html": [
       "<div>\n",
       "<style scoped>\n",
       "    .dataframe tbody tr th:only-of-type {\n",
       "        vertical-align: middle;\n",
       "    }\n",
       "\n",
       "    .dataframe tbody tr th {\n",
       "        vertical-align: top;\n",
       "    }\n",
       "\n",
       "    .dataframe thead th {\n",
       "        text-align: right;\n",
       "    }\n",
       "</style>\n",
       "<table border=\"1\" class=\"dataframe\">\n",
       "  <thead>\n",
       "    <tr style=\"text-align: right;\">\n",
       "      <th></th>\n",
       "      <th>movie_name</th>\n",
       "      <th>release_year</th>\n",
       "    </tr>\n",
       "  </thead>\n",
       "  <tbody>\n",
       "    <tr>\n",
       "      <th>50</th>\n",
       "      <td>alice in wonderland (2010)</td>\n",
       "      <td>2010</td>\n",
       "    </tr>\n",
       "    <tr>\n",
       "      <th>4759</th>\n",
       "      <td>alice in wonderland (1951)</td>\n",
       "      <td>1951</td>\n",
       "    </tr>\n",
       "  </tbody>\n",
       "</table>\n",
       "</div>"
      ],
      "text/plain": [
       "                      movie_name  release_year\n",
       "50    alice in wonderland (2010)          2010\n",
       "4759  alice in wonderland (1951)          1951"
      ]
     },
     "execution_count": 93,
     "metadata": {},
     "output_type": "execute_result"
    }
   ],
   "source": [
    "# Filter movie names containing the word 'alice in wonderland'\n",
    "avenger_movies = movie_budgets_df[movie_budgets_df['movie_name'].str.contains('alice in wonderland', case=False, na=False)]\n",
    "\n",
    "# Display the filtered DataFrame\n",
    "print(f\"Number of movies with 'alice in wonderland' in the name: {avenger_movies.shape[0]}\")\n",
    "avenger_movies[['movie_name', 'release_year']].head()"
   ]
  },
  {
   "cell_type": "markdown",
   "id": "cfe5c607",
   "metadata": {},
   "source": [
    "This focuses on **cleaning and converting financial columns** in the `movie_budgets_df` DataFrame.\n",
    "\n",
    "For each of the 'production\\_budget', 'domestic\\_gross', and 'worldwide\\_gross' columns, it performs the following actions:\n",
    "\n",
    "1.  **Removes special characters:** It converts the column to string format, then uses regular expressions to remove dollar signs (\\$) and commas (,).\n",
    "\n",
    "2.  **Converts to numeric:** It convertS the cleaned strings to a numeric format. The `errors='coerce'` argument ensures that any values that cannot be converted to numbers will be replaced with `NaN` (Not a Number).\n",
    "\n",
    "3.  **Converts to integer:** Finally, it converts the numeric data type to `Int64`, which is a pandas integer type that can handle missing values (represented by `NaN`).\n",
    "\n",
    "**This cleans the budget and gross revenue columns by removing formatting characters and converting them into a usable integer format that can handle potential missing data.**\n",
    "\n",
    "This is crucial for performing calculations and analysis on the financial aspects of the movies."
   ]
  },
  {
   "cell_type": "code",
   "execution_count": 94,
   "id": "7c9d1ffd",
   "metadata": {},
   "outputs": [
    {
     "name": "stdout",
     "output_type": "stream",
     "text": [
      "id                            int64\n",
      "release_date         datetime64[ns]\n",
      "movie_name                   object\n",
      "production_budget             Int64\n",
      "domestic_gross                Int64\n",
      "worldwide_gross               Int64\n",
      "release_year                  int64\n",
      "dtype: object\n"
     ]
    },
    {
     "data": {
      "text/html": [
       "<div>\n",
       "<style scoped>\n",
       "    .dataframe tbody tr th:only-of-type {\n",
       "        vertical-align: middle;\n",
       "    }\n",
       "\n",
       "    .dataframe tbody tr th {\n",
       "        vertical-align: top;\n",
       "    }\n",
       "\n",
       "    .dataframe thead th {\n",
       "        text-align: right;\n",
       "    }\n",
       "</style>\n",
       "<table border=\"1\" class=\"dataframe\">\n",
       "  <thead>\n",
       "    <tr style=\"text-align: right;\">\n",
       "      <th></th>\n",
       "      <th>id</th>\n",
       "      <th>release_date</th>\n",
       "      <th>movie_name</th>\n",
       "      <th>production_budget</th>\n",
       "      <th>domestic_gross</th>\n",
       "      <th>worldwide_gross</th>\n",
       "      <th>release_year</th>\n",
       "    </tr>\n",
       "  </thead>\n",
       "  <tbody>\n",
       "    <tr>\n",
       "      <th>0</th>\n",
       "      <td>1</td>\n",
       "      <td>2009-12-18</td>\n",
       "      <td>avatar</td>\n",
       "      <td>425000000</td>\n",
       "      <td>760507625</td>\n",
       "      <td>2776345279</td>\n",
       "      <td>2009</td>\n",
       "    </tr>\n",
       "    <tr>\n",
       "      <th>1</th>\n",
       "      <td>2</td>\n",
       "      <td>2011-05-20</td>\n",
       "      <td>pirates of the caribbean: on stranger tides</td>\n",
       "      <td>410600000</td>\n",
       "      <td>241063875</td>\n",
       "      <td>1045663875</td>\n",
       "      <td>2011</td>\n",
       "    </tr>\n",
       "    <tr>\n",
       "      <th>2</th>\n",
       "      <td>3</td>\n",
       "      <td>2019-06-07</td>\n",
       "      <td>dark phoenix</td>\n",
       "      <td>350000000</td>\n",
       "      <td>42762350</td>\n",
       "      <td>149762350</td>\n",
       "      <td>2019</td>\n",
       "    </tr>\n",
       "    <tr>\n",
       "      <th>3</th>\n",
       "      <td>4</td>\n",
       "      <td>2015-05-01</td>\n",
       "      <td>avengers: age of ultron</td>\n",
       "      <td>330600000</td>\n",
       "      <td>459005868</td>\n",
       "      <td>1403013963</td>\n",
       "      <td>2015</td>\n",
       "    </tr>\n",
       "    <tr>\n",
       "      <th>4</th>\n",
       "      <td>5</td>\n",
       "      <td>2017-12-15</td>\n",
       "      <td>star wars ep. viii: the last jedi</td>\n",
       "      <td>317000000</td>\n",
       "      <td>620181382</td>\n",
       "      <td>1316721747</td>\n",
       "      <td>2017</td>\n",
       "    </tr>\n",
       "  </tbody>\n",
       "</table>\n",
       "</div>"
      ],
      "text/plain": [
       "   id release_date                                   movie_name  \\\n",
       "0   1   2009-12-18                                       avatar   \n",
       "1   2   2011-05-20  pirates of the caribbean: on stranger tides   \n",
       "2   3   2019-06-07                                 dark phoenix   \n",
       "3   4   2015-05-01                      avengers: age of ultron   \n",
       "4   5   2017-12-15            star wars ep. viii: the last jedi   \n",
       "\n",
       "   production_budget  domestic_gross  worldwide_gross  release_year  \n",
       "0          425000000       760507625       2776345279          2009  \n",
       "1          410600000       241063875       1045663875          2011  \n",
       "2          350000000        42762350        149762350          2019  \n",
       "3          330600000       459005868       1403013963          2015  \n",
       "4          317000000       620181382       1316721747          2017  "
      ]
     },
     "execution_count": 94,
     "metadata": {},
     "output_type": "execute_result"
    }
   ],
   "source": [
    "# Remove special characters ('$' and ',') and convert to Int64\n",
    "movie_budgets_df['production_budget'] = pd.to_numeric(\n",
    "    movie_budgets_df['production_budget'].astype(str).str.replace('[\\$,]', '', regex=True), errors='coerce'\n",
    ").astype('Int64')\n",
    "\n",
    "movie_budgets_df['domestic_gross'] = pd.to_numeric(\n",
    "    movie_budgets_df['domestic_gross'].astype(str).str.replace('[\\$,]', '', regex=True), errors='coerce'\n",
    ").astype('Int64')\n",
    "\n",
    "movie_budgets_df['worldwide_gross'] = pd.to_numeric(\n",
    "    movie_budgets_df['worldwide_gross'].astype(str).str.replace('[\\$,]', '', regex=True), errors='coerce'\n",
    ").astype('Int64')\n",
    "\n",
    "# Display the updated DataFrame\n",
    "print(movie_budgets_df.dtypes)\n",
    "movie_budgets_df.head()"
   ]
  },
  {
   "cell_type": "markdown",
   "id": "f5de9371",
   "metadata": {},
   "source": [
    "**Identifying and removing columns from a DataFrame that are not necessary or useful for analysis.**\n",
    "\n",
    "This process streamlines the dataset by:\n",
    "\n",
    "* **Reducing dimensionality:** Making the DataFrame easier to work with and potentially improving the performance of analytical models.\n",
    "* **Removing noise:** Eliminating columns that don't contribute meaningful information and could even introduce confusion or bias.\n",
    "* **Focusing on relevant data:** Ensuring that subsequent analysis is concentrated on the variables that truly matter for the research questions or objectives."
   ]
  },
  {
   "cell_type": "code",
   "execution_count": 95,
   "id": "69790608",
   "metadata": {},
   "outputs": [
    {
     "name": "stdout",
     "output_type": "stream",
     "text": [
      "Shape after dropping rows with production_budget < 0: (5782, 7)\n"
     ]
    }
   ],
   "source": [
    "# Drop rows where 'production_budget' is less than 0\n",
    "movie_budgets_df = movie_budgets_df[movie_budgets_df['production_budget'] >= 0]\n",
    "\n",
    "# Display the updated DataFrame\n",
    "print(f\"Shape after dropping rows with production_budget < 0: {movie_budgets_df.shape}\")"
   ]
  },
  {
   "cell_type": "code",
   "execution_count": 96,
   "id": "a636095b",
   "metadata": {},
   "outputs": [
    {
     "name": "stdout",
     "output_type": "stream",
     "text": [
      "Shape after dropping rows with zero gross: (5415, 7)\n"
     ]
    }
   ],
   "source": [
    "# Drop rows where both 'domestic_gross' and 'worldwide_gross' are 0\n",
    "movie_budgets_df = movie_budgets_df[\n",
    "    ~((movie_budgets_df['domestic_gross'] == 0) & (movie_budgets_df['worldwide_gross'] == 0))\n",
    "]\n",
    "\n",
    "# Display the updated DataFrame shape\n",
    "print(f\"Shape after dropping rows with zero gross: {movie_budgets_df.shape}\")"
   ]
  },
  {
   "cell_type": "code",
   "execution_count": 97,
   "id": "ec0e095d",
   "metadata": {},
   "outputs": [
    {
     "name": "stdout",
     "output_type": "stream",
     "text": [
      "DataFrames have been successfully saved to the 'extracted' folder.\n"
     ]
    }
   ],
   "source": [
    "output_folder = './extractedData'\n",
    "os.makedirs(output_folder, exist_ok=True)\n",
    "\n",
    "# Save movie_basics_df to a CSV file\n",
    "movie_budgets_df.to_csv(f'{output_folder}/cleaned_movie_budgets_df.csv', index=False)\n",
    "\n",
    "print(\"DataFrames have been successfully saved to the 'extracted' folder.\")"
   ]
  },
  {
   "cell_type": "markdown",
   "id": "7a9d40db",
   "metadata": {},
   "source": [
    "## COMBINE SQL DATA WITH MOVIE BUDGETS"
   ]
  },
  {
   "cell_type": "markdown",
   "id": "d81e24d8",
   "metadata": {},
   "source": [
    "To combine movies_df.csv and movie_budgets_df, you can use the following code:"
   ]
  },
  {
   "cell_type": "code",
   "execution_count": 98,
   "id": "9affff0d",
   "metadata": {},
   "outputs": [
    {
     "name": "stdout",
     "output_type": "stream",
     "text": [
      "<class 'pandas.core.frame.DataFrame'>\n",
      "RangeIndex: 10010 entries, 0 to 10009\n",
      "Data columns (total 7 columns):\n",
      " #   Column           Non-Null Count  Dtype  \n",
      "---  ------           --------------  -----  \n",
      " 0   movie_id         10010 non-null  object \n",
      " 1   primary_title    10010 non-null  object \n",
      " 2   start_year       10010 non-null  int64  \n",
      " 3   runtime_minutes  10010 non-null  int64  \n",
      " 4   genres           10010 non-null  object \n",
      " 5   averagerating    10010 non-null  float64\n",
      " 6   numvotes         10010 non-null  int64  \n",
      "dtypes: float64(1), int64(3), object(3)\n",
      "memory usage: 547.5+ KB\n",
      "----------------------------------------------------------------------------------------------------------------------------------------------------------------\n",
      "<class 'pandas.core.frame.DataFrame'>\n",
      "RangeIndex: 5415 entries, 0 to 5414\n",
      "Data columns (total 7 columns):\n",
      " #   Column             Non-Null Count  Dtype \n",
      "---  ------             --------------  ----- \n",
      " 0   id                 5415 non-null   int64 \n",
      " 1   release_date       5415 non-null   object\n",
      " 2   movie_name         5415 non-null   object\n",
      " 3   production_budget  5415 non-null   int64 \n",
      " 4   domestic_gross     5415 non-null   int64 \n",
      " 5   worldwide_gross    5415 non-null   int64 \n",
      " 6   release_year       5415 non-null   int64 \n",
      "dtypes: int64(5), object(2)\n",
      "memory usage: 296.3+ KB\n"
     ]
    }
   ],
   "source": [
    "# Load the cleaned movies_df.csv\n",
    "movies_df = pd.read_csv('./cleaned_data/movies_df.csv')\n",
    "movie_budgets_df = pd.read_csv('./extractedData/cleaned_movie_budgets_df.csv')\n",
    "\n",
    "movies_df.info()\n",
    "print('--------' * 20)\n",
    "movie_budgets_df.info()"
   ]
  },
  {
   "cell_type": "markdown",
   "id": "f2dde220",
   "metadata": {},
   "source": [
    "**Renaming columns and converting the release year to a datetime object** \n",
    "\n",
    "This standardizes the column names for 'movie\\_name' and 'release\\_year'"
   ]
  },
  {
   "cell_type": "code",
   "execution_count": 99,
   "id": "e48c97e0",
   "metadata": {},
   "outputs": [],
   "source": [
    "# change primary_title to movie_name, start_year to release_year\n",
    "movies_df.rename(columns={'primary_title': 'movie_name', 'start_year': 'release_year'}, inplace=True)\n"
   ]
  },
  {
   "cell_type": "markdown",
   "id": "8b9959e8",
   "metadata": {},
   "source": [
    "This combines movie details (from `movies_df`) with budget and revenue information (from `movie_budgets_df`) into a single DataFrame for further analysis. It ensures that only movies present in both datasets are included.\n",
    "1. **Merging DataFrames**:\n",
    "   - The `movies_df` and `movie_budgets_df` DataFrames are merged on the `movie_name` column.\n",
    "   - An **inner join** is used, meaning only rows with matching `movie_name` values in both DataFrames are included in the resulting `combined_data` DataFrame.\n",
    "\n",
    "2. **Adding Suffixes**:\n",
    "   - Suffixes `('_movies', '_budgets')` are added to distinguish columns with the same name in both DataFrames (e.g., `release_year_movies` and `release_year_budgets`).\n",
    "\n",
    "3. **Displaying Results**:\n",
    "   - The shape of the merged DataFrame (`combined_data`) is printed to show the number of rows and columns.\n",
    "   - The first few rows of the merged DataFrame are displayed using `.head()` to verify the merge."
   ]
  },
  {
   "cell_type": "code",
   "execution_count": 100,
   "id": "d76482e8",
   "metadata": {},
   "outputs": [
    {
     "name": "stdout",
     "output_type": "stream",
     "text": [
      "Shape of the combined DataFrame: (1426, 13)\n"
     ]
    },
    {
     "data": {
      "text/html": [
       "<div>\n",
       "<style scoped>\n",
       "    .dataframe tbody tr th:only-of-type {\n",
       "        vertical-align: middle;\n",
       "    }\n",
       "\n",
       "    .dataframe tbody tr th {\n",
       "        vertical-align: top;\n",
       "    }\n",
       "\n",
       "    .dataframe thead th {\n",
       "        text-align: right;\n",
       "    }\n",
       "</style>\n",
       "<table border=\"1\" class=\"dataframe\">\n",
       "  <thead>\n",
       "    <tr style=\"text-align: right;\">\n",
       "      <th></th>\n",
       "      <th>movie_id</th>\n",
       "      <th>movie_name</th>\n",
       "      <th>release_year_movies</th>\n",
       "      <th>runtime_minutes</th>\n",
       "      <th>genres</th>\n",
       "      <th>averagerating</th>\n",
       "      <th>numvotes</th>\n",
       "      <th>id</th>\n",
       "      <th>release_date</th>\n",
       "      <th>production_budget</th>\n",
       "      <th>domestic_gross</th>\n",
       "      <th>worldwide_gross</th>\n",
       "      <th>release_year_budgets</th>\n",
       "    </tr>\n",
       "  </thead>\n",
       "  <tbody>\n",
       "    <tr>\n",
       "      <th>0</th>\n",
       "      <td>tt0249516</td>\n",
       "      <td>foodfight!</td>\n",
       "      <td>2012</td>\n",
       "      <td>91</td>\n",
       "      <td>action,animation,comedy</td>\n",
       "      <td>1.9</td>\n",
       "      <td>8248</td>\n",
       "      <td>26</td>\n",
       "      <td>2012-12-31</td>\n",
       "      <td>45000000</td>\n",
       "      <td>0</td>\n",
       "      <td>73706</td>\n",
       "      <td>2012</td>\n",
       "    </tr>\n",
       "    <tr>\n",
       "      <th>1</th>\n",
       "      <td>tt0359950</td>\n",
       "      <td>the secret life of walter mitty</td>\n",
       "      <td>2013</td>\n",
       "      <td>114</td>\n",
       "      <td>adventure,comedy,drama</td>\n",
       "      <td>7.3</td>\n",
       "      <td>275300</td>\n",
       "      <td>37</td>\n",
       "      <td>2013-12-25</td>\n",
       "      <td>91000000</td>\n",
       "      <td>58236838</td>\n",
       "      <td>187861183</td>\n",
       "      <td>2013</td>\n",
       "    </tr>\n",
       "    <tr>\n",
       "      <th>2</th>\n",
       "      <td>tt0365907</td>\n",
       "      <td>a walk among the tombstones</td>\n",
       "      <td>2014</td>\n",
       "      <td>114</td>\n",
       "      <td>action,crime,drama</td>\n",
       "      <td>6.5</td>\n",
       "      <td>105116</td>\n",
       "      <td>67</td>\n",
       "      <td>2014-09-19</td>\n",
       "      <td>28000000</td>\n",
       "      <td>26017685</td>\n",
       "      <td>62108587</td>\n",
       "      <td>2014</td>\n",
       "    </tr>\n",
       "    <tr>\n",
       "      <th>3</th>\n",
       "      <td>tt0369610</td>\n",
       "      <td>jurassic world</td>\n",
       "      <td>2015</td>\n",
       "      <td>124</td>\n",
       "      <td>action,adventure,sci-fi</td>\n",
       "      <td>7.0</td>\n",
       "      <td>539338</td>\n",
       "      <td>34</td>\n",
       "      <td>2015-06-12</td>\n",
       "      <td>215000000</td>\n",
       "      <td>652270625</td>\n",
       "      <td>1648854864</td>\n",
       "      <td>2015</td>\n",
       "    </tr>\n",
       "    <tr>\n",
       "      <th>4</th>\n",
       "      <td>tt0376136</td>\n",
       "      <td>the rum diary</td>\n",
       "      <td>2011</td>\n",
       "      <td>119</td>\n",
       "      <td>comedy,drama</td>\n",
       "      <td>6.2</td>\n",
       "      <td>94787</td>\n",
       "      <td>16</td>\n",
       "      <td>2011-10-28</td>\n",
       "      <td>45000000</td>\n",
       "      <td>13109815</td>\n",
       "      <td>21544732</td>\n",
       "      <td>2011</td>\n",
       "    </tr>\n",
       "  </tbody>\n",
       "</table>\n",
       "</div>"
      ],
      "text/plain": [
       "    movie_id                       movie_name  release_year_movies  \\\n",
       "0  tt0249516                       foodfight!                 2012   \n",
       "1  tt0359950  the secret life of walter mitty                 2013   \n",
       "2  tt0365907      a walk among the tombstones                 2014   \n",
       "3  tt0369610                   jurassic world                 2015   \n",
       "4  tt0376136                    the rum diary                 2011   \n",
       "\n",
       "   runtime_minutes                   genres  averagerating  numvotes  id  \\\n",
       "0               91  action,animation,comedy            1.9      8248  26   \n",
       "1              114   adventure,comedy,drama            7.3    275300  37   \n",
       "2              114       action,crime,drama            6.5    105116  67   \n",
       "3              124  action,adventure,sci-fi            7.0    539338  34   \n",
       "4              119             comedy,drama            6.2     94787  16   \n",
       "\n",
       "  release_date  production_budget  domestic_gross  worldwide_gross  \\\n",
       "0   2012-12-31           45000000               0            73706   \n",
       "1   2013-12-25           91000000        58236838        187861183   \n",
       "2   2014-09-19           28000000        26017685         62108587   \n",
       "3   2015-06-12          215000000       652270625       1648854864   \n",
       "4   2011-10-28           45000000        13109815         21544732   \n",
       "\n",
       "   release_year_budgets  \n",
       "0                  2012  \n",
       "1                  2013  \n",
       "2                  2014  \n",
       "3                  2015  \n",
       "4                  2011  "
      ]
     },
     "execution_count": 100,
     "metadata": {},
     "output_type": "execute_result"
    }
   ],
   "source": [
    "# Merge movies_df and movie_budgets_df on 'movie_name'\n",
    "combined_data = pd.merge(\n",
    "    movies_df,\n",
    "    movie_budgets_df,\n",
    "    on='movie_name',\n",
    "    how='inner',  # Use 'inner' to keep only matching rows\n",
    "    suffixes=('_movies', '_budgets')  # Add suffixes to distinguish columns\n",
    ")\n",
    "\n",
    "# Display the shape and the first few rows of the combined DataFrame\n",
    "print(f\"Shape of the combined DataFrame: {combined_data.shape}\")\n",
    "combined_data.head()"
   ]
  },
  {
   "cell_type": "markdown",
   "id": "7065d6a9",
   "metadata": {},
   "source": [
    "To check if the release_year_movies and release_year_budgets columns do not match in the combined_data DataFrame\n",
    "\n",
    "1. **Filter Rows with Mismatched Years**:\n",
    "   - The condition `combined_data['release_year_movies'] != combined_data['release_year_budgets']` identifies rows where the release years in the two columns do not match.\n",
    "\n",
    "2. **Count Mismatched Rows**:\n",
    "   - `mismatched_years.shape[0]` gives the total number of rows with mismatched release years.\n",
    "\n",
    "3. **Display Results**:\n",
    "   - The `head()` method displays the first few rows of the mismatched data, showing the `movie_name`, `release_year_movies`, and `release_year_budgets` columns for inspection."
   ]
  },
  {
   "cell_type": "code",
   "execution_count": 103,
   "id": "e080fdf1",
   "metadata": {},
   "outputs": [
    {
     "name": "stdout",
     "output_type": "stream",
     "text": [
      "Number of rows with a year difference greater than 10: 45\n"
     ]
    },
    {
     "data": {
      "text/html": [
       "<div>\n",
       "<style scoped>\n",
       "    .dataframe tbody tr th:only-of-type {\n",
       "        vertical-align: middle;\n",
       "    }\n",
       "\n",
       "    .dataframe tbody tr th {\n",
       "        vertical-align: top;\n",
       "    }\n",
       "\n",
       "    .dataframe thead th {\n",
       "        text-align: right;\n",
       "    }\n",
       "</style>\n",
       "<table border=\"1\" class=\"dataframe\">\n",
       "  <thead>\n",
       "    <tr style=\"text-align: right;\">\n",
       "      <th></th>\n",
       "      <th>movie_name</th>\n",
       "      <th>release_year_movies</th>\n",
       "      <th>release_year_budgets</th>\n",
       "    </tr>\n",
       "  </thead>\n",
       "  <tbody>\n",
       "    <tr>\n",
       "      <th>8</th>\n",
       "      <td>action jackson</td>\n",
       "      <td>2014</td>\n",
       "      <td>1988</td>\n",
       "    </tr>\n",
       "    <tr>\n",
       "      <th>106</th>\n",
       "      <td>fair game</td>\n",
       "      <td>2010</td>\n",
       "      <td>1995</td>\n",
       "    </tr>\n",
       "    <tr>\n",
       "      <th>404</th>\n",
       "      <td>no man's land</td>\n",
       "      <td>2013</td>\n",
       "      <td>2001</td>\n",
       "    </tr>\n",
       "    <tr>\n",
       "      <th>433</th>\n",
       "      <td>vampires</td>\n",
       "      <td>2010</td>\n",
       "      <td>1998</td>\n",
       "    </tr>\n",
       "    <tr>\n",
       "      <th>464</th>\n",
       "      <td>playing for keeps</td>\n",
       "      <td>2012</td>\n",
       "      <td>1986</td>\n",
       "    </tr>\n",
       "  </tbody>\n",
       "</table>\n",
       "</div>"
      ],
      "text/plain": [
       "            movie_name  release_year_movies  release_year_budgets\n",
       "8       action jackson                 2014                  1988\n",
       "106          fair game                 2010                  1995\n",
       "404      no man's land                 2013                  2001\n",
       "433           vampires                 2010                  1998\n",
       "464  playing for keeps                 2012                  1986"
      ]
     },
     "execution_count": 103,
     "metadata": {},
     "output_type": "execute_result"
    }
   ],
   "source": [
    "# Filter rows where the absolute difference between release_year_movies and release_year_budgets is greater than 10\n",
    "large_mismatched_years = combined_data[\n",
    "    (combined_data['release_year_movies'] - combined_data['release_year_budgets']).abs() > 10\n",
    "]\n",
    "\n",
    "# Display the count and the mismatched rows\n",
    "print(f\"Number of rows with a year difference greater than 10: {large_mismatched_years.shape[0]}\")\n",
    "large_mismatched_years[['movie_name', 'release_year_movies', 'release_year_budgets']].head()"
   ]
  },
  {
   "cell_type": "code",
   "execution_count": 104,
   "id": "afa3ab58",
   "metadata": {},
   "outputs": [
    {
     "name": "stdout",
     "output_type": "stream",
     "text": [
      "Shape of the combined DataFrame before dropping rows: (1426, 13)\n",
      "Shape of the combined DataFrame after dropping rows: (1381, 13)\n"
     ]
    }
   ],
   "source": [
    "# Shape of the combined DataFrame before dropping rows\n",
    "print(f\"Shape of the combined DataFrame before dropping rows: {combined_data.shape}\")   \n",
    "\n",
    "# DROP ROWS WHERE THE YEAR DIFFERENCE IS GREATER THAN 10\n",
    "combined_data = combined_data[\n",
    "    (combined_data['release_year_movies'] - combined_data['release_year_budgets']).abs() <= 10\n",
    "]\n",
    "\n",
    "print(f\"Shape of the combined DataFrame after dropping rows: {combined_data.shape}\")"
   ]
  },
  {
   "cell_type": "code",
   "execution_count": 105,
   "id": "23149120",
   "metadata": {},
   "outputs": [
    {
     "name": "stdout",
     "output_type": "stream",
     "text": [
      "<class 'pandas.core.frame.DataFrame'>\n",
      "Int64Index: 1381 entries, 0 to 1425\n",
      "Data columns (total 13 columns):\n",
      " #   Column                Non-Null Count  Dtype  \n",
      "---  ------                --------------  -----  \n",
      " 0   movie_id              1381 non-null   object \n",
      " 1   movie_name            1381 non-null   object \n",
      " 2   release_year_movies   1381 non-null   int64  \n",
      " 3   runtime_minutes       1381 non-null   int64  \n",
      " 4   genres                1381 non-null   object \n",
      " 5   averagerating         1381 non-null   float64\n",
      " 6   numvotes              1381 non-null   int64  \n",
      " 7   id                    1381 non-null   int64  \n",
      " 8   release_date          1381 non-null   object \n",
      " 9   production_budget     1381 non-null   int64  \n",
      " 10  domestic_gross        1381 non-null   int64  \n",
      " 11  worldwide_gross       1381 non-null   int64  \n",
      " 12  release_year_budgets  1381 non-null   int64  \n",
      "dtypes: float64(1), int64(8), object(4)\n",
      "memory usage: 151.0+ KB\n"
     ]
    }
   ],
   "source": [
    "# We check if the data types are consistent across the combined DataFrame\n",
    "combined_data.info()"
   ]
  },
  {
   "cell_type": "code",
   "execution_count": 106,
   "id": "d6720deb",
   "metadata": {},
   "outputs": [
    {
     "data": {
      "text/html": [
       "<div>\n",
       "<style scoped>\n",
       "    .dataframe tbody tr th:only-of-type {\n",
       "        vertical-align: middle;\n",
       "    }\n",
       "\n",
       "    .dataframe tbody tr th {\n",
       "        vertical-align: top;\n",
       "    }\n",
       "\n",
       "    .dataframe thead th {\n",
       "        text-align: right;\n",
       "    }\n",
       "</style>\n",
       "<table border=\"1\" class=\"dataframe\">\n",
       "  <thead>\n",
       "    <tr style=\"text-align: right;\">\n",
       "      <th></th>\n",
       "      <th>movie_id</th>\n",
       "      <th>movie_name</th>\n",
       "      <th>release_year_movies</th>\n",
       "      <th>runtime_minutes</th>\n",
       "      <th>genres</th>\n",
       "      <th>averagerating</th>\n",
       "      <th>numvotes</th>\n",
       "      <th>id</th>\n",
       "      <th>release_date</th>\n",
       "      <th>production_budget</th>\n",
       "      <th>domestic_gross</th>\n",
       "      <th>worldwide_gross</th>\n",
       "      <th>release_year_budgets</th>\n",
       "    </tr>\n",
       "  </thead>\n",
       "  <tbody>\n",
       "  </tbody>\n",
       "</table>\n",
       "</div>"
      ],
      "text/plain": [
       "Empty DataFrame\n",
       "Columns: [movie_id, movie_name, release_year_movies, runtime_minutes, genres, averagerating, numvotes, id, release_date, production_budget, domestic_gross, worldwide_gross, release_year_budgets]\n",
       "Index: []"
      ]
     },
     "execution_count": 106,
     "metadata": {},
     "output_type": "execute_result"
    }
   ],
   "source": [
    "# check for duplicates in the combined DataFrame based on 'movie_name'\n",
    "duplicates_combined = combined_data[combined_data.duplicated(subset=['movie_name'], keep=False)]\n",
    "duplicates_combined"
   ]
  },
  {
   "cell_type": "code",
   "execution_count": 107,
   "id": "cc45fb1a",
   "metadata": {},
   "outputs": [],
   "source": [
    "# drop irelevant columns\n",
    "drop_columns = [ 'id', 'release_year_budgets']\n",
    "combined_data.drop(columns=drop_columns, inplace=True)\n",
    "\n",
    "# Rename release_year_movies to release_year\n",
    "combined_data.rename(columns={'release_year_movies': 'release_year'}, inplace=True)\n"
   ]
  },
  {
   "cell_type": "code",
   "execution_count": 108,
   "id": "c3a28bfb",
   "metadata": {},
   "outputs": [
    {
     "data": {
      "text/plain": [
       "movie_id              object\n",
       "movie_name            object\n",
       "release_year           int64\n",
       "runtime_minutes        int64\n",
       "genres                object\n",
       "averagerating        float64\n",
       "numvotes               int64\n",
       "release_date          object\n",
       "production_budget      int64\n",
       "domestic_gross         int64\n",
       "worldwide_gross        int64\n",
       "dtype: object"
      ]
     },
     "execution_count": 108,
     "metadata": {},
     "output_type": "execute_result"
    }
   ],
   "source": [
    "# This will display the data types of the remaining columns in the combined DataFrame\n",
    "combined_data.dtypes"
   ]
  },
  {
   "cell_type": "code",
   "execution_count": 109,
   "id": "603dc11c",
   "metadata": {},
   "outputs": [
    {
     "name": "stdout",
     "output_type": "stream",
     "text": [
      "movie_id                     object\n",
      "movie_name                   object\n",
      "release_year                  int64\n",
      "runtime_minutes               int64\n",
      "genres                       object\n",
      "averagerating               float64\n",
      "numvotes                      int64\n",
      "release_date         datetime64[ns]\n",
      "production_budget             int64\n",
      "domestic_gross                int64\n",
      "worldwide_gross               int64\n",
      "dtype: object\n"
     ]
    }
   ],
   "source": [
    "# Convert 'release_date' to datetime format\n",
    "combined_data['release_date'] = pd.to_datetime(combined_data['release_date'])\n",
    "\n",
    "# Display the updated DataFrame to confirm the change\n",
    "print(combined_data.dtypes)"
   ]
  },
  {
   "cell_type": "code",
   "execution_count": 110,
   "id": "5e9f8ee3",
   "metadata": {},
   "outputs": [
    {
     "name": "stdout",
     "output_type": "stream",
     "text": [
      "DataFrames have been successfully saved to the 'extracted' folder.\n"
     ]
    }
   ],
   "source": [
    "output_folder = './cleaned_data'\n",
    "os.makedirs(output_folder, exist_ok=True)\n",
    "\n",
    "# Save movie_basics_df to a CSV file\n",
    "combined_data.to_csv(f'{output_folder}/movie_budgets.csv', index=False)\n",
    "\n",
    "print(\"DataFrames have been successfully saved to the 'extracted' folder.\")"
   ]
  },
  {
   "cell_type": "markdown",
   "id": "04f5853a",
   "metadata": {},
   "source": [
    "### Conclusion:\n",
    "\n",
    "The `movie_budgets_df` dataset is successfully cleaned and prepared for analysis by:\n",
    " - renaming columns, \n",
    " - converting `release_date` to datetime format, \n",
    " - standardizing `movie_name`\n",
    " - cleaning financial columns. \n",
    " \n",
    "It is then merged with `movies_df` to create a combined dataset, ensuring only matching movies were included. \n",
    "This combined dataset is now ready for further analysis, with mismatched release years identified and irrelevant columns removed for clarity and focus."
   ]
  }
 ],
 "metadata": {
  "kernelspec": {
   "display_name": "learn-env",
   "language": "python",
   "name": "python3"
  },
  "language_info": {
   "codemirror_mode": {
    "name": "ipython",
    "version": 3
   },
   "file_extension": ".py",
   "mimetype": "text/x-python",
   "name": "python",
   "nbconvert_exporter": "python",
   "pygments_lexer": "ipython3",
   "version": "3.8.5"
  }
 },
 "nbformat": 4,
 "nbformat_minor": 5
}
