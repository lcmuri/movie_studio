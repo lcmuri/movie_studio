{
 "cells": [
  {
   "cell_type": "code",
   "execution_count": 1,
   "metadata": {},
   "outputs": [],
   "source": [
    "import pandas as pd\n",
    "import numpy as np\n",
    "import sqlite3\n",
    "import zipfile\n",
    "import ast"
   ]
  },
  {
   "attachments": {},
   "cell_type": "markdown",
   "metadata": {},
   "source": [
    "## List of Dataframes:"
   ]
  },
  {
   "cell_type": "code",
   "execution_count": 2,
   "metadata": {},
   "outputs": [
    {
     "name": "stdout",
     "output_type": "stream",
     "text": [
      "movie_info_df columns: \n",
      "['id', 'synopsis', 'rating', 'genre', 'director', 'writer', 'theater_date', 'runtime']\n",
      "\n",
      "movie_gross_df columns: \n",
      "['title', 'studio', 'domestic_gross', 'foreign_gross', 'year']\n",
      "\n",
      "movie_budget_df columns: \n",
      "['id', 'release_date', 'movie', 'production_budget', 'domestic_gross', 'worldwide_gross']\n",
      "\n",
      "movie_reviews_df columns: \n",
      "['id', 'review', 'fresh', 'critic', 'top_critic', 'publisher', 'date']\n",
      "\n",
      "tmbd_movie_df columns: \n",
      "['Unnamed: 0', 'genre_ids', 'id', 'original_language', 'original_title', 'popularity', 'release_date', 'title', 'vote_average', 'vote_count']\n",
      "\n"
     ]
    }
   ],
   "source": [
    "# Dataframes\n",
    "movie_info_df = pd.read_csv('zippedData/rt.movie_info.tsv.gz', sep='\\t', compression='gzip')\n",
    "movie_info_drop = ['box_office', 'currency', 'dvd_date', 'studio']\n",
    "movie_info_df = movie_info_df.drop(columns=movie_info_drop)\n",
    "print(f'movie_info_df columns: \\n{list(movie_info_df.columns)}\\n')\n",
    "\n",
    "\n",
    "movie_gross_df = pd.read_csv('zippedData/bom.movie_gross.csv.gz')\n",
    "print(f'movie_gross_df columns: \\n{list(movie_gross_df.columns)}\\n')\n",
    "\n",
    "movie_budget_df = pd.read_csv('zippedData/tn.movie_budgets.csv.gz')\n",
    "print(f'movie_budget_df columns: \\n{list(movie_budget_df.columns)}\\n')\n",
    "\n",
    "movie_reviews_df = pd.read_csv('zippedData/rt.reviews.tsv.gz', sep='\\t', compression='gzip', encoding='latin-1')\n",
    "movie_review_drop = ['rating']\n",
    "movie_reviews_df = movie_reviews_df.drop(columns=movie_review_drop) # Dropping rating: poor formatting & lacking 50% of data.\n",
    "print(f'movie_reviews_df columns: \\n{list(movie_reviews_df.columns)}\\n')\n",
    "\n",
    "\n",
    "tmbd_movie_df = pd.read_csv('zippedData/tmdb.movies.csv.gz')\n",
    "print(f'tmbd_movie_df columns: \\n{list(tmbd_movie_df.columns)}\\n')"
   ]
  },
  {
   "attachments": {},
   "cell_type": "markdown",
   "metadata": {},
   "source": [
    "**Combined Datraframe**: MAIN_DF"
   ]
  },
  {
   "cell_type": "code",
   "execution_count": 3,
   "metadata": {},
   "outputs": [],
   "source": [
    "#change budget column name to title instead of movie\n",
    "movie_budget_df = movie_budget_df.rename(columns={'movie': 'title'})\n",
    "# Merge tmbd_movie_df and movie_gross_df]\n",
    "main_df = pd.merge(tmbd_movie_df, movie_gross_df, on='title', how='left')\n",
    "# Keep only the 'title' and 'production_budget' columns from movie_budget_df\n",
    "main_budget_df = movie_budget_df[['title', 'production_budget']]\n",
    "# Merge master_df and movie_budget_df\n",
    "main_df = pd.merge(main_df, movie_budget_df, on='title', how='left')\n",
    "# Drop unused column\n",
    "column_to_drop = ['Unnamed: 0', 'release_date_y', 'domestic_gross_y', 'id_y', 'year']\n",
    "main_df = main_df.drop(columns=column_to_drop)\n",
    "#rename main_df columns to better reflact data\n",
    "main_df = main_df.rename(columns={'id_x': 'id', 'release_date_x': 'release_date', 'domestic_gross_x': 'domestic_gross'})\n"
   ]
  },
  {
   "attachments": {},
   "cell_type": "markdown",
   "metadata": {},
   "source": [
    "Cleaning & filtering **MAIN_DF**:"
   ]
  },
  {
   "cell_type": "code",
   "execution_count": 5,
   "metadata": {},
   "outputs": [],
   "source": [
    "# Filter to only english\n",
    "main_df = main_df[main_df['original_language'] == 'en']\n",
    "# Filter by 2010 and sooner\n",
    "main_df = main_df[main_df['release_date'] >= '2010-01-01']\n",
    "#Updateing 'production_budget' & 'worldwide_gross' columns\n",
    "# First, replace $ and ,\n",
    "main_df['production_budget'] = main_df['production_budget'].str.replace('$', '').str.replace(',', '')\n",
    "main_df['worldwide_gross'] = main_df['worldwide_gross'].str.replace('$', '').str.replace(',', '')\n",
    "# Fill NaNs with 0\n",
    "main_df['production_budget'] = main_df['production_budget'].fillna(0)\n",
    "main_df['worldwide_gross'] = main_df['worldwide_gross'].fillna(0)\n",
    "# Now convert to int\n",
    "main_df['production_budget'] = main_df['production_budget'].astype(int)\n",
    "main_df['worldwide_gross'] = main_df['worldwide_gross'].astype(int)\n",
    "# Adding Columns\n",
    "main_df['net_profit'] = main_df['worldwide_gross'] - main_df['production_budget']\n",
    "main_df['roi'] = main_df['net_profit'] / main_df['production_budget'] * 100\n",
    "# Create a dictionary mapping genre IDs to names, all in lowercase\n",
    "genre_dict = {28: 'action', 12: 'adventure', 16: 'animation', 35: 'comedy', 80: 'crime', 99: 'documentary', \n",
    "              18: 'drama', 10751: 'family', 14: 'fantasy', 36: 'history', 27: 'horror', 10402: 'music', \n",
    "              9648: 'mystery', 10749: 'romance', 878: 'science fiction', 10770: 'tv movie', 53: 'thriller', \n",
    "              10752: 'war', 37: 'western'}\n",
    "\n",
    "def decode_genre_ids(genre_ids_string):\n",
    "    # Convert string to list\n",
    "    genre_ids = ast.literal_eval(genre_ids_string)\n",
    "    # Return the genre names corresponding to the IDs\n",
    "    return [genre_dict[id] for id in genre_ids if id in genre_dict]\n",
    "\n",
    "# Apply the function to each value in the 'genre_ids' column\n",
    "main_df['genres'] = main_df['genre_ids'].apply(decode_genre_ids)\n",
    "\n"
   ]
  },
  {
   "cell_type": "code",
   "execution_count": 6,
   "metadata": {},
   "outputs": [
    {
     "data": {
      "text/html": [
       "<div>\n",
       "<style scoped>\n",
       "    .dataframe tbody tr th:only-of-type {\n",
       "        vertical-align: middle;\n",
       "    }\n",
       "\n",
       "    .dataframe tbody tr th {\n",
       "        vertical-align: top;\n",
       "    }\n",
       "\n",
       "    .dataframe thead th {\n",
       "        text-align: right;\n",
       "    }\n",
       "</style>\n",
       "<table border=\"1\" class=\"dataframe\">\n",
       "  <thead>\n",
       "    <tr style=\"text-align: right;\">\n",
       "      <th></th>\n",
       "      <th>genre_ids</th>\n",
       "      <th>id</th>\n",
       "      <th>original_language</th>\n",
       "      <th>original_title</th>\n",
       "      <th>popularity</th>\n",
       "      <th>release_date</th>\n",
       "      <th>title</th>\n",
       "      <th>vote_average</th>\n",
       "      <th>vote_count</th>\n",
       "      <th>studio</th>\n",
       "      <th>domestic_gross</th>\n",
       "      <th>foreign_gross</th>\n",
       "      <th>production_budget</th>\n",
       "      <th>worldwide_gross</th>\n",
       "      <th>net_profit</th>\n",
       "      <th>roi</th>\n",
       "      <th>genres</th>\n",
       "    </tr>\n",
       "  </thead>\n",
       "  <tbody>\n",
       "    <tr>\n",
       "      <th>0</th>\n",
       "      <td>[12, 14, 10751]</td>\n",
       "      <td>12444</td>\n",
       "      <td>en</td>\n",
       "      <td>Harry Potter and the Deathly Hallows: Part 1</td>\n",
       "      <td>33.533</td>\n",
       "      <td>2010-11-19</td>\n",
       "      <td>Harry Potter and the Deathly Hallows: Part 1</td>\n",
       "      <td>7.7</td>\n",
       "      <td>10788</td>\n",
       "      <td>NaN</td>\n",
       "      <td>NaN</td>\n",
       "      <td>NaN</td>\n",
       "      <td>0</td>\n",
       "      <td>0</td>\n",
       "      <td>0</td>\n",
       "      <td>NaN</td>\n",
       "      <td>[adventure, fantasy, family]</td>\n",
       "    </tr>\n",
       "    <tr>\n",
       "      <th>1</th>\n",
       "      <td>[14, 12, 16, 10751]</td>\n",
       "      <td>10191</td>\n",
       "      <td>en</td>\n",
       "      <td>How to Train Your Dragon</td>\n",
       "      <td>28.734</td>\n",
       "      <td>2010-03-26</td>\n",
       "      <td>How to Train Your Dragon</td>\n",
       "      <td>7.7</td>\n",
       "      <td>7610</td>\n",
       "      <td>P/DW</td>\n",
       "      <td>217600000.0</td>\n",
       "      <td>277300000</td>\n",
       "      <td>165000000</td>\n",
       "      <td>494870992</td>\n",
       "      <td>329870992</td>\n",
       "      <td>199.921813</td>\n",
       "      <td>[fantasy, adventure, animation, family]</td>\n",
       "    </tr>\n",
       "    <tr>\n",
       "      <th>2</th>\n",
       "      <td>[12, 28, 878]</td>\n",
       "      <td>10138</td>\n",
       "      <td>en</td>\n",
       "      <td>Iron Man 2</td>\n",
       "      <td>28.515</td>\n",
       "      <td>2010-05-07</td>\n",
       "      <td>Iron Man 2</td>\n",
       "      <td>6.8</td>\n",
       "      <td>12368</td>\n",
       "      <td>Par.</td>\n",
       "      <td>312400000.0</td>\n",
       "      <td>311500000</td>\n",
       "      <td>170000000</td>\n",
       "      <td>621156389</td>\n",
       "      <td>451156389</td>\n",
       "      <td>265.386111</td>\n",
       "      <td>[adventure, action, science fiction]</td>\n",
       "    </tr>\n",
       "    <tr>\n",
       "      <th>4</th>\n",
       "      <td>[28, 878, 12]</td>\n",
       "      <td>27205</td>\n",
       "      <td>en</td>\n",
       "      <td>Inception</td>\n",
       "      <td>27.920</td>\n",
       "      <td>2010-07-16</td>\n",
       "      <td>Inception</td>\n",
       "      <td>8.3</td>\n",
       "      <td>22186</td>\n",
       "      <td>WB</td>\n",
       "      <td>292600000.0</td>\n",
       "      <td>535700000</td>\n",
       "      <td>160000000</td>\n",
       "      <td>835524642</td>\n",
       "      <td>675524642</td>\n",
       "      <td>422.202901</td>\n",
       "      <td>[action, science fiction, adventure]</td>\n",
       "    </tr>\n",
       "    <tr>\n",
       "      <th>5</th>\n",
       "      <td>[12, 14, 10751]</td>\n",
       "      <td>32657</td>\n",
       "      <td>en</td>\n",
       "      <td>Percy Jackson &amp; the Olympians: The Lightning T...</td>\n",
       "      <td>26.691</td>\n",
       "      <td>2010-02-11</td>\n",
       "      <td>Percy Jackson &amp; the Olympians: The Lightning T...</td>\n",
       "      <td>6.1</td>\n",
       "      <td>4229</td>\n",
       "      <td>NaN</td>\n",
       "      <td>NaN</td>\n",
       "      <td>NaN</td>\n",
       "      <td>95000000</td>\n",
       "      <td>223050874</td>\n",
       "      <td>128050874</td>\n",
       "      <td>134.790394</td>\n",
       "      <td>[adventure, fantasy, family]</td>\n",
       "    </tr>\n",
       "  </tbody>\n",
       "</table>\n",
       "</div>"
      ],
      "text/plain": [
       "             genre_ids     id original_language  \\\n",
       "0      [12, 14, 10751]  12444                en   \n",
       "1  [14, 12, 16, 10751]  10191                en   \n",
       "2        [12, 28, 878]  10138                en   \n",
       "4        [28, 878, 12]  27205                en   \n",
       "5      [12, 14, 10751]  32657                en   \n",
       "\n",
       "                                      original_title  popularity release_date  \\\n",
       "0       Harry Potter and the Deathly Hallows: Part 1      33.533   2010-11-19   \n",
       "1                           How to Train Your Dragon      28.734   2010-03-26   \n",
       "2                                         Iron Man 2      28.515   2010-05-07   \n",
       "4                                          Inception      27.920   2010-07-16   \n",
       "5  Percy Jackson & the Olympians: The Lightning T...      26.691   2010-02-11   \n",
       "\n",
       "                                               title  vote_average  \\\n",
       "0       Harry Potter and the Deathly Hallows: Part 1           7.7   \n",
       "1                           How to Train Your Dragon           7.7   \n",
       "2                                         Iron Man 2           6.8   \n",
       "4                                          Inception           8.3   \n",
       "5  Percy Jackson & the Olympians: The Lightning T...           6.1   \n",
       "\n",
       "   vote_count studio  domestic_gross foreign_gross  production_budget  \\\n",
       "0       10788    NaN             NaN           NaN                  0   \n",
       "1        7610   P/DW     217600000.0     277300000          165000000   \n",
       "2       12368   Par.     312400000.0     311500000          170000000   \n",
       "4       22186     WB     292600000.0     535700000          160000000   \n",
       "5        4229    NaN             NaN           NaN           95000000   \n",
       "\n",
       "   worldwide_gross  net_profit         roi  \\\n",
       "0                0           0         NaN   \n",
       "1        494870992   329870992  199.921813   \n",
       "2        621156389   451156389  265.386111   \n",
       "4        835524642   675524642  422.202901   \n",
       "5        223050874   128050874  134.790394   \n",
       "\n",
       "                                    genres  \n",
       "0             [adventure, fantasy, family]  \n",
       "1  [fantasy, adventure, animation, family]  \n",
       "2     [adventure, action, science fiction]  \n",
       "4     [action, science fiction, adventure]  \n",
       "5             [adventure, fantasy, family]  "
      ]
     },
     "execution_count": 6,
     "metadata": {},
     "output_type": "execute_result"
    }
   ],
   "source": [
    "main_df.head()"
   ]
  },
  {
   "cell_type": "code",
   "execution_count": 7,
   "metadata": {},
   "outputs": [
    {
     "name": "stdout",
     "output_type": "stream",
     "text": [
      "<class 'pandas.core.frame.DataFrame'>\n",
      "Int64Index: 23184 entries, 0 to 26605\n",
      "Data columns (total 17 columns):\n",
      " #   Column             Non-Null Count  Dtype  \n",
      "---  ------             --------------  -----  \n",
      " 0   genre_ids          23184 non-null  object \n",
      " 1   id                 23184 non-null  int64  \n",
      " 2   original_language  23184 non-null  object \n",
      " 3   original_title     23184 non-null  object \n",
      " 4   popularity         23184 non-null  float64\n",
      " 5   release_date       23184 non-null  object \n",
      " 6   title              23184 non-null  object \n",
      " 7   vote_average       23184 non-null  float64\n",
      " 8   vote_count         23184 non-null  int64  \n",
      " 9   studio             2159 non-null   object \n",
      " 10  domestic_gross     2148 non-null   float64\n",
      " 11  foreign_gross      1498 non-null   object \n",
      " 12  production_budget  23184 non-null  int64  \n",
      " 13  worldwide_gross    23184 non-null  int64  \n",
      " 14  net_profit         23184 non-null  int64  \n",
      " 15  roi                2191 non-null   float64\n",
      " 16  genres             23184 non-null  object \n",
      "dtypes: float64(4), int64(5), object(8)\n",
      "memory usage: 3.2+ MB\n"
     ]
    }
   ],
   "source": [
    "main_df.info()"
   ]
  },
  {
   "cell_type": "code",
   "execution_count": 8,
   "metadata": {},
   "outputs": [
    {
     "data": {
      "text/plain": [
       "foreign_gross        21686\n",
       "domestic_gross       21036\n",
       "studio               21025\n",
       "roi                  20993\n",
       "genres                   0\n",
       "release_date             0\n",
       "id                       0\n",
       "original_language        0\n",
       "original_title           0\n",
       "popularity               0\n",
       "vote_count               0\n",
       "title                    0\n",
       "vote_average             0\n",
       "production_budget        0\n",
       "worldwide_gross          0\n",
       "net_profit               0\n",
       "genre_ids                0\n",
       "dtype: int64"
      ]
     },
     "execution_count": 8,
     "metadata": {},
     "output_type": "execute_result"
    }
   ],
   "source": [
    "main_df.isna().sum().sort_values(ascending=False)\n"
   ]
  },
  {
   "attachments": {},
   "cell_type": "markdown",
   "metadata": {},
   "source": [
    "### movie_info_df: cleaned"
   ]
  },
  {
   "cell_type": "code",
   "execution_count": null,
   "metadata": {},
   "outputs": [],
   "source": [
    "movie_info_df.info()"
   ]
  },
  {
   "cell_type": "code",
   "execution_count": null,
   "metadata": {},
   "outputs": [],
   "source": [
    "movie_info_df.isna().sum().sort_values(ascending=False)"
   ]
  },
  {
   "attachments": {},
   "cell_type": "markdown",
   "metadata": {},
   "source": [
    "Cleaning & Filtering for **MOVIE_INFO_DF**:"
   ]
  },
  {
   "cell_type": "code",
   "execution_count": 9,
   "metadata": {},
   "outputs": [],
   "source": [
    "# Dropping 8 null rows with missing genre. Most info is missing with them:\n",
    "movie_info_df = movie_info_df.dropna(subset=['genre'])\n",
    "\n",
    "# filling all empty values with 'unknown' for ['synopsis', 'runtime', 'director', 'theater_date', 'writer']:\n",
    "columns_to_fill = ['synopsis', 'runtime', 'director', 'theater_date', 'writer']\n",
    "movie_info_df[columns_to_fill] = movie_info_df[columns_to_fill].fillna('unknown')\n",
    "\n",
    "# Filtering date to 2010 and forward\n",
    "movie_info_df['theater_date'] = pd.to_datetime(movie_info_df['theater_date'], format='%b %d, %Y', errors='coerce')\n",
    "movie_info_df = movie_info_df[movie_info_df['theater_date'] >= 'Jan 1, 2010']\n",
    "\n",
    "\n",
    "\n",
    "# changing runtime to int + removing 'minutes' + changing name of the column to reflect:\n",
    "movie_info_df.loc[movie_info_df['runtime'] != 'unknown', 'runtime'] = movie_info_df.loc[movie_info_df['runtime'] != 'unknown', 'runtime'].str.replace(' minutes', '').astype(int)\n",
    "movie_info_df = movie_info_df.rename(columns={'runtime': 'runtime_in_minutes'})\n",
    "\n",
    "# drop all 26 unknown runtimes:\n",
    "movie_info_df = movie_info_df[movie_info_df['runtime_in_minutes'] != 'unknown']\n"
   ]
  },
  {
   "cell_type": "code",
   "execution_count": null,
   "metadata": {},
   "outputs": [],
   "source": [
    "movie_info_df.head(3)"
   ]
  },
  {
   "attachments": {},
   "cell_type": "markdown",
   "metadata": {},
   "source": [
    "**MOVIE_INFO_DF** Analysis:"
   ]
  },
  {
   "cell_type": "code",
   "execution_count": null,
   "metadata": {},
   "outputs": [],
   "source": [
    "# 81% of the movie market is rated PG-13, R and NR:\n",
    "movie_info_df['rating'].value_counts()"
   ]
  },
  {
   "cell_type": "code",
   "execution_count": null,
   "metadata": {},
   "outputs": [],
   "source": [
    "# average movie length is just over 100 minutes\n",
    "movie_info_df['runtime_in_minutes'].mean()"
   ]
  },
  {
   "cell_type": "code",
   "execution_count": null,
   "metadata": {},
   "outputs": [],
   "source": [
    "# Top Directors\n",
    "movie_info_df['director'].value_counts().head(20)"
   ]
  },
  {
   "cell_type": "code",
   "execution_count": null,
   "metadata": {},
   "outputs": [],
   "source": [
    "# Top Writers\n",
    "movie_info_df['writer'].value_counts().head(20)"
   ]
  },
  {
   "cell_type": "code",
   "execution_count": null,
   "metadata": {},
   "outputs": [],
   "source": [
    "# Top Genres seem to be a mix of Drama & Comedy\n",
    "movie_info_df['genre'].value_counts().head(20)"
   ]
  },
  {
   "attachments": {},
   "cell_type": "markdown",
   "metadata": {},
   "source": [
    "### movie_reviews_df: cleaned"
   ]
  },
  {
   "cell_type": "code",
   "execution_count": null,
   "metadata": {},
   "outputs": [],
   "source": [
    "movie_reviews_df.info()"
   ]
  },
  {
   "cell_type": "code",
   "execution_count": null,
   "metadata": {},
   "outputs": [],
   "source": [
    "movie_reviews_df.isna().sum().sort_values(ascending=False)"
   ]
  },
  {
   "attachments": {},
   "cell_type": "markdown",
   "metadata": {},
   "source": [
    "**MOVIE_REVIEWS_DF** Data cleaning:"
   ]
  },
  {
   "cell_type": "code",
   "execution_count": null,
   "metadata": {},
   "outputs": [],
   "source": [
    "# Filtering to only top_critics == 1\n",
    "movie_reviews_df = movie_reviews_df[movie_reviews_df['top_critic'] == 1]\n",
    "# filling null 'publisher', 'critic', 'review' values with 'Unknown':\n",
    "fill_columns = ['publisher', 'critic', 'review']\n",
    "movie_reviews_df[fill_columns] = movie_reviews_df[fill_columns].fillna('unknown')\n",
    "# Filtering date to 2010 and forward\n",
    "movie_reviews_df['date'] = pd.to_datetime(movie_reviews_df['date'])\n",
    "movie_reviews_df = movie_reviews_df[movie_reviews_df['date'] >= '2010-01-01']\n",
    "\n",
    "\n",
    "\n"
   ]
  },
  {
   "cell_type": "code",
   "execution_count": null,
   "metadata": {},
   "outputs": [],
   "source": [
    "movie_reviews_df.head(20)"
   ]
  },
  {
   "attachments": {},
   "cell_type": "markdown",
   "metadata": {},
   "source": [
    "**MOVIE_REVIEW_DF** Analysis:"
   ]
  },
  {
   "attachments": {},
   "cell_type": "markdown",
   "metadata": {},
   "source": [
    "Top_Critics reviews = 4,713"
   ]
  },
  {
   "cell_type": "code",
   "execution_count": null,
   "metadata": {},
   "outputs": [],
   "source": [
    "movie_reviews_df['top_critic'].sum()"
   ]
  },
  {
   "attachments": {},
   "cell_type": "markdown",
   "metadata": {},
   "source": [
    "Names of the top 20 critics:"
   ]
  },
  {
   "cell_type": "code",
   "execution_count": null,
   "metadata": {},
   "outputs": [],
   "source": [
    "movie_reviews_df['critic'].value_counts().head(20)"
   ]
  },
  {
   "attachments": {},
   "cell_type": "markdown",
   "metadata": {},
   "source": [
    "Fresh vs. Rotten; \n",
    "\n",
    "- fresh = 60%\n",
    "- Rotten = 40%"
   ]
  },
  {
   "cell_type": "code",
   "execution_count": null,
   "metadata": {},
   "outputs": [],
   "source": [
    "movie_reviews_df['fresh'].value_counts()"
   ]
  },
  {
   "attachments": {},
   "cell_type": "markdown",
   "metadata": {},
   "source": [
    "---"
   ]
  },
  {
   "attachments": {},
   "cell_type": "markdown",
   "metadata": {},
   "source": [
    "# SQL DATABASE"
   ]
  },
  {
   "attachments": {},
   "cell_type": "markdown",
   "metadata": {},
   "source": [
    "* Unzipping the '**im.db.zip**' file \n",
    "* Connecting to database using '**conn**'\n",
    "* Printing all of the **table names** within the database\n",
    "\n",
    "\n",
    "**Important note**: movie_basics & movie_ratings are the most relevant per instructions"
   ]
  },
  {
   "cell_type": "code",
   "execution_count": null,
   "metadata": {},
   "outputs": [],
   "source": [
    "# Unzip the database file\n",
    "with zipfile.ZipFile('zippedData/im.db.zip', 'r') as zip_ref:\n",
    "    zip_ref.extractall('zippedData')\n",
    "\n",
    "# Connect to the unzipped SQLite database\n",
    "conn = sqlite3.connect('zippedData/im.db')\n",
    "\n",
    "# Run test query\n",
    "q = \"\"\"\n",
    "SELECT tbl_name AS table_name, sql\n",
    "FROM sqlite_master \n",
    "WHERE type='table'\n",
    "ORDER BY name;\n",
    "\"\"\"\n",
    "pd.read_sql(q, conn)"
   ]
  },
  {
   "cell_type": "code",
   "execution_count": null,
   "metadata": {},
   "outputs": [],
   "source": [
    "# Movie Basics\n",
    "q = '''\n",
    "SELECT *\n",
    "FROM movie_basics\n",
    "WHERE original_title LIKE \"Toy%\"\n",
    "LIMIT 3\n",
    ";\n",
    "'''\n",
    "pd.read_sql(q, conn)"
   ]
  },
  {
   "cell_type": "code",
   "execution_count": null,
   "metadata": {},
   "outputs": [],
   "source": []
  },
  {
   "cell_type": "code",
   "execution_count": null,
   "metadata": {},
   "outputs": [],
   "source": [
    "# Moving Ratings\n",
    "q = '''\n",
    "SELECT *\n",
    "FROM movie_ratings\n",
    "LIMIT 3\n",
    ";\n",
    "'''\n",
    "pd.read_sql(q, conn)"
   ]
  },
  {
   "cell_type": "code",
   "execution_count": null,
   "metadata": {},
   "outputs": [],
   "source": [
    "# Directors\n",
    "q = '''\n",
    "SELECT *\n",
    "FROM directors\n",
    "LIMIT 3\n",
    ";\n",
    "'''\n",
    "pd.read_sql(q, conn)"
   ]
  },
  {
   "cell_type": "code",
   "execution_count": null,
   "metadata": {},
   "outputs": [],
   "source": [
    "# Known For\n",
    "q = '''\n",
    "SELECT *\n",
    "FROM known_for\n",
    "LIMIT 3\n",
    ";\n",
    "'''\n",
    "pd.read_sql(q, conn)"
   ]
  },
  {
   "cell_type": "code",
   "execution_count": null,
   "metadata": {},
   "outputs": [],
   "source": [
    "# Movie AKAs\n",
    "q = '''\n",
    "SELECT *\n",
    "FROM movie_akas\n",
    "LIMIT 3\n",
    ";\n",
    "'''\n",
    "pd.read_sql(q, conn)"
   ]
  },
  {
   "cell_type": "code",
   "execution_count": null,
   "metadata": {},
   "outputs": [],
   "source": [
    "# Persons\n",
    "q = '''\n",
    "SELECT *\n",
    "FROM persons\n",
    "LIMIT 3\n",
    ";\n",
    "'''\n",
    "pd.read_sql(q, conn)"
   ]
  },
  {
   "cell_type": "code",
   "execution_count": null,
   "metadata": {},
   "outputs": [],
   "source": [
    "# Pricipals\n",
    "q = '''\n",
    "SELECT *\n",
    "FROM principals\n",
    "LIMIT 3\n",
    ";\n",
    "'''\n",
    "pd.read_sql(q, conn)"
   ]
  },
  {
   "cell_type": "code",
   "execution_count": null,
   "metadata": {},
   "outputs": [],
   "source": [
    "# Writers\n",
    "q = '''\n",
    "SELECT *\n",
    "FROM writers\n",
    "LIMIT 3\n",
    ";\n",
    "'''\n",
    "pd.read_sql(q, conn)"
   ]
  },
  {
   "attachments": {},
   "cell_type": "markdown",
   "metadata": {},
   "source": [
    "---"
   ]
  },
  {
   "cell_type": "code",
   "execution_count": null,
   "metadata": {},
   "outputs": [],
   "source": [
    "# joined file\n",
    "q = '''\n",
    "SELECT *\n",
    "FROM movie_basics mb\n",
    "JOIN directors dr USING(movie_id)\n",
    "JOIN principals pr USING(movie_id)\n",
    "JOIN persons p USING(person_id)\n",
    "JOIN movie_ratings mr USING(movie_id)\n",
    "WHERE death_year IS NULL\n",
    "GROUP BY movie_id\n",
    "ORDER BY start_year\n",
    ";\n",
    "'''\n",
    "pd.read_sql(q, conn)"
   ]
  },
  {
   "attachments": {},
   "cell_type": "markdown",
   "metadata": {},
   "source": [
    "---"
   ]
  },
  {
   "attachments": {},
   "cell_type": "markdown",
   "metadata": {},
   "source": [
    "# **Recommendations**"
   ]
  },
  {
   "attachments": {},
   "cell_type": "markdown",
   "metadata": {},
   "source": [
    "### Worldwide vs Domestic vs Foreign:"
   ]
  },
  {
   "attachments": {},
   "cell_type": "markdown",
   "metadata": {},
   "source": [
    "* based on the data from our dataframes, we have decided recommend launching your movie **Worldwide**. \n",
    "* We ran into a lot of data limitations when breaking down domestic vs foreign but we had plenty to work with as it pertained to **production budget** & **worldwide**.\n",
    "* **We recommend launching the movie worldwide**"
   ]
  },
  {
   "attachments": {},
   "cell_type": "markdown",
   "metadata": {},
   "source": [
    "Further Filtering:"
   ]
  },
  {
   "cell_type": "code",
   "execution_count": 10,
   "metadata": {},
   "outputs": [],
   "source": [
    "calc_df = main_df\n",
    "\n",
    "# Filtering columns\n",
    "calc_df = calc_df[calc_df['production_budget'] > 0]\n",
    "calc_df = calc_df[calc_df['worldwide_gross'] > 0]\n",
    "calc_df = calc_df[calc_df['roi'] > 0]\n",
    "calc_df = calc_df[calc_df['domestic_gross'] > 0]\n",
    "calc_df = calc_df[~calc_df['foreign_gross'].isna()]\n",
    "# Sorting values by ROI\n",
    "calc_df = calc_df.sort_values('roi', ascending=False)\n",
    "# removing movie duplicates values in ROI\n",
    "calc_df = calc_df.loc[~calc_df['roi'].duplicated(), :]"
   ]
  },
  {
   "attachments": {},
   "cell_type": "markdown",
   "metadata": {},
   "source": [
    "Based on **top 10 movies (ROI)**"
   ]
  },
  {
   "attachments": {},
   "cell_type": "markdown",
   "metadata": {},
   "source": [
    "* The best ROI ranges from **41,560% to 3,852%** increse\n",
    "* **70%** of the top ROI movies are a mix of **Horror** and **Thriller**\n",
    "* **We recommend making a HORROR/THRILLER MOVIE**"
   ]
  },
  {
   "cell_type": "code",
   "execution_count": 11,
   "metadata": {},
   "outputs": [
    {
     "data": {
      "text/html": [
       "<div>\n",
       "<style scoped>\n",
       "    .dataframe tbody tr th:only-of-type {\n",
       "        vertical-align: middle;\n",
       "    }\n",
       "\n",
       "    .dataframe tbody tr th {\n",
       "        vertical-align: top;\n",
       "    }\n",
       "\n",
       "    .dataframe thead th {\n",
       "        text-align: right;\n",
       "    }\n",
       "</style>\n",
       "<table border=\"1\" class=\"dataframe\">\n",
       "  <thead>\n",
       "    <tr style=\"text-align: right;\">\n",
       "      <th></th>\n",
       "      <th>title</th>\n",
       "      <th>roi</th>\n",
       "      <th>genres</th>\n",
       "    </tr>\n",
       "  </thead>\n",
       "  <tbody>\n",
       "    <tr>\n",
       "      <th>14420</th>\n",
       "      <td>The Gallows</td>\n",
       "      <td>41556.474000</td>\n",
       "      <td>[horror, thriller]</td>\n",
       "    </tr>\n",
       "    <tr>\n",
       "      <th>5468</th>\n",
       "      <td>The Devil Inside</td>\n",
       "      <td>10075.949000</td>\n",
       "      <td>[thriller, horror]</td>\n",
       "    </tr>\n",
       "    <tr>\n",
       "      <th>2512</th>\n",
       "      <td>Insidious</td>\n",
       "      <td>6558.059067</td>\n",
       "      <td>[horror, thriller]</td>\n",
       "    </tr>\n",
       "    <tr>\n",
       "      <th>14490</th>\n",
       "      <td>Unfriended</td>\n",
       "      <td>6336.419800</td>\n",
       "      <td>[horror, thriller]</td>\n",
       "    </tr>\n",
       "    <tr>\n",
       "      <th>235</th>\n",
       "      <td>Paranormal Activity 2</td>\n",
       "      <td>5817.067733</td>\n",
       "      <td>[horror, thriller]</td>\n",
       "    </tr>\n",
       "    <tr>\n",
       "      <th>17455</th>\n",
       "      <td>Split</td>\n",
       "      <td>5479.296120</td>\n",
       "      <td>[horror, thriller]</td>\n",
       "    </tr>\n",
       "    <tr>\n",
       "      <th>1541</th>\n",
       "      <td>Get Out</td>\n",
       "      <td>5007.359020</td>\n",
       "      <td>[comedy, animation]</td>\n",
       "    </tr>\n",
       "    <tr>\n",
       "      <th>5253</th>\n",
       "      <td>Chernobyl Diaries</td>\n",
       "      <td>4141.172100</td>\n",
       "      <td>[horror, thriller]</td>\n",
       "    </tr>\n",
       "    <tr>\n",
       "      <th>2663</th>\n",
       "      <td>Paranormal Activity 3</td>\n",
       "      <td>4040.796880</td>\n",
       "      <td>[horror]</td>\n",
       "    </tr>\n",
       "    <tr>\n",
       "      <th>11133</th>\n",
       "      <td>Annabelle</td>\n",
       "      <td>3851.737231</td>\n",
       "      <td>[horror]</td>\n",
       "    </tr>\n",
       "  </tbody>\n",
       "</table>\n",
       "</div>"
      ],
      "text/plain": [
       "                       title           roi               genres\n",
       "14420            The Gallows  41556.474000   [horror, thriller]\n",
       "5468        The Devil Inside  10075.949000   [thriller, horror]\n",
       "2512               Insidious   6558.059067   [horror, thriller]\n",
       "14490             Unfriended   6336.419800   [horror, thriller]\n",
       "235    Paranormal Activity 2   5817.067733   [horror, thriller]\n",
       "17455                  Split   5479.296120   [horror, thriller]\n",
       "1541                 Get Out   5007.359020  [comedy, animation]\n",
       "5253       Chernobyl Diaries   4141.172100   [horror, thriller]\n",
       "2663   Paranormal Activity 3   4040.796880             [horror]\n",
       "11133              Annabelle   3851.737231             [horror]"
      ]
     },
     "execution_count": 11,
     "metadata": {},
     "output_type": "execute_result"
    }
   ],
   "source": [
    "calc_df[['title', 'roi', 'genres']].head(10)"
   ]
  },
  {
   "attachments": {},
   "cell_type": "markdown",
   "metadata": {},
   "source": [
    "Here are the individual genre counts across all movies for visability:"
   ]
  },
  {
   "cell_type": "code",
   "execution_count": 12,
   "metadata": {},
   "outputs": [
    {
     "data": {
      "text/plain": [
       "drama              342\n",
       "comedy             315\n",
       "action             256\n",
       "thriller           220\n",
       "adventure          198\n",
       "family             130\n",
       "science fiction    122\n",
       "crime              104\n",
       "romance            104\n",
       "fantasy            104\n",
       "horror              94\n",
       "animation           82\n",
       "mystery             63\n",
       "history             36\n",
       "music               18\n",
       "war                 17\n",
       "documentary         11\n",
       "western              7\n",
       "Name: genres, dtype: int64"
      ]
     },
     "execution_count": 12,
     "metadata": {},
     "output_type": "execute_result"
    }
   ],
   "source": [
    "genre_counts = calc_df['genres'].explode().value_counts()\n",
    "genre_counts"
   ]
  },
  {
   "attachments": {},
   "cell_type": "markdown",
   "metadata": {},
   "source": [
    "**Movie length (minutes)**"
   ]
  },
  {
   "attachments": {},
   "cell_type": "markdown",
   "metadata": {},
   "source": [
    "* We found that the average movie length was just over **106 mintues**.\n",
    "* **We recommend keeping the movie length between 100-110 minutes**"
   ]
  },
  {
   "cell_type": "code",
   "execution_count": 13,
   "metadata": {},
   "outputs": [
    {
     "data": {
      "text/plain": [
       "106.5228426395939"
      ]
     },
     "execution_count": 13,
     "metadata": {},
     "output_type": "execute_result"
    }
   ],
   "source": [
    "# average movie length is just over 100 minutes\n",
    "movie_info_df['runtime_in_minutes'].mean()"
   ]
  },
  {
   "attachments": {},
   "cell_type": "markdown",
   "metadata": {},
   "source": [
    "**Best DIRECTORS for the Horror/Thriller Genre**"
   ]
  },
  {
   "attachments": {},
   "cell_type": "markdown",
   "metadata": {},
   "source": [
    "* ENTER DETAILS HERE..... \n",
    "* **We recommend....**\n"
   ]
  },
  {
   "cell_type": "code",
   "execution_count": 21,
   "metadata": {},
   "outputs": [],
   "source": [
    "# Enter SQL Code here\n"
   ]
  },
  {
   "attachments": {},
   "cell_type": "markdown",
   "metadata": {},
   "source": [
    "**Best WRITERS for the Horror/Thriller Genre**"
   ]
  },
  {
   "attachments": {},
   "cell_type": "markdown",
   "metadata": {},
   "source": [
    "* ENTER DETAILS HERE..... \n",
    "* **We recommend....**\n"
   ]
  },
  {
   "cell_type": "code",
   "execution_count": null,
   "metadata": {},
   "outputs": [],
   "source": [
    "# Enter SQL Code here"
   ]
  },
  {
   "attachments": {},
   "cell_type": "markdown",
   "metadata": {},
   "source": [
    "**Best ACTORS for the Horror/Thriller Genre**"
   ]
  },
  {
   "attachments": {},
   "cell_type": "markdown",
   "metadata": {},
   "source": [
    "* ENTER DETAILS HERE..... \n",
    "* **We recommend....**\n"
   ]
  },
  {
   "cell_type": "code",
   "execution_count": null,
   "metadata": {},
   "outputs": [],
   "source": [
    "# Enter SQL Code here"
   ]
  }
 ],
 "metadata": {
  "kernelspec": {
   "display_name": "learn-env",
   "language": "python",
   "name": "python3"
  },
  "language_info": {
   "codemirror_mode": {
    "name": "ipython",
    "version": 3
   },
   "file_extension": ".py",
   "mimetype": "text/x-python",
   "name": "python",
   "nbconvert_exporter": "python",
   "pygments_lexer": "ipython3",
   "version": "3.8.5"
  },
  "orig_nbformat": 4
 },
 "nbformat": 4,
 "nbformat_minor": 2
}
