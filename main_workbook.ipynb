{
 "cells": [
  {
   "cell_type": "code",
   "execution_count": 721,
   "metadata": {},
   "outputs": [],
   "source": [
    "import pandas as pd\n",
    "import numpy as np\n",
    "import sqlite3\n",
    "import zipfile"
   ]
  },
  {
   "attachments": {},
   "cell_type": "markdown",
   "metadata": {},
   "source": [
    "## List of Dataframes:"
   ]
  },
  {
   "cell_type": "code",
   "execution_count": 722,
   "metadata": {},
   "outputs": [
    {
     "name": "stdout",
     "output_type": "stream",
     "text": [
      "movie_info_df columns: \n",
      "['id', 'synopsis', 'rating', 'genre', 'director', 'writer', 'theater_date', 'runtime']\n",
      "\n",
      "movie_gross_df columns: \n",
      "['title', 'studio', 'domestic_gross', 'foreign_gross', 'year']\n",
      "\n",
      "movie_budget_df columns: \n",
      "['id', 'release_date', 'movie', 'production_budget', 'domestic_gross', 'worldwide_gross']\n",
      "\n",
      "movie_reviews_df columns: \n",
      "['id', 'review', 'fresh', 'critic', 'top_critic', 'publisher', 'date']\n",
      "\n",
      "tmbd_movie_df columns: \n",
      "['Unnamed: 0', 'genre_ids', 'id', 'original_language', 'original_title', 'popularity', 'release_date', 'title', 'vote_average', 'vote_count']\n",
      "\n"
     ]
    }
   ],
   "source": [
    "# Dataframes\n",
    "movie_info_df = pd.read_csv('zippedData/rt.movie_info.tsv.gz', sep='\\t', compression='gzip')\n",
    "movie_info_drop = ['box_office', 'currency', 'dvd_date', 'studio']\n",
    "movie_info_df = movie_info_df.drop(columns=movie_info_drop)\n",
    "print(f'movie_info_df columns: \\n{list(movie_info_df.columns)}\\n')\n",
    "\n",
    "\n",
    "movie_gross_df = pd.read_csv('zippedData/bom.movie_gross.csv.gz')\n",
    "print(f'movie_gross_df columns: \\n{list(movie_gross_df.columns)}\\n')\n",
    "\n",
    "movie_budget_df = pd.read_csv('zippedData/tn.movie_budgets.csv.gz')\n",
    "print(f'movie_budget_df columns: \\n{list(movie_budget_df.columns)}\\n')\n",
    "\n",
    "movie_reviews_df = pd.read_csv('zippedData/rt.reviews.tsv.gz', sep='\\t', compression='gzip', encoding='latin-1')\n",
    "movie_review_drop = ['rating']\n",
    "movie_reviews_df = movie_reviews_df.drop(columns=movie_review_drop) # Dropping rating: poor formatting & lacking 50% of data.\n",
    "print(f'movie_reviews_df columns: \\n{list(movie_reviews_df.columns)}\\n')\n",
    "\n",
    "\n",
    "tmbd_movie_df = pd.read_csv('zippedData/tmdb.movies.csv.gz')\n",
    "print(f'tmbd_movie_df columns: \\n{list(tmbd_movie_df.columns)}\\n')"
   ]
  },
  {
   "attachments": {},
   "cell_type": "markdown",
   "metadata": {},
   "source": [
    "### movie_info_df: cleaned"
   ]
  },
  {
   "cell_type": "code",
   "execution_count": 728,
   "metadata": {},
   "outputs": [
    {
     "name": "stdout",
     "output_type": "stream",
     "text": [
      "<class 'pandas.core.frame.DataFrame'>\n",
      "Int64Index: 197 entries, 1 to 1542\n",
      "Data columns (total 8 columns):\n",
      " #   Column              Non-Null Count  Dtype         \n",
      "---  ------              --------------  -----         \n",
      " 0   id                  197 non-null    int64         \n",
      " 1   synopsis            197 non-null    object        \n",
      " 2   rating              197 non-null    object        \n",
      " 3   genre               197 non-null    object        \n",
      " 4   director            197 non-null    object        \n",
      " 5   writer              197 non-null    object        \n",
      " 6   theater_date        197 non-null    datetime64[ns]\n",
      " 7   runtime_in_minutes  197 non-null    object        \n",
      "dtypes: datetime64[ns](1), int64(1), object(6)\n",
      "memory usage: 13.9+ KB\n"
     ]
    }
   ],
   "source": [
    "movie_info_df.info()"
   ]
  },
  {
   "cell_type": "code",
   "execution_count": 727,
   "metadata": {},
   "outputs": [
    {
     "data": {
      "text/plain": [
       "runtime_in_minutes    0\n",
       "theater_date          0\n",
       "writer                0\n",
       "director              0\n",
       "genre                 0\n",
       "rating                0\n",
       "synopsis              0\n",
       "id                    0\n",
       "dtype: int64"
      ]
     },
     "execution_count": 727,
     "metadata": {},
     "output_type": "execute_result"
    }
   ],
   "source": [
    "movie_info_df.isna().sum().sort_values(ascending=False)"
   ]
  },
  {
   "attachments": {},
   "cell_type": "markdown",
   "metadata": {},
   "source": [
    "Cleaning & Filtering for **MOVIE_INFO_DF**:"
   ]
  },
  {
   "cell_type": "code",
   "execution_count": 725,
   "metadata": {},
   "outputs": [],
   "source": [
    "# Dropping 3 null rows with missing genre. Most info is missing with them:\n",
    "movie_info_df = movie_info_df.dropna(subset=['genre'])\n",
    "\n",
    "# filling all empty values with 'unknown' for ['synopsis', 'runtime', 'director', 'theater_date', 'writer']:\n",
    "columns_to_fill = ['synopsis', 'runtime', 'director', 'theater_date', 'writer']\n",
    "movie_info_df[columns_to_fill] = movie_info_df[columns_to_fill].fillna('unknown')\n",
    "\n",
    "# Filtering date to 2010 and forward\n",
    "movie_info_df['theater_date'] = pd.to_datetime(movie_info_df['theater_date'], format='%b %d, %Y', errors='coerce')\n",
    "movie_info_df = movie_info_df[movie_info_df['theater_date'] >= 'Jan 1, 2010']\n",
    "\n",
    "\n",
    "\n",
    "# changing runtime to int + removing 'minutes' + changing name of the column to reflect:\n",
    "movie_info_df.loc[movie_info_df['runtime'] != 'unknown', 'runtime'] = movie_info_df.loc[movie_info_df['runtime'] != 'unknown', 'runtime'].str.replace(' minutes', '').astype(int)\n",
    "movie_info_df = movie_info_df.rename(columns={'runtime': 'runtime_in_minutes'})\n",
    "\n",
    "# drop all 26 unknown runtimes:\n",
    "movie_info_df = movie_info_df[movie_info_df['runtime_in_minutes'] != 'unknown']\n"
   ]
  },
  {
   "cell_type": "code",
   "execution_count": 726,
   "metadata": {},
   "outputs": [
    {
     "data": {
      "text/html": [
       "<div>\n",
       "<style scoped>\n",
       "    .dataframe tbody tr th:only-of-type {\n",
       "        vertical-align: middle;\n",
       "    }\n",
       "\n",
       "    .dataframe tbody tr th {\n",
       "        vertical-align: top;\n",
       "    }\n",
       "\n",
       "    .dataframe thead th {\n",
       "        text-align: right;\n",
       "    }\n",
       "</style>\n",
       "<table border=\"1\" class=\"dataframe\">\n",
       "  <thead>\n",
       "    <tr style=\"text-align: right;\">\n",
       "      <th></th>\n",
       "      <th>id</th>\n",
       "      <th>synopsis</th>\n",
       "      <th>rating</th>\n",
       "      <th>genre</th>\n",
       "      <th>director</th>\n",
       "      <th>writer</th>\n",
       "      <th>theater_date</th>\n",
       "      <th>runtime_in_minutes</th>\n",
       "    </tr>\n",
       "  </thead>\n",
       "  <tbody>\n",
       "    <tr>\n",
       "      <th>1</th>\n",
       "      <td>3</td>\n",
       "      <td>New York City, not-too-distant-future: Eric Pa...</td>\n",
       "      <td>R</td>\n",
       "      <td>Drama|Science Fiction and Fantasy</td>\n",
       "      <td>David Cronenberg</td>\n",
       "      <td>David Cronenberg|Don DeLillo</td>\n",
       "      <td>2012-08-17</td>\n",
       "      <td>108</td>\n",
       "    </tr>\n",
       "    <tr>\n",
       "      <th>8</th>\n",
       "      <td>14</td>\n",
       "      <td>\"Love Ranch\" is a bittersweet love story that ...</td>\n",
       "      <td>R</td>\n",
       "      <td>Drama</td>\n",
       "      <td>Taylor Hackford</td>\n",
       "      <td>Mark Jacobson</td>\n",
       "      <td>2010-06-30</td>\n",
       "      <td>117</td>\n",
       "    </tr>\n",
       "    <tr>\n",
       "      <th>15</th>\n",
       "      <td>22</td>\n",
       "      <td>Two-time Academy Award Winner Kevin Spacey giv...</td>\n",
       "      <td>R</td>\n",
       "      <td>Comedy|Drama|Mystery and Suspense</td>\n",
       "      <td>George Hickenlooper</td>\n",
       "      <td>Norman Snider</td>\n",
       "      <td>2010-12-17</td>\n",
       "      <td>108</td>\n",
       "    </tr>\n",
       "  </tbody>\n",
       "</table>\n",
       "</div>"
      ],
      "text/plain": [
       "    id                                           synopsis rating  \\\n",
       "1    3  New York City, not-too-distant-future: Eric Pa...      R   \n",
       "8   14  \"Love Ranch\" is a bittersweet love story that ...      R   \n",
       "15  22  Two-time Academy Award Winner Kevin Spacey giv...      R   \n",
       "\n",
       "                                genre             director  \\\n",
       "1   Drama|Science Fiction and Fantasy     David Cronenberg   \n",
       "8                               Drama      Taylor Hackford   \n",
       "15  Comedy|Drama|Mystery and Suspense  George Hickenlooper   \n",
       "\n",
       "                          writer theater_date runtime_in_minutes  \n",
       "1   David Cronenberg|Don DeLillo   2012-08-17                108  \n",
       "8                  Mark Jacobson   2010-06-30                117  \n",
       "15                 Norman Snider   2010-12-17                108  "
      ]
     },
     "execution_count": 726,
     "metadata": {},
     "output_type": "execute_result"
    }
   ],
   "source": [
    "movie_info_df.head(3)"
   ]
  },
  {
   "cell_type": "code",
   "execution_count": null,
   "metadata": {},
   "outputs": [],
   "source": []
  },
  {
   "attachments": {},
   "cell_type": "markdown",
   "metadata": {},
   "source": [
    "**MOVIE_INFO_DF** Analysis:"
   ]
  },
  {
   "cell_type": "code",
   "execution_count": 729,
   "metadata": {},
   "outputs": [
    {
     "data": {
      "text/plain": [
       "R        89\n",
       "PG-13    55\n",
       "NR       30\n",
       "PG       22\n",
       "G         1\n",
       "Name: rating, dtype: int64"
      ]
     },
     "execution_count": 729,
     "metadata": {},
     "output_type": "execute_result"
    }
   ],
   "source": [
    "# 81% of the movie market is rated PG-13, R and NR:\n",
    "movie_info_df['rating'].value_counts()"
   ]
  },
  {
   "cell_type": "code",
   "execution_count": 730,
   "metadata": {},
   "outputs": [
    {
     "data": {
      "text/plain": [
       "106.5228426395939"
      ]
     },
     "execution_count": 730,
     "metadata": {},
     "output_type": "execute_result"
    }
   ],
   "source": [
    "# average movie length is just over 100 minutes\n",
    "movie_info_df['runtime_in_minutes'].mean()"
   ]
  },
  {
   "cell_type": "code",
   "execution_count": 731,
   "metadata": {},
   "outputs": [
    {
     "data": {
      "text/plain": [
       "unknown                      17\n",
       "Clint Eastwood                2\n",
       "Christian Ditter              2\n",
       "Seth MacFarlane               2\n",
       "Clay Kaytis|Fergal Reilly     1\n",
       "Max Joseph                    1\n",
       "Antoine Fuqua                 1\n",
       "Vikramaditya Motwane          1\n",
       "Kelly Fremon Craig            1\n",
       "Daniel Lee                    1\n",
       "Paul McGuigan                 1\n",
       "Anton Corbijn                 1\n",
       "David Fincher                 1\n",
       "Tim Story                     1\n",
       "Sam Mendes                    1\n",
       "Patrick Lussier               1\n",
       "Daniel Alfredson              1\n",
       "Cameron Crowe                 1\n",
       "Stuart Beattie                1\n",
       "James Marsh                   1\n",
       "Name: director, dtype: int64"
      ]
     },
     "execution_count": 731,
     "metadata": {},
     "output_type": "execute_result"
    }
   ],
   "source": [
    "# Top Directors\n",
    "movie_info_df['director'].value_counts().head(20)"
   ]
  },
  {
   "cell_type": "code",
   "execution_count": 732,
   "metadata": {},
   "outputs": [
    {
     "data": {
      "text/plain": [
       "unknown                                                                34\n",
       "Seth MacFarlane|Alec Sulkin|Wellesley Wild                              2\n",
       "Maggie Carey                                                            1\n",
       "Stuart Beattie                                                          1\n",
       "Eric Kripke                                                             1\n",
       "Prasoon Joshi                                                           1\n",
       "Isaac Aptaker|Elizabeth Berger                                          1\n",
       "Norman Snider                                                           1\n",
       "Peter Morgan                                                            1\n",
       "Desiree Akhavan|Cecilia Frugiuele                                       1\n",
       "Jan Sardi                                                               1\n",
       "Aline Brosh McKenna                                                     1\n",
       "Peter Byck|Eric Driscoll|Matt Weinhold|Karen Weigert                    1\n",
       "Paolo Sorrentino|Umberto Contarello                                     1\n",
       "Shana Feste                                                             1\n",
       "Bob Nelson                                                              1\n",
       "Laura Terruso|Michael Showalter                                         1\n",
       "Tate Taylor|Jez Butterworth|John-Henry Butterworth|Steven Baigelman     1\n",
       "Jeanne Labrune|Richard Debuisne                                         1\n",
       "Ryan Coogler|Aaron Covington                                            1\n",
       "Name: writer, dtype: int64"
      ]
     },
     "execution_count": 732,
     "metadata": {},
     "output_type": "execute_result"
    }
   ],
   "source": [
    "# Top Writers\n",
    "movie_info_df['writer'].value_counts().head(20)"
   ]
  },
  {
   "cell_type": "code",
   "execution_count": 733,
   "metadata": {},
   "outputs": [
    {
     "data": {
      "text/plain": [
       "Drama                                                     41\n",
       "Comedy                                                    18\n",
       "Comedy|Drama                                              16\n",
       "Drama|Mystery and Suspense                                10\n",
       "Comedy|Romance                                             9\n",
       "Drama|Romance                                              6\n",
       "Action and Adventure|Mystery and Suspense                  6\n",
       "Mystery and Suspense                                       5\n",
       "Horror                                                     5\n",
       "Action and Adventure|Science Fiction and Fantasy           4\n",
       "Documentary|Special Interest                               3\n",
       "Comedy|Drama|Romance                                       3\n",
       "Animation|Comedy|Kids and Family                           3\n",
       "Comedy|Drama|Mystery and Suspense                          3\n",
       "Art House and International|Drama|Special Interest         2\n",
       "Art House and International|Drama|Romance                  2\n",
       "Art House and International|Drama                          2\n",
       "Animation|Kids and Family                                  2\n",
       "Drama|Science Fiction and Fantasy                          2\n",
       "Action and Adventure|Art House and International|Drama     2\n",
       "Name: genre, dtype: int64"
      ]
     },
     "execution_count": 733,
     "metadata": {},
     "output_type": "execute_result"
    }
   ],
   "source": [
    "# Top Genres seem to be a mix of Drama & Comedy\n",
    "movie_info_df['genre'].value_counts().head(20)"
   ]
  },
  {
   "attachments": {},
   "cell_type": "markdown",
   "metadata": {},
   "source": [
    "### movie_reviews_df: cleaned"
   ]
  },
  {
   "cell_type": "code",
   "execution_count": 749,
   "metadata": {},
   "outputs": [
    {
     "name": "stdout",
     "output_type": "stream",
     "text": [
      "<class 'pandas.core.frame.DataFrame'>\n",
      "Int64Index: 4713 entries, 24 to 54360\n",
      "Data columns (total 7 columns):\n",
      " #   Column      Non-Null Count  Dtype         \n",
      "---  ------      --------------  -----         \n",
      " 0   id          4713 non-null   int64         \n",
      " 1   review      4713 non-null   object        \n",
      " 2   fresh       4713 non-null   object        \n",
      " 3   critic      4713 non-null   object        \n",
      " 4   top_critic  4713 non-null   int64         \n",
      " 5   publisher   4713 non-null   object        \n",
      " 6   date        4713 non-null   datetime64[ns]\n",
      "dtypes: datetime64[ns](1), int64(2), object(4)\n",
      "memory usage: 294.6+ KB\n"
     ]
    }
   ],
   "source": [
    "movie_reviews_df.info()"
   ]
  },
  {
   "cell_type": "code",
   "execution_count": 748,
   "metadata": {},
   "outputs": [
    {
     "data": {
      "text/plain": [
       "date          0\n",
       "publisher     0\n",
       "top_critic    0\n",
       "critic        0\n",
       "fresh         0\n",
       "review        0\n",
       "id            0\n",
       "dtype: int64"
      ]
     },
     "execution_count": 748,
     "metadata": {},
     "output_type": "execute_result"
    }
   ],
   "source": [
    "movie_reviews_df.isna().sum().sort_values(ascending=False)"
   ]
  },
  {
   "attachments": {},
   "cell_type": "markdown",
   "metadata": {},
   "source": [
    "**MOVIE_REVIEWS_DF** Data cleaning:"
   ]
  },
  {
   "cell_type": "code",
   "execution_count": 752,
   "metadata": {},
   "outputs": [],
   "source": [
    "# Filtering to only top_critics == 1\n",
    "movie_reviews_df = movie_reviews_df[movie_reviews_df['top_critic'] == 1]\n",
    "# filling null 'publisher', 'critic', 'review' values with 'Unknown':\n",
    "fill_columns = ['publisher', 'critic', 'review']\n",
    "movie_reviews_df[fill_columns] = movie_reviews_df[fill_columns].fillna('unknown')\n",
    "# Filtering date to 2010 and forward\n",
    "movie_reviews_df['date'] = pd.to_datetime(movie_reviews_df['date'])\n",
    "movie_reviews_df = movie_reviews_df[movie_reviews_df['date'] >= '2010-01-01']\n",
    "\n",
    "\n",
    "\n"
   ]
  },
  {
   "cell_type": "code",
   "execution_count": 750,
   "metadata": {},
   "outputs": [
    {
     "data": {
      "text/html": [
       "<div>\n",
       "<style scoped>\n",
       "    .dataframe tbody tr th:only-of-type {\n",
       "        vertical-align: middle;\n",
       "    }\n",
       "\n",
       "    .dataframe tbody tr th {\n",
       "        vertical-align: top;\n",
       "    }\n",
       "\n",
       "    .dataframe thead th {\n",
       "        text-align: right;\n",
       "    }\n",
       "</style>\n",
       "<table border=\"1\" class=\"dataframe\">\n",
       "  <thead>\n",
       "    <tr style=\"text-align: right;\">\n",
       "      <th></th>\n",
       "      <th>id</th>\n",
       "      <th>review</th>\n",
       "      <th>fresh</th>\n",
       "      <th>critic</th>\n",
       "      <th>top_critic</th>\n",
       "      <th>publisher</th>\n",
       "      <th>date</th>\n",
       "    </tr>\n",
       "  </thead>\n",
       "  <tbody>\n",
       "    <tr>\n",
       "      <th>24</th>\n",
       "      <td>3</td>\n",
       "      <td>The rapid dialogue is dry and mannered, like a...</td>\n",
       "      <td>rotten</td>\n",
       "      <td>Joe Williams</td>\n",
       "      <td>1</td>\n",
       "      <td>St. Louis Post-Dispatch</td>\n",
       "      <td>2012-09-06</td>\n",
       "    </tr>\n",
       "    <tr>\n",
       "      <th>47</th>\n",
       "      <td>3</td>\n",
       "      <td>It feels like each and every moment bursts for...</td>\n",
       "      <td>rotten</td>\n",
       "      <td>Stephanie Merry</td>\n",
       "      <td>1</td>\n",
       "      <td>Washington Post</td>\n",
       "      <td>2012-08-24</td>\n",
       "    </tr>\n",
       "    <tr>\n",
       "      <th>50</th>\n",
       "      <td>3</td>\n",
       "      <td>There's not really a movie there, nothing that...</td>\n",
       "      <td>rotten</td>\n",
       "      <td>Mick LaSalle</td>\n",
       "      <td>1</td>\n",
       "      <td>San Francisco Chronicle</td>\n",
       "      <td>2012-08-23</td>\n",
       "    </tr>\n",
       "    <tr>\n",
       "      <th>54</th>\n",
       "      <td>3</td>\n",
       "      <td>The film is all too faithful to its un-cinemat...</td>\n",
       "      <td>rotten</td>\n",
       "      <td>Colin Covert</td>\n",
       "      <td>1</td>\n",
       "      <td>Minneapolis Star Tribune</td>\n",
       "      <td>2012-08-23</td>\n",
       "    </tr>\n",
       "    <tr>\n",
       "      <th>55</th>\n",
       "      <td>3</td>\n",
       "      <td>Cosmopolis,\" because of its allegiance to the ...</td>\n",
       "      <td>rotten</td>\n",
       "      <td>Moira MacDonald</td>\n",
       "      <td>1</td>\n",
       "      <td>Seattle Times</td>\n",
       "      <td>2012-08-23</td>\n",
       "    </tr>\n",
       "  </tbody>\n",
       "</table>\n",
       "</div>"
      ],
      "text/plain": [
       "    id                                             review   fresh  \\\n",
       "24   3  The rapid dialogue is dry and mannered, like a...  rotten   \n",
       "47   3  It feels like each and every moment bursts for...  rotten   \n",
       "50   3  There's not really a movie there, nothing that...  rotten   \n",
       "54   3  The film is all too faithful to its un-cinemat...  rotten   \n",
       "55   3  Cosmopolis,\" because of its allegiance to the ...  rotten   \n",
       "\n",
       "             critic  top_critic                 publisher       date  \n",
       "24     Joe Williams           1   St. Louis Post-Dispatch 2012-09-06  \n",
       "47  Stephanie Merry           1           Washington Post 2012-08-24  \n",
       "50     Mick LaSalle           1   San Francisco Chronicle 2012-08-23  \n",
       "54     Colin Covert           1  Minneapolis Star Tribune 2012-08-23  \n",
       "55  Moira MacDonald           1             Seattle Times 2012-08-23  "
      ]
     },
     "execution_count": 750,
     "metadata": {},
     "output_type": "execute_result"
    }
   ],
   "source": [
    "movie_reviews_df.head(5)"
   ]
  },
  {
   "attachments": {},
   "cell_type": "markdown",
   "metadata": {},
   "source": [
    "**MOVIE_REVIEW_DF** Analysis:"
   ]
  },
  {
   "attachments": {},
   "cell_type": "markdown",
   "metadata": {},
   "source": [
    "Top_Critics reviews = 4,713"
   ]
  },
  {
   "cell_type": "code",
   "execution_count": null,
   "metadata": {},
   "outputs": [],
   "source": [
    "movie_reviews_df['top_critic'].sum()"
   ]
  },
  {
   "attachments": {},
   "cell_type": "markdown",
   "metadata": {},
   "source": [
    "Names of the top 20 critics:"
   ]
  },
  {
   "cell_type": "code",
   "execution_count": null,
   "metadata": {},
   "outputs": [],
   "source": [
    "movie_reviews_df['critic'].value_counts().head(20)"
   ]
  },
  {
   "attachments": {},
   "cell_type": "markdown",
   "metadata": {},
   "source": [
    "Fresh vs. Rotten; \n",
    "\n",
    "- fresh = 60%\n",
    "- Rotten = 40%"
   ]
  },
  {
   "cell_type": "code",
   "execution_count": null,
   "metadata": {},
   "outputs": [],
   "source": [
    "movie_reviews_df['fresh'].value_counts()"
   ]
  },
  {
   "attachments": {},
   "cell_type": "markdown",
   "metadata": {},
   "source": [
    "---"
   ]
  },
  {
   "attachments": {},
   "cell_type": "markdown",
   "metadata": {},
   "source": [
    "# SQL DATABASE"
   ]
  },
  {
   "attachments": {},
   "cell_type": "markdown",
   "metadata": {},
   "source": [
    "* Unzipping the '**im.db.zip**' file \n",
    "* Connecting to database using '**conn**'\n",
    "* Printing all of the **table names** within the database\n",
    "\n",
    "\n",
    "**Important note**: movie_basics & movie_ratings are the most relevant per instructions"
   ]
  },
  {
   "cell_type": "code",
   "execution_count": null,
   "metadata": {},
   "outputs": [],
   "source": [
    "# Unzip the database file\n",
    "with zipfile.ZipFile('zippedData/im.db.zip', 'r') as zip_ref:\n",
    "    zip_ref.extractall('zippedData')\n",
    "\n",
    "# Connect to the unzipped SQLite database\n",
    "conn = sqlite3.connect('zippedData/im.db')\n",
    "\n",
    "# Run test query\n",
    "q = \"\"\"\n",
    "SELECT tbl_name AS table_name, sql\n",
    "FROM sqlite_master \n",
    "WHERE type='table'\n",
    "ORDER BY name;\n",
    "\"\"\"\n",
    "pd.read_sql(q, conn)"
   ]
  },
  {
   "cell_type": "code",
   "execution_count": null,
   "metadata": {},
   "outputs": [],
   "source": [
    "# Movie Basics\n",
    "q = '''\n",
    "SELECT *\n",
    "FROM movie_basics\n",
    "WHERE original_title LIKE \"Toy%\"\n",
    "LIMIT 3\n",
    ";\n",
    "'''\n",
    "pd.read_sql(q, conn)"
   ]
  },
  {
   "cell_type": "code",
   "execution_count": null,
   "metadata": {},
   "outputs": [],
   "source": []
  },
  {
   "cell_type": "code",
   "execution_count": null,
   "metadata": {},
   "outputs": [],
   "source": [
    "# Moving Ratings\n",
    "q = '''\n",
    "SELECT *\n",
    "FROM movie_ratings\n",
    "LIMIT 3\n",
    ";\n",
    "'''\n",
    "pd.read_sql(q, conn)"
   ]
  },
  {
   "cell_type": "code",
   "execution_count": null,
   "metadata": {},
   "outputs": [],
   "source": [
    "# Directors\n",
    "q = '''\n",
    "SELECT *\n",
    "FROM directors\n",
    "LIMIT 3\n",
    ";\n",
    "'''\n",
    "pd.read_sql(q, conn)"
   ]
  },
  {
   "cell_type": "code",
   "execution_count": null,
   "metadata": {},
   "outputs": [],
   "source": [
    "# Known For\n",
    "q = '''\n",
    "SELECT *\n",
    "FROM known_for\n",
    "LIMIT 3\n",
    ";\n",
    "'''\n",
    "pd.read_sql(q, conn)"
   ]
  },
  {
   "cell_type": "code",
   "execution_count": null,
   "metadata": {},
   "outputs": [],
   "source": [
    "# Movie AKAs\n",
    "q = '''\n",
    "SELECT *\n",
    "FROM movie_akas\n",
    "LIMIT 3\n",
    ";\n",
    "'''\n",
    "pd.read_sql(q, conn)"
   ]
  },
  {
   "cell_type": "code",
   "execution_count": null,
   "metadata": {},
   "outputs": [],
   "source": [
    "# Persons\n",
    "q = '''\n",
    "SELECT *\n",
    "FROM persons\n",
    "LIMIT 3\n",
    ";\n",
    "'''\n",
    "pd.read_sql(q, conn)"
   ]
  },
  {
   "cell_type": "code",
   "execution_count": null,
   "metadata": {},
   "outputs": [],
   "source": [
    "# Pricipals\n",
    "q = '''\n",
    "SELECT *\n",
    "FROM principals\n",
    "LIMIT 3\n",
    ";\n",
    "'''\n",
    "pd.read_sql(q, conn)"
   ]
  },
  {
   "cell_type": "code",
   "execution_count": null,
   "metadata": {},
   "outputs": [],
   "source": [
    "# Writers\n",
    "q = '''\n",
    "SELECT *\n",
    "FROM writers\n",
    "LIMIT 3\n",
    ";\n",
    "'''\n",
    "pd.read_sql(q, conn)"
   ]
  },
  {
   "attachments": {},
   "cell_type": "markdown",
   "metadata": {},
   "source": [
    "---"
   ]
  },
  {
   "cell_type": "code",
   "execution_count": null,
   "metadata": {},
   "outputs": [],
   "source": [
    "# joined file\n",
    "q = '''\n",
    "SELECT *\n",
    "FROM movie_basics mb\n",
    "JOIN directors dr USING(movie_id)\n",
    "JOIN principals pr USING(movie_id)\n",
    "JOIN persons p USING(person_id)\n",
    "JOIN movie_ratings mr USING(movie_id)\n",
    "WHERE death_year IS NULL\n",
    "GROUP BY movie_id\n",
    "ORDER BY start_year\n",
    ";\n",
    "'''\n",
    "pd.read_sql(q, conn)"
   ]
  },
  {
   "cell_type": "code",
   "execution_count": null,
   "metadata": {},
   "outputs": [],
   "source": []
  },
  {
   "attachments": {},
   "cell_type": "markdown",
   "metadata": {},
   "source": [
    "# Filtering"
   ]
  }
 ],
 "metadata": {
  "kernelspec": {
   "display_name": "learn-env",
   "language": "python",
   "name": "python3"
  },
  "language_info": {
   "codemirror_mode": {
    "name": "ipython",
    "version": 3
   },
   "file_extension": ".py",
   "mimetype": "text/x-python",
   "name": "python",
   "nbconvert_exporter": "python",
   "pygments_lexer": "ipython3",
   "version": "3.8.5"
  },
  "orig_nbformat": 4
 },
 "nbformat": 4,
 "nbformat_minor": 2
}
