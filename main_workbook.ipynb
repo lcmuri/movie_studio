{
 "cells": [
  {
   "cell_type": "code",
   "execution_count": null,
   "metadata": {},
   "outputs": [],
   "source": [
    "import pandas as pd\n",
    "import numpy as np\n",
    "import sqlite3\n",
    "import zipfile\n",
    "import ast"
   ]
  },
  {
   "attachments": {},
   "cell_type": "markdown",
   "metadata": {},
   "source": [
    "## List of Dataframes:"
   ]
  },
  {
   "cell_type": "code",
   "execution_count": null,
   "metadata": {},
   "outputs": [],
   "source": [
    "# Dataframes\n",
    "movie_info_df = pd.read_csv('zippedData/rt.movie_info.tsv.gz', sep='\\t', compression='gzip')\n",
    "movie_info_drop = ['box_office', 'currency', 'dvd_date', 'studio']\n",
    "movie_info_df = movie_info_df.drop(columns=movie_info_drop)\n",
    "print(f'movie_info_df columns: \\n{list(movie_info_df.columns)}\\n')\n",
    "\n",
    "\n",
    "movie_gross_df = pd.read_csv('zippedData/bom.movie_gross.csv.gz')\n",
    "print(f'movie_gross_df columns: \\n{list(movie_gross_df.columns)}\\n')\n",
    "\n",
    "movie_budget_df = pd.read_csv('zippedData/tn.movie_budgets.csv.gz')\n",
    "print(f'movie_budget_df columns: \\n{list(movie_budget_df.columns)}\\n')\n",
    "\n",
    "movie_reviews_df = pd.read_csv('zippedData/rt.reviews.tsv.gz', sep='\\t', compression='gzip', encoding='latin-1')\n",
    "movie_review_drop = ['rating']\n",
    "movie_reviews_df = movie_reviews_df.drop(columns=movie_review_drop) # Dropping rating: poor formatting & lacking 50% of data.\n",
    "print(f'movie_reviews_df columns: \\n{list(movie_reviews_df.columns)}\\n')\n",
    "\n",
    "\n",
    "tmbd_movie_df = pd.read_csv('zippedData/tmdb.movies.csv.gz')\n",
    "print(f'tmbd_movie_df columns: \\n{list(tmbd_movie_df.columns)}\\n')"
   ]
  },
  {
   "attachments": {},
   "cell_type": "markdown",
   "metadata": {},
   "source": [
    "**Combined Datraframe**: MAIN_DF"
   ]
  },
  {
   "cell_type": "code",
   "execution_count": null,
   "metadata": {},
   "outputs": [],
   "source": [
    "#change budget column name to title instead of movie\n",
    "movie_budget_df = movie_budget_df.rename(columns={'movie': 'title'})\n",
    "# Merge tmbd_movie_df and movie_gross_df]\n",
    "main_df = pd.merge(tmbd_movie_df, movie_gross_df, on='title', how='left')\n",
    "# Keep only the 'title' and 'production_budget' columns from movie_budget_df\n",
    "main_budget_df = movie_budget_df[['title', 'production_budget']]\n",
    "# Merge master_df and movie_budget_df\n",
    "main_df = pd.merge(main_df, movie_budget_df, on='title', how='left')\n",
    "# Drop unused column\n",
    "column_to_drop = ['Unnamed: 0', 'release_date_y', 'domestic_gross_y', 'id_y', 'year']\n",
    "main_df = main_df.drop(columns=column_to_drop)\n",
    "#rename main_df columns to better reflact data\n",
    "main_df = main_df.rename(columns={'id_x': 'id', 'release_date_x': 'release_date', 'domestic_gross_x': 'domestic_gross'})\n"
   ]
  },
  {
   "attachments": {},
   "cell_type": "markdown",
   "metadata": {},
   "source": [
    "Cleaning & filtering **MAIN_DF**:"
   ]
  },
  {
   "cell_type": "code",
   "execution_count": null,
   "metadata": {},
   "outputs": [],
   "source": [
    "# Filter to only english\n",
    "main_df = main_df[main_df['original_language'] == 'en']\n",
    "# Filter by 2010 and sooner\n",
    "main_df = main_df[main_df['release_date'] >= '2010-01-01']\n",
    "#Updateing 'production_budget' & 'worldwide_gross' columns\n",
    "# First, replace $ and ,\n",
    "main_df['production_budget'] = main_df['production_budget'].str.replace('$', '').str.replace(',', '')\n",
    "main_df['worldwide_gross'] = main_df['worldwide_gross'].str.replace('$', '').str.replace(',', '')\n",
    "# Fill NaNs with 0\n",
    "main_df['production_budget'] = main_df['production_budget'].fillna(0)\n",
    "main_df['worldwide_gross'] = main_df['worldwide_gross'].fillna(0)\n",
    "# Now convert to int\n",
    "main_df['production_budget'] = main_df['production_budget'].astype(int)\n",
    "main_df['worldwide_gross'] = main_df['worldwide_gross'].astype(int)\n",
    "# Adding Columns\n",
    "main_df['net_profit'] = main_df['worldwide_gross'] - main_df['production_budget']\n",
    "main_df['roi'] = main_df['net_profit'] / main_df['production_budget'] * 100\n",
    "# Create a dictionary mapping genre IDs to names, all in lowercase\n",
    "genre_dict = {28: 'action', 12: 'adventure', 16: 'animation', 35: 'comedy', 80: 'crime', 99: 'documentary', \n",
    "              18: 'drama', 10751: 'family', 14: 'fantasy', 36: 'history', 27: 'horror', 10402: 'music', \n",
    "              9648: 'mystery', 10749: 'romance', 878: 'science fiction', 10770: 'tv movie', 53: 'thriller', \n",
    "              10752: 'war', 37: 'western'}\n",
    "\n",
    "def decode_genre_ids(genre_ids_string):\n",
    "    # Convert string to list\n",
    "    genre_ids = ast.literal_eval(genre_ids_string)\n",
    "    # Return the genre names corresponding to the IDs\n",
    "    return [genre_dict[id] for id in genre_ids if id in genre_dict]\n",
    "\n",
    "# Apply the function to each value in the 'genre_ids' column\n",
    "main_df['genres'] = main_df['genre_ids'].apply(decode_genre_ids)"
   ]
  },
  {
   "cell_type": "code",
   "execution_count": null,
   "metadata": {},
   "outputs": [],
   "source": [
    "main_df.head()"
   ]
  },
  {
   "cell_type": "code",
   "execution_count": null,
   "metadata": {},
   "outputs": [],
   "source": [
    "main_df.info()"
   ]
  },
  {
   "cell_type": "code",
   "execution_count": null,
   "metadata": {},
   "outputs": [],
   "source": [
    "main_df.isna().sum().sort_values(ascending=False)\n"
   ]
  },
  {
   "attachments": {},
   "cell_type": "markdown",
   "metadata": {},
   "source": [
    "### movie_info_df: cleaned"
   ]
  },
  {
   "cell_type": "code",
   "execution_count": null,
   "metadata": {},
   "outputs": [],
   "source": [
    "movie_info_df.info()"
   ]
  },
  {
   "cell_type": "code",
   "execution_count": null,
   "metadata": {},
   "outputs": [],
   "source": [
    "movie_info_df.isna().sum().sort_values(ascending=False)"
   ]
  },
  {
   "attachments": {},
   "cell_type": "markdown",
   "metadata": {},
   "source": [
    "Cleaning & Filtering for **MOVIE_INFO_DF**:"
   ]
  },
  {
   "cell_type": "code",
   "execution_count": null,
   "metadata": {},
   "outputs": [],
   "source": [
    "# Dropping 8 null rows with missing genre. Most info is missing with them:\n",
    "movie_info_df = movie_info_df.dropna(subset=['genre'])\n",
    "\n",
    "# filling all empty values with 'unknown' for ['synopsis', 'runtime', 'director', 'theater_date', 'writer']:\n",
    "columns_to_fill = ['synopsis', 'runtime', 'director', 'theater_date', 'writer']\n",
    "movie_info_df[columns_to_fill] = movie_info_df[columns_to_fill].fillna('unknown')\n",
    "\n",
    "# Filtering date to 2010 and forward\n",
    "movie_info_df['theater_date'] = pd.to_datetime(movie_info_df['theater_date'], format='%b %d, %Y', errors='coerce')\n",
    "movie_info_df = movie_info_df[movie_info_df['theater_date'] >= 'Jan 1, 2010']\n",
    "\n",
    "\n",
    "\n",
    "# changing runtime to int + removing 'minutes' + changing name of the column to reflect:\n",
    "movie_info_df.loc[movie_info_df['runtime'] != 'unknown', 'runtime'] = movie_info_df.loc[movie_info_df['runtime'] != 'unknown', 'runtime'].str.replace(' minutes', '').astype(int)\n",
    "movie_info_df = movie_info_df.rename(columns={'runtime': 'runtime_in_minutes'})\n",
    "\n",
    "# drop all 26 unknown runtimes:\n",
    "movie_info_df = movie_info_df[movie_info_df['runtime_in_minutes'] != 'unknown']\n"
   ]
  },
  {
   "cell_type": "code",
   "execution_count": null,
   "metadata": {},
   "outputs": [],
   "source": [
    "movie_info_df.head(3)"
   ]
  },
  {
   "attachments": {},
   "cell_type": "markdown",
   "metadata": {},
   "source": [
    "**MOVIE_INFO_DF** Analysis:"
   ]
  },
  {
   "cell_type": "code",
   "execution_count": null,
   "metadata": {},
   "outputs": [],
   "source": [
    "# 81% of the movie market is rated PG-13, R and NR:\n",
    "movie_info_df['rating'].value_counts()"
   ]
  },
  {
   "cell_type": "code",
   "execution_count": null,
   "metadata": {},
   "outputs": [],
   "source": [
    "# average movie length is just over 100 minutes\n",
    "movie_info_df['runtime_in_minutes'].mean()"
   ]
  },
  {
   "cell_type": "code",
   "execution_count": null,
   "metadata": {},
   "outputs": [],
   "source": [
    "# Top Directors\n",
    "movie_info_df['director'].value_counts().head(20)"
   ]
  },
  {
   "cell_type": "code",
   "execution_count": null,
   "metadata": {},
   "outputs": [],
   "source": [
    "# Top Writers\n",
    "movie_info_df['writer'].value_counts().head(20)"
   ]
  },
  {
   "cell_type": "code",
   "execution_count": null,
   "metadata": {},
   "outputs": [],
   "source": [
    "# Top Genres seem to be a mix of Drama & Comedy\n",
    "movie_info_df['genre'].value_counts().head(20)"
   ]
  },
  {
   "attachments": {},
   "cell_type": "markdown",
   "metadata": {},
   "source": [
    "### movie_reviews_df: cleaned"
   ]
  },
  {
   "cell_type": "code",
   "execution_count": null,
   "metadata": {},
   "outputs": [],
   "source": [
    "movie_reviews_df.info()"
   ]
  },
  {
   "cell_type": "code",
   "execution_count": null,
   "metadata": {},
   "outputs": [],
   "source": [
    "movie_reviews_df.isna().sum().sort_values(ascending=False)"
   ]
  },
  {
   "attachments": {},
   "cell_type": "markdown",
   "metadata": {},
   "source": [
    "**MOVIE_REVIEWS_DF** Data cleaning:"
   ]
  },
  {
   "cell_type": "code",
   "execution_count": null,
   "metadata": {},
   "outputs": [],
   "source": [
    "# Filtering to only top_critics == 1\n",
    "movie_reviews_df = movie_reviews_df[movie_reviews_df['top_critic'] == 1]\n",
    "# filling null 'publisher', 'critic', 'review' values with 'Unknown':\n",
    "fill_columns = ['publisher', 'critic', 'review']\n",
    "movie_reviews_df[fill_columns] = movie_reviews_df[fill_columns].fillna('unknown')\n",
    "# Filtering date to 2010 and forward\n",
    "movie_reviews_df['date'] = pd.to_datetime(movie_reviews_df['date'])\n",
    "movie_reviews_df = movie_reviews_df[movie_reviews_df['date'] >= '2010-01-01']\n",
    "\n",
    "\n",
    "\n"
   ]
  },
  {
   "cell_type": "code",
   "execution_count": null,
   "metadata": {},
   "outputs": [],
   "source": [
    "movie_reviews_df.head(20)"
   ]
  },
  {
   "attachments": {},
   "cell_type": "markdown",
   "metadata": {},
   "source": [
    "**MOVIE_REVIEW_DF** Analysis:"
   ]
  },
  {
   "attachments": {},
   "cell_type": "markdown",
   "metadata": {},
   "source": [
    "Top_Critics reviews = 4,713"
   ]
  },
  {
   "cell_type": "code",
   "execution_count": null,
   "metadata": {},
   "outputs": [],
   "source": [
    "movie_reviews_df['top_critic'].sum()"
   ]
  },
  {
   "attachments": {},
   "cell_type": "markdown",
   "metadata": {},
   "source": [
    "Names of the top 20 critics:"
   ]
  },
  {
   "cell_type": "code",
   "execution_count": null,
   "metadata": {},
   "outputs": [],
   "source": [
    "movie_reviews_df['critic'].value_counts().head(20)"
   ]
  },
  {
   "attachments": {},
   "cell_type": "markdown",
   "metadata": {},
   "source": [
    "Fresh vs. Rotten; \n",
    "\n",
    "- fresh = 60%\n",
    "- Rotten = 40%"
   ]
  },
  {
   "cell_type": "code",
   "execution_count": null,
   "metadata": {},
   "outputs": [],
   "source": [
    "movie_reviews_df['fresh'].value_counts()"
   ]
  },
  {
   "attachments": {},
   "cell_type": "markdown",
   "metadata": {},
   "source": [
    "---"
   ]
  },
  {
   "attachments": {},
   "cell_type": "markdown",
   "metadata": {},
   "source": [
    "# SQL DATABASE"
   ]
  },
  {
   "attachments": {},
   "cell_type": "markdown",
   "metadata": {},
   "source": [
    "* Unzipping the '**im.db.zip**' file \n",
    "* Connecting to database using '**conn**'\n",
    "* Printing all of the **table names** within the database\n",
    "\n",
    "\n",
    "**Important note**: movie_basics & movie_ratings are the most relevant per instructions"
   ]
  },
  {
   "cell_type": "code",
   "execution_count": null,
   "metadata": {},
   "outputs": [],
   "source": [
    "# Unzip the database file\n",
    "with zipfile.ZipFile('zippedData/im.db.zip', 'r') as zip_ref:\n",
    "    zip_ref.extractall('zippedData')\n",
    "\n",
    "# Connect to the unzipped SQLite database\n",
    "conn = sqlite3.connect('zippedData/im.db')\n",
    "\n",
    "# Run test query\n",
    "q = \"\"\"\n",
    "SELECT tbl_name AS table_name, sql\n",
    "FROM sqlite_master \n",
    "WHERE type='table'\n",
    "ORDER BY name;\n",
    "\"\"\"\n",
    "pd.read_sql(q, conn)"
   ]
  },
  {
   "cell_type": "code",
   "execution_count": null,
   "metadata": {},
   "outputs": [],
   "source": [
    "# Movie Basics\n",
    "q = '''\n",
    "SELECT *\n",
    "FROM movie_basics\n",
    "WHERE original_title LIKE \"Toy%\"\n",
    "LIMIT 3\n",
    ";\n",
    "'''\n",
    "pd.read_sql(q, conn)"
   ]
  },
  {
   "cell_type": "code",
   "execution_count": null,
   "metadata": {},
   "outputs": [],
   "source": []
  },
  {
   "cell_type": "code",
   "execution_count": null,
   "metadata": {},
   "outputs": [],
   "source": [
    "# Moving Ratings\n",
    "q = '''\n",
    "SELECT *\n",
    "FROM movie_ratings\n",
    "LIMIT 3\n",
    ";\n",
    "'''\n",
    "pd.read_sql(q, conn)"
   ]
  },
  {
   "cell_type": "code",
   "execution_count": null,
   "metadata": {},
   "outputs": [],
   "source": [
    "# Directors\n",
    "q = '''\n",
    "SELECT *\n",
    "FROM directors\n",
    "LIMIT 3\n",
    ";\n",
    "'''\n",
    "pd.read_sql(q, conn)"
   ]
  },
  {
   "cell_type": "code",
   "execution_count": null,
   "metadata": {},
   "outputs": [],
   "source": [
    "# Known For\n",
    "q = '''\n",
    "SELECT *\n",
    "FROM known_for\n",
    "LIMIT 3\n",
    ";\n",
    "'''\n",
    "pd.read_sql(q, conn)"
   ]
  },
  {
   "cell_type": "code",
   "execution_count": null,
   "metadata": {},
   "outputs": [],
   "source": [
    "# Movie AKAs\n",
    "q = '''\n",
    "SELECT *\n",
    "FROM movie_akas\n",
    "LIMIT 3\n",
    ";\n",
    "'''\n",
    "pd.read_sql(q, conn)"
   ]
  },
  {
   "cell_type": "code",
   "execution_count": null,
   "metadata": {},
   "outputs": [],
   "source": [
    "# Persons\n",
    "q = '''\n",
    "SELECT *\n",
    "FROM persons\n",
    "LIMIT 3\n",
    ";\n",
    "'''\n",
    "pd.read_sql(q, conn)"
   ]
  },
  {
   "cell_type": "code",
   "execution_count": null,
   "metadata": {},
   "outputs": [],
   "source": [
    "# Pricipals\n",
    "q = '''\n",
    "SELECT *\n",
    "FROM principals\n",
    "LIMIT 3\n",
    ";\n",
    "'''\n",
    "pd.read_sql(q, conn)"
   ]
  },
  {
   "cell_type": "code",
   "execution_count": null,
   "metadata": {},
   "outputs": [],
   "source": [
    "# Writers\n",
    "q = '''\n",
    "SELECT *\n",
    "FROM writers\n",
    "LIMIT 3\n",
    ";\n",
    "'''\n",
    "pd.read_sql(q, conn)"
   ]
  },
  {
   "attachments": {},
   "cell_type": "markdown",
   "metadata": {},
   "source": [
    "---"
   ]
  },
  {
   "cell_type": "code",
   "execution_count": null,
   "metadata": {},
   "outputs": [],
   "source": [
    "# joined file\n",
    "q = '''\n",
    "SELECT *\n",
    "FROM movie_basics mb\n",
    "JOIN directors dr USING(movie_id)\n",
    "JOIN principals pr USING(movie_id)\n",
    "JOIN persons p USING(person_id)\n",
    "JOIN movie_ratings mr USING(movie_id)\n",
    "WHERE death_year IS NULL\n",
    "GROUP BY movie_id\n",
    "ORDER BY start_year\n",
    ";\n",
    "'''\n",
    "pd.read_sql(q, conn)"
   ]
  },
  {
   "attachments": {},
   "cell_type": "markdown",
   "metadata": {},
   "source": [
    "---"
   ]
  },
  {
   "attachments": {},
   "cell_type": "markdown",
   "metadata": {},
   "source": [
    "# **Recommendations**"
   ]
  },
  {
   "attachments": {},
   "cell_type": "markdown",
   "metadata": {},
   "source": [
    "### Worldwide vs Domestic vs Foreign:"
   ]
  },
  {
   "attachments": {},
   "cell_type": "markdown",
   "metadata": {},
   "source": [
    "* based on the data from our dataframes, we have decided recommend launching your movie **Worldwide**. \n",
    "* We ran into a lot of data limitations when breaking down domestic vs foreign but we had plenty to work with as it pertained to **production budget** & **worldwide**.\n",
    "* **We recommend launching the movie worldwide**"
   ]
  },
  {
   "attachments": {},
   "cell_type": "markdown",
   "metadata": {},
   "source": [
    "Further Filtering:"
   ]
  },
  {
   "cell_type": "code",
   "execution_count": 22,
   "metadata": {},
   "outputs": [],
   "source": [
    "calc_df = main_df\n",
    "\n",
    "# Filtering columns\n",
    "calc_df = calc_df[calc_df['production_budget'] > 0]\n",
    "calc_df = calc_df[calc_df['worldwide_gross'] > 0]\n",
    "calc_df = calc_df[calc_df['roi'] > 0]\n",
    "calc_df = calc_df[calc_df['domestic_gross'] > 0]\n",
    "calc_df = calc_df[~calc_df['foreign_gross'].isna()]\n",
    "# Sorting values by ROI\n",
    "calc_df = calc_df.sort_values('roi', ascending=False)\n",
    "# removing movie duplicates values in ROI\n",
    "calc_df = calc_df.loc[~calc_df['roi'].duplicated(), :]"
   ]
  },
  {
   "attachments": {},
   "cell_type": "markdown",
   "metadata": {},
   "source": [
    "Based on **top 10 movies (ROI)**"
   ]
  },
  {
   "attachments": {},
   "cell_type": "markdown",
   "metadata": {},
   "source": [
    "* The best ROI ranges from **41,560% to 3,852%** increse\n",
    "* **70%** of the top ROI movies are a mix of **Horror** and **Thriller**\n",
    "* **We recommend making a HORROR/THRILLER MOVIE**"
   ]
  },
  {
   "cell_type": "code",
   "execution_count": null,
   "metadata": {},
   "outputs": [],
   "source": [
    "calc_df[['title', 'roi', 'genres']].head(10)"
   ]
  },
  {
   "attachments": {},
   "cell_type": "markdown",
   "metadata": {},
   "source": [
    "Here are the individual genre counts across all movies for visability:"
   ]
  },
  {
   "cell_type": "code",
   "execution_count": null,
   "metadata": {},
   "outputs": [],
   "source": [
    "genre_counts = calc_df['genres'].explode().value_counts()\n",
    "genre_counts"
   ]
  },
  {
   "attachments": {},
   "cell_type": "markdown",
   "metadata": {},
   "source": [
    "**Movie length (minutes)**"
   ]
  },
  {
   "attachments": {},
   "cell_type": "markdown",
   "metadata": {},
   "source": [
    "* We found that the average movie length was just over **106 mintues**.\n",
    "* **We recommend keeping the movie length between 100-110 minutes**"
   ]
  },
  {
   "cell_type": "code",
   "execution_count": null,
   "metadata": {},
   "outputs": [],
   "source": [
    "# average movie length is just over 100 minutes\n",
    "movie_info_df['runtime_in_minutes'].mean()"
   ]
  },
  {
   "attachments": {},
   "cell_type": "markdown",
   "metadata": {},
   "source": [
    "**Best DIRECTORS for the Horror/Thriller Genre**"
   ]
  },
  {
   "attachments": {},
   "cell_type": "markdown",
   "metadata": {},
   "source": [
    "* ENTER DETAILS HERE..... \n",
    "* **We recommend....**\n"
   ]
  },
  {
   "cell_type": "code",
   "execution_count": 21,
   "metadata": {},
   "outputs": [],
   "source": [
    "# Enter SQL Code here\n"
   ]
  },
  {
   "attachments": {},
   "cell_type": "markdown",
   "metadata": {},
   "source": [
    "**Best WRITERS for the Horror/Thriller Genre**"
   ]
  },
  {
   "attachments": {},
   "cell_type": "markdown",
   "metadata": {},
   "source": [
    "* ENTER DETAILS HERE..... \n",
    "* **We recommend....**\n"
   ]
  },
  {
   "cell_type": "code",
   "execution_count": null,
   "metadata": {},
   "outputs": [],
   "source": [
    "# Enter SQL Code here"
   ]
  }
 ],
 "metadata": {
  "kernelspec": {
   "display_name": "learn-env",
   "language": "python",
   "name": "python3"
  },
  "language_info": {
   "codemirror_mode": {
    "name": "ipython",
    "version": 3
   },
   "file_extension": ".py",
   "mimetype": "text/x-python",
   "name": "python",
   "nbconvert_exporter": "python",
   "pygments_lexer": "ipython3",
   "version": "3.8.5"
  },
  "orig_nbformat": 4
 },
 "nbformat": 4,
 "nbformat_minor": 2
}
