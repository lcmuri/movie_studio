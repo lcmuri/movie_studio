{
 "cells": [
  {
   "cell_type": "code",
   "execution_count": 45,
   "metadata": {},
   "outputs": [],
   "source": [
    "import pandas as pd\n",
    "import numpy as np\n",
    "import sqlite3\n",
    "import zipfile"
   ]
  },
  {
   "attachments": {},
   "cell_type": "markdown",
   "metadata": {},
   "source": [
    "## List of Dataframes:"
   ]
  },
  {
   "cell_type": "code",
   "execution_count": 46,
   "metadata": {},
   "outputs": [
    {
     "name": "stdout",
     "output_type": "stream",
     "text": [
      "movie_info_df columns: \n",
      "['id', 'synopsis', 'rating', 'genre', 'director', 'writer', 'theater_date', 'runtime']\n",
      "\n",
      "movie_gross_df columns: \n",
      "['title', 'studio', 'domestic_gross', 'foreign_gross', 'year']\n",
      "\n",
      "movie_budget_df columns: \n",
      "['id', 'release_date', 'movie', 'production_budget', 'domestic_gross', 'worldwide_gross']\n",
      "\n",
      "movie_reviews_df columns: \n",
      "['id', 'review', 'fresh', 'critic', 'top_critic', 'publisher', 'date']\n",
      "\n",
      "tmbd_movie_df columns: \n",
      "['Unnamed: 0', 'genre_ids', 'id', 'original_language', 'original_title', 'popularity', 'release_date', 'title', 'vote_average', 'vote_count']\n",
      "\n"
     ]
    }
   ],
   "source": [
    "# Dataframes\n",
    "movie_info_df = pd.read_csv('zippedData/rt.movie_info.tsv.gz', sep='\\t', compression='gzip')\n",
    "movie_info_drop = ['box_office', 'currency', 'dvd_date', 'studio']\n",
    "movie_info_df = movie_info_df.drop(columns=movie_info_drop)\n",
    "print(f'movie_info_df columns: \\n{list(movie_info_df.columns)}\\n')\n",
    "\n",
    "\n",
    "movie_gross_df = pd.read_csv('zippedData/bom.movie_gross.csv.gz')\n",
    "print(f'movie_gross_df columns: \\n{list(movie_gross_df.columns)}\\n')\n",
    "\n",
    "movie_budget_df = pd.read_csv('zippedData/tn.movie_budgets.csv.gz')\n",
    "print(f'movie_budget_df columns: \\n{list(movie_budget_df.columns)}\\n')\n",
    "\n",
    "movie_reviews_df = pd.read_csv('zippedData/rt.reviews.tsv.gz', sep='\\t', compression='gzip', encoding='latin-1')\n",
    "movie_review_drop = ['rating']\n",
    "movie_reviews_df = movie_reviews_df.drop(columns=movie_review_drop) # Dropping rating: poor formatting & lacking 50% of data.\n",
    "print(f'movie_reviews_df columns: \\n{list(movie_reviews_df.columns)}\\n')\n",
    "\n",
    "\n",
    "tmbd_movie_df = pd.read_csv('zippedData/tmdb.movies.csv.gz')\n",
    "print(f'tmbd_movie_df columns: \\n{list(tmbd_movie_df.columns)}\\n')"
   ]
  },
  {
   "attachments": {},
   "cell_type": "markdown",
   "metadata": {},
   "source": [
    "**Combined Datraframe**:"
   ]
  },
  {
   "cell_type": "code",
   "execution_count": 98,
   "metadata": {},
   "outputs": [],
   "source": [
    "#change budget column name to title instead of movie\n",
    "movie_budget_df = movie_budget_df.rename(columns={'movie': 'title'})\n",
    "\n",
    "# Merge tmbd_movie_df and movie_gross_df]\n",
    "main_df = pd.merge(tmbd_movie_df, movie_gross_df, on='title', how='left')\n",
    "\n",
    "# Keep only the 'title' and 'production_budget' columns from movie_budget_df\n",
    "main_budget_df = movie_budget_df[['title', 'production_budget']]\n",
    "\n",
    "# Merge master_df and movie_budget_df\n",
    "main_df = pd.merge(main_df, movie_budget_df, on='title', how='left')\n",
    "\n",
    "# Drop unused column\n",
    "column_to_drop = ['Unnamed: 0', 'release_date_y', 'domestic_gross_y', 'id_y', 'year']\n",
    "main_df = main_df.drop(columns=column_to_drop)\n",
    "\n",
    "#rename main_df columns to better reflact data\n",
    "main_df = main_df.rename(columns={'id_x': 'id', 'release_date_x': 'release_date', 'domestic_gross_x': 'domestic_gross'})\n",
    "\n",
    "\n"
   ]
  },
  {
   "attachments": {},
   "cell_type": "markdown",
   "metadata": {},
   "source": [
    "Cleaning & filtering **MAIN_DF**:"
   ]
  },
  {
   "cell_type": "code",
   "execution_count": 91,
   "metadata": {},
   "outputs": [],
   "source": [
    "# Filter to only english\n",
    "main_df = main_df[main_df['original_language'] == 'en']\n",
    "\n",
    "# Filter by 2010 and sooner\n",
    "main_df = main_df[main_df['release_date'] >= '2010-01-01']\n",
    "\n",
    "\n",
    "\n",
    "\n",
    "\n"
   ]
  },
  {
   "cell_type": "code",
   "execution_count": 99,
   "metadata": {},
   "outputs": [
    {
     "data": {
      "text/html": [
       "<div>\n",
       "<style scoped>\n",
       "    .dataframe tbody tr th:only-of-type {\n",
       "        vertical-align: middle;\n",
       "    }\n",
       "\n",
       "    .dataframe tbody tr th {\n",
       "        vertical-align: top;\n",
       "    }\n",
       "\n",
       "    .dataframe thead th {\n",
       "        text-align: right;\n",
       "    }\n",
       "</style>\n",
       "<table border=\"1\" class=\"dataframe\">\n",
       "  <thead>\n",
       "    <tr style=\"text-align: right;\">\n",
       "      <th></th>\n",
       "      <th>genre_ids</th>\n",
       "      <th>id</th>\n",
       "      <th>original_language</th>\n",
       "      <th>original_title</th>\n",
       "      <th>popularity</th>\n",
       "      <th>release_date</th>\n",
       "      <th>title</th>\n",
       "      <th>vote_average</th>\n",
       "      <th>vote_count</th>\n",
       "      <th>studio</th>\n",
       "      <th>domestic_gross</th>\n",
       "      <th>foreign_gross</th>\n",
       "      <th>production_budget</th>\n",
       "      <th>worldwide_gross</th>\n",
       "    </tr>\n",
       "  </thead>\n",
       "  <tbody>\n",
       "    <tr>\n",
       "      <th>0</th>\n",
       "      <td>[12, 14, 10751]</td>\n",
       "      <td>12444</td>\n",
       "      <td>en</td>\n",
       "      <td>Harry Potter and the Deathly Hallows: Part 1</td>\n",
       "      <td>33.533</td>\n",
       "      <td>2010-11-19</td>\n",
       "      <td>Harry Potter and the Deathly Hallows: Part 1</td>\n",
       "      <td>7.7</td>\n",
       "      <td>10788</td>\n",
       "      <td>NaN</td>\n",
       "      <td>NaN</td>\n",
       "      <td>NaN</td>\n",
       "      <td>NaN</td>\n",
       "      <td>NaN</td>\n",
       "    </tr>\n",
       "    <tr>\n",
       "      <th>1</th>\n",
       "      <td>[14, 12, 16, 10751]</td>\n",
       "      <td>10191</td>\n",
       "      <td>en</td>\n",
       "      <td>How to Train Your Dragon</td>\n",
       "      <td>28.734</td>\n",
       "      <td>2010-03-26</td>\n",
       "      <td>How to Train Your Dragon</td>\n",
       "      <td>7.7</td>\n",
       "      <td>7610</td>\n",
       "      <td>P/DW</td>\n",
       "      <td>217600000.0</td>\n",
       "      <td>277300000</td>\n",
       "      <td>$165,000,000</td>\n",
       "      <td>$494,870,992</td>\n",
       "    </tr>\n",
       "    <tr>\n",
       "      <th>2</th>\n",
       "      <td>[12, 28, 878]</td>\n",
       "      <td>10138</td>\n",
       "      <td>en</td>\n",
       "      <td>Iron Man 2</td>\n",
       "      <td>28.515</td>\n",
       "      <td>2010-05-07</td>\n",
       "      <td>Iron Man 2</td>\n",
       "      <td>6.8</td>\n",
       "      <td>12368</td>\n",
       "      <td>Par.</td>\n",
       "      <td>312400000.0</td>\n",
       "      <td>311500000</td>\n",
       "      <td>$170,000,000</td>\n",
       "      <td>$621,156,389</td>\n",
       "    </tr>\n",
       "    <tr>\n",
       "      <th>3</th>\n",
       "      <td>[16, 35, 10751]</td>\n",
       "      <td>862</td>\n",
       "      <td>en</td>\n",
       "      <td>Toy Story</td>\n",
       "      <td>28.005</td>\n",
       "      <td>1995-11-22</td>\n",
       "      <td>Toy Story</td>\n",
       "      <td>7.9</td>\n",
       "      <td>10174</td>\n",
       "      <td>NaN</td>\n",
       "      <td>NaN</td>\n",
       "      <td>NaN</td>\n",
       "      <td>$30,000,000</td>\n",
       "      <td>$364,545,516</td>\n",
       "    </tr>\n",
       "    <tr>\n",
       "      <th>4</th>\n",
       "      <td>[28, 878, 12]</td>\n",
       "      <td>27205</td>\n",
       "      <td>en</td>\n",
       "      <td>Inception</td>\n",
       "      <td>27.920</td>\n",
       "      <td>2010-07-16</td>\n",
       "      <td>Inception</td>\n",
       "      <td>8.3</td>\n",
       "      <td>22186</td>\n",
       "      <td>WB</td>\n",
       "      <td>292600000.0</td>\n",
       "      <td>535700000</td>\n",
       "      <td>$160,000,000</td>\n",
       "      <td>$835,524,642</td>\n",
       "    </tr>\n",
       "    <tr>\n",
       "      <th>5</th>\n",
       "      <td>[12, 14, 10751]</td>\n",
       "      <td>32657</td>\n",
       "      <td>en</td>\n",
       "      <td>Percy Jackson &amp; the Olympians: The Lightning T...</td>\n",
       "      <td>26.691</td>\n",
       "      <td>2010-02-11</td>\n",
       "      <td>Percy Jackson &amp; the Olympians: The Lightning T...</td>\n",
       "      <td>6.1</td>\n",
       "      <td>4229</td>\n",
       "      <td>NaN</td>\n",
       "      <td>NaN</td>\n",
       "      <td>NaN</td>\n",
       "      <td>$95,000,000</td>\n",
       "      <td>$223,050,874</td>\n",
       "    </tr>\n",
       "    <tr>\n",
       "      <th>6</th>\n",
       "      <td>[28, 12, 14, 878]</td>\n",
       "      <td>19995</td>\n",
       "      <td>en</td>\n",
       "      <td>Avatar</td>\n",
       "      <td>26.526</td>\n",
       "      <td>2009-12-18</td>\n",
       "      <td>Avatar</td>\n",
       "      <td>7.4</td>\n",
       "      <td>18676</td>\n",
       "      <td>NaN</td>\n",
       "      <td>NaN</td>\n",
       "      <td>NaN</td>\n",
       "      <td>$425,000,000</td>\n",
       "      <td>$2,776,345,279</td>\n",
       "    </tr>\n",
       "    <tr>\n",
       "      <th>7</th>\n",
       "      <td>[16, 10751, 35]</td>\n",
       "      <td>10193</td>\n",
       "      <td>en</td>\n",
       "      <td>Toy Story 3</td>\n",
       "      <td>24.445</td>\n",
       "      <td>2010-06-17</td>\n",
       "      <td>Toy Story 3</td>\n",
       "      <td>7.7</td>\n",
       "      <td>8340</td>\n",
       "      <td>BV</td>\n",
       "      <td>415000000.0</td>\n",
       "      <td>652000000</td>\n",
       "      <td>$200,000,000</td>\n",
       "      <td>$1,068,879,522</td>\n",
       "    </tr>\n",
       "    <tr>\n",
       "      <th>8</th>\n",
       "      <td>[16, 10751, 35]</td>\n",
       "      <td>20352</td>\n",
       "      <td>en</td>\n",
       "      <td>Despicable Me</td>\n",
       "      <td>23.673</td>\n",
       "      <td>2010-07-09</td>\n",
       "      <td>Despicable Me</td>\n",
       "      <td>7.2</td>\n",
       "      <td>10057</td>\n",
       "      <td>Uni.</td>\n",
       "      <td>251500000.0</td>\n",
       "      <td>291600000</td>\n",
       "      <td>$69,000,000</td>\n",
       "      <td>$543,464,573</td>\n",
       "    </tr>\n",
       "    <tr>\n",
       "      <th>9</th>\n",
       "      <td>[16, 28, 35, 10751, 878]</td>\n",
       "      <td>38055</td>\n",
       "      <td>en</td>\n",
       "      <td>Megamind</td>\n",
       "      <td>22.855</td>\n",
       "      <td>2010-11-04</td>\n",
       "      <td>Megamind</td>\n",
       "      <td>6.8</td>\n",
       "      <td>3635</td>\n",
       "      <td>P/DW</td>\n",
       "      <td>148400000.0</td>\n",
       "      <td>173500000</td>\n",
       "      <td>$130,000,000</td>\n",
       "      <td>$321,887,208</td>\n",
       "    </tr>\n",
       "    <tr>\n",
       "      <th>10</th>\n",
       "      <td>[16, 35, 10751]</td>\n",
       "      <td>863</td>\n",
       "      <td>en</td>\n",
       "      <td>Toy Story 2</td>\n",
       "      <td>22.698</td>\n",
       "      <td>1999-11-24</td>\n",
       "      <td>Toy Story 2</td>\n",
       "      <td>7.5</td>\n",
       "      <td>7553</td>\n",
       "      <td>NaN</td>\n",
       "      <td>NaN</td>\n",
       "      <td>NaN</td>\n",
       "      <td>$90,000,000</td>\n",
       "      <td>$511,358,276</td>\n",
       "    </tr>\n",
       "    <tr>\n",
       "      <th>11</th>\n",
       "      <td>[10751, 14, 12]</td>\n",
       "      <td>12155</td>\n",
       "      <td>en</td>\n",
       "      <td>Alice in Wonderland</td>\n",
       "      <td>22.020</td>\n",
       "      <td>2010-03-05</td>\n",
       "      <td>Alice in Wonderland</td>\n",
       "      <td>6.6</td>\n",
       "      <td>8713</td>\n",
       "      <td>NaN</td>\n",
       "      <td>NaN</td>\n",
       "      <td>NaN</td>\n",
       "      <td>$200,000,000</td>\n",
       "      <td>$1,025,491,110</td>\n",
       "    </tr>\n",
       "    <tr>\n",
       "      <th>12</th>\n",
       "      <td>[10751, 14, 12]</td>\n",
       "      <td>12155</td>\n",
       "      <td>en</td>\n",
       "      <td>Alice in Wonderland</td>\n",
       "      <td>22.020</td>\n",
       "      <td>2010-03-05</td>\n",
       "      <td>Alice in Wonderland</td>\n",
       "      <td>6.6</td>\n",
       "      <td>8713</td>\n",
       "      <td>NaN</td>\n",
       "      <td>NaN</td>\n",
       "      <td>NaN</td>\n",
       "      <td>$3,000,000</td>\n",
       "      <td>$0</td>\n",
       "    </tr>\n",
       "    <tr>\n",
       "      <th>13</th>\n",
       "      <td>[53, 12, 28]</td>\n",
       "      <td>27578</td>\n",
       "      <td>en</td>\n",
       "      <td>The Expendables</td>\n",
       "      <td>21.517</td>\n",
       "      <td>2010-08-03</td>\n",
       "      <td>The Expendables</td>\n",
       "      <td>6.1</td>\n",
       "      <td>4647</td>\n",
       "      <td>LGF</td>\n",
       "      <td>103100000.0</td>\n",
       "      <td>171400000</td>\n",
       "      <td>$82,000,000</td>\n",
       "      <td>$268,268,174</td>\n",
       "    </tr>\n",
       "    <tr>\n",
       "      <th>14</th>\n",
       "      <td>[16, 10751]</td>\n",
       "      <td>38757</td>\n",
       "      <td>en</td>\n",
       "      <td>Tangled</td>\n",
       "      <td>21.511</td>\n",
       "      <td>2010-11-24</td>\n",
       "      <td>Tangled</td>\n",
       "      <td>7.5</td>\n",
       "      <td>6407</td>\n",
       "      <td>BV</td>\n",
       "      <td>200800000.0</td>\n",
       "      <td>391000000</td>\n",
       "      <td>$260,000,000</td>\n",
       "      <td>$586,477,240</td>\n",
       "    </tr>\n",
       "    <tr>\n",
       "      <th>15</th>\n",
       "      <td>[27, 80]</td>\n",
       "      <td>41439</td>\n",
       "      <td>en</td>\n",
       "      <td>Saw 3D</td>\n",
       "      <td>20.370</td>\n",
       "      <td>2010-10-28</td>\n",
       "      <td>Saw: The Final Chapter</td>\n",
       "      <td>6.0</td>\n",
       "      <td>1488</td>\n",
       "      <td>NaN</td>\n",
       "      <td>NaN</td>\n",
       "      <td>NaN</td>\n",
       "      <td>NaN</td>\n",
       "      <td>NaN</td>\n",
       "    </tr>\n",
       "    <tr>\n",
       "      <th>16</th>\n",
       "      <td>[12, 14, 18, 10749]</td>\n",
       "      <td>24021</td>\n",
       "      <td>en</td>\n",
       "      <td>The Twilight Saga: Eclipse</td>\n",
       "      <td>20.340</td>\n",
       "      <td>2010-06-23</td>\n",
       "      <td>The Twilight Saga: Eclipse</td>\n",
       "      <td>6.0</td>\n",
       "      <td>4909</td>\n",
       "      <td>Sum.</td>\n",
       "      <td>300500000.0</td>\n",
       "      <td>398000000</td>\n",
       "      <td>$68,000,000</td>\n",
       "      <td>$706,102,828</td>\n",
       "    </tr>\n",
       "    <tr>\n",
       "      <th>17</th>\n",
       "      <td>[28, 53, 878]</td>\n",
       "      <td>20504</td>\n",
       "      <td>en</td>\n",
       "      <td>The Book of Eli</td>\n",
       "      <td>18.985</td>\n",
       "      <td>2010-01-11</td>\n",
       "      <td>The Book of Eli</td>\n",
       "      <td>6.7</td>\n",
       "      <td>3495</td>\n",
       "      <td>WB</td>\n",
       "      <td>94800000.0</td>\n",
       "      <td>62300000</td>\n",
       "      <td>$80,000,000</td>\n",
       "      <td>$158,750,817</td>\n",
       "    </tr>\n",
       "    <tr>\n",
       "      <th>18</th>\n",
       "      <td>[10402, 10749]</td>\n",
       "      <td>52371</td>\n",
       "      <td>nl</td>\n",
       "      <td>LelleBelle</td>\n",
       "      <td>18.586</td>\n",
       "      <td>2010-10-09</td>\n",
       "      <td>LelleBelle</td>\n",
       "      <td>4.5</td>\n",
       "      <td>36</td>\n",
       "      <td>NaN</td>\n",
       "      <td>NaN</td>\n",
       "      <td>NaN</td>\n",
       "      <td>NaN</td>\n",
       "      <td>NaN</td>\n",
       "    </tr>\n",
       "    <tr>\n",
       "      <th>19</th>\n",
       "      <td>[28, 18, 53]</td>\n",
       "      <td>2502</td>\n",
       "      <td>en</td>\n",
       "      <td>The Bourne Supremacy</td>\n",
       "      <td>18.199</td>\n",
       "      <td>2004-07-23</td>\n",
       "      <td>The Bourne Supremacy</td>\n",
       "      <td>7.3</td>\n",
       "      <td>4367</td>\n",
       "      <td>NaN</td>\n",
       "      <td>NaN</td>\n",
       "      <td>NaN</td>\n",
       "      <td>$85,000,000</td>\n",
       "      <td>$311,001,124</td>\n",
       "    </tr>\n",
       "  </tbody>\n",
       "</table>\n",
       "</div>"
      ],
      "text/plain": [
       "                   genre_ids     id original_language  \\\n",
       "0            [12, 14, 10751]  12444                en   \n",
       "1        [14, 12, 16, 10751]  10191                en   \n",
       "2              [12, 28, 878]  10138                en   \n",
       "3            [16, 35, 10751]    862                en   \n",
       "4              [28, 878, 12]  27205                en   \n",
       "5            [12, 14, 10751]  32657                en   \n",
       "6          [28, 12, 14, 878]  19995                en   \n",
       "7            [16, 10751, 35]  10193                en   \n",
       "8            [16, 10751, 35]  20352                en   \n",
       "9   [16, 28, 35, 10751, 878]  38055                en   \n",
       "10           [16, 35, 10751]    863                en   \n",
       "11           [10751, 14, 12]  12155                en   \n",
       "12           [10751, 14, 12]  12155                en   \n",
       "13              [53, 12, 28]  27578                en   \n",
       "14               [16, 10751]  38757                en   \n",
       "15                  [27, 80]  41439                en   \n",
       "16       [12, 14, 18, 10749]  24021                en   \n",
       "17             [28, 53, 878]  20504                en   \n",
       "18            [10402, 10749]  52371                nl   \n",
       "19              [28, 18, 53]   2502                en   \n",
       "\n",
       "                                       original_title  popularity  \\\n",
       "0        Harry Potter and the Deathly Hallows: Part 1      33.533   \n",
       "1                            How to Train Your Dragon      28.734   \n",
       "2                                          Iron Man 2      28.515   \n",
       "3                                           Toy Story      28.005   \n",
       "4                                           Inception      27.920   \n",
       "5   Percy Jackson & the Olympians: The Lightning T...      26.691   \n",
       "6                                              Avatar      26.526   \n",
       "7                                         Toy Story 3      24.445   \n",
       "8                                       Despicable Me      23.673   \n",
       "9                                            Megamind      22.855   \n",
       "10                                        Toy Story 2      22.698   \n",
       "11                                Alice in Wonderland      22.020   \n",
       "12                                Alice in Wonderland      22.020   \n",
       "13                                    The Expendables      21.517   \n",
       "14                                            Tangled      21.511   \n",
       "15                                             Saw 3D      20.370   \n",
       "16                         The Twilight Saga: Eclipse      20.340   \n",
       "17                                    The Book of Eli      18.985   \n",
       "18                                         LelleBelle      18.586   \n",
       "19                               The Bourne Supremacy      18.199   \n",
       "\n",
       "   release_date                                              title  \\\n",
       "0    2010-11-19       Harry Potter and the Deathly Hallows: Part 1   \n",
       "1    2010-03-26                           How to Train Your Dragon   \n",
       "2    2010-05-07                                         Iron Man 2   \n",
       "3    1995-11-22                                          Toy Story   \n",
       "4    2010-07-16                                          Inception   \n",
       "5    2010-02-11  Percy Jackson & the Olympians: The Lightning T...   \n",
       "6    2009-12-18                                             Avatar   \n",
       "7    2010-06-17                                        Toy Story 3   \n",
       "8    2010-07-09                                      Despicable Me   \n",
       "9    2010-11-04                                           Megamind   \n",
       "10   1999-11-24                                        Toy Story 2   \n",
       "11   2010-03-05                                Alice in Wonderland   \n",
       "12   2010-03-05                                Alice in Wonderland   \n",
       "13   2010-08-03                                    The Expendables   \n",
       "14   2010-11-24                                            Tangled   \n",
       "15   2010-10-28                             Saw: The Final Chapter   \n",
       "16   2010-06-23                         The Twilight Saga: Eclipse   \n",
       "17   2010-01-11                                    The Book of Eli   \n",
       "18   2010-10-09                                         LelleBelle   \n",
       "19   2004-07-23                               The Bourne Supremacy   \n",
       "\n",
       "    vote_average  vote_count studio  domestic_gross foreign_gross  \\\n",
       "0            7.7       10788    NaN             NaN           NaN   \n",
       "1            7.7        7610   P/DW     217600000.0     277300000   \n",
       "2            6.8       12368   Par.     312400000.0     311500000   \n",
       "3            7.9       10174    NaN             NaN           NaN   \n",
       "4            8.3       22186     WB     292600000.0     535700000   \n",
       "5            6.1        4229    NaN             NaN           NaN   \n",
       "6            7.4       18676    NaN             NaN           NaN   \n",
       "7            7.7        8340     BV     415000000.0     652000000   \n",
       "8            7.2       10057   Uni.     251500000.0     291600000   \n",
       "9            6.8        3635   P/DW     148400000.0     173500000   \n",
       "10           7.5        7553    NaN             NaN           NaN   \n",
       "11           6.6        8713    NaN             NaN           NaN   \n",
       "12           6.6        8713    NaN             NaN           NaN   \n",
       "13           6.1        4647    LGF     103100000.0     171400000   \n",
       "14           7.5        6407     BV     200800000.0     391000000   \n",
       "15           6.0        1488    NaN             NaN           NaN   \n",
       "16           6.0        4909   Sum.     300500000.0     398000000   \n",
       "17           6.7        3495     WB      94800000.0      62300000   \n",
       "18           4.5          36    NaN             NaN           NaN   \n",
       "19           7.3        4367    NaN             NaN           NaN   \n",
       "\n",
       "   production_budget worldwide_gross  \n",
       "0                NaN             NaN  \n",
       "1       $165,000,000    $494,870,992  \n",
       "2       $170,000,000    $621,156,389  \n",
       "3        $30,000,000    $364,545,516  \n",
       "4       $160,000,000    $835,524,642  \n",
       "5        $95,000,000    $223,050,874  \n",
       "6       $425,000,000  $2,776,345,279  \n",
       "7       $200,000,000  $1,068,879,522  \n",
       "8        $69,000,000    $543,464,573  \n",
       "9       $130,000,000    $321,887,208  \n",
       "10       $90,000,000    $511,358,276  \n",
       "11      $200,000,000  $1,025,491,110  \n",
       "12        $3,000,000              $0  \n",
       "13       $82,000,000    $268,268,174  \n",
       "14      $260,000,000    $586,477,240  \n",
       "15               NaN             NaN  \n",
       "16       $68,000,000    $706,102,828  \n",
       "17       $80,000,000    $158,750,817  \n",
       "18               NaN             NaN  \n",
       "19       $85,000,000    $311,001,124  "
      ]
     },
     "execution_count": 99,
     "metadata": {},
     "output_type": "execute_result"
    }
   ],
   "source": [
    "main_df.head(20)\n"
   ]
  },
  {
   "cell_type": "code",
   "execution_count": 101,
   "metadata": {},
   "outputs": [
    {
     "name": "stdout",
     "output_type": "stream",
     "text": [
      "<class 'pandas.core.frame.DataFrame'>\n",
      "Int64Index: 26606 entries, 0 to 26605\n",
      "Data columns (total 14 columns):\n",
      " #   Column             Non-Null Count  Dtype  \n",
      "---  ------             --------------  -----  \n",
      " 0   genre_ids          26606 non-null  object \n",
      " 1   id                 26606 non-null  int64  \n",
      " 2   original_language  26606 non-null  object \n",
      " 3   original_title     26606 non-null  object \n",
      " 4   popularity         26606 non-null  float64\n",
      " 5   release_date       26606 non-null  object \n",
      " 6   title              26606 non-null  object \n",
      " 7   vote_average       26606 non-null  float64\n",
      " 8   vote_count         26606 non-null  int64  \n",
      " 9   studio             2719 non-null   object \n",
      " 10  domestic_gross     2699 non-null   float64\n",
      " 11  foreign_gross      1736 non-null   object \n",
      " 12  production_budget  2385 non-null   object \n",
      " 13  worldwide_gross    2385 non-null   object \n",
      "dtypes: float64(3), int64(2), object(9)\n",
      "memory usage: 3.0+ MB\n"
     ]
    }
   ],
   "source": [
    "main_df.info()"
   ]
  },
  {
   "cell_type": "code",
   "execution_count": 106,
   "metadata": {},
   "outputs": [
    {
     "data": {
      "text/plain": [
       "foreign_gross        24870\n",
       "worldwide_gross      24221\n",
       "production_budget    24221\n",
       "domestic_gross       23907\n",
       "studio               23887\n",
       "vote_count               0\n",
       "vote_average             0\n",
       "title                    0\n",
       "release_date             0\n",
       "popularity               0\n",
       "original_title           0\n",
       "original_language        0\n",
       "id                       0\n",
       "genre_ids                0\n",
       "dtype: int64"
      ]
     },
     "execution_count": 106,
     "metadata": {},
     "output_type": "execute_result"
    }
   ],
   "source": [
    "main_df.isna().sum().sort_values(ascending=False)\n"
   ]
  },
  {
   "attachments": {},
   "cell_type": "markdown",
   "metadata": {},
   "source": [
    "### movie_info_df: cleaned"
   ]
  },
  {
   "cell_type": "code",
   "execution_count": null,
   "metadata": {},
   "outputs": [],
   "source": [
    "movie_info_df.info()"
   ]
  },
  {
   "cell_type": "code",
   "execution_count": null,
   "metadata": {},
   "outputs": [],
   "source": [
    "movie_info_df.isna().sum().sort_values(ascending=False)"
   ]
  },
  {
   "attachments": {},
   "cell_type": "markdown",
   "metadata": {},
   "source": [
    "Cleaning & Filtering for **MOVIE_INFO_DF**:"
   ]
  },
  {
   "cell_type": "code",
   "execution_count": null,
   "metadata": {},
   "outputs": [],
   "source": [
    "# Dropping 8 null rows with missing genre. Most info is missing with them:\n",
    "movie_info_df = movie_info_df.dropna(subset=['genre'])\n",
    "\n",
    "# filling all empty values with 'unknown' for ['synopsis', 'runtime', 'director', 'theater_date', 'writer']:\n",
    "columns_to_fill = ['synopsis', 'runtime', 'director', 'theater_date', 'writer']\n",
    "movie_info_df[columns_to_fill] = movie_info_df[columns_to_fill].fillna('unknown')\n",
    "\n",
    "# Filtering date to 2010 and forward\n",
    "movie_info_df['theater_date'] = pd.to_datetime(movie_info_df['theater_date'], format='%b %d, %Y', errors='coerce')\n",
    "movie_info_df = movie_info_df[movie_info_df['theater_date'] >= 'Jan 1, 2010']\n",
    "\n",
    "\n",
    "\n",
    "# changing runtime to int + removing 'minutes' + changing name of the column to reflect:\n",
    "movie_info_df.loc[movie_info_df['runtime'] != 'unknown', 'runtime'] = movie_info_df.loc[movie_info_df['runtime'] != 'unknown', 'runtime'].str.replace(' minutes', '').astype(int)\n",
    "movie_info_df = movie_info_df.rename(columns={'runtime': 'runtime_in_minutes'})\n",
    "\n",
    "# drop all 26 unknown runtimes:\n",
    "movie_info_df = movie_info_df[movie_info_df['runtime_in_minutes'] != 'unknown']\n"
   ]
  },
  {
   "cell_type": "code",
   "execution_count": null,
   "metadata": {},
   "outputs": [],
   "source": [
    "movie_info_df.head(3)"
   ]
  },
  {
   "attachments": {},
   "cell_type": "markdown",
   "metadata": {},
   "source": [
    "**MOVIE_INFO_DF** Analysis:"
   ]
  },
  {
   "cell_type": "code",
   "execution_count": null,
   "metadata": {},
   "outputs": [],
   "source": [
    "# 81% of the movie market is rated PG-13, R and NR:\n",
    "movie_info_df['rating'].value_counts()"
   ]
  },
  {
   "cell_type": "code",
   "execution_count": null,
   "metadata": {},
   "outputs": [],
   "source": [
    "# average movie length is just over 100 minutes\n",
    "movie_info_df['runtime_in_minutes'].mean()"
   ]
  },
  {
   "cell_type": "code",
   "execution_count": null,
   "metadata": {},
   "outputs": [],
   "source": [
    "# Top Directors\n",
    "movie_info_df['director'].value_counts().head(20)"
   ]
  },
  {
   "cell_type": "code",
   "execution_count": null,
   "metadata": {},
   "outputs": [],
   "source": [
    "# Top Writers\n",
    "movie_info_df['writer'].value_counts().head(20)"
   ]
  },
  {
   "cell_type": "code",
   "execution_count": null,
   "metadata": {},
   "outputs": [],
   "source": [
    "# Top Genres seem to be a mix of Drama & Comedy\n",
    "movie_info_df['genre'].value_counts().head(20)"
   ]
  },
  {
   "attachments": {},
   "cell_type": "markdown",
   "metadata": {},
   "source": [
    "### movie_reviews_df: cleaned"
   ]
  },
  {
   "cell_type": "code",
   "execution_count": null,
   "metadata": {},
   "outputs": [],
   "source": [
    "movie_reviews_df.info()"
   ]
  },
  {
   "cell_type": "code",
   "execution_count": null,
   "metadata": {},
   "outputs": [],
   "source": [
    "movie_reviews_df.isna().sum().sort_values(ascending=False)"
   ]
  },
  {
   "attachments": {},
   "cell_type": "markdown",
   "metadata": {},
   "source": [
    "**MOVIE_REVIEWS_DF** Data cleaning:"
   ]
  },
  {
   "cell_type": "code",
   "execution_count": null,
   "metadata": {},
   "outputs": [],
   "source": [
    "# Filtering to only top_critics == 1\n",
    "movie_reviews_df = movie_reviews_df[movie_reviews_df['top_critic'] == 1]\n",
    "# filling null 'publisher', 'critic', 'review' values with 'Unknown':\n",
    "fill_columns = ['publisher', 'critic', 'review']\n",
    "movie_reviews_df[fill_columns] = movie_reviews_df[fill_columns].fillna('unknown')\n",
    "# Filtering date to 2010 and forward\n",
    "movie_reviews_df['date'] = pd.to_datetime(movie_reviews_df['date'])\n",
    "movie_reviews_df = movie_reviews_df[movie_reviews_df['date'] >= '2010-01-01']\n",
    "\n",
    "\n",
    "\n"
   ]
  },
  {
   "cell_type": "code",
   "execution_count": null,
   "metadata": {},
   "outputs": [],
   "source": [
    "movie_reviews_df.head(20)"
   ]
  },
  {
   "attachments": {},
   "cell_type": "markdown",
   "metadata": {},
   "source": [
    "**MOVIE_REVIEW_DF** Analysis:"
   ]
  },
  {
   "attachments": {},
   "cell_type": "markdown",
   "metadata": {},
   "source": [
    "Top_Critics reviews = 4,713"
   ]
  },
  {
   "cell_type": "code",
   "execution_count": null,
   "metadata": {},
   "outputs": [],
   "source": [
    "movie_reviews_df['top_critic'].sum()"
   ]
  },
  {
   "attachments": {},
   "cell_type": "markdown",
   "metadata": {},
   "source": [
    "Names of the top 20 critics:"
   ]
  },
  {
   "cell_type": "code",
   "execution_count": null,
   "metadata": {},
   "outputs": [],
   "source": [
    "movie_reviews_df['critic'].value_counts().head(20)"
   ]
  },
  {
   "attachments": {},
   "cell_type": "markdown",
   "metadata": {},
   "source": [
    "Fresh vs. Rotten; \n",
    "\n",
    "- fresh = 60%\n",
    "- Rotten = 40%"
   ]
  },
  {
   "cell_type": "code",
   "execution_count": null,
   "metadata": {},
   "outputs": [],
   "source": [
    "movie_reviews_df['fresh'].value_counts()"
   ]
  },
  {
   "attachments": {},
   "cell_type": "markdown",
   "metadata": {},
   "source": [
    "---"
   ]
  },
  {
   "attachments": {},
   "cell_type": "markdown",
   "metadata": {},
   "source": [
    "# SQL DATABASE"
   ]
  },
  {
   "attachments": {},
   "cell_type": "markdown",
   "metadata": {},
   "source": [
    "* Unzipping the '**im.db.zip**' file \n",
    "* Connecting to database using '**conn**'\n",
    "* Printing all of the **table names** within the database\n",
    "\n",
    "\n",
    "**Important note**: movie_basics & movie_ratings are the most relevant per instructions"
   ]
  },
  {
   "cell_type": "code",
   "execution_count": null,
   "metadata": {},
   "outputs": [],
   "source": [
    "# Unzip the database file\n",
    "with zipfile.ZipFile('zippedData/im.db.zip', 'r') as zip_ref:\n",
    "    zip_ref.extractall('zippedData')\n",
    "\n",
    "# Connect to the unzipped SQLite database\n",
    "conn = sqlite3.connect('zippedData/im.db')\n",
    "\n",
    "# Run test query\n",
    "q = \"\"\"\n",
    "SELECT tbl_name AS table_name, sql\n",
    "FROM sqlite_master \n",
    "WHERE type='table'\n",
    "ORDER BY name;\n",
    "\"\"\"\n",
    "pd.read_sql(q, conn)"
   ]
  },
  {
   "cell_type": "code",
   "execution_count": null,
   "metadata": {},
   "outputs": [],
   "source": [
    "# Movie Basics\n",
    "q = '''\n",
    "SELECT *\n",
    "FROM movie_basics\n",
    "WHERE original_title LIKE \"Toy%\"\n",
    "LIMIT 3\n",
    ";\n",
    "'''\n",
    "pd.read_sql(q, conn)"
   ]
  },
  {
   "cell_type": "code",
   "execution_count": null,
   "metadata": {},
   "outputs": [],
   "source": []
  },
  {
   "cell_type": "code",
   "execution_count": null,
   "metadata": {},
   "outputs": [],
   "source": [
    "# Moving Ratings\n",
    "q = '''\n",
    "SELECT *\n",
    "FROM movie_ratings\n",
    "LIMIT 3\n",
    ";\n",
    "'''\n",
    "pd.read_sql(q, conn)"
   ]
  },
  {
   "cell_type": "code",
   "execution_count": null,
   "metadata": {},
   "outputs": [],
   "source": [
    "# Directors\n",
    "q = '''\n",
    "SELECT *\n",
    "FROM directors\n",
    "LIMIT 3\n",
    ";\n",
    "'''\n",
    "pd.read_sql(q, conn)"
   ]
  },
  {
   "cell_type": "code",
   "execution_count": null,
   "metadata": {},
   "outputs": [],
   "source": [
    "# Known For\n",
    "q = '''\n",
    "SELECT *\n",
    "FROM known_for\n",
    "LIMIT 3\n",
    ";\n",
    "'''\n",
    "pd.read_sql(q, conn)"
   ]
  },
  {
   "cell_type": "code",
   "execution_count": null,
   "metadata": {},
   "outputs": [],
   "source": [
    "# Movie AKAs\n",
    "q = '''\n",
    "SELECT *\n",
    "FROM movie_akas\n",
    "LIMIT 3\n",
    ";\n",
    "'''\n",
    "pd.read_sql(q, conn)"
   ]
  },
  {
   "cell_type": "code",
   "execution_count": null,
   "metadata": {},
   "outputs": [],
   "source": [
    "# Persons\n",
    "q = '''\n",
    "SELECT *\n",
    "FROM persons\n",
    "LIMIT 3\n",
    ";\n",
    "'''\n",
    "pd.read_sql(q, conn)"
   ]
  },
  {
   "cell_type": "code",
   "execution_count": null,
   "metadata": {},
   "outputs": [],
   "source": [
    "# Pricipals\n",
    "q = '''\n",
    "SELECT *\n",
    "FROM principals\n",
    "LIMIT 3\n",
    ";\n",
    "'''\n",
    "pd.read_sql(q, conn)"
   ]
  },
  {
   "cell_type": "code",
   "execution_count": null,
   "metadata": {},
   "outputs": [],
   "source": [
    "# Writers\n",
    "q = '''\n",
    "SELECT *\n",
    "FROM writers\n",
    "LIMIT 3\n",
    ";\n",
    "'''\n",
    "pd.read_sql(q, conn)"
   ]
  },
  {
   "attachments": {},
   "cell_type": "markdown",
   "metadata": {},
   "source": [
    "---"
   ]
  },
  {
   "cell_type": "code",
   "execution_count": null,
   "metadata": {},
   "outputs": [],
   "source": [
    "# joined file\n",
    "q = '''\n",
    "SELECT *\n",
    "FROM movie_basics mb\n",
    "JOIN directors dr USING(movie_id)\n",
    "JOIN principals pr USING(movie_id)\n",
    "JOIN persons p USING(person_id)\n",
    "JOIN movie_ratings mr USING(movie_id)\n",
    "WHERE death_year IS NULL\n",
    "GROUP BY movie_id\n",
    "ORDER BY start_year\n",
    ";\n",
    "'''\n",
    "pd.read_sql(q, conn)"
   ]
  },
  {
   "cell_type": "code",
   "execution_count": null,
   "metadata": {},
   "outputs": [],
   "source": []
  },
  {
   "attachments": {},
   "cell_type": "markdown",
   "metadata": {},
   "source": [
    "# Filtering"
   ]
  }
 ],
 "metadata": {
  "kernelspec": {
   "display_name": "learn-env",
   "language": "python",
   "name": "python3"
  },
  "language_info": {
   "codemirror_mode": {
    "name": "ipython",
    "version": 3
   },
   "file_extension": ".py",
   "mimetype": "text/x-python",
   "name": "python",
   "nbconvert_exporter": "python",
   "pygments_lexer": "ipython3",
   "version": "3.8.5"
  },
  "orig_nbformat": 4
 },
 "nbformat": 4,
 "nbformat_minor": 2
}
