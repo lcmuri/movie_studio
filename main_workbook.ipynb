{
 "cells": [
  {
   "cell_type": "code",
   "execution_count": 754,
   "metadata": {},
   "outputs": [],
   "source": [
    "import pandas as pd\n",
    "import numpy as np\n",
    "import sqlite3\n",
    "import zipfile"
   ]
  },
  {
   "attachments": {},
   "cell_type": "markdown",
   "metadata": {},
   "source": [
    "## List of Dataframes:"
   ]
  },
  {
   "cell_type": "code",
   "execution_count": 755,
   "metadata": {},
   "outputs": [
    {
     "name": "stdout",
     "output_type": "stream",
     "text": [
      "movie_info_df columns: \n",
      "['id', 'synopsis', 'rating', 'genre', 'director', 'writer', 'theater_date', 'runtime']\n",
      "\n",
      "movie_gross_df columns: \n",
      "['title', 'studio', 'domestic_gross', 'foreign_gross', 'year']\n",
      "\n",
      "movie_budget_df columns: \n",
      "['id', 'release_date', 'movie', 'production_budget', 'domestic_gross', 'worldwide_gross']\n",
      "\n",
      "movie_reviews_df columns: \n",
      "['id', 'review', 'fresh', 'critic', 'top_critic', 'publisher', 'date']\n",
      "\n",
      "tmbd_movie_df columns: \n",
      "['Unnamed: 0', 'genre_ids', 'id', 'original_language', 'original_title', 'popularity', 'release_date', 'title', 'vote_average', 'vote_count']\n",
      "\n"
     ]
    }
   ],
   "source": [
    "# Dataframes\n",
    "movie_info_df = pd.read_csv('zippedData/rt.movie_info.tsv.gz', sep='\\t', compression='gzip')\n",
    "movie_info_drop = ['box_office', 'currency', 'dvd_date', 'studio']\n",
    "movie_info_df = movie_info_df.drop(columns=movie_info_drop)\n",
    "print(f'movie_info_df columns: \\n{list(movie_info_df.columns)}\\n')\n",
    "\n",
    "\n",
    "movie_gross_df = pd.read_csv('zippedData/bom.movie_gross.csv.gz')\n",
    "print(f'movie_gross_df columns: \\n{list(movie_gross_df.columns)}\\n')\n",
    "\n",
    "movie_budget_df = pd.read_csv('zippedData/tn.movie_budgets.csv.gz')\n",
    "print(f'movie_budget_df columns: \\n{list(movie_budget_df.columns)}\\n')\n",
    "\n",
    "movie_reviews_df = pd.read_csv('zippedData/rt.reviews.tsv.gz', sep='\\t', compression='gzip', encoding='latin-1')\n",
    "movie_review_drop = ['rating']\n",
    "movie_reviews_df = movie_reviews_df.drop(columns=movie_review_drop) # Dropping rating: poor formatting & lacking 50% of data.\n",
    "print(f'movie_reviews_df columns: \\n{list(movie_reviews_df.columns)}\\n')\n",
    "\n",
    "\n",
    "tmbd_movie_df = pd.read_csv('zippedData/tmdb.movies.csv.gz')\n",
    "print(f'tmbd_movie_df columns: \\n{list(tmbd_movie_df.columns)}\\n')"
   ]
  },
  {
   "cell_type": "code",
   "execution_count": 803,
   "metadata": {},
   "outputs": [
    {
     "name": "stdout",
     "output_type": "stream",
     "text": [
      "<class 'pandas.core.frame.DataFrame'>\n",
      "Int64Index: 1497 entries, 0 to 1496\n",
      "Data columns (total 17 columns):\n",
      " #   Column               Non-Null Count  Dtype  \n",
      "---  ------               --------------  -----  \n",
      " 0   Unnamed: 0           1497 non-null   int64  \n",
      " 1   genre_ids            1497 non-null   object \n",
      " 2   id                   1497 non-null   int64  \n",
      " 3   original_language    1497 non-null   object \n",
      " 4   original_title       1497 non-null   object \n",
      " 5   popularity           1497 non-null   float64\n",
      " 6   release_date         1497 non-null   object \n",
      " 7   title                1497 non-null   object \n",
      " 8   vote_average         1497 non-null   float64\n",
      " 9   vote_count           1497 non-null   int64  \n",
      " 10  studio               1496 non-null   object \n",
      " 11  domestic_gross       1495 non-null   float64\n",
      " 12  foreign_gross        1278 non-null   object \n",
      " 13  year                 1497 non-null   int64  \n",
      " 14  production_budget_x  1497 non-null   object \n",
      " 15  production_budget_y  1497 non-null   object \n",
      " 16  production_budget    1497 non-null   object \n",
      "dtypes: float64(3), int64(4), object(10)\n",
      "memory usage: 210.5+ KB\n"
     ]
    }
   ],
   "source": [
    "combined_df = combined_df.merge(movie_budget_df[['movie', 'production_budget']], \n",
    "                                left_on='title', \n",
    "                                right_on='movie', \n",
    "                                how='inner')\n",
    "\n",
    "# if you want to drop the 'movie' column after the merge, you can do so\n",
    "combined_df = combined_df.drop('movie', axis=1)\n",
    "combined_df.info()\n",
    "\n"
   ]
  },
  {
   "cell_type": "code",
   "execution_count": 788,
   "metadata": {},
   "outputs": [
    {
     "data": {
      "text/html": [
       "<div>\n",
       "<style scoped>\n",
       "    .dataframe tbody tr th:only-of-type {\n",
       "        vertical-align: middle;\n",
       "    }\n",
       "\n",
       "    .dataframe tbody tr th {\n",
       "        vertical-align: top;\n",
       "    }\n",
       "\n",
       "    .dataframe thead th {\n",
       "        text-align: right;\n",
       "    }\n",
       "</style>\n",
       "<table border=\"1\" class=\"dataframe\">\n",
       "  <thead>\n",
       "    <tr style=\"text-align: right;\">\n",
       "      <th></th>\n",
       "      <th>Unnamed: 0</th>\n",
       "      <th>genre_ids</th>\n",
       "      <th>id</th>\n",
       "      <th>original_language</th>\n",
       "      <th>original_title</th>\n",
       "      <th>popularity</th>\n",
       "      <th>release_date</th>\n",
       "      <th>title</th>\n",
       "      <th>vote_average</th>\n",
       "      <th>vote_count</th>\n",
       "      <th>studio</th>\n",
       "      <th>domestic_gross</th>\n",
       "      <th>foreign_gross</th>\n",
       "      <th>year</th>\n",
       "    </tr>\n",
       "  </thead>\n",
       "  <tbody>\n",
       "    <tr>\n",
       "      <th>0</th>\n",
       "      <td>1</td>\n",
       "      <td>[14, 12, 16, 10751]</td>\n",
       "      <td>10191</td>\n",
       "      <td>en</td>\n",
       "      <td>How to Train Your Dragon</td>\n",
       "      <td>28.734</td>\n",
       "      <td>2010-03-26</td>\n",
       "      <td>How to Train Your Dragon</td>\n",
       "      <td>7.7</td>\n",
       "      <td>7610</td>\n",
       "      <td>P/DW</td>\n",
       "      <td>217600000.0</td>\n",
       "      <td>277300000</td>\n",
       "      <td>2010</td>\n",
       "    </tr>\n",
       "    <tr>\n",
       "      <th>1</th>\n",
       "      <td>2</td>\n",
       "      <td>[12, 28, 878]</td>\n",
       "      <td>10138</td>\n",
       "      <td>en</td>\n",
       "      <td>Iron Man 2</td>\n",
       "      <td>28.515</td>\n",
       "      <td>2010-05-07</td>\n",
       "      <td>Iron Man 2</td>\n",
       "      <td>6.8</td>\n",
       "      <td>12368</td>\n",
       "      <td>Par.</td>\n",
       "      <td>312400000.0</td>\n",
       "      <td>311500000</td>\n",
       "      <td>2010</td>\n",
       "    </tr>\n",
       "    <tr>\n",
       "      <th>2</th>\n",
       "      <td>4</td>\n",
       "      <td>[28, 878, 12]</td>\n",
       "      <td>27205</td>\n",
       "      <td>en</td>\n",
       "      <td>Inception</td>\n",
       "      <td>27.920</td>\n",
       "      <td>2010-07-16</td>\n",
       "      <td>Inception</td>\n",
       "      <td>8.3</td>\n",
       "      <td>22186</td>\n",
       "      <td>WB</td>\n",
       "      <td>292600000.0</td>\n",
       "      <td>535700000</td>\n",
       "      <td>2010</td>\n",
       "    </tr>\n",
       "    <tr>\n",
       "      <th>3</th>\n",
       "      <td>7</td>\n",
       "      <td>[16, 10751, 35]</td>\n",
       "      <td>10193</td>\n",
       "      <td>en</td>\n",
       "      <td>Toy Story 3</td>\n",
       "      <td>24.445</td>\n",
       "      <td>2010-06-17</td>\n",
       "      <td>Toy Story 3</td>\n",
       "      <td>7.7</td>\n",
       "      <td>8340</td>\n",
       "      <td>BV</td>\n",
       "      <td>415000000.0</td>\n",
       "      <td>652000000</td>\n",
       "      <td>2010</td>\n",
       "    </tr>\n",
       "    <tr>\n",
       "      <th>4</th>\n",
       "      <td>8</td>\n",
       "      <td>[16, 10751, 35]</td>\n",
       "      <td>20352</td>\n",
       "      <td>en</td>\n",
       "      <td>Despicable Me</td>\n",
       "      <td>23.673</td>\n",
       "      <td>2010-07-09</td>\n",
       "      <td>Despicable Me</td>\n",
       "      <td>7.2</td>\n",
       "      <td>10057</td>\n",
       "      <td>Uni.</td>\n",
       "      <td>251500000.0</td>\n",
       "      <td>291600000</td>\n",
       "      <td>2010</td>\n",
       "    </tr>\n",
       "  </tbody>\n",
       "</table>\n",
       "</div>"
      ],
      "text/plain": [
       "   Unnamed: 0            genre_ids     id original_language  \\\n",
       "0           1  [14, 12, 16, 10751]  10191                en   \n",
       "1           2        [12, 28, 878]  10138                en   \n",
       "2           4        [28, 878, 12]  27205                en   \n",
       "3           7      [16, 10751, 35]  10193                en   \n",
       "4           8      [16, 10751, 35]  20352                en   \n",
       "\n",
       "             original_title  popularity release_date  \\\n",
       "0  How to Train Your Dragon      28.734   2010-03-26   \n",
       "1                Iron Man 2      28.515   2010-05-07   \n",
       "2                 Inception      27.920   2010-07-16   \n",
       "3               Toy Story 3      24.445   2010-06-17   \n",
       "4             Despicable Me      23.673   2010-07-09   \n",
       "\n",
       "                      title  vote_average  vote_count studio  domestic_gross  \\\n",
       "0  How to Train Your Dragon           7.7        7610   P/DW     217600000.0   \n",
       "1                Iron Man 2           6.8       12368   Par.     312400000.0   \n",
       "2                 Inception           8.3       22186     WB     292600000.0   \n",
       "3               Toy Story 3           7.7        8340     BV     415000000.0   \n",
       "4             Despicable Me           7.2       10057   Uni.     251500000.0   \n",
       "\n",
       "  foreign_gross  year  \n",
       "0     277300000  2010  \n",
       "1     311500000  2010  \n",
       "2     535700000  2010  \n",
       "3     652000000  2010  \n",
       "4     291600000  2010  "
      ]
     },
     "execution_count": 788,
     "metadata": {},
     "output_type": "execute_result"
    }
   ],
   "source": [
    "combined_df = tmbd_movie_df.merge(movie_gross_df, on='title', how='inner')\n",
    "combined_df.head()"
   ]
  },
  {
   "cell_type": "code",
   "execution_count": 800,
   "metadata": {},
   "outputs": [
    {
     "data": {
      "text/html": [
       "<div>\n",
       "<style scoped>\n",
       "    .dataframe tbody tr th:only-of-type {\n",
       "        vertical-align: middle;\n",
       "    }\n",
       "\n",
       "    .dataframe tbody tr th {\n",
       "        vertical-align: top;\n",
       "    }\n",
       "\n",
       "    .dataframe thead th {\n",
       "        text-align: right;\n",
       "    }\n",
       "</style>\n",
       "<table border=\"1\" class=\"dataframe\">\n",
       "  <thead>\n",
       "    <tr style=\"text-align: right;\">\n",
       "      <th></th>\n",
       "      <th>Unnamed: 0</th>\n",
       "      <th>genre_ids</th>\n",
       "      <th>id</th>\n",
       "      <th>original_language</th>\n",
       "      <th>original_title</th>\n",
       "      <th>popularity</th>\n",
       "      <th>release_date</th>\n",
       "      <th>title</th>\n",
       "      <th>vote_average</th>\n",
       "      <th>vote_count</th>\n",
       "    </tr>\n",
       "  </thead>\n",
       "  <tbody>\n",
       "    <tr>\n",
       "      <th>0</th>\n",
       "      <td>0</td>\n",
       "      <td>[12, 14, 10751]</td>\n",
       "      <td>12444</td>\n",
       "      <td>en</td>\n",
       "      <td>Harry Potter and the Deathly Hallows: Part 1</td>\n",
       "      <td>33.533</td>\n",
       "      <td>2010-11-19</td>\n",
       "      <td>Harry Potter and the Deathly Hallows: Part 1</td>\n",
       "      <td>7.7</td>\n",
       "      <td>10788</td>\n",
       "    </tr>\n",
       "    <tr>\n",
       "      <th>1</th>\n",
       "      <td>1</td>\n",
       "      <td>[14, 12, 16, 10751]</td>\n",
       "      <td>10191</td>\n",
       "      <td>en</td>\n",
       "      <td>How to Train Your Dragon</td>\n",
       "      <td>28.734</td>\n",
       "      <td>2010-03-26</td>\n",
       "      <td>How to Train Your Dragon</td>\n",
       "      <td>7.7</td>\n",
       "      <td>7610</td>\n",
       "    </tr>\n",
       "    <tr>\n",
       "      <th>2</th>\n",
       "      <td>2</td>\n",
       "      <td>[12, 28, 878]</td>\n",
       "      <td>10138</td>\n",
       "      <td>en</td>\n",
       "      <td>Iron Man 2</td>\n",
       "      <td>28.515</td>\n",
       "      <td>2010-05-07</td>\n",
       "      <td>Iron Man 2</td>\n",
       "      <td>6.8</td>\n",
       "      <td>12368</td>\n",
       "    </tr>\n",
       "    <tr>\n",
       "      <th>3</th>\n",
       "      <td>3</td>\n",
       "      <td>[16, 35, 10751]</td>\n",
       "      <td>862</td>\n",
       "      <td>en</td>\n",
       "      <td>Toy Story</td>\n",
       "      <td>28.005</td>\n",
       "      <td>1995-11-22</td>\n",
       "      <td>Toy Story</td>\n",
       "      <td>7.9</td>\n",
       "      <td>10174</td>\n",
       "    </tr>\n",
       "    <tr>\n",
       "      <th>4</th>\n",
       "      <td>4</td>\n",
       "      <td>[28, 878, 12]</td>\n",
       "      <td>27205</td>\n",
       "      <td>en</td>\n",
       "      <td>Inception</td>\n",
       "      <td>27.920</td>\n",
       "      <td>2010-07-16</td>\n",
       "      <td>Inception</td>\n",
       "      <td>8.3</td>\n",
       "      <td>22186</td>\n",
       "    </tr>\n",
       "  </tbody>\n",
       "</table>\n",
       "</div>"
      ],
      "text/plain": [
       "   Unnamed: 0            genre_ids     id original_language  \\\n",
       "0           0      [12, 14, 10751]  12444                en   \n",
       "1           1  [14, 12, 16, 10751]  10191                en   \n",
       "2           2        [12, 28, 878]  10138                en   \n",
       "3           3      [16, 35, 10751]    862                en   \n",
       "4           4        [28, 878, 12]  27205                en   \n",
       "\n",
       "                                 original_title  popularity release_date  \\\n",
       "0  Harry Potter and the Deathly Hallows: Part 1      33.533   2010-11-19   \n",
       "1                      How to Train Your Dragon      28.734   2010-03-26   \n",
       "2                                    Iron Man 2      28.515   2010-05-07   \n",
       "3                                     Toy Story      28.005   1995-11-22   \n",
       "4                                     Inception      27.920   2010-07-16   \n",
       "\n",
       "                                          title  vote_average  vote_count  \n",
       "0  Harry Potter and the Deathly Hallows: Part 1           7.7       10788  \n",
       "1                      How to Train Your Dragon           7.7        7610  \n",
       "2                                    Iron Man 2           6.8       12368  \n",
       "3                                     Toy Story           7.9       10174  \n",
       "4                                     Inception           8.3       22186  "
      ]
     },
     "execution_count": 800,
     "metadata": {},
     "output_type": "execute_result"
    }
   ],
   "source": [
    "tmbd_movie_df.head()"
   ]
  },
  {
   "attachments": {},
   "cell_type": "markdown",
   "metadata": {},
   "source": [
    "### movie_info_df: cleaned"
   ]
  },
  {
   "cell_type": "code",
   "execution_count": 761,
   "metadata": {},
   "outputs": [
    {
     "name": "stdout",
     "output_type": "stream",
     "text": [
      "<class 'pandas.core.frame.DataFrame'>\n",
      "Int64Index: 197 entries, 1 to 1542\n",
      "Data columns (total 8 columns):\n",
      " #   Column              Non-Null Count  Dtype         \n",
      "---  ------              --------------  -----         \n",
      " 0   id                  197 non-null    int64         \n",
      " 1   synopsis            197 non-null    object        \n",
      " 2   rating              197 non-null    object        \n",
      " 3   genre               197 non-null    object        \n",
      " 4   director            197 non-null    object        \n",
      " 5   writer              197 non-null    object        \n",
      " 6   theater_date        197 non-null    datetime64[ns]\n",
      " 7   runtime_in_minutes  197 non-null    object        \n",
      "dtypes: datetime64[ns](1), int64(1), object(6)\n",
      "memory usage: 13.9+ KB\n"
     ]
    }
   ],
   "source": [
    "movie_info_df.info()"
   ]
  },
  {
   "cell_type": "code",
   "execution_count": 760,
   "metadata": {},
   "outputs": [
    {
     "data": {
      "text/plain": [
       "runtime_in_minutes    0\n",
       "theater_date          0\n",
       "writer                0\n",
       "director              0\n",
       "genre                 0\n",
       "rating                0\n",
       "synopsis              0\n",
       "id                    0\n",
       "dtype: int64"
      ]
     },
     "execution_count": 760,
     "metadata": {},
     "output_type": "execute_result"
    }
   ],
   "source": [
    "movie_info_df.isna().sum().sort_values(ascending=False)"
   ]
  },
  {
   "attachments": {},
   "cell_type": "markdown",
   "metadata": {},
   "source": [
    "Cleaning & Filtering for **MOVIE_INFO_DF**:"
   ]
  },
  {
   "cell_type": "code",
   "execution_count": 759,
   "metadata": {},
   "outputs": [],
   "source": [
    "# Dropping 8 null rows with missing genre. Most info is missing with them:\n",
    "movie_info_df = movie_info_df.dropna(subset=['genre'])\n",
    "\n",
    "# filling all empty values with 'unknown' for ['synopsis', 'runtime', 'director', 'theater_date', 'writer']:\n",
    "columns_to_fill = ['synopsis', 'runtime', 'director', 'theater_date', 'writer']\n",
    "movie_info_df[columns_to_fill] = movie_info_df[columns_to_fill].fillna('unknown')\n",
    "\n",
    "# Filtering date to 2010 and forward\n",
    "movie_info_df['theater_date'] = pd.to_datetime(movie_info_df['theater_date'], format='%b %d, %Y', errors='coerce')\n",
    "movie_info_df = movie_info_df[movie_info_df['theater_date'] >= 'Jan 1, 2010']\n",
    "\n",
    "\n",
    "\n",
    "# changing runtime to int + removing 'minutes' + changing name of the column to reflect:\n",
    "movie_info_df.loc[movie_info_df['runtime'] != 'unknown', 'runtime'] = movie_info_df.loc[movie_info_df['runtime'] != 'unknown', 'runtime'].str.replace(' minutes', '').astype(int)\n",
    "movie_info_df = movie_info_df.rename(columns={'runtime': 'runtime_in_minutes'})\n",
    "\n",
    "# drop all 26 unknown runtimes:\n",
    "movie_info_df = movie_info_df[movie_info_df['runtime_in_minutes'] != 'unknown']\n"
   ]
  },
  {
   "cell_type": "code",
   "execution_count": 762,
   "metadata": {},
   "outputs": [
    {
     "data": {
      "text/html": [
       "<div>\n",
       "<style scoped>\n",
       "    .dataframe tbody tr th:only-of-type {\n",
       "        vertical-align: middle;\n",
       "    }\n",
       "\n",
       "    .dataframe tbody tr th {\n",
       "        vertical-align: top;\n",
       "    }\n",
       "\n",
       "    .dataframe thead th {\n",
       "        text-align: right;\n",
       "    }\n",
       "</style>\n",
       "<table border=\"1\" class=\"dataframe\">\n",
       "  <thead>\n",
       "    <tr style=\"text-align: right;\">\n",
       "      <th></th>\n",
       "      <th>id</th>\n",
       "      <th>synopsis</th>\n",
       "      <th>rating</th>\n",
       "      <th>genre</th>\n",
       "      <th>director</th>\n",
       "      <th>writer</th>\n",
       "      <th>theater_date</th>\n",
       "      <th>runtime_in_minutes</th>\n",
       "    </tr>\n",
       "  </thead>\n",
       "  <tbody>\n",
       "    <tr>\n",
       "      <th>1</th>\n",
       "      <td>3</td>\n",
       "      <td>New York City, not-too-distant-future: Eric Pa...</td>\n",
       "      <td>R</td>\n",
       "      <td>Drama|Science Fiction and Fantasy</td>\n",
       "      <td>David Cronenberg</td>\n",
       "      <td>David Cronenberg|Don DeLillo</td>\n",
       "      <td>2012-08-17</td>\n",
       "      <td>108</td>\n",
       "    </tr>\n",
       "    <tr>\n",
       "      <th>8</th>\n",
       "      <td>14</td>\n",
       "      <td>\"Love Ranch\" is a bittersweet love story that ...</td>\n",
       "      <td>R</td>\n",
       "      <td>Drama</td>\n",
       "      <td>Taylor Hackford</td>\n",
       "      <td>Mark Jacobson</td>\n",
       "      <td>2010-06-30</td>\n",
       "      <td>117</td>\n",
       "    </tr>\n",
       "    <tr>\n",
       "      <th>15</th>\n",
       "      <td>22</td>\n",
       "      <td>Two-time Academy Award Winner Kevin Spacey giv...</td>\n",
       "      <td>R</td>\n",
       "      <td>Comedy|Drama|Mystery and Suspense</td>\n",
       "      <td>George Hickenlooper</td>\n",
       "      <td>Norman Snider</td>\n",
       "      <td>2010-12-17</td>\n",
       "      <td>108</td>\n",
       "    </tr>\n",
       "  </tbody>\n",
       "</table>\n",
       "</div>"
      ],
      "text/plain": [
       "    id                                           synopsis rating  \\\n",
       "1    3  New York City, not-too-distant-future: Eric Pa...      R   \n",
       "8   14  \"Love Ranch\" is a bittersweet love story that ...      R   \n",
       "15  22  Two-time Academy Award Winner Kevin Spacey giv...      R   \n",
       "\n",
       "                                genre             director  \\\n",
       "1   Drama|Science Fiction and Fantasy     David Cronenberg   \n",
       "8                               Drama      Taylor Hackford   \n",
       "15  Comedy|Drama|Mystery and Suspense  George Hickenlooper   \n",
       "\n",
       "                          writer theater_date runtime_in_minutes  \n",
       "1   David Cronenberg|Don DeLillo   2012-08-17                108  \n",
       "8                  Mark Jacobson   2010-06-30                117  \n",
       "15                 Norman Snider   2010-12-17                108  "
      ]
     },
     "execution_count": 762,
     "metadata": {},
     "output_type": "execute_result"
    }
   ],
   "source": [
    "movie_info_df.head(3)"
   ]
  },
  {
   "attachments": {},
   "cell_type": "markdown",
   "metadata": {},
   "source": [
    "**MOVIE_INFO_DF** Analysis:"
   ]
  },
  {
   "cell_type": "code",
   "execution_count": 763,
   "metadata": {},
   "outputs": [
    {
     "data": {
      "text/plain": [
       "R        89\n",
       "PG-13    55\n",
       "NR       30\n",
       "PG       22\n",
       "G         1\n",
       "Name: rating, dtype: int64"
      ]
     },
     "execution_count": 763,
     "metadata": {},
     "output_type": "execute_result"
    }
   ],
   "source": [
    "# 81% of the movie market is rated PG-13, R and NR:\n",
    "movie_info_df['rating'].value_counts()"
   ]
  },
  {
   "cell_type": "code",
   "execution_count": 764,
   "metadata": {},
   "outputs": [
    {
     "data": {
      "text/plain": [
       "106.5228426395939"
      ]
     },
     "execution_count": 764,
     "metadata": {},
     "output_type": "execute_result"
    }
   ],
   "source": [
    "# average movie length is just over 100 minutes\n",
    "movie_info_df['runtime_in_minutes'].mean()"
   ]
  },
  {
   "cell_type": "code",
   "execution_count": 765,
   "metadata": {},
   "outputs": [
    {
     "data": {
      "text/plain": [
       "unknown                      17\n",
       "Clint Eastwood                2\n",
       "Christian Ditter              2\n",
       "Seth MacFarlane               2\n",
       "Clay Kaytis|Fergal Reilly     1\n",
       "Max Joseph                    1\n",
       "Antoine Fuqua                 1\n",
       "Vikramaditya Motwane          1\n",
       "Kelly Fremon Craig            1\n",
       "Daniel Lee                    1\n",
       "Paul McGuigan                 1\n",
       "Anton Corbijn                 1\n",
       "David Fincher                 1\n",
       "Tim Story                     1\n",
       "Sam Mendes                    1\n",
       "Patrick Lussier               1\n",
       "Daniel Alfredson              1\n",
       "Cameron Crowe                 1\n",
       "Stuart Beattie                1\n",
       "James Marsh                   1\n",
       "Name: director, dtype: int64"
      ]
     },
     "execution_count": 765,
     "metadata": {},
     "output_type": "execute_result"
    }
   ],
   "source": [
    "# Top Directors\n",
    "movie_info_df['director'].value_counts().head(20)"
   ]
  },
  {
   "cell_type": "code",
   "execution_count": 732,
   "metadata": {},
   "outputs": [
    {
     "data": {
      "text/plain": [
       "unknown                                                                34\n",
       "Seth MacFarlane|Alec Sulkin|Wellesley Wild                              2\n",
       "Maggie Carey                                                            1\n",
       "Stuart Beattie                                                          1\n",
       "Eric Kripke                                                             1\n",
       "Prasoon Joshi                                                           1\n",
       "Isaac Aptaker|Elizabeth Berger                                          1\n",
       "Norman Snider                                                           1\n",
       "Peter Morgan                                                            1\n",
       "Desiree Akhavan|Cecilia Frugiuele                                       1\n",
       "Jan Sardi                                                               1\n",
       "Aline Brosh McKenna                                                     1\n",
       "Peter Byck|Eric Driscoll|Matt Weinhold|Karen Weigert                    1\n",
       "Paolo Sorrentino|Umberto Contarello                                     1\n",
       "Shana Feste                                                             1\n",
       "Bob Nelson                                                              1\n",
       "Laura Terruso|Michael Showalter                                         1\n",
       "Tate Taylor|Jez Butterworth|John-Henry Butterworth|Steven Baigelman     1\n",
       "Jeanne Labrune|Richard Debuisne                                         1\n",
       "Ryan Coogler|Aaron Covington                                            1\n",
       "Name: writer, dtype: int64"
      ]
     },
     "execution_count": 732,
     "metadata": {},
     "output_type": "execute_result"
    }
   ],
   "source": [
    "# Top Writers\n",
    "movie_info_df['writer'].value_counts().head(20)"
   ]
  },
  {
   "cell_type": "code",
   "execution_count": 733,
   "metadata": {},
   "outputs": [
    {
     "data": {
      "text/plain": [
       "Drama                                                     41\n",
       "Comedy                                                    18\n",
       "Comedy|Drama                                              16\n",
       "Drama|Mystery and Suspense                                10\n",
       "Comedy|Romance                                             9\n",
       "Drama|Romance                                              6\n",
       "Action and Adventure|Mystery and Suspense                  6\n",
       "Mystery and Suspense                                       5\n",
       "Horror                                                     5\n",
       "Action and Adventure|Science Fiction and Fantasy           4\n",
       "Documentary|Special Interest                               3\n",
       "Comedy|Drama|Romance                                       3\n",
       "Animation|Comedy|Kids and Family                           3\n",
       "Comedy|Drama|Mystery and Suspense                          3\n",
       "Art House and International|Drama|Special Interest         2\n",
       "Art House and International|Drama|Romance                  2\n",
       "Art House and International|Drama                          2\n",
       "Animation|Kids and Family                                  2\n",
       "Drama|Science Fiction and Fantasy                          2\n",
       "Action and Adventure|Art House and International|Drama     2\n",
       "Name: genre, dtype: int64"
      ]
     },
     "execution_count": 733,
     "metadata": {},
     "output_type": "execute_result"
    }
   ],
   "source": [
    "# Top Genres seem to be a mix of Drama & Comedy\n",
    "movie_info_df['genre'].value_counts().head(20)"
   ]
  },
  {
   "attachments": {},
   "cell_type": "markdown",
   "metadata": {},
   "source": [
    "### movie_reviews_df: cleaned"
   ]
  },
  {
   "cell_type": "code",
   "execution_count": 771,
   "metadata": {},
   "outputs": [
    {
     "name": "stdout",
     "output_type": "stream",
     "text": [
      "<class 'pandas.core.frame.DataFrame'>\n",
      "Int64Index: 4713 entries, 24 to 54360\n",
      "Data columns (total 7 columns):\n",
      " #   Column      Non-Null Count  Dtype         \n",
      "---  ------      --------------  -----         \n",
      " 0   id          4713 non-null   int64         \n",
      " 1   review      4713 non-null   object        \n",
      " 2   fresh       4713 non-null   object        \n",
      " 3   critic      4713 non-null   object        \n",
      " 4   top_critic  4713 non-null   int64         \n",
      " 5   publisher   4713 non-null   object        \n",
      " 6   date        4713 non-null   datetime64[ns]\n",
      "dtypes: datetime64[ns](1), int64(2), object(4)\n",
      "memory usage: 294.6+ KB\n"
     ]
    }
   ],
   "source": [
    "movie_reviews_df.info()"
   ]
  },
  {
   "cell_type": "code",
   "execution_count": 770,
   "metadata": {},
   "outputs": [
    {
     "data": {
      "text/plain": [
       "date          0\n",
       "publisher     0\n",
       "top_critic    0\n",
       "critic        0\n",
       "fresh         0\n",
       "review        0\n",
       "id            0\n",
       "dtype: int64"
      ]
     },
     "execution_count": 770,
     "metadata": {},
     "output_type": "execute_result"
    }
   ],
   "source": [
    "movie_reviews_df.isna().sum().sort_values(ascending=False)"
   ]
  },
  {
   "attachments": {},
   "cell_type": "markdown",
   "metadata": {},
   "source": [
    "**MOVIE_REVIEWS_DF** Data cleaning:"
   ]
  },
  {
   "cell_type": "code",
   "execution_count": 769,
   "metadata": {},
   "outputs": [],
   "source": [
    "# Filtering to only top_critics == 1\n",
    "movie_reviews_df = movie_reviews_df[movie_reviews_df['top_critic'] == 1]\n",
    "# filling null 'publisher', 'critic', 'review' values with 'Unknown':\n",
    "fill_columns = ['publisher', 'critic', 'review']\n",
    "movie_reviews_df[fill_columns] = movie_reviews_df[fill_columns].fillna('unknown')\n",
    "# Filtering date to 2010 and forward\n",
    "movie_reviews_df['date'] = pd.to_datetime(movie_reviews_df['date'])\n",
    "movie_reviews_df = movie_reviews_df[movie_reviews_df['date'] >= '2010-01-01']\n",
    "\n",
    "\n",
    "\n"
   ]
  },
  {
   "cell_type": "code",
   "execution_count": 776,
   "metadata": {},
   "outputs": [
    {
     "data": {
      "text/html": [
       "<div>\n",
       "<style scoped>\n",
       "    .dataframe tbody tr th:only-of-type {\n",
       "        vertical-align: middle;\n",
       "    }\n",
       "\n",
       "    .dataframe tbody tr th {\n",
       "        vertical-align: top;\n",
       "    }\n",
       "\n",
       "    .dataframe thead th {\n",
       "        text-align: right;\n",
       "    }\n",
       "</style>\n",
       "<table border=\"1\" class=\"dataframe\">\n",
       "  <thead>\n",
       "    <tr style=\"text-align: right;\">\n",
       "      <th></th>\n",
       "      <th>id</th>\n",
       "      <th>review</th>\n",
       "      <th>fresh</th>\n",
       "      <th>critic</th>\n",
       "      <th>top_critic</th>\n",
       "      <th>publisher</th>\n",
       "      <th>date</th>\n",
       "    </tr>\n",
       "  </thead>\n",
       "  <tbody>\n",
       "    <tr>\n",
       "      <th>24</th>\n",
       "      <td>3</td>\n",
       "      <td>The rapid dialogue is dry and mannered, like a...</td>\n",
       "      <td>rotten</td>\n",
       "      <td>Joe Williams</td>\n",
       "      <td>1</td>\n",
       "      <td>St. Louis Post-Dispatch</td>\n",
       "      <td>2012-09-06</td>\n",
       "    </tr>\n",
       "    <tr>\n",
       "      <th>47</th>\n",
       "      <td>3</td>\n",
       "      <td>It feels like each and every moment bursts for...</td>\n",
       "      <td>rotten</td>\n",
       "      <td>Stephanie Merry</td>\n",
       "      <td>1</td>\n",
       "      <td>Washington Post</td>\n",
       "      <td>2012-08-24</td>\n",
       "    </tr>\n",
       "    <tr>\n",
       "      <th>50</th>\n",
       "      <td>3</td>\n",
       "      <td>There's not really a movie there, nothing that...</td>\n",
       "      <td>rotten</td>\n",
       "      <td>Mick LaSalle</td>\n",
       "      <td>1</td>\n",
       "      <td>San Francisco Chronicle</td>\n",
       "      <td>2012-08-23</td>\n",
       "    </tr>\n",
       "    <tr>\n",
       "      <th>54</th>\n",
       "      <td>3</td>\n",
       "      <td>The film is all too faithful to its un-cinemat...</td>\n",
       "      <td>rotten</td>\n",
       "      <td>Colin Covert</td>\n",
       "      <td>1</td>\n",
       "      <td>Minneapolis Star Tribune</td>\n",
       "      <td>2012-08-23</td>\n",
       "    </tr>\n",
       "    <tr>\n",
       "      <th>55</th>\n",
       "      <td>3</td>\n",
       "      <td>Cosmopolis,\" because of its allegiance to the ...</td>\n",
       "      <td>rotten</td>\n",
       "      <td>Moira MacDonald</td>\n",
       "      <td>1</td>\n",
       "      <td>Seattle Times</td>\n",
       "      <td>2012-08-23</td>\n",
       "    </tr>\n",
       "    <tr>\n",
       "      <th>58</th>\n",
       "      <td>3</td>\n",
       "      <td>Poor Pattinson does the best he can. He's not ...</td>\n",
       "      <td>rotten</td>\n",
       "      <td>Mark Feeney</td>\n",
       "      <td>1</td>\n",
       "      <td>Boston Globe</td>\n",
       "      <td>2012-08-23</td>\n",
       "    </tr>\n",
       "    <tr>\n",
       "      <th>60</th>\n",
       "      <td>3</td>\n",
       "      <td>The story seems to cleave into cerebral disqui...</td>\n",
       "      <td>fresh</td>\n",
       "      <td>J. R. Jones</td>\n",
       "      <td>1</td>\n",
       "      <td>Chicago Reader</td>\n",
       "      <td>2012-08-23</td>\n",
       "    </tr>\n",
       "    <tr>\n",
       "      <th>62</th>\n",
       "      <td>3</td>\n",
       "      <td>The movie isn't for everyone. But if it grabs ...</td>\n",
       "      <td>fresh</td>\n",
       "      <td>Rene Rodriguez</td>\n",
       "      <td>1</td>\n",
       "      <td>Miami Herald</td>\n",
       "      <td>2012-08-23</td>\n",
       "    </tr>\n",
       "    <tr>\n",
       "      <th>64</th>\n",
       "      <td>3</td>\n",
       "      <td>A flawlessly directed film about enigmatic peo...</td>\n",
       "      <td>rotten</td>\n",
       "      <td>Roger Ebert</td>\n",
       "      <td>1</td>\n",
       "      <td>Chicago Sun-Times</td>\n",
       "      <td>2012-08-23</td>\n",
       "    </tr>\n",
       "    <tr>\n",
       "      <th>77</th>\n",
       "      <td>3</td>\n",
       "      <td>Despite the constrictions, Cronenberg keeps th...</td>\n",
       "      <td>fresh</td>\n",
       "      <td>David Denby</td>\n",
       "      <td>1</td>\n",
       "      <td>New Yorker</td>\n",
       "      <td>2012-08-17</td>\n",
       "    </tr>\n",
       "    <tr>\n",
       "      <th>78</th>\n",
       "      <td>3</td>\n",
       "      <td>It is one of the director's better movies of r...</td>\n",
       "      <td>fresh</td>\n",
       "      <td>Bilge Ebiri</td>\n",
       "      <td>1</td>\n",
       "      <td>New York Magazine/Vulture</td>\n",
       "      <td>2012-08-17</td>\n",
       "    </tr>\n",
       "    <tr>\n",
       "      <th>81</th>\n",
       "      <td>3</td>\n",
       "      <td>David Cronenberg meets Don DeLillo at last, an...</td>\n",
       "      <td>rotten</td>\n",
       "      <td>Kyle Smith</td>\n",
       "      <td>1</td>\n",
       "      <td>New York Post</td>\n",
       "      <td>2012-08-17</td>\n",
       "    </tr>\n",
       "    <tr>\n",
       "      <th>83</th>\n",
       "      <td>3</td>\n",
       "      <td>I took a strange pleasure in submitting to thi...</td>\n",
       "      <td>fresh</td>\n",
       "      <td>Dana Stevens</td>\n",
       "      <td>1</td>\n",
       "      <td>Slate</td>\n",
       "      <td>2012-08-16</td>\n",
       "    </tr>\n",
       "    <tr>\n",
       "      <th>86</th>\n",
       "      <td>3</td>\n",
       "      <td>I never imagined describing a film as a cross ...</td>\n",
       "      <td>fresh</td>\n",
       "      <td>Alonso Duralde</td>\n",
       "      <td>1</td>\n",
       "      <td>TheWrap</td>\n",
       "      <td>2012-08-16</td>\n",
       "    </tr>\n",
       "    <tr>\n",
       "      <th>87</th>\n",
       "      <td>3</td>\n",
       "      <td>It's all vapid snark, didactic sermonizing and...</td>\n",
       "      <td>rotten</td>\n",
       "      <td>Claudia Puig</td>\n",
       "      <td>1</td>\n",
       "      <td>USA Today</td>\n",
       "      <td>2012-08-16</td>\n",
       "    </tr>\n",
       "    <tr>\n",
       "      <th>88</th>\n",
       "      <td>3</td>\n",
       "      <td>DeLillo's brilliant analysis of the destructiv...</td>\n",
       "      <td>rotten</td>\n",
       "      <td>Betsy Sharkey</td>\n",
       "      <td>1</td>\n",
       "      <td>Los Angeles Times</td>\n",
       "      <td>2012-08-16</td>\n",
       "    </tr>\n",
       "    <tr>\n",
       "      <th>89</th>\n",
       "      <td>3</td>\n",
       "      <td>It's like a dream that engages and drifts, unt...</td>\n",
       "      <td>fresh</td>\n",
       "      <td>Scott Tobias</td>\n",
       "      <td>1</td>\n",
       "      <td>NPR</td>\n",
       "      <td>2012-08-16</td>\n",
       "    </tr>\n",
       "    <tr>\n",
       "      <th>90</th>\n",
       "      <td>3</td>\n",
       "      <td>Frustratingly bland work from lead Robert Patt...</td>\n",
       "      <td>rotten</td>\n",
       "      <td>Elizabeth Weitzman</td>\n",
       "      <td>1</td>\n",
       "      <td>New York Daily News</td>\n",
       "      <td>2012-08-16</td>\n",
       "    </tr>\n",
       "    <tr>\n",
       "      <th>91</th>\n",
       "      <td>3</td>\n",
       "      <td>Conventional it is not. Engrossing it is.</td>\n",
       "      <td>fresh</td>\n",
       "      <td>John Anderson</td>\n",
       "      <td>1</td>\n",
       "      <td>Wall Street Journal</td>\n",
       "      <td>2012-08-16</td>\n",
       "    </tr>\n",
       "    <tr>\n",
       "      <th>92</th>\n",
       "      <td>3</td>\n",
       "      <td>Mr. Cronenberg's direction throughout \"Cosmopo...</td>\n",
       "      <td>fresh</td>\n",
       "      <td>Manohla Dargis</td>\n",
       "      <td>1</td>\n",
       "      <td>New York Times</td>\n",
       "      <td>2012-08-16</td>\n",
       "    </tr>\n",
       "  </tbody>\n",
       "</table>\n",
       "</div>"
      ],
      "text/plain": [
       "    id                                             review   fresh  \\\n",
       "24   3  The rapid dialogue is dry and mannered, like a...  rotten   \n",
       "47   3  It feels like each and every moment bursts for...  rotten   \n",
       "50   3  There's not really a movie there, nothing that...  rotten   \n",
       "54   3  The film is all too faithful to its un-cinemat...  rotten   \n",
       "55   3  Cosmopolis,\" because of its allegiance to the ...  rotten   \n",
       "58   3  Poor Pattinson does the best he can. He's not ...  rotten   \n",
       "60   3  The story seems to cleave into cerebral disqui...   fresh   \n",
       "62   3  The movie isn't for everyone. But if it grabs ...   fresh   \n",
       "64   3  A flawlessly directed film about enigmatic peo...  rotten   \n",
       "77   3  Despite the constrictions, Cronenberg keeps th...   fresh   \n",
       "78   3  It is one of the director's better movies of r...   fresh   \n",
       "81   3  David Cronenberg meets Don DeLillo at last, an...  rotten   \n",
       "83   3  I took a strange pleasure in submitting to thi...   fresh   \n",
       "86   3  I never imagined describing a film as a cross ...   fresh   \n",
       "87   3  It's all vapid snark, didactic sermonizing and...  rotten   \n",
       "88   3  DeLillo's brilliant analysis of the destructiv...  rotten   \n",
       "89   3  It's like a dream that engages and drifts, unt...   fresh   \n",
       "90   3  Frustratingly bland work from lead Robert Patt...  rotten   \n",
       "91   3          Conventional it is not. Engrossing it is.   fresh   \n",
       "92   3  Mr. Cronenberg's direction throughout \"Cosmopo...   fresh   \n",
       "\n",
       "                critic  top_critic                  publisher       date  \n",
       "24        Joe Williams           1    St. Louis Post-Dispatch 2012-09-06  \n",
       "47     Stephanie Merry           1            Washington Post 2012-08-24  \n",
       "50        Mick LaSalle           1    San Francisco Chronicle 2012-08-23  \n",
       "54        Colin Covert           1   Minneapolis Star Tribune 2012-08-23  \n",
       "55     Moira MacDonald           1              Seattle Times 2012-08-23  \n",
       "58         Mark Feeney           1               Boston Globe 2012-08-23  \n",
       "60         J. R. Jones           1             Chicago Reader 2012-08-23  \n",
       "62      Rene Rodriguez           1               Miami Herald 2012-08-23  \n",
       "64         Roger Ebert           1          Chicago Sun-Times 2012-08-23  \n",
       "77         David Denby           1                 New Yorker 2012-08-17  \n",
       "78         Bilge Ebiri           1  New York Magazine/Vulture 2012-08-17  \n",
       "81          Kyle Smith           1              New York Post 2012-08-17  \n",
       "83        Dana Stevens           1                      Slate 2012-08-16  \n",
       "86      Alonso Duralde           1                    TheWrap 2012-08-16  \n",
       "87        Claudia Puig           1                  USA Today 2012-08-16  \n",
       "88       Betsy Sharkey           1          Los Angeles Times 2012-08-16  \n",
       "89        Scott Tobias           1                        NPR 2012-08-16  \n",
       "90  Elizabeth Weitzman           1        New York Daily News 2012-08-16  \n",
       "91       John Anderson           1        Wall Street Journal 2012-08-16  \n",
       "92      Manohla Dargis           1             New York Times 2012-08-16  "
      ]
     },
     "execution_count": 776,
     "metadata": {},
     "output_type": "execute_result"
    }
   ],
   "source": [
    "movie_reviews_df.head(20)"
   ]
  },
  {
   "attachments": {},
   "cell_type": "markdown",
   "metadata": {},
   "source": [
    "**MOVIE_REVIEW_DF** Analysis:"
   ]
  },
  {
   "attachments": {},
   "cell_type": "markdown",
   "metadata": {},
   "source": [
    "Top_Critics reviews = 4,713"
   ]
  },
  {
   "cell_type": "code",
   "execution_count": 773,
   "metadata": {},
   "outputs": [
    {
     "data": {
      "text/plain": [
       "4713"
      ]
     },
     "execution_count": 773,
     "metadata": {},
     "output_type": "execute_result"
    }
   ],
   "source": [
    "movie_reviews_df['top_critic'].sum()"
   ]
  },
  {
   "attachments": {},
   "cell_type": "markdown",
   "metadata": {},
   "source": [
    "Names of the top 20 critics:"
   ]
  },
  {
   "cell_type": "code",
   "execution_count": 774,
   "metadata": {},
   "outputs": [
    {
     "data": {
      "text/plain": [
       "Owen Gleiberman       127\n",
       "unknown                88\n",
       "Stephen Whitty         74\n",
       "Michael Phillips       73\n",
       "Colin Covert           73\n",
       "Peter Travers          69\n",
       "Rafer Guzman           68\n",
       "Joe Morgenstern        64\n",
       "James Berardinelli     61\n",
       "Mick LaSalle           60\n",
       "Peter Howell           60\n",
       "Bill Goodykoontz       59\n",
       "Peter Rainer           55\n",
       "Claudia Puig           55\n",
       "Lisa Schwarzbaum       55\n",
       "Ty Burr                54\n",
       "Richard Roeper         51\n",
       "Ann Hornaday           47\n",
       "Steven Rea             47\n",
       "Rex Reed               47\n",
       "Name: critic, dtype: int64"
      ]
     },
     "execution_count": 774,
     "metadata": {},
     "output_type": "execute_result"
    }
   ],
   "source": [
    "movie_reviews_df['critic'].value_counts().head(20)"
   ]
  },
  {
   "attachments": {},
   "cell_type": "markdown",
   "metadata": {},
   "source": [
    "Fresh vs. Rotten; \n",
    "\n",
    "- fresh = 60%\n",
    "- Rotten = 40%"
   ]
  },
  {
   "cell_type": "code",
   "execution_count": 775,
   "metadata": {},
   "outputs": [
    {
     "data": {
      "text/plain": [
       "fresh     2818\n",
       "rotten    1895\n",
       "Name: fresh, dtype: int64"
      ]
     },
     "execution_count": 775,
     "metadata": {},
     "output_type": "execute_result"
    }
   ],
   "source": [
    "movie_reviews_df['fresh'].value_counts()"
   ]
  },
  {
   "attachments": {},
   "cell_type": "markdown",
   "metadata": {},
   "source": [
    "---"
   ]
  },
  {
   "attachments": {},
   "cell_type": "markdown",
   "metadata": {},
   "source": [
    "# SQL DATABASE"
   ]
  },
  {
   "attachments": {},
   "cell_type": "markdown",
   "metadata": {},
   "source": [
    "* Unzipping the '**im.db.zip**' file \n",
    "* Connecting to database using '**conn**'\n",
    "* Printing all of the **table names** within the database\n",
    "\n",
    "\n",
    "**Important note**: movie_basics & movie_ratings are the most relevant per instructions"
   ]
  },
  {
   "cell_type": "code",
   "execution_count": null,
   "metadata": {},
   "outputs": [],
   "source": [
    "# Unzip the database file\n",
    "with zipfile.ZipFile('zippedData/im.db.zip', 'r') as zip_ref:\n",
    "    zip_ref.extractall('zippedData')\n",
    "\n",
    "# Connect to the unzipped SQLite database\n",
    "conn = sqlite3.connect('zippedData/im.db')\n",
    "\n",
    "# Run test query\n",
    "q = \"\"\"\n",
    "SELECT tbl_name AS table_name, sql\n",
    "FROM sqlite_master \n",
    "WHERE type='table'\n",
    "ORDER BY name;\n",
    "\"\"\"\n",
    "pd.read_sql(q, conn)"
   ]
  },
  {
   "cell_type": "code",
   "execution_count": null,
   "metadata": {},
   "outputs": [],
   "source": [
    "# Movie Basics\n",
    "q = '''\n",
    "SELECT *\n",
    "FROM movie_basics\n",
    "WHERE original_title LIKE \"Toy%\"\n",
    "LIMIT 3\n",
    ";\n",
    "'''\n",
    "pd.read_sql(q, conn)"
   ]
  },
  {
   "cell_type": "code",
   "execution_count": null,
   "metadata": {},
   "outputs": [],
   "source": []
  },
  {
   "cell_type": "code",
   "execution_count": null,
   "metadata": {},
   "outputs": [],
   "source": [
    "# Moving Ratings\n",
    "q = '''\n",
    "SELECT *\n",
    "FROM movie_ratings\n",
    "LIMIT 3\n",
    ";\n",
    "'''\n",
    "pd.read_sql(q, conn)"
   ]
  },
  {
   "cell_type": "code",
   "execution_count": null,
   "metadata": {},
   "outputs": [],
   "source": [
    "# Directors\n",
    "q = '''\n",
    "SELECT *\n",
    "FROM directors\n",
    "LIMIT 3\n",
    ";\n",
    "'''\n",
    "pd.read_sql(q, conn)"
   ]
  },
  {
   "cell_type": "code",
   "execution_count": null,
   "metadata": {},
   "outputs": [],
   "source": [
    "# Known For\n",
    "q = '''\n",
    "SELECT *\n",
    "FROM known_for\n",
    "LIMIT 3\n",
    ";\n",
    "'''\n",
    "pd.read_sql(q, conn)"
   ]
  },
  {
   "cell_type": "code",
   "execution_count": null,
   "metadata": {},
   "outputs": [],
   "source": [
    "# Movie AKAs\n",
    "q = '''\n",
    "SELECT *\n",
    "FROM movie_akas\n",
    "LIMIT 3\n",
    ";\n",
    "'''\n",
    "pd.read_sql(q, conn)"
   ]
  },
  {
   "cell_type": "code",
   "execution_count": null,
   "metadata": {},
   "outputs": [],
   "source": [
    "# Persons\n",
    "q = '''\n",
    "SELECT *\n",
    "FROM persons\n",
    "LIMIT 3\n",
    ";\n",
    "'''\n",
    "pd.read_sql(q, conn)"
   ]
  },
  {
   "cell_type": "code",
   "execution_count": null,
   "metadata": {},
   "outputs": [],
   "source": [
    "# Pricipals\n",
    "q = '''\n",
    "SELECT *\n",
    "FROM principals\n",
    "LIMIT 3\n",
    ";\n",
    "'''\n",
    "pd.read_sql(q, conn)"
   ]
  },
  {
   "cell_type": "code",
   "execution_count": null,
   "metadata": {},
   "outputs": [],
   "source": [
    "# Writers\n",
    "q = '''\n",
    "SELECT *\n",
    "FROM writers\n",
    "LIMIT 3\n",
    ";\n",
    "'''\n",
    "pd.read_sql(q, conn)"
   ]
  },
  {
   "attachments": {},
   "cell_type": "markdown",
   "metadata": {},
   "source": [
    "---"
   ]
  },
  {
   "cell_type": "code",
   "execution_count": null,
   "metadata": {},
   "outputs": [],
   "source": [
    "# joined file\n",
    "q = '''\n",
    "SELECT *\n",
    "FROM movie_basics mb\n",
    "JOIN directors dr USING(movie_id)\n",
    "JOIN principals pr USING(movie_id)\n",
    "JOIN persons p USING(person_id)\n",
    "JOIN movie_ratings mr USING(movie_id)\n",
    "WHERE death_year IS NULL\n",
    "GROUP BY movie_id\n",
    "ORDER BY start_year\n",
    ";\n",
    "'''\n",
    "pd.read_sql(q, conn)"
   ]
  },
  {
   "cell_type": "code",
   "execution_count": null,
   "metadata": {},
   "outputs": [],
   "source": []
  },
  {
   "attachments": {},
   "cell_type": "markdown",
   "metadata": {},
   "source": [
    "# Filtering"
   ]
  }
 ],
 "metadata": {
  "kernelspec": {
   "display_name": "learn-env",
   "language": "python",
   "name": "python3"
  },
  "language_info": {
   "codemirror_mode": {
    "name": "ipython",
    "version": 3
   },
   "file_extension": ".py",
   "mimetype": "text/x-python",
   "name": "python",
   "nbconvert_exporter": "python",
   "pygments_lexer": "ipython3",
   "version": "3.8.5"
  },
  "orig_nbformat": 4
 },
 "nbformat": 4,
 "nbformat_minor": 2
}
